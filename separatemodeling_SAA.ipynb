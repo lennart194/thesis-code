{
  "nbformat": 4,
  "nbformat_minor": 0,
  "metadata": {
    "colab": {
      "name": "separatemodeling_SAA.ipynb",
      "provenance": [],
      "authorship_tag": "ABX9TyMzj0Q4YxmJRjx9OP+1c/T+",
      "include_colab_link": true
    },
    "kernelspec": {
      "name": "python3",
      "display_name": "Python 3"
    },
    "language_info": {
      "name": "python"
    }
  },
  "cells": [
    {
      "cell_type": "markdown",
      "metadata": {
        "id": "view-in-github",
        "colab_type": "text"
      },
      "source": [
        "<a href=\"https://colab.research.google.com/github/lennart194/thesis-code/blob/main/separatemodeling_SAA.ipynb\" target=\"_parent\"><img src=\"https://colab.research.google.com/assets/colab-badge.svg\" alt=\"Open In Colab\"/></a>"
      ]
    },
    {
      "cell_type": "code",
      "execution_count": null,
      "metadata": {
        "id": "IZyjEZLtzvpB"
      },
      "outputs": [],
      "source": [
        "pip install ddop"
      ]
    },
    {
      "cell_type": "code",
      "source": [
        "import pandas as pd\n",
        "import numpy as np\n",
        "\n",
        "from ddop.newsvendor import SampleAverageApproximationNewsvendor\n",
        "\n",
        "from ddop.metrics import prescriptiveness_score\n",
        "from ddop.metrics import average_costs"
      ],
      "metadata": {
        "id": "K0tLgBKS0ccW"
      },
      "execution_count": null,
      "outputs": []
    },
    {
      "cell_type": "code",
      "source": [
        "from google.colab import drive\n",
        "drive.mount('/content/drive')"
      ],
      "metadata": {
        "colab": {
          "base_uri": "https://localhost:8080/"
        },
        "id": "Ni94TXrL1X8L",
        "outputId": "9ca6acf2-f9c2-41fd-f4af-06156886417d"
      },
      "execution_count": null,
      "outputs": [
        {
          "output_type": "stream",
          "name": "stdout",
          "text": [
            "Mounted at /content/drive\n"
          ]
        }
      ]
    },
    {
      "cell_type": "code",
      "source": [
        "data = pd.read_csv('/content/drive/MyDrive/M5/ultimative_set.csv')\n",
        "data = data.drop(columns=['Unnamed: 0'])\n",
        "data = data.sort_values(by=['item_id', 'date'])\n",
        "data = data.set_index(['item_id', 'date'])"
      ],
      "metadata": {
        "id": "_lWI1qbO1kkq"
      },
      "execution_count": null,
      "outputs": []
    },
    {
      "cell_type": "code",
      "source": [
        "X = data.drop(columns=['demand'])\n",
        "Y = data['demand']"
      ],
      "metadata": {
        "id": "rqkT4k6P1sf0"
      },
      "execution_count": null,
      "outputs": []
    },
    {
      "cell_type": "code",
      "source": [
        "X_train = X.loc[(slice(None), slice(None, \"2015\")), :]\n",
        "X_test = X.loc[(slice(None), slice(\"2015\", '2017')), :]\n",
        "\n",
        "Y_train = Y.loc[(slice(None), slice(None, \"2015\"))]\n",
        "Y_test = Y.loc[(slice(None), slice(\"2015\", \"2017\"))]"
      ],
      "metadata": {
        "id": "AK9bCSkd1uu3"
      },
      "execution_count": null,
      "outputs": []
    },
    {
      "cell_type": "code",
      "source": [
        "prods = list(range(0,25))"
      ],
      "metadata": {
        "id": "U_PE1xe41ysd"
      },
      "execution_count": null,
      "outputs": []
    },
    {
      "cell_type": "markdown",
      "source": [
        "# SAA alpha = 0.95"
      ],
      "metadata": {
        "id": "Rljp0QN275gG"
      }
    },
    {
      "cell_type": "code",
      "source": [
        "result_saa = []\n",
        "for prod in prods:\n",
        "  cu = X_train.loc[prod]['sell_price'].mean()\n",
        "  co_95 = co = ((cu-(0.95*cu))/0.95)\n",
        "  \n",
        "  saa = SampleAverageApproximationNewsvendor(cu = cu, co = co_95)\n",
        "  saa.fit(Y_train.loc[prod])\n",
        "  preds = saa.predict(n_steps = 508)\n",
        "  avc = round(average_costs(Y_test.loc[prod], preds, cu = cu, co = co_95),2)\n",
        "  result_saa.append(avc)"
      ],
      "metadata": {
        "id": "oNc5J9fD14Hj"
      },
      "execution_count": null,
      "outputs": []
    },
    {
      "cell_type": "code",
      "source": [
        "SAA_separate_avc_95 = pd.DataFrame(result_saa, columns=['SAA_avc_95'])\n",
        "SAA_separate_avc_95.index.name = 'item_id'"
      ],
      "metadata": {
        "id": "hlSJkpfN6_s1"
      },
      "execution_count": null,
      "outputs": []
    },
    {
      "cell_type": "markdown",
      "source": [
        "# SAA alpha = 0.9"
      ],
      "metadata": {
        "id": "7bz7u4Q_8DBB"
      }
    },
    {
      "cell_type": "code",
      "source": [
        "result_saa_90 = []\n",
        "for prod in prods:\n",
        "  cu = X_train.loc[prod]['sell_price'].mean()\n",
        "  co_90 = co = ((cu-(0.9*cu))/0.9)\n",
        "  \n",
        "  saa = SampleAverageApproximationNewsvendor(cu = cu, co = co_90)\n",
        "  saa.fit(Y_train.loc[prod])\n",
        "  preds = saa.predict(n_steps = 508)\n",
        "  avc = round(average_costs(Y_test.loc[prod], preds, cu = cu, co = co_90),2)\n",
        "  result_saa_90.append(avc)"
      ],
      "metadata": {
        "id": "uu8TpeeM8HIT"
      },
      "execution_count": null,
      "outputs": []
    },
    {
      "cell_type": "code",
      "source": [
        "SAA_separate_avc_90 = pd.DataFrame(result_saa, columns=['SAA_avc_90'])\n",
        "SAA_separate_avc_90.index.name = 'item_id'"
      ],
      "metadata": {
        "id": "2wn7YfDa8UMD"
      },
      "execution_count": null,
      "outputs": []
    },
    {
      "cell_type": "markdown",
      "source": [
        "# SAA alpha = 0.75"
      ],
      "metadata": {
        "id": "89lZzEeD8n19"
      }
    },
    {
      "cell_type": "code",
      "source": [
        "result_saa_75 = []\n",
        "for prod in prods:\n",
        "  cu = X_train.loc[prod]['sell_price'].mean()\n",
        "  co_75 = co = ((cu-(0.75*cu))/0.75)\n",
        "  \n",
        "  saa = SampleAverageApproximationNewsvendor(cu = cu, co = co_75)\n",
        "  saa.fit(Y_train.loc[prod])\n",
        "  preds = saa.predict(n_steps = 508)\n",
        "  avc = round(average_costs(Y_test.loc[prod], preds, cu = cu, co = co_75),2)\n",
        "  result_saa_75.append(avc)"
      ],
      "metadata": {
        "id": "sMh2Iz0I8utR"
      },
      "execution_count": null,
      "outputs": []
    },
    {
      "cell_type": "code",
      "source": [
        "SAA_separate_avc_75 = pd.DataFrame(result_saa, columns=['SAA_avc_75'])\n",
        "SAA_separate_avc_75.index.name = 'item_id'"
      ],
      "metadata": {
        "id": "Qhj1GufP83yR"
      },
      "execution_count": null,
      "outputs": []
    },
    {
      "cell_type": "markdown",
      "source": [
        "# SAA alpha = 0.5"
      ],
      "metadata": {
        "id": "F-1sPcy09R8-"
      }
    },
    {
      "cell_type": "code",
      "source": [
        "result_saa_50 = []\n",
        "for prod in prods:\n",
        "  cu = X_train.loc[prod]['sell_price'].mean()\n",
        "  co_50 = co = ((cu-(0.50*cu))/0.50)\n",
        "  \n",
        "  saa = SampleAverageApproximationNewsvendor(cu = cu, co = co_50)\n",
        "  saa.fit(Y_train.loc[prod])\n",
        "  preds = saa.predict(n_steps = 508)\n",
        "  avc = round(average_costs(Y_test.loc[prod], preds, cu = cu, co = co_50),2)\n",
        "  result_saa_50.append(avc)"
      ],
      "metadata": {
        "id": "_nHfc1yE9TFl"
      },
      "execution_count": null,
      "outputs": []
    },
    {
      "cell_type": "code",
      "source": [
        "SAA_separate_avc_50 = pd.DataFrame(result_saa, columns=['SAA_avc_50'])\n",
        "SAA_separate_avc_50.index.name = 'item_id'"
      ],
      "metadata": {
        "id": "ysOmxfS49g3T"
      },
      "execution_count": null,
      "outputs": []
    },
    {
      "cell_type": "markdown",
      "source": [
        "# fit together"
      ],
      "metadata": {
        "id": "NzmxjSMD-xhm"
      }
    },
    {
      "cell_type": "code",
      "source": [
        "SAA_separated = pd.concat([SAA_separate_avc_95, SAA_separate_avc_90, SAA_separate_avc_75, SAA_separate_avc_50], axis=1)"
      ],
      "metadata": {
        "id": "sNTSbgeQ-wYd"
      },
      "execution_count": null,
      "outputs": []
    },
    {
      "cell_type": "code",
      "source": [
        "SAA_separated.to_csv('/content/drive/MyDrive/M5/final_set.csv')"
      ],
      "metadata": {
        "colab": {
          "base_uri": "https://localhost:8080/",
          "height": 865
        },
        "id": "lfTO85BS-5q7",
        "outputId": "f22135ee-121f-46f3-f8d1-1d243d6955dc"
      },
      "execution_count": null,
      "outputs": [
        {
          "output_type": "execute_result",
          "data": {
            "text/plain": [
              "         SAA_avc_95  SAA_avc_90  SAA_avc_75  SAA_avc_50\n",
              "item_id                                                \n",
              "0              1.01        1.01        1.01        1.01\n",
              "1              0.98        0.98        0.98        0.98\n",
              "2              1.64        1.64        1.64        1.64\n",
              "3              8.20        8.20        8.20        8.20\n",
              "4              1.79        1.79        1.79        1.79\n",
              "5              1.10        1.10        1.10        1.10\n",
              "6              1.39        1.39        1.39        1.39\n",
              "7              1.90        1.90        1.90        1.90\n",
              "8              0.84        0.84        0.84        0.84\n",
              "9              0.78        0.78        0.78        0.78\n",
              "10             3.58        3.58        3.58        3.58\n",
              "11             0.87        0.87        0.87        0.87\n",
              "12             1.46        1.46        1.46        1.46\n",
              "13             1.48        1.48        1.48        1.48\n",
              "14             1.45        1.45        1.45        1.45\n",
              "15             1.79        1.79        1.79        1.79\n",
              "16             0.48        0.48        0.48        0.48\n",
              "17             1.81        1.81        1.81        1.81\n",
              "18             3.53        3.53        3.53        3.53\n",
              "19             0.72        0.72        0.72        0.72\n",
              "20             1.70        1.70        1.70        1.70\n",
              "21             1.95        1.95        1.95        1.95\n",
              "22             5.06        5.06        5.06        5.06\n",
              "23             2.44        2.44        2.44        2.44\n",
              "24             2.28        2.28        2.28        2.28"
            ],
            "text/html": [
              "\n",
              "  <div id=\"df-8ea8b7c9-f52a-4a34-af03-f7128af3f1ed\">\n",
              "    <div class=\"colab-df-container\">\n",
              "      <div>\n",
              "<style scoped>\n",
              "    .dataframe tbody tr th:only-of-type {\n",
              "        vertical-align: middle;\n",
              "    }\n",
              "\n",
              "    .dataframe tbody tr th {\n",
              "        vertical-align: top;\n",
              "    }\n",
              "\n",
              "    .dataframe thead th {\n",
              "        text-align: right;\n",
              "    }\n",
              "</style>\n",
              "<table border=\"1\" class=\"dataframe\">\n",
              "  <thead>\n",
              "    <tr style=\"text-align: right;\">\n",
              "      <th></th>\n",
              "      <th>SAA_avc_95</th>\n",
              "      <th>SAA_avc_90</th>\n",
              "      <th>SAA_avc_75</th>\n",
              "      <th>SAA_avc_50</th>\n",
              "    </tr>\n",
              "    <tr>\n",
              "      <th>item_id</th>\n",
              "      <th></th>\n",
              "      <th></th>\n",
              "      <th></th>\n",
              "      <th></th>\n",
              "    </tr>\n",
              "  </thead>\n",
              "  <tbody>\n",
              "    <tr>\n",
              "      <th>0</th>\n",
              "      <td>1.01</td>\n",
              "      <td>1.01</td>\n",
              "      <td>1.01</td>\n",
              "      <td>1.01</td>\n",
              "    </tr>\n",
              "    <tr>\n",
              "      <th>1</th>\n",
              "      <td>0.98</td>\n",
              "      <td>0.98</td>\n",
              "      <td>0.98</td>\n",
              "      <td>0.98</td>\n",
              "    </tr>\n",
              "    <tr>\n",
              "      <th>2</th>\n",
              "      <td>1.64</td>\n",
              "      <td>1.64</td>\n",
              "      <td>1.64</td>\n",
              "      <td>1.64</td>\n",
              "    </tr>\n",
              "    <tr>\n",
              "      <th>3</th>\n",
              "      <td>8.20</td>\n",
              "      <td>8.20</td>\n",
              "      <td>8.20</td>\n",
              "      <td>8.20</td>\n",
              "    </tr>\n",
              "    <tr>\n",
              "      <th>4</th>\n",
              "      <td>1.79</td>\n",
              "      <td>1.79</td>\n",
              "      <td>1.79</td>\n",
              "      <td>1.79</td>\n",
              "    </tr>\n",
              "    <tr>\n",
              "      <th>5</th>\n",
              "      <td>1.10</td>\n",
              "      <td>1.10</td>\n",
              "      <td>1.10</td>\n",
              "      <td>1.10</td>\n",
              "    </tr>\n",
              "    <tr>\n",
              "      <th>6</th>\n",
              "      <td>1.39</td>\n",
              "      <td>1.39</td>\n",
              "      <td>1.39</td>\n",
              "      <td>1.39</td>\n",
              "    </tr>\n",
              "    <tr>\n",
              "      <th>7</th>\n",
              "      <td>1.90</td>\n",
              "      <td>1.90</td>\n",
              "      <td>1.90</td>\n",
              "      <td>1.90</td>\n",
              "    </tr>\n",
              "    <tr>\n",
              "      <th>8</th>\n",
              "      <td>0.84</td>\n",
              "      <td>0.84</td>\n",
              "      <td>0.84</td>\n",
              "      <td>0.84</td>\n",
              "    </tr>\n",
              "    <tr>\n",
              "      <th>9</th>\n",
              "      <td>0.78</td>\n",
              "      <td>0.78</td>\n",
              "      <td>0.78</td>\n",
              "      <td>0.78</td>\n",
              "    </tr>\n",
              "    <tr>\n",
              "      <th>10</th>\n",
              "      <td>3.58</td>\n",
              "      <td>3.58</td>\n",
              "      <td>3.58</td>\n",
              "      <td>3.58</td>\n",
              "    </tr>\n",
              "    <tr>\n",
              "      <th>11</th>\n",
              "      <td>0.87</td>\n",
              "      <td>0.87</td>\n",
              "      <td>0.87</td>\n",
              "      <td>0.87</td>\n",
              "    </tr>\n",
              "    <tr>\n",
              "      <th>12</th>\n",
              "      <td>1.46</td>\n",
              "      <td>1.46</td>\n",
              "      <td>1.46</td>\n",
              "      <td>1.46</td>\n",
              "    </tr>\n",
              "    <tr>\n",
              "      <th>13</th>\n",
              "      <td>1.48</td>\n",
              "      <td>1.48</td>\n",
              "      <td>1.48</td>\n",
              "      <td>1.48</td>\n",
              "    </tr>\n",
              "    <tr>\n",
              "      <th>14</th>\n",
              "      <td>1.45</td>\n",
              "      <td>1.45</td>\n",
              "      <td>1.45</td>\n",
              "      <td>1.45</td>\n",
              "    </tr>\n",
              "    <tr>\n",
              "      <th>15</th>\n",
              "      <td>1.79</td>\n",
              "      <td>1.79</td>\n",
              "      <td>1.79</td>\n",
              "      <td>1.79</td>\n",
              "    </tr>\n",
              "    <tr>\n",
              "      <th>16</th>\n",
              "      <td>0.48</td>\n",
              "      <td>0.48</td>\n",
              "      <td>0.48</td>\n",
              "      <td>0.48</td>\n",
              "    </tr>\n",
              "    <tr>\n",
              "      <th>17</th>\n",
              "      <td>1.81</td>\n",
              "      <td>1.81</td>\n",
              "      <td>1.81</td>\n",
              "      <td>1.81</td>\n",
              "    </tr>\n",
              "    <tr>\n",
              "      <th>18</th>\n",
              "      <td>3.53</td>\n",
              "      <td>3.53</td>\n",
              "      <td>3.53</td>\n",
              "      <td>3.53</td>\n",
              "    </tr>\n",
              "    <tr>\n",
              "      <th>19</th>\n",
              "      <td>0.72</td>\n",
              "      <td>0.72</td>\n",
              "      <td>0.72</td>\n",
              "      <td>0.72</td>\n",
              "    </tr>\n",
              "    <tr>\n",
              "      <th>20</th>\n",
              "      <td>1.70</td>\n",
              "      <td>1.70</td>\n",
              "      <td>1.70</td>\n",
              "      <td>1.70</td>\n",
              "    </tr>\n",
              "    <tr>\n",
              "      <th>21</th>\n",
              "      <td>1.95</td>\n",
              "      <td>1.95</td>\n",
              "      <td>1.95</td>\n",
              "      <td>1.95</td>\n",
              "    </tr>\n",
              "    <tr>\n",
              "      <th>22</th>\n",
              "      <td>5.06</td>\n",
              "      <td>5.06</td>\n",
              "      <td>5.06</td>\n",
              "      <td>5.06</td>\n",
              "    </tr>\n",
              "    <tr>\n",
              "      <th>23</th>\n",
              "      <td>2.44</td>\n",
              "      <td>2.44</td>\n",
              "      <td>2.44</td>\n",
              "      <td>2.44</td>\n",
              "    </tr>\n",
              "    <tr>\n",
              "      <th>24</th>\n",
              "      <td>2.28</td>\n",
              "      <td>2.28</td>\n",
              "      <td>2.28</td>\n",
              "      <td>2.28</td>\n",
              "    </tr>\n",
              "  </tbody>\n",
              "</table>\n",
              "</div>\n",
              "      <button class=\"colab-df-convert\" onclick=\"convertToInteractive('df-8ea8b7c9-f52a-4a34-af03-f7128af3f1ed')\"\n",
              "              title=\"Convert this dataframe to an interactive table.\"\n",
              "              style=\"display:none;\">\n",
              "        \n",
              "  <svg xmlns=\"http://www.w3.org/2000/svg\" height=\"24px\"viewBox=\"0 0 24 24\"\n",
              "       width=\"24px\">\n",
              "    <path d=\"M0 0h24v24H0V0z\" fill=\"none\"/>\n",
              "    <path d=\"M18.56 5.44l.94 2.06.94-2.06 2.06-.94-2.06-.94-.94-2.06-.94 2.06-2.06.94zm-11 1L8.5 8.5l.94-2.06 2.06-.94-2.06-.94L8.5 2.5l-.94 2.06-2.06.94zm10 10l.94 2.06.94-2.06 2.06-.94-2.06-.94-.94-2.06-.94 2.06-2.06.94z\"/><path d=\"M17.41 7.96l-1.37-1.37c-.4-.4-.92-.59-1.43-.59-.52 0-1.04.2-1.43.59L10.3 9.45l-7.72 7.72c-.78.78-.78 2.05 0 2.83L4 21.41c.39.39.9.59 1.41.59.51 0 1.02-.2 1.41-.59l7.78-7.78 2.81-2.81c.8-.78.8-2.07 0-2.86zM5.41 20L4 18.59l7.72-7.72 1.47 1.35L5.41 20z\"/>\n",
              "  </svg>\n",
              "      </button>\n",
              "      \n",
              "  <style>\n",
              "    .colab-df-container {\n",
              "      display:flex;\n",
              "      flex-wrap:wrap;\n",
              "      gap: 12px;\n",
              "    }\n",
              "\n",
              "    .colab-df-convert {\n",
              "      background-color: #E8F0FE;\n",
              "      border: none;\n",
              "      border-radius: 50%;\n",
              "      cursor: pointer;\n",
              "      display: none;\n",
              "      fill: #1967D2;\n",
              "      height: 32px;\n",
              "      padding: 0 0 0 0;\n",
              "      width: 32px;\n",
              "    }\n",
              "\n",
              "    .colab-df-convert:hover {\n",
              "      background-color: #E2EBFA;\n",
              "      box-shadow: 0px 1px 2px rgba(60, 64, 67, 0.3), 0px 1px 3px 1px rgba(60, 64, 67, 0.15);\n",
              "      fill: #174EA6;\n",
              "    }\n",
              "\n",
              "    [theme=dark] .colab-df-convert {\n",
              "      background-color: #3B4455;\n",
              "      fill: #D2E3FC;\n",
              "    }\n",
              "\n",
              "    [theme=dark] .colab-df-convert:hover {\n",
              "      background-color: #434B5C;\n",
              "      box-shadow: 0px 1px 3px 1px rgba(0, 0, 0, 0.15);\n",
              "      filter: drop-shadow(0px 1px 2px rgba(0, 0, 0, 0.3));\n",
              "      fill: #FFFFFF;\n",
              "    }\n",
              "  </style>\n",
              "\n",
              "      <script>\n",
              "        const buttonEl =\n",
              "          document.querySelector('#df-8ea8b7c9-f52a-4a34-af03-f7128af3f1ed button.colab-df-convert');\n",
              "        buttonEl.style.display =\n",
              "          google.colab.kernel.accessAllowed ? 'block' : 'none';\n",
              "\n",
              "        async function convertToInteractive(key) {\n",
              "          const element = document.querySelector('#df-8ea8b7c9-f52a-4a34-af03-f7128af3f1ed');\n",
              "          const dataTable =\n",
              "            await google.colab.kernel.invokeFunction('convertToInteractive',\n",
              "                                                     [key], {});\n",
              "          if (!dataTable) return;\n",
              "\n",
              "          const docLinkHtml = 'Like what you see? Visit the ' +\n",
              "            '<a target=\"_blank\" href=https://colab.research.google.com/notebooks/data_table.ipynb>data table notebook</a>'\n",
              "            + ' to learn more about interactive tables.';\n",
              "          element.innerHTML = '';\n",
              "          dataTable['output_type'] = 'display_data';\n",
              "          await google.colab.output.renderOutput(dataTable, element);\n",
              "          const docLink = document.createElement('div');\n",
              "          docLink.innerHTML = docLinkHtml;\n",
              "          element.appendChild(docLink);\n",
              "        }\n",
              "      </script>\n",
              "    </div>\n",
              "  </div>\n",
              "  "
            ]
          },
          "metadata": {},
          "execution_count": 59
        }
      ]
    }
  ]
}