{
  "cells": [
    {
      "cell_type": "markdown",
      "metadata": {
        "id": "view-in-github",
        "colab_type": "text"
      },
      "source": [
        "<a href=\"https://colab.research.google.com/github/lennart194/thesis-code/blob/main/pooling_knn.ipynb\" target=\"_parent\"><img src=\"https://colab.research.google.com/assets/colab-badge.svg\" alt=\"Open In Colab\"/></a>"
      ]
    },
    {
      "cell_type": "code",
      "execution_count": null,
      "metadata": {
        "id": "Bz28u8aTnTb3"
      },
      "outputs": [],
      "source": [
        "pip install ddop"
      ]
    },
    {
      "cell_type": "code",
      "execution_count": 2,
      "metadata": {
        "id": "j4n99seyntGf"
      },
      "outputs": [],
      "source": [
        "import numpy as np\n",
        "import pandas as pd\n",
        "\n",
        "from ddop.newsvendor import KNeighborsWeightedNewsvendor\n",
        "from ddop.newsvendor import SampleAverageApproximationNewsvendor\n",
        "\n",
        "from sklearn.model_selection import RandomizedSearchCV\n",
        "\n",
        "from ddop.metrics import average_costs\n",
        "from ddop.metrics import prescriptiveness_score\n",
        "from ddop.metrics import make_scorer"
      ]
    },
    {
      "cell_type": "code",
      "execution_count": 3,
      "metadata": {
        "colab": {
          "base_uri": "https://localhost:8080/"
        },
        "id": "bGqKJI7rov1N",
        "outputId": "260b91b9-7c18-41ab-cb47-4e77c6b163d1"
      },
      "outputs": [
        {
          "output_type": "stream",
          "name": "stdout",
          "text": [
            "Mounted at /content/drive\n"
          ]
        }
      ],
      "source": [
        "from google.colab import drive\n",
        "drive.mount('/content/drive')"
      ]
    },
    {
      "cell_type": "markdown",
      "source": [
        "## loading data-set\n",
        "\n",
        "\n",
        "---\n",
        "\n",
        "\n",
        "\n",
        "*   load the whole ultimative set\n",
        "*   sort the rows first by item, then by date and set a multi index\n",
        "**now every items time series can be separated by the index**"
      ],
      "metadata": {
        "id": "TL02Yx403Nzs"
      }
    },
    {
      "cell_type": "code",
      "execution_count": 4,
      "metadata": {
        "id": "0JKxN-CZpmD-"
      },
      "outputs": [],
      "source": [
        "data = pd.read_csv('/content/drive/MyDrive/M5/ultimative_set.csv')\n",
        "data = data.drop(columns=['Unnamed: 0'])\n",
        "data = data.sort_values(by=['item_id', 'date'])\n",
        "data = data.set_index(['item_id', 'date'])"
      ]
    },
    {
      "cell_type": "markdown",
      "source": [
        "## split in feature and target matrix\n",
        "\n",
        "\n",
        "---\n",
        "\n"
      ],
      "metadata": {
        "id": "BfwtjYCl3TAZ"
      }
    },
    {
      "cell_type": "code",
      "execution_count": 5,
      "metadata": {
        "id": "NJdodA9NqZGw"
      },
      "outputs": [],
      "source": [
        "X = data.drop(columns=['demand'])\n",
        "Y = data['demand']"
      ]
    },
    {
      "cell_type": "markdown",
      "source": [
        "## train_test_split\n",
        "\n",
        "\n",
        "---"
      ],
      "metadata": {
        "id": "GnY6xMe13WXE"
      }
    },
    {
      "cell_type": "code",
      "execution_count": 6,
      "metadata": {
        "id": "uKN_I3TSs-d-"
      },
      "outputs": [],
      "source": [
        "X_train = X.loc[(slice(None), slice(None, \"2015\")), :]\n",
        "X_test = X.loc[(slice(None), slice(\"2015\", '2017')), :]\n",
        "\n",
        "Y_train = Y.loc[(slice(None), slice(None, \"2015\"))]\n",
        "Y_test = Y.loc[(slice(None), slice(\"2015\", \"2017\"))]"
      ]
    },
    {
      "cell_type": "markdown",
      "source": [
        "## new order after the split\n",
        "\n",
        "\n",
        "---\n",
        "\n",
        "\n",
        "\n",
        "*   for the product pooling the whole data must be be sorted by date independent from the 'item_id'\n",
        "*   therefore sort values by 'date' in the first instance and by 'item_id' in the second \n",
        "*   these two instances create the mutli-index of the target matrix (Y)\n",
        "*   as all items are in one set now the 'item_id' becomes a feature in the feature matrix (X). The only index is the date here."
      ],
      "metadata": {
        "id": "Cz0dCl403Z5k"
      }
    },
    {
      "cell_type": "code",
      "execution_count": 7,
      "metadata": {
        "id": "hvAFdMirwz8l"
      },
      "outputs": [],
      "source": [
        "X_train = X_train.reset_index().sort_values(by=['date', 'item_id']).set_index(['date'])\n",
        "X_test = X_test.reset_index().sort_values(by=['date', 'item_id']).set_index(['date'])\n",
        "\n",
        "Y_train = Y_train.reset_index().sort_values(by=['date', 'item_id']).set_index(['date', 'item_id'])\n",
        "Y_test = Y_test.reset_index().sort_values(by=['date', 'item_id']).set_index(['date', 'item_id'])"
      ]
    },
    {
      "cell_type": "markdown",
      "source": [
        "## defining the different cost paramerters for special service level and product range\n",
        "\n",
        "\n",
        "\n",
        "---\n",
        "\n",
        "\n",
        "\n",
        "*   cu is the mean of the cumulated 'sell_price' column of the training data\n",
        "*   appending to the corresponding service level co is calculated with (cu - α * cu) / α\n",
        "*   all the costs are rounded to 2 digits"
      ],
      "metadata": {
        "id": "v75Ie6Ee3g-E"
      }
    },
    {
      "cell_type": "code",
      "execution_count": 8,
      "metadata": {
        "id": "ssr_tpg9xpOe"
      },
      "outputs": [],
      "source": [
        "prods = list(range(0,25))\n",
        "\n",
        "cu = round(X_train['sell_price'].mean(),2)\n",
        "\n",
        "co_90 = round(((cu-(0.90*cu))/0.90),2)\n",
        "\n",
        "co_75 = round(((cu-(0.75*cu))/0.75),2)\n",
        "\n",
        "co_50 = round(((cu-(0.50*cu))/0.50),2)"
      ]
    },
    {
      "cell_type": "markdown",
      "source": [
        "## determining some parameters\n",
        "\n",
        "\n",
        "---\n",
        "\n",
        "\n",
        "*   the potential range of the params for randomized search are defined\n",
        "*   the estimator, the scorer and finally the whole param_random is defined"
      ],
      "metadata": {
        "id": "vzMsn1fu3pC5"
      }
    },
    {
      "cell_type": "code",
      "execution_count": null,
      "metadata": {
        "id": "_xkQMS9iPBSN"
      },
      "outputs": [],
      "source": [
        "k = np.arange(25,66)\n",
        "param_random = dict(n_neighbors = k)\n",
        "\n",
        "scorer_avc = make_scorer(average_costs, greater_is_better=False)"
      ]
    },
    {
      "cell_type": "markdown",
      "source": [
        "# knn for 90% service level\n",
        "\n",
        "\n",
        "---\n",
        "\n",
        "\n",
        "\n",
        "\n",
        "\n",
        "\n",
        "## randomized search\n",
        "\n",
        "\n",
        "\n",
        "\n",
        "*   randomized serach is done once for the entire data-set with the corresponding service level costs\n",
        "*   this step was done with the server of the University of Würzburg because of the high resource consumption \n",
        "*   the results for the best params are: n_neighbors = 46 \n",
        "\n",
        "\n"
      ],
      "metadata": {
        "id": "1WL2-2lB4yRP"
      }
    },
    {
      "cell_type": "code",
      "execution_count": null,
      "metadata": {
        "id": "hKw-I6uLPqDZ"
      },
      "outputs": [],
      "source": [
        "knn = KNeighborsWeightedNewsvendor(cu = cu, co = co_90)\n",
        "random = RandomizedSearchCV(knn, param_random, cv=5, scoring = scorer_avc, n_jobs=8)\n",
        "random.fit(X_train, Y_train)\n",
        "print(random.best_params_)"
      ]
    },
    {
      "cell_type": "markdown",
      "source": [
        "## newsvendor-model 90%\n",
        "\n",
        "\n",
        "\n",
        "---\n",
        "\n",
        "\n",
        "\n",
        "*   the model is trained and tested once for entire data-set with the best hyperparameters\n",
        "*   the prediction is the output\n",
        "\n"
      ],
      "metadata": {
        "id": "a-xQJf8s5xKG"
      }
    },
    {
      "cell_type": "code",
      "execution_count": 9,
      "metadata": {
        "id": "DRa-j4bp0D1w"
      },
      "outputs": [],
      "source": [
        "knn = KNeighborsWeightedNewsvendor(cu = cu, co = co_90, n_neighbors = 46)\n",
        "\n",
        "knn.fit(X_train, Y_train)\n",
        "preds_90 = knn.predict(X_test)"
      ]
    },
    {
      "cell_type": "markdown",
      "source": [
        "## reorder the data\n",
        "\n",
        "\n",
        "\n",
        "\n",
        "---\n",
        "\n",
        "\n",
        "\n",
        "*   create a pandas frame 'comp_90' where the real values, the predictions and the predictions from the saa model are in columns next to each other"
      ],
      "metadata": {
        "id": "Xx7m4RGy7O_O"
      }
    },
    {
      "cell_type": "code",
      "execution_count": 10,
      "metadata": {
        "id": "BSrrtBwf8Pt-"
      },
      "outputs": [],
      "source": [
        "pred_90 = pd.DataFrame(preds_90, columns=['pred_knn_90'])\n",
        "comp_90 = Y.loc[(slice(None), slice(\"2015\", \"2017\"))].reset_index().sort_values(by=['date', 'item_id']).set_index('date')\n",
        "comp_90 = comp_90.reset_index()\n",
        "comp_90['pred_knn_90'] = pred_90[['pred_knn_90']]\n",
        "comp_90 = comp_90.sort_values(by=['item_id', 'date']).set_index(['item_id', 'date'])\n",
        "\n",
        "saa_90 = pd.read_csv('/content/drive/MyDrive/M5/SAA_pred_90.csv').set_index(['item_id', 'date'])\n",
        "\n",
        "comp_90 = pd.concat([comp_90, saa_90], axis = 1)"
      ]
    },
    {
      "cell_type": "markdown",
      "source": [
        "## average costs and prescriptivess score\n",
        "\n",
        "\n",
        "---\n",
        "\n",
        "\n",
        "\n",
        "*   create a loop where the average_costs (the prescriptivess score) of each item are calculated\n",
        "\n",
        "*   save the results into a pandas frame\n"
      ],
      "metadata": {
        "id": "MnYi6H5g6UJp"
      }
    },
    {
      "cell_type": "code",
      "execution_count": 29,
      "metadata": {
        "id": "wmISUTUY89p5"
      },
      "outputs": [],
      "source": [
        "result_knn_90_avc = []\n",
        "\n",
        "for prod in prods:\n",
        "  avc = round(average_costs(comp_90['demand'].loc[prod], comp_90['pred_knn_90'].loc[prod], cu = cu, co = co_90),2)\n",
        "  result_knn_90_avc.append(avc)"
      ]
    },
    {
      "cell_type": "code",
      "execution_count": 30,
      "metadata": {
        "id": "e74Jn-Kf9bFy"
      },
      "outputs": [],
      "source": [
        "KNN_pooled_avc_90 = pd.DataFrame(result_knn_90_avc, columns=['KNN_avc_90'])\n",
        "KNN_pooled_avc_90.index.name = 'item_id'"
      ]
    },
    {
      "cell_type": "code",
      "source": [
        "result_knn_90_pscr = []\n",
        "\n",
        "for prod in prods:\n",
        "  pscr = round(prescriptiveness_score(comp_90['demand'].loc[prod], comp_90['pred_knn_90'].loc[prod],\n",
        "                                      comp_90['SAA_pred_90'].loc[prod], cu = cu, co = co_90),2)\n",
        "  result_knn_90_pscr.append(pscr)"
      ],
      "metadata": {
        "id": "PlDTE7ccMnF_"
      },
      "execution_count": 40,
      "outputs": []
    },
    {
      "cell_type": "code",
      "source": [
        "KNN_pooled_pscr_90 = pd.DataFrame(result_knn_90_pscr, columns=['KNN_pscr_90'])\n",
        "KNN_pooled_pscr_90.index.name = 'item_id'"
      ],
      "metadata": {
        "id": "tSxRIwxQQOtU"
      },
      "execution_count": 41,
      "outputs": []
    },
    {
      "cell_type": "markdown",
      "source": [
        "# knn for 75% service level\n",
        "\n",
        "\n",
        "---\n",
        "\n",
        "\n",
        "\n",
        "\n",
        "\n",
        "\n",
        "## randomized search\n",
        "\n",
        "\n",
        "\n",
        "\n",
        "*   randomized serach is done once for the entire data-set with the corresponding service level costs\n",
        "*   this step was done with the server of the University of Würzburg because of the high resource consumption \n",
        "*   the results for the best params are: n_neighbors = 65\n"
      ],
      "metadata": {
        "id": "7NzHE_-u69Cn"
      }
    },
    {
      "cell_type": "code",
      "source": [
        "knn = KNeighborsWeightedNewsvendor(cu = cu, co = co_75)\n",
        "random = RandomizedSearchCV(knn, param_random, cv=5, scoring = scorer_avc, n_jobs=8)\n",
        "random.fit(X_train, Y_train)\n",
        "print(random.best_params_)"
      ],
      "metadata": {
        "id": "jZnAMd2o7AhD"
      },
      "execution_count": null,
      "outputs": []
    },
    {
      "cell_type": "markdown",
      "source": [
        "## newsvendor-model 75%\n",
        "\n",
        "\n",
        "\n",
        "---\n",
        "\n",
        "\n",
        "\n",
        "*   the model is trained and tested once for entire data-set with the best hyperparameters\n",
        "*   the prediction is the output"
      ],
      "metadata": {
        "id": "sdiq2Y2K7cAa"
      }
    },
    {
      "cell_type": "code",
      "source": [
        "knn = KNeighborsWeightedNewsvendor(cu = cu, co = co_75, n_neighbors = 65)\n",
        "\n",
        "knn.fit(X_train, Y_train)\n",
        "preds_75 = knn.predict(X_test)"
      ],
      "metadata": {
        "id": "PiC4xaUn7ecC"
      },
      "execution_count": 44,
      "outputs": []
    },
    {
      "cell_type": "markdown",
      "source": [
        "## reorder the data\n",
        "\n",
        "\n",
        "\n",
        "\n",
        "---\n",
        "\n",
        "\n",
        "\n",
        "*   create a pandas frame 'comp_75' where the real values, the predictions and the predictions from the saa model are in columns next to each other"
      ],
      "metadata": {
        "id": "wyQf-93O7o47"
      }
    },
    {
      "cell_type": "code",
      "source": [
        "pred_75 = pd.DataFrame(preds_75, columns=['pred_knn_75'])\n",
        "comp_75 = Y.loc[(slice(None), slice(\"2015\", \"2017\"))].reset_index().sort_values(by=['date', 'item_id']).set_index('date')\n",
        "comp_75 = comp_75.reset_index()\n",
        "comp_75['pred_knn_75'] = pred_75[['pred_knn_75']]\n",
        "comp_75 = comp_75.set_index(['item_id', 'date'])\n",
        "\n",
        "saa_75 = pd.read_csv('/content/drive/MyDrive/M5/SAA_pred_75.csv').set_index(['item_id', 'date'])\n",
        "\n",
        "comp_75 = pd.concat([comp_75, saa_75], axis = 1)"
      ],
      "metadata": {
        "id": "9Bp-zpLU7m-J"
      },
      "execution_count": 47,
      "outputs": []
    },
    {
      "cell_type": "markdown",
      "source": [
        "## average costs and prescriptivess score\n",
        "\n",
        "\n",
        "---\n",
        "\n",
        "\n",
        "\n",
        "*   create a loop where the average_costs (the prescriptivess score) of each item are calculated\n",
        "\n",
        "*   save the results into a pandas frame\n"
      ],
      "metadata": {
        "id": "zTt14UK_8I5G"
      }
    },
    {
      "cell_type": "code",
      "source": [
        "result_knn_75_avc = []\n",
        "\n",
        "for prod in prods:\n",
        "  avc = round(average_costs(comp_75['demand'].loc[prod], comp_75['pred_knn_75'].loc[prod], cu = cu, co = co_75),2)\n",
        "  result_knn_75_avc.append(avc)"
      ],
      "metadata": {
        "id": "3-XSr00A8Jkn"
      },
      "execution_count": 50,
      "outputs": []
    },
    {
      "cell_type": "code",
      "source": [
        "KNN_pooled_avc_75 = pd.DataFrame(result_knn_75_avc, columns=['KNN_avc_75'])\n",
        "KNN_pooled_avc_75.index.name = 'item_id'"
      ],
      "metadata": {
        "id": "P_en0Taf8hF-"
      },
      "execution_count": 51,
      "outputs": []
    },
    {
      "cell_type": "code",
      "source": [
        "result_knn_75_pscr = []\n",
        "\n",
        "for prod in prods:\n",
        "  pscr = round(prescriptiveness_score(comp_75['demand'].loc[prod], comp_75['pred_knn_75'].loc[prod],\n",
        "                                      comp_75['SAA_pred_75'].loc[prod], cu = cu, co = co_75),2)\n",
        "  result_knn_75_pscr.append(pscr)"
      ],
      "metadata": {
        "id": "GO7JLKuFSBiD"
      },
      "execution_count": 53,
      "outputs": []
    },
    {
      "cell_type": "code",
      "source": [
        "KNN_pooled_pscr_75 = pd.DataFrame(result_knn_75_pscr, columns=['KNN_pscr_75'])\n",
        "KNN_pooled_pscr_75.index.name = 'item_id'"
      ],
      "metadata": {
        "id": "0TZ1ML-ESPX8"
      },
      "execution_count": 54,
      "outputs": []
    },
    {
      "cell_type": "markdown",
      "source": [
        "# knn for 50% service level\n",
        "\n",
        "\n",
        "---\n",
        "\n",
        "\n",
        "\n",
        "\n",
        "\n",
        "\n",
        "## randomized search\n",
        "\n",
        "\n",
        "\n",
        "\n",
        "*   randomized serach is done once for the entire data-set with the corresponding service level costs\n",
        "*   this step was done with the server of the University of Würzburg because of the high resource consumption \n",
        "*   the results for the best params are: n_neighbors = 61"
      ],
      "metadata": {
        "id": "gQ_fkhrC8rGE"
      }
    },
    {
      "cell_type": "code",
      "source": [
        "knn = KNeighborsWeightedNewsvendor(cu = cu, co = co_50)\n",
        "random = RandomizedSearchCV(knn, param_random, cv=5, scoring = scorer_avc, n_jobs=8)\n",
        "random.fit(X_train, Y_train)\n",
        "print(random.best_params_)"
      ],
      "metadata": {
        "id": "ljrgu-4t8uBu"
      },
      "execution_count": null,
      "outputs": []
    },
    {
      "cell_type": "markdown",
      "source": [
        "## newsvendor-model 50%\n",
        "\n",
        "\n",
        "\n",
        "---\n",
        "\n",
        "\n",
        "\n",
        "*   the model is trained and tested once for entire data-set with the best hyperparameters\n",
        "*   the prediction is the output"
      ],
      "metadata": {
        "id": "stR_8oc7848W"
      }
    },
    {
      "cell_type": "code",
      "source": [
        "knn = KNeighborsWeightedNewsvendor(cu = cu, co = co_50, n_neighbors = 61)\n",
        "\n",
        "knn.fit(X_train, Y_train)\n",
        "preds_50 = knn.predict(X_test)"
      ],
      "metadata": {
        "id": "jDZtY-m_89j_"
      },
      "execution_count": 56,
      "outputs": []
    },
    {
      "cell_type": "markdown",
      "source": [
        "## reorder the data\n",
        "\n",
        "\n",
        "\n",
        "\n",
        "---\n",
        "\n",
        "\n",
        "\n",
        "*   create a pandas frame 'comp_50' where the real values, the predictions and the predictions from the saa model are in columns next to each other"
      ],
      "metadata": {
        "id": "ibY9F0DK9L7y"
      }
    },
    {
      "cell_type": "code",
      "source": [
        "pred_50 = pd.DataFrame(preds_50, columns=['pred_knn_50'])\n",
        "comp_50 = Y.loc[(slice(None), slice(\"2015\", \"2017\"))].reset_index().sort_values(by=['date', 'item_id']).set_index('date')\n",
        "comp_50 = comp_50.reset_index()\n",
        "comp_50['pred_knn_50'] = pred_50[['pred_knn_50']]\n",
        "comp_50 = comp_50.set_index(['item_id', 'date'])\n",
        "\n",
        "saa_50 = pd.read_csv('/content/drive/MyDrive/M5/SAA_pred_50.csv').set_index(['item_id', 'date'])\n",
        "\n",
        "comp_50 = pd.concat([comp_50, saa_50], axis = 1)"
      ],
      "metadata": {
        "id": "R0iFX46I9JIA"
      },
      "execution_count": 57,
      "outputs": []
    },
    {
      "cell_type": "markdown",
      "source": [
        "## average costs and prescriptivess score\n",
        "\n",
        "\n",
        "---\n",
        "\n",
        "\n",
        "\n",
        "*   create a loop where the average_costs (the prescriptivess score) of each item are calculated\n",
        "\n",
        "*   save the results into a pandas frame\n"
      ],
      "metadata": {
        "id": "R7ncvu6I9Zqn"
      }
    },
    {
      "cell_type": "code",
      "source": [
        "result_knn_50_avc = []\n",
        "\n",
        "for prod in prods:\n",
        "  avc = round(average_costs(comp_50['demand'].loc[prod], comp_50['pred_knn_50'].loc[prod], cu = cu, co = co_50),2)\n",
        "  result_knn_50_avc.append(avc)"
      ],
      "metadata": {
        "id": "MWzHGL9a9ePO"
      },
      "execution_count": 58,
      "outputs": []
    },
    {
      "cell_type": "code",
      "source": [
        "KNN_pooled_avc_50 = pd.DataFrame(result_knn_50_avc, columns=['KNN_avc_50'])\n",
        "KNN_pooled_avc_50.index.name = 'item_id'"
      ],
      "metadata": {
        "id": "Uv3mYsqD9oUv"
      },
      "execution_count": 59,
      "outputs": []
    },
    {
      "cell_type": "code",
      "source": [
        "result_knn_50_pscr = []\n",
        "\n",
        "for prod in prods:\n",
        "  pscr = round(prescriptiveness_score(comp_50['demand'].loc[prod], comp_50['pred_knn_50'].loc[prod],\n",
        "                                      comp_50['SAA_pred_50'].loc[prod], cu = cu, co = co_50),2)\n",
        "  result_knn_50_pscr.append(pscr)"
      ],
      "metadata": {
        "id": "H4Qs8N2NS-wa"
      },
      "execution_count": 60,
      "outputs": []
    },
    {
      "cell_type": "code",
      "source": [
        "KNN_pooled_pscr_50 = pd.DataFrame(result_knn_50_pscr, columns=['KNN_pscr_50'])\n",
        "KNN_pooled_pscr_50.index.name = 'item_id'"
      ],
      "metadata": {
        "id": "zxs-lSTHTLxR"
      },
      "execution_count": 61,
      "outputs": []
    },
    {
      "cell_type": "markdown",
      "source": [
        "# merge the pandas frames\n",
        "\n",
        "\n",
        "---\n",
        "\n"
      ],
      "metadata": {
        "id": "Eq-TP-Ee90vs"
      }
    },
    {
      "cell_type": "code",
      "source": [
        "KNN_pooled_avc = pd.concat([KNN_pooled_avc_90, KNN_pooled_avc_75, KNN_pooled_avc_50], axis=1)\n",
        "KNN_pooled_avc"
      ],
      "metadata": {
        "id": "VTAeOYwV91go",
        "colab": {
          "base_uri": "https://localhost:8080/",
          "height": 864
        },
        "outputId": "3ebbf2c2-0482-4079-bda9-9bda9886ea37"
      },
      "execution_count": 62,
      "outputs": [
        {
          "output_type": "execute_result",
          "data": {
            "text/plain": [
              "         KNN_avc_90  KNN_avc_75  KNN_avc_50\n",
              "item_id                                    \n",
              "0              2.39        5.26        9.02\n",
              "1              0.99        2.11        3.62\n",
              "2              2.18        4.69        7.76\n",
              "3              1.75        4.04        7.40\n",
              "4              2.20        4.87        9.29\n",
              "5              1.31        2.92        4.94\n",
              "6              1.65        3.78        6.86\n",
              "7              1.54        3.56        6.80\n",
              "8              1.23        2.70        4.98\n",
              "9              1.21        2.71        4.95\n",
              "10             5.67       12.76       22.86\n",
              "11             1.32        2.92        5.16\n",
              "12             2.04        4.61        8.60\n",
              "13             0.82        1.81        3.02\n",
              "14             2.22        5.00        9.45\n",
              "15             1.38        3.03        5.36\n",
              "16             0.83        1.94        3.56\n",
              "17             3.05        6.81       12.62\n",
              "18             6.76       14.56       25.54\n",
              "19             1.11        2.45        4.22\n",
              "20             2.12        5.01        8.85\n",
              "21             1.72        3.93        6.98\n",
              "22             2.45        5.56        9.76\n",
              "23             3.69        8.24       14.97\n",
              "24             2.05        4.59        8.41"
            ],
            "text/html": [
              "\n",
              "  <div id=\"df-7f03b739-b8aa-4935-834b-adcc0401f7ce\">\n",
              "    <div class=\"colab-df-container\">\n",
              "      <div>\n",
              "<style scoped>\n",
              "    .dataframe tbody tr th:only-of-type {\n",
              "        vertical-align: middle;\n",
              "    }\n",
              "\n",
              "    .dataframe tbody tr th {\n",
              "        vertical-align: top;\n",
              "    }\n",
              "\n",
              "    .dataframe thead th {\n",
              "        text-align: right;\n",
              "    }\n",
              "</style>\n",
              "<table border=\"1\" class=\"dataframe\">\n",
              "  <thead>\n",
              "    <tr style=\"text-align: right;\">\n",
              "      <th></th>\n",
              "      <th>KNN_avc_90</th>\n",
              "      <th>KNN_avc_75</th>\n",
              "      <th>KNN_avc_50</th>\n",
              "    </tr>\n",
              "    <tr>\n",
              "      <th>item_id</th>\n",
              "      <th></th>\n",
              "      <th></th>\n",
              "      <th></th>\n",
              "    </tr>\n",
              "  </thead>\n",
              "  <tbody>\n",
              "    <tr>\n",
              "      <th>0</th>\n",
              "      <td>2.39</td>\n",
              "      <td>5.26</td>\n",
              "      <td>9.02</td>\n",
              "    </tr>\n",
              "    <tr>\n",
              "      <th>1</th>\n",
              "      <td>0.99</td>\n",
              "      <td>2.11</td>\n",
              "      <td>3.62</td>\n",
              "    </tr>\n",
              "    <tr>\n",
              "      <th>2</th>\n",
              "      <td>2.18</td>\n",
              "      <td>4.69</td>\n",
              "      <td>7.76</td>\n",
              "    </tr>\n",
              "    <tr>\n",
              "      <th>3</th>\n",
              "      <td>1.75</td>\n",
              "      <td>4.04</td>\n",
              "      <td>7.40</td>\n",
              "    </tr>\n",
              "    <tr>\n",
              "      <th>4</th>\n",
              "      <td>2.20</td>\n",
              "      <td>4.87</td>\n",
              "      <td>9.29</td>\n",
              "    </tr>\n",
              "    <tr>\n",
              "      <th>5</th>\n",
              "      <td>1.31</td>\n",
              "      <td>2.92</td>\n",
              "      <td>4.94</td>\n",
              "    </tr>\n",
              "    <tr>\n",
              "      <th>6</th>\n",
              "      <td>1.65</td>\n",
              "      <td>3.78</td>\n",
              "      <td>6.86</td>\n",
              "    </tr>\n",
              "    <tr>\n",
              "      <th>7</th>\n",
              "      <td>1.54</td>\n",
              "      <td>3.56</td>\n",
              "      <td>6.80</td>\n",
              "    </tr>\n",
              "    <tr>\n",
              "      <th>8</th>\n",
              "      <td>1.23</td>\n",
              "      <td>2.70</td>\n",
              "      <td>4.98</td>\n",
              "    </tr>\n",
              "    <tr>\n",
              "      <th>9</th>\n",
              "      <td>1.21</td>\n",
              "      <td>2.71</td>\n",
              "      <td>4.95</td>\n",
              "    </tr>\n",
              "    <tr>\n",
              "      <th>10</th>\n",
              "      <td>5.67</td>\n",
              "      <td>12.76</td>\n",
              "      <td>22.86</td>\n",
              "    </tr>\n",
              "    <tr>\n",
              "      <th>11</th>\n",
              "      <td>1.32</td>\n",
              "      <td>2.92</td>\n",
              "      <td>5.16</td>\n",
              "    </tr>\n",
              "    <tr>\n",
              "      <th>12</th>\n",
              "      <td>2.04</td>\n",
              "      <td>4.61</td>\n",
              "      <td>8.60</td>\n",
              "    </tr>\n",
              "    <tr>\n",
              "      <th>13</th>\n",
              "      <td>0.82</td>\n",
              "      <td>1.81</td>\n",
              "      <td>3.02</td>\n",
              "    </tr>\n",
              "    <tr>\n",
              "      <th>14</th>\n",
              "      <td>2.22</td>\n",
              "      <td>5.00</td>\n",
              "      <td>9.45</td>\n",
              "    </tr>\n",
              "    <tr>\n",
              "      <th>15</th>\n",
              "      <td>1.38</td>\n",
              "      <td>3.03</td>\n",
              "      <td>5.36</td>\n",
              "    </tr>\n",
              "    <tr>\n",
              "      <th>16</th>\n",
              "      <td>0.83</td>\n",
              "      <td>1.94</td>\n",
              "      <td>3.56</td>\n",
              "    </tr>\n",
              "    <tr>\n",
              "      <th>17</th>\n",
              "      <td>3.05</td>\n",
              "      <td>6.81</td>\n",
              "      <td>12.62</td>\n",
              "    </tr>\n",
              "    <tr>\n",
              "      <th>18</th>\n",
              "      <td>6.76</td>\n",
              "      <td>14.56</td>\n",
              "      <td>25.54</td>\n",
              "    </tr>\n",
              "    <tr>\n",
              "      <th>19</th>\n",
              "      <td>1.11</td>\n",
              "      <td>2.45</td>\n",
              "      <td>4.22</td>\n",
              "    </tr>\n",
              "    <tr>\n",
              "      <th>20</th>\n",
              "      <td>2.12</td>\n",
              "      <td>5.01</td>\n",
              "      <td>8.85</td>\n",
              "    </tr>\n",
              "    <tr>\n",
              "      <th>21</th>\n",
              "      <td>1.72</td>\n",
              "      <td>3.93</td>\n",
              "      <td>6.98</td>\n",
              "    </tr>\n",
              "    <tr>\n",
              "      <th>22</th>\n",
              "      <td>2.45</td>\n",
              "      <td>5.56</td>\n",
              "      <td>9.76</td>\n",
              "    </tr>\n",
              "    <tr>\n",
              "      <th>23</th>\n",
              "      <td>3.69</td>\n",
              "      <td>8.24</td>\n",
              "      <td>14.97</td>\n",
              "    </tr>\n",
              "    <tr>\n",
              "      <th>24</th>\n",
              "      <td>2.05</td>\n",
              "      <td>4.59</td>\n",
              "      <td>8.41</td>\n",
              "    </tr>\n",
              "  </tbody>\n",
              "</table>\n",
              "</div>\n",
              "      <button class=\"colab-df-convert\" onclick=\"convertToInteractive('df-7f03b739-b8aa-4935-834b-adcc0401f7ce')\"\n",
              "              title=\"Convert this dataframe to an interactive table.\"\n",
              "              style=\"display:none;\">\n",
              "        \n",
              "  <svg xmlns=\"http://www.w3.org/2000/svg\" height=\"24px\"viewBox=\"0 0 24 24\"\n",
              "       width=\"24px\">\n",
              "    <path d=\"M0 0h24v24H0V0z\" fill=\"none\"/>\n",
              "    <path d=\"M18.56 5.44l.94 2.06.94-2.06 2.06-.94-2.06-.94-.94-2.06-.94 2.06-2.06.94zm-11 1L8.5 8.5l.94-2.06 2.06-.94-2.06-.94L8.5 2.5l-.94 2.06-2.06.94zm10 10l.94 2.06.94-2.06 2.06-.94-2.06-.94-.94-2.06-.94 2.06-2.06.94z\"/><path d=\"M17.41 7.96l-1.37-1.37c-.4-.4-.92-.59-1.43-.59-.52 0-1.04.2-1.43.59L10.3 9.45l-7.72 7.72c-.78.78-.78 2.05 0 2.83L4 21.41c.39.39.9.59 1.41.59.51 0 1.02-.2 1.41-.59l7.78-7.78 2.81-2.81c.8-.78.8-2.07 0-2.86zM5.41 20L4 18.59l7.72-7.72 1.47 1.35L5.41 20z\"/>\n",
              "  </svg>\n",
              "      </button>\n",
              "      \n",
              "  <style>\n",
              "    .colab-df-container {\n",
              "      display:flex;\n",
              "      flex-wrap:wrap;\n",
              "      gap: 12px;\n",
              "    }\n",
              "\n",
              "    .colab-df-convert {\n",
              "      background-color: #E8F0FE;\n",
              "      border: none;\n",
              "      border-radius: 50%;\n",
              "      cursor: pointer;\n",
              "      display: none;\n",
              "      fill: #1967D2;\n",
              "      height: 32px;\n",
              "      padding: 0 0 0 0;\n",
              "      width: 32px;\n",
              "    }\n",
              "\n",
              "    .colab-df-convert:hover {\n",
              "      background-color: #E2EBFA;\n",
              "      box-shadow: 0px 1px 2px rgba(60, 64, 67, 0.3), 0px 1px 3px 1px rgba(60, 64, 67, 0.15);\n",
              "      fill: #174EA6;\n",
              "    }\n",
              "\n",
              "    [theme=dark] .colab-df-convert {\n",
              "      background-color: #3B4455;\n",
              "      fill: #D2E3FC;\n",
              "    }\n",
              "\n",
              "    [theme=dark] .colab-df-convert:hover {\n",
              "      background-color: #434B5C;\n",
              "      box-shadow: 0px 1px 3px 1px rgba(0, 0, 0, 0.15);\n",
              "      filter: drop-shadow(0px 1px 2px rgba(0, 0, 0, 0.3));\n",
              "      fill: #FFFFFF;\n",
              "    }\n",
              "  </style>\n",
              "\n",
              "      <script>\n",
              "        const buttonEl =\n",
              "          document.querySelector('#df-7f03b739-b8aa-4935-834b-adcc0401f7ce button.colab-df-convert');\n",
              "        buttonEl.style.display =\n",
              "          google.colab.kernel.accessAllowed ? 'block' : 'none';\n",
              "\n",
              "        async function convertToInteractive(key) {\n",
              "          const element = document.querySelector('#df-7f03b739-b8aa-4935-834b-adcc0401f7ce');\n",
              "          const dataTable =\n",
              "            await google.colab.kernel.invokeFunction('convertToInteractive',\n",
              "                                                     [key], {});\n",
              "          if (!dataTable) return;\n",
              "\n",
              "          const docLinkHtml = 'Like what you see? Visit the ' +\n",
              "            '<a target=\"_blank\" href=https://colab.research.google.com/notebooks/data_table.ipynb>data table notebook</a>'\n",
              "            + ' to learn more about interactive tables.';\n",
              "          element.innerHTML = '';\n",
              "          dataTable['output_type'] = 'display_data';\n",
              "          await google.colab.output.renderOutput(dataTable, element);\n",
              "          const docLink = document.createElement('div');\n",
              "          docLink.innerHTML = docLinkHtml;\n",
              "          element.appendChild(docLink);\n",
              "        }\n",
              "      </script>\n",
              "    </div>\n",
              "  </div>\n",
              "  "
            ]
          },
          "metadata": {},
          "execution_count": 62
        }
      ]
    },
    {
      "cell_type": "code",
      "source": [
        "KNN_pooled_pscr = pd.concat([KNN_pooled_pscr_90, KNN_pooled_pscr_75, KNN_pooled_pscr_50], axis=1)\n",
        "KNN_pooled_pscr"
      ],
      "metadata": {
        "colab": {
          "base_uri": "https://localhost:8080/",
          "height": 864
        },
        "id": "hd7SBekkTUXr",
        "outputId": "982e69e0-9c12-4566-e819-315868e0ab64"
      },
      "execution_count": 63,
      "outputs": [
        {
          "output_type": "execute_result",
          "data": {
            "text/plain": [
              "         KNN_pscr_90  KNN_pscr_75  KNN_pscr_50\n",
              "item_id                                       \n",
              "0               0.36         0.30         0.28\n",
              "1               0.45         0.47         0.43\n",
              "2               0.25         0.16         0.16\n",
              "3               0.67         0.60         0.52\n",
              "4               0.32         0.21         0.17\n",
              "5               0.37         0.31         0.23\n",
              "6               0.50         0.47         0.42\n",
              "7               0.44         0.26         0.15\n",
              "8               0.37         0.27         0.22\n",
              "9               0.34         0.32         0.25\n",
              "10              0.33         0.21         0.17\n",
              "11              0.36         0.29         0.28\n",
              "12              0.40         0.36         0.32\n",
              "13              0.54         0.44         0.32\n",
              "14              0.28         0.23         0.27\n",
              "15              0.21         0.13         0.09\n",
              "16              0.21         0.17         0.11\n",
              "17              0.26         0.17         0.12\n",
              "18              0.21         0.18         0.17\n",
              "19              0.39         0.29         0.21\n",
              "20              0.47         0.41         0.37\n",
              "21              0.27         0.13         0.14\n",
              "22              0.58         0.47         0.38\n",
              "23              0.37         0.28         0.23\n",
              "24              0.34         0.24         0.26"
            ],
            "text/html": [
              "\n",
              "  <div id=\"df-d4b3ebdb-27da-47e6-93ee-eee2044b7730\">\n",
              "    <div class=\"colab-df-container\">\n",
              "      <div>\n",
              "<style scoped>\n",
              "    .dataframe tbody tr th:only-of-type {\n",
              "        vertical-align: middle;\n",
              "    }\n",
              "\n",
              "    .dataframe tbody tr th {\n",
              "        vertical-align: top;\n",
              "    }\n",
              "\n",
              "    .dataframe thead th {\n",
              "        text-align: right;\n",
              "    }\n",
              "</style>\n",
              "<table border=\"1\" class=\"dataframe\">\n",
              "  <thead>\n",
              "    <tr style=\"text-align: right;\">\n",
              "      <th></th>\n",
              "      <th>KNN_pscr_90</th>\n",
              "      <th>KNN_pscr_75</th>\n",
              "      <th>KNN_pscr_50</th>\n",
              "    </tr>\n",
              "    <tr>\n",
              "      <th>item_id</th>\n",
              "      <th></th>\n",
              "      <th></th>\n",
              "      <th></th>\n",
              "    </tr>\n",
              "  </thead>\n",
              "  <tbody>\n",
              "    <tr>\n",
              "      <th>0</th>\n",
              "      <td>0.36</td>\n",
              "      <td>0.30</td>\n",
              "      <td>0.28</td>\n",
              "    </tr>\n",
              "    <tr>\n",
              "      <th>1</th>\n",
              "      <td>0.45</td>\n",
              "      <td>0.47</td>\n",
              "      <td>0.43</td>\n",
              "    </tr>\n",
              "    <tr>\n",
              "      <th>2</th>\n",
              "      <td>0.25</td>\n",
              "      <td>0.16</td>\n",
              "      <td>0.16</td>\n",
              "    </tr>\n",
              "    <tr>\n",
              "      <th>3</th>\n",
              "      <td>0.67</td>\n",
              "      <td>0.60</td>\n",
              "      <td>0.52</td>\n",
              "    </tr>\n",
              "    <tr>\n",
              "      <th>4</th>\n",
              "      <td>0.32</td>\n",
              "      <td>0.21</td>\n",
              "      <td>0.17</td>\n",
              "    </tr>\n",
              "    <tr>\n",
              "      <th>5</th>\n",
              "      <td>0.37</td>\n",
              "      <td>0.31</td>\n",
              "      <td>0.23</td>\n",
              "    </tr>\n",
              "    <tr>\n",
              "      <th>6</th>\n",
              "      <td>0.50</td>\n",
              "      <td>0.47</td>\n",
              "      <td>0.42</td>\n",
              "    </tr>\n",
              "    <tr>\n",
              "      <th>7</th>\n",
              "      <td>0.44</td>\n",
              "      <td>0.26</td>\n",
              "      <td>0.15</td>\n",
              "    </tr>\n",
              "    <tr>\n",
              "      <th>8</th>\n",
              "      <td>0.37</td>\n",
              "      <td>0.27</td>\n",
              "      <td>0.22</td>\n",
              "    </tr>\n",
              "    <tr>\n",
              "      <th>9</th>\n",
              "      <td>0.34</td>\n",
              "      <td>0.32</td>\n",
              "      <td>0.25</td>\n",
              "    </tr>\n",
              "    <tr>\n",
              "      <th>10</th>\n",
              "      <td>0.33</td>\n",
              "      <td>0.21</td>\n",
              "      <td>0.17</td>\n",
              "    </tr>\n",
              "    <tr>\n",
              "      <th>11</th>\n",
              "      <td>0.36</td>\n",
              "      <td>0.29</td>\n",
              "      <td>0.28</td>\n",
              "    </tr>\n",
              "    <tr>\n",
              "      <th>12</th>\n",
              "      <td>0.40</td>\n",
              "      <td>0.36</td>\n",
              "      <td>0.32</td>\n",
              "    </tr>\n",
              "    <tr>\n",
              "      <th>13</th>\n",
              "      <td>0.54</td>\n",
              "      <td>0.44</td>\n",
              "      <td>0.32</td>\n",
              "    </tr>\n",
              "    <tr>\n",
              "      <th>14</th>\n",
              "      <td>0.28</td>\n",
              "      <td>0.23</td>\n",
              "      <td>0.27</td>\n",
              "    </tr>\n",
              "    <tr>\n",
              "      <th>15</th>\n",
              "      <td>0.21</td>\n",
              "      <td>0.13</td>\n",
              "      <td>0.09</td>\n",
              "    </tr>\n",
              "    <tr>\n",
              "      <th>16</th>\n",
              "      <td>0.21</td>\n",
              "      <td>0.17</td>\n",
              "      <td>0.11</td>\n",
              "    </tr>\n",
              "    <tr>\n",
              "      <th>17</th>\n",
              "      <td>0.26</td>\n",
              "      <td>0.17</td>\n",
              "      <td>0.12</td>\n",
              "    </tr>\n",
              "    <tr>\n",
              "      <th>18</th>\n",
              "      <td>0.21</td>\n",
              "      <td>0.18</td>\n",
              "      <td>0.17</td>\n",
              "    </tr>\n",
              "    <tr>\n",
              "      <th>19</th>\n",
              "      <td>0.39</td>\n",
              "      <td>0.29</td>\n",
              "      <td>0.21</td>\n",
              "    </tr>\n",
              "    <tr>\n",
              "      <th>20</th>\n",
              "      <td>0.47</td>\n",
              "      <td>0.41</td>\n",
              "      <td>0.37</td>\n",
              "    </tr>\n",
              "    <tr>\n",
              "      <th>21</th>\n",
              "      <td>0.27</td>\n",
              "      <td>0.13</td>\n",
              "      <td>0.14</td>\n",
              "    </tr>\n",
              "    <tr>\n",
              "      <th>22</th>\n",
              "      <td>0.58</td>\n",
              "      <td>0.47</td>\n",
              "      <td>0.38</td>\n",
              "    </tr>\n",
              "    <tr>\n",
              "      <th>23</th>\n",
              "      <td>0.37</td>\n",
              "      <td>0.28</td>\n",
              "      <td>0.23</td>\n",
              "    </tr>\n",
              "    <tr>\n",
              "      <th>24</th>\n",
              "      <td>0.34</td>\n",
              "      <td>0.24</td>\n",
              "      <td>0.26</td>\n",
              "    </tr>\n",
              "  </tbody>\n",
              "</table>\n",
              "</div>\n",
              "      <button class=\"colab-df-convert\" onclick=\"convertToInteractive('df-d4b3ebdb-27da-47e6-93ee-eee2044b7730')\"\n",
              "              title=\"Convert this dataframe to an interactive table.\"\n",
              "              style=\"display:none;\">\n",
              "        \n",
              "  <svg xmlns=\"http://www.w3.org/2000/svg\" height=\"24px\"viewBox=\"0 0 24 24\"\n",
              "       width=\"24px\">\n",
              "    <path d=\"M0 0h24v24H0V0z\" fill=\"none\"/>\n",
              "    <path d=\"M18.56 5.44l.94 2.06.94-2.06 2.06-.94-2.06-.94-.94-2.06-.94 2.06-2.06.94zm-11 1L8.5 8.5l.94-2.06 2.06-.94-2.06-.94L8.5 2.5l-.94 2.06-2.06.94zm10 10l.94 2.06.94-2.06 2.06-.94-2.06-.94-.94-2.06-.94 2.06-2.06.94z\"/><path d=\"M17.41 7.96l-1.37-1.37c-.4-.4-.92-.59-1.43-.59-.52 0-1.04.2-1.43.59L10.3 9.45l-7.72 7.72c-.78.78-.78 2.05 0 2.83L4 21.41c.39.39.9.59 1.41.59.51 0 1.02-.2 1.41-.59l7.78-7.78 2.81-2.81c.8-.78.8-2.07 0-2.86zM5.41 20L4 18.59l7.72-7.72 1.47 1.35L5.41 20z\"/>\n",
              "  </svg>\n",
              "      </button>\n",
              "      \n",
              "  <style>\n",
              "    .colab-df-container {\n",
              "      display:flex;\n",
              "      flex-wrap:wrap;\n",
              "      gap: 12px;\n",
              "    }\n",
              "\n",
              "    .colab-df-convert {\n",
              "      background-color: #E8F0FE;\n",
              "      border: none;\n",
              "      border-radius: 50%;\n",
              "      cursor: pointer;\n",
              "      display: none;\n",
              "      fill: #1967D2;\n",
              "      height: 32px;\n",
              "      padding: 0 0 0 0;\n",
              "      width: 32px;\n",
              "    }\n",
              "\n",
              "    .colab-df-convert:hover {\n",
              "      background-color: #E2EBFA;\n",
              "      box-shadow: 0px 1px 2px rgba(60, 64, 67, 0.3), 0px 1px 3px 1px rgba(60, 64, 67, 0.15);\n",
              "      fill: #174EA6;\n",
              "    }\n",
              "\n",
              "    [theme=dark] .colab-df-convert {\n",
              "      background-color: #3B4455;\n",
              "      fill: #D2E3FC;\n",
              "    }\n",
              "\n",
              "    [theme=dark] .colab-df-convert:hover {\n",
              "      background-color: #434B5C;\n",
              "      box-shadow: 0px 1px 3px 1px rgba(0, 0, 0, 0.15);\n",
              "      filter: drop-shadow(0px 1px 2px rgba(0, 0, 0, 0.3));\n",
              "      fill: #FFFFFF;\n",
              "    }\n",
              "  </style>\n",
              "\n",
              "      <script>\n",
              "        const buttonEl =\n",
              "          document.querySelector('#df-d4b3ebdb-27da-47e6-93ee-eee2044b7730 button.colab-df-convert');\n",
              "        buttonEl.style.display =\n",
              "          google.colab.kernel.accessAllowed ? 'block' : 'none';\n",
              "\n",
              "        async function convertToInteractive(key) {\n",
              "          const element = document.querySelector('#df-d4b3ebdb-27da-47e6-93ee-eee2044b7730');\n",
              "          const dataTable =\n",
              "            await google.colab.kernel.invokeFunction('convertToInteractive',\n",
              "                                                     [key], {});\n",
              "          if (!dataTable) return;\n",
              "\n",
              "          const docLinkHtml = 'Like what you see? Visit the ' +\n",
              "            '<a target=\"_blank\" href=https://colab.research.google.com/notebooks/data_table.ipynb>data table notebook</a>'\n",
              "            + ' to learn more about interactive tables.';\n",
              "          element.innerHTML = '';\n",
              "          dataTable['output_type'] = 'display_data';\n",
              "          await google.colab.output.renderOutput(dataTable, element);\n",
              "          const docLink = document.createElement('div');\n",
              "          docLink.innerHTML = docLinkHtml;\n",
              "          element.appendChild(docLink);\n",
              "        }\n",
              "      </script>\n",
              "    </div>\n",
              "  </div>\n",
              "  "
            ]
          },
          "metadata": {},
          "execution_count": 63
        }
      ]
    },
    {
      "cell_type": "markdown",
      "source": [
        "# save the results\n",
        "\n",
        "\n",
        "---\n",
        "\n"
      ],
      "metadata": {
        "id": "PgMs7isQ9-_P"
      }
    },
    {
      "cell_type": "code",
      "source": [
        "KNN_pooled_avc.to_csv('/content/drive/MyDrive/M5/KNN_pooled_avc.csv')\n",
        "\n",
        "KNN_pooled_pscr.to_csv('/content/drive/MyDrive/M5/KNN_pooled_pscr.csv')"
      ],
      "metadata": {
        "id": "f-U4xa3v9_hc"
      },
      "execution_count": 64,
      "outputs": []
    }
  ],
  "metadata": {
    "colab": {
      "machine_shape": "hm",
      "name": "pooling_knn.ipynb",
      "provenance": [],
      "authorship_tag": "ABX9TyNdTBnbUr3pNvf4GIso3Cxo",
      "include_colab_link": true
    },
    "kernelspec": {
      "display_name": "Python 3",
      "name": "python3"
    },
    "language_info": {
      "name": "python"
    }
  },
  "nbformat": 4,
  "nbformat_minor": 0
}
