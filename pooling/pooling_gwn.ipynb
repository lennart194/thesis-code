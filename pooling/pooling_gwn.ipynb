{
  "nbformat": 4,
  "nbformat_minor": 0,
  "metadata": {
    "colab": {
      "name": "pooling_gwn.ipynb",
      "provenance": [],
      "authorship_tag": "ABX9TyOMkSW35s9qEUx0HD+Nl16y",
      "include_colab_link": true
    },
    "kernelspec": {
      "name": "python3",
      "display_name": "Python 3"
    },
    "language_info": {
      "name": "python"
    }
  },
  "cells": [
    {
      "cell_type": "markdown",
      "metadata": {
        "id": "view-in-github",
        "colab_type": "text"
      },
      "source": [
        "<a href=\"https://colab.research.google.com/github/lennart194/thesis-code/blob/main/pooling_gwn.ipynb\" target=\"_parent\"><img src=\"https://colab.research.google.com/assets/colab-badge.svg\" alt=\"Open In Colab\"/></a>"
      ]
    },
    {
      "cell_type": "code",
      "execution_count": null,
      "metadata": {
        "id": "wqPog1YPJ9Ly"
      },
      "outputs": [],
      "source": [
        "pip install ddop"
      ]
    },
    {
      "cell_type": "code",
      "source": [
        "import pandas as pd\n",
        "import numpy as np\n",
        "\n",
        "from ddop.newsvendor import GaussianWeightedNewsvendor\n",
        "from ddop.newsvendor import SampleAverageApproximationNewsvendor\n",
        "\n",
        "from sklearn.model_selection import RandomizedSearchCV\n",
        "\n",
        "from ddop.metrics import make_scorer\n",
        "from ddop.metrics import average_costs\n",
        "from ddop.metrics import prescriptiveness_score"
      ],
      "metadata": {
        "id": "KJQoxs8qKEX6"
      },
      "execution_count": 2,
      "outputs": []
    },
    {
      "cell_type": "code",
      "source": [
        "from google.colab import drive\n",
        "drive.mount('/content/drive')"
      ],
      "metadata": {
        "id": "o76z8d6KKGVG",
        "colab": {
          "base_uri": "https://localhost:8080/"
        },
        "outputId": "f428d98d-bbd3-4ca0-d2de-f62ddba0db90"
      },
      "execution_count": 3,
      "outputs": [
        {
          "output_type": "stream",
          "name": "stdout",
          "text": [
            "Mounted at /content/drive\n"
          ]
        }
      ]
    },
    {
      "cell_type": "markdown",
      "source": [
        "## loading data-set\n",
        "\n",
        "\n",
        "---\n",
        "\n",
        "\n",
        "\n",
        "*   load the whole ultimative set\n",
        "*   sort the rows first by item, then by date and set a multi index\n",
        "**now every items time series can be separated by the index**"
      ],
      "metadata": {
        "id": "KZVOAz7vKIZ2"
      }
    },
    {
      "cell_type": "code",
      "source": [
        "data = pd.read_csv('/content/drive/MyDrive/M5/ultimative_set.csv')\n",
        "data = data.drop(columns=['Unnamed: 0'])\n",
        "data = data.sort_values(by=['item_id', 'date'])\n",
        "data = data.set_index(['item_id', 'date'])"
      ],
      "metadata": {
        "id": "TW4ey6uDKMQz"
      },
      "execution_count": 4,
      "outputs": []
    },
    {
      "cell_type": "markdown",
      "source": [
        "## split in feature and target matrix\n",
        "\n",
        "\n",
        "---"
      ],
      "metadata": {
        "id": "qc5cD4RWKSXb"
      }
    },
    {
      "cell_type": "code",
      "source": [
        "X = data.drop(columns=['demand'])\n",
        "Y = data['demand']"
      ],
      "metadata": {
        "id": "g3QSQVO_KS2X"
      },
      "execution_count": 5,
      "outputs": []
    },
    {
      "cell_type": "markdown",
      "source": [
        "## train_test_split\n",
        "\n",
        "\n",
        "---"
      ],
      "metadata": {
        "id": "AsF4h14YKXww"
      }
    },
    {
      "cell_type": "code",
      "source": [
        "X_train = X.loc[(slice(None), slice(None, \"2015\")), :]\n",
        "X_test = X.loc[(slice(None), slice(\"2015\", '2017')), :]\n",
        "\n",
        "Y_train = Y.loc[(slice(None), slice(None, \"2015\"))]\n",
        "Y_test = Y.loc[(slice(None), slice(\"2015\", \"2017\"))]"
      ],
      "metadata": {
        "id": "LF8qFKc3KcDd"
      },
      "execution_count": 6,
      "outputs": []
    },
    {
      "cell_type": "markdown",
      "source": [
        "## new order after the split\n",
        "\n",
        "\n",
        "---\n",
        "\n",
        "\n",
        "\n",
        "*   for the product pooling the whole data must be be sorted by date independent from the 'item_id'\n",
        "*   therefore sort values by 'date' in the first instance and by 'item_id' in the second \n",
        "*   these two instances create the mutli-index of the target matrix (Y)\n",
        "*   as all items are in one set now the 'item_id' becomes a feature in the feature matrix (X). The only index is the date here."
      ],
      "metadata": {
        "id": "euiXSJg5Kemo"
      }
    },
    {
      "cell_type": "code",
      "source": [
        "X_train = X_train.reset_index().sort_values(by=['date', 'item_id']).set_index(['date'])\n",
        "X_test = X_test.reset_index().sort_values(by=['date', 'item_id']).set_index(['date'])\n",
        "\n",
        "Y_train = Y_train.reset_index().sort_values(by=['date', 'item_id']).set_index(['date', 'item_id'])\n",
        "Y_test = Y_test.reset_index().sort_values(by=['date', 'item_id']).set_index(['date', 'item_id'])"
      ],
      "metadata": {
        "id": "9O-hpxKvKt2M"
      },
      "execution_count": 7,
      "outputs": []
    },
    {
      "cell_type": "markdown",
      "source": [
        "## defining the different cost paramerters for special service level and product range\n",
        "\n",
        "\n",
        "\n",
        "---\n",
        "\n",
        "\n",
        "\n",
        "*   cu is the mean of the cumulated 'sell_price' column of the training data\n",
        "*   appending to the corresponding service level co is calculated with (cu - α * cu) / α\n",
        "*   all the costs are rounded to 2 digits"
      ],
      "metadata": {
        "id": "0rQ7SR8hKm88"
      }
    },
    {
      "cell_type": "code",
      "source": [
        "prods = list(range(0,25))\n",
        "\n",
        "cu = round(X_train['sell_price'].mean(),2)\n",
        "\n",
        "co_90 = round(((cu-(0.90*cu))/0.90),2)\n",
        "\n",
        "co_75 = round(((cu-(0.75*cu))/0.75),2)\n",
        "\n",
        "co_50 = round(((cu-(0.50*cu))/0.50),2)"
      ],
      "metadata": {
        "id": "TZK1mYO50hvF"
      },
      "execution_count": 9,
      "outputs": []
    },
    {
      "cell_type": "markdown",
      "source": [
        "## determining some parameters\n",
        "\n",
        "\n",
        "---\n",
        "\n",
        "\n",
        "*   the potential range of the params for randomized search are defined\n",
        "*   the estimator, the scorer and finally the whole param_random is defined"
      ],
      "metadata": {
        "id": "8L2l13HF0ixE"
      }
    },
    {
      "cell_type": "code",
      "source": [
        "kernel_bandwidth = np.arange(25, 81)\n",
        "param_random = dict(kernel_bandwidth = kernel_bandwidth)\n",
        "\n",
        "scorer_avc = make_scorer(average_costs, greater_is_better=False)"
      ],
      "metadata": {
        "id": "ooj3kyn3Knw6"
      },
      "execution_count": null,
      "outputs": []
    },
    {
      "cell_type": "markdown",
      "source": [
        "# gwn for 90% service level\n",
        "\n",
        "\n",
        "---\n",
        "\n",
        "\n",
        "\n",
        "\n",
        "\n",
        "\n",
        "## randomized search\n",
        "\n",
        "\n",
        "\n",
        "\n",
        "*   randomized serach is done once for the entire data-set with the corresponding service level costs\n",
        "*   this step was done with the server of the University of Würzburg because of the high resource consumption \n",
        "*   the results for the best params are: kernel_bandwidth = 30"
      ],
      "metadata": {
        "id": "A8pfG3f-K0zy"
      }
    },
    {
      "cell_type": "code",
      "source": [
        "gwn = GaussianWeightedNewsvendor(cu = cu, co = co_90)\n",
        "random = RandomizedSearchCV(gwn, param_random, cv=5, scoring = scorer_avc, n_jobs=8)\n",
        "random.fit(X_train, Y_train)\n",
        "print(random.best_params_)"
      ],
      "metadata": {
        "id": "H0_Z4LzhLASc"
      },
      "execution_count": null,
      "outputs": []
    },
    {
      "cell_type": "markdown",
      "source": [
        "## newsvendor-model 90%\n",
        "\n",
        "\n",
        "\n",
        "---\n",
        "\n",
        "\n",
        "\n",
        "*   the model is trained and tested once for entire data-set with the best hyperparameters\n",
        "*   the prediction is the output"
      ],
      "metadata": {
        "id": "pl99BuDaLH8c"
      }
    },
    {
      "cell_type": "code",
      "source": [
        "gwn = GaussianWeightedNewsvendor(cu = cu, co = co_90, kernel_bandwidth = 30)\n",
        "\n",
        "gwn.fit(X_train, Y_train)\n",
        "preds_90 = gwn.predict(X_test)"
      ],
      "metadata": {
        "id": "1GsXrZuoLKEi"
      },
      "execution_count": 10,
      "outputs": []
    },
    {
      "cell_type": "markdown",
      "source": [
        "## reorder the data\n",
        "\n",
        "\n",
        "\n",
        "\n",
        "---\n",
        "\n",
        "\n",
        "\n",
        "*   create a pandas frame 'comp_90' where the real values, the predictions and the predictions from the saa model are in columns next to each other"
      ],
      "metadata": {
        "id": "bBwJSE-5La4Y"
      }
    },
    {
      "cell_type": "code",
      "source": [
        "pred_90 = pd.DataFrame(preds_90, columns=['pred_gwn_90'])\n",
        "comp_90 = Y.loc[(slice(None), slice(\"2015\", \"2017\"))].reset_index().sort_values(by=['date', 'item_id']).set_index('date')\n",
        "comp_90 = comp_90.reset_index()\n",
        "comp_90['pred_gwn_90'] = pred_90[['pred_gwn_90']]\n",
        "comp_90 = comp_90.sort_values(by=['item_id', 'date']).set_index(['item_id', 'date'])\n",
        "\n",
        "saa_90 = pd.read_csv('/content/drive/MyDrive/M5/SAA_pred_90.csv').set_index(['item_id', 'date'])\n",
        "\n",
        "comp_90 = pd.concat([comp_90, saa_90], axis = 1)"
      ],
      "metadata": {
        "id": "OzqurYURLbtd"
      },
      "execution_count": 11,
      "outputs": []
    },
    {
      "cell_type": "markdown",
      "source": [
        "## average costs and prescriptivess score\n",
        "\n",
        "\n",
        "---\n",
        "\n",
        "\n",
        "\n",
        "*   create a loop where the average_costs (the prescriptivess score) of each item are calculated\n",
        "\n",
        "*   save the results into a pandas frame"
      ],
      "metadata": {
        "id": "xDdfY20TLd1b"
      }
    },
    {
      "cell_type": "code",
      "source": [
        "result_gwn_90_avc = []\n",
        "\n",
        "for prod in prods:\n",
        "  avc = round(average_costs(comp_90['demand'].loc[prod], comp_90['pred_gwn_90'].loc[prod], cu = cu, co = co_90),2)\n",
        "  result_gwn_90_avc.append(avc)"
      ],
      "metadata": {
        "id": "R-SN6I5GLgpT"
      },
      "execution_count": 12,
      "outputs": []
    },
    {
      "cell_type": "code",
      "source": [
        "GWN_pooled_avc_90 = pd.DataFrame(result_gwn_90_avc, columns=['GWN_avc_90'])\n",
        "GWN_pooled_avc_90.index.name = 'item_id'"
      ],
      "metadata": {
        "id": "p9ddyfd5Lo4j"
      },
      "execution_count": 13,
      "outputs": []
    },
    {
      "cell_type": "code",
      "source": [
        "result_gwn_90_pscr = []\n",
        "\n",
        "for prod in prods:\n",
        "  pscr = round(prescriptiveness_score(comp_90['demand'].loc[prod], comp_90['pred_gwn_90'].loc[prod],\n",
        "                                      comp_90['SAA_pred_90'].loc[prod], cu = cu, co = co_90),2)\n",
        "  result_gwn_90_pscr.append(pscr)"
      ],
      "metadata": {
        "id": "boEWZqRV1olR"
      },
      "execution_count": 15,
      "outputs": []
    },
    {
      "cell_type": "code",
      "source": [
        "GWN_pooled_pscr_90 = pd.DataFrame(result_gwn_90_pscr, columns=['GWN_pscr_90'])\n",
        "GWN_pooled_pscr_90.index.name = 'item_id'"
      ],
      "metadata": {
        "id": "cdv2PX5T1xaQ"
      },
      "execution_count": 19,
      "outputs": []
    },
    {
      "cell_type": "markdown",
      "source": [
        "# gwn for 75% service level\n",
        "\n",
        "\n",
        "---\n",
        "\n",
        "\n",
        "\n",
        "\n",
        "\n",
        "\n",
        "## randomized search\n",
        "\n",
        "\n",
        "\n",
        "\n",
        "*   randomized serach is done once for the entire data-set with the corresponding service level costs\n",
        "*   this step was done with the server of the University of Würzburg because of the high resource consumption \n",
        "*   the results for the best params are: kernel_bandwidth = 28"
      ],
      "metadata": {
        "id": "A6nLq6jcL2Kc"
      }
    },
    {
      "cell_type": "code",
      "source": [
        "gwn = GaussianWeightedNewsvendor(cu = cu, co = co_75)\n",
        "random = RandomizedSearchCV(gwn, param_random, cv=5, scoring = scorer_avc, n_jobs=8)\n",
        "random.fit(X_train, Y_train)\n",
        "print(random.best_params_)"
      ],
      "metadata": {
        "id": "D5Oe5-WUL3ty"
      },
      "execution_count": null,
      "outputs": []
    },
    {
      "cell_type": "markdown",
      "source": [
        "## newsvendor-model 75%\n",
        "\n",
        "\n",
        "\n",
        "---\n",
        "\n",
        "\n",
        "\n",
        "*   the model is trained and tested once for entire data-set with the best hyperparameters\n",
        "*   the prediction is the output"
      ],
      "metadata": {
        "id": "tkcecmwxL-ZH"
      }
    },
    {
      "cell_type": "code",
      "source": [
        "gwn = GaussianWeightedNewsvendor(cu = cu, co = co_75, kernel_bandwidth = 28)\n",
        "\n",
        "gwn.fit(X_train, Y_train)\n",
        "preds_75 = gwn.predict(X_test)"
      ],
      "metadata": {
        "id": "FXp2nyISMBmw"
      },
      "execution_count": 18,
      "outputs": []
    },
    {
      "cell_type": "markdown",
      "source": [
        "## reorder the data\n",
        "\n",
        "\n",
        "\n",
        "\n",
        "---\n",
        "\n",
        "\n",
        "\n",
        "*   create a pandas frame 'comp_75' where the real values, the predictions and the predictions from the saa model are in columns next to each other"
      ],
      "metadata": {
        "id": "5SBCaY6QMF-f"
      }
    },
    {
      "cell_type": "code",
      "source": [
        "pred_75 = pd.DataFrame(preds_75, columns=['pred_gwn_75'])\n",
        "comp_75 = Y.loc[(slice(None), slice(\"2015\", \"2017\"))].reset_index().sort_values(by=['date', 'item_id']).set_index('date')\n",
        "comp_75 = comp_75.reset_index()\n",
        "comp_75['pred_gwn_75'] = pred_75[['pred_gwn_75']]\n",
        "comp_75 = comp_75.set_index(['item_id', 'date'])\n",
        "\n",
        "saa_75 = pd.read_csv('/content/drive/MyDrive/M5/SAA_pred_75.csv').set_index(['item_id', 'date'])\n",
        "\n",
        "comp_75 = pd.concat([comp_75, saa_75], axis = 1)"
      ],
      "metadata": {
        "id": "Kb_8BH75MJIf"
      },
      "execution_count": 20,
      "outputs": []
    },
    {
      "cell_type": "markdown",
      "source": [
        "## average costs and prescriptivess score\n",
        "\n",
        "\n",
        "---\n",
        "\n",
        "\n",
        "\n",
        "*   create a loop where the average_costs (the prescriptivess score) of each item are calculated\n",
        "\n",
        "*   save the results into a pandas frame"
      ],
      "metadata": {
        "id": "e_zsVOcIMLcd"
      }
    },
    {
      "cell_type": "code",
      "source": [
        "result_gwn_75_avc = []\n",
        "\n",
        "for prod in prods:\n",
        "  avc = round(average_costs(comp_75['demand'].loc[prod], comp_75['pred_gwn_75'].loc[prod], cu = cu, co = co_75),2)\n",
        "  result_gwn_75_avc.append(avc)"
      ],
      "metadata": {
        "id": "f3qM6bIoMNta"
      },
      "execution_count": 21,
      "outputs": []
    },
    {
      "cell_type": "code",
      "source": [
        "GWN_pooled_avc_75 = pd.DataFrame(result_gwn_75_avc, columns=['GWN_avc_75'])\n",
        "GWN_pooled_avc_75.index.name = 'item_id'"
      ],
      "metadata": {
        "id": "y0zTLn_HMWH3"
      },
      "execution_count": 22,
      "outputs": []
    },
    {
      "cell_type": "code",
      "source": [
        "result_gwn_75_pscr = []\n",
        "\n",
        "for prod in prods:\n",
        "  pscr = round(prescriptiveness_score(comp_75['demand'].loc[prod], comp_75['pred_gwn_75'].loc[prod],\n",
        "                                      comp_75['SAA_pred_75'].loc[prod], cu = cu, co = co_75),2)\n",
        "  result_gwn_75_pscr.append(pscr)"
      ],
      "metadata": {
        "id": "hj5rIdJE2VYk"
      },
      "execution_count": 24,
      "outputs": []
    },
    {
      "cell_type": "code",
      "source": [
        "GWN_pooled_pscr_75 = pd.DataFrame(result_gwn_75_pscr, columns=['GWN_pscr_75'])\n",
        "GWN_pooled_pscr_75.index.name = 'item_id'"
      ],
      "metadata": {
        "id": "WS1QPZ6M2i-w"
      },
      "execution_count": 25,
      "outputs": []
    },
    {
      "cell_type": "markdown",
      "source": [
        "# gwn for 50% service level\n",
        "\n",
        "\n",
        "---\n",
        "\n",
        "\n",
        "\n",
        "\n",
        "\n",
        "\n",
        "## randomized search\n",
        "\n",
        "\n",
        "\n",
        "\n",
        "*   randomized serach is done once for the entire data-set with the corresponding service level costs\n",
        "*   this step was done with the server of the University of Würzburg because of the high resource consumption \n",
        "*   the results for the best params are: kernel_bandwidth = 31"
      ],
      "metadata": {
        "id": "rjyJjnKYMxxO"
      }
    },
    {
      "cell_type": "code",
      "source": [
        "gwn = GaussianWeightedNewsvendor(cu = cu, co = co_50)\n",
        "random = RandomizedSearchCV(gwn, param_random, cv=5, scoring = scorer_avc, n_jobs=8)\n",
        "random.fit(X_train, Y_train)\n",
        "print(random.best_params_)"
      ],
      "metadata": {
        "id": "TeTx9MbOMzMo"
      },
      "execution_count": null,
      "outputs": []
    },
    {
      "cell_type": "markdown",
      "source": [
        "## newsvendor-model 50%\n",
        "\n",
        "\n",
        "\n",
        "---\n",
        "\n",
        "\n",
        "\n",
        "*   the model is trained and tested once for entire data-set with the best hyperparameters\n",
        "*   the prediction is the output"
      ],
      "metadata": {
        "id": "wIi4JdELM5fE"
      }
    },
    {
      "cell_type": "code",
      "source": [
        "gwn = GaussianWeightedNewsvendor(cu = cu, co = co_50, kernel_bandwidth = 31)\n",
        "\n",
        "gwn.fit(X_train, Y_train)\n",
        "preds_50 = gwn.predict(X_test)"
      ],
      "metadata": {
        "id": "bjfInQX8M9Jh"
      },
      "execution_count": 26,
      "outputs": []
    },
    {
      "cell_type": "markdown",
      "source": [
        "## reorder the data\n",
        "\n",
        "\n",
        "\n",
        "\n",
        "---\n",
        "\n",
        "\n",
        "\n",
        "*   create a pandas frame 'comp_50' where the real values, the predictions and the predictions from the saa model are in columns next to each other"
      ],
      "metadata": {
        "id": "vFxSP6iwNDxx"
      }
    },
    {
      "cell_type": "code",
      "source": [
        "pred_50 = pd.DataFrame(preds_50, columns=['pred_gwn_50'])\n",
        "comp_50 = Y.loc[(slice(None), slice(\"2015\", \"2017\"))].reset_index().sort_values(by=['date', 'item_id']).set_index('date')\n",
        "comp_50 = comp_50.reset_index()\n",
        "comp_50['pred_gwn_50'] = pred_50[['pred_gwn_50']]\n",
        "comp_50 = comp_50.set_index(['item_id', 'date'])\n",
        "\n",
        "saa_50 = pd.read_csv('/content/drive/MyDrive/M5/SAA_pred_50.csv').set_index(['item_id', 'date'])\n",
        "\n",
        "comp_50 = pd.concat([comp_50, saa_50], axis = 1)"
      ],
      "metadata": {
        "id": "AH8CsDoDNFAo"
      },
      "execution_count": 27,
      "outputs": []
    },
    {
      "cell_type": "markdown",
      "source": [
        "## average costs and prescriptivess score\n",
        "\n",
        "\n",
        "---\n",
        "\n",
        "\n",
        "\n",
        "*   create a loop where the average_costs (the prescriptivess score) of each item are calculated\n",
        "\n",
        "*   save the results into a pandas frame"
      ],
      "metadata": {
        "id": "Hu01vn-aNIff"
      }
    },
    {
      "cell_type": "code",
      "source": [
        "result_gwn_50_avc = []\n",
        "\n",
        "for prod in prods:\n",
        "  avc = round(average_costs(comp_50['demand'].loc[prod], comp_50['pred_gwn_50'].loc[prod], cu = cu, co = co_50),2)\n",
        "  result_gwn_50_avc.append(avc)"
      ],
      "metadata": {
        "id": "GdUDpSzCNK_1"
      },
      "execution_count": 29,
      "outputs": []
    },
    {
      "cell_type": "code",
      "source": [
        "GWN_pooled_avc_50 = pd.DataFrame(result_gwn_50_avc, columns=['GWN_avc_50'])\n",
        "GWN_pooled_avc_50.index.name = 'item_id'"
      ],
      "metadata": {
        "id": "bz3GDf9eNSaS"
      },
      "execution_count": 30,
      "outputs": []
    },
    {
      "cell_type": "code",
      "source": [
        "result_gwn_50_pscr = []\n",
        "\n",
        "for prod in prods:\n",
        "  pscr = round(prescriptiveness_score(comp_50['demand'].loc[prod], comp_50['pred_gwn_50'].loc[prod],\n",
        "                                      comp_50['SAA_pred_50'].loc[prod], cu = cu, co = co_50),2)\n",
        "  result_gwn_50_pscr.append(pscr)"
      ],
      "metadata": {
        "id": "NDlRS88S3KvS"
      },
      "execution_count": 31,
      "outputs": []
    },
    {
      "cell_type": "code",
      "source": [
        "GWN_pooled_pscr_50 = pd.DataFrame(result_gwn_50_pscr, columns=['GWN_pscr_50'])\n",
        "GWN_pooled_pscr_50.index.name = 'item_id'"
      ],
      "metadata": {
        "id": "JIQZQ4Wa3O3Y"
      },
      "execution_count": 32,
      "outputs": []
    },
    {
      "cell_type": "markdown",
      "source": [
        "# merge the pandas frames\n",
        "\n",
        "\n",
        "---"
      ],
      "metadata": {
        "id": "8G6rGK7mNZO7"
      }
    },
    {
      "cell_type": "code",
      "source": [
        "GWN_pooled_avc = pd.concat([GWN_pooled_avc_90, GWN_pooled_avc_75, GWN_pooled_avc_50], axis=1)\n",
        "GWN_pooled_avc"
      ],
      "metadata": {
        "id": "aGeqULdNNbCR",
        "colab": {
          "base_uri": "https://localhost:8080/",
          "height": 864
        },
        "outputId": "2516c5a5-6aaa-4116-ea7b-5513ddb8e27b"
      },
      "execution_count": 33,
      "outputs": [
        {
          "output_type": "execute_result",
          "data": {
            "text/plain": [
              "         GWN_avc_90  GWN_avc_75  GWN_avc_50\n",
              "item_id                                    \n",
              "0              2.70        5.48        9.41\n",
              "1              1.37        2.58        4.41\n",
              "2              2.46        4.78        8.16\n",
              "3              1.99        4.33        7.97\n",
              "4              2.32        5.16        9.69\n",
              "5              1.53        2.96        5.31\n",
              "6              1.78        3.79        7.17\n",
              "7              1.70        3.59        6.97\n",
              "8              1.49        2.90        5.21\n",
              "9              1.47        2.87        5.06\n",
              "10             7.17       13.85       23.77\n",
              "11             1.51        3.00        5.47\n",
              "12             2.23        4.68        8.83\n",
              "13             1.29        2.33        3.87\n",
              "14             2.43        5.22        9.66\n",
              "15             1.56        3.12        5.44\n",
              "16             1.30        2.29        3.90\n",
              "17             3.12        6.98       12.67\n",
              "18             8.07       16.33       27.27\n",
              "19             1.40        2.64        4.37\n",
              "20             2.30        4.98        8.87\n",
              "21             1.92        3.93        7.22\n",
              "22             2.90        5.67        9.87\n",
              "23             3.73        8.38       14.95\n",
              "24             2.17        4.65        8.73"
            ],
            "text/html": [
              "\n",
              "  <div id=\"df-4828a894-305e-44e6-bfe7-678ae8b21f4d\">\n",
              "    <div class=\"colab-df-container\">\n",
              "      <div>\n",
              "<style scoped>\n",
              "    .dataframe tbody tr th:only-of-type {\n",
              "        vertical-align: middle;\n",
              "    }\n",
              "\n",
              "    .dataframe tbody tr th {\n",
              "        vertical-align: top;\n",
              "    }\n",
              "\n",
              "    .dataframe thead th {\n",
              "        text-align: right;\n",
              "    }\n",
              "</style>\n",
              "<table border=\"1\" class=\"dataframe\">\n",
              "  <thead>\n",
              "    <tr style=\"text-align: right;\">\n",
              "      <th></th>\n",
              "      <th>GWN_avc_90</th>\n",
              "      <th>GWN_avc_75</th>\n",
              "      <th>GWN_avc_50</th>\n",
              "    </tr>\n",
              "    <tr>\n",
              "      <th>item_id</th>\n",
              "      <th></th>\n",
              "      <th></th>\n",
              "      <th></th>\n",
              "    </tr>\n",
              "  </thead>\n",
              "  <tbody>\n",
              "    <tr>\n",
              "      <th>0</th>\n",
              "      <td>2.70</td>\n",
              "      <td>5.48</td>\n",
              "      <td>9.41</td>\n",
              "    </tr>\n",
              "    <tr>\n",
              "      <th>1</th>\n",
              "      <td>1.37</td>\n",
              "      <td>2.58</td>\n",
              "      <td>4.41</td>\n",
              "    </tr>\n",
              "    <tr>\n",
              "      <th>2</th>\n",
              "      <td>2.46</td>\n",
              "      <td>4.78</td>\n",
              "      <td>8.16</td>\n",
              "    </tr>\n",
              "    <tr>\n",
              "      <th>3</th>\n",
              "      <td>1.99</td>\n",
              "      <td>4.33</td>\n",
              "      <td>7.97</td>\n",
              "    </tr>\n",
              "    <tr>\n",
              "      <th>4</th>\n",
              "      <td>2.32</td>\n",
              "      <td>5.16</td>\n",
              "      <td>9.69</td>\n",
              "    </tr>\n",
              "    <tr>\n",
              "      <th>5</th>\n",
              "      <td>1.53</td>\n",
              "      <td>2.96</td>\n",
              "      <td>5.31</td>\n",
              "    </tr>\n",
              "    <tr>\n",
              "      <th>6</th>\n",
              "      <td>1.78</td>\n",
              "      <td>3.79</td>\n",
              "      <td>7.17</td>\n",
              "    </tr>\n",
              "    <tr>\n",
              "      <th>7</th>\n",
              "      <td>1.70</td>\n",
              "      <td>3.59</td>\n",
              "      <td>6.97</td>\n",
              "    </tr>\n",
              "    <tr>\n",
              "      <th>8</th>\n",
              "      <td>1.49</td>\n",
              "      <td>2.90</td>\n",
              "      <td>5.21</td>\n",
              "    </tr>\n",
              "    <tr>\n",
              "      <th>9</th>\n",
              "      <td>1.47</td>\n",
              "      <td>2.87</td>\n",
              "      <td>5.06</td>\n",
              "    </tr>\n",
              "    <tr>\n",
              "      <th>10</th>\n",
              "      <td>7.17</td>\n",
              "      <td>13.85</td>\n",
              "      <td>23.77</td>\n",
              "    </tr>\n",
              "    <tr>\n",
              "      <th>11</th>\n",
              "      <td>1.51</td>\n",
              "      <td>3.00</td>\n",
              "      <td>5.47</td>\n",
              "    </tr>\n",
              "    <tr>\n",
              "      <th>12</th>\n",
              "      <td>2.23</td>\n",
              "      <td>4.68</td>\n",
              "      <td>8.83</td>\n",
              "    </tr>\n",
              "    <tr>\n",
              "      <th>13</th>\n",
              "      <td>1.29</td>\n",
              "      <td>2.33</td>\n",
              "      <td>3.87</td>\n",
              "    </tr>\n",
              "    <tr>\n",
              "      <th>14</th>\n",
              "      <td>2.43</td>\n",
              "      <td>5.22</td>\n",
              "      <td>9.66</td>\n",
              "    </tr>\n",
              "    <tr>\n",
              "      <th>15</th>\n",
              "      <td>1.56</td>\n",
              "      <td>3.12</td>\n",
              "      <td>5.44</td>\n",
              "    </tr>\n",
              "    <tr>\n",
              "      <th>16</th>\n",
              "      <td>1.30</td>\n",
              "      <td>2.29</td>\n",
              "      <td>3.90</td>\n",
              "    </tr>\n",
              "    <tr>\n",
              "      <th>17</th>\n",
              "      <td>3.12</td>\n",
              "      <td>6.98</td>\n",
              "      <td>12.67</td>\n",
              "    </tr>\n",
              "    <tr>\n",
              "      <th>18</th>\n",
              "      <td>8.07</td>\n",
              "      <td>16.33</td>\n",
              "      <td>27.27</td>\n",
              "    </tr>\n",
              "    <tr>\n",
              "      <th>19</th>\n",
              "      <td>1.40</td>\n",
              "      <td>2.64</td>\n",
              "      <td>4.37</td>\n",
              "    </tr>\n",
              "    <tr>\n",
              "      <th>20</th>\n",
              "      <td>2.30</td>\n",
              "      <td>4.98</td>\n",
              "      <td>8.87</td>\n",
              "    </tr>\n",
              "    <tr>\n",
              "      <th>21</th>\n",
              "      <td>1.92</td>\n",
              "      <td>3.93</td>\n",
              "      <td>7.22</td>\n",
              "    </tr>\n",
              "    <tr>\n",
              "      <th>22</th>\n",
              "      <td>2.90</td>\n",
              "      <td>5.67</td>\n",
              "      <td>9.87</td>\n",
              "    </tr>\n",
              "    <tr>\n",
              "      <th>23</th>\n",
              "      <td>3.73</td>\n",
              "      <td>8.38</td>\n",
              "      <td>14.95</td>\n",
              "    </tr>\n",
              "    <tr>\n",
              "      <th>24</th>\n",
              "      <td>2.17</td>\n",
              "      <td>4.65</td>\n",
              "      <td>8.73</td>\n",
              "    </tr>\n",
              "  </tbody>\n",
              "</table>\n",
              "</div>\n",
              "      <button class=\"colab-df-convert\" onclick=\"convertToInteractive('df-4828a894-305e-44e6-bfe7-678ae8b21f4d')\"\n",
              "              title=\"Convert this dataframe to an interactive table.\"\n",
              "              style=\"display:none;\">\n",
              "        \n",
              "  <svg xmlns=\"http://www.w3.org/2000/svg\" height=\"24px\"viewBox=\"0 0 24 24\"\n",
              "       width=\"24px\">\n",
              "    <path d=\"M0 0h24v24H0V0z\" fill=\"none\"/>\n",
              "    <path d=\"M18.56 5.44l.94 2.06.94-2.06 2.06-.94-2.06-.94-.94-2.06-.94 2.06-2.06.94zm-11 1L8.5 8.5l.94-2.06 2.06-.94-2.06-.94L8.5 2.5l-.94 2.06-2.06.94zm10 10l.94 2.06.94-2.06 2.06-.94-2.06-.94-.94-2.06-.94 2.06-2.06.94z\"/><path d=\"M17.41 7.96l-1.37-1.37c-.4-.4-.92-.59-1.43-.59-.52 0-1.04.2-1.43.59L10.3 9.45l-7.72 7.72c-.78.78-.78 2.05 0 2.83L4 21.41c.39.39.9.59 1.41.59.51 0 1.02-.2 1.41-.59l7.78-7.78 2.81-2.81c.8-.78.8-2.07 0-2.86zM5.41 20L4 18.59l7.72-7.72 1.47 1.35L5.41 20z\"/>\n",
              "  </svg>\n",
              "      </button>\n",
              "      \n",
              "  <style>\n",
              "    .colab-df-container {\n",
              "      display:flex;\n",
              "      flex-wrap:wrap;\n",
              "      gap: 12px;\n",
              "    }\n",
              "\n",
              "    .colab-df-convert {\n",
              "      background-color: #E8F0FE;\n",
              "      border: none;\n",
              "      border-radius: 50%;\n",
              "      cursor: pointer;\n",
              "      display: none;\n",
              "      fill: #1967D2;\n",
              "      height: 32px;\n",
              "      padding: 0 0 0 0;\n",
              "      width: 32px;\n",
              "    }\n",
              "\n",
              "    .colab-df-convert:hover {\n",
              "      background-color: #E2EBFA;\n",
              "      box-shadow: 0px 1px 2px rgba(60, 64, 67, 0.3), 0px 1px 3px 1px rgba(60, 64, 67, 0.15);\n",
              "      fill: #174EA6;\n",
              "    }\n",
              "\n",
              "    [theme=dark] .colab-df-convert {\n",
              "      background-color: #3B4455;\n",
              "      fill: #D2E3FC;\n",
              "    }\n",
              "\n",
              "    [theme=dark] .colab-df-convert:hover {\n",
              "      background-color: #434B5C;\n",
              "      box-shadow: 0px 1px 3px 1px rgba(0, 0, 0, 0.15);\n",
              "      filter: drop-shadow(0px 1px 2px rgba(0, 0, 0, 0.3));\n",
              "      fill: #FFFFFF;\n",
              "    }\n",
              "  </style>\n",
              "\n",
              "      <script>\n",
              "        const buttonEl =\n",
              "          document.querySelector('#df-4828a894-305e-44e6-bfe7-678ae8b21f4d button.colab-df-convert');\n",
              "        buttonEl.style.display =\n",
              "          google.colab.kernel.accessAllowed ? 'block' : 'none';\n",
              "\n",
              "        async function convertToInteractive(key) {\n",
              "          const element = document.querySelector('#df-4828a894-305e-44e6-bfe7-678ae8b21f4d');\n",
              "          const dataTable =\n",
              "            await google.colab.kernel.invokeFunction('convertToInteractive',\n",
              "                                                     [key], {});\n",
              "          if (!dataTable) return;\n",
              "\n",
              "          const docLinkHtml = 'Like what you see? Visit the ' +\n",
              "            '<a target=\"_blank\" href=https://colab.research.google.com/notebooks/data_table.ipynb>data table notebook</a>'\n",
              "            + ' to learn more about interactive tables.';\n",
              "          element.innerHTML = '';\n",
              "          dataTable['output_type'] = 'display_data';\n",
              "          await google.colab.output.renderOutput(dataTable, element);\n",
              "          const docLink = document.createElement('div');\n",
              "          docLink.innerHTML = docLinkHtml;\n",
              "          element.appendChild(docLink);\n",
              "        }\n",
              "      </script>\n",
              "    </div>\n",
              "  </div>\n",
              "  "
            ]
          },
          "metadata": {},
          "execution_count": 33
        }
      ]
    },
    {
      "cell_type": "code",
      "source": [
        "GWN_pooled_pscr = pd.concat([GWN_pooled_pscr_90, GWN_pooled_pscr_75, GWN_pooled_pscr_50], axis=1)\n",
        "GWN_pooled_pscr"
      ],
      "metadata": {
        "colab": {
          "base_uri": "https://localhost:8080/",
          "height": 864
        },
        "id": "Coq2wDqN3ZjR",
        "outputId": "12a2d9e1-421b-4b2c-d422-216aaf0f0d8d"
      },
      "execution_count": 34,
      "outputs": [
        {
          "output_type": "execute_result",
          "data": {
            "text/plain": [
              "         GWN_pscr_90  GWN_pscr_75  GWN_pscr_50\n",
              "item_id                                       \n",
              "0               0.28         0.27         0.25\n",
              "1               0.24         0.35         0.30\n",
              "2               0.16         0.15         0.12\n",
              "3               0.62         0.57         0.48\n",
              "4               0.28         0.17         0.13\n",
              "5               0.27         0.30         0.17\n",
              "6               0.47         0.47         0.40\n",
              "7               0.38         0.25         0.13\n",
              "8               0.23         0.22         0.19\n",
              "9               0.20         0.28         0.24\n",
              "10              0.16         0.15         0.13\n",
              "11              0.26         0.27         0.24\n",
              "12              0.34         0.35         0.30\n",
              "13              0.27         0.27         0.13\n",
              "14              0.21         0.20         0.25\n",
              "15              0.11         0.10         0.08\n",
              "16             -0.24         0.03         0.03\n",
              "17              0.24         0.15         0.12\n",
              "18              0.06         0.08         0.12\n",
              "19              0.23         0.24         0.18\n",
              "20              0.43         0.41         0.37\n",
              "21              0.18         0.13         0.11\n",
              "22              0.51         0.46         0.37\n",
              "23              0.37         0.26         0.23\n",
              "24              0.30         0.23         0.23"
            ],
            "text/html": [
              "\n",
              "  <div id=\"df-8f2949b3-b577-401d-977e-992b0483f4da\">\n",
              "    <div class=\"colab-df-container\">\n",
              "      <div>\n",
              "<style scoped>\n",
              "    .dataframe tbody tr th:only-of-type {\n",
              "        vertical-align: middle;\n",
              "    }\n",
              "\n",
              "    .dataframe tbody tr th {\n",
              "        vertical-align: top;\n",
              "    }\n",
              "\n",
              "    .dataframe thead th {\n",
              "        text-align: right;\n",
              "    }\n",
              "</style>\n",
              "<table border=\"1\" class=\"dataframe\">\n",
              "  <thead>\n",
              "    <tr style=\"text-align: right;\">\n",
              "      <th></th>\n",
              "      <th>GWN_pscr_90</th>\n",
              "      <th>GWN_pscr_75</th>\n",
              "      <th>GWN_pscr_50</th>\n",
              "    </tr>\n",
              "    <tr>\n",
              "      <th>item_id</th>\n",
              "      <th></th>\n",
              "      <th></th>\n",
              "      <th></th>\n",
              "    </tr>\n",
              "  </thead>\n",
              "  <tbody>\n",
              "    <tr>\n",
              "      <th>0</th>\n",
              "      <td>0.28</td>\n",
              "      <td>0.27</td>\n",
              "      <td>0.25</td>\n",
              "    </tr>\n",
              "    <tr>\n",
              "      <th>1</th>\n",
              "      <td>0.24</td>\n",
              "      <td>0.35</td>\n",
              "      <td>0.30</td>\n",
              "    </tr>\n",
              "    <tr>\n",
              "      <th>2</th>\n",
              "      <td>0.16</td>\n",
              "      <td>0.15</td>\n",
              "      <td>0.12</td>\n",
              "    </tr>\n",
              "    <tr>\n",
              "      <th>3</th>\n",
              "      <td>0.62</td>\n",
              "      <td>0.57</td>\n",
              "      <td>0.48</td>\n",
              "    </tr>\n",
              "    <tr>\n",
              "      <th>4</th>\n",
              "      <td>0.28</td>\n",
              "      <td>0.17</td>\n",
              "      <td>0.13</td>\n",
              "    </tr>\n",
              "    <tr>\n",
              "      <th>5</th>\n",
              "      <td>0.27</td>\n",
              "      <td>0.30</td>\n",
              "      <td>0.17</td>\n",
              "    </tr>\n",
              "    <tr>\n",
              "      <th>6</th>\n",
              "      <td>0.47</td>\n",
              "      <td>0.47</td>\n",
              "      <td>0.40</td>\n",
              "    </tr>\n",
              "    <tr>\n",
              "      <th>7</th>\n",
              "      <td>0.38</td>\n",
              "      <td>0.25</td>\n",
              "      <td>0.13</td>\n",
              "    </tr>\n",
              "    <tr>\n",
              "      <th>8</th>\n",
              "      <td>0.23</td>\n",
              "      <td>0.22</td>\n",
              "      <td>0.19</td>\n",
              "    </tr>\n",
              "    <tr>\n",
              "      <th>9</th>\n",
              "      <td>0.20</td>\n",
              "      <td>0.28</td>\n",
              "      <td>0.24</td>\n",
              "    </tr>\n",
              "    <tr>\n",
              "      <th>10</th>\n",
              "      <td>0.16</td>\n",
              "      <td>0.15</td>\n",
              "      <td>0.13</td>\n",
              "    </tr>\n",
              "    <tr>\n",
              "      <th>11</th>\n",
              "      <td>0.26</td>\n",
              "      <td>0.27</td>\n",
              "      <td>0.24</td>\n",
              "    </tr>\n",
              "    <tr>\n",
              "      <th>12</th>\n",
              "      <td>0.34</td>\n",
              "      <td>0.35</td>\n",
              "      <td>0.30</td>\n",
              "    </tr>\n",
              "    <tr>\n",
              "      <th>13</th>\n",
              "      <td>0.27</td>\n",
              "      <td>0.27</td>\n",
              "      <td>0.13</td>\n",
              "    </tr>\n",
              "    <tr>\n",
              "      <th>14</th>\n",
              "      <td>0.21</td>\n",
              "      <td>0.20</td>\n",
              "      <td>0.25</td>\n",
              "    </tr>\n",
              "    <tr>\n",
              "      <th>15</th>\n",
              "      <td>0.11</td>\n",
              "      <td>0.10</td>\n",
              "      <td>0.08</td>\n",
              "    </tr>\n",
              "    <tr>\n",
              "      <th>16</th>\n",
              "      <td>-0.24</td>\n",
              "      <td>0.03</td>\n",
              "      <td>0.03</td>\n",
              "    </tr>\n",
              "    <tr>\n",
              "      <th>17</th>\n",
              "      <td>0.24</td>\n",
              "      <td>0.15</td>\n",
              "      <td>0.12</td>\n",
              "    </tr>\n",
              "    <tr>\n",
              "      <th>18</th>\n",
              "      <td>0.06</td>\n",
              "      <td>0.08</td>\n",
              "      <td>0.12</td>\n",
              "    </tr>\n",
              "    <tr>\n",
              "      <th>19</th>\n",
              "      <td>0.23</td>\n",
              "      <td>0.24</td>\n",
              "      <td>0.18</td>\n",
              "    </tr>\n",
              "    <tr>\n",
              "      <th>20</th>\n",
              "      <td>0.43</td>\n",
              "      <td>0.41</td>\n",
              "      <td>0.37</td>\n",
              "    </tr>\n",
              "    <tr>\n",
              "      <th>21</th>\n",
              "      <td>0.18</td>\n",
              "      <td>0.13</td>\n",
              "      <td>0.11</td>\n",
              "    </tr>\n",
              "    <tr>\n",
              "      <th>22</th>\n",
              "      <td>0.51</td>\n",
              "      <td>0.46</td>\n",
              "      <td>0.37</td>\n",
              "    </tr>\n",
              "    <tr>\n",
              "      <th>23</th>\n",
              "      <td>0.37</td>\n",
              "      <td>0.26</td>\n",
              "      <td>0.23</td>\n",
              "    </tr>\n",
              "    <tr>\n",
              "      <th>24</th>\n",
              "      <td>0.30</td>\n",
              "      <td>0.23</td>\n",
              "      <td>0.23</td>\n",
              "    </tr>\n",
              "  </tbody>\n",
              "</table>\n",
              "</div>\n",
              "      <button class=\"colab-df-convert\" onclick=\"convertToInteractive('df-8f2949b3-b577-401d-977e-992b0483f4da')\"\n",
              "              title=\"Convert this dataframe to an interactive table.\"\n",
              "              style=\"display:none;\">\n",
              "        \n",
              "  <svg xmlns=\"http://www.w3.org/2000/svg\" height=\"24px\"viewBox=\"0 0 24 24\"\n",
              "       width=\"24px\">\n",
              "    <path d=\"M0 0h24v24H0V0z\" fill=\"none\"/>\n",
              "    <path d=\"M18.56 5.44l.94 2.06.94-2.06 2.06-.94-2.06-.94-.94-2.06-.94 2.06-2.06.94zm-11 1L8.5 8.5l.94-2.06 2.06-.94-2.06-.94L8.5 2.5l-.94 2.06-2.06.94zm10 10l.94 2.06.94-2.06 2.06-.94-2.06-.94-.94-2.06-.94 2.06-2.06.94z\"/><path d=\"M17.41 7.96l-1.37-1.37c-.4-.4-.92-.59-1.43-.59-.52 0-1.04.2-1.43.59L10.3 9.45l-7.72 7.72c-.78.78-.78 2.05 0 2.83L4 21.41c.39.39.9.59 1.41.59.51 0 1.02-.2 1.41-.59l7.78-7.78 2.81-2.81c.8-.78.8-2.07 0-2.86zM5.41 20L4 18.59l7.72-7.72 1.47 1.35L5.41 20z\"/>\n",
              "  </svg>\n",
              "      </button>\n",
              "      \n",
              "  <style>\n",
              "    .colab-df-container {\n",
              "      display:flex;\n",
              "      flex-wrap:wrap;\n",
              "      gap: 12px;\n",
              "    }\n",
              "\n",
              "    .colab-df-convert {\n",
              "      background-color: #E8F0FE;\n",
              "      border: none;\n",
              "      border-radius: 50%;\n",
              "      cursor: pointer;\n",
              "      display: none;\n",
              "      fill: #1967D2;\n",
              "      height: 32px;\n",
              "      padding: 0 0 0 0;\n",
              "      width: 32px;\n",
              "    }\n",
              "\n",
              "    .colab-df-convert:hover {\n",
              "      background-color: #E2EBFA;\n",
              "      box-shadow: 0px 1px 2px rgba(60, 64, 67, 0.3), 0px 1px 3px 1px rgba(60, 64, 67, 0.15);\n",
              "      fill: #174EA6;\n",
              "    }\n",
              "\n",
              "    [theme=dark] .colab-df-convert {\n",
              "      background-color: #3B4455;\n",
              "      fill: #D2E3FC;\n",
              "    }\n",
              "\n",
              "    [theme=dark] .colab-df-convert:hover {\n",
              "      background-color: #434B5C;\n",
              "      box-shadow: 0px 1px 3px 1px rgba(0, 0, 0, 0.15);\n",
              "      filter: drop-shadow(0px 1px 2px rgba(0, 0, 0, 0.3));\n",
              "      fill: #FFFFFF;\n",
              "    }\n",
              "  </style>\n",
              "\n",
              "      <script>\n",
              "        const buttonEl =\n",
              "          document.querySelector('#df-8f2949b3-b577-401d-977e-992b0483f4da button.colab-df-convert');\n",
              "        buttonEl.style.display =\n",
              "          google.colab.kernel.accessAllowed ? 'block' : 'none';\n",
              "\n",
              "        async function convertToInteractive(key) {\n",
              "          const element = document.querySelector('#df-8f2949b3-b577-401d-977e-992b0483f4da');\n",
              "          const dataTable =\n",
              "            await google.colab.kernel.invokeFunction('convertToInteractive',\n",
              "                                                     [key], {});\n",
              "          if (!dataTable) return;\n",
              "\n",
              "          const docLinkHtml = 'Like what you see? Visit the ' +\n",
              "            '<a target=\"_blank\" href=https://colab.research.google.com/notebooks/data_table.ipynb>data table notebook</a>'\n",
              "            + ' to learn more about interactive tables.';\n",
              "          element.innerHTML = '';\n",
              "          dataTable['output_type'] = 'display_data';\n",
              "          await google.colab.output.renderOutput(dataTable, element);\n",
              "          const docLink = document.createElement('div');\n",
              "          docLink.innerHTML = docLinkHtml;\n",
              "          element.appendChild(docLink);\n",
              "        }\n",
              "      </script>\n",
              "    </div>\n",
              "  </div>\n",
              "  "
            ]
          },
          "metadata": {},
          "execution_count": 34
        }
      ]
    },
    {
      "cell_type": "markdown",
      "source": [
        "# save the results\n",
        "\n",
        "\n",
        "---"
      ],
      "metadata": {
        "id": "BTWCdPsFNhb0"
      }
    },
    {
      "cell_type": "code",
      "source": [
        "GWN_pooled_avc.to_csv('/content/drive/MyDrive/M5/GWN_pooled_avc.csv')\n",
        "\n",
        "GWN_pooled_pscr.to_csv('/content/drive/MyDrive/M5/GWN_pooled_pscr.csv')"
      ],
      "metadata": {
        "id": "Uj19OUqpNi6_"
      },
      "execution_count": 35,
      "outputs": []
    }
  ]
}
