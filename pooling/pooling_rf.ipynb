{
  "nbformat": 4,
  "nbformat_minor": 0,
  "metadata": {
    "colab": {
      "name": "pooling_rf.ipynb",
      "provenance": [],
      "authorship_tag": "ABX9TyNuodITRR8rFLuJQqHzJMwn",
      "include_colab_link": true
    },
    "kernelspec": {
      "name": "python3",
      "display_name": "Python 3"
    },
    "language_info": {
      "name": "python"
    }
  },
  "cells": [
    {
      "cell_type": "markdown",
      "metadata": {
        "id": "view-in-github",
        "colab_type": "text"
      },
      "source": [
        "<a href=\"https://colab.research.google.com/github/lennart194/thesis-code/blob/main/pooling_rf.ipynb\" target=\"_parent\"><img src=\"https://colab.research.google.com/assets/colab-badge.svg\" alt=\"Open In Colab\"/></a>"
      ]
    },
    {
      "cell_type": "code",
      "execution_count": null,
      "metadata": {
        "id": "F1Dfv57t_S6o"
      },
      "outputs": [],
      "source": [
        "pip install ddop"
      ]
    },
    {
      "cell_type": "code",
      "source": [
        "import numpy as np\n",
        "import pandas as pd\n",
        "\n",
        "from ddop.newsvendor import RandomForestWeightedNewsvendor\n",
        "from ddop.newsvendor import SampleAverageApproximationNewsvendor\n",
        "\n",
        "from sklearn.model_selection import RandomizedSearchCV\n",
        "\n",
        "from ddop.metrics import average_costs\n",
        "from ddop.metrics import prescriptiveness_score\n",
        "from ddop.metrics import make_scorer"
      ],
      "metadata": {
        "id": "VKi-NN3v_YN2"
      },
      "execution_count": 2,
      "outputs": []
    },
    {
      "cell_type": "code",
      "source": [
        "from google.colab import drive\n",
        "drive.mount('/content/drive')"
      ],
      "metadata": {
        "id": "_JBnueOg_lFh",
        "colab": {
          "base_uri": "https://localhost:8080/"
        },
        "outputId": "07b4e928-044e-49b5-e9be-f22dfe950c25"
      },
      "execution_count": 3,
      "outputs": [
        {
          "output_type": "stream",
          "name": "stdout",
          "text": [
            "Mounted at /content/drive\n"
          ]
        }
      ]
    },
    {
      "cell_type": "markdown",
      "source": [
        "## loading data-set\n",
        "\n",
        "\n",
        "---\n",
        "\n",
        "\n",
        "\n",
        "*   load the whole ultimative set\n",
        "*   sort the rows first by item, then by date and set a multi index\n",
        "**now every items time series can be separated by the index**"
      ],
      "metadata": {
        "id": "zuIsYG8X_q8W"
      }
    },
    {
      "cell_type": "code",
      "source": [
        "data = pd.read_csv('/content/drive/MyDrive/M5/ultimative_set.csv')\n",
        "data = data.drop(columns=['Unnamed: 0'])\n",
        "data = data.sort_values(by=['item_id', 'date'])\n",
        "data = data.set_index(['item_id', 'date'])"
      ],
      "metadata": {
        "id": "IznE5Snq_rfh"
      },
      "execution_count": 4,
      "outputs": []
    },
    {
      "cell_type": "markdown",
      "source": [
        "## split in feature and target matrix\n",
        "\n",
        "\n",
        "---"
      ],
      "metadata": {
        "id": "VJcOnLP3_wl5"
      }
    },
    {
      "cell_type": "code",
      "source": [
        "X = data.drop(columns=['demand'])\n",
        "Y = data['demand']"
      ],
      "metadata": {
        "id": "vNZxGqjU_xQ8"
      },
      "execution_count": 5,
      "outputs": []
    },
    {
      "cell_type": "markdown",
      "source": [
        "## train_test_split\n",
        "\n",
        "\n",
        "---"
      ],
      "metadata": {
        "id": "zmq4sus-_z9U"
      }
    },
    {
      "cell_type": "code",
      "source": [
        "X_train = X.loc[(slice(None), slice(None, \"2015\")), :]\n",
        "X_test = X.loc[(slice(None), slice(\"2015\", '2017')), :]\n",
        "\n",
        "Y_train = Y.loc[(slice(None), slice(None, \"2015\"))]\n",
        "Y_test = Y.loc[(slice(None), slice(\"2015\", \"2017\"))]"
      ],
      "metadata": {
        "id": "8eKXFoR5_3ML"
      },
      "execution_count": 6,
      "outputs": []
    },
    {
      "cell_type": "markdown",
      "source": [
        "## defining the different cost paramerters for special service level and product range\n",
        "\n",
        "\n",
        "\n",
        "---\n",
        "\n",
        "\n",
        "\n",
        "*   cu is the mean of the cumulated 'sell_price' column of the training data\n",
        "*   appending to the corresponding service level co is calculated with (cu - α * cu) / α\n",
        "*   all the costs are rounded to 2 digits"
      ],
      "metadata": {
        "id": "qeD2eag7_5rv"
      }
    },
    {
      "cell_type": "code",
      "source": [
        "prods = list(range(0,25))\n",
        "\n",
        "cu = round(X_train['sell_price'].mean(),2)\n",
        "\n",
        "co_90 = round(((cu-(0.90*cu))/0.90),2)\n",
        "\n",
        "co_75 = round(((cu-(0.75*cu))/0.75),2)\n",
        "\n",
        "co_50 = round(((cu-(0.50*cu))/0.50),2)"
      ],
      "metadata": {
        "id": "9A42fKg5_8AM"
      },
      "execution_count": 7,
      "outputs": []
    },
    {
      "cell_type": "markdown",
      "source": [
        "## determining some parameters\n",
        "\n",
        "\n",
        "---\n",
        "\n",
        "\n",
        "*   the potential range of the params for randomized search are defined\n",
        "*   the estimator, the scorer and finally the whole param_random is defined"
      ],
      "metadata": {
        "id": "51hg0pci_96e"
      }
    },
    {
      "cell_type": "code",
      "source": [
        "max_depth = np.arange(7, 24)\n",
        "n_estimators = np.arange(65, 101)\n",
        "min_samples_leaf = np.arange(2, 6)\n",
        "param_random = dict(max_depth = max_depth, n_estimators = n_estimators, min_samples_leaf = min_samples_leaf)\n",
        "\n",
        "scorer_avc = make_scorer(average_costs, greater_is_better=False)"
      ],
      "metadata": {
        "id": "HCVjUkNLACCT"
      },
      "execution_count": null,
      "outputs": []
    },
    {
      "cell_type": "markdown",
      "source": [
        "# rf for 90% service level\n",
        "\n",
        "\n",
        "---\n",
        "\n",
        "\n",
        "\n",
        "\n",
        "\n",
        "\n",
        "## randomized search\n",
        "\n",
        "\n",
        "\n",
        "\n",
        "*   randomized serach is done once for the entire data-set with the corresponding service level costs\n",
        "*   this step was done with the server of the University of Würzburg because of the high resource consumption \n",
        "*   the results for the best params are: n_estimators = 79 , max_depth = 21 , min_samples_leaf = 2"
      ],
      "metadata": {
        "id": "5kh8-UH8AHu-"
      }
    },
    {
      "cell_type": "code",
      "source": [
        "rf = RandomForestWeightedNewsvendor(cu = cu, co = co_90, random_state = 42, criterion = 'mse')\n",
        "random = RandomizedSearchCV(rf, param_random, cv=5, scoring = scorer_avc, n_jobs=8)\n",
        "random.fit(X_train, Y_train)\n",
        "print(random.best_params_)"
      ],
      "metadata": {
        "id": "qpTS98FOAZXG"
      },
      "execution_count": null,
      "outputs": []
    },
    {
      "cell_type": "markdown",
      "source": [
        "## newsvendor-model 90%\n",
        "\n",
        "\n",
        "\n",
        "---\n",
        "\n",
        "\n",
        "\n",
        "*   the model is trained and tested once for entire data-set with the best hyperparameters\n",
        "*   the prediction is the output"
      ],
      "metadata": {
        "id": "ZX4X5Ot9AxwR"
      }
    },
    {
      "cell_type": "code",
      "source": [
        "rf = RandomForestWeightedNewsvendor(cu = cu, co = co_90, random_state = 42, criterion = 'mse',\n",
        "                                    max_depth = 21, n_estimators = 79, min_samples_leaf = 2)\n",
        "\n",
        "rf.fit(X_train, Y_train)\n",
        "preds_90 = rf.predict(X_test)"
      ],
      "metadata": {
        "id": "sxsJ5P-eAyPJ"
      },
      "execution_count": 8,
      "outputs": []
    },
    {
      "cell_type": "markdown",
      "source": [
        "## reorder the data\n",
        "\n",
        "\n",
        "\n",
        "\n",
        "---\n",
        "\n",
        "\n",
        "\n",
        "*   create a pandas frame 'comp_90' where the real values, the predictions and the predictions from the saa model are in columns next to each other"
      ],
      "metadata": {
        "id": "8-Je5JenBbMs"
      }
    },
    {
      "cell_type": "code",
      "source": [
        "pred_90 = pd.DataFrame(preds_90, columns=['pred_rf_90'])\n",
        "comp_90 = Y.loc[(slice(None), slice(\"2015\", \"2017\"))].reset_index().sort_values(by=['date', 'item_id']).set_index('date')\n",
        "comp_90 = comp_90.reset_index()\n",
        "comp_90['pred_rf_90'] = pred_90[['pred_rf_90']]\n",
        "comp_90 = comp_90.sort_values(by=['item_id', 'date']).set_index(['item_id', 'date'])\n",
        "\n",
        "saa_90 = pd.read_csv('/content/drive/MyDrive/M5/SAA_pred_90.csv').set_index(['item_id', 'date'])\n",
        "\n",
        "comp_90 = pd.concat([comp_90, saa_90], axis = 1)"
      ],
      "metadata": {
        "id": "rBEqMx-DBb7o"
      },
      "execution_count": 9,
      "outputs": []
    },
    {
      "cell_type": "markdown",
      "source": [
        "## average costs and prescriptivess score\n",
        "\n",
        "\n",
        "---\n",
        "\n",
        "\n",
        "\n",
        "*   create a loop where the average_costs (the prescriptivess score) of each item are calculated\n",
        "\n",
        "*   save the results into a pandas frame\n"
      ],
      "metadata": {
        "id": "jAdBgPVJBhwi"
      }
    },
    {
      "cell_type": "code",
      "source": [
        "result_rf_90_avc = []\n",
        "\n",
        "for prod in prods:\n",
        "  avc = round(average_costs(comp_90['demand'].loc[prod], comp_90['pred_rf_90'].loc[prod], cu = cu, co = co_90),2)\n",
        "  result_rf_90_avc.append(avc)"
      ],
      "metadata": {
        "id": "0P1q6eCoBkEm"
      },
      "execution_count": 11,
      "outputs": []
    },
    {
      "cell_type": "code",
      "source": [
        "RF_pooled_avc_90 = pd.DataFrame(result_rf_90_avc, columns=['RF_avc_90'])\n",
        "RF_pooled_avc_90.index.name = 'item_id'"
      ],
      "metadata": {
        "id": "TtVZRgnFBwEq"
      },
      "execution_count": 12,
      "outputs": []
    },
    {
      "cell_type": "code",
      "source": [
        "result_rf_90_pscr = []\n",
        "\n",
        "for prod in prods:\n",
        "  pscr = round(prescriptiveness_score(comp_90['demand'].loc[prod], comp_90['pred_rf_90'].loc[prod],\n",
        "                                      comp_90['SAA_pred_90'].loc[prod], cu = cu, co = co_90),2)\n",
        "  result_rf_90_pscr.append(pscr)"
      ],
      "metadata": {
        "id": "z8KaUQgYlmoh"
      },
      "execution_count": 14,
      "outputs": []
    },
    {
      "cell_type": "code",
      "source": [
        "RF_pooled_pscr_90 = pd.DataFrame(result_rf_90_pscr, columns=['RF_pscr_90'])\n",
        "RF_pooled_pscr_90.index.name = 'item_id'"
      ],
      "metadata": {
        "id": "xyZySxAFqpVL"
      },
      "execution_count": 15,
      "outputs": []
    },
    {
      "cell_type": "markdown",
      "source": [
        "# rf for 75% service level\n",
        "\n",
        "\n",
        "---\n",
        "\n",
        "\n",
        "\n",
        "\n",
        "\n",
        "\n",
        "## randomized search\n",
        "\n",
        "\n",
        "\n",
        "\n",
        "*   randomized serach is done once for the entire data-set with the corresponding service level costs\n",
        "*   this step was done with the server of the University of Würzburg because of the high resource consumption \n",
        "*   the results for the best params are: n_estimators = 87 , max_depth = 18 , min_samples_leaf = 2"
      ],
      "metadata": {
        "id": "v3Hf9hztB7KE"
      }
    },
    {
      "cell_type": "code",
      "source": [
        "rf = RandomForestWeightedNewsvendor(cu = cu, co = co_75, random_state = 42, criterion = 'mse')\n",
        "random = RandomizedSearchCV(rf, param_random, cv=5, scoring = scorer_avc, n_jobs=8)\n",
        "random.fit(X_train, Y_train)\n",
        "print(random.best_params_)"
      ],
      "metadata": {
        "id": "_sa0qjJLCCTU"
      },
      "execution_count": null,
      "outputs": []
    },
    {
      "cell_type": "markdown",
      "source": [
        "## newsvendor-model 75%\n",
        "\n",
        "\n",
        "\n",
        "---\n",
        "\n",
        "\n",
        "\n",
        "*   the model is trained and tested once for entire data-set with the best hyperparameters\n",
        "*   the prediction is the output"
      ],
      "metadata": {
        "id": "hIfSWvYoCQkF"
      }
    },
    {
      "cell_type": "code",
      "source": [
        "rf = RandomForestWeightedNewsvendor(cu = cu, co = co_75, random_state = 42, criterion = 'mse',\n",
        "                                    max_depth = 18, n_estimators = 87, min_samples_leaf = 2)\n",
        "\n",
        "rf.fit(X_train, Y_train)\n",
        "preds_75 = rf.predict(X_test)"
      ],
      "metadata": {
        "id": "Lo2v-W25CWrD"
      },
      "execution_count": 20,
      "outputs": []
    },
    {
      "cell_type": "markdown",
      "source": [
        "## reorder the data\n",
        "\n",
        "\n",
        "\n",
        "\n",
        "---\n",
        "\n",
        "\n",
        "\n",
        "*   create a pandas frame 'comp_75' where the real values, the predictions and the predictions from the saa model are in columns next to each other"
      ],
      "metadata": {
        "id": "gHYB9e-LCqi0"
      }
    },
    {
      "cell_type": "code",
      "source": [
        "pred_75 = pd.DataFrame(preds_75, columns=['pred_rf_75'])\n",
        "comp_75 = Y.loc[(slice(None), slice(\"2015\", \"2017\"))].reset_index().sort_values(by=['date', 'item_id']).set_index('date')\n",
        "comp_75 = comp_75.reset_index()\n",
        "comp_75['pred_rf_75'] = pred_75[['pred_rf_75']]\n",
        "comp_75 = comp_75.set_index(['item_id', 'date'])\n",
        "\n",
        "saa_75 = pd.read_csv('/content/drive/MyDrive/M5/SAA_pred_75.csv').set_index(['item_id', 'date'])\n",
        "\n",
        "comp_75 = pd.concat([comp_75, saa_75], axis = 1)"
      ],
      "metadata": {
        "id": "XNyVyxK8Cq40"
      },
      "execution_count": 21,
      "outputs": []
    },
    {
      "cell_type": "markdown",
      "source": [
        "## average costs and prescriptivess score\n",
        "\n",
        "\n",
        "---\n",
        "\n",
        "\n",
        "\n",
        "*   create a loop where the average_costs (the prescriptivess score) of each item are calculated\n",
        "\n",
        "*   save the results into a pandas frame"
      ],
      "metadata": {
        "id": "qfcrTpD_Cvzd"
      }
    },
    {
      "cell_type": "code",
      "source": [
        "result_rf_75_avc = []\n",
        "\n",
        "for prod in prods:\n",
        "  avc = round(average_costs(comp_75['demand'].loc[prod], comp_75['pred_rf_75'].loc[prod], cu = cu, co = co_75),2)\n",
        "  result_rf_75_avc.append(avc)"
      ],
      "metadata": {
        "id": "lvxfK1CxCzfd"
      },
      "execution_count": 24,
      "outputs": []
    },
    {
      "cell_type": "code",
      "source": [
        "RF_pooled_avc_75 = pd.DataFrame(result_rf_75_avc, columns=['RF_avc_75'])\n",
        "RF_pooled_avc_75.index.name = 'item_id'"
      ],
      "metadata": {
        "id": "tnox3vHkC-sW"
      },
      "execution_count": 25,
      "outputs": []
    },
    {
      "cell_type": "code",
      "source": [
        "result_rf_75_pscr = []\n",
        "\n",
        "for prod in prods:\n",
        "  pscr = round(prescriptiveness_score(comp_75['demand'].loc[prod], comp_75['pred_rf_75'].loc[prod],\n",
        "                                      comp_75['SAA_pred_75'].loc[prod], cu = cu, co = co_75),2)\n",
        "  result_rf_75_pscr.append(pscr)"
      ],
      "metadata": {
        "id": "nGDHigUfoWHb"
      },
      "execution_count": 26,
      "outputs": []
    },
    {
      "cell_type": "code",
      "source": [
        "RF_pooled_pscr_75 = pd.DataFrame(result_rf_75_pscr, columns=['RF_pscr_75'])\n",
        "RF_pooled_pscr_75.index.name = 'item_id'"
      ],
      "metadata": {
        "id": "7lfbB7ZOol1L"
      },
      "execution_count": 27,
      "outputs": []
    },
    {
      "cell_type": "markdown",
      "source": [
        "# rf for 50% service level\n",
        "\n",
        "\n",
        "---\n",
        "\n",
        "\n",
        "\n",
        "\n",
        "\n",
        "\n",
        "## randomized search\n",
        "\n",
        "\n",
        "\n",
        "\n",
        "*   randomized serach is done once for the entire data-set with the corresponding service level costs\n",
        "*   this step was done with the server of the University of Würzburg because of the high resource consumption \n",
        "*   the results for the best params are: n_estimators = 93 , max_depth = 18 , min_samples_leaf = 5"
      ],
      "metadata": {
        "id": "_6IF5LqfDGJZ"
      }
    },
    {
      "cell_type": "code",
      "source": [
        "rf = RandomForestWeightedNewsvendor(cu = cu, co = co_50, random_state = 42, criterion = 'mse')\n",
        "random = RandomizedSearchCV(rf, param_random, cv=5, scoring = scorer_avc, n_jobs=8)\n",
        "random.fit(X_train, Y_train)\n",
        "print(random.best_params_)"
      ],
      "metadata": {
        "id": "6BkFxN1jDRAA"
      },
      "execution_count": null,
      "outputs": []
    },
    {
      "cell_type": "markdown",
      "source": [
        "## newsvendor-model 50%\n",
        "\n",
        "\n",
        "\n",
        "---\n",
        "\n",
        "\n",
        "\n",
        "*   the model is trained and tested once for entire data-set with the best hyperparameters\n",
        "*   the prediction is the output"
      ],
      "metadata": {
        "id": "jujydb3xDTp0"
      }
    },
    {
      "cell_type": "code",
      "source": [
        "rf = RandomForestWeightedNewsvendor(cu = cu, co = co_50, random_state = 42, criterion = 'mse',\n",
        "                                    max_depth = 18, n_estimators = 93, min_samples_leaf = 5)\n",
        "\n",
        "rf.fit(X_train, Y_train)\n",
        "preds_50 = rf.predict(X_test)"
      ],
      "metadata": {
        "id": "w-YnB3t1DaJD"
      },
      "execution_count": 30,
      "outputs": []
    },
    {
      "cell_type": "markdown",
      "source": [
        "## reorder the data\n",
        "\n",
        "\n",
        "\n",
        "\n",
        "---\n",
        "\n",
        "\n",
        "\n",
        "*   create a pandas frame 'comp_50' where the real values, the predictions and the predictions from the saa model are in columns next to each other"
      ],
      "metadata": {
        "id": "vjWNE88ZDtr3"
      }
    },
    {
      "cell_type": "code",
      "source": [
        "pred_50 = pd.DataFrame(preds_50, columns=['pred_rf_50'])\n",
        "comp_50 = Y.loc[(slice(None), slice(\"2015\", \"2017\"))].reset_index().sort_values(by=['date', 'item_id']).set_index('date')\n",
        "comp_50 = comp_50.reset_index()\n",
        "comp_50['pred_rf_50'] = pred_50[['pred_rf_50']]\n",
        "comp_50 = comp_50.set_index(['item_id', 'date'])\n",
        "\n",
        "saa_50 = pd.read_csv('/content/drive/MyDrive/M5/SAA_pred_50.csv').set_index(['item_id', 'date'])\n",
        "\n",
        "comp_50 = pd.concat([comp_50, saa_50], axis = 1)"
      ],
      "metadata": {
        "id": "MMpvjDqdDu2U"
      },
      "execution_count": 31,
      "outputs": []
    },
    {
      "cell_type": "markdown",
      "source": [
        "## average costs and prescriptivess score\n",
        "\n",
        "\n",
        "---\n",
        "\n",
        "\n",
        "\n",
        "*   create a loop where the average_costs (the prescriptivess score) of each item are calculated\n",
        "\n",
        "*   save the results into a pandas frame"
      ],
      "metadata": {
        "id": "vUjJc-EDDx9Q"
      }
    },
    {
      "cell_type": "code",
      "source": [
        "result_rf_50_avc = []\n",
        "\n",
        "for prod in prods:\n",
        "  avc = round(average_costs(comp_50['demand'].loc[prod], comp_50['pred_rf_50'].loc[prod], cu = cu, co = co_50),2)\n",
        "  result_rf_50_avc.append(avc)"
      ],
      "metadata": {
        "id": "p3O_4i8_D0ak"
      },
      "execution_count": 33,
      "outputs": []
    },
    {
      "cell_type": "code",
      "source": [
        "RF_pooled_avc_50 = pd.DataFrame(result_rf_50_avc, columns=['RF_avc_50'])\n",
        "RF_pooled_avc_50.index.name = 'item_id'"
      ],
      "metadata": {
        "id": "rfanDzT0D9Z4"
      },
      "execution_count": 34,
      "outputs": []
    },
    {
      "cell_type": "code",
      "source": [
        "result_rf_50_pscr = []\n",
        "\n",
        "for prod in prods:\n",
        "  pscr = round(prescriptiveness_score(comp_50['demand'].loc[prod], comp_50['pred_rf_50'].loc[prod],\n",
        "                                      comp_50['SAA_pred_50'].loc[prod], cu = cu, co = co_50),2)\n",
        "  result_rf_50_pscr.append(pscr)"
      ],
      "metadata": {
        "id": "_1fhPSxTp4_W"
      },
      "execution_count": 35,
      "outputs": []
    },
    {
      "cell_type": "code",
      "source": [
        "RF_pooled_pscr_50 = pd.DataFrame(result_rf_50_pscr, columns=['RF_pscr_50'])\n",
        "RF_pooled_pscr_50.index.name = 'item_id'"
      ],
      "metadata": {
        "id": "ByA8VDTTqFOS"
      },
      "execution_count": 36,
      "outputs": []
    },
    {
      "cell_type": "markdown",
      "source": [
        "# merge the pandas frames\n",
        "\n",
        "\n",
        "---"
      ],
      "metadata": {
        "id": "WODIsozAEqUH"
      }
    },
    {
      "cell_type": "code",
      "source": [
        "RF_pooled_avc = pd.concat([RF_pooled_avc_90, RF_pooled_avc_75, RF_pooled_avc_50], axis=1)\n",
        "RF_pooled_avc"
      ],
      "metadata": {
        "id": "fz4zuCtDEsNM",
        "colab": {
          "base_uri": "https://localhost:8080/",
          "height": 864
        },
        "outputId": "7c16e869-a665-4659-d390-bbe38d901707"
      },
      "execution_count": 37,
      "outputs": [
        {
          "output_type": "execute_result",
          "data": {
            "text/plain": [
              "         RF_avc_90  RF_avc_75  RF_avc_50\n",
              "item_id                                 \n",
              "0             5.81      11.06      21.33\n",
              "1             4.48      10.93      25.61\n",
              "2             5.99      11.04      21.28\n",
              "3             6.07      11.22      21.65\n",
              "4             9.57      14.71      24.12\n",
              "5             4.35       9.96      22.36\n",
              "6             6.97      11.96      21.75\n",
              "7             6.18      11.11      21.10\n",
              "8             4.26       9.70      21.21\n",
              "9             4.40       9.94      21.92\n",
              "10           55.71      61.45      69.33\n",
              "11            4.96       9.92      19.84\n",
              "12            7.66      12.57      21.96\n",
              "13            4.36      10.82      25.69\n",
              "14            8.93      13.99      23.29\n",
              "15            4.35       9.77      21.82\n",
              "16            4.27      10.56      24.72\n",
              "17           27.17      32.74      41.22\n",
              "18          107.74     113.59     120.84\n",
              "19            3.99       9.61      22.20\n",
              "20           10.74      15.99      25.29\n",
              "21            5.37      10.75      21.25\n",
              "22           10.11      15.42      25.99\n",
              "23           27.48      33.22      41.82\n",
              "24            7.02      12.31      22.93"
            ],
            "text/html": [
              "\n",
              "  <div id=\"df-9eaff2a4-f503-473a-9b88-50c103048ffc\">\n",
              "    <div class=\"colab-df-container\">\n",
              "      <div>\n",
              "<style scoped>\n",
              "    .dataframe tbody tr th:only-of-type {\n",
              "        vertical-align: middle;\n",
              "    }\n",
              "\n",
              "    .dataframe tbody tr th {\n",
              "        vertical-align: top;\n",
              "    }\n",
              "\n",
              "    .dataframe thead th {\n",
              "        text-align: right;\n",
              "    }\n",
              "</style>\n",
              "<table border=\"1\" class=\"dataframe\">\n",
              "  <thead>\n",
              "    <tr style=\"text-align: right;\">\n",
              "      <th></th>\n",
              "      <th>RF_avc_90</th>\n",
              "      <th>RF_avc_75</th>\n",
              "      <th>RF_avc_50</th>\n",
              "    </tr>\n",
              "    <tr>\n",
              "      <th>item_id</th>\n",
              "      <th></th>\n",
              "      <th></th>\n",
              "      <th></th>\n",
              "    </tr>\n",
              "  </thead>\n",
              "  <tbody>\n",
              "    <tr>\n",
              "      <th>0</th>\n",
              "      <td>5.81</td>\n",
              "      <td>11.06</td>\n",
              "      <td>21.33</td>\n",
              "    </tr>\n",
              "    <tr>\n",
              "      <th>1</th>\n",
              "      <td>4.48</td>\n",
              "      <td>10.93</td>\n",
              "      <td>25.61</td>\n",
              "    </tr>\n",
              "    <tr>\n",
              "      <th>2</th>\n",
              "      <td>5.99</td>\n",
              "      <td>11.04</td>\n",
              "      <td>21.28</td>\n",
              "    </tr>\n",
              "    <tr>\n",
              "      <th>3</th>\n",
              "      <td>6.07</td>\n",
              "      <td>11.22</td>\n",
              "      <td>21.65</td>\n",
              "    </tr>\n",
              "    <tr>\n",
              "      <th>4</th>\n",
              "      <td>9.57</td>\n",
              "      <td>14.71</td>\n",
              "      <td>24.12</td>\n",
              "    </tr>\n",
              "    <tr>\n",
              "      <th>5</th>\n",
              "      <td>4.35</td>\n",
              "      <td>9.96</td>\n",
              "      <td>22.36</td>\n",
              "    </tr>\n",
              "    <tr>\n",
              "      <th>6</th>\n",
              "      <td>6.97</td>\n",
              "      <td>11.96</td>\n",
              "      <td>21.75</td>\n",
              "    </tr>\n",
              "    <tr>\n",
              "      <th>7</th>\n",
              "      <td>6.18</td>\n",
              "      <td>11.11</td>\n",
              "      <td>21.10</td>\n",
              "    </tr>\n",
              "    <tr>\n",
              "      <th>8</th>\n",
              "      <td>4.26</td>\n",
              "      <td>9.70</td>\n",
              "      <td>21.21</td>\n",
              "    </tr>\n",
              "    <tr>\n",
              "      <th>9</th>\n",
              "      <td>4.40</td>\n",
              "      <td>9.94</td>\n",
              "      <td>21.92</td>\n",
              "    </tr>\n",
              "    <tr>\n",
              "      <th>10</th>\n",
              "      <td>55.71</td>\n",
              "      <td>61.45</td>\n",
              "      <td>69.33</td>\n",
              "    </tr>\n",
              "    <tr>\n",
              "      <th>11</th>\n",
              "      <td>4.96</td>\n",
              "      <td>9.92</td>\n",
              "      <td>19.84</td>\n",
              "    </tr>\n",
              "    <tr>\n",
              "      <th>12</th>\n",
              "      <td>7.66</td>\n",
              "      <td>12.57</td>\n",
              "      <td>21.96</td>\n",
              "    </tr>\n",
              "    <tr>\n",
              "      <th>13</th>\n",
              "      <td>4.36</td>\n",
              "      <td>10.82</td>\n",
              "      <td>25.69</td>\n",
              "    </tr>\n",
              "    <tr>\n",
              "      <th>14</th>\n",
              "      <td>8.93</td>\n",
              "      <td>13.99</td>\n",
              "      <td>23.29</td>\n",
              "    </tr>\n",
              "    <tr>\n",
              "      <th>15</th>\n",
              "      <td>4.35</td>\n",
              "      <td>9.77</td>\n",
              "      <td>21.82</td>\n",
              "    </tr>\n",
              "    <tr>\n",
              "      <th>16</th>\n",
              "      <td>4.27</td>\n",
              "      <td>10.56</td>\n",
              "      <td>24.72</td>\n",
              "    </tr>\n",
              "    <tr>\n",
              "      <th>17</th>\n",
              "      <td>27.17</td>\n",
              "      <td>32.74</td>\n",
              "      <td>41.22</td>\n",
              "    </tr>\n",
              "    <tr>\n",
              "      <th>18</th>\n",
              "      <td>107.74</td>\n",
              "      <td>113.59</td>\n",
              "      <td>120.84</td>\n",
              "    </tr>\n",
              "    <tr>\n",
              "      <th>19</th>\n",
              "      <td>3.99</td>\n",
              "      <td>9.61</td>\n",
              "      <td>22.20</td>\n",
              "    </tr>\n",
              "    <tr>\n",
              "      <th>20</th>\n",
              "      <td>10.74</td>\n",
              "      <td>15.99</td>\n",
              "      <td>25.29</td>\n",
              "    </tr>\n",
              "    <tr>\n",
              "      <th>21</th>\n",
              "      <td>5.37</td>\n",
              "      <td>10.75</td>\n",
              "      <td>21.25</td>\n",
              "    </tr>\n",
              "    <tr>\n",
              "      <th>22</th>\n",
              "      <td>10.11</td>\n",
              "      <td>15.42</td>\n",
              "      <td>25.99</td>\n",
              "    </tr>\n",
              "    <tr>\n",
              "      <th>23</th>\n",
              "      <td>27.48</td>\n",
              "      <td>33.22</td>\n",
              "      <td>41.82</td>\n",
              "    </tr>\n",
              "    <tr>\n",
              "      <th>24</th>\n",
              "      <td>7.02</td>\n",
              "      <td>12.31</td>\n",
              "      <td>22.93</td>\n",
              "    </tr>\n",
              "  </tbody>\n",
              "</table>\n",
              "</div>\n",
              "      <button class=\"colab-df-convert\" onclick=\"convertToInteractive('df-9eaff2a4-f503-473a-9b88-50c103048ffc')\"\n",
              "              title=\"Convert this dataframe to an interactive table.\"\n",
              "              style=\"display:none;\">\n",
              "        \n",
              "  <svg xmlns=\"http://www.w3.org/2000/svg\" height=\"24px\"viewBox=\"0 0 24 24\"\n",
              "       width=\"24px\">\n",
              "    <path d=\"M0 0h24v24H0V0z\" fill=\"none\"/>\n",
              "    <path d=\"M18.56 5.44l.94 2.06.94-2.06 2.06-.94-2.06-.94-.94-2.06-.94 2.06-2.06.94zm-11 1L8.5 8.5l.94-2.06 2.06-.94-2.06-.94L8.5 2.5l-.94 2.06-2.06.94zm10 10l.94 2.06.94-2.06 2.06-.94-2.06-.94-.94-2.06-.94 2.06-2.06.94z\"/><path d=\"M17.41 7.96l-1.37-1.37c-.4-.4-.92-.59-1.43-.59-.52 0-1.04.2-1.43.59L10.3 9.45l-7.72 7.72c-.78.78-.78 2.05 0 2.83L4 21.41c.39.39.9.59 1.41.59.51 0 1.02-.2 1.41-.59l7.78-7.78 2.81-2.81c.8-.78.8-2.07 0-2.86zM5.41 20L4 18.59l7.72-7.72 1.47 1.35L5.41 20z\"/>\n",
              "  </svg>\n",
              "      </button>\n",
              "      \n",
              "  <style>\n",
              "    .colab-df-container {\n",
              "      display:flex;\n",
              "      flex-wrap:wrap;\n",
              "      gap: 12px;\n",
              "    }\n",
              "\n",
              "    .colab-df-convert {\n",
              "      background-color: #E8F0FE;\n",
              "      border: none;\n",
              "      border-radius: 50%;\n",
              "      cursor: pointer;\n",
              "      display: none;\n",
              "      fill: #1967D2;\n",
              "      height: 32px;\n",
              "      padding: 0 0 0 0;\n",
              "      width: 32px;\n",
              "    }\n",
              "\n",
              "    .colab-df-convert:hover {\n",
              "      background-color: #E2EBFA;\n",
              "      box-shadow: 0px 1px 2px rgba(60, 64, 67, 0.3), 0px 1px 3px 1px rgba(60, 64, 67, 0.15);\n",
              "      fill: #174EA6;\n",
              "    }\n",
              "\n",
              "    [theme=dark] .colab-df-convert {\n",
              "      background-color: #3B4455;\n",
              "      fill: #D2E3FC;\n",
              "    }\n",
              "\n",
              "    [theme=dark] .colab-df-convert:hover {\n",
              "      background-color: #434B5C;\n",
              "      box-shadow: 0px 1px 3px 1px rgba(0, 0, 0, 0.15);\n",
              "      filter: drop-shadow(0px 1px 2px rgba(0, 0, 0, 0.3));\n",
              "      fill: #FFFFFF;\n",
              "    }\n",
              "  </style>\n",
              "\n",
              "      <script>\n",
              "        const buttonEl =\n",
              "          document.querySelector('#df-9eaff2a4-f503-473a-9b88-50c103048ffc button.colab-df-convert');\n",
              "        buttonEl.style.display =\n",
              "          google.colab.kernel.accessAllowed ? 'block' : 'none';\n",
              "\n",
              "        async function convertToInteractive(key) {\n",
              "          const element = document.querySelector('#df-9eaff2a4-f503-473a-9b88-50c103048ffc');\n",
              "          const dataTable =\n",
              "            await google.colab.kernel.invokeFunction('convertToInteractive',\n",
              "                                                     [key], {});\n",
              "          if (!dataTable) return;\n",
              "\n",
              "          const docLinkHtml = 'Like what you see? Visit the ' +\n",
              "            '<a target=\"_blank\" href=https://colab.research.google.com/notebooks/data_table.ipynb>data table notebook</a>'\n",
              "            + ' to learn more about interactive tables.';\n",
              "          element.innerHTML = '';\n",
              "          dataTable['output_type'] = 'display_data';\n",
              "          await google.colab.output.renderOutput(dataTable, element);\n",
              "          const docLink = document.createElement('div');\n",
              "          docLink.innerHTML = docLinkHtml;\n",
              "          element.appendChild(docLink);\n",
              "        }\n",
              "      </script>\n",
              "    </div>\n",
              "  </div>\n",
              "  "
            ]
          },
          "metadata": {},
          "execution_count": 37
        }
      ]
    },
    {
      "cell_type": "code",
      "source": [
        "RF_pooled_pscr = pd.concat([RF_pooled_pscr_90, RF_pooled_pscr_75, RF_pooled_pscr_50], axis=1)\n",
        "RF_pooled_pscr"
      ],
      "metadata": {
        "colab": {
          "base_uri": "https://localhost:8080/",
          "height": 864
        },
        "id": "xWuePdzPqbIR",
        "outputId": "2a52b31d-836d-43a8-acb0-0489c3b2b434"
      },
      "execution_count": 38,
      "outputs": [
        {
          "output_type": "execute_result",
          "data": {
            "text/plain": [
              "         RF_pscr_90  RF_pscr_75  RF_pscr_50\n",
              "item_id                                    \n",
              "0             -0.56       -0.48       -0.69\n",
              "1             -1.50       -1.77       -3.06\n",
              "2             -1.05       -0.97       -1.30\n",
              "3             -0.15       -0.10       -0.41\n",
              "4             -1.96       -1.38       -1.17\n",
              "5             -1.09       -1.36       -2.49\n",
              "6             -1.09       -0.69       -0.83\n",
              "7             -1.26       -1.31       -1.63\n",
              "8             -1.20       -1.62       -2.31\n",
              "9             -1.40       -1.51       -2.31\n",
              "10            -5.56       -2.79       -1.53\n",
              "11            -1.42       -1.40       -1.77\n",
              "12            -1.27       -0.74       -0.74\n",
              "13            -1.45       -2.37       -4.80\n",
              "14            -1.90       -1.15       -0.80\n",
              "15            -1.50       -1.81       -2.70\n",
              "16            -3.07       -3.48       -5.18\n",
              "17            -5.64       -3.01       -1.86\n",
              "18           -11.61       -5.43       -2.91\n",
              "19            -1.19       -1.78       -3.18\n",
              "20            -1.68       -0.89       -0.80\n",
              "21            -1.28       -1.37       -1.62\n",
              "22            -0.72       -0.46       -0.66\n",
              "23            -3.67       -1.91       -1.14\n",
              "24            -1.27       -1.03       -1.01"
            ],
            "text/html": [
              "\n",
              "  <div id=\"df-269c3694-05ad-47b7-ab88-298ad1f56a0e\">\n",
              "    <div class=\"colab-df-container\">\n",
              "      <div>\n",
              "<style scoped>\n",
              "    .dataframe tbody tr th:only-of-type {\n",
              "        vertical-align: middle;\n",
              "    }\n",
              "\n",
              "    .dataframe tbody tr th {\n",
              "        vertical-align: top;\n",
              "    }\n",
              "\n",
              "    .dataframe thead th {\n",
              "        text-align: right;\n",
              "    }\n",
              "</style>\n",
              "<table border=\"1\" class=\"dataframe\">\n",
              "  <thead>\n",
              "    <tr style=\"text-align: right;\">\n",
              "      <th></th>\n",
              "      <th>RF_pscr_90</th>\n",
              "      <th>RF_pscr_75</th>\n",
              "      <th>RF_pscr_50</th>\n",
              "    </tr>\n",
              "    <tr>\n",
              "      <th>item_id</th>\n",
              "      <th></th>\n",
              "      <th></th>\n",
              "      <th></th>\n",
              "    </tr>\n",
              "  </thead>\n",
              "  <tbody>\n",
              "    <tr>\n",
              "      <th>0</th>\n",
              "      <td>-0.56</td>\n",
              "      <td>-0.48</td>\n",
              "      <td>-0.69</td>\n",
              "    </tr>\n",
              "    <tr>\n",
              "      <th>1</th>\n",
              "      <td>-1.50</td>\n",
              "      <td>-1.77</td>\n",
              "      <td>-3.06</td>\n",
              "    </tr>\n",
              "    <tr>\n",
              "      <th>2</th>\n",
              "      <td>-1.05</td>\n",
              "      <td>-0.97</td>\n",
              "      <td>-1.30</td>\n",
              "    </tr>\n",
              "    <tr>\n",
              "      <th>3</th>\n",
              "      <td>-0.15</td>\n",
              "      <td>-0.10</td>\n",
              "      <td>-0.41</td>\n",
              "    </tr>\n",
              "    <tr>\n",
              "      <th>4</th>\n",
              "      <td>-1.96</td>\n",
              "      <td>-1.38</td>\n",
              "      <td>-1.17</td>\n",
              "    </tr>\n",
              "    <tr>\n",
              "      <th>5</th>\n",
              "      <td>-1.09</td>\n",
              "      <td>-1.36</td>\n",
              "      <td>-2.49</td>\n",
              "    </tr>\n",
              "    <tr>\n",
              "      <th>6</th>\n",
              "      <td>-1.09</td>\n",
              "      <td>-0.69</td>\n",
              "      <td>-0.83</td>\n",
              "    </tr>\n",
              "    <tr>\n",
              "      <th>7</th>\n",
              "      <td>-1.26</td>\n",
              "      <td>-1.31</td>\n",
              "      <td>-1.63</td>\n",
              "    </tr>\n",
              "    <tr>\n",
              "      <th>8</th>\n",
              "      <td>-1.20</td>\n",
              "      <td>-1.62</td>\n",
              "      <td>-2.31</td>\n",
              "    </tr>\n",
              "    <tr>\n",
              "      <th>9</th>\n",
              "      <td>-1.40</td>\n",
              "      <td>-1.51</td>\n",
              "      <td>-2.31</td>\n",
              "    </tr>\n",
              "    <tr>\n",
              "      <th>10</th>\n",
              "      <td>-5.56</td>\n",
              "      <td>-2.79</td>\n",
              "      <td>-1.53</td>\n",
              "    </tr>\n",
              "    <tr>\n",
              "      <th>11</th>\n",
              "      <td>-1.42</td>\n",
              "      <td>-1.40</td>\n",
              "      <td>-1.77</td>\n",
              "    </tr>\n",
              "    <tr>\n",
              "      <th>12</th>\n",
              "      <td>-1.27</td>\n",
              "      <td>-0.74</td>\n",
              "      <td>-0.74</td>\n",
              "    </tr>\n",
              "    <tr>\n",
              "      <th>13</th>\n",
              "      <td>-1.45</td>\n",
              "      <td>-2.37</td>\n",
              "      <td>-4.80</td>\n",
              "    </tr>\n",
              "    <tr>\n",
              "      <th>14</th>\n",
              "      <td>-1.90</td>\n",
              "      <td>-1.15</td>\n",
              "      <td>-0.80</td>\n",
              "    </tr>\n",
              "    <tr>\n",
              "      <th>15</th>\n",
              "      <td>-1.50</td>\n",
              "      <td>-1.81</td>\n",
              "      <td>-2.70</td>\n",
              "    </tr>\n",
              "    <tr>\n",
              "      <th>16</th>\n",
              "      <td>-3.07</td>\n",
              "      <td>-3.48</td>\n",
              "      <td>-5.18</td>\n",
              "    </tr>\n",
              "    <tr>\n",
              "      <th>17</th>\n",
              "      <td>-5.64</td>\n",
              "      <td>-3.01</td>\n",
              "      <td>-1.86</td>\n",
              "    </tr>\n",
              "    <tr>\n",
              "      <th>18</th>\n",
              "      <td>-11.61</td>\n",
              "      <td>-5.43</td>\n",
              "      <td>-2.91</td>\n",
              "    </tr>\n",
              "    <tr>\n",
              "      <th>19</th>\n",
              "      <td>-1.19</td>\n",
              "      <td>-1.78</td>\n",
              "      <td>-3.18</td>\n",
              "    </tr>\n",
              "    <tr>\n",
              "      <th>20</th>\n",
              "      <td>-1.68</td>\n",
              "      <td>-0.89</td>\n",
              "      <td>-0.80</td>\n",
              "    </tr>\n",
              "    <tr>\n",
              "      <th>21</th>\n",
              "      <td>-1.28</td>\n",
              "      <td>-1.37</td>\n",
              "      <td>-1.62</td>\n",
              "    </tr>\n",
              "    <tr>\n",
              "      <th>22</th>\n",
              "      <td>-0.72</td>\n",
              "      <td>-0.46</td>\n",
              "      <td>-0.66</td>\n",
              "    </tr>\n",
              "    <tr>\n",
              "      <th>23</th>\n",
              "      <td>-3.67</td>\n",
              "      <td>-1.91</td>\n",
              "      <td>-1.14</td>\n",
              "    </tr>\n",
              "    <tr>\n",
              "      <th>24</th>\n",
              "      <td>-1.27</td>\n",
              "      <td>-1.03</td>\n",
              "      <td>-1.01</td>\n",
              "    </tr>\n",
              "  </tbody>\n",
              "</table>\n",
              "</div>\n",
              "      <button class=\"colab-df-convert\" onclick=\"convertToInteractive('df-269c3694-05ad-47b7-ab88-298ad1f56a0e')\"\n",
              "              title=\"Convert this dataframe to an interactive table.\"\n",
              "              style=\"display:none;\">\n",
              "        \n",
              "  <svg xmlns=\"http://www.w3.org/2000/svg\" height=\"24px\"viewBox=\"0 0 24 24\"\n",
              "       width=\"24px\">\n",
              "    <path d=\"M0 0h24v24H0V0z\" fill=\"none\"/>\n",
              "    <path d=\"M18.56 5.44l.94 2.06.94-2.06 2.06-.94-2.06-.94-.94-2.06-.94 2.06-2.06.94zm-11 1L8.5 8.5l.94-2.06 2.06-.94-2.06-.94L8.5 2.5l-.94 2.06-2.06.94zm10 10l.94 2.06.94-2.06 2.06-.94-2.06-.94-.94-2.06-.94 2.06-2.06.94z\"/><path d=\"M17.41 7.96l-1.37-1.37c-.4-.4-.92-.59-1.43-.59-.52 0-1.04.2-1.43.59L10.3 9.45l-7.72 7.72c-.78.78-.78 2.05 0 2.83L4 21.41c.39.39.9.59 1.41.59.51 0 1.02-.2 1.41-.59l7.78-7.78 2.81-2.81c.8-.78.8-2.07 0-2.86zM5.41 20L4 18.59l7.72-7.72 1.47 1.35L5.41 20z\"/>\n",
              "  </svg>\n",
              "      </button>\n",
              "      \n",
              "  <style>\n",
              "    .colab-df-container {\n",
              "      display:flex;\n",
              "      flex-wrap:wrap;\n",
              "      gap: 12px;\n",
              "    }\n",
              "\n",
              "    .colab-df-convert {\n",
              "      background-color: #E8F0FE;\n",
              "      border: none;\n",
              "      border-radius: 50%;\n",
              "      cursor: pointer;\n",
              "      display: none;\n",
              "      fill: #1967D2;\n",
              "      height: 32px;\n",
              "      padding: 0 0 0 0;\n",
              "      width: 32px;\n",
              "    }\n",
              "\n",
              "    .colab-df-convert:hover {\n",
              "      background-color: #E2EBFA;\n",
              "      box-shadow: 0px 1px 2px rgba(60, 64, 67, 0.3), 0px 1px 3px 1px rgba(60, 64, 67, 0.15);\n",
              "      fill: #174EA6;\n",
              "    }\n",
              "\n",
              "    [theme=dark] .colab-df-convert {\n",
              "      background-color: #3B4455;\n",
              "      fill: #D2E3FC;\n",
              "    }\n",
              "\n",
              "    [theme=dark] .colab-df-convert:hover {\n",
              "      background-color: #434B5C;\n",
              "      box-shadow: 0px 1px 3px 1px rgba(0, 0, 0, 0.15);\n",
              "      filter: drop-shadow(0px 1px 2px rgba(0, 0, 0, 0.3));\n",
              "      fill: #FFFFFF;\n",
              "    }\n",
              "  </style>\n",
              "\n",
              "      <script>\n",
              "        const buttonEl =\n",
              "          document.querySelector('#df-269c3694-05ad-47b7-ab88-298ad1f56a0e button.colab-df-convert');\n",
              "        buttonEl.style.display =\n",
              "          google.colab.kernel.accessAllowed ? 'block' : 'none';\n",
              "\n",
              "        async function convertToInteractive(key) {\n",
              "          const element = document.querySelector('#df-269c3694-05ad-47b7-ab88-298ad1f56a0e');\n",
              "          const dataTable =\n",
              "            await google.colab.kernel.invokeFunction('convertToInteractive',\n",
              "                                                     [key], {});\n",
              "          if (!dataTable) return;\n",
              "\n",
              "          const docLinkHtml = 'Like what you see? Visit the ' +\n",
              "            '<a target=\"_blank\" href=https://colab.research.google.com/notebooks/data_table.ipynb>data table notebook</a>'\n",
              "            + ' to learn more about interactive tables.';\n",
              "          element.innerHTML = '';\n",
              "          dataTable['output_type'] = 'display_data';\n",
              "          await google.colab.output.renderOutput(dataTable, element);\n",
              "          const docLink = document.createElement('div');\n",
              "          docLink.innerHTML = docLinkHtml;\n",
              "          element.appendChild(docLink);\n",
              "        }\n",
              "      </script>\n",
              "    </div>\n",
              "  </div>\n",
              "  "
            ]
          },
          "metadata": {},
          "execution_count": 38
        }
      ]
    },
    {
      "cell_type": "markdown",
      "source": [
        "# save the results\n",
        "\n",
        "\n",
        "---"
      ],
      "metadata": {
        "id": "FlNu6553Ezl_"
      }
    },
    {
      "cell_type": "code",
      "source": [
        "RF_pooled_avc.to_csv('/content/drive/MyDrive/M5/RF_pooled_avc.csv')\n",
        "\n",
        "RF_pooled_pscr.to_csv('/content/drive/MyDrive/M5/RF_pooled_pscr.csv')"
      ],
      "metadata": {
        "id": "jG2yuiaPE8oR"
      },
      "execution_count": 39,
      "outputs": []
    }
  ]
}
