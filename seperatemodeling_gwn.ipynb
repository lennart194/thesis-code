{
  "nbformat": 4,
  "nbformat_minor": 0,
  "metadata": {
    "colab": {
      "name": "seperatemodeling_gwn.ipynb",
      "provenance": [],
      "collapsed_sections": [],
      "authorship_tag": "ABX9TyNzdLs8lOi4Zp2alhVM0XEK",
      "include_colab_link": true
    },
    "kernelspec": {
      "name": "python3",
      "display_name": "Python 3"
    },
    "language_info": {
      "name": "python"
    }
  },
  "cells": [
    {
      "cell_type": "markdown",
      "metadata": {
        "id": "view-in-github",
        "colab_type": "text"
      },
      "source": [
        "<a href=\"https://colab.research.google.com/github/lennart194/thesis-code/blob/main/seperatemodeling_gwn.ipynb\" target=\"_parent\"><img src=\"https://colab.research.google.com/assets/colab-badge.svg\" alt=\"Open In Colab\"/></a>"
      ]
    },
    {
      "cell_type": "code",
      "execution_count": null,
      "metadata": {
        "id": "oVGgl3ubfvD8"
      },
      "outputs": [],
      "source": [
        "pip install ddop"
      ]
    },
    {
      "cell_type": "code",
      "source": [
        "import pandas as pd\n",
        "import numpy as np\n",
        "\n",
        "from ddop.newsvendor import GaussianWeightedNewsvendor\n",
        "from ddop.newsvendor import SampleAverageApproximationNewsvendor\n",
        "\n",
        "from sklearn.model_selection import RandomizedSearchCV\n",
        "\n",
        "from ddop.metrics import make_scorer\n",
        "from ddop.metrics import average_costs"
      ],
      "metadata": {
        "id": "FjO6FWifgO8X"
      },
      "execution_count": null,
      "outputs": []
    },
    {
      "cell_type": "code",
      "source": [
        "from google.colab import drive\n",
        "drive.mount('/content/drive')"
      ],
      "metadata": {
        "colab": {
          "base_uri": "https://localhost:8080/"
        },
        "id": "ApbAdnlng1Ii",
        "outputId": "114e45ed-8d4a-4677-8098-31ded1d9a2d4"
      },
      "execution_count": null,
      "outputs": [
        {
          "output_type": "stream",
          "name": "stdout",
          "text": [
            "Mounted at /content/drive\n"
          ]
        }
      ]
    },
    {
      "cell_type": "markdown",
      "source": [
        "## Loading data-set\n",
        "\n",
        "*   load the whole ultimative set\n",
        "*   sort the rows first by item, then by date and set a multi index\n",
        "**now every items time series can be separated by the index**"
      ],
      "metadata": {
        "id": "cSp_ZCOuhBbo"
      }
    },
    {
      "cell_type": "code",
      "source": [
        "data = pd.read_csv('/content/drive/MyDrive/M5/ultimative_set.csv')\n",
        "data = data.drop(columns=['Unnamed: 0'])\n",
        "data = data.sort_values(by=['item_id', 'date'])\n",
        "data = data.set_index(['item_id', 'date'])"
      ],
      "metadata": {
        "id": "jKBruDZ2g9C0"
      },
      "execution_count": null,
      "outputs": []
    },
    {
      "cell_type": "markdown",
      "source": [
        "## Split in feature and target matrix"
      ],
      "metadata": {
        "id": "5jCrvBdLhMo5"
      }
    },
    {
      "cell_type": "code",
      "source": [
        "X = data.drop(columns=['demand'])\n",
        "Y = data['demand']"
      ],
      "metadata": {
        "id": "dPqpH1BShNjh"
      },
      "execution_count": null,
      "outputs": []
    },
    {
      "cell_type": "markdown",
      "source": [
        "## train_test_split"
      ],
      "metadata": {
        "id": "aHareKJphRRI"
      }
    },
    {
      "cell_type": "code",
      "source": [
        "X_train = X.loc[(slice(None), slice(None, \"2015\")), :]\n",
        "X_test = X.loc[(slice(None), slice(\"2015\", '2017')), :]\n",
        "\n",
        "Y_train = Y.loc[(slice(None), slice(None, \"2015\"))]\n",
        "Y_test = Y.loc[(slice(None), slice(\"2015\", \"2017\"))]"
      ],
      "metadata": {
        "id": "UmvbeyQGhUD-"
      },
      "execution_count": null,
      "outputs": []
    },
    {
      "cell_type": "markdown",
      "source": [
        "## Definition of the item_ids \n",
        "\n",
        "\n",
        "*   will be needed within the for loops later\n",
        "*   will contain all 25 products"
      ],
      "metadata": {
        "id": "wu3tFJClhYr-"
      }
    },
    {
      "cell_type": "code",
      "source": [
        "prods = list(range(0,25))"
      ],
      "metadata": {
        "id": "XJgaH6owhXGb"
      },
      "execution_count": null,
      "outputs": []
    },
    {
      "cell_type": "markdown",
      "source": [
        "## Determining some parameters\n",
        "*   the potential params and their values for randomized search are defined\n",
        "*   the estimator, the scorer and finally the whole grid is defined"
      ],
      "metadata": {
        "id": "peiSbIK1heiZ"
      }
    },
    {
      "cell_type": "code",
      "source": [
        "kernel_bandwidth = np.array([20, 25, 28, 30, 35, 40, 50, 60, 80, 100])\n",
        "param_random = dict(kernel_bandwidth = kernel_bandwidth)\n",
        "\n",
        "scorer_avc = make_scorer(average_costs, greater_is_better=False)"
      ],
      "metadata": {
        "id": "OG6m7i8shhi8"
      },
      "execution_count": null,
      "outputs": []
    },
    {
      "cell_type": "markdown",
      "source": [
        "# gwn for 95% service level\n",
        "\n",
        "## randomized search\n",
        "*   an empty list is created for every type of hyperparameter\n",
        "*   in a for-loop the randomized search is executed for every item with cu and co of alpha = 0,95\n",
        "*   the best hyperparams are calculated and added to the corresponding list"
      ],
      "metadata": {
        "id": "f5mOsGHmlUeo"
      }
    },
    {
      "cell_type": "code",
      "source": [
        "best_param_kbwth_95 = []\n",
        "\n",
        "for prod in prods:\n",
        "  \n",
        "  cu = X_train.loc[prod]['sell_price'].mean()\n",
        "  co_95 = ((cu-(0.95*cu))/0.95)\n",
        "  gwn = GaussianWeightedNewsvendor(cu = cu, co = co_95)\n",
        "\n",
        "  random = RandomizedSearchCV(gwn, param_random, cv=5, scoring = scorer_avc)\n",
        "  random.fit(X_train.loc[prod], Y_train.loc[prod])\n",
        "    \n",
        "  kbwth = random.best_params_.get('kernel_bandwidth')\n",
        "\n",
        "  best_param_kbwth_95.append(kbwth)"
      ],
      "metadata": {
        "id": "xfS7KdoAkNRY"
      },
      "execution_count": null,
      "outputs": []
    },
    {
      "cell_type": "markdown",
      "source": [
        "## Newsvendor-Model\n",
        "*   the data-driven newsvendor model is executed in a loop for every single item (with optimal hyperparameters)\n",
        "*   the average_costs for every item are calculated (later the prescritiveness score will be used for better comparability)"
      ],
      "metadata": {
        "id": "L7DAI7IMmNAt"
      }
    },
    {
      "cell_type": "code",
      "source": [
        "result_gwn_95_avc = []\n",
        "for prod in prods:\n",
        "  cu = X_train.loc[prod]['sell_price'].mean()\n",
        "  co_95 = ((cu-(0.95*cu))/0.95)\n",
        "  \n",
        "  knn = GaussianWeightedNewsvendor(cu = cu, co = co_95, kernel_bandwidth = best_param_kbwth_95[prod])\n",
        "  gwn.fit(X_train.loc[prod], Y_train.loc[prod])\n",
        "  preds = gwn.predict(X_test.loc[prod])\n",
        "\n",
        "  avc = round(average_costs(Y_test.loc[prod], preds, cu = cu, co = co_95),2)\n",
        "  result_gwn_95_avc.append(avc)"
      ],
      "metadata": {
        "id": "ILTcvkuBmNqQ"
      },
      "execution_count": null,
      "outputs": []
    },
    {
      "cell_type": "code",
      "source": [
        "GWN_separate_avc_95 = pd.DataFrame(result_gwn_95_avc, columns=['GWN_avc_95'])\n",
        "GWN_separate_avc_95.index.name = 'item_id'"
      ],
      "metadata": {
        "id": "srkYczRKmpdp"
      },
      "execution_count": null,
      "outputs": []
    },
    {
      "cell_type": "code",
      "source": [
        "result_gwn_95_pscr = []\n",
        "for prod in prods:\n",
        "  cu = X_train.loc[prod]['sell_price'].mean()\n",
        "  co_95 = ((cu-(0.95*cu))/0.95)\n",
        "  \n",
        "  gwn = GaussianWeightedNewsvendor(cu = cu, co = co_95, kernel_bandwidth = best_param_kbwth_95[prod])\n",
        "  gwn.fit(X_train.loc[prod], Y_train.loc[prod])\n",
        "  preds_gwn = gwn.predict(X_test.loc[prod])\n",
        "\n",
        "\n",
        "  saa = SampleAverageApproximationNewsvendor(cu = cu, co = co_95)\n",
        "  saa.fit(Y_train.loc[prod])\n",
        "  preds_saa = saa.predict(n_steps = 508)\n",
        "  \n",
        "  pscr = prescriptiveness_score(Y_test.loc[prod], preds_gwn, preds_saa, cu = cu, co = co_95)\n",
        "  result_gwn_95_pscr.append(pscr)"
      ],
      "metadata": {
        "id": "2YdHRPpSm1Gq"
      },
      "execution_count": null,
      "outputs": []
    },
    {
      "cell_type": "code",
      "source": [
        "GWN_separate_pscr_95 = pd.DataFrame(result_gwn_95_pscr, columns=['GWN_pscr_95'])\n",
        "GWN_separate_pscr_95.index.name = 'item_id'"
      ],
      "metadata": {
        "id": "V7TPxmWGnyCe"
      },
      "execution_count": null,
      "outputs": []
    },
    {
      "cell_type": "markdown",
      "source": [
        "# gwn for 90% service level\n",
        "\n",
        "## randomized search\n",
        "*   an empty list is created for every type of hyperparameter\n",
        "*   in a for-loop the randomized search is executed for every item with cu and co of alpha = 0,9\n",
        "*   the best hyperparams are calculated and added to the corresponding list"
      ],
      "metadata": {
        "id": "Cn4KOXdioCm8"
      }
    },
    {
      "cell_type": "code",
      "source": [
        "best_param_kbwth_90 = []\n",
        "\n",
        "for prod in prods:\n",
        "  \n",
        "  cu = X_train.loc[prod]['sell_price'].mean()\n",
        "  co_90 = ((cu-(0.90*cu))/0.90)\n",
        "  gwn = GaussianWeightedNewsvendor(cu = cu, co = co_90)\n",
        "\n",
        "  random = RandomizedSearchCV(gwn, param_random, cv=5, scoring = scorer_avc)\n",
        "  random.fit(X_train.loc[prod], Y_train.loc[prod])\n",
        "    \n",
        "  kbwth = random.best_params_.get('kernel_bandwidth')\n",
        "\n",
        "  best_param_kbwth_90.append(kbwth)"
      ],
      "metadata": {
        "id": "q7VocnFuoDgP"
      },
      "execution_count": null,
      "outputs": []
    },
    {
      "cell_type": "markdown",
      "source": [
        "## Newsvendor-Model\n",
        "*   the data-driven newsvendor model is executed in a loop for every single item (with optimal hyperparameters)\n",
        "*   the average_costs for every item are calculated (later the prescritiveness score will be used for better comparability)"
      ],
      "metadata": {
        "id": "i_SOQ1eGomHs"
      }
    },
    {
      "cell_type": "code",
      "source": [
        "result_gwn_90_avc = []\n",
        "for prod in prods:\n",
        "  cu = X_train.loc[prod]['sell_price'].mean()\n",
        "  co_90 = ((cu-(0.90*cu))/0.90)\n",
        "  \n",
        "  knn = GaussianWeightedNewsvendor(cu = cu, co = co_90, kernel_bandwidth = best_param_kbwth_90[prod])\n",
        "  gwn.fit(X_train.loc[prod], Y_train.loc[prod])\n",
        "  preds = gwn.predict(X_test.loc[prod])\n",
        "\n",
        "  avc = round(average_costs(Y_test.loc[prod], preds, cu = cu, co = co_90),2)\n",
        "  result_gwn_90_avc.append(avc)"
      ],
      "metadata": {
        "id": "ZAwYy3Kgoo2K"
      },
      "execution_count": null,
      "outputs": []
    },
    {
      "cell_type": "code",
      "source": [
        "GWN_separate_avc_90 = pd.DataFrame(result_gwn_90_avc, columns=['GWN_avc_90'])\n",
        "GWN_separate_avc_90.index.name = 'item_id'"
      ],
      "metadata": {
        "id": "teE5l5ANo7Lm"
      },
      "execution_count": null,
      "outputs": []
    },
    {
      "cell_type": "code",
      "source": [
        "result_gwn_90_pscr = []\n",
        "for prod in prods:\n",
        "  cu = X_train.loc[prod]['sell_price'].mean()\n",
        "  co_90 = ((cu-(0.90*cu))/0.90)\n",
        "  \n",
        "  gwn = GaussianWeightedNewsvendor(cu = cu, co = co_90, kernel_bandwidth = best_param_kbwth_90[prod])\n",
        "  gwn.fit(X_train.loc[prod], Y_train.loc[prod])\n",
        "  preds_gwn = gwn.predict(X_test.loc[prod])\n",
        "\n",
        "\n",
        "  saa = SampleAverageApproximationNewsvendor(cu = cu, co = co_90)\n",
        "  saa.fit(Y_train.loc[prod])\n",
        "  preds_saa = saa.predict(n_steps = 508)\n",
        "  \n",
        "  pscr = prescriptiveness_score(Y_test.loc[prod], preds_gwn, preds_saa, cu = cu, co = co_90)\n",
        "  result_gwn_90_pscr.append(pscr)"
      ],
      "metadata": {
        "id": "-j_eeicfpHYP"
      },
      "execution_count": null,
      "outputs": []
    },
    {
      "cell_type": "code",
      "source": [
        "GWN_separate_pscr_90 = pd.DataFrame(result_gwn_90_pscr, columns=['GWN_pscr_90'])\n",
        "GWN_separate_pscr_90.index.name = 'item_id'"
      ],
      "metadata": {
        "id": "1liqRogxpXhh"
      },
      "execution_count": null,
      "outputs": []
    },
    {
      "cell_type": "markdown",
      "source": [
        "# gwn for 75% service level\n",
        "\n",
        "## randomized search\n",
        "*   an empty list is created for every type of hyperparameter\n",
        "*   in a for-loop the randomized search is executed for every item with cu and co of alpha = 0,75\n",
        "*   the best hyperparams are calculated and added to the corresponding list"
      ],
      "metadata": {
        "id": "vFA7NlFCpeT5"
      }
    },
    {
      "cell_type": "code",
      "source": [
        "best_param_kbwth_75 = []\n",
        "\n",
        "for prod in prods:\n",
        "  \n",
        "  cu = X_train.loc[prod]['sell_price'].mean()\n",
        "  co_75 = ((cu-(0.75*cu))/0.75)\n",
        "  gwn = GaussianWeightedNewsvendor(cu = cu, co = co_75)\n",
        "\n",
        "  random = RandomizedSearchCV(gwn, param_random, cv=5, scoring = scorer_avc)\n",
        "  random.fit(X_train.loc[prod], Y_train.loc[prod])\n",
        "    \n",
        "  kbwth = random.best_params_.get('kernel_bandwidth')\n",
        "\n",
        "  best_param_kbwth_75.append(kbwth)"
      ],
      "metadata": {
        "id": "BQZ8cI8HpgoR"
      },
      "execution_count": null,
      "outputs": []
    },
    {
      "cell_type": "markdown",
      "source": [
        "## Newsvendor-Model\n",
        "*   the data-driven newsvendor model is executed in a loop for every single item (with optimal hyperparameters)\n",
        "*   the average_costs for every item are calculated (later the prescritiveness score will be used for better comparability)"
      ],
      "metadata": {
        "id": "iQJpLFQgp83K"
      }
    },
    {
      "cell_type": "code",
      "source": [
        "result_gwn_75_avc = []\n",
        "for prod in prods:\n",
        "  cu = X_train.loc[prod]['sell_price'].mean()\n",
        "  co_75 = ((cu-(0.75*cu))/0.75)\n",
        "  \n",
        "  knn = GaussianWeightedNewsvendor(cu = cu, co = co_75, kernel_bandwidth = best_param_kbwth_75[prod])\n",
        "  gwn.fit(X_train.loc[prod], Y_train.loc[prod])\n",
        "  preds = gwn.predict(X_test.loc[prod])\n",
        "\n",
        "  avc = round(average_costs(Y_test.loc[prod], preds, cu = cu, co = co_75),2)\n",
        "  result_gwn_75_avc.append(avc)"
      ],
      "metadata": {
        "id": "5GKWB2_sqANs"
      },
      "execution_count": null,
      "outputs": []
    },
    {
      "cell_type": "code",
      "source": [
        "GWN_separate_avc_75 = pd.DataFrame(result_gwn_75_avc, columns=['GWN_avc_75'])\n",
        "GWN_separate_avc_75.index.name = 'item_id'"
      ],
      "metadata": {
        "id": "4UvPRs40qRr2"
      },
      "execution_count": null,
      "outputs": []
    },
    {
      "cell_type": "code",
      "source": [
        "result_gwn_75_pscr = []\n",
        "for prod in prods:\n",
        "  cu = X_train.loc[prod]['sell_price'].mean()\n",
        "  co_75 = ((cu-(0.75*cu))/0.75)\n",
        "  \n",
        "  gwn = GaussianWeightedNewsvendor(cu = cu, co = co_75, kernel_bandwidth = best_param_kbwth_75[prod])\n",
        "  gwn.fit(X_train.loc[prod], Y_train.loc[prod])\n",
        "  preds_gwn = gwn.predict(X_test.loc[prod])\n",
        "\n",
        "\n",
        "  saa = SampleAverageApproximationNewsvendor(cu = cu, co = co_75)\n",
        "  saa.fit(Y_train.loc[prod])\n",
        "  preds_saa = saa.predict(n_steps = 508)\n",
        "  \n",
        "  pscr = prescriptiveness_score(Y_test.loc[prod], preds_gwn, preds_saa, cu = cu, co = co_75)\n",
        "  result_gwn_75_pscr.append(pscr)"
      ],
      "metadata": {
        "id": "yZWLDyjqqZx6"
      },
      "execution_count": null,
      "outputs": []
    },
    {
      "cell_type": "code",
      "source": [
        "GWN_separate_pscr_75 = pd.DataFrame(result_gwn_75_pscr, columns=['GWN_pscr_75'])\n",
        "GWN_separate_pscr_75.index.name = 'item_id'"
      ],
      "metadata": {
        "id": "-MKQzg1WqnPx"
      },
      "execution_count": null,
      "outputs": []
    },
    {
      "cell_type": "markdown",
      "source": [
        "# gwn for 50% service level\n",
        "\n",
        "## randomized search\n",
        "*   an empty list is created for every type of hyperparameter\n",
        "*   in a for-loop the randomized search is executed for every item with cu and co of alpha = 0,5\n",
        "*   the best hyperparams are calculated and added to the corresponding list"
      ],
      "metadata": {
        "id": "T82410tJqxt6"
      }
    },
    {
      "cell_type": "code",
      "source": [
        "best_param_kbwth_50 = []\n",
        "\n",
        "for prod in prods:\n",
        "  \n",
        "  cu = X_train.loc[prod]['sell_price'].mean()\n",
        "  co_50 = ((cu-(0.50*cu))/0.50)\n",
        "  gwn = GaussianWeightedNewsvendor(cu = cu, co = co_50)\n",
        "\n",
        "  random = RandomizedSearchCV(gwn, param_random, cv=5, scoring = scorer_avc)\n",
        "  random.fit(X_train.loc[prod], Y_train.loc[prod])\n",
        "    \n",
        "  kbwth = random.best_params_.get('kernel_bandwidth')\n",
        "\n",
        "  best_param_kbwth_50.append(kbwth)"
      ],
      "metadata": {
        "id": "DVNq8pmLq6Be"
      },
      "execution_count": null,
      "outputs": []
    },
    {
      "cell_type": "markdown",
      "source": [
        "## Newsvendor-Model\n",
        "*   the data-driven newsvendor model is executed in a loop for every single item (with optimal hyperparameters)\n",
        "*   the average_costs for every item are calculated (later the prescritiveness score will be used for better comparability)"
      ],
      "metadata": {
        "id": "LU9oyUjcrHue"
      }
    },
    {
      "cell_type": "code",
      "source": [
        "result_gwn_50_avc = []\n",
        "for prod in prods:\n",
        "  cu = X_train.loc[prod]['sell_price'].mean()\n",
        "  co_50 = ((cu-(0.50*cu))/0.50)\n",
        "  \n",
        "  knn = GaussianWeightedNewsvendor(cu = cu, co = co_50, kernel_bandwidth = best_param_kbwth_50[prod])\n",
        "  gwn.fit(X_train.loc[prod], Y_train.loc[prod])\n",
        "  preds = gwn.predict(X_test.loc[prod])\n",
        "\n",
        "  avc = round(average_costs(Y_test.loc[prod], preds, cu = cu, co = co_50),2)\n",
        "  result_gwn_50_avc.append(avc)"
      ],
      "metadata": {
        "id": "UA2dgCWMrEuE"
      },
      "execution_count": null,
      "outputs": []
    },
    {
      "cell_type": "code",
      "source": [
        "GWN_separate_avc_50 = pd.DataFrame(result_gwn_50_avc, columns=['GWN_avc_50'])\n",
        "GWN_separate_avc_50.index.name = 'item_id'"
      ],
      "metadata": {
        "id": "3ACVyS5orXDJ"
      },
      "execution_count": null,
      "outputs": []
    },
    {
      "cell_type": "code",
      "source": [
        "result_gwn_50_pscr = []\n",
        "for prod in prods:\n",
        "  cu = X_train.loc[prod]['sell_price'].mean()\n",
        "  co_50 = ((cu-(0.50*cu))/0.50)\n",
        "  \n",
        "  gwn = GaussianWeightedNewsvendor(cu = cu, co = co_50, kernel_bandwidth = best_param_kbwth_50[prod])\n",
        "  gwn.fit(X_train.loc[prod], Y_train.loc[prod])\n",
        "  preds_gwn = gwn.predict(X_test.loc[prod])\n",
        "\n",
        "\n",
        "  saa = SampleAverageApproximationNewsvendor(cu = cu, co = co_50)\n",
        "  saa.fit(Y_train.loc[prod])\n",
        "  preds_saa = saa.predict(n_steps = 508)\n",
        "  \n",
        "  pscr = prescriptiveness_score(Y_test.loc[prod], preds_gwn, preds_saa, cu = cu, co = co_50)\n",
        "  result_gwn_50_pscr.append(pscr)"
      ],
      "metadata": {
        "id": "7ZKFaW4SrdAX"
      },
      "execution_count": null,
      "outputs": []
    },
    {
      "cell_type": "code",
      "source": [
        "GWN_separate_pscr_50 = pd.DataFrame(result_gwn_50_pscr, columns=['GWN_pscr_50'])\n",
        "GWN_separate_pscr_50.index.name = 'item_id'"
      ],
      "metadata": {
        "id": "AO7W2QDBrrgN"
      },
      "execution_count": null,
      "outputs": []
    },
    {
      "cell_type": "markdown",
      "source": [
        "# Merging"
      ],
      "metadata": {
        "id": "0WMJ7ATNr6cu"
      }
    },
    {
      "cell_type": "code",
      "source": [
        "GWN_separated_avc = pd.concat([GWN_separate_avc_95, GWN_separate_avc_90, GWN_separate_avc_75, GWN_separate_avc_50], axis=1)\n",
        "GWN_separated_avc"
      ],
      "metadata": {
        "colab": {
          "base_uri": "https://localhost:8080/",
          "height": 864
        },
        "id": "MrsXMSoIr7Y3",
        "outputId": "8d798c75-f06e-4210-b149-47f2d800a3e8"
      },
      "execution_count": null,
      "outputs": [
        {
          "output_type": "execute_result",
          "data": {
            "text/plain": [
              "         GWN_avc_95  GWN_avc_90  GWN_avc_75  GWN_avc_50\n",
              "item_id                                                \n",
              "0              2.63        2.85        3.60        5.60\n",
              "1              1.31        1.73        2.75        4.59\n",
              "2              4.65        5.19        6.57       10.15\n",
              "3             13.63       14.81       18.86       29.73\n",
              "4              5.57        6.20        7.92       12.69\n",
              "5              2.33        2.86        3.92        6.85\n",
              "6              2.71        3.08        4.19        6.93\n",
              "7              5.58        6.13        7.69       11.42\n",
              "8              1.51        1.89        2.84        4.82\n",
              "9              2.07        2.37        3.15        4.97\n",
              "10            11.54       12.18       14.51       21.29\n",
              "11             2.31        2.67        3.57        5.77\n",
              "12             4.15        4.56        5.75        8.91\n",
              "13             1.48        2.15        3.44        5.77\n",
              "14             5.76        6.10        7.52       11.25\n",
              "15             4.35        5.30        7.75       12.72\n",
              "16             0.70        1.03        1.89        3.38\n",
              "17             6.31        6.72        8.20       12.24\n",
              "18            13.57       14.39       17.49       26.69\n",
              "19             1.35        1.68        2.57        4.41\n",
              "20             4.10        4.47        5.74        9.20\n",
              "21             6.11        6.86        9.02       14.11\n",
              "22            10.47       11.15       13.56       20.08\n",
              "23             8.68        9.09       10.61       15.05\n",
              "24             6.97        7.53        9.35       14.31"
            ],
            "text/html": [
              "\n",
              "  <div id=\"df-a691ba76-932b-4ac0-9526-1fd4b2c9f21f\">\n",
              "    <div class=\"colab-df-container\">\n",
              "      <div>\n",
              "<style scoped>\n",
              "    .dataframe tbody tr th:only-of-type {\n",
              "        vertical-align: middle;\n",
              "    }\n",
              "\n",
              "    .dataframe tbody tr th {\n",
              "        vertical-align: top;\n",
              "    }\n",
              "\n",
              "    .dataframe thead th {\n",
              "        text-align: right;\n",
              "    }\n",
              "</style>\n",
              "<table border=\"1\" class=\"dataframe\">\n",
              "  <thead>\n",
              "    <tr style=\"text-align: right;\">\n",
              "      <th></th>\n",
              "      <th>GWN_avc_95</th>\n",
              "      <th>GWN_avc_90</th>\n",
              "      <th>GWN_avc_75</th>\n",
              "      <th>GWN_avc_50</th>\n",
              "    </tr>\n",
              "    <tr>\n",
              "      <th>item_id</th>\n",
              "      <th></th>\n",
              "      <th></th>\n",
              "      <th></th>\n",
              "      <th></th>\n",
              "    </tr>\n",
              "  </thead>\n",
              "  <tbody>\n",
              "    <tr>\n",
              "      <th>0</th>\n",
              "      <td>2.63</td>\n",
              "      <td>2.85</td>\n",
              "      <td>3.60</td>\n",
              "      <td>5.60</td>\n",
              "    </tr>\n",
              "    <tr>\n",
              "      <th>1</th>\n",
              "      <td>1.31</td>\n",
              "      <td>1.73</td>\n",
              "      <td>2.75</td>\n",
              "      <td>4.59</td>\n",
              "    </tr>\n",
              "    <tr>\n",
              "      <th>2</th>\n",
              "      <td>4.65</td>\n",
              "      <td>5.19</td>\n",
              "      <td>6.57</td>\n",
              "      <td>10.15</td>\n",
              "    </tr>\n",
              "    <tr>\n",
              "      <th>3</th>\n",
              "      <td>13.63</td>\n",
              "      <td>14.81</td>\n",
              "      <td>18.86</td>\n",
              "      <td>29.73</td>\n",
              "    </tr>\n",
              "    <tr>\n",
              "      <th>4</th>\n",
              "      <td>5.57</td>\n",
              "      <td>6.20</td>\n",
              "      <td>7.92</td>\n",
              "      <td>12.69</td>\n",
              "    </tr>\n",
              "    <tr>\n",
              "      <th>5</th>\n",
              "      <td>2.33</td>\n",
              "      <td>2.86</td>\n",
              "      <td>3.92</td>\n",
              "      <td>6.85</td>\n",
              "    </tr>\n",
              "    <tr>\n",
              "      <th>6</th>\n",
              "      <td>2.71</td>\n",
              "      <td>3.08</td>\n",
              "      <td>4.19</td>\n",
              "      <td>6.93</td>\n",
              "    </tr>\n",
              "    <tr>\n",
              "      <th>7</th>\n",
              "      <td>5.58</td>\n",
              "      <td>6.13</td>\n",
              "      <td>7.69</td>\n",
              "      <td>11.42</td>\n",
              "    </tr>\n",
              "    <tr>\n",
              "      <th>8</th>\n",
              "      <td>1.51</td>\n",
              "      <td>1.89</td>\n",
              "      <td>2.84</td>\n",
              "      <td>4.82</td>\n",
              "    </tr>\n",
              "    <tr>\n",
              "      <th>9</th>\n",
              "      <td>2.07</td>\n",
              "      <td>2.37</td>\n",
              "      <td>3.15</td>\n",
              "      <td>4.97</td>\n",
              "    </tr>\n",
              "    <tr>\n",
              "      <th>10</th>\n",
              "      <td>11.54</td>\n",
              "      <td>12.18</td>\n",
              "      <td>14.51</td>\n",
              "      <td>21.29</td>\n",
              "    </tr>\n",
              "    <tr>\n",
              "      <th>11</th>\n",
              "      <td>2.31</td>\n",
              "      <td>2.67</td>\n",
              "      <td>3.57</td>\n",
              "      <td>5.77</td>\n",
              "    </tr>\n",
              "    <tr>\n",
              "      <th>12</th>\n",
              "      <td>4.15</td>\n",
              "      <td>4.56</td>\n",
              "      <td>5.75</td>\n",
              "      <td>8.91</td>\n",
              "    </tr>\n",
              "    <tr>\n",
              "      <th>13</th>\n",
              "      <td>1.48</td>\n",
              "      <td>2.15</td>\n",
              "      <td>3.44</td>\n",
              "      <td>5.77</td>\n",
              "    </tr>\n",
              "    <tr>\n",
              "      <th>14</th>\n",
              "      <td>5.76</td>\n",
              "      <td>6.10</td>\n",
              "      <td>7.52</td>\n",
              "      <td>11.25</td>\n",
              "    </tr>\n",
              "    <tr>\n",
              "      <th>15</th>\n",
              "      <td>4.35</td>\n",
              "      <td>5.30</td>\n",
              "      <td>7.75</td>\n",
              "      <td>12.72</td>\n",
              "    </tr>\n",
              "    <tr>\n",
              "      <th>16</th>\n",
              "      <td>0.70</td>\n",
              "      <td>1.03</td>\n",
              "      <td>1.89</td>\n",
              "      <td>3.38</td>\n",
              "    </tr>\n",
              "    <tr>\n",
              "      <th>17</th>\n",
              "      <td>6.31</td>\n",
              "      <td>6.72</td>\n",
              "      <td>8.20</td>\n",
              "      <td>12.24</td>\n",
              "    </tr>\n",
              "    <tr>\n",
              "      <th>18</th>\n",
              "      <td>13.57</td>\n",
              "      <td>14.39</td>\n",
              "      <td>17.49</td>\n",
              "      <td>26.69</td>\n",
              "    </tr>\n",
              "    <tr>\n",
              "      <th>19</th>\n",
              "      <td>1.35</td>\n",
              "      <td>1.68</td>\n",
              "      <td>2.57</td>\n",
              "      <td>4.41</td>\n",
              "    </tr>\n",
              "    <tr>\n",
              "      <th>20</th>\n",
              "      <td>4.10</td>\n",
              "      <td>4.47</td>\n",
              "      <td>5.74</td>\n",
              "      <td>9.20</td>\n",
              "    </tr>\n",
              "    <tr>\n",
              "      <th>21</th>\n",
              "      <td>6.11</td>\n",
              "      <td>6.86</td>\n",
              "      <td>9.02</td>\n",
              "      <td>14.11</td>\n",
              "    </tr>\n",
              "    <tr>\n",
              "      <th>22</th>\n",
              "      <td>10.47</td>\n",
              "      <td>11.15</td>\n",
              "      <td>13.56</td>\n",
              "      <td>20.08</td>\n",
              "    </tr>\n",
              "    <tr>\n",
              "      <th>23</th>\n",
              "      <td>8.68</td>\n",
              "      <td>9.09</td>\n",
              "      <td>10.61</td>\n",
              "      <td>15.05</td>\n",
              "    </tr>\n",
              "    <tr>\n",
              "      <th>24</th>\n",
              "      <td>6.97</td>\n",
              "      <td>7.53</td>\n",
              "      <td>9.35</td>\n",
              "      <td>14.31</td>\n",
              "    </tr>\n",
              "  </tbody>\n",
              "</table>\n",
              "</div>\n",
              "      <button class=\"colab-df-convert\" onclick=\"convertToInteractive('df-a691ba76-932b-4ac0-9526-1fd4b2c9f21f')\"\n",
              "              title=\"Convert this dataframe to an interactive table.\"\n",
              "              style=\"display:none;\">\n",
              "        \n",
              "  <svg xmlns=\"http://www.w3.org/2000/svg\" height=\"24px\"viewBox=\"0 0 24 24\"\n",
              "       width=\"24px\">\n",
              "    <path d=\"M0 0h24v24H0V0z\" fill=\"none\"/>\n",
              "    <path d=\"M18.56 5.44l.94 2.06.94-2.06 2.06-.94-2.06-.94-.94-2.06-.94 2.06-2.06.94zm-11 1L8.5 8.5l.94-2.06 2.06-.94-2.06-.94L8.5 2.5l-.94 2.06-2.06.94zm10 10l.94 2.06.94-2.06 2.06-.94-2.06-.94-.94-2.06-.94 2.06-2.06.94z\"/><path d=\"M17.41 7.96l-1.37-1.37c-.4-.4-.92-.59-1.43-.59-.52 0-1.04.2-1.43.59L10.3 9.45l-7.72 7.72c-.78.78-.78 2.05 0 2.83L4 21.41c.39.39.9.59 1.41.59.51 0 1.02-.2 1.41-.59l7.78-7.78 2.81-2.81c.8-.78.8-2.07 0-2.86zM5.41 20L4 18.59l7.72-7.72 1.47 1.35L5.41 20z\"/>\n",
              "  </svg>\n",
              "      </button>\n",
              "      \n",
              "  <style>\n",
              "    .colab-df-container {\n",
              "      display:flex;\n",
              "      flex-wrap:wrap;\n",
              "      gap: 12px;\n",
              "    }\n",
              "\n",
              "    .colab-df-convert {\n",
              "      background-color: #E8F0FE;\n",
              "      border: none;\n",
              "      border-radius: 50%;\n",
              "      cursor: pointer;\n",
              "      display: none;\n",
              "      fill: #1967D2;\n",
              "      height: 32px;\n",
              "      padding: 0 0 0 0;\n",
              "      width: 32px;\n",
              "    }\n",
              "\n",
              "    .colab-df-convert:hover {\n",
              "      background-color: #E2EBFA;\n",
              "      box-shadow: 0px 1px 2px rgba(60, 64, 67, 0.3), 0px 1px 3px 1px rgba(60, 64, 67, 0.15);\n",
              "      fill: #174EA6;\n",
              "    }\n",
              "\n",
              "    [theme=dark] .colab-df-convert {\n",
              "      background-color: #3B4455;\n",
              "      fill: #D2E3FC;\n",
              "    }\n",
              "\n",
              "    [theme=dark] .colab-df-convert:hover {\n",
              "      background-color: #434B5C;\n",
              "      box-shadow: 0px 1px 3px 1px rgba(0, 0, 0, 0.15);\n",
              "      filter: drop-shadow(0px 1px 2px rgba(0, 0, 0, 0.3));\n",
              "      fill: #FFFFFF;\n",
              "    }\n",
              "  </style>\n",
              "\n",
              "      <script>\n",
              "        const buttonEl =\n",
              "          document.querySelector('#df-a691ba76-932b-4ac0-9526-1fd4b2c9f21f button.colab-df-convert');\n",
              "        buttonEl.style.display =\n",
              "          google.colab.kernel.accessAllowed ? 'block' : 'none';\n",
              "\n",
              "        async function convertToInteractive(key) {\n",
              "          const element = document.querySelector('#df-a691ba76-932b-4ac0-9526-1fd4b2c9f21f');\n",
              "          const dataTable =\n",
              "            await google.colab.kernel.invokeFunction('convertToInteractive',\n",
              "                                                     [key], {});\n",
              "          if (!dataTable) return;\n",
              "\n",
              "          const docLinkHtml = 'Like what you see? Visit the ' +\n",
              "            '<a target=\"_blank\" href=https://colab.research.google.com/notebooks/data_table.ipynb>data table notebook</a>'\n",
              "            + ' to learn more about interactive tables.';\n",
              "          element.innerHTML = '';\n",
              "          dataTable['output_type'] = 'display_data';\n",
              "          await google.colab.output.renderOutput(dataTable, element);\n",
              "          const docLink = document.createElement('div');\n",
              "          docLink.innerHTML = docLinkHtml;\n",
              "          element.appendChild(docLink);\n",
              "        }\n",
              "      </script>\n",
              "    </div>\n",
              "  </div>\n",
              "  "
            ]
          },
          "metadata": {},
          "execution_count": 51
        }
      ]
    },
    {
      "cell_type": "code",
      "source": [
        "GWN_separated_pscr = pd.concat([GWN_separate_pscr_95, GWN_separate_pscr_90, GWN_separate_pscr_75, GWN_separate_pscr_50], axis=1)\n",
        "GWN_separated_pscr"
      ],
      "metadata": {
        "colab": {
          "base_uri": "https://localhost:8080/",
          "height": 864
        },
        "id": "khQByF2rsFzN",
        "outputId": "2b123903-a383-4edd-891f-45304e888d35"
      },
      "execution_count": null,
      "outputs": [
        {
          "output_type": "execute_result",
          "data": {
            "text/plain": [
              "         GWN_pscr_95  GWN_pscr_90  GWN_pscr_75  GWN_pscr_50\n",
              "item_id                                                    \n",
              "0           0.385152     0.331200     0.268097     0.251664\n",
              "1           0.309164     0.390164     0.400780     0.362367\n",
              "2           0.231506     0.147689     0.141220     0.124378\n",
              "3           0.524925     0.520132     0.574728     0.464470\n",
              "4           0.348692     0.289382     0.179394     0.145331\n",
              "5           0.269910     0.252949     0.279801     0.148366\n",
              "6           0.485033     0.449844     0.442126     0.406690\n",
              "7           0.411116     0.342492     0.226069     0.128594\n",
              "8           0.267985     0.275786     0.231813     0.193591\n",
              "9           0.211411     0.175592     0.241549     0.189873\n",
              "10          0.390722     0.335784     0.195156     0.135090\n",
              "11          0.267894     0.239797     0.244663     0.243133\n",
              "12          0.370720     0.360382     0.324419     0.294098\n",
              "13          0.442445     0.411217     0.374455     0.214962\n",
              "14          0.220432     0.210038     0.197247     0.247486\n",
              "15          0.154877     0.127165     0.076367     0.077415\n",
              "16          0.138225     0.157303     0.119810     0.104822\n",
              "17          0.337601     0.252361     0.161136     0.115250\n",
              "18          0.288757     0.237015     0.170950     0.154964\n",
              "19          0.229001     0.275809     0.228872     0.149171\n",
              "20          0.458369     0.432260     0.408183     0.354608\n",
              "21          0.215245     0.179780     0.122883     0.103983\n",
              "22          0.505521     0.481831     0.418278     0.326367\n",
              "23          0.254822     0.239044     0.168178     0.187634\n",
              "24          0.311464     0.291005     0.220374     0.240353"
            ],
            "text/html": [
              "\n",
              "  <div id=\"df-9ffd4d83-d8f0-4e61-a40c-cdcce272880a\">\n",
              "    <div class=\"colab-df-container\">\n",
              "      <div>\n",
              "<style scoped>\n",
              "    .dataframe tbody tr th:only-of-type {\n",
              "        vertical-align: middle;\n",
              "    }\n",
              "\n",
              "    .dataframe tbody tr th {\n",
              "        vertical-align: top;\n",
              "    }\n",
              "\n",
              "    .dataframe thead th {\n",
              "        text-align: right;\n",
              "    }\n",
              "</style>\n",
              "<table border=\"1\" class=\"dataframe\">\n",
              "  <thead>\n",
              "    <tr style=\"text-align: right;\">\n",
              "      <th></th>\n",
              "      <th>GWN_pscr_95</th>\n",
              "      <th>GWN_pscr_90</th>\n",
              "      <th>GWN_pscr_75</th>\n",
              "      <th>GWN_pscr_50</th>\n",
              "    </tr>\n",
              "    <tr>\n",
              "      <th>item_id</th>\n",
              "      <th></th>\n",
              "      <th></th>\n",
              "      <th></th>\n",
              "      <th></th>\n",
              "    </tr>\n",
              "  </thead>\n",
              "  <tbody>\n",
              "    <tr>\n",
              "      <th>0</th>\n",
              "      <td>0.385152</td>\n",
              "      <td>0.331200</td>\n",
              "      <td>0.268097</td>\n",
              "      <td>0.251664</td>\n",
              "    </tr>\n",
              "    <tr>\n",
              "      <th>1</th>\n",
              "      <td>0.309164</td>\n",
              "      <td>0.390164</td>\n",
              "      <td>0.400780</td>\n",
              "      <td>0.362367</td>\n",
              "    </tr>\n",
              "    <tr>\n",
              "      <th>2</th>\n",
              "      <td>0.231506</td>\n",
              "      <td>0.147689</td>\n",
              "      <td>0.141220</td>\n",
              "      <td>0.124378</td>\n",
              "    </tr>\n",
              "    <tr>\n",
              "      <th>3</th>\n",
              "      <td>0.524925</td>\n",
              "      <td>0.520132</td>\n",
              "      <td>0.574728</td>\n",
              "      <td>0.464470</td>\n",
              "    </tr>\n",
              "    <tr>\n",
              "      <th>4</th>\n",
              "      <td>0.348692</td>\n",
              "      <td>0.289382</td>\n",
              "      <td>0.179394</td>\n",
              "      <td>0.145331</td>\n",
              "    </tr>\n",
              "    <tr>\n",
              "      <th>5</th>\n",
              "      <td>0.269910</td>\n",
              "      <td>0.252949</td>\n",
              "      <td>0.279801</td>\n",
              "      <td>0.148366</td>\n",
              "    </tr>\n",
              "    <tr>\n",
              "      <th>6</th>\n",
              "      <td>0.485033</td>\n",
              "      <td>0.449844</td>\n",
              "      <td>0.442126</td>\n",
              "      <td>0.406690</td>\n",
              "    </tr>\n",
              "    <tr>\n",
              "      <th>7</th>\n",
              "      <td>0.411116</td>\n",
              "      <td>0.342492</td>\n",
              "      <td>0.226069</td>\n",
              "      <td>0.128594</td>\n",
              "    </tr>\n",
              "    <tr>\n",
              "      <th>8</th>\n",
              "      <td>0.267985</td>\n",
              "      <td>0.275786</td>\n",
              "      <td>0.231813</td>\n",
              "      <td>0.193591</td>\n",
              "    </tr>\n",
              "    <tr>\n",
              "      <th>9</th>\n",
              "      <td>0.211411</td>\n",
              "      <td>0.175592</td>\n",
              "      <td>0.241549</td>\n",
              "      <td>0.189873</td>\n",
              "    </tr>\n",
              "    <tr>\n",
              "      <th>10</th>\n",
              "      <td>0.390722</td>\n",
              "      <td>0.335784</td>\n",
              "      <td>0.195156</td>\n",
              "      <td>0.135090</td>\n",
              "    </tr>\n",
              "    <tr>\n",
              "      <th>11</th>\n",
              "      <td>0.267894</td>\n",
              "      <td>0.239797</td>\n",
              "      <td>0.244663</td>\n",
              "      <td>0.243133</td>\n",
              "    </tr>\n",
              "    <tr>\n",
              "      <th>12</th>\n",
              "      <td>0.370720</td>\n",
              "      <td>0.360382</td>\n",
              "      <td>0.324419</td>\n",
              "      <td>0.294098</td>\n",
              "    </tr>\n",
              "    <tr>\n",
              "      <th>13</th>\n",
              "      <td>0.442445</td>\n",
              "      <td>0.411217</td>\n",
              "      <td>0.374455</td>\n",
              "      <td>0.214962</td>\n",
              "    </tr>\n",
              "    <tr>\n",
              "      <th>14</th>\n",
              "      <td>0.220432</td>\n",
              "      <td>0.210038</td>\n",
              "      <td>0.197247</td>\n",
              "      <td>0.247486</td>\n",
              "    </tr>\n",
              "    <tr>\n",
              "      <th>15</th>\n",
              "      <td>0.154877</td>\n",
              "      <td>0.127165</td>\n",
              "      <td>0.076367</td>\n",
              "      <td>0.077415</td>\n",
              "    </tr>\n",
              "    <tr>\n",
              "      <th>16</th>\n",
              "      <td>0.138225</td>\n",
              "      <td>0.157303</td>\n",
              "      <td>0.119810</td>\n",
              "      <td>0.104822</td>\n",
              "    </tr>\n",
              "    <tr>\n",
              "      <th>17</th>\n",
              "      <td>0.337601</td>\n",
              "      <td>0.252361</td>\n",
              "      <td>0.161136</td>\n",
              "      <td>0.115250</td>\n",
              "    </tr>\n",
              "    <tr>\n",
              "      <th>18</th>\n",
              "      <td>0.288757</td>\n",
              "      <td>0.237015</td>\n",
              "      <td>0.170950</td>\n",
              "      <td>0.154964</td>\n",
              "    </tr>\n",
              "    <tr>\n",
              "      <th>19</th>\n",
              "      <td>0.229001</td>\n",
              "      <td>0.275809</td>\n",
              "      <td>0.228872</td>\n",
              "      <td>0.149171</td>\n",
              "    </tr>\n",
              "    <tr>\n",
              "      <th>20</th>\n",
              "      <td>0.458369</td>\n",
              "      <td>0.432260</td>\n",
              "      <td>0.408183</td>\n",
              "      <td>0.354608</td>\n",
              "    </tr>\n",
              "    <tr>\n",
              "      <th>21</th>\n",
              "      <td>0.215245</td>\n",
              "      <td>0.179780</td>\n",
              "      <td>0.122883</td>\n",
              "      <td>0.103983</td>\n",
              "    </tr>\n",
              "    <tr>\n",
              "      <th>22</th>\n",
              "      <td>0.505521</td>\n",
              "      <td>0.481831</td>\n",
              "      <td>0.418278</td>\n",
              "      <td>0.326367</td>\n",
              "    </tr>\n",
              "    <tr>\n",
              "      <th>23</th>\n",
              "      <td>0.254822</td>\n",
              "      <td>0.239044</td>\n",
              "      <td>0.168178</td>\n",
              "      <td>0.187634</td>\n",
              "    </tr>\n",
              "    <tr>\n",
              "      <th>24</th>\n",
              "      <td>0.311464</td>\n",
              "      <td>0.291005</td>\n",
              "      <td>0.220374</td>\n",
              "      <td>0.240353</td>\n",
              "    </tr>\n",
              "  </tbody>\n",
              "</table>\n",
              "</div>\n",
              "      <button class=\"colab-df-convert\" onclick=\"convertToInteractive('df-9ffd4d83-d8f0-4e61-a40c-cdcce272880a')\"\n",
              "              title=\"Convert this dataframe to an interactive table.\"\n",
              "              style=\"display:none;\">\n",
              "        \n",
              "  <svg xmlns=\"http://www.w3.org/2000/svg\" height=\"24px\"viewBox=\"0 0 24 24\"\n",
              "       width=\"24px\">\n",
              "    <path d=\"M0 0h24v24H0V0z\" fill=\"none\"/>\n",
              "    <path d=\"M18.56 5.44l.94 2.06.94-2.06 2.06-.94-2.06-.94-.94-2.06-.94 2.06-2.06.94zm-11 1L8.5 8.5l.94-2.06 2.06-.94-2.06-.94L8.5 2.5l-.94 2.06-2.06.94zm10 10l.94 2.06.94-2.06 2.06-.94-2.06-.94-.94-2.06-.94 2.06-2.06.94z\"/><path d=\"M17.41 7.96l-1.37-1.37c-.4-.4-.92-.59-1.43-.59-.52 0-1.04.2-1.43.59L10.3 9.45l-7.72 7.72c-.78.78-.78 2.05 0 2.83L4 21.41c.39.39.9.59 1.41.59.51 0 1.02-.2 1.41-.59l7.78-7.78 2.81-2.81c.8-.78.8-2.07 0-2.86zM5.41 20L4 18.59l7.72-7.72 1.47 1.35L5.41 20z\"/>\n",
              "  </svg>\n",
              "      </button>\n",
              "      \n",
              "  <style>\n",
              "    .colab-df-container {\n",
              "      display:flex;\n",
              "      flex-wrap:wrap;\n",
              "      gap: 12px;\n",
              "    }\n",
              "\n",
              "    .colab-df-convert {\n",
              "      background-color: #E8F0FE;\n",
              "      border: none;\n",
              "      border-radius: 50%;\n",
              "      cursor: pointer;\n",
              "      display: none;\n",
              "      fill: #1967D2;\n",
              "      height: 32px;\n",
              "      padding: 0 0 0 0;\n",
              "      width: 32px;\n",
              "    }\n",
              "\n",
              "    .colab-df-convert:hover {\n",
              "      background-color: #E2EBFA;\n",
              "      box-shadow: 0px 1px 2px rgba(60, 64, 67, 0.3), 0px 1px 3px 1px rgba(60, 64, 67, 0.15);\n",
              "      fill: #174EA6;\n",
              "    }\n",
              "\n",
              "    [theme=dark] .colab-df-convert {\n",
              "      background-color: #3B4455;\n",
              "      fill: #D2E3FC;\n",
              "    }\n",
              "\n",
              "    [theme=dark] .colab-df-convert:hover {\n",
              "      background-color: #434B5C;\n",
              "      box-shadow: 0px 1px 3px 1px rgba(0, 0, 0, 0.15);\n",
              "      filter: drop-shadow(0px 1px 2px rgba(0, 0, 0, 0.3));\n",
              "      fill: #FFFFFF;\n",
              "    }\n",
              "  </style>\n",
              "\n",
              "      <script>\n",
              "        const buttonEl =\n",
              "          document.querySelector('#df-9ffd4d83-d8f0-4e61-a40c-cdcce272880a button.colab-df-convert');\n",
              "        buttonEl.style.display =\n",
              "          google.colab.kernel.accessAllowed ? 'block' : 'none';\n",
              "\n",
              "        async function convertToInteractive(key) {\n",
              "          const element = document.querySelector('#df-9ffd4d83-d8f0-4e61-a40c-cdcce272880a');\n",
              "          const dataTable =\n",
              "            await google.colab.kernel.invokeFunction('convertToInteractive',\n",
              "                                                     [key], {});\n",
              "          if (!dataTable) return;\n",
              "\n",
              "          const docLinkHtml = 'Like what you see? Visit the ' +\n",
              "            '<a target=\"_blank\" href=https://colab.research.google.com/notebooks/data_table.ipynb>data table notebook</a>'\n",
              "            + ' to learn more about interactive tables.';\n",
              "          element.innerHTML = '';\n",
              "          dataTable['output_type'] = 'display_data';\n",
              "          await google.colab.output.renderOutput(dataTable, element);\n",
              "          const docLink = document.createElement('div');\n",
              "          docLink.innerHTML = docLinkHtml;\n",
              "          element.appendChild(docLink);\n",
              "        }\n",
              "      </script>\n",
              "    </div>\n",
              "  </div>\n",
              "  "
            ]
          },
          "metadata": {},
          "execution_count": 52
        }
      ]
    },
    {
      "cell_type": "markdown",
      "source": [
        "Saving Files"
      ],
      "metadata": {
        "id": "t1PKhBZRsNtS"
      }
    },
    {
      "cell_type": "code",
      "source": [
        "GWN_separated_avc.to_csv('/content/drive/MyDrive/M5/GWN_separated_avc.csv')\n",
        "\n",
        "GWN_separated_pscr.to_csv('/content/drive/MyDrive/M5/GWN_separated_pscr.csv')"
      ],
      "metadata": {
        "id": "vR0iUd1TsPWo"
      },
      "execution_count": null,
      "outputs": []
    }
  ]
}