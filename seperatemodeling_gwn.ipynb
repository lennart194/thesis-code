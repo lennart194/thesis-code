{
  "nbformat": 4,
  "nbformat_minor": 0,
  "metadata": {
    "colab": {
      "name": "seperatemodeling_gwn.ipynb",
      "provenance": [],
      "collapsed_sections": [],
      "authorship_tag": "ABX9TyNa/x+R0LeenRcvXTXA1N5G",
      "include_colab_link": true
    },
    "kernelspec": {
      "name": "python3",
      "display_name": "Python 3"
    },
    "language_info": {
      "name": "python"
    }
  },
  "cells": [
    {
      "cell_type": "markdown",
      "metadata": {
        "id": "view-in-github",
        "colab_type": "text"
      },
      "source": [
        "<a href=\"https://colab.research.google.com/github/lennart194/thesis-code/blob/main/seperatemodeling_gwn.ipynb\" target=\"_parent\"><img src=\"https://colab.research.google.com/assets/colab-badge.svg\" alt=\"Open In Colab\"/></a>"
      ]
    },
    {
      "cell_type": "code",
      "execution_count": null,
      "metadata": {
        "id": "oVGgl3ubfvD8"
      },
      "outputs": [],
      "source": [
        "pip install ddop"
      ]
    },
    {
      "cell_type": "code",
      "source": [
        "import pandas as pd\n",
        "import numpy as np\n",
        "\n",
        "from ddop.newsvendor import GaussianWeightedNewsvendor\n",
        "from ddop.newsvendor import SampleAverageApproximationNewsvendor\n",
        "\n",
        "from sklearn.model_selection import RandomizedSearchCV\n",
        "\n",
        "from ddop.metrics import make_scorer\n",
        "from ddop.metrics import average_costs\n",
        "from ddop.metrics import prescriptiveness_score"
      ],
      "metadata": {
        "id": "FjO6FWifgO8X"
      },
      "execution_count": 2,
      "outputs": []
    },
    {
      "cell_type": "code",
      "source": [
        "from google.colab import drive\n",
        "drive.mount('/content/drive')"
      ],
      "metadata": {
        "colab": {
          "base_uri": "https://localhost:8080/"
        },
        "id": "ApbAdnlng1Ii",
        "outputId": "4b3c19fe-cff9-48eb-8763-66b945f1af8f"
      },
      "execution_count": 3,
      "outputs": [
        {
          "output_type": "stream",
          "name": "stdout",
          "text": [
            "Mounted at /content/drive\n"
          ]
        }
      ]
    },
    {
      "cell_type": "markdown",
      "source": [
        "## Loading data-set\n",
        "\n",
        "*   load the whole ultimative set\n",
        "*   sort the rows first by item, then by date and set a multi index\n",
        "**now every items time series can be separated by the index**"
      ],
      "metadata": {
        "id": "cSp_ZCOuhBbo"
      }
    },
    {
      "cell_type": "code",
      "source": [
        "data = pd.read_csv('/content/drive/MyDrive/M5/ultimative_set.csv')\n",
        "data = data.drop(columns=['Unnamed: 0'])\n",
        "data = data.sort_values(by=['item_id', 'date'])\n",
        "data = data.set_index(['item_id', 'date'])"
      ],
      "metadata": {
        "id": "jKBruDZ2g9C0"
      },
      "execution_count": 4,
      "outputs": []
    },
    {
      "cell_type": "markdown",
      "source": [
        "## Split in feature and target matrix"
      ],
      "metadata": {
        "id": "5jCrvBdLhMo5"
      }
    },
    {
      "cell_type": "code",
      "source": [
        "X = data.drop(columns=['demand'])\n",
        "Y = data['demand']"
      ],
      "metadata": {
        "id": "dPqpH1BShNjh"
      },
      "execution_count": 5,
      "outputs": []
    },
    {
      "cell_type": "markdown",
      "source": [
        "## train_test_split"
      ],
      "metadata": {
        "id": "aHareKJphRRI"
      }
    },
    {
      "cell_type": "code",
      "source": [
        "X_train = X.loc[(slice(None), slice(None, \"2015\")), :]\n",
        "X_test = X.loc[(slice(None), slice(\"2015\", '2017')), :]\n",
        "\n",
        "Y_train = Y.loc[(slice(None), slice(None, \"2015\"))]\n",
        "Y_test = Y.loc[(slice(None), slice(\"2015\", \"2017\"))]"
      ],
      "metadata": {
        "id": "UmvbeyQGhUD-"
      },
      "execution_count": 6,
      "outputs": []
    },
    {
      "cell_type": "markdown",
      "source": [
        "## Definition of the item_ids \n",
        "\n",
        "\n",
        "*   will be needed within the for loops later\n",
        "*   will contain all 25 products"
      ],
      "metadata": {
        "id": "wu3tFJClhYr-"
      }
    },
    {
      "cell_type": "code",
      "source": [
        "prods = list(range(0,25))\n",
        "\n",
        "cu = round(X_train['sell_price'].mean(),2)\n",
        "\n",
        "co_90 = round(((cu-(0.90*cu))/0.90),2)\n",
        "\n",
        "co_75 = round(((cu-(0.75*cu))/0.75),2)\n",
        "\n",
        "co_50 = round(((cu-(0.50*cu))/0.50),2)"
      ],
      "metadata": {
        "id": "XJgaH6owhXGb"
      },
      "execution_count": 7,
      "outputs": []
    },
    {
      "cell_type": "markdown",
      "source": [
        "## Determining some parameters\n",
        "*   the potential params and their values for randomized search are defined\n",
        "*   the estimator, the scorer and finally the whole grid is defined"
      ],
      "metadata": {
        "id": "peiSbIK1heiZ"
      }
    },
    {
      "cell_type": "code",
      "source": [
        "kernel_bandwidth = np.arange(25, 81)\n",
        "param_random = dict(kernel_bandwidth = kernel_bandwidth)\n",
        "\n",
        "scorer_avc = make_scorer(average_costs, greater_is_better=False)"
      ],
      "metadata": {
        "id": "OG6m7i8shhi8"
      },
      "execution_count": 9,
      "outputs": []
    },
    {
      "cell_type": "markdown",
      "source": [
        "# gwn for 90% service level\n",
        "\n",
        "## randomized search\n",
        "*   an empty list is created for every type of hyperparameter\n",
        "*   in a for-loop the randomized search is executed for every item with cu and co of alpha = 0,9\n",
        "*   the best hyperparams are calculated and added to the corresponding list"
      ],
      "metadata": {
        "id": "Cn4KOXdioCm8"
      }
    },
    {
      "cell_type": "code",
      "source": [
        "best_param_kbwth_90 = []\n",
        "\n",
        "for prod in prods:\n",
        "  \n",
        "  gwn = GaussianWeightedNewsvendor(cu = cu, co = co_90)\n",
        "\n",
        "  random = RandomizedSearchCV(gwn, param_random, cv=5, scoring = scorer_avc)\n",
        "  random.fit(X_train.loc[prod], Y_train.loc[prod])\n",
        "    \n",
        "  kbwth = random.best_params_.get('kernel_bandwidth')\n",
        "\n",
        "  best_param_kbwth_90.append(kbwth)"
      ],
      "metadata": {
        "id": "q7VocnFuoDgP"
      },
      "execution_count": null,
      "outputs": []
    },
    {
      "cell_type": "code",
      "source": [
        "best_param_kbwth_90 = [26, 32, 34, 50, 26, 26, 33, 27, 27, 35, 73, 25, 30, 27, 31, 30, 34, 25, 79, 32, 38, 31, 41, 30, 28]"
      ],
      "metadata": {
        "id": "4R_gXH7GaFlB"
      },
      "execution_count": 12,
      "outputs": []
    },
    {
      "cell_type": "markdown",
      "source": [
        "## Newsvendor-Model\n",
        "*   the data-driven newsvendor model is executed in a loop for every single item (with optimal hyperparameters)\n",
        "*   the average_costs for every item are calculated (later the prescritiveness score will be used for better comparability)"
      ],
      "metadata": {
        "id": "i_SOQ1eGomHs"
      }
    },
    {
      "cell_type": "code",
      "source": [
        "result_gwn_90_avc = []\n",
        "for prod in prods:\n",
        "  \n",
        "  knn = GaussianWeightedNewsvendor(cu = cu, co = co_90, kernel_bandwidth = best_param_kbwth_90[prod])\n",
        "  gwn.fit(X_train.loc[prod], Y_train.loc[prod])\n",
        "  preds = gwn.predict(X_test.loc[prod])\n",
        "\n",
        "  avc = round(average_costs(Y_test.loc[prod], preds, cu = cu, co = co_90),2)\n",
        "  result_gwn_90_avc.append(avc)"
      ],
      "metadata": {
        "id": "ZAwYy3Kgoo2K"
      },
      "execution_count": null,
      "outputs": []
    },
    {
      "cell_type": "code",
      "source": [
        "GWN_separate_avc_90 = pd.DataFrame(result_gwn_90_avc, columns=['GWN_avc_90'])\n",
        "GWN_separate_avc_90.index.name = 'item_id'"
      ],
      "metadata": {
        "id": "teE5l5ANo7Lm"
      },
      "execution_count": 15,
      "outputs": []
    },
    {
      "cell_type": "code",
      "source": [
        "result_gwn_90_pscr = []\n",
        "for prod in prods:\n",
        "  \n",
        "  gwn = GaussianWeightedNewsvendor(cu = cu, co = co_90, kernel_bandwidth = best_param_kbwth_90[prod])\n",
        "  gwn.fit(X_train.loc[prod], Y_train.loc[prod])\n",
        "  preds_gwn = gwn.predict(X_test.loc[prod])\n",
        "\n",
        "\n",
        "  saa = SampleAverageApproximationNewsvendor(cu = cu, co = co_90)\n",
        "  saa.fit(Y_train.loc[prod])\n",
        "  preds_saa = saa.predict(n_steps = 508)\n",
        "  \n",
        "  pscr = prescriptiveness_score(Y_test.loc[prod], preds_gwn, preds_saa, cu = cu, co = co_90)\n",
        "  result_gwn_90_pscr.append(pscr)"
      ],
      "metadata": {
        "id": "-j_eeicfpHYP"
      },
      "execution_count": 17,
      "outputs": []
    },
    {
      "cell_type": "code",
      "source": [
        "GWN_separate_pscr_90 = pd.DataFrame(result_gwn_90_pscr, columns=['GWN_pscr_90'])\n",
        "GWN_separate_pscr_90.index.name = 'item_id'"
      ],
      "metadata": {
        "id": "1liqRogxpXhh"
      },
      "execution_count": 18,
      "outputs": []
    },
    {
      "cell_type": "markdown",
      "source": [
        "# gwn for 75% service level\n",
        "\n",
        "## randomized search\n",
        "*   an empty list is created for every type of hyperparameter\n",
        "*   in a for-loop the randomized search is executed for every item with cu and co of alpha = 0,75\n",
        "*   the best hyperparams are calculated and added to the corresponding list"
      ],
      "metadata": {
        "id": "vFA7NlFCpeT5"
      }
    },
    {
      "cell_type": "code",
      "source": [
        "best_param_kbwth_75 = []\n",
        "\n",
        "for prod in prods:\n",
        "  \n",
        "  \n",
        "  gwn = GaussianWeightedNewsvendor(cu = cu, co = co_75)\n",
        "\n",
        "  random = RandomizedSearchCV(gwn, param_random, cv=5, scoring = scorer_avc)\n",
        "  random.fit(X_train.loc[prod], Y_train.loc[prod])\n",
        "    \n",
        "  kbwth = random.best_params_.get('kernel_bandwidth')\n",
        "\n",
        "  best_param_kbwth_75.append(kbwth)"
      ],
      "metadata": {
        "id": "BQZ8cI8HpgoR"
      },
      "execution_count": null,
      "outputs": []
    },
    {
      "cell_type": "code",
      "source": [
        "best_param_kbwth_75 = [26, 29, 25, 34, 32, 29, 26, 29, 25, 32, 77, 26, 26, 29, 30, 25, 36, 32, 70, 33, 26, 31, 37, 28, 33]"
      ],
      "metadata": {
        "id": "oFb1u9aIhLnT"
      },
      "execution_count": 22,
      "outputs": []
    },
    {
      "cell_type": "markdown",
      "source": [
        "## Newsvendor-Model\n",
        "*   the data-driven newsvendor model is executed in a loop for every single item (with optimal hyperparameters)\n",
        "*   the average_costs for every item are calculated (later the prescritiveness score will be used for better comparability)"
      ],
      "metadata": {
        "id": "iQJpLFQgp83K"
      }
    },
    {
      "cell_type": "code",
      "source": [
        "result_gwn_75_avc = []\n",
        "for prod in prods:\n",
        "  \n",
        "  knn = GaussianWeightedNewsvendor(cu = cu, co = co_75, kernel_bandwidth = best_param_kbwth_75[prod])\n",
        "  gwn.fit(X_train.loc[prod], Y_train.loc[prod])\n",
        "  preds = gwn.predict(X_test.loc[prod])\n",
        "\n",
        "  avc = round(average_costs(Y_test.loc[prod], preds, cu = cu, co = co_75),2)\n",
        "  result_gwn_75_avc.append(avc)"
      ],
      "metadata": {
        "id": "5GKWB2_sqANs"
      },
      "execution_count": null,
      "outputs": []
    },
    {
      "cell_type": "code",
      "source": [
        "GWN_separate_avc_75 = pd.DataFrame(result_gwn_75_avc, columns=['GWN_avc_75'])\n",
        "GWN_separate_avc_75.index.name = 'item_id'"
      ],
      "metadata": {
        "id": "4UvPRs40qRr2"
      },
      "execution_count": 24,
      "outputs": []
    },
    {
      "cell_type": "code",
      "source": [
        "result_gwn_75_pscr = []\n",
        "for prod in prods:\n",
        "  \n",
        "  gwn = GaussianWeightedNewsvendor(cu = cu, co = co_75, kernel_bandwidth = best_param_kbwth_75[prod])\n",
        "  gwn.fit(X_train.loc[prod], Y_train.loc[prod])\n",
        "  preds_gwn = gwn.predict(X_test.loc[prod])\n",
        "\n",
        "\n",
        "  saa = SampleAverageApproximationNewsvendor(cu = cu, co = co_75)\n",
        "  saa.fit(Y_train.loc[prod])\n",
        "  preds_saa = saa.predict(n_steps = 508)\n",
        "  \n",
        "  pscr = prescriptiveness_score(Y_test.loc[prod], preds_gwn, preds_saa, cu = cu, co = co_75)\n",
        "  result_gwn_75_pscr.append(pscr)"
      ],
      "metadata": {
        "id": "yZWLDyjqqZx6"
      },
      "execution_count": 26,
      "outputs": []
    },
    {
      "cell_type": "code",
      "source": [
        "GWN_separate_pscr_75 = pd.DataFrame(result_gwn_75_pscr, columns=['GWN_pscr_75'])\n",
        "GWN_separate_pscr_75.index.name = 'item_id'"
      ],
      "metadata": {
        "id": "-MKQzg1WqnPx"
      },
      "execution_count": 27,
      "outputs": []
    },
    {
      "cell_type": "markdown",
      "source": [
        "# gwn for 50% service level\n",
        "\n",
        "## randomized search\n",
        "*   an empty list is created for every type of hyperparameter\n",
        "*   in a for-loop the randomized search is executed for every item with cu and co of alpha = 0,5\n",
        "*   the best hyperparams are calculated and added to the corresponding list"
      ],
      "metadata": {
        "id": "T82410tJqxt6"
      }
    },
    {
      "cell_type": "code",
      "source": [
        "best_param_kbwth_50 = []\n",
        "\n",
        "for prod in prods:\n",
        "  \n",
        "  \n",
        "  gwn = GaussianWeightedNewsvendor(cu = cu, co = co_50)\n",
        "\n",
        "  random = RandomizedSearchCV(gwn, param_random, cv=5, scoring = scorer_avc)\n",
        "  random.fit(X_train.loc[prod], Y_train.loc[prod])\n",
        "    \n",
        "  kbwth = random.best_params_.get('kernel_bandwidth')\n",
        "\n",
        "  best_param_kbwth_50.append(kbwth)"
      ],
      "metadata": {
        "id": "DVNq8pmLq6Be"
      },
      "execution_count": null,
      "outputs": []
    },
    {
      "cell_type": "code",
      "source": [
        "best_param_kbwth_50 = [25, 25, 26, 26, 31, 29, 30, 34, 28, 34, 69, 27, 28, 30, 33, 26, 25, 38, 71, 36, 28, 26, 31, 33, 27]"
      ],
      "metadata": {
        "id": "Z81Cpsz7mUYS"
      },
      "execution_count": 30,
      "outputs": []
    },
    {
      "cell_type": "markdown",
      "source": [
        "## Newsvendor-Model\n",
        "*   the data-driven newsvendor model is executed in a loop for every single item (with optimal hyperparameters)\n",
        "*   the average_costs for every item are calculated (later the prescritiveness score will be used for better comparability)"
      ],
      "metadata": {
        "id": "LU9oyUjcrHue"
      }
    },
    {
      "cell_type": "code",
      "source": [
        "result_gwn_50_avc = []\n",
        "for prod in prods:\n",
        "  \n",
        "  knn = GaussianWeightedNewsvendor(cu = cu, co = co_50, kernel_bandwidth = best_param_kbwth_50[prod])\n",
        "  gwn.fit(X_train.loc[prod], Y_train.loc[prod])\n",
        "  preds = gwn.predict(X_test.loc[prod])\n",
        "\n",
        "  avc = round(average_costs(Y_test.loc[prod], preds, cu = cu, co = co_50),2)\n",
        "  result_gwn_50_avc.append(avc)"
      ],
      "metadata": {
        "id": "UA2dgCWMrEuE"
      },
      "execution_count": null,
      "outputs": []
    },
    {
      "cell_type": "code",
      "source": [
        "GWN_separate_avc_50 = pd.DataFrame(result_gwn_50_avc, columns=['GWN_avc_50'])\n",
        "GWN_separate_avc_50.index.name = 'item_id'"
      ],
      "metadata": {
        "id": "3ACVyS5orXDJ"
      },
      "execution_count": 32,
      "outputs": []
    },
    {
      "cell_type": "code",
      "source": [
        "result_gwn_50_pscr = []\n",
        "for prod in prods:\n",
        "  \n",
        "  gwn = GaussianWeightedNewsvendor(cu = cu, co = co_50, kernel_bandwidth = best_param_kbwth_50[prod])\n",
        "  gwn.fit(X_train.loc[prod], Y_train.loc[prod])\n",
        "  preds_gwn = gwn.predict(X_test.loc[prod])\n",
        "\n",
        "\n",
        "  saa = SampleAverageApproximationNewsvendor(cu = cu, co = co_50)\n",
        "  saa.fit(Y_train.loc[prod])\n",
        "  preds_saa = saa.predict(n_steps = 508)\n",
        "  \n",
        "  pscr = prescriptiveness_score(Y_test.loc[prod], preds_gwn, preds_saa, cu = cu, co = co_50)\n",
        "  result_gwn_50_pscr.append(pscr)"
      ],
      "metadata": {
        "id": "7ZKFaW4SrdAX"
      },
      "execution_count": 33,
      "outputs": []
    },
    {
      "cell_type": "code",
      "source": [
        "GWN_separate_pscr_50 = pd.DataFrame(result_gwn_50_pscr, columns=['GWN_pscr_50'])\n",
        "GWN_separate_pscr_50.index.name = 'item_id'"
      ],
      "metadata": {
        "id": "AO7W2QDBrrgN"
      },
      "execution_count": 34,
      "outputs": []
    },
    {
      "cell_type": "markdown",
      "source": [
        "# Merging"
      ],
      "metadata": {
        "id": "0WMJ7ATNr6cu"
      }
    },
    {
      "cell_type": "code",
      "source": [
        "GWN_separated_avc = pd.concat([GWN_separate_avc_90, GWN_separate_avc_75, GWN_separate_avc_50], axis=1)\n",
        "GWN_separated_avc"
      ],
      "metadata": {
        "colab": {
          "base_uri": "https://localhost:8080/",
          "height": 864
        },
        "id": "MrsXMSoIr7Y3",
        "outputId": "fb7f3a75-6b91-4af4-92eb-fb1fd21e673e"
      },
      "execution_count": 35,
      "outputs": [
        {
          "output_type": "execute_result",
          "data": {
            "text/plain": [
              "         GWN_avc_90  GWN_avc_75  GWN_avc_50\n",
              "item_id                                    \n",
              "0              6.21        7.82       12.16\n",
              "1              1.86        2.93        4.89\n",
              "2              5.55        7.02       10.84\n",
              "3              5.47        6.96       10.97\n",
              "4              6.63        8.45       13.53\n",
              "5              3.05        4.17        7.29\n",
              "6              4.21        5.71        9.44\n",
              "7              5.24        6.57        9.76\n",
              "8              2.56        3.83        6.51\n",
              "9              3.23        4.29        6.76\n",
              "10            17.33       20.63       30.26\n",
              "11             3.61        4.81        7.78\n",
              "12             6.22        7.82       12.13\n",
              "13             1.54        2.45        4.11\n",
              "14             6.93        8.52       12.75\n",
              "15             2.98        4.35        7.14\n",
              "16             1.40        2.56        4.57\n",
              "17             9.16       11.16       16.66\n",
              "18            19.62       23.81       36.34\n",
              "19             2.27        3.47        5.94\n",
              "20             6.03        7.75       12.40\n",
              "21             4.81        6.29        9.84\n",
              "22             7.94        9.64       14.28\n",
              "23            12.89       15.03       21.33\n",
              "24             6.02        7.47       11.43"
            ],
            "text/html": [
              "\n",
              "  <div id=\"df-ccf21a43-4822-4455-806e-9b5dbb250ea7\">\n",
              "    <div class=\"colab-df-container\">\n",
              "      <div>\n",
              "<style scoped>\n",
              "    .dataframe tbody tr th:only-of-type {\n",
              "        vertical-align: middle;\n",
              "    }\n",
              "\n",
              "    .dataframe tbody tr th {\n",
              "        vertical-align: top;\n",
              "    }\n",
              "\n",
              "    .dataframe thead th {\n",
              "        text-align: right;\n",
              "    }\n",
              "</style>\n",
              "<table border=\"1\" class=\"dataframe\">\n",
              "  <thead>\n",
              "    <tr style=\"text-align: right;\">\n",
              "      <th></th>\n",
              "      <th>GWN_avc_90</th>\n",
              "      <th>GWN_avc_75</th>\n",
              "      <th>GWN_avc_50</th>\n",
              "    </tr>\n",
              "    <tr>\n",
              "      <th>item_id</th>\n",
              "      <th></th>\n",
              "      <th></th>\n",
              "      <th></th>\n",
              "    </tr>\n",
              "  </thead>\n",
              "  <tbody>\n",
              "    <tr>\n",
              "      <th>0</th>\n",
              "      <td>6.21</td>\n",
              "      <td>7.82</td>\n",
              "      <td>12.16</td>\n",
              "    </tr>\n",
              "    <tr>\n",
              "      <th>1</th>\n",
              "      <td>1.86</td>\n",
              "      <td>2.93</td>\n",
              "      <td>4.89</td>\n",
              "    </tr>\n",
              "    <tr>\n",
              "      <th>2</th>\n",
              "      <td>5.55</td>\n",
              "      <td>7.02</td>\n",
              "      <td>10.84</td>\n",
              "    </tr>\n",
              "    <tr>\n",
              "      <th>3</th>\n",
              "      <td>5.47</td>\n",
              "      <td>6.96</td>\n",
              "      <td>10.97</td>\n",
              "    </tr>\n",
              "    <tr>\n",
              "      <th>4</th>\n",
              "      <td>6.63</td>\n",
              "      <td>8.45</td>\n",
              "      <td>13.53</td>\n",
              "    </tr>\n",
              "    <tr>\n",
              "      <th>5</th>\n",
              "      <td>3.05</td>\n",
              "      <td>4.17</td>\n",
              "      <td>7.29</td>\n",
              "    </tr>\n",
              "    <tr>\n",
              "      <th>6</th>\n",
              "      <td>4.21</td>\n",
              "      <td>5.71</td>\n",
              "      <td>9.44</td>\n",
              "    </tr>\n",
              "    <tr>\n",
              "      <th>7</th>\n",
              "      <td>5.24</td>\n",
              "      <td>6.57</td>\n",
              "      <td>9.76</td>\n",
              "    </tr>\n",
              "    <tr>\n",
              "      <th>8</th>\n",
              "      <td>2.56</td>\n",
              "      <td>3.83</td>\n",
              "      <td>6.51</td>\n",
              "    </tr>\n",
              "    <tr>\n",
              "      <th>9</th>\n",
              "      <td>3.23</td>\n",
              "      <td>4.29</td>\n",
              "      <td>6.76</td>\n",
              "    </tr>\n",
              "    <tr>\n",
              "      <th>10</th>\n",
              "      <td>17.33</td>\n",
              "      <td>20.63</td>\n",
              "      <td>30.26</td>\n",
              "    </tr>\n",
              "    <tr>\n",
              "      <th>11</th>\n",
              "      <td>3.61</td>\n",
              "      <td>4.81</td>\n",
              "      <td>7.78</td>\n",
              "    </tr>\n",
              "    <tr>\n",
              "      <th>12</th>\n",
              "      <td>6.22</td>\n",
              "      <td>7.82</td>\n",
              "      <td>12.13</td>\n",
              "    </tr>\n",
              "    <tr>\n",
              "      <th>13</th>\n",
              "      <td>1.54</td>\n",
              "      <td>2.45</td>\n",
              "      <td>4.11</td>\n",
              "    </tr>\n",
              "    <tr>\n",
              "      <th>14</th>\n",
              "      <td>6.93</td>\n",
              "      <td>8.52</td>\n",
              "      <td>12.75</td>\n",
              "    </tr>\n",
              "    <tr>\n",
              "      <th>15</th>\n",
              "      <td>2.98</td>\n",
              "      <td>4.35</td>\n",
              "      <td>7.14</td>\n",
              "    </tr>\n",
              "    <tr>\n",
              "      <th>16</th>\n",
              "      <td>1.40</td>\n",
              "      <td>2.56</td>\n",
              "      <td>4.57</td>\n",
              "    </tr>\n",
              "    <tr>\n",
              "      <th>17</th>\n",
              "      <td>9.16</td>\n",
              "      <td>11.16</td>\n",
              "      <td>16.66</td>\n",
              "    </tr>\n",
              "    <tr>\n",
              "      <th>18</th>\n",
              "      <td>19.62</td>\n",
              "      <td>23.81</td>\n",
              "      <td>36.34</td>\n",
              "    </tr>\n",
              "    <tr>\n",
              "      <th>19</th>\n",
              "      <td>2.27</td>\n",
              "      <td>3.47</td>\n",
              "      <td>5.94</td>\n",
              "    </tr>\n",
              "    <tr>\n",
              "      <th>20</th>\n",
              "      <td>6.03</td>\n",
              "      <td>7.75</td>\n",
              "      <td>12.40</td>\n",
              "    </tr>\n",
              "    <tr>\n",
              "      <th>21</th>\n",
              "      <td>4.81</td>\n",
              "      <td>6.29</td>\n",
              "      <td>9.84</td>\n",
              "    </tr>\n",
              "    <tr>\n",
              "      <th>22</th>\n",
              "      <td>7.94</td>\n",
              "      <td>9.64</td>\n",
              "      <td>14.28</td>\n",
              "    </tr>\n",
              "    <tr>\n",
              "      <th>23</th>\n",
              "      <td>12.89</td>\n",
              "      <td>15.03</td>\n",
              "      <td>21.33</td>\n",
              "    </tr>\n",
              "    <tr>\n",
              "      <th>24</th>\n",
              "      <td>6.02</td>\n",
              "      <td>7.47</td>\n",
              "      <td>11.43</td>\n",
              "    </tr>\n",
              "  </tbody>\n",
              "</table>\n",
              "</div>\n",
              "      <button class=\"colab-df-convert\" onclick=\"convertToInteractive('df-ccf21a43-4822-4455-806e-9b5dbb250ea7')\"\n",
              "              title=\"Convert this dataframe to an interactive table.\"\n",
              "              style=\"display:none;\">\n",
              "        \n",
              "  <svg xmlns=\"http://www.w3.org/2000/svg\" height=\"24px\"viewBox=\"0 0 24 24\"\n",
              "       width=\"24px\">\n",
              "    <path d=\"M0 0h24v24H0V0z\" fill=\"none\"/>\n",
              "    <path d=\"M18.56 5.44l.94 2.06.94-2.06 2.06-.94-2.06-.94-.94-2.06-.94 2.06-2.06.94zm-11 1L8.5 8.5l.94-2.06 2.06-.94-2.06-.94L8.5 2.5l-.94 2.06-2.06.94zm10 10l.94 2.06.94-2.06 2.06-.94-2.06-.94-.94-2.06-.94 2.06-2.06.94z\"/><path d=\"M17.41 7.96l-1.37-1.37c-.4-.4-.92-.59-1.43-.59-.52 0-1.04.2-1.43.59L10.3 9.45l-7.72 7.72c-.78.78-.78 2.05 0 2.83L4 21.41c.39.39.9.59 1.41.59.51 0 1.02-.2 1.41-.59l7.78-7.78 2.81-2.81c.8-.78.8-2.07 0-2.86zM5.41 20L4 18.59l7.72-7.72 1.47 1.35L5.41 20z\"/>\n",
              "  </svg>\n",
              "      </button>\n",
              "      \n",
              "  <style>\n",
              "    .colab-df-container {\n",
              "      display:flex;\n",
              "      flex-wrap:wrap;\n",
              "      gap: 12px;\n",
              "    }\n",
              "\n",
              "    .colab-df-convert {\n",
              "      background-color: #E8F0FE;\n",
              "      border: none;\n",
              "      border-radius: 50%;\n",
              "      cursor: pointer;\n",
              "      display: none;\n",
              "      fill: #1967D2;\n",
              "      height: 32px;\n",
              "      padding: 0 0 0 0;\n",
              "      width: 32px;\n",
              "    }\n",
              "\n",
              "    .colab-df-convert:hover {\n",
              "      background-color: #E2EBFA;\n",
              "      box-shadow: 0px 1px 2px rgba(60, 64, 67, 0.3), 0px 1px 3px 1px rgba(60, 64, 67, 0.15);\n",
              "      fill: #174EA6;\n",
              "    }\n",
              "\n",
              "    [theme=dark] .colab-df-convert {\n",
              "      background-color: #3B4455;\n",
              "      fill: #D2E3FC;\n",
              "    }\n",
              "\n",
              "    [theme=dark] .colab-df-convert:hover {\n",
              "      background-color: #434B5C;\n",
              "      box-shadow: 0px 1px 3px 1px rgba(0, 0, 0, 0.15);\n",
              "      filter: drop-shadow(0px 1px 2px rgba(0, 0, 0, 0.3));\n",
              "      fill: #FFFFFF;\n",
              "    }\n",
              "  </style>\n",
              "\n",
              "      <script>\n",
              "        const buttonEl =\n",
              "          document.querySelector('#df-ccf21a43-4822-4455-806e-9b5dbb250ea7 button.colab-df-convert');\n",
              "        buttonEl.style.display =\n",
              "          google.colab.kernel.accessAllowed ? 'block' : 'none';\n",
              "\n",
              "        async function convertToInteractive(key) {\n",
              "          const element = document.querySelector('#df-ccf21a43-4822-4455-806e-9b5dbb250ea7');\n",
              "          const dataTable =\n",
              "            await google.colab.kernel.invokeFunction('convertToInteractive',\n",
              "                                                     [key], {});\n",
              "          if (!dataTable) return;\n",
              "\n",
              "          const docLinkHtml = 'Like what you see? Visit the ' +\n",
              "            '<a target=\"_blank\" href=https://colab.research.google.com/notebooks/data_table.ipynb>data table notebook</a>'\n",
              "            + ' to learn more about interactive tables.';\n",
              "          element.innerHTML = '';\n",
              "          dataTable['output_type'] = 'display_data';\n",
              "          await google.colab.output.renderOutput(dataTable, element);\n",
              "          const docLink = document.createElement('div');\n",
              "          docLink.innerHTML = docLinkHtml;\n",
              "          element.appendChild(docLink);\n",
              "        }\n",
              "      </script>\n",
              "    </div>\n",
              "  </div>\n",
              "  "
            ]
          },
          "metadata": {},
          "execution_count": 35
        }
      ]
    },
    {
      "cell_type": "code",
      "source": [
        "GWN_separated_pscr = pd.concat([GWN_separate_pscr_90, GWN_separate_pscr_75, GWN_separate_pscr_50], axis=1)\n",
        "GWN_separated_pscr"
      ],
      "metadata": {
        "colab": {
          "base_uri": "https://localhost:8080/",
          "height": 864
        },
        "id": "khQByF2rsFzN",
        "outputId": "0f253bf4-821e-4a73-bb5a-245bc5d11171"
      },
      "execution_count": 36,
      "outputs": [
        {
          "output_type": "execute_result",
          "data": {
            "text/plain": [
              "         GWN_pscr_90  GWN_pscr_75  GWN_pscr_50\n",
              "item_id                                       \n",
              "0           0.318706     0.273134     0.246671\n",
              "1           0.193818     0.347980     0.335771\n",
              "2           0.127054     0.128020     0.109905\n",
              "3           0.521037     0.557679     0.481078\n",
              "4           0.289737     0.171939     0.137425\n",
              "5           0.216199     0.240397     0.103268\n",
              "6           0.411594     0.429724     0.388732\n",
              "7           0.333369     0.206285     0.119707\n",
              "8           0.240099     0.223897     0.189666\n",
              "9           0.080825     0.177113     0.118354\n",
              "10          0.337953     0.199121     0.134324\n",
              "11          0.224754     0.214842     0.215663\n",
              "12          0.284468     0.321705     0.299403\n",
              "13          0.373904     0.300349     0.205492\n",
              "14          0.200732     0.189718     0.251054\n",
              "15          0.094922     0.067524     0.057528\n",
              "16         -0.001915     0.118031     0.111111\n",
              "17          0.263326     0.144030     0.106810\n",
              "18          0.237864     0.162884     0.157137\n",
              "19          0.209922     0.144763     0.043410\n",
              "20          0.388751     0.407194     0.357292\n",
              "21          0.133631     0.098245     0.103983\n",
              "22          0.481830     0.447682     0.328242\n",
              "23          0.239453     0.177249     0.190210\n",
              "24          0.237349     0.177639     0.219405"
            ],
            "text/html": [
              "\n",
              "  <div id=\"df-211fb57f-295f-4f16-bd70-27247e988dde\">\n",
              "    <div class=\"colab-df-container\">\n",
              "      <div>\n",
              "<style scoped>\n",
              "    .dataframe tbody tr th:only-of-type {\n",
              "        vertical-align: middle;\n",
              "    }\n",
              "\n",
              "    .dataframe tbody tr th {\n",
              "        vertical-align: top;\n",
              "    }\n",
              "\n",
              "    .dataframe thead th {\n",
              "        text-align: right;\n",
              "    }\n",
              "</style>\n",
              "<table border=\"1\" class=\"dataframe\">\n",
              "  <thead>\n",
              "    <tr style=\"text-align: right;\">\n",
              "      <th></th>\n",
              "      <th>GWN_pscr_90</th>\n",
              "      <th>GWN_pscr_75</th>\n",
              "      <th>GWN_pscr_50</th>\n",
              "    </tr>\n",
              "    <tr>\n",
              "      <th>item_id</th>\n",
              "      <th></th>\n",
              "      <th></th>\n",
              "      <th></th>\n",
              "    </tr>\n",
              "  </thead>\n",
              "  <tbody>\n",
              "    <tr>\n",
              "      <th>0</th>\n",
              "      <td>0.318706</td>\n",
              "      <td>0.273134</td>\n",
              "      <td>0.246671</td>\n",
              "    </tr>\n",
              "    <tr>\n",
              "      <th>1</th>\n",
              "      <td>0.193818</td>\n",
              "      <td>0.347980</td>\n",
              "      <td>0.335771</td>\n",
              "    </tr>\n",
              "    <tr>\n",
              "      <th>2</th>\n",
              "      <td>0.127054</td>\n",
              "      <td>0.128020</td>\n",
              "      <td>0.109905</td>\n",
              "    </tr>\n",
              "    <tr>\n",
              "      <th>3</th>\n",
              "      <td>0.521037</td>\n",
              "      <td>0.557679</td>\n",
              "      <td>0.481078</td>\n",
              "    </tr>\n",
              "    <tr>\n",
              "      <th>4</th>\n",
              "      <td>0.289737</td>\n",
              "      <td>0.171939</td>\n",
              "      <td>0.137425</td>\n",
              "    </tr>\n",
              "    <tr>\n",
              "      <th>5</th>\n",
              "      <td>0.216199</td>\n",
              "      <td>0.240397</td>\n",
              "      <td>0.103268</td>\n",
              "    </tr>\n",
              "    <tr>\n",
              "      <th>6</th>\n",
              "      <td>0.411594</td>\n",
              "      <td>0.429724</td>\n",
              "      <td>0.388732</td>\n",
              "    </tr>\n",
              "    <tr>\n",
              "      <th>7</th>\n",
              "      <td>0.333369</td>\n",
              "      <td>0.206285</td>\n",
              "      <td>0.119707</td>\n",
              "    </tr>\n",
              "    <tr>\n",
              "      <th>8</th>\n",
              "      <td>0.240099</td>\n",
              "      <td>0.223897</td>\n",
              "      <td>0.189666</td>\n",
              "    </tr>\n",
              "    <tr>\n",
              "      <th>9</th>\n",
              "      <td>0.080825</td>\n",
              "      <td>0.177113</td>\n",
              "      <td>0.118354</td>\n",
              "    </tr>\n",
              "    <tr>\n",
              "      <th>10</th>\n",
              "      <td>0.337953</td>\n",
              "      <td>0.199121</td>\n",
              "      <td>0.134324</td>\n",
              "    </tr>\n",
              "    <tr>\n",
              "      <th>11</th>\n",
              "      <td>0.224754</td>\n",
              "      <td>0.214842</td>\n",
              "      <td>0.215663</td>\n",
              "    </tr>\n",
              "    <tr>\n",
              "      <th>12</th>\n",
              "      <td>0.284468</td>\n",
              "      <td>0.321705</td>\n",
              "      <td>0.299403</td>\n",
              "    </tr>\n",
              "    <tr>\n",
              "      <th>13</th>\n",
              "      <td>0.373904</td>\n",
              "      <td>0.300349</td>\n",
              "      <td>0.205492</td>\n",
              "    </tr>\n",
              "    <tr>\n",
              "      <th>14</th>\n",
              "      <td>0.200732</td>\n",
              "      <td>0.189718</td>\n",
              "      <td>0.251054</td>\n",
              "    </tr>\n",
              "    <tr>\n",
              "      <th>15</th>\n",
              "      <td>0.094922</td>\n",
              "      <td>0.067524</td>\n",
              "      <td>0.057528</td>\n",
              "    </tr>\n",
              "    <tr>\n",
              "      <th>16</th>\n",
              "      <td>-0.001915</td>\n",
              "      <td>0.118031</td>\n",
              "      <td>0.111111</td>\n",
              "    </tr>\n",
              "    <tr>\n",
              "      <th>17</th>\n",
              "      <td>0.263326</td>\n",
              "      <td>0.144030</td>\n",
              "      <td>0.106810</td>\n",
              "    </tr>\n",
              "    <tr>\n",
              "      <th>18</th>\n",
              "      <td>0.237864</td>\n",
              "      <td>0.162884</td>\n",
              "      <td>0.157137</td>\n",
              "    </tr>\n",
              "    <tr>\n",
              "      <th>19</th>\n",
              "      <td>0.209922</td>\n",
              "      <td>0.144763</td>\n",
              "      <td>0.043410</td>\n",
              "    </tr>\n",
              "    <tr>\n",
              "      <th>20</th>\n",
              "      <td>0.388751</td>\n",
              "      <td>0.407194</td>\n",
              "      <td>0.357292</td>\n",
              "    </tr>\n",
              "    <tr>\n",
              "      <th>21</th>\n",
              "      <td>0.133631</td>\n",
              "      <td>0.098245</td>\n",
              "      <td>0.103983</td>\n",
              "    </tr>\n",
              "    <tr>\n",
              "      <th>22</th>\n",
              "      <td>0.481830</td>\n",
              "      <td>0.447682</td>\n",
              "      <td>0.328242</td>\n",
              "    </tr>\n",
              "    <tr>\n",
              "      <th>23</th>\n",
              "      <td>0.239453</td>\n",
              "      <td>0.177249</td>\n",
              "      <td>0.190210</td>\n",
              "    </tr>\n",
              "    <tr>\n",
              "      <th>24</th>\n",
              "      <td>0.237349</td>\n",
              "      <td>0.177639</td>\n",
              "      <td>0.219405</td>\n",
              "    </tr>\n",
              "  </tbody>\n",
              "</table>\n",
              "</div>\n",
              "      <button class=\"colab-df-convert\" onclick=\"convertToInteractive('df-211fb57f-295f-4f16-bd70-27247e988dde')\"\n",
              "              title=\"Convert this dataframe to an interactive table.\"\n",
              "              style=\"display:none;\">\n",
              "        \n",
              "  <svg xmlns=\"http://www.w3.org/2000/svg\" height=\"24px\"viewBox=\"0 0 24 24\"\n",
              "       width=\"24px\">\n",
              "    <path d=\"M0 0h24v24H0V0z\" fill=\"none\"/>\n",
              "    <path d=\"M18.56 5.44l.94 2.06.94-2.06 2.06-.94-2.06-.94-.94-2.06-.94 2.06-2.06.94zm-11 1L8.5 8.5l.94-2.06 2.06-.94-2.06-.94L8.5 2.5l-.94 2.06-2.06.94zm10 10l.94 2.06.94-2.06 2.06-.94-2.06-.94-.94-2.06-.94 2.06-2.06.94z\"/><path d=\"M17.41 7.96l-1.37-1.37c-.4-.4-.92-.59-1.43-.59-.52 0-1.04.2-1.43.59L10.3 9.45l-7.72 7.72c-.78.78-.78 2.05 0 2.83L4 21.41c.39.39.9.59 1.41.59.51 0 1.02-.2 1.41-.59l7.78-7.78 2.81-2.81c.8-.78.8-2.07 0-2.86zM5.41 20L4 18.59l7.72-7.72 1.47 1.35L5.41 20z\"/>\n",
              "  </svg>\n",
              "      </button>\n",
              "      \n",
              "  <style>\n",
              "    .colab-df-container {\n",
              "      display:flex;\n",
              "      flex-wrap:wrap;\n",
              "      gap: 12px;\n",
              "    }\n",
              "\n",
              "    .colab-df-convert {\n",
              "      background-color: #E8F0FE;\n",
              "      border: none;\n",
              "      border-radius: 50%;\n",
              "      cursor: pointer;\n",
              "      display: none;\n",
              "      fill: #1967D2;\n",
              "      height: 32px;\n",
              "      padding: 0 0 0 0;\n",
              "      width: 32px;\n",
              "    }\n",
              "\n",
              "    .colab-df-convert:hover {\n",
              "      background-color: #E2EBFA;\n",
              "      box-shadow: 0px 1px 2px rgba(60, 64, 67, 0.3), 0px 1px 3px 1px rgba(60, 64, 67, 0.15);\n",
              "      fill: #174EA6;\n",
              "    }\n",
              "\n",
              "    [theme=dark] .colab-df-convert {\n",
              "      background-color: #3B4455;\n",
              "      fill: #D2E3FC;\n",
              "    }\n",
              "\n",
              "    [theme=dark] .colab-df-convert:hover {\n",
              "      background-color: #434B5C;\n",
              "      box-shadow: 0px 1px 3px 1px rgba(0, 0, 0, 0.15);\n",
              "      filter: drop-shadow(0px 1px 2px rgba(0, 0, 0, 0.3));\n",
              "      fill: #FFFFFF;\n",
              "    }\n",
              "  </style>\n",
              "\n",
              "      <script>\n",
              "        const buttonEl =\n",
              "          document.querySelector('#df-211fb57f-295f-4f16-bd70-27247e988dde button.colab-df-convert');\n",
              "        buttonEl.style.display =\n",
              "          google.colab.kernel.accessAllowed ? 'block' : 'none';\n",
              "\n",
              "        async function convertToInteractive(key) {\n",
              "          const element = document.querySelector('#df-211fb57f-295f-4f16-bd70-27247e988dde');\n",
              "          const dataTable =\n",
              "            await google.colab.kernel.invokeFunction('convertToInteractive',\n",
              "                                                     [key], {});\n",
              "          if (!dataTable) return;\n",
              "\n",
              "          const docLinkHtml = 'Like what you see? Visit the ' +\n",
              "            '<a target=\"_blank\" href=https://colab.research.google.com/notebooks/data_table.ipynb>data table notebook</a>'\n",
              "            + ' to learn more about interactive tables.';\n",
              "          element.innerHTML = '';\n",
              "          dataTable['output_type'] = 'display_data';\n",
              "          await google.colab.output.renderOutput(dataTable, element);\n",
              "          const docLink = document.createElement('div');\n",
              "          docLink.innerHTML = docLinkHtml;\n",
              "          element.appendChild(docLink);\n",
              "        }\n",
              "      </script>\n",
              "    </div>\n",
              "  </div>\n",
              "  "
            ]
          },
          "metadata": {},
          "execution_count": 36
        }
      ]
    },
    {
      "cell_type": "markdown",
      "source": [
        "Saving Files"
      ],
      "metadata": {
        "id": "t1PKhBZRsNtS"
      }
    },
    {
      "cell_type": "code",
      "source": [
        "GWN_separated_avc.to_csv('/content/drive/MyDrive/M5/GWN_separated_avc.csv')\n",
        "\n",
        "GWN_separated_pscr.to_csv('/content/drive/MyDrive/M5/GWN_separated_pscr.csv')"
      ],
      "metadata": {
        "id": "vR0iUd1TsPWo"
      },
      "execution_count": 37,
      "outputs": []
    }
  ]
}