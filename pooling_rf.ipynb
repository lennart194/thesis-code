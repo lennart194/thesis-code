{
  "nbformat": 4,
  "nbformat_minor": 0,
  "metadata": {
    "colab": {
      "name": "pooling_rf.ipynb",
      "provenance": [],
      "authorship_tag": "ABX9TyPg7BFbYJh7maklKLn85qd3",
      "include_colab_link": true
    },
    "kernelspec": {
      "name": "python3",
      "display_name": "Python 3"
    },
    "language_info": {
      "name": "python"
    }
  },
  "cells": [
    {
      "cell_type": "markdown",
      "metadata": {
        "id": "view-in-github",
        "colab_type": "text"
      },
      "source": [
        "<a href=\"https://colab.research.google.com/github/lennart194/thesis-code/blob/main/pooling_rf.ipynb\" target=\"_parent\"><img src=\"https://colab.research.google.com/assets/colab-badge.svg\" alt=\"Open In Colab\"/></a>"
      ]
    },
    {
      "cell_type": "code",
      "execution_count": null,
      "metadata": {
        "id": "F1Dfv57t_S6o"
      },
      "outputs": [],
      "source": [
        "pip install ddop"
      ]
    },
    {
      "cell_type": "code",
      "source": [
        "import numpy as np\n",
        "import pandas as pd\n",
        "\n",
        "from ddop.newsvendor import RandomForestWeightedNewsvendor\n",
        "from ddop.newsvendor import SampleAverageApproximationNewsvendor\n",
        "\n",
        "from sklearn.model_selection import RandomizedSearchCV\n",
        "\n",
        "from ddop.metrics import average_costs\n",
        "from ddop.metrics import prescriptiveness_score\n",
        "from ddop.metrics import make_scorer"
      ],
      "metadata": {
        "id": "VKi-NN3v_YN2"
      },
      "execution_count": 2,
      "outputs": []
    },
    {
      "cell_type": "code",
      "source": [
        "from google.colab import drive\n",
        "drive.mount('/content/drive')"
      ],
      "metadata": {
        "id": "_JBnueOg_lFh",
        "colab": {
          "base_uri": "https://localhost:8080/"
        },
        "outputId": "da682fcd-a7a6-41df-e884-ce780d4c4681"
      },
      "execution_count": 3,
      "outputs": [
        {
          "output_type": "stream",
          "name": "stdout",
          "text": [
            "Mounted at /content/drive\n"
          ]
        }
      ]
    },
    {
      "cell_type": "markdown",
      "source": [
        "## loading data-set\n",
        "\n",
        "\n",
        "---\n",
        "\n",
        "\n",
        "\n",
        "*   load the whole ultimative set\n",
        "*   sort the rows first by item, then by date and set a multi index\n",
        "**now every items time series can be separated by the index**"
      ],
      "metadata": {
        "id": "zuIsYG8X_q8W"
      }
    },
    {
      "cell_type": "code",
      "source": [
        "data = pd.read_csv('/content/drive/MyDrive/M5/ultimative_set.csv')\n",
        "data = data.drop(columns=['Unnamed: 0'])\n",
        "data = data.sort_values(by=['item_id', 'date'])\n",
        "data = data.set_index(['item_id', 'date'])"
      ],
      "metadata": {
        "id": "IznE5Snq_rfh"
      },
      "execution_count": 4,
      "outputs": []
    },
    {
      "cell_type": "markdown",
      "source": [
        "## split in feature and target matrix\n",
        "\n",
        "\n",
        "---"
      ],
      "metadata": {
        "id": "VJcOnLP3_wl5"
      }
    },
    {
      "cell_type": "code",
      "source": [
        "X = data.drop(columns=['demand'])\n",
        "Y = data['demand']"
      ],
      "metadata": {
        "id": "vNZxGqjU_xQ8"
      },
      "execution_count": 5,
      "outputs": []
    },
    {
      "cell_type": "markdown",
      "source": [
        "## train_test_split\n",
        "\n",
        "\n",
        "---"
      ],
      "metadata": {
        "id": "zmq4sus-_z9U"
      }
    },
    {
      "cell_type": "code",
      "source": [
        "X_train = X.loc[(slice(None), slice(None, \"2015\")), :]\n",
        "X_test = X.loc[(slice(None), slice(\"2015\", '2017')), :]\n",
        "\n",
        "Y_train = Y.loc[(slice(None), slice(None, \"2015\"))]\n",
        "Y_test = Y.loc[(slice(None), slice(\"2015\", \"2017\"))]"
      ],
      "metadata": {
        "id": "8eKXFoR5_3ML"
      },
      "execution_count": 6,
      "outputs": []
    },
    {
      "cell_type": "markdown",
      "source": [
        "## new order after the split\n",
        "\n",
        "\n",
        "---\n",
        "\n",
        "*   for the product pooling the whole data must be be sorted by date independent from the 'item_id'\n",
        "*   therefore sort values by 'date' in the first instance and by 'item_id' in the second\n",
        "*   these two instances create the mutli-index of the target matrix (Y)\n",
        "*   as all items are in one set now the 'item_id' becomes a feature in the feature matrix (X). The only index is the date here."
      ],
      "metadata": {
        "id": "G52bChfFkJEu"
      }
    },
    {
      "cell_type": "code",
      "source": [
        "X_train = X_train.reset_index().sort_values(by=['date', 'item_id']).set_index(['date'])\n",
        "X_test = X_test.reset_index().sort_values(by=['date', 'item_id']).set_index(['date'])\n",
        "\n",
        "Y_train = Y_train.reset_index().sort_values(by=['date', 'item_id']).set_index(['date', 'item_id'])\n",
        "Y_test = Y_test.reset_index().sort_values(by=['date', 'item_id']).set_index(['date', 'item_id'])"
      ],
      "metadata": {
        "id": "sOevFOMKGStK"
      },
      "execution_count": 7,
      "outputs": []
    },
    {
      "cell_type": "markdown",
      "source": [
        "## defining the different cost paramerters for special service level and product range\n",
        "\n",
        "\n",
        "\n",
        "---\n",
        "\n",
        "\n",
        "\n",
        "*   cu is the mean of the cumulated 'sell_price' column of the training data\n",
        "*   appending to the corresponding service level co is calculated with (cu - α * cu) / α\n",
        "*   all the costs are rounded to 2 digits"
      ],
      "metadata": {
        "id": "qeD2eag7_5rv"
      }
    },
    {
      "cell_type": "code",
      "source": [
        "prods = list(range(0,25))\n",
        "\n",
        "cu = round(X_train['sell_price'].mean(),2)\n",
        "\n",
        "co_90 = round(((cu-(0.90*cu))/0.90),2)\n",
        "\n",
        "co_75 = round(((cu-(0.75*cu))/0.75),2)\n",
        "\n",
        "co_50 = round(((cu-(0.50*cu))/0.50),2)"
      ],
      "metadata": {
        "id": "9A42fKg5_8AM"
      },
      "execution_count": 8,
      "outputs": []
    },
    {
      "cell_type": "markdown",
      "source": [
        "## determining some parameters\n",
        "\n",
        "\n",
        "---\n",
        "\n",
        "\n",
        "*   the potential range of the params for randomized search are defined\n",
        "*   the estimator, the scorer and finally the whole param_random is defined"
      ],
      "metadata": {
        "id": "51hg0pci_96e"
      }
    },
    {
      "cell_type": "code",
      "source": [
        "max_depth = np.arange(7, 24)\n",
        "n_estimators = np.arange(65, 101)\n",
        "min_samples_leaf = np.arange(2, 6)\n",
        "param_random = dict(max_depth = max_depth, n_estimators = n_estimators, min_samples_leaf = min_samples_leaf)\n",
        "\n",
        "scorer_avc = make_scorer(average_costs, greater_is_better=False)"
      ],
      "metadata": {
        "id": "HCVjUkNLACCT"
      },
      "execution_count": 17,
      "outputs": []
    },
    {
      "cell_type": "markdown",
      "source": [
        "# rf for 90% service level\n",
        "\n",
        "\n",
        "---\n",
        "\n",
        "\n",
        "\n",
        "\n",
        "\n",
        "\n",
        "## randomized search\n",
        "\n",
        "\n",
        "\n",
        "\n",
        "*   randomized serach is done once for the entire data-set with the corresponding service level costs\n",
        "*   this step was done with the server of the University of Würzburg because of the high resource consumption \n",
        "*   the results for the best params are: n_estimators = 79 , max_depth = 20 , min_samples_leaf = 4"
      ],
      "metadata": {
        "id": "5kh8-UH8AHu-"
      }
    },
    {
      "cell_type": "code",
      "source": [
        "rf = RandomForestWeightedNewsvendor(cu = cu, co = co_90, random_state = 42, criterion = 'mse')\n",
        "random = RandomizedSearchCV(rf, param_random, cv=5, scoring = scorer_avc, n_jobs=8)\n",
        "random.fit(X_train, Y_train)\n",
        "print(random.best_params_)"
      ],
      "metadata": {
        "id": "qpTS98FOAZXG"
      },
      "execution_count": null,
      "outputs": []
    },
    {
      "cell_type": "markdown",
      "source": [
        "## newsvendor-model 90%\n",
        "\n",
        "\n",
        "\n",
        "---\n",
        "\n",
        "\n",
        "\n",
        "*   the model is trained and tested once for entire data-set with the best hyperparameters\n",
        "*   the prediction is the output"
      ],
      "metadata": {
        "id": "ZX4X5Ot9AxwR"
      }
    },
    {
      "cell_type": "code",
      "source": [
        "rf = RandomForestWeightedNewsvendor(cu = cu, co = co_90, random_state = 42, criterion = 'mse',\n",
        "                                    max_depth = 20, n_estimators = 79, min_samples_leaf = 4)\n",
        "\n",
        "rf.fit(X_train, Y_train)\n",
        "preds_90 = rf.predict(X_test)"
      ],
      "metadata": {
        "id": "sxsJ5P-eAyPJ",
        "colab": {
          "base_uri": "https://localhost:8080/"
        },
        "outputId": "6ae20824-add6-4b8a-a569-682280d047fe"
      },
      "execution_count": 9,
      "outputs": [
        {
          "output_type": "stream",
          "name": "stderr",
          "text": [
            "/usr/local/lib/python3.7/dist-packages/ddop/newsvendor/_WeightedNewsvendor.py:580: DataConversionWarning: A column-vector y was passed when a 1d array was expected. Please change the shape of y to (n_samples,), for example using ravel().\n",
            "  self.model_ = model.fit(X, y)\n"
          ]
        }
      ]
    },
    {
      "cell_type": "markdown",
      "source": [
        "## reorder the data\n",
        "\n",
        "\n",
        "\n",
        "\n",
        "---\n",
        "\n",
        "\n",
        "\n",
        "*   create a pandas frame 'comp_90' where the real values, the predictions and the predictions from the saa model are in columns next to each other"
      ],
      "metadata": {
        "id": "8-Je5JenBbMs"
      }
    },
    {
      "cell_type": "code",
      "source": [
        "pred_90 = pd.DataFrame(preds_90, columns=['pred_rf_90'])\n",
        "comp_90 = Y.loc[(slice(None), slice(\"2015\", \"2017\"))].reset_index().sort_values(by=['date', 'item_id']).set_index('date')\n",
        "comp_90 = comp_90.reset_index()\n",
        "comp_90['pred_rf_90'] = pred_90[['pred_rf_90']]\n",
        "comp_90 = comp_90.sort_values(by=['item_id', 'date']).set_index(['item_id', 'date'])\n",
        "\n",
        "saa_90 = pd.read_csv('/content/drive/MyDrive/M5/SAA_pred_90.csv').set_index(['item_id', 'date'])\n",
        "\n",
        "comp_90 = pd.concat([comp_90, saa_90], axis = 1)"
      ],
      "metadata": {
        "id": "rBEqMx-DBb7o"
      },
      "execution_count": 10,
      "outputs": []
    },
    {
      "cell_type": "markdown",
      "source": [
        "## average costs and prescriptivess score\n",
        "\n",
        "\n",
        "---\n",
        "\n",
        "\n",
        "\n",
        "*   create a loop where the average_costs (the prescriptivess score) of each item are calculated\n",
        "\n",
        "*   save the results into a pandas frame\n"
      ],
      "metadata": {
        "id": "jAdBgPVJBhwi"
      }
    },
    {
      "cell_type": "code",
      "source": [
        "result_rf_90_avc = []\n",
        "\n",
        "for prod in prods:\n",
        "  avc = round(average_costs(comp_90['demand'].loc[prod], comp_90['pred_rf_90'].loc[prod], cu = cu, co = co_90),2)\n",
        "  result_rf_90_avc.append(avc)"
      ],
      "metadata": {
        "id": "0P1q6eCoBkEm"
      },
      "execution_count": 12,
      "outputs": []
    },
    {
      "cell_type": "code",
      "source": [
        "RF_pooled_avc_90 = pd.DataFrame(result_rf_90_avc, columns=['RF_avc_90'])\n",
        "RF_pooled_avc_90.index.name = 'item_id'"
      ],
      "metadata": {
        "id": "TtVZRgnFBwEq"
      },
      "execution_count": 13,
      "outputs": []
    },
    {
      "cell_type": "code",
      "source": [
        "result_rf_90_pscr = []\n",
        "\n",
        "for prod in prods:\n",
        "  pscr = round(prescriptiveness_score(comp_90['demand'].loc[prod], comp_90['pred_rf_90'].loc[prod],\n",
        "                                      comp_90['SAA_pred_90'].loc[prod], cu = cu, co = co_90),2)\n",
        "  result_rf_90_pscr.append(pscr)"
      ],
      "metadata": {
        "id": "z8KaUQgYlmoh"
      },
      "execution_count": 15,
      "outputs": []
    },
    {
      "cell_type": "code",
      "source": [
        "RF_pooled_pscr_90 = pd.DataFrame(result_rf_90_pscr, columns=['RF_pscr_90'])\n",
        "RF_pooled_pscr_90.index.name = 'item_id'"
      ],
      "metadata": {
        "id": "xyZySxAFqpVL"
      },
      "execution_count": 16,
      "outputs": []
    },
    {
      "cell_type": "markdown",
      "source": [
        "# rf for 75% service level\n",
        "\n",
        "\n",
        "---\n",
        "\n",
        "\n",
        "\n",
        "\n",
        "\n",
        "\n",
        "## randomized search\n",
        "\n",
        "\n",
        "\n",
        "\n",
        "*   randomized serach is done once for the entire data-set with the corresponding service level costs\n",
        "*   this step was done with the server of the University of Würzburg because of the high resource consumption \n",
        "*   the results for the best params are: n_estimators = 78 , max_depth = 19 , min_samples_leaf = 3"
      ],
      "metadata": {
        "id": "v3Hf9hztB7KE"
      }
    },
    {
      "cell_type": "code",
      "source": [
        "rf = RandomForestWeightedNewsvendor(cu = cu, co = co_75, random_state = 42, criterion = 'mse')\n",
        "random = RandomizedSearchCV(rf, param_random, cv=5, scoring = scorer_avc, n_jobs=8)\n",
        "random.fit(X_train, Y_train)\n",
        "print(random.best_params_)"
      ],
      "metadata": {
        "id": "_sa0qjJLCCTU"
      },
      "execution_count": null,
      "outputs": []
    },
    {
      "cell_type": "markdown",
      "source": [
        "## newsvendor-model 75%\n",
        "\n",
        "\n",
        "\n",
        "---\n",
        "\n",
        "\n",
        "\n",
        "*   the model is trained and tested once for entire data-set with the best hyperparameters\n",
        "*   the prediction is the output"
      ],
      "metadata": {
        "id": "hIfSWvYoCQkF"
      }
    },
    {
      "cell_type": "code",
      "source": [
        "rf = RandomForestWeightedNewsvendor(cu = cu, co = co_75, random_state = 42, criterion = 'mse',\n",
        "                                    max_depth = 19, n_estimators = 78, min_samples_leaf = 3)\n",
        "\n",
        "rf.fit(X_train, Y_train)\n",
        "preds_75 = rf.predict(X_test)"
      ],
      "metadata": {
        "id": "Lo2v-W25CWrD",
        "colab": {
          "base_uri": "https://localhost:8080/"
        },
        "outputId": "d08f5586-028f-4fde-e15d-20057df55674"
      },
      "execution_count": 18,
      "outputs": [
        {
          "output_type": "stream",
          "name": "stderr",
          "text": [
            "/usr/local/lib/python3.7/dist-packages/ddop/newsvendor/_WeightedNewsvendor.py:580: DataConversionWarning: A column-vector y was passed when a 1d array was expected. Please change the shape of y to (n_samples,), for example using ravel().\n",
            "  self.model_ = model.fit(X, y)\n"
          ]
        }
      ]
    },
    {
      "cell_type": "markdown",
      "source": [
        "## reorder the data\n",
        "\n",
        "\n",
        "\n",
        "\n",
        "---\n",
        "\n",
        "\n",
        "\n",
        "*   create a pandas frame 'comp_75' where the real values, the predictions and the predictions from the saa model are in columns next to each other"
      ],
      "metadata": {
        "id": "gHYB9e-LCqi0"
      }
    },
    {
      "cell_type": "code",
      "source": [
        "pred_75 = pd.DataFrame(preds_75, columns=['pred_rf_75'])\n",
        "comp_75 = Y.loc[(slice(None), slice(\"2015\", \"2017\"))].reset_index().sort_values(by=['date', 'item_id']).set_index('date')\n",
        "comp_75 = comp_75.reset_index()\n",
        "comp_75['pred_rf_75'] = pred_75[['pred_rf_75']]\n",
        "comp_75 = comp_75.set_index(['item_id', 'date'])\n",
        "\n",
        "saa_75 = pd.read_csv('/content/drive/MyDrive/M5/SAA_pred_75.csv').set_index(['item_id', 'date'])\n",
        "\n",
        "comp_75 = pd.concat([comp_75, saa_75], axis = 1)"
      ],
      "metadata": {
        "id": "XNyVyxK8Cq40"
      },
      "execution_count": 19,
      "outputs": []
    },
    {
      "cell_type": "markdown",
      "source": [
        "## average costs and prescriptivess score\n",
        "\n",
        "\n",
        "---\n",
        "\n",
        "\n",
        "\n",
        "*   create a loop where the average_costs (the prescriptivess score) of each item are calculated\n",
        "\n",
        "*   save the results into a pandas frame"
      ],
      "metadata": {
        "id": "qfcrTpD_Cvzd"
      }
    },
    {
      "cell_type": "code",
      "source": [
        "result_rf_75_avc = []\n",
        "\n",
        "for prod in prods:\n",
        "  avc = round(average_costs(comp_75['demand'].loc[prod], comp_75['pred_rf_75'].loc[prod], cu = cu, co = co_75),2)\n",
        "  result_rf_75_avc.append(avc)"
      ],
      "metadata": {
        "id": "lvxfK1CxCzfd"
      },
      "execution_count": 20,
      "outputs": []
    },
    {
      "cell_type": "code",
      "source": [
        "RF_pooled_avc_75 = pd.DataFrame(result_rf_75_avc, columns=['RF_avc_75'])\n",
        "RF_pooled_avc_75.index.name = 'item_id'"
      ],
      "metadata": {
        "id": "tnox3vHkC-sW"
      },
      "execution_count": 21,
      "outputs": []
    },
    {
      "cell_type": "code",
      "source": [
        "result_rf_75_pscr = []\n",
        "\n",
        "for prod in prods:\n",
        "  pscr = round(prescriptiveness_score(comp_75['demand'].loc[prod], comp_75['pred_rf_75'].loc[prod],\n",
        "                                      comp_75['SAA_pred_75'].loc[prod], cu = cu, co = co_75),2)\n",
        "  result_rf_75_pscr.append(pscr)"
      ],
      "metadata": {
        "id": "nGDHigUfoWHb"
      },
      "execution_count": 23,
      "outputs": []
    },
    {
      "cell_type": "code",
      "source": [
        "RF_pooled_pscr_75 = pd.DataFrame(result_rf_75_pscr, columns=['RF_pscr_75'])\n",
        "RF_pooled_pscr_75.index.name = 'item_id'"
      ],
      "metadata": {
        "id": "7lfbB7ZOol1L"
      },
      "execution_count": 24,
      "outputs": []
    },
    {
      "cell_type": "markdown",
      "source": [
        "# rf for 50% service level\n",
        "\n",
        "\n",
        "---\n",
        "\n",
        "\n",
        "\n",
        "\n",
        "\n",
        "\n",
        "## randomized search\n",
        "\n",
        "\n",
        "\n",
        "\n",
        "*   randomized serach is done once for the entire data-set with the corresponding service level costs\n",
        "*   this step was done with the server of the University of Würzburg because of the high resource consumption \n",
        "*   the results for the best params are: n_estimators = 100 , max_depth = 18 , min_samples_leaf = 4"
      ],
      "metadata": {
        "id": "_6IF5LqfDGJZ"
      }
    },
    {
      "cell_type": "code",
      "source": [
        "rf = RandomForestWeightedNewsvendor(cu = cu, co = co_50, random_state = 42, criterion = 'mse')\n",
        "random = RandomizedSearchCV(rf, param_random, cv=5, scoring = scorer_avc, n_jobs=8)\n",
        "random.fit(X_train, Y_train)\n",
        "print(random.best_params_)"
      ],
      "metadata": {
        "id": "6BkFxN1jDRAA"
      },
      "execution_count": null,
      "outputs": []
    },
    {
      "cell_type": "markdown",
      "source": [
        "## newsvendor-model 50%\n",
        "\n",
        "\n",
        "\n",
        "---\n",
        "\n",
        "\n",
        "\n",
        "*   the model is trained and tested once for entire data-set with the best hyperparameters\n",
        "*   the prediction is the output"
      ],
      "metadata": {
        "id": "jujydb3xDTp0"
      }
    },
    {
      "cell_type": "code",
      "source": [
        "rf = RandomForestWeightedNewsvendor(cu = cu, co = co_50, random_state = 42, criterion = 'mse',\n",
        "                                    max_depth = 18, n_estimators = 100, min_samples_leaf = 4)\n",
        "\n",
        "rf.fit(X_train, Y_train)\n",
        "preds_50 = rf.predict(X_test)"
      ],
      "metadata": {
        "id": "w-YnB3t1DaJD",
        "colab": {
          "base_uri": "https://localhost:8080/"
        },
        "outputId": "d66f36b9-ac51-4e39-e301-1e7d8cb36499"
      },
      "execution_count": 25,
      "outputs": [
        {
          "output_type": "stream",
          "name": "stderr",
          "text": [
            "/usr/local/lib/python3.7/dist-packages/ddop/newsvendor/_WeightedNewsvendor.py:580: DataConversionWarning: A column-vector y was passed when a 1d array was expected. Please change the shape of y to (n_samples,), for example using ravel().\n",
            "  self.model_ = model.fit(X, y)\n"
          ]
        }
      ]
    },
    {
      "cell_type": "markdown",
      "source": [
        "## reorder the data\n",
        "\n",
        "\n",
        "\n",
        "\n",
        "---\n",
        "\n",
        "\n",
        "\n",
        "*   create a pandas frame 'comp_50' where the real values, the predictions and the predictions from the saa model are in columns next to each other"
      ],
      "metadata": {
        "id": "vjWNE88ZDtr3"
      }
    },
    {
      "cell_type": "code",
      "source": [
        "pred_50 = pd.DataFrame(preds_50, columns=['pred_rf_50'])\n",
        "comp_50 = Y.loc[(slice(None), slice(\"2015\", \"2017\"))].reset_index().sort_values(by=['date', 'item_id']).set_index('date')\n",
        "comp_50 = comp_50.reset_index()\n",
        "comp_50['pred_rf_50'] = pred_50[['pred_rf_50']]\n",
        "comp_50 = comp_50.set_index(['item_id', 'date'])\n",
        "\n",
        "saa_50 = pd.read_csv('/content/drive/MyDrive/M5/SAA_pred_50.csv').set_index(['item_id', 'date'])\n",
        "\n",
        "comp_50 = pd.concat([comp_50, saa_50], axis = 1)"
      ],
      "metadata": {
        "id": "MMpvjDqdDu2U"
      },
      "execution_count": 26,
      "outputs": []
    },
    {
      "cell_type": "markdown",
      "source": [
        "## average costs and prescriptivess score\n",
        "\n",
        "\n",
        "---\n",
        "\n",
        "\n",
        "\n",
        "*   create a loop where the average_costs (the prescriptivess score) of each item are calculated\n",
        "\n",
        "*   save the results into a pandas frame"
      ],
      "metadata": {
        "id": "vUjJc-EDDx9Q"
      }
    },
    {
      "cell_type": "code",
      "source": [
        "result_rf_50_avc = []\n",
        "\n",
        "for prod in prods:\n",
        "  avc = round(average_costs(comp_50['demand'].loc[prod], comp_50['pred_rf_50'].loc[prod], cu = cu, co = co_50),2)\n",
        "  result_rf_50_avc.append(avc)"
      ],
      "metadata": {
        "id": "p3O_4i8_D0ak"
      },
      "execution_count": 27,
      "outputs": []
    },
    {
      "cell_type": "code",
      "source": [
        "RF_pooled_avc_50 = pd.DataFrame(result_rf_50_avc, columns=['RF_avc_50'])\n",
        "RF_pooled_avc_50.index.name = 'item_id'"
      ],
      "metadata": {
        "id": "rfanDzT0D9Z4"
      },
      "execution_count": 28,
      "outputs": []
    },
    {
      "cell_type": "code",
      "source": [
        "result_rf_50_pscr = []\n",
        "\n",
        "for prod in prods:\n",
        "  pscr = round(prescriptiveness_score(comp_50['demand'].loc[prod], comp_50['pred_rf_50'].loc[prod],\n",
        "                                      comp_50['SAA_pred_50'].loc[prod], cu = cu, co = co_50),2)\n",
        "  result_rf_50_pscr.append(pscr)"
      ],
      "metadata": {
        "id": "_1fhPSxTp4_W"
      },
      "execution_count": 30,
      "outputs": []
    },
    {
      "cell_type": "code",
      "source": [
        "RF_pooled_pscr_50 = pd.DataFrame(result_rf_50_pscr, columns=['RF_pscr_50'])\n",
        "RF_pooled_pscr_50.index.name = 'item_id'"
      ],
      "metadata": {
        "id": "ByA8VDTTqFOS"
      },
      "execution_count": 31,
      "outputs": []
    },
    {
      "cell_type": "markdown",
      "source": [
        "# merge the pandas frames\n",
        "\n",
        "\n",
        "---"
      ],
      "metadata": {
        "id": "WODIsozAEqUH"
      }
    },
    {
      "cell_type": "code",
      "source": [
        "RF_pooled_avc = pd.concat([RF_pooled_avc_90, RF_pooled_avc_75, RF_pooled_avc_50], axis=1)\n",
        "RF_pooled_avc"
      ],
      "metadata": {
        "id": "fz4zuCtDEsNM",
        "colab": {
          "base_uri": "https://localhost:8080/",
          "height": 864
        },
        "outputId": "1243d9c8-e8a4-451c-d0b3-43acc0740dfc"
      },
      "execution_count": 32,
      "outputs": [
        {
          "output_type": "execute_result",
          "data": {
            "text/plain": [
              "         RF_avc_90  RF_avc_75  RF_avc_50\n",
              "item_id                                 \n",
              "0             2.17       4.75       8.35\n",
              "1             0.91       1.96       3.47\n",
              "2             2.20       4.63       7.70\n",
              "3             1.54       3.55       6.71\n",
              "4             1.90       4.18       8.29\n",
              "5             1.18       2.56       4.56\n",
              "6             1.62       3.70       6.79\n",
              "7             1.54       3.49       6.55\n",
              "8             1.11       2.48       4.64\n",
              "9             1.14       2.51       4.72\n",
              "10            4.52       8.92      16.57\n",
              "11            1.25       2.77       4.99\n",
              "12            1.83       3.99       7.47\n",
              "13            0.79       1.66       2.97\n",
              "14            1.89       4.48       8.84\n",
              "15            1.24       2.61       4.78\n",
              "16            0.84       1.90       3.48\n",
              "17            2.37       5.36      10.52\n",
              "18            4.47       9.59      18.00\n",
              "19            1.11       2.41       4.24\n",
              "20            1.83       4.14       7.83\n",
              "21            1.62       3.54       6.57\n",
              "22            2.95       5.91      10.22\n",
              "23            2.79       5.99      11.27\n",
              "24            1.96       4.35       7.98"
            ],
            "text/html": [
              "\n",
              "  <div id=\"df-babcfcb5-16d4-4e8a-a550-7219fe9a39a5\">\n",
              "    <div class=\"colab-df-container\">\n",
              "      <div>\n",
              "<style scoped>\n",
              "    .dataframe tbody tr th:only-of-type {\n",
              "        vertical-align: middle;\n",
              "    }\n",
              "\n",
              "    .dataframe tbody tr th {\n",
              "        vertical-align: top;\n",
              "    }\n",
              "\n",
              "    .dataframe thead th {\n",
              "        text-align: right;\n",
              "    }\n",
              "</style>\n",
              "<table border=\"1\" class=\"dataframe\">\n",
              "  <thead>\n",
              "    <tr style=\"text-align: right;\">\n",
              "      <th></th>\n",
              "      <th>RF_avc_90</th>\n",
              "      <th>RF_avc_75</th>\n",
              "      <th>RF_avc_50</th>\n",
              "    </tr>\n",
              "    <tr>\n",
              "      <th>item_id</th>\n",
              "      <th></th>\n",
              "      <th></th>\n",
              "      <th></th>\n",
              "    </tr>\n",
              "  </thead>\n",
              "  <tbody>\n",
              "    <tr>\n",
              "      <th>0</th>\n",
              "      <td>2.17</td>\n",
              "      <td>4.75</td>\n",
              "      <td>8.35</td>\n",
              "    </tr>\n",
              "    <tr>\n",
              "      <th>1</th>\n",
              "      <td>0.91</td>\n",
              "      <td>1.96</td>\n",
              "      <td>3.47</td>\n",
              "    </tr>\n",
              "    <tr>\n",
              "      <th>2</th>\n",
              "      <td>2.20</td>\n",
              "      <td>4.63</td>\n",
              "      <td>7.70</td>\n",
              "    </tr>\n",
              "    <tr>\n",
              "      <th>3</th>\n",
              "      <td>1.54</td>\n",
              "      <td>3.55</td>\n",
              "      <td>6.71</td>\n",
              "    </tr>\n",
              "    <tr>\n",
              "      <th>4</th>\n",
              "      <td>1.90</td>\n",
              "      <td>4.18</td>\n",
              "      <td>8.29</td>\n",
              "    </tr>\n",
              "    <tr>\n",
              "      <th>5</th>\n",
              "      <td>1.18</td>\n",
              "      <td>2.56</td>\n",
              "      <td>4.56</td>\n",
              "    </tr>\n",
              "    <tr>\n",
              "      <th>6</th>\n",
              "      <td>1.62</td>\n",
              "      <td>3.70</td>\n",
              "      <td>6.79</td>\n",
              "    </tr>\n",
              "    <tr>\n",
              "      <th>7</th>\n",
              "      <td>1.54</td>\n",
              "      <td>3.49</td>\n",
              "      <td>6.55</td>\n",
              "    </tr>\n",
              "    <tr>\n",
              "      <th>8</th>\n",
              "      <td>1.11</td>\n",
              "      <td>2.48</td>\n",
              "      <td>4.64</td>\n",
              "    </tr>\n",
              "    <tr>\n",
              "      <th>9</th>\n",
              "      <td>1.14</td>\n",
              "      <td>2.51</td>\n",
              "      <td>4.72</td>\n",
              "    </tr>\n",
              "    <tr>\n",
              "      <th>10</th>\n",
              "      <td>4.52</td>\n",
              "      <td>8.92</td>\n",
              "      <td>16.57</td>\n",
              "    </tr>\n",
              "    <tr>\n",
              "      <th>11</th>\n",
              "      <td>1.25</td>\n",
              "      <td>2.77</td>\n",
              "      <td>4.99</td>\n",
              "    </tr>\n",
              "    <tr>\n",
              "      <th>12</th>\n",
              "      <td>1.83</td>\n",
              "      <td>3.99</td>\n",
              "      <td>7.47</td>\n",
              "    </tr>\n",
              "    <tr>\n",
              "      <th>13</th>\n",
              "      <td>0.79</td>\n",
              "      <td>1.66</td>\n",
              "      <td>2.97</td>\n",
              "    </tr>\n",
              "    <tr>\n",
              "      <th>14</th>\n",
              "      <td>1.89</td>\n",
              "      <td>4.48</td>\n",
              "      <td>8.84</td>\n",
              "    </tr>\n",
              "    <tr>\n",
              "      <th>15</th>\n",
              "      <td>1.24</td>\n",
              "      <td>2.61</td>\n",
              "      <td>4.78</td>\n",
              "    </tr>\n",
              "    <tr>\n",
              "      <th>16</th>\n",
              "      <td>0.84</td>\n",
              "      <td>1.90</td>\n",
              "      <td>3.48</td>\n",
              "    </tr>\n",
              "    <tr>\n",
              "      <th>17</th>\n",
              "      <td>2.37</td>\n",
              "      <td>5.36</td>\n",
              "      <td>10.52</td>\n",
              "    </tr>\n",
              "    <tr>\n",
              "      <th>18</th>\n",
              "      <td>4.47</td>\n",
              "      <td>9.59</td>\n",
              "      <td>18.00</td>\n",
              "    </tr>\n",
              "    <tr>\n",
              "      <th>19</th>\n",
              "      <td>1.11</td>\n",
              "      <td>2.41</td>\n",
              "      <td>4.24</td>\n",
              "    </tr>\n",
              "    <tr>\n",
              "      <th>20</th>\n",
              "      <td>1.83</td>\n",
              "      <td>4.14</td>\n",
              "      <td>7.83</td>\n",
              "    </tr>\n",
              "    <tr>\n",
              "      <th>21</th>\n",
              "      <td>1.62</td>\n",
              "      <td>3.54</td>\n",
              "      <td>6.57</td>\n",
              "    </tr>\n",
              "    <tr>\n",
              "      <th>22</th>\n",
              "      <td>2.95</td>\n",
              "      <td>5.91</td>\n",
              "      <td>10.22</td>\n",
              "    </tr>\n",
              "    <tr>\n",
              "      <th>23</th>\n",
              "      <td>2.79</td>\n",
              "      <td>5.99</td>\n",
              "      <td>11.27</td>\n",
              "    </tr>\n",
              "    <tr>\n",
              "      <th>24</th>\n",
              "      <td>1.96</td>\n",
              "      <td>4.35</td>\n",
              "      <td>7.98</td>\n",
              "    </tr>\n",
              "  </tbody>\n",
              "</table>\n",
              "</div>\n",
              "      <button class=\"colab-df-convert\" onclick=\"convertToInteractive('df-babcfcb5-16d4-4e8a-a550-7219fe9a39a5')\"\n",
              "              title=\"Convert this dataframe to an interactive table.\"\n",
              "              style=\"display:none;\">\n",
              "        \n",
              "  <svg xmlns=\"http://www.w3.org/2000/svg\" height=\"24px\"viewBox=\"0 0 24 24\"\n",
              "       width=\"24px\">\n",
              "    <path d=\"M0 0h24v24H0V0z\" fill=\"none\"/>\n",
              "    <path d=\"M18.56 5.44l.94 2.06.94-2.06 2.06-.94-2.06-.94-.94-2.06-.94 2.06-2.06.94zm-11 1L8.5 8.5l.94-2.06 2.06-.94-2.06-.94L8.5 2.5l-.94 2.06-2.06.94zm10 10l.94 2.06.94-2.06 2.06-.94-2.06-.94-.94-2.06-.94 2.06-2.06.94z\"/><path d=\"M17.41 7.96l-1.37-1.37c-.4-.4-.92-.59-1.43-.59-.52 0-1.04.2-1.43.59L10.3 9.45l-7.72 7.72c-.78.78-.78 2.05 0 2.83L4 21.41c.39.39.9.59 1.41.59.51 0 1.02-.2 1.41-.59l7.78-7.78 2.81-2.81c.8-.78.8-2.07 0-2.86zM5.41 20L4 18.59l7.72-7.72 1.47 1.35L5.41 20z\"/>\n",
              "  </svg>\n",
              "      </button>\n",
              "      \n",
              "  <style>\n",
              "    .colab-df-container {\n",
              "      display:flex;\n",
              "      flex-wrap:wrap;\n",
              "      gap: 12px;\n",
              "    }\n",
              "\n",
              "    .colab-df-convert {\n",
              "      background-color: #E8F0FE;\n",
              "      border: none;\n",
              "      border-radius: 50%;\n",
              "      cursor: pointer;\n",
              "      display: none;\n",
              "      fill: #1967D2;\n",
              "      height: 32px;\n",
              "      padding: 0 0 0 0;\n",
              "      width: 32px;\n",
              "    }\n",
              "\n",
              "    .colab-df-convert:hover {\n",
              "      background-color: #E2EBFA;\n",
              "      box-shadow: 0px 1px 2px rgba(60, 64, 67, 0.3), 0px 1px 3px 1px rgba(60, 64, 67, 0.15);\n",
              "      fill: #174EA6;\n",
              "    }\n",
              "\n",
              "    [theme=dark] .colab-df-convert {\n",
              "      background-color: #3B4455;\n",
              "      fill: #D2E3FC;\n",
              "    }\n",
              "\n",
              "    [theme=dark] .colab-df-convert:hover {\n",
              "      background-color: #434B5C;\n",
              "      box-shadow: 0px 1px 3px 1px rgba(0, 0, 0, 0.15);\n",
              "      filter: drop-shadow(0px 1px 2px rgba(0, 0, 0, 0.3));\n",
              "      fill: #FFFFFF;\n",
              "    }\n",
              "  </style>\n",
              "\n",
              "      <script>\n",
              "        const buttonEl =\n",
              "          document.querySelector('#df-babcfcb5-16d4-4e8a-a550-7219fe9a39a5 button.colab-df-convert');\n",
              "        buttonEl.style.display =\n",
              "          google.colab.kernel.accessAllowed ? 'block' : 'none';\n",
              "\n",
              "        async function convertToInteractive(key) {\n",
              "          const element = document.querySelector('#df-babcfcb5-16d4-4e8a-a550-7219fe9a39a5');\n",
              "          const dataTable =\n",
              "            await google.colab.kernel.invokeFunction('convertToInteractive',\n",
              "                                                     [key], {});\n",
              "          if (!dataTable) return;\n",
              "\n",
              "          const docLinkHtml = 'Like what you see? Visit the ' +\n",
              "            '<a target=\"_blank\" href=https://colab.research.google.com/notebooks/data_table.ipynb>data table notebook</a>'\n",
              "            + ' to learn more about interactive tables.';\n",
              "          element.innerHTML = '';\n",
              "          dataTable['output_type'] = 'display_data';\n",
              "          await google.colab.output.renderOutput(dataTable, element);\n",
              "          const docLink = document.createElement('div');\n",
              "          docLink.innerHTML = docLinkHtml;\n",
              "          element.appendChild(docLink);\n",
              "        }\n",
              "      </script>\n",
              "    </div>\n",
              "  </div>\n",
              "  "
            ]
          },
          "metadata": {},
          "execution_count": 32
        }
      ]
    },
    {
      "cell_type": "code",
      "source": [
        "RF_pooled_pscr = pd.concat([RF_pooled_pscr_90, RF_pooled_pscr_75, RF_pooled_pscr_50], axis=1)\n",
        "RF_pooled_pscr"
      ],
      "metadata": {
        "colab": {
          "base_uri": "https://localhost:8080/",
          "height": 864
        },
        "id": "xWuePdzPqbIR",
        "outputId": "6a405ba2-e937-4ce6-f31b-85f15b7f1613"
      },
      "execution_count": 33,
      "outputs": [
        {
          "output_type": "execute_result",
          "data": {
            "text/plain": [
              "         RF_pscr_90  RF_pscr_75  RF_pscr_50\n",
              "item_id                                    \n",
              "0              0.42        0.37        0.34\n",
              "1              0.50        0.50        0.45\n",
              "2              0.24        0.17        0.17\n",
              "3              0.71        0.65        0.56\n",
              "4              0.41        0.32        0.26\n",
              "5              0.43        0.39        0.29\n",
              "6              0.51        0.48        0.43\n",
              "7              0.44        0.27        0.18\n",
              "8              0.43        0.33        0.28\n",
              "9              0.38        0.37        0.29\n",
              "10             0.47        0.45        0.39\n",
              "11             0.39        0.33        0.30\n",
              "12             0.46        0.45        0.41\n",
              "13             0.56        0.48        0.33\n",
              "14             0.39        0.31        0.32\n",
              "15             0.29        0.25        0.19\n",
              "16             0.20        0.20        0.13\n",
              "17             0.42        0.34        0.27\n",
              "18             0.48        0.46        0.42\n",
              "19             0.39        0.30        0.20\n",
              "20             0.54        0.51        0.44\n",
              "21             0.31        0.22        0.19\n",
              "22             0.50        0.44        0.35\n",
              "23             0.53        0.47        0.42\n",
              "24             0.37        0.28        0.30"
            ],
            "text/html": [
              "\n",
              "  <div id=\"df-9ff8785a-3f17-4ad5-8679-85f78a0495ba\">\n",
              "    <div class=\"colab-df-container\">\n",
              "      <div>\n",
              "<style scoped>\n",
              "    .dataframe tbody tr th:only-of-type {\n",
              "        vertical-align: middle;\n",
              "    }\n",
              "\n",
              "    .dataframe tbody tr th {\n",
              "        vertical-align: top;\n",
              "    }\n",
              "\n",
              "    .dataframe thead th {\n",
              "        text-align: right;\n",
              "    }\n",
              "</style>\n",
              "<table border=\"1\" class=\"dataframe\">\n",
              "  <thead>\n",
              "    <tr style=\"text-align: right;\">\n",
              "      <th></th>\n",
              "      <th>RF_pscr_90</th>\n",
              "      <th>RF_pscr_75</th>\n",
              "      <th>RF_pscr_50</th>\n",
              "    </tr>\n",
              "    <tr>\n",
              "      <th>item_id</th>\n",
              "      <th></th>\n",
              "      <th></th>\n",
              "      <th></th>\n",
              "    </tr>\n",
              "  </thead>\n",
              "  <tbody>\n",
              "    <tr>\n",
              "      <th>0</th>\n",
              "      <td>0.42</td>\n",
              "      <td>0.37</td>\n",
              "      <td>0.34</td>\n",
              "    </tr>\n",
              "    <tr>\n",
              "      <th>1</th>\n",
              "      <td>0.50</td>\n",
              "      <td>0.50</td>\n",
              "      <td>0.45</td>\n",
              "    </tr>\n",
              "    <tr>\n",
              "      <th>2</th>\n",
              "      <td>0.24</td>\n",
              "      <td>0.17</td>\n",
              "      <td>0.17</td>\n",
              "    </tr>\n",
              "    <tr>\n",
              "      <th>3</th>\n",
              "      <td>0.71</td>\n",
              "      <td>0.65</td>\n",
              "      <td>0.56</td>\n",
              "    </tr>\n",
              "    <tr>\n",
              "      <th>4</th>\n",
              "      <td>0.41</td>\n",
              "      <td>0.32</td>\n",
              "      <td>0.26</td>\n",
              "    </tr>\n",
              "    <tr>\n",
              "      <th>5</th>\n",
              "      <td>0.43</td>\n",
              "      <td>0.39</td>\n",
              "      <td>0.29</td>\n",
              "    </tr>\n",
              "    <tr>\n",
              "      <th>6</th>\n",
              "      <td>0.51</td>\n",
              "      <td>0.48</td>\n",
              "      <td>0.43</td>\n",
              "    </tr>\n",
              "    <tr>\n",
              "      <th>7</th>\n",
              "      <td>0.44</td>\n",
              "      <td>0.27</td>\n",
              "      <td>0.18</td>\n",
              "    </tr>\n",
              "    <tr>\n",
              "      <th>8</th>\n",
              "      <td>0.43</td>\n",
              "      <td>0.33</td>\n",
              "      <td>0.28</td>\n",
              "    </tr>\n",
              "    <tr>\n",
              "      <th>9</th>\n",
              "      <td>0.38</td>\n",
              "      <td>0.37</td>\n",
              "      <td>0.29</td>\n",
              "    </tr>\n",
              "    <tr>\n",
              "      <th>10</th>\n",
              "      <td>0.47</td>\n",
              "      <td>0.45</td>\n",
              "      <td>0.39</td>\n",
              "    </tr>\n",
              "    <tr>\n",
              "      <th>11</th>\n",
              "      <td>0.39</td>\n",
              "      <td>0.33</td>\n",
              "      <td>0.30</td>\n",
              "    </tr>\n",
              "    <tr>\n",
              "      <th>12</th>\n",
              "      <td>0.46</td>\n",
              "      <td>0.45</td>\n",
              "      <td>0.41</td>\n",
              "    </tr>\n",
              "    <tr>\n",
              "      <th>13</th>\n",
              "      <td>0.56</td>\n",
              "      <td>0.48</td>\n",
              "      <td>0.33</td>\n",
              "    </tr>\n",
              "    <tr>\n",
              "      <th>14</th>\n",
              "      <td>0.39</td>\n",
              "      <td>0.31</td>\n",
              "      <td>0.32</td>\n",
              "    </tr>\n",
              "    <tr>\n",
              "      <th>15</th>\n",
              "      <td>0.29</td>\n",
              "      <td>0.25</td>\n",
              "      <td>0.19</td>\n",
              "    </tr>\n",
              "    <tr>\n",
              "      <th>16</th>\n",
              "      <td>0.20</td>\n",
              "      <td>0.20</td>\n",
              "      <td>0.13</td>\n",
              "    </tr>\n",
              "    <tr>\n",
              "      <th>17</th>\n",
              "      <td>0.42</td>\n",
              "      <td>0.34</td>\n",
              "      <td>0.27</td>\n",
              "    </tr>\n",
              "    <tr>\n",
              "      <th>18</th>\n",
              "      <td>0.48</td>\n",
              "      <td>0.46</td>\n",
              "      <td>0.42</td>\n",
              "    </tr>\n",
              "    <tr>\n",
              "      <th>19</th>\n",
              "      <td>0.39</td>\n",
              "      <td>0.30</td>\n",
              "      <td>0.20</td>\n",
              "    </tr>\n",
              "    <tr>\n",
              "      <th>20</th>\n",
              "      <td>0.54</td>\n",
              "      <td>0.51</td>\n",
              "      <td>0.44</td>\n",
              "    </tr>\n",
              "    <tr>\n",
              "      <th>21</th>\n",
              "      <td>0.31</td>\n",
              "      <td>0.22</td>\n",
              "      <td>0.19</td>\n",
              "    </tr>\n",
              "    <tr>\n",
              "      <th>22</th>\n",
              "      <td>0.50</td>\n",
              "      <td>0.44</td>\n",
              "      <td>0.35</td>\n",
              "    </tr>\n",
              "    <tr>\n",
              "      <th>23</th>\n",
              "      <td>0.53</td>\n",
              "      <td>0.47</td>\n",
              "      <td>0.42</td>\n",
              "    </tr>\n",
              "    <tr>\n",
              "      <th>24</th>\n",
              "      <td>0.37</td>\n",
              "      <td>0.28</td>\n",
              "      <td>0.30</td>\n",
              "    </tr>\n",
              "  </tbody>\n",
              "</table>\n",
              "</div>\n",
              "      <button class=\"colab-df-convert\" onclick=\"convertToInteractive('df-9ff8785a-3f17-4ad5-8679-85f78a0495ba')\"\n",
              "              title=\"Convert this dataframe to an interactive table.\"\n",
              "              style=\"display:none;\">\n",
              "        \n",
              "  <svg xmlns=\"http://www.w3.org/2000/svg\" height=\"24px\"viewBox=\"0 0 24 24\"\n",
              "       width=\"24px\">\n",
              "    <path d=\"M0 0h24v24H0V0z\" fill=\"none\"/>\n",
              "    <path d=\"M18.56 5.44l.94 2.06.94-2.06 2.06-.94-2.06-.94-.94-2.06-.94 2.06-2.06.94zm-11 1L8.5 8.5l.94-2.06 2.06-.94-2.06-.94L8.5 2.5l-.94 2.06-2.06.94zm10 10l.94 2.06.94-2.06 2.06-.94-2.06-.94-.94-2.06-.94 2.06-2.06.94z\"/><path d=\"M17.41 7.96l-1.37-1.37c-.4-.4-.92-.59-1.43-.59-.52 0-1.04.2-1.43.59L10.3 9.45l-7.72 7.72c-.78.78-.78 2.05 0 2.83L4 21.41c.39.39.9.59 1.41.59.51 0 1.02-.2 1.41-.59l7.78-7.78 2.81-2.81c.8-.78.8-2.07 0-2.86zM5.41 20L4 18.59l7.72-7.72 1.47 1.35L5.41 20z\"/>\n",
              "  </svg>\n",
              "      </button>\n",
              "      \n",
              "  <style>\n",
              "    .colab-df-container {\n",
              "      display:flex;\n",
              "      flex-wrap:wrap;\n",
              "      gap: 12px;\n",
              "    }\n",
              "\n",
              "    .colab-df-convert {\n",
              "      background-color: #E8F0FE;\n",
              "      border: none;\n",
              "      border-radius: 50%;\n",
              "      cursor: pointer;\n",
              "      display: none;\n",
              "      fill: #1967D2;\n",
              "      height: 32px;\n",
              "      padding: 0 0 0 0;\n",
              "      width: 32px;\n",
              "    }\n",
              "\n",
              "    .colab-df-convert:hover {\n",
              "      background-color: #E2EBFA;\n",
              "      box-shadow: 0px 1px 2px rgba(60, 64, 67, 0.3), 0px 1px 3px 1px rgba(60, 64, 67, 0.15);\n",
              "      fill: #174EA6;\n",
              "    }\n",
              "\n",
              "    [theme=dark] .colab-df-convert {\n",
              "      background-color: #3B4455;\n",
              "      fill: #D2E3FC;\n",
              "    }\n",
              "\n",
              "    [theme=dark] .colab-df-convert:hover {\n",
              "      background-color: #434B5C;\n",
              "      box-shadow: 0px 1px 3px 1px rgba(0, 0, 0, 0.15);\n",
              "      filter: drop-shadow(0px 1px 2px rgba(0, 0, 0, 0.3));\n",
              "      fill: #FFFFFF;\n",
              "    }\n",
              "  </style>\n",
              "\n",
              "      <script>\n",
              "        const buttonEl =\n",
              "          document.querySelector('#df-9ff8785a-3f17-4ad5-8679-85f78a0495ba button.colab-df-convert');\n",
              "        buttonEl.style.display =\n",
              "          google.colab.kernel.accessAllowed ? 'block' : 'none';\n",
              "\n",
              "        async function convertToInteractive(key) {\n",
              "          const element = document.querySelector('#df-9ff8785a-3f17-4ad5-8679-85f78a0495ba');\n",
              "          const dataTable =\n",
              "            await google.colab.kernel.invokeFunction('convertToInteractive',\n",
              "                                                     [key], {});\n",
              "          if (!dataTable) return;\n",
              "\n",
              "          const docLinkHtml = 'Like what you see? Visit the ' +\n",
              "            '<a target=\"_blank\" href=https://colab.research.google.com/notebooks/data_table.ipynb>data table notebook</a>'\n",
              "            + ' to learn more about interactive tables.';\n",
              "          element.innerHTML = '';\n",
              "          dataTable['output_type'] = 'display_data';\n",
              "          await google.colab.output.renderOutput(dataTable, element);\n",
              "          const docLink = document.createElement('div');\n",
              "          docLink.innerHTML = docLinkHtml;\n",
              "          element.appendChild(docLink);\n",
              "        }\n",
              "      </script>\n",
              "    </div>\n",
              "  </div>\n",
              "  "
            ]
          },
          "metadata": {},
          "execution_count": 33
        }
      ]
    },
    {
      "cell_type": "markdown",
      "source": [
        "# save the results\n",
        "\n",
        "\n",
        "---"
      ],
      "metadata": {
        "id": "FlNu6553Ezl_"
      }
    },
    {
      "cell_type": "code",
      "source": [
        "RF_pooled_avc.to_csv('/content/drive/MyDrive/M5/RF_pooled_avc.csv')\n",
        "\n",
        "RF_pooled_pscr.to_csv('/content/drive/MyDrive/M5/RF_pooled_pscr.csv')"
      ],
      "metadata": {
        "id": "jG2yuiaPE8oR"
      },
      "execution_count": 34,
      "outputs": []
    }
  ]
}