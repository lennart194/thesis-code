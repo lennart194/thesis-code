{
  "nbformat": 4,
  "nbformat_minor": 0,
  "metadata": {
    "colab": {
      "name": "separate_rf.ipynb",
      "provenance": [],
      "collapsed_sections": [],
      "authorship_tag": "ABX9TyOWPd7XXRdS/XBDlwll8lRo",
      "include_colab_link": true
    },
    "kernelspec": {
      "name": "python3",
      "display_name": "Python 3"
    },
    "language_info": {
      "name": "python"
    }
  },
  "cells": [
    {
      "cell_type": "markdown",
      "metadata": {
        "id": "view-in-github",
        "colab_type": "text"
      },
      "source": [
        "<a href=\"https://colab.research.google.com/github/lennart194/thesis-code/blob/main/separate_rf.ipynb\" target=\"_parent\"><img src=\"https://colab.research.google.com/assets/colab-badge.svg\" alt=\"Open In Colab\"/></a>"
      ]
    },
    {
      "cell_type": "code",
      "execution_count": null,
      "metadata": {
        "id": "ZKQAasuG_6rh"
      },
      "outputs": [],
      "source": [
        "pip install ddop"
      ]
    },
    {
      "cell_type": "code",
      "source": [
        "import pandas as pd\n",
        "import numpy as np\n",
        "\n",
        "from ddop.newsvendor import RandomForestWeightedNewsvendor\n",
        "from ddop.newsvendor import SampleAverageApproximationNewsvendor\n",
        "\n",
        "from sklearn.model_selection import RandomizedSearchCV\n",
        "\n",
        "\n",
        "from ddop.metrics import make_scorer\n",
        "from ddop.metrics import average_costs\n",
        "from ddop.metrics import prescriptiveness_score"
      ],
      "metadata": {
        "id": "b-p8EZykAJ72"
      },
      "execution_count": null,
      "outputs": []
    },
    {
      "cell_type": "code",
      "source": [
        "from google.colab import drive\n",
        "drive.mount('/content/drive')"
      ],
      "metadata": {
        "id": "JIcZI-yzAypF",
        "colab": {
          "base_uri": "https://localhost:8080/"
        },
        "outputId": "d30d39e6-d6cb-487e-ad27-5aff0b6d7ba2"
      },
      "execution_count": null,
      "outputs": [
        {
          "output_type": "stream",
          "name": "stdout",
          "text": [
            "Mounted at /content/drive\n"
          ]
        }
      ]
    },
    {
      "cell_type": "markdown",
      "source": [
        "## loading data-set\n",
        "\n",
        "\n",
        "---\n",
        "\n",
        "\n",
        "\n",
        "\n",
        "*   load the whole ultimative set\n",
        "*   sort the rows first by item, then by date and set a multi index\n",
        "**now every items time series can be separated by the index**"
      ],
      "metadata": {
        "id": "bhi9Gi_xov4r"
      }
    },
    {
      "cell_type": "code",
      "source": [
        "data = pd.read_csv('/content/drive/MyDrive/M5/ultimative_set.csv')\n",
        "data = data.drop(columns=['Unnamed: 0'])\n",
        "data = data.sort_values(by=['item_id', 'date'])\n",
        "data = data.set_index(['item_id', 'date'])"
      ],
      "metadata": {
        "id": "lxEEQcfHBDZN"
      },
      "execution_count": null,
      "outputs": []
    },
    {
      "cell_type": "markdown",
      "source": [
        "## split in feature and target matrix\n",
        "\n",
        "\n",
        "---\n",
        "\n"
      ],
      "metadata": {
        "id": "u6N5tlbvozoT"
      }
    },
    {
      "cell_type": "code",
      "source": [
        "X = data.drop(columns=['demand'])\n",
        "Y = data['demand']"
      ],
      "metadata": {
        "id": "SWg7JBX-BGfW"
      },
      "execution_count": null,
      "outputs": []
    },
    {
      "cell_type": "markdown",
      "source": [
        "## train_test_split\n",
        "\n",
        "\n",
        "---\n",
        "\n"
      ],
      "metadata": {
        "id": "drsCkB7Go3C8"
      }
    },
    {
      "cell_type": "code",
      "source": [
        "X_train = X.loc[(slice(None), slice(None, \"2015\")), :]\n",
        "X_test = X.loc[(slice(None), slice(\"2015\", '2017')), :]\n",
        "\n",
        "Y_train = Y.loc[(slice(None), slice(None, \"2015\"))]\n",
        "Y_test = Y.loc[(slice(None), slice(\"2015\", \"2017\"))]"
      ],
      "metadata": {
        "id": "Ys5hjkABBI0r"
      },
      "execution_count": null,
      "outputs": []
    },
    {
      "cell_type": "markdown",
      "source": [
        "## defining the different cost paramerters for special service level and product range\n",
        "\n",
        "\n",
        "\n",
        "---\n",
        "\n",
        "\n",
        "\n",
        "*   cu is the mean of the cumulated 'sell_price' column of the training data\n",
        "*   appending to the corresponding service level co is calculated with (cu - α * cu) / α\n",
        "*   all the costs are rounded to 2 digits"
      ],
      "metadata": {
        "id": "n68B_7V4o6lJ"
      }
    },
    {
      "cell_type": "code",
      "source": [
        "prods = list(range(0,25))\n",
        "\n",
        "cu = round(X_train['sell_price'].mean(),2)\n",
        "\n",
        "co_90 = round(((cu-(0.90*cu))/0.90),2)\n",
        "\n",
        "co_75 = round(((cu-(0.75*cu))/0.75),2)\n",
        "\n",
        "co_50 = round(((cu-(0.50*cu))/0.50),2)"
      ],
      "metadata": {
        "id": "vfncn7eoBKyj"
      },
      "execution_count": null,
      "outputs": []
    },
    {
      "cell_type": "markdown",
      "source": [
        "## determining some parameters\n",
        "\n",
        "\n",
        "---\n",
        "\n",
        "\n",
        "*   the potential range of the params for randomized search are defined\n",
        "*   the estimator, the scorer and finally the whole param_random is defined"
      ],
      "metadata": {
        "id": "TW8Alb-ypC2p"
      }
    },
    {
      "cell_type": "code",
      "source": [
        "max_depth = np.arange(7, 24)\n",
        "n_estimators = np.arange(65, 101)\n",
        "min_samples_leaf = np.arange(2, 6)\n",
        "param_random = dict(max_depth = max_depth, n_estimators = n_estimators, min_samples_leaf = min_samples_leaf)\n",
        "\n",
        "scorer_avc = make_scorer(average_costs, greater_is_better=False)"
      ],
      "metadata": {
        "id": "-9Hs-KW_BWFL"
      },
      "execution_count": null,
      "outputs": []
    },
    {
      "cell_type": "markdown",
      "source": [
        "# rf for 90% service level\n",
        "\n",
        "\n",
        "---\n",
        "\n",
        "\n",
        "\n",
        "## randomized search\n",
        "*   an empty list is created for every type of hyperparameter\n",
        "*   in a for-loop the randomized search is executed for every item with cu and co of alpha = 0,9\n",
        "*   the best hyperparams are calculated and added to the corresponding list"
      ],
      "metadata": {
        "id": "rfGMBwC6V3c7"
      }
    },
    {
      "cell_type": "code",
      "source": [
        "best_param_maxd_90 = []\n",
        "best_param_nest_90 = []\n",
        "best_param_minsl_90 = []\n",
        "\n",
        "for prod in prods:\n",
        "  \n",
        "  \n",
        "  rf = RandomForestWeightedNewsvendor(cu = cu, co = co_90, random_state = 42, criterion = 'mse')\n",
        "\n",
        "  random = RandomizedSearchCV(rf, param_random, cv=5, scoring = scorer_avc)\n",
        "  random.fit(X_train.loc[prod], Y_train.loc[prod])\n",
        "    \n",
        "  maxd = random.best_params_.get('max_depth')\n",
        "  nest = random.best_params_.get('n_estimators')\n",
        "  minsl = random.best_params_.get('min_samples_leaf')\n",
        "\n",
        "  best_param_maxd_90.append(maxd)\n",
        "  best_param_nest_90.append(nest)\n",
        "  best_param_minsl_90.append(minsl)"
      ],
      "metadata": {
        "id": "bZjsTyacV6zx"
      },
      "execution_count": null,
      "outputs": []
    },
    {
      "cell_type": "markdown",
      "source": [
        "## newsvendor-model\n",
        "\n",
        "\n",
        "---\n",
        "\n",
        "\n",
        "*   the data-driven newsvendor model is executed in a loop for every single item (with optimal hyperparameters)\n",
        "*   the average_costs for every item are calculated (later the prescritiveness score is calculated)\n",
        "*   save the results as pandas frame\n",
        "\n"
      ],
      "metadata": {
        "id": "bOCdRJpXWgqp"
      }
    },
    {
      "cell_type": "code",
      "source": [
        "result_rf_90_avc = []\n",
        "for prod in prods:\n",
        "  \n",
        "  rf = RandomForestWeightedNewsvendor(cu = cu, co = co_90, random_state = 42, criterion = 'mse',\n",
        "                                       max_depth = best_param_maxd_90[prod], n_estimators = best_param_nest_90[prod],\n",
        "                                       min_samples_leaf = best_param_minsl_90[prod])\n",
        "  rf.fit(X_train.loc[prod], Y_train.loc[prod])\n",
        "  preds = rf.predict(X_test.loc[prod])\n",
        "  \n",
        "  avc = round(average_costs(Y_test.loc[prod], preds, cu = cu, co = co_90),2)\n",
        "  result_rf_90_avc.append(avc)"
      ],
      "metadata": {
        "id": "nGS7Fjc5Wi4R"
      },
      "execution_count": null,
      "outputs": []
    },
    {
      "cell_type": "code",
      "source": [
        "RF_separate_avc_90 = pd.DataFrame(result_rf_90_avc, columns=['RF_avc_90'])\n",
        "RF_separate_avc_90.index.name = 'item_id'"
      ],
      "metadata": {
        "id": "FJx_egqZW9Hn"
      },
      "execution_count": null,
      "outputs": []
    },
    {
      "cell_type": "code",
      "source": [
        "result_rf_90_pscr = []\n",
        "for prod in prods:\n",
        "  \n",
        "  rf = RandomForestWeightedNewsvendor(cu = cu, co = co_90, random_state = 42, criterion = 'mse',\n",
        "                                       max_depth = best_param_maxd_90[prod], n_estimators = best_param_nest_90[prod],\n",
        "                                       min_samples_leaf = best_param_minsl_90[prod])\n",
        "  rf.fit(X_train.loc[prod], Y_train.loc[prod])\n",
        "  preds_rf = rf.predict(X_test.loc[prod])\n",
        "\n",
        "\n",
        "  saa = SampleAverageApproximationNewsvendor(cu = cu, co = co_90)\n",
        "  saa.fit(Y_train.loc[prod])\n",
        "  preds_saa = saa.predict(n_steps = 508)\n",
        "  \n",
        "  pscr = prescriptiveness_score(Y_test.loc[prod], preds_rf, preds_saa, cu = cu, co = co_90)\n",
        "  result_rf_90_pscr.append(pscr)"
      ],
      "metadata": {
        "id": "snpd8kQuXFSN"
      },
      "execution_count": null,
      "outputs": []
    },
    {
      "cell_type": "code",
      "source": [
        "RF_separate_pscr_90 = pd.DataFrame(result_rf_90_pscr, columns=['RF_pscr_90'])\n",
        "RF_separate_pscr_90.index.name = 'item_id'"
      ],
      "metadata": {
        "id": "Q3T0UqpAXWa-"
      },
      "execution_count": null,
      "outputs": []
    },
    {
      "cell_type": "markdown",
      "source": [
        "# rf for 75% service level\n",
        "\n",
        "\n",
        "---\n",
        "\n",
        "\n",
        "\n",
        "## randomized search\n",
        "*   an empty list is created for every type of hyperparameter\n",
        "*   in a for-loop the randomized search is executed for every item with cu and co of alpha = 0,75\n",
        "*   the best hyperparams are calculated and added to the corresponding list"
      ],
      "metadata": {
        "id": "r8TkRRc6Xd-Q"
      }
    },
    {
      "cell_type": "code",
      "source": [
        "best_param_maxd_75 = []\n",
        "best_param_nest_75 = []\n",
        "best_param_minsl_75 = []\n",
        "\n",
        "for prod in prods:\n",
        "  \n",
        "  rf = RandomForestWeightedNewsvendor(cu = cu, co = co_75, random_state = 42, criterion = 'mse')\n",
        "\n",
        "  random = RandomizedSearchCV(rf, param_random, cv=5, scoring = scorer_avc)\n",
        "  random.fit(X_train.loc[prod], Y_train.loc[prod])\n",
        "    \n",
        "  maxd = random.best_params_.get('max_depth')\n",
        "  nest = random.best_params_.get('n_estimators')\n",
        "  minsl = random.best_params_.get('min_samples_leaf')\n",
        "\n",
        "  best_param_maxd_75.append(maxd)\n",
        "  best_param_nest_75.append(nest)\n",
        "  best_param_minsl_75.append(minsl)"
      ],
      "metadata": {
        "id": "MMBP-TiMXiya"
      },
      "execution_count": null,
      "outputs": []
    },
    {
      "cell_type": "markdown",
      "source": [
        "## newsvendor-model\n",
        "\n",
        "\n",
        "---\n",
        "\n",
        "\n",
        "*   the data-driven newsvendor model is executed in a loop for every single item (with optimal hyperparameters)\n",
        "*   the average_costs for every item are calculated (later the prescritiveness score is calculated)\n",
        "*   save the results as pandas frame"
      ],
      "metadata": {
        "id": "b_LQ2MiuqMiN"
      }
    },
    {
      "cell_type": "code",
      "source": [
        "result_rf_75_avc = []\n",
        "for prod in prods:\n",
        "  \n",
        "  rf = RandomForestWeightedNewsvendor(cu = cu, co = co_75, random_state = 42, criterion = 'mse',\n",
        "                                       max_depth = best_param_maxd_75[prod], n_estimators = best_param_nest_75[prod],\n",
        "                                       min_samples_leaf = best_param_minsl_75[prod])\n",
        "  rf.fit(X_train.loc[prod], Y_train.loc[prod])\n",
        "  preds = rf.predict(X_test.loc[prod])\n",
        "  \n",
        "  avc = round(average_costs(Y_test.loc[prod], preds, cu = cu, co = co_75),2)\n",
        "  result_rf_75_avc.append(avc)"
      ],
      "metadata": {
        "id": "PA8nx050qLkQ"
      },
      "execution_count": null,
      "outputs": []
    },
    {
      "cell_type": "code",
      "source": [
        "RF_separate_avc_75 = pd.DataFrame(result_rf_75_avc, columns=['RF_avc_75'])\n",
        "RF_separate_avc_75.index.name = 'item_id'"
      ],
      "metadata": {
        "id": "zknVGvuCqd1d"
      },
      "execution_count": null,
      "outputs": []
    },
    {
      "cell_type": "code",
      "source": [
        "result_rf_75_pscr = []\n",
        "for prod in prods:\n",
        "  \n",
        "  rf = RandomForestWeightedNewsvendor(cu = cu, co = co_75, random_state = 42, criterion = 'mse',\n",
        "                                       max_depth = best_param_maxd_75[prod], n_estimators = best_param_nest_75[prod],\n",
        "                                       min_samples_leaf = best_param_minsl_75[prod])\n",
        "  rf.fit(X_train.loc[prod], Y_train.loc[prod])\n",
        "  preds_rf = rf.predict(X_test.loc[prod])\n",
        "\n",
        "\n",
        "  saa = SampleAverageApproximationNewsvendor(cu = cu, co = co_75)\n",
        "  saa.fit(Y_train.loc[prod])\n",
        "  preds_saa = saa.predict(n_steps = 508)\n",
        "  \n",
        "  pscr = prescriptiveness_score(Y_test.loc[prod], preds_rf, preds_saa, cu = cu, co = co_75)\n",
        "  result_rf_75_pscr.append(pscr)"
      ],
      "metadata": {
        "id": "KxGZDYelqmBX"
      },
      "execution_count": null,
      "outputs": []
    },
    {
      "cell_type": "code",
      "source": [
        "RF_separate_pscr_75 = pd.DataFrame(result_rf_75_pscr, columns=['RF_pscr_75'])\n",
        "RF_separate_pscr_75.index.name = 'item_id'"
      ],
      "metadata": {
        "id": "JfPwcre6rD1N"
      },
      "execution_count": null,
      "outputs": []
    },
    {
      "cell_type": "markdown",
      "source": [
        "# rf for 50% service level\n",
        "\n",
        "\n",
        "\n",
        "---\n",
        "\n",
        "\n",
        "\n",
        "\n",
        "\n",
        "## randomized search\n",
        "*   an empty list is created for every type of hyperparameter\n",
        "*   in a for-loop the randomized search is executed for every item with cu and co of alpha = 0,5\n",
        "*   the best hyperparams are calculated and added to the corresponding list"
      ],
      "metadata": {
        "id": "NEqdZoESrKWV"
      }
    },
    {
      "cell_type": "code",
      "source": [
        "best_param_maxd_50 = []\n",
        "best_param_nest_50 = []\n",
        "best_param_minsl_50 = []\n",
        "\n",
        "for prod in prods:\n",
        "  \n",
        "  \n",
        "  rf = RandomForestWeightedNewsvendor(cu = cu, co = co_50, random_state = 42, criterion = 'mse')\n",
        "\n",
        "  random = RandomizedSearchCV(rf, param_random, cv=5, scoring = scorer_avc)\n",
        "  random.fit(X_train.loc[prod], Y_train.loc[prod])\n",
        "    \n",
        "  maxd = random.best_params_.get('max_depth')\n",
        "  nest = random.best_params_.get('n_estimators')\n",
        "  minsl = random.best_params_.get('min_samples_leaf')\n",
        "\n",
        "  best_param_maxd_50.append(maxd)\n",
        "  best_param_nest_50.append(nest)\n",
        "  best_param_minsl_50.append(minsl)"
      ],
      "metadata": {
        "id": "1nmyAA8Hr5I3"
      },
      "execution_count": null,
      "outputs": []
    },
    {
      "cell_type": "markdown",
      "source": [
        "## newsvendor-model\n",
        "\n",
        "\n",
        "---\n",
        "\n",
        "\n",
        "*   the data-driven newsvendor model is executed in a loop for every single item (with optimal hyperparameters)\n",
        "*   the average_costs for every item are calculated (later the prescritiveness score is calculated)\n",
        "*   save the results as pandas frame"
      ],
      "metadata": {
        "id": "LKoqUDkGsEpN"
      }
    },
    {
      "cell_type": "code",
      "source": [
        "result_rf_50_avc = []\n",
        "for prod in prods:\n",
        "\n",
        "  rf = RandomForestWeightedNewsvendor(cu = cu, co = co_50, random_state = 42, criterion = 'mse',\n",
        "                                       max_depth = best_param_maxd_50[prod], n_estimators = best_param_nest_50[prod],\n",
        "                                       min_samples_leaf = best_param_minsl_50[prod])\n",
        "  rf.fit(X_train.loc[prod], Y_train.loc[prod])\n",
        "  preds = rf.predict(X_test.loc[prod])\n",
        "  \n",
        "  avc = round(average_costs(Y_test.loc[prod], preds, cu = cu, co = co_50),2)\n",
        "  result_rf_50_avc.append(avc)"
      ],
      "metadata": {
        "id": "X2dHcMTPsH44"
      },
      "execution_count": null,
      "outputs": []
    },
    {
      "cell_type": "code",
      "source": [
        "RF_separate_avc_50 = pd.DataFrame(result_rf_50_avc, columns=['RF_avc_50'])\n",
        "RF_separate_avc_50.index.name = 'item_id'"
      ],
      "metadata": {
        "id": "hnsDjZy7sZYi"
      },
      "execution_count": null,
      "outputs": []
    },
    {
      "cell_type": "code",
      "source": [
        "result_rf_50_pscr = []\n",
        "for prod in prods:\n",
        "  \n",
        "  rf = RandomForestWeightedNewsvendor(cu = cu, co = co_50, random_state = 42, criterion = 'mse',\n",
        "                                       max_depth = best_param_maxd_50[prod], n_estimators = best_param_nest_50[prod],\n",
        "                                       min_samples_leaf = best_param_minsl_50[prod])\n",
        "  rf.fit(X_train.loc[prod], Y_train.loc[prod])\n",
        "  preds_rf = rf.predict(X_test.loc[prod])\n",
        "\n",
        "\n",
        "  saa = SampleAverageApproximationNewsvendor(cu = cu, co = co_50)\n",
        "  saa.fit(Y_train.loc[prod])\n",
        "  preds_saa = saa.predict(n_steps = 508)\n",
        "  \n",
        "  pscr = prescriptiveness_score(Y_test.loc[prod], preds_rf, preds_saa, cu = cu, co = co_50)\n",
        "  result_rf_50_pscr.append(pscr)"
      ],
      "metadata": {
        "id": "wVPwvHZYsgtE"
      },
      "execution_count": null,
      "outputs": []
    },
    {
      "cell_type": "code",
      "source": [
        "RF_separate_pscr_50 = pd.DataFrame(result_rf_50_pscr, columns=['RF_pscr_50'])\n",
        "RF_separate_pscr_50.index.name = 'item_id'"
      ],
      "metadata": {
        "id": "up9bUfKmstPA"
      },
      "execution_count": null,
      "outputs": []
    },
    {
      "cell_type": "markdown",
      "source": [
        "# merge the pandas frames\n",
        "\n",
        "\n",
        "---"
      ],
      "metadata": {
        "id": "xLmP4OkEszsb"
      }
    },
    {
      "cell_type": "code",
      "source": [
        "RF_separated_avc = pd.concat([RF_separate_avc_90, RF_separate_avc_75, RF_separate_avc_50], axis=1)\n",
        "RF_separated_avc"
      ],
      "metadata": {
        "colab": {
          "base_uri": "https://localhost:8080/",
          "height": 864
        },
        "id": "lAVb-pPGs_Os",
        "outputId": "c7372b3b-c80b-4519-a67f-ecaaf8a4314d"
      },
      "execution_count": null,
      "outputs": [
        {
          "output_type": "execute_result",
          "data": {
            "text/plain": [
              "         RF_avc_90  RF_avc_75  RF_avc_50\n",
              "item_id                                 \n",
              "0             2.26       5.05       8.74\n",
              "1             0.96       2.05       3.54\n",
              "2             2.30       4.76       8.06\n",
              "3             1.74       3.71       7.05\n",
              "4             2.08       4.54       8.72\n",
              "5             1.23       2.64       4.82\n",
              "6             1.77       3.86       6.95\n",
              "7             1.59       3.51       6.53\n",
              "8             1.18       2.54       4.78\n",
              "9             1.22       2.61       4.77\n",
              "10            4.73       9.34      16.95\n",
              "11            1.36       2.95       5.29\n",
              "12            1.85       4.00       7.90\n",
              "13            0.82       1.71       2.94\n",
              "14            2.26       4.86       9.47\n",
              "15            1.30       2.70       4.88\n",
              "16            0.83       1.88       3.51\n",
              "17            2.57       5.67      10.78\n",
              "18            4.43       9.22      17.64\n",
              "19            1.18       2.48       4.34\n",
              "20            1.98       4.41       8.18\n",
              "21            1.62       3.59       6.62\n",
              "22            2.52       5.61       9.55\n",
              "23            2.83       6.09      11.77\n",
              "24            2.05       4.39       8.04"
            ],
            "text/html": [
              "\n",
              "  <div id=\"df-e08378a0-ea39-4350-aaf8-e6f0819af8e6\">\n",
              "    <div class=\"colab-df-container\">\n",
              "      <div>\n",
              "<style scoped>\n",
              "    .dataframe tbody tr th:only-of-type {\n",
              "        vertical-align: middle;\n",
              "    }\n",
              "\n",
              "    .dataframe tbody tr th {\n",
              "        vertical-align: top;\n",
              "    }\n",
              "\n",
              "    .dataframe thead th {\n",
              "        text-align: right;\n",
              "    }\n",
              "</style>\n",
              "<table border=\"1\" class=\"dataframe\">\n",
              "  <thead>\n",
              "    <tr style=\"text-align: right;\">\n",
              "      <th></th>\n",
              "      <th>RF_avc_90</th>\n",
              "      <th>RF_avc_75</th>\n",
              "      <th>RF_avc_50</th>\n",
              "    </tr>\n",
              "    <tr>\n",
              "      <th>item_id</th>\n",
              "      <th></th>\n",
              "      <th></th>\n",
              "      <th></th>\n",
              "    </tr>\n",
              "  </thead>\n",
              "  <tbody>\n",
              "    <tr>\n",
              "      <th>0</th>\n",
              "      <td>2.26</td>\n",
              "      <td>5.05</td>\n",
              "      <td>8.74</td>\n",
              "    </tr>\n",
              "    <tr>\n",
              "      <th>1</th>\n",
              "      <td>0.96</td>\n",
              "      <td>2.05</td>\n",
              "      <td>3.54</td>\n",
              "    </tr>\n",
              "    <tr>\n",
              "      <th>2</th>\n",
              "      <td>2.30</td>\n",
              "      <td>4.76</td>\n",
              "      <td>8.06</td>\n",
              "    </tr>\n",
              "    <tr>\n",
              "      <th>3</th>\n",
              "      <td>1.74</td>\n",
              "      <td>3.71</td>\n",
              "      <td>7.05</td>\n",
              "    </tr>\n",
              "    <tr>\n",
              "      <th>4</th>\n",
              "      <td>2.08</td>\n",
              "      <td>4.54</td>\n",
              "      <td>8.72</td>\n",
              "    </tr>\n",
              "    <tr>\n",
              "      <th>5</th>\n",
              "      <td>1.23</td>\n",
              "      <td>2.64</td>\n",
              "      <td>4.82</td>\n",
              "    </tr>\n",
              "    <tr>\n",
              "      <th>6</th>\n",
              "      <td>1.77</td>\n",
              "      <td>3.86</td>\n",
              "      <td>6.95</td>\n",
              "    </tr>\n",
              "    <tr>\n",
              "      <th>7</th>\n",
              "      <td>1.59</td>\n",
              "      <td>3.51</td>\n",
              "      <td>6.53</td>\n",
              "    </tr>\n",
              "    <tr>\n",
              "      <th>8</th>\n",
              "      <td>1.18</td>\n",
              "      <td>2.54</td>\n",
              "      <td>4.78</td>\n",
              "    </tr>\n",
              "    <tr>\n",
              "      <th>9</th>\n",
              "      <td>1.22</td>\n",
              "      <td>2.61</td>\n",
              "      <td>4.77</td>\n",
              "    </tr>\n",
              "    <tr>\n",
              "      <th>10</th>\n",
              "      <td>4.73</td>\n",
              "      <td>9.34</td>\n",
              "      <td>16.95</td>\n",
              "    </tr>\n",
              "    <tr>\n",
              "      <th>11</th>\n",
              "      <td>1.36</td>\n",
              "      <td>2.95</td>\n",
              "      <td>5.29</td>\n",
              "    </tr>\n",
              "    <tr>\n",
              "      <th>12</th>\n",
              "      <td>1.85</td>\n",
              "      <td>4.00</td>\n",
              "      <td>7.90</td>\n",
              "    </tr>\n",
              "    <tr>\n",
              "      <th>13</th>\n",
              "      <td>0.82</td>\n",
              "      <td>1.71</td>\n",
              "      <td>2.94</td>\n",
              "    </tr>\n",
              "    <tr>\n",
              "      <th>14</th>\n",
              "      <td>2.26</td>\n",
              "      <td>4.86</td>\n",
              "      <td>9.47</td>\n",
              "    </tr>\n",
              "    <tr>\n",
              "      <th>15</th>\n",
              "      <td>1.30</td>\n",
              "      <td>2.70</td>\n",
              "      <td>4.88</td>\n",
              "    </tr>\n",
              "    <tr>\n",
              "      <th>16</th>\n",
              "      <td>0.83</td>\n",
              "      <td>1.88</td>\n",
              "      <td>3.51</td>\n",
              "    </tr>\n",
              "    <tr>\n",
              "      <th>17</th>\n",
              "      <td>2.57</td>\n",
              "      <td>5.67</td>\n",
              "      <td>10.78</td>\n",
              "    </tr>\n",
              "    <tr>\n",
              "      <th>18</th>\n",
              "      <td>4.43</td>\n",
              "      <td>9.22</td>\n",
              "      <td>17.64</td>\n",
              "    </tr>\n",
              "    <tr>\n",
              "      <th>19</th>\n",
              "      <td>1.18</td>\n",
              "      <td>2.48</td>\n",
              "      <td>4.34</td>\n",
              "    </tr>\n",
              "    <tr>\n",
              "      <th>20</th>\n",
              "      <td>1.98</td>\n",
              "      <td>4.41</td>\n",
              "      <td>8.18</td>\n",
              "    </tr>\n",
              "    <tr>\n",
              "      <th>21</th>\n",
              "      <td>1.62</td>\n",
              "      <td>3.59</td>\n",
              "      <td>6.62</td>\n",
              "    </tr>\n",
              "    <tr>\n",
              "      <th>22</th>\n",
              "      <td>2.52</td>\n",
              "      <td>5.61</td>\n",
              "      <td>9.55</td>\n",
              "    </tr>\n",
              "    <tr>\n",
              "      <th>23</th>\n",
              "      <td>2.83</td>\n",
              "      <td>6.09</td>\n",
              "      <td>11.77</td>\n",
              "    </tr>\n",
              "    <tr>\n",
              "      <th>24</th>\n",
              "      <td>2.05</td>\n",
              "      <td>4.39</td>\n",
              "      <td>8.04</td>\n",
              "    </tr>\n",
              "  </tbody>\n",
              "</table>\n",
              "</div>\n",
              "      <button class=\"colab-df-convert\" onclick=\"convertToInteractive('df-e08378a0-ea39-4350-aaf8-e6f0819af8e6')\"\n",
              "              title=\"Convert this dataframe to an interactive table.\"\n",
              "              style=\"display:none;\">\n",
              "        \n",
              "  <svg xmlns=\"http://www.w3.org/2000/svg\" height=\"24px\"viewBox=\"0 0 24 24\"\n",
              "       width=\"24px\">\n",
              "    <path d=\"M0 0h24v24H0V0z\" fill=\"none\"/>\n",
              "    <path d=\"M18.56 5.44l.94 2.06.94-2.06 2.06-.94-2.06-.94-.94-2.06-.94 2.06-2.06.94zm-11 1L8.5 8.5l.94-2.06 2.06-.94-2.06-.94L8.5 2.5l-.94 2.06-2.06.94zm10 10l.94 2.06.94-2.06 2.06-.94-2.06-.94-.94-2.06-.94 2.06-2.06.94z\"/><path d=\"M17.41 7.96l-1.37-1.37c-.4-.4-.92-.59-1.43-.59-.52 0-1.04.2-1.43.59L10.3 9.45l-7.72 7.72c-.78.78-.78 2.05 0 2.83L4 21.41c.39.39.9.59 1.41.59.51 0 1.02-.2 1.41-.59l7.78-7.78 2.81-2.81c.8-.78.8-2.07 0-2.86zM5.41 20L4 18.59l7.72-7.72 1.47 1.35L5.41 20z\"/>\n",
              "  </svg>\n",
              "      </button>\n",
              "      \n",
              "  <style>\n",
              "    .colab-df-container {\n",
              "      display:flex;\n",
              "      flex-wrap:wrap;\n",
              "      gap: 12px;\n",
              "    }\n",
              "\n",
              "    .colab-df-convert {\n",
              "      background-color: #E8F0FE;\n",
              "      border: none;\n",
              "      border-radius: 50%;\n",
              "      cursor: pointer;\n",
              "      display: none;\n",
              "      fill: #1967D2;\n",
              "      height: 32px;\n",
              "      padding: 0 0 0 0;\n",
              "      width: 32px;\n",
              "    }\n",
              "\n",
              "    .colab-df-convert:hover {\n",
              "      background-color: #E2EBFA;\n",
              "      box-shadow: 0px 1px 2px rgba(60, 64, 67, 0.3), 0px 1px 3px 1px rgba(60, 64, 67, 0.15);\n",
              "      fill: #174EA6;\n",
              "    }\n",
              "\n",
              "    [theme=dark] .colab-df-convert {\n",
              "      background-color: #3B4455;\n",
              "      fill: #D2E3FC;\n",
              "    }\n",
              "\n",
              "    [theme=dark] .colab-df-convert:hover {\n",
              "      background-color: #434B5C;\n",
              "      box-shadow: 0px 1px 3px 1px rgba(0, 0, 0, 0.15);\n",
              "      filter: drop-shadow(0px 1px 2px rgba(0, 0, 0, 0.3));\n",
              "      fill: #FFFFFF;\n",
              "    }\n",
              "  </style>\n",
              "\n",
              "      <script>\n",
              "        const buttonEl =\n",
              "          document.querySelector('#df-e08378a0-ea39-4350-aaf8-e6f0819af8e6 button.colab-df-convert');\n",
              "        buttonEl.style.display =\n",
              "          google.colab.kernel.accessAllowed ? 'block' : 'none';\n",
              "\n",
              "        async function convertToInteractive(key) {\n",
              "          const element = document.querySelector('#df-e08378a0-ea39-4350-aaf8-e6f0819af8e6');\n",
              "          const dataTable =\n",
              "            await google.colab.kernel.invokeFunction('convertToInteractive',\n",
              "                                                     [key], {});\n",
              "          if (!dataTable) return;\n",
              "\n",
              "          const docLinkHtml = 'Like what you see? Visit the ' +\n",
              "            '<a target=\"_blank\" href=https://colab.research.google.com/notebooks/data_table.ipynb>data table notebook</a>'\n",
              "            + ' to learn more about interactive tables.';\n",
              "          element.innerHTML = '';\n",
              "          dataTable['output_type'] = 'display_data';\n",
              "          await google.colab.output.renderOutput(dataTable, element);\n",
              "          const docLink = document.createElement('div');\n",
              "          docLink.innerHTML = docLinkHtml;\n",
              "          element.appendChild(docLink);\n",
              "        }\n",
              "      </script>\n",
              "    </div>\n",
              "  </div>\n",
              "  "
            ]
          },
          "metadata": {},
          "execution_count": 54
        }
      ]
    },
    {
      "cell_type": "code",
      "source": [
        "RF_separated_pscr = pd.concat([RF_separate_pscr_90, RF_separate_pscr_75, RF_separate_pscr_50], axis=1)\n",
        "RF_separated_pscr"
      ],
      "metadata": {
        "colab": {
          "base_uri": "https://localhost:8080/",
          "height": 864
        },
        "id": "0gdg8ahvtMoH",
        "outputId": "2b0e712d-73b0-4d56-be58-5419302573b5"
      },
      "execution_count": null,
      "outputs": [
        {
          "output_type": "execute_result",
          "data": {
            "text/plain": [
              "         RF_pscr_90  RF_pscr_75  RF_pscr_50\n",
              "item_id                                    \n",
              "0          0.395798    0.326306    0.306258\n",
              "1          0.466360    0.480510    0.438830\n",
              "2          0.211946    0.150934    0.130710\n",
              "3          0.671298    0.634676    0.542336\n",
              "4          0.358198    0.265477    0.217244\n",
              "5          0.411035    0.375497    0.248366\n",
              "6          0.469421    0.456693    0.416549\n",
              "7          0.419791    0.270294    0.186095\n",
              "8          0.390767    0.313984    0.255069\n",
              "9          0.333419    0.342958    0.279747\n",
              "10         0.443413    0.424015    0.380916\n",
              "11         0.333526    0.283972    0.263004\n",
              "12         0.450840    0.444961    0.375663\n",
              "13         0.537347    0.468178    0.336174\n",
              "14         0.266410    0.251667    0.267272\n",
              "15         0.253916    0.224678    0.172585\n",
              "16         0.204539    0.202254    0.121593\n",
              "17         0.373579    0.305679    0.251746\n",
              "18         0.481804    0.478612    0.428630\n",
              "19         0.353990    0.281844    0.183110\n",
              "20         0.505661    0.479129    0.418431\n",
              "21         0.311380    0.209116    0.182618\n",
              "22         0.571845    0.468344    0.389871\n",
              "23         0.518749    0.465800    0.397381\n",
              "24         0.338712    0.274197    0.295480"
            ],
            "text/html": [
              "\n",
              "  <div id=\"df-1e024c09-3fd1-4fe9-9742-feffc2d7a8a5\">\n",
              "    <div class=\"colab-df-container\">\n",
              "      <div>\n",
              "<style scoped>\n",
              "    .dataframe tbody tr th:only-of-type {\n",
              "        vertical-align: middle;\n",
              "    }\n",
              "\n",
              "    .dataframe tbody tr th {\n",
              "        vertical-align: top;\n",
              "    }\n",
              "\n",
              "    .dataframe thead th {\n",
              "        text-align: right;\n",
              "    }\n",
              "</style>\n",
              "<table border=\"1\" class=\"dataframe\">\n",
              "  <thead>\n",
              "    <tr style=\"text-align: right;\">\n",
              "      <th></th>\n",
              "      <th>RF_pscr_90</th>\n",
              "      <th>RF_pscr_75</th>\n",
              "      <th>RF_pscr_50</th>\n",
              "    </tr>\n",
              "    <tr>\n",
              "      <th>item_id</th>\n",
              "      <th></th>\n",
              "      <th></th>\n",
              "      <th></th>\n",
              "    </tr>\n",
              "  </thead>\n",
              "  <tbody>\n",
              "    <tr>\n",
              "      <th>0</th>\n",
              "      <td>0.395798</td>\n",
              "      <td>0.326306</td>\n",
              "      <td>0.306258</td>\n",
              "    </tr>\n",
              "    <tr>\n",
              "      <th>1</th>\n",
              "      <td>0.466360</td>\n",
              "      <td>0.480510</td>\n",
              "      <td>0.438830</td>\n",
              "    </tr>\n",
              "    <tr>\n",
              "      <th>2</th>\n",
              "      <td>0.211946</td>\n",
              "      <td>0.150934</td>\n",
              "      <td>0.130710</td>\n",
              "    </tr>\n",
              "    <tr>\n",
              "      <th>3</th>\n",
              "      <td>0.671298</td>\n",
              "      <td>0.634676</td>\n",
              "      <td>0.542336</td>\n",
              "    </tr>\n",
              "    <tr>\n",
              "      <th>4</th>\n",
              "      <td>0.358198</td>\n",
              "      <td>0.265477</td>\n",
              "      <td>0.217244</td>\n",
              "    </tr>\n",
              "    <tr>\n",
              "      <th>5</th>\n",
              "      <td>0.411035</td>\n",
              "      <td>0.375497</td>\n",
              "      <td>0.248366</td>\n",
              "    </tr>\n",
              "    <tr>\n",
              "      <th>6</th>\n",
              "      <td>0.469421</td>\n",
              "      <td>0.456693</td>\n",
              "      <td>0.416549</td>\n",
              "    </tr>\n",
              "    <tr>\n",
              "      <th>7</th>\n",
              "      <td>0.419791</td>\n",
              "      <td>0.270294</td>\n",
              "      <td>0.186095</td>\n",
              "    </tr>\n",
              "    <tr>\n",
              "      <th>8</th>\n",
              "      <td>0.390767</td>\n",
              "      <td>0.313984</td>\n",
              "      <td>0.255069</td>\n",
              "    </tr>\n",
              "    <tr>\n",
              "      <th>9</th>\n",
              "      <td>0.333419</td>\n",
              "      <td>0.342958</td>\n",
              "      <td>0.279747</td>\n",
              "    </tr>\n",
              "    <tr>\n",
              "      <th>10</th>\n",
              "      <td>0.443413</td>\n",
              "      <td>0.424015</td>\n",
              "      <td>0.380916</td>\n",
              "    </tr>\n",
              "    <tr>\n",
              "      <th>11</th>\n",
              "      <td>0.333526</td>\n",
              "      <td>0.283972</td>\n",
              "      <td>0.263004</td>\n",
              "    </tr>\n",
              "    <tr>\n",
              "      <th>12</th>\n",
              "      <td>0.450840</td>\n",
              "      <td>0.444961</td>\n",
              "      <td>0.375663</td>\n",
              "    </tr>\n",
              "    <tr>\n",
              "      <th>13</th>\n",
              "      <td>0.537347</td>\n",
              "      <td>0.468178</td>\n",
              "      <td>0.336174</td>\n",
              "    </tr>\n",
              "    <tr>\n",
              "      <th>14</th>\n",
              "      <td>0.266410</td>\n",
              "      <td>0.251667</td>\n",
              "      <td>0.267272</td>\n",
              "    </tr>\n",
              "    <tr>\n",
              "      <th>15</th>\n",
              "      <td>0.253916</td>\n",
              "      <td>0.224678</td>\n",
              "      <td>0.172585</td>\n",
              "    </tr>\n",
              "    <tr>\n",
              "      <th>16</th>\n",
              "      <td>0.204539</td>\n",
              "      <td>0.202254</td>\n",
              "      <td>0.121593</td>\n",
              "    </tr>\n",
              "    <tr>\n",
              "      <th>17</th>\n",
              "      <td>0.373579</td>\n",
              "      <td>0.305679</td>\n",
              "      <td>0.251746</td>\n",
              "    </tr>\n",
              "    <tr>\n",
              "      <th>18</th>\n",
              "      <td>0.481804</td>\n",
              "      <td>0.478612</td>\n",
              "      <td>0.428630</td>\n",
              "    </tr>\n",
              "    <tr>\n",
              "      <th>19</th>\n",
              "      <td>0.353990</td>\n",
              "      <td>0.281844</td>\n",
              "      <td>0.183110</td>\n",
              "    </tr>\n",
              "    <tr>\n",
              "      <th>20</th>\n",
              "      <td>0.505661</td>\n",
              "      <td>0.479129</td>\n",
              "      <td>0.418431</td>\n",
              "    </tr>\n",
              "    <tr>\n",
              "      <th>21</th>\n",
              "      <td>0.311380</td>\n",
              "      <td>0.209116</td>\n",
              "      <td>0.182618</td>\n",
              "    </tr>\n",
              "    <tr>\n",
              "      <th>22</th>\n",
              "      <td>0.571845</td>\n",
              "      <td>0.468344</td>\n",
              "      <td>0.389871</td>\n",
              "    </tr>\n",
              "    <tr>\n",
              "      <th>23</th>\n",
              "      <td>0.518749</td>\n",
              "      <td>0.465800</td>\n",
              "      <td>0.397381</td>\n",
              "    </tr>\n",
              "    <tr>\n",
              "      <th>24</th>\n",
              "      <td>0.338712</td>\n",
              "      <td>0.274197</td>\n",
              "      <td>0.295480</td>\n",
              "    </tr>\n",
              "  </tbody>\n",
              "</table>\n",
              "</div>\n",
              "      <button class=\"colab-df-convert\" onclick=\"convertToInteractive('df-1e024c09-3fd1-4fe9-9742-feffc2d7a8a5')\"\n",
              "              title=\"Convert this dataframe to an interactive table.\"\n",
              "              style=\"display:none;\">\n",
              "        \n",
              "  <svg xmlns=\"http://www.w3.org/2000/svg\" height=\"24px\"viewBox=\"0 0 24 24\"\n",
              "       width=\"24px\">\n",
              "    <path d=\"M0 0h24v24H0V0z\" fill=\"none\"/>\n",
              "    <path d=\"M18.56 5.44l.94 2.06.94-2.06 2.06-.94-2.06-.94-.94-2.06-.94 2.06-2.06.94zm-11 1L8.5 8.5l.94-2.06 2.06-.94-2.06-.94L8.5 2.5l-.94 2.06-2.06.94zm10 10l.94 2.06.94-2.06 2.06-.94-2.06-.94-.94-2.06-.94 2.06-2.06.94z\"/><path d=\"M17.41 7.96l-1.37-1.37c-.4-.4-.92-.59-1.43-.59-.52 0-1.04.2-1.43.59L10.3 9.45l-7.72 7.72c-.78.78-.78 2.05 0 2.83L4 21.41c.39.39.9.59 1.41.59.51 0 1.02-.2 1.41-.59l7.78-7.78 2.81-2.81c.8-.78.8-2.07 0-2.86zM5.41 20L4 18.59l7.72-7.72 1.47 1.35L5.41 20z\"/>\n",
              "  </svg>\n",
              "      </button>\n",
              "      \n",
              "  <style>\n",
              "    .colab-df-container {\n",
              "      display:flex;\n",
              "      flex-wrap:wrap;\n",
              "      gap: 12px;\n",
              "    }\n",
              "\n",
              "    .colab-df-convert {\n",
              "      background-color: #E8F0FE;\n",
              "      border: none;\n",
              "      border-radius: 50%;\n",
              "      cursor: pointer;\n",
              "      display: none;\n",
              "      fill: #1967D2;\n",
              "      height: 32px;\n",
              "      padding: 0 0 0 0;\n",
              "      width: 32px;\n",
              "    }\n",
              "\n",
              "    .colab-df-convert:hover {\n",
              "      background-color: #E2EBFA;\n",
              "      box-shadow: 0px 1px 2px rgba(60, 64, 67, 0.3), 0px 1px 3px 1px rgba(60, 64, 67, 0.15);\n",
              "      fill: #174EA6;\n",
              "    }\n",
              "\n",
              "    [theme=dark] .colab-df-convert {\n",
              "      background-color: #3B4455;\n",
              "      fill: #D2E3FC;\n",
              "    }\n",
              "\n",
              "    [theme=dark] .colab-df-convert:hover {\n",
              "      background-color: #434B5C;\n",
              "      box-shadow: 0px 1px 3px 1px rgba(0, 0, 0, 0.15);\n",
              "      filter: drop-shadow(0px 1px 2px rgba(0, 0, 0, 0.3));\n",
              "      fill: #FFFFFF;\n",
              "    }\n",
              "  </style>\n",
              "\n",
              "      <script>\n",
              "        const buttonEl =\n",
              "          document.querySelector('#df-1e024c09-3fd1-4fe9-9742-feffc2d7a8a5 button.colab-df-convert');\n",
              "        buttonEl.style.display =\n",
              "          google.colab.kernel.accessAllowed ? 'block' : 'none';\n",
              "\n",
              "        async function convertToInteractive(key) {\n",
              "          const element = document.querySelector('#df-1e024c09-3fd1-4fe9-9742-feffc2d7a8a5');\n",
              "          const dataTable =\n",
              "            await google.colab.kernel.invokeFunction('convertToInteractive',\n",
              "                                                     [key], {});\n",
              "          if (!dataTable) return;\n",
              "\n",
              "          const docLinkHtml = 'Like what you see? Visit the ' +\n",
              "            '<a target=\"_blank\" href=https://colab.research.google.com/notebooks/data_table.ipynb>data table notebook</a>'\n",
              "            + ' to learn more about interactive tables.';\n",
              "          element.innerHTML = '';\n",
              "          dataTable['output_type'] = 'display_data';\n",
              "          await google.colab.output.renderOutput(dataTable, element);\n",
              "          const docLink = document.createElement('div');\n",
              "          docLink.innerHTML = docLinkHtml;\n",
              "          element.appendChild(docLink);\n",
              "        }\n",
              "      </script>\n",
              "    </div>\n",
              "  </div>\n",
              "  "
            ]
          },
          "metadata": {},
          "execution_count": 55
        }
      ]
    },
    {
      "cell_type": "markdown",
      "source": [
        "# save the results\n",
        "\n",
        "\n",
        "---"
      ],
      "metadata": {
        "id": "2v-eDvtKtWvz"
      }
    },
    {
      "cell_type": "code",
      "source": [
        "RF_separated_avc.to_csv('/content/drive/MyDrive/M5/RF_separated_avc.csv')\n",
        "\n",
        "RF_separated_pscr.to_csv('/content/drive/MyDrive/M5/RF_separated_pscr.csv')"
      ],
      "metadata": {
        "id": "Cyk-zDHHtV3b"
      },
      "execution_count": null,
      "outputs": []
    }
  ]
}