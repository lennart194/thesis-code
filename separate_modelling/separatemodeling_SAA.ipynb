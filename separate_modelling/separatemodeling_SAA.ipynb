{
  "cells": [
    {
      "cell_type": "markdown",
      "metadata": {
        "id": "view-in-github",
        "colab_type": "text"
      },
      "source": [
        "<a href=\"https://colab.research.google.com/github/lennart194/thesis-code/blob/main/separatemodeling_SAA.ipynb\" target=\"_parent\"><img src=\"https://colab.research.google.com/assets/colab-badge.svg\" alt=\"Open In Colab\"/></a>"
      ]
    },
    {
      "cell_type": "code",
      "execution_count": null,
      "metadata": {
        "colab": {
          "background_save": true
        },
        "id": "IZyjEZLtzvpB"
      },
      "outputs": [],
      "source": [
        "pip install ddop"
      ]
    },
    {
      "cell_type": "code",
      "execution_count": null,
      "metadata": {
        "id": "K0tLgBKS0ccW"
      },
      "outputs": [],
      "source": [
        "import pandas as pd\n",
        "import numpy as np\n",
        "\n",
        "from ddop.newsvendor import SampleAverageApproximationNewsvendor\n",
        "\n",
        "from ddop.metrics import average_costs"
      ]
    },
    {
      "cell_type": "code",
      "execution_count": null,
      "metadata": {
        "colab": {
          "base_uri": "https://localhost:8080/"
        },
        "id": "Ni94TXrL1X8L",
        "outputId": "88fdcda8-2629-43f1-e767-6401d8cbd210"
      },
      "outputs": [
        {
          "name": "stdout",
          "output_type": "stream",
          "text": [
            "Mounted at /content/drive\n"
          ]
        }
      ],
      "source": [
        "from google.colab import drive\n",
        "drive.mount('/content/drive')"
      ]
    },
    {
      "cell_type": "markdown",
      "source": [
        "## Loading data-set\n",
        "\n",
        "*   load the whole ultimative set\n",
        "*   sort the rows first by item, then by date and set a multi index\n",
        "**now every items time series can be separated by the index**"
      ],
      "metadata": {
        "id": "TbIC6TZoXoQC"
      }
    },
    {
      "cell_type": "code",
      "execution_count": null,
      "metadata": {
        "id": "_lWI1qbO1kkq"
      },
      "outputs": [],
      "source": [
        "data = pd.read_csv('/content/drive/MyDrive/M5/ultimative_set.csv')\n",
        "data = data.drop(columns=['Unnamed: 0'])\n",
        "data = data.sort_values(by=['item_id', 'date'])\n",
        "data = data.set_index(['item_id', 'date'])"
      ]
    },
    {
      "cell_type": "markdown",
      "source": [
        "## Split in feature and target matrix"
      ],
      "metadata": {
        "id": "xLLkH2Q6Xpb0"
      }
    },
    {
      "cell_type": "code",
      "execution_count": null,
      "metadata": {
        "id": "rqkT4k6P1sf0"
      },
      "outputs": [],
      "source": [
        "X = data.drop(columns=['demand'])\n",
        "Y = data['demand']"
      ]
    },
    {
      "cell_type": "markdown",
      "source": [
        "## train_test_split"
      ],
      "metadata": {
        "id": "jniBRrzsXs78"
      }
    },
    {
      "cell_type": "code",
      "execution_count": null,
      "metadata": {
        "id": "AK9bCSkd1uu3"
      },
      "outputs": [],
      "source": [
        "X_train = X.loc[(slice(None), slice(None, \"2015\")), :]\n",
        "X_test = X.loc[(slice(None), slice(\"2015\", '2017')), :]\n",
        "\n",
        "Y_train = Y.loc[(slice(None), slice(None, \"2015\"))]\n",
        "Y_test = Y.loc[(slice(None), slice(\"2015\", \"2017\"))]"
      ]
    },
    {
      "cell_type": "markdown",
      "source": [
        "## Definition of the item_ids \n",
        "\n",
        "\n",
        "*   will be needed within the for loops later\n",
        "*   will contain all 25 products"
      ],
      "metadata": {
        "id": "6Wa5LpxeXx27"
      }
    },
    {
      "cell_type": "code",
      "execution_count": null,
      "metadata": {
        "id": "U_PE1xe41ysd"
      },
      "outputs": [],
      "source": [
        "prods = list(range(0,25))"
      ]
    },
    {
      "cell_type": "markdown",
      "metadata": {
        "id": "Rljp0QN275gG"
      },
      "source": [
        "# SAA alpha = 0.95"
      ]
    },
    {
      "cell_type": "code",
      "execution_count": null,
      "metadata": {
        "cellView": "code",
        "id": "oNc5J9fD14Hj"
      },
      "outputs": [],
      "source": [
        "result_saa_95 = []\n",
        "for prod in prods:\n",
        "  cu = X_train.loc[prod]['sell_price'].mean()\n",
        "  co_95 = ((cu-(0.95*cu))/0.95)\n",
        "  \n",
        "  saa = SampleAverageApproximationNewsvendor(cu = cu, co = co_95)\n",
        "  saa.fit(Y_train.loc[prod])\n",
        "  preds = saa.predict(n_steps = 508)\n",
        "  avc = round(average_costs(Y_test.loc[prod], preds, cu = cu, co = co_95),2)\n",
        "  result_saa_95.append(avc)"
      ]
    },
    {
      "cell_type": "code",
      "execution_count": null,
      "metadata": {
        "id": "hlSJkpfN6_s1"
      },
      "outputs": [],
      "source": [
        "SAA_separate_avc_95 = pd.DataFrame(result_saa_95, columns=['SAA_avc_95'])\n",
        "SAA_separate_avc_95.index.name = 'item_id'"
      ]
    },
    {
      "cell_type": "markdown",
      "metadata": {
        "id": "7bz7u4Q_8DBB"
      },
      "source": [
        "# SAA alpha = 0.9"
      ]
    },
    {
      "cell_type": "code",
      "execution_count": null,
      "metadata": {
        "id": "uu8TpeeM8HIT"
      },
      "outputs": [],
      "source": [
        "result_saa_90 = []\n",
        "for prod in prods:\n",
        "  cu = X_train.loc[prod]['sell_price'].mean()\n",
        "  co_90 = ((cu-(0.9*cu))/0.9)\n",
        "  \n",
        "  saa = SampleAverageApproximationNewsvendor(cu = cu, co = co_90)\n",
        "  saa.fit(Y_train.loc[prod])\n",
        "  preds = saa.predict(n_steps = 508)\n",
        "  avc = round(average_costs(Y_test.loc[prod], preds, cu = cu, co = co_90),2)\n",
        "  result_saa_90.append(avc)"
      ]
    },
    {
      "cell_type": "code",
      "execution_count": null,
      "metadata": {
        "id": "2wn7YfDa8UMD"
      },
      "outputs": [],
      "source": [
        "SAA_separate_avc_90 = pd.DataFrame(result_saa_90, columns=['SAA_avc_90'])\n",
        "SAA_separate_avc_90.index.name = 'item_id'"
      ]
    },
    {
      "cell_type": "markdown",
      "metadata": {
        "id": "89lZzEeD8n19"
      },
      "source": [
        "# SAA alpha = 0.75"
      ]
    },
    {
      "cell_type": "code",
      "execution_count": null,
      "metadata": {
        "id": "sMh2Iz0I8utR"
      },
      "outputs": [],
      "source": [
        "result_saa_75 = []\n",
        "for prod in prods:\n",
        "  cu = X_train.loc[prod]['sell_price'].mean()\n",
        "  co_75 = ((cu-(0.75*cu))/0.75)\n",
        "  \n",
        "  saa = SampleAverageApproximationNewsvendor(cu = cu, co = co_75)\n",
        "  saa.fit(Y_train.loc[prod])\n",
        "  preds = saa.predict(n_steps = 508)\n",
        "  avc = round(average_costs(Y_test.loc[prod], preds, cu = cu, co = co_75),2)\n",
        "  result_saa_75.append(avc)"
      ]
    },
    {
      "cell_type": "code",
      "execution_count": null,
      "metadata": {
        "id": "Qhj1GufP83yR"
      },
      "outputs": [],
      "source": [
        "SAA_separate_avc_75 = pd.DataFrame(result_saa_75, columns=['SAA_avc_75'])\n",
        "SAA_separate_avc_75.index.name = 'item_id'"
      ]
    },
    {
      "cell_type": "markdown",
      "metadata": {
        "id": "F-1sPcy09R8-"
      },
      "source": [
        "# SAA alpha = 0.5"
      ]
    },
    {
      "cell_type": "code",
      "execution_count": null,
      "metadata": {
        "id": "_nHfc1yE9TFl"
      },
      "outputs": [],
      "source": [
        "result_saa_50 = []\n",
        "for prod in prods:\n",
        "  cu = X_train.loc[prod]['sell_price'].mean()\n",
        "  co_50 = ((cu-(0.50*cu))/0.50)\n",
        "  \n",
        "  saa = SampleAverageApproximationNewsvendor(cu = cu, co = co_50)\n",
        "  saa.fit(Y_train.loc[prod])\n",
        "  preds = saa.predict(n_steps = 508)\n",
        "  avc = round(average_costs(Y_test.loc[prod], preds, cu = cu, co = co_50),2)\n",
        "  result_saa_50.append(avc)"
      ]
    },
    {
      "cell_type": "code",
      "execution_count": null,
      "metadata": {
        "id": "ysOmxfS49g3T"
      },
      "outputs": [],
      "source": [
        "SAA_separate_avc_50 = pd.DataFrame(result_saa_50, columns=['SAA_avc_50'])\n",
        "SAA_separate_avc_50.index.name = 'item_id'"
      ]
    },
    {
      "cell_type": "markdown",
      "metadata": {
        "id": "NzmxjSMD-xhm"
      },
      "source": [
        "# fit together"
      ]
    },
    {
      "cell_type": "code",
      "execution_count": null,
      "metadata": {
        "id": "sNTSbgeQ-wYd"
      },
      "outputs": [],
      "source": [
        "SAA_separated = pd.concat([SAA_separate_avc_95, SAA_separate_avc_90, SAA_separate_avc_75, SAA_separate_avc_50], axis=1)"
      ]
    },
    {
      "cell_type": "code",
      "execution_count": null,
      "metadata": {
        "id": "lfTO85BS-5q7"
      },
      "outputs": [],
      "source": [
        "SAA_separated.to_csv('/content/drive/MyDrive/M5/SAA_separated.csv')"
      ]
    }
  ],
  "metadata": {
    "colab": {
      "name": "separatemodeling_SAA.ipynb",
      "provenance": [],
      "authorship_tag": "ABX9TyNPWQPeR0TJDGfUSl4JKJoP",
      "include_colab_link": true
    },
    "kernelspec": {
      "display_name": "Python 3",
      "name": "python3"
    },
    "language_info": {
      "name": "python"
    }
  },
  "nbformat": 4,
  "nbformat_minor": 0
}
