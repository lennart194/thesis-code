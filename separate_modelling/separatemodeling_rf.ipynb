{
  "nbformat": 4,
  "nbformat_minor": 0,
  "metadata": {
    "colab": {
      "name": "separatemodeling_rf.ipynb",
      "provenance": [],
      "collapsed_sections": [],
      "authorship_tag": "ABX9TyNCNA6DTsfi60/FxyVnSJod",
      "include_colab_link": true
    },
    "kernelspec": {
      "name": "python3",
      "display_name": "Python 3"
    },
    "language_info": {
      "name": "python"
    }
  },
  "cells": [
    {
      "cell_type": "markdown",
      "metadata": {
        "id": "view-in-github",
        "colab_type": "text"
      },
      "source": [
        "<a href=\"https://colab.research.google.com/github/lennart194/thesis-code/blob/main/separatemodeling_rf.ipynb\" target=\"_parent\"><img src=\"https://colab.research.google.com/assets/colab-badge.svg\" alt=\"Open In Colab\"/></a>"
      ]
    },
    {
      "cell_type": "code",
      "execution_count": null,
      "metadata": {
        "id": "ZKQAasuG_6rh"
      },
      "outputs": [],
      "source": [
        "pip install ddop"
      ]
    },
    {
      "cell_type": "code",
      "source": [
        "import pandas as pd\n",
        "import numpy as np\n",
        "\n",
        "from ddop.newsvendor import RandomForestWeightedNewsvendor\n",
        "from ddop.newsvendor import SampleAverageApproximationNewsvendor\n",
        "\n",
        "from sklearn.model_selection import RandomizedSearchCV\n",
        "\n",
        "\n",
        "from ddop.metrics import make_scorer\n",
        "from ddop.metrics import average_costs"
      ],
      "metadata": {
        "id": "b-p8EZykAJ72"
      },
      "execution_count": null,
      "outputs": []
    },
    {
      "cell_type": "code",
      "source": [
        "from google.colab import drive\n",
        "drive.mount('/content/drive')"
      ],
      "metadata": {
        "id": "JIcZI-yzAypF"
      },
      "execution_count": null,
      "outputs": []
    },
    {
      "cell_type": "markdown",
      "source": [
        "## Loading data-set\n",
        "\n",
        "*   load the whole ultimative set\n",
        "*   sort the rows first by item, then by date and set a multi index\n",
        "**now every items time series can be separated by the index**"
      ],
      "metadata": {
        "id": "bhi9Gi_xov4r"
      }
    },
    {
      "cell_type": "code",
      "source": [
        "data = pd.read_csv('/content/drive/MyDrive/M5/ultimative_set.csv')\n",
        "data = data.drop(columns=['Unnamed: 0'])\n",
        "data = data.sort_values(by=['item_id', 'date'])\n",
        "data = data.set_index(['item_id', 'date'])"
      ],
      "metadata": {
        "id": "lxEEQcfHBDZN"
      },
      "execution_count": null,
      "outputs": []
    },
    {
      "cell_type": "markdown",
      "source": [
        "## Split in feature and target matrix"
      ],
      "metadata": {
        "id": "u6N5tlbvozoT"
      }
    },
    {
      "cell_type": "code",
      "source": [
        "X = data.drop(columns=['demand'])\n",
        "Y = data['demand']"
      ],
      "metadata": {
        "id": "SWg7JBX-BGfW"
      },
      "execution_count": null,
      "outputs": []
    },
    {
      "cell_type": "markdown",
      "source": [
        "## train_test_split"
      ],
      "metadata": {
        "id": "drsCkB7Go3C8"
      }
    },
    {
      "cell_type": "code",
      "source": [
        "X_train = X.loc[(slice(None), slice(None, \"2015\")), :]\n",
        "X_test = X.loc[(slice(None), slice(\"2015\", '2017')), :]\n",
        "\n",
        "Y_train = Y.loc[(slice(None), slice(None, \"2015\"))]\n",
        "Y_test = Y.loc[(slice(None), slice(\"2015\", \"2017\"))]"
      ],
      "metadata": {
        "id": "Ys5hjkABBI0r"
      },
      "execution_count": null,
      "outputs": []
    },
    {
      "cell_type": "markdown",
      "source": [
        "## Definition of the item_ids \n",
        "\n",
        "\n",
        "*   will be needed within the for loops later\n",
        "*   will contain all 25 products"
      ],
      "metadata": {
        "id": "n68B_7V4o6lJ"
      }
    },
    {
      "cell_type": "code",
      "source": [
        "prods = list(range(0,25))"
      ],
      "metadata": {
        "id": "vfncn7eoBKyj"
      },
      "execution_count": null,
      "outputs": []
    },
    {
      "cell_type": "markdown",
      "source": [
        "## Determining some parameters\n",
        "*   the potential params and their values for randomized search are defined\n",
        "*   the estimator, the scorer and finally the whole grid is defined"
      ],
      "metadata": {
        "id": "TW8Alb-ypC2p"
      }
    },
    {
      "cell_type": "code",
      "source": [
        "max_depth = np.array([7, 9, 20, 50])\n",
        "n_estimators = np.array([50, 70, 90, 100, 120])\n",
        "min_samples_leaf = np.array([3, 4, 5])\n",
        "param_random = dict(max_depth = max_depth, n_estimators = n_estimators, min_samples_leaf = min_samples_leaf)\n",
        "\n",
        "scorer_avc = make_scorer(average_costs, greater_is_better=False)"
      ],
      "metadata": {
        "id": "-9Hs-KW_BWFL"
      },
      "execution_count": null,
      "outputs": []
    },
    {
      "cell_type": "markdown",
      "source": [
        "# rf for 95% service level\n",
        "\n",
        "## randomized search\n",
        "*   an empty list is created for every type of hyperparameter\n",
        "*   in a for-loop the randomized search is executed for every item with cu and co of alpha = 0,95\n",
        "*   the best hyperparams are calculated and added to the corresponding list"
      ],
      "metadata": {
        "id": "aGcmnimbVaa5"
      }
    },
    {
      "cell_type": "code",
      "source": [
        "best_param_maxd_95 = []\n",
        "best_param_nest_95 = []\n",
        "best_param_minsl_95 = []\n",
        "\n",
        "for prod in prods:\n",
        "  \n",
        "  cu = X_train.loc[prod]['sell_price'].mean()\n",
        "  co_95 = ((cu-(0.95*cu))/0.95)\n",
        "  rf = RandomForestWeightedNewsvendor(cu = cu, co = co_95, random_state = 42, criterion = 'mse')\n",
        "\n",
        "  random = RandomizedSearchCV(rf, param_random, cv=4, scoring = scorer_avc)\n",
        "  random.fit(X_train.loc[prod], Y_train.loc[prod])\n",
        "    \n",
        "  maxd = random.best_params_.get('max_depth')\n",
        "  nest = random.best_params_.get('n_estimators')\n",
        "  minsl = random.best_params_.get('min_samples_leaf')\n",
        "\n",
        "  best_param_maxd_95.append(maxd)\n",
        "  best_param_nest_95.append(nest)\n",
        "  best_param_minsl_95.append(minsl)"
      ],
      "metadata": {
        "id": "PT5XlLWnFfCE"
      },
      "execution_count": null,
      "outputs": []
    },
    {
      "cell_type": "markdown",
      "source": [
        "## Newsvendor-Model\n",
        "*   the data-driven newsvendor model is executed in a loop for every single item (with optimal hyperparameters)\n",
        "*   the average_costs for every item are calculated (later the prescritiveness score will be used for better comparability)\n"
      ],
      "metadata": {
        "id": "1E6fj8PwVnA3"
      }
    },
    {
      "cell_type": "code",
      "source": [
        "result_rf_95_avc = []\n",
        "for prod in prods:\n",
        "  cu = X_train.loc[prod]['sell_price'].mean()\n",
        "  co_95 = ((cu-(0.95*cu))/0.95)\n",
        "  \n",
        "  rf = RandomForestWeightedNewsvendor(cu = cu, co = co_95, random_state = 42, criterion = 'mse',\n",
        "                                       max_depth = best_param_maxd_95[prod], n_estimators = best_param_nest_95[prod],\n",
        "                                       min_samples_leaf = best_param_minsl_95[prod])\n",
        "  rf.fit(X_train.loc[prod], Y_train.loc[prod])\n",
        "  preds = rf.predict(X_test.loc[prod])\n",
        "\n",
        "  avc = round(average_costs(Y_test.loc[prod], preds, cu = cu, co = co_95),2)\n",
        "  result_rf_95_avc.append(avc)"
      ],
      "metadata": {
        "id": "N1_gi4xAOhqk"
      },
      "execution_count": null,
      "outputs": []
    },
    {
      "cell_type": "code",
      "source": [
        "RF_separate_avc_95 = pd.DataFrame(result_rf_95_avc, columns=['RF_avc_95'])\n",
        "RF_separate_avc_95.index.name = 'item_id'"
      ],
      "metadata": {
        "id": "l4XF-m8HPhNi"
      },
      "execution_count": null,
      "outputs": []
    },
    {
      "cell_type": "code",
      "source": [
        "result_rf_95_pscr = []\n",
        "for prod in prods:\n",
        "  cu = X_train.loc[prod]['sell_price'].mean()\n",
        "  co_95 = ((cu-(0.95*cu))/0.95)\n",
        "  \n",
        "  rf = RandomForestWeightedNewsvendor(cu = cu, co = co_95, random_state = 42, criterion = 'mse',\n",
        "                                       max_depth = best_param_maxd_95[prod], n_estimators = best_param_nest_95[prod],\n",
        "                                       min_samples_leaf = best_param_minsl_95[prod])\n",
        "  rf.fit(X_train.loc[prod], Y_train.loc[prod])\n",
        "  preds_rf = rf.predict(X_test.loc[prod])\n",
        "\n",
        "\n",
        "  saa = SampleAverageApproximationNewsvendor(cu = cu, co = co_95)\n",
        "  saa.fit(Y_train.loc[prod])\n",
        "  preds_saa = saa.predict(n_steps = 508)\n",
        "  \n",
        "  pscr = prescriptiveness_score(Y_test.loc[prod], preds_rf, preds_saa, cu = cu, co = co_95)\n",
        "  result_rf_95_pscr.append(pscr)"
      ],
      "metadata": {
        "id": "PZWeT-vKSyPY"
      },
      "execution_count": null,
      "outputs": []
    },
    {
      "cell_type": "code",
      "source": [
        "RF_separate_pscr_95 = pd.DataFrame(result_rf_95_pscr, columns=['RF_pscr_95'])\n",
        "RF_separate_pscr_95.index.name = 'item_id'"
      ],
      "metadata": {
        "id": "-w1Mj9GDUKOG"
      },
      "execution_count": null,
      "outputs": []
    },
    {
      "cell_type": "markdown",
      "source": [
        "# rf for 90% service level\n",
        "\n",
        "## randomized search\n",
        "*   an empty list is created for every type of hyperparameter\n",
        "*   in a for-loop the randomized search is executed for every item with cu and co of alpha = 0,9\n",
        "*   the best hyperparams are calculated and added to the corresponding list"
      ],
      "metadata": {
        "id": "rfGMBwC6V3c7"
      }
    },
    {
      "cell_type": "code",
      "source": [
        "best_param_maxd_90 = []\n",
        "best_param_nest_90 = []\n",
        "best_param_minsl_90 = []\n",
        "\n",
        "for prod in prods:\n",
        "  \n",
        "  cu = X_train.loc[prod]['sell_price'].mean()\n",
        "  co_90 = ((cu-(0.90*cu))/0.90)\n",
        "  rf = RandomForestWeightedNewsvendor(cu = cu, co = co_90, random_state = 42, criterion = 'mse')\n",
        "\n",
        "  random = RandomizedSearchCV(rf, param_random, cv=5, scoring = scorer_avc)\n",
        "  random.fit(X_train.loc[prod], Y_train.loc[prod])\n",
        "    \n",
        "  maxd = random.best_params_.get('max_depth')\n",
        "  nest = random.best_params_.get('n_estimators')\n",
        "  minsl = random.best_params_.get('min_samples_leaf')\n",
        "\n",
        "  best_param_maxd_90.append(maxd)\n",
        "  best_param_nest_90.append(nest)\n",
        "  best_param_minsl_90.append(minsl)"
      ],
      "metadata": {
        "id": "bZjsTyacV6zx"
      },
      "execution_count": null,
      "outputs": []
    },
    {
      "cell_type": "markdown",
      "source": [
        "## Newsvendor-Model\n",
        "*   the data-driven newsvendor model is executed in a loop for every single item (with optimal hyperparameters)\n",
        "*   the average_costs for every item are calculated (later the prescritiveness score will be used for better comparability)"
      ],
      "metadata": {
        "id": "bOCdRJpXWgqp"
      }
    },
    {
      "cell_type": "code",
      "source": [
        "result_rf_90_avc = []\n",
        "for prod in prods:\n",
        "  cu = X_train.loc[prod]['sell_price'].mean()\n",
        "  co_90 = ((cu-(0.90*cu))/0.90)\n",
        "  \n",
        "  rf = RandomForestWeightedNewsvendor(cu = cu, co = co_90, random_state = 42, criterion = 'mse',\n",
        "                                       max_depth = best_param_maxd_90[prod], n_estimators = best_param_nest_90[prod],\n",
        "                                       min_samples_leaf = best_param_minsl_90[prod])\n",
        "  rf.fit(X_train.loc[prod], Y_train.loc[prod])\n",
        "  preds = rf.predict(X_test.loc[prod])\n",
        "  \n",
        "  avc = round(average_costs(Y_test.loc[prod], preds, cu = cu, co = co_90),2)\n",
        "  result_rf_90_avc.append(avc)"
      ],
      "metadata": {
        "id": "nGS7Fjc5Wi4R"
      },
      "execution_count": null,
      "outputs": []
    },
    {
      "cell_type": "code",
      "source": [
        "RF_separate_avc_90 = pd.DataFrame(result_rf_90_avc, columns=['RF_avc_90'])\n",
        "RF_separate_avc_90.index.name = 'item_id'"
      ],
      "metadata": {
        "id": "FJx_egqZW9Hn"
      },
      "execution_count": null,
      "outputs": []
    },
    {
      "cell_type": "code",
      "source": [
        "result_rf_90_pscr = []\n",
        "for prod in prods:\n",
        "  cu = X_train.loc[prod]['sell_price'].mean()\n",
        "  co_90 = ((cu-(0.90*cu))/0.90)\n",
        "  \n",
        "  rf = RandomForestWeightedNewsvendor(cu = cu, co = co_90, random_state = 42, criterion = 'mse',\n",
        "                                       max_depth = best_param_maxd_90[prod], n_estimators = best_param_nest_90[prod],\n",
        "                                       min_samples_leaf = best_param_minsl_90[prod])\n",
        "  rf.fit(X_train.loc[prod], Y_train.loc[prod])\n",
        "  preds_rf = rf.predict(X_test.loc[prod])\n",
        "\n",
        "\n",
        "  saa = SampleAverageApproximationNewsvendor(cu = cu, co = co_90)\n",
        "  saa.fit(Y_train.loc[prod])\n",
        "  preds_saa = saa.predict(n_steps = 508)\n",
        "  \n",
        "  pscr = prescriptiveness_score(Y_test.loc[prod], preds_rf, preds_saa, cu = cu, co = co_90)\n",
        "  result_rf_90_pscr.append(pscr)"
      ],
      "metadata": {
        "id": "snpd8kQuXFSN"
      },
      "execution_count": null,
      "outputs": []
    },
    {
      "cell_type": "code",
      "source": [
        "RF_separate_pscr_90 = pd.DataFrame(result_rf_90_pscr, columns=['RF_pscr_90'])\n",
        "RF_separate_pscr_90.index.name = 'item_id'"
      ],
      "metadata": {
        "id": "Q3T0UqpAXWa-"
      },
      "execution_count": null,
      "outputs": []
    },
    {
      "cell_type": "markdown",
      "source": [
        "# rf for 75% service level\n",
        "\n",
        "## randomized search\n",
        "*   an empty list is created for every type of hyperparameter\n",
        "*   in a for-loop the randomized search is executed for every item with cu and co of alpha = 0,75\n",
        "*   the best hyperparams are calculated and added to the corresponding list"
      ],
      "metadata": {
        "id": "r8TkRRc6Xd-Q"
      }
    },
    {
      "cell_type": "code",
      "source": [
        "best_param_maxd_75 = []\n",
        "best_param_nest_75 = []\n",
        "best_param_minsl_75 = []\n",
        "\n",
        "for prod in prods:\n",
        "  \n",
        "  cu = X_train.loc[prod]['sell_price'].mean()\n",
        "  co_75 = ((cu-(0.75*cu))/0.75)\n",
        "  rf = RandomForestWeightedNewsvendor(cu = cu, co = co_75, random_state = 42, criterion = 'mse')\n",
        "\n",
        "  random = RandomizedSearchCV(rf, param_random, cv=5, scoring = scorer_avc)\n",
        "  random.fit(X_train.loc[prod], Y_train.loc[prod])\n",
        "    \n",
        "  maxd = random.best_params_.get('max_depth')\n",
        "  nest = random.best_params_.get('n_estimators')\n",
        "  minsl = random.best_params_.get('min_samples_leaf')\n",
        "\n",
        "  best_param_maxd_75.append(maxd)\n",
        "  best_param_nest_75.append(nest)\n",
        "  best_param_minsl_75.append(minsl)"
      ],
      "metadata": {
        "id": "MMBP-TiMXiya"
      },
      "execution_count": null,
      "outputs": []
    },
    {
      "cell_type": "markdown",
      "source": [
        "## Newsvendor-Model\n",
        "*   the data-driven newsvendor model is executed in a loop for every single item (with optimal hyperparameters)\n",
        "*   the average_costs for every item are calculated (later the prescritiveness score will be used for better comparability)"
      ],
      "metadata": {
        "id": "b_LQ2MiuqMiN"
      }
    },
    {
      "cell_type": "code",
      "source": [
        "result_rf_75_avc = []\n",
        "for prod in prods:\n",
        "  cu = X_train.loc[prod]['sell_price'].mean()\n",
        "  co_75 = ((cu-(0.75*cu))/0.75)\n",
        "  \n",
        "  rf = RandomForestWeightedNewsvendor(cu = cu, co = co_75, random_state = 42, criterion = 'mse',\n",
        "                                       max_depth = best_param_maxd_75[prod], n_estimators = best_param_nest_75[prod],\n",
        "                                       min_samples_leaf = best_param_minsl_75[prod])\n",
        "  rf.fit(X_train.loc[prod], Y_train.loc[prod])\n",
        "  preds = rf.predict(X_test.loc[prod])\n",
        "  \n",
        "  avc = round(average_costs(Y_test.loc[prod], preds, cu = cu, co = co_75),2)\n",
        "  result_rf_75_avc.append(avc)"
      ],
      "metadata": {
        "id": "PA8nx050qLkQ"
      },
      "execution_count": null,
      "outputs": []
    },
    {
      "cell_type": "code",
      "source": [
        "RF_separate_avc_75 = pd.DataFrame(result_rf_75_avc, columns=['RF_avc_75'])\n",
        "RF_separate_avc_75.index.name = 'item_id'"
      ],
      "metadata": {
        "id": "zknVGvuCqd1d"
      },
      "execution_count": null,
      "outputs": []
    },
    {
      "cell_type": "code",
      "source": [
        "result_rf_75_pscr = []\n",
        "for prod in prods:\n",
        "  cu = X_train.loc[prod]['sell_price'].mean()\n",
        "  co_75 = ((cu-(0.75*cu))/0.75)\n",
        "  \n",
        "  rf = RandomForestWeightedNewsvendor(cu = cu, co = co_75, random_state = 42, criterion = 'mse',\n",
        "                                       max_depth = best_param_maxd_75[prod], n_estimators = best_param_nest_75[prod],\n",
        "                                       min_samples_leaf = best_param_minsl_75[prod])\n",
        "  rf.fit(X_train.loc[prod], Y_train.loc[prod])\n",
        "  preds_rf = rf.predict(X_test.loc[prod])\n",
        "\n",
        "\n",
        "  saa = SampleAverageApproximationNewsvendor(cu = cu, co = co_75)\n",
        "  saa.fit(Y_train.loc[prod])\n",
        "  preds_saa = saa.predict(n_steps = 508)\n",
        "  \n",
        "  pscr = prescriptiveness_score(Y_test.loc[prod], preds_rf, preds_saa, cu = cu, co = co_75)\n",
        "  result_rf_75_pscr.append(pscr)"
      ],
      "metadata": {
        "id": "KxGZDYelqmBX"
      },
      "execution_count": null,
      "outputs": []
    },
    {
      "cell_type": "code",
      "source": [
        "RF_separate_pscr_75 = pd.DataFrame(result_rf_75_pscr, columns=['RF_pscr_75'])\n",
        "RF_separate_pscr_75.index.name = 'item_id'"
      ],
      "metadata": {
        "id": "JfPwcre6rD1N"
      },
      "execution_count": null,
      "outputs": []
    },
    {
      "cell_type": "markdown",
      "source": [
        "# rf for 50% service level\n",
        "\n",
        "## randomized search\n",
        "*   an empty list is created for every type of hyperparameter\n",
        "*   in a for-loop the randomized search is executed for every item with cu and co of alpha = 0,5\n",
        "*   the best hyperparams are calculated and added to the corresponding list"
      ],
      "metadata": {
        "id": "NEqdZoESrKWV"
      }
    },
    {
      "cell_type": "code",
      "source": [
        "best_param_maxd_50 = []\n",
        "best_param_nest_50 = []\n",
        "best_param_minsl_50 = []\n",
        "\n",
        "for prod in prods:\n",
        "  \n",
        "  cu = X_train.loc[prod]['sell_price'].mean()\n",
        "  co_50 = ((cu-(0.50*cu))/0.50)\n",
        "  rf = RandomForestWeightedNewsvendor(cu = cu, co = co_50, random_state = 42, criterion = 'mse')\n",
        "\n",
        "  random = RandomizedSearchCV(rf, param_random, cv=5, scoring = scorer_avc)\n",
        "  random.fit(X_train.loc[prod], Y_train.loc[prod])\n",
        "    \n",
        "  maxd = random.best_params_.get('max_depth')\n",
        "  nest = random.best_params_.get('n_estimators')\n",
        "  minsl = random.best_params_.get('min_samples_leaf')\n",
        "\n",
        "  best_param_maxd_50.append(maxd)\n",
        "  best_param_nest_50.append(nest)\n",
        "  best_param_minsl_50.append(minsl)"
      ],
      "metadata": {
        "id": "1nmyAA8Hr5I3"
      },
      "execution_count": null,
      "outputs": []
    },
    {
      "cell_type": "markdown",
      "source": [
        "## Newsvendor-Model\n",
        "*   the data-driven newsvendor model is executed in a loop for every single item (with optimal hyperparameters)\n",
        "*   the average_costs for every item are calculated (later the prescritiveness score will be used for better comparability)"
      ],
      "metadata": {
        "id": "LKoqUDkGsEpN"
      }
    },
    {
      "cell_type": "code",
      "source": [
        "result_rf_50_avc = []\n",
        "for prod in prods:\n",
        "  cu = X_train.loc[prod]['sell_price'].mean()\n",
        "  co_50 = ((cu-(0.50*cu))/0.50)\n",
        "  \n",
        "  rf = RandomForestWeightedNewsvendor(cu = cu, co = co_50, random_state = 42, criterion = 'mse',\n",
        "                                       max_depth = best_param_maxd_50[prod], n_estimators = best_param_nest_50[prod],\n",
        "                                       min_samples_leaf = best_param_minsl_50[prod])\n",
        "  rf.fit(X_train.loc[prod], Y_train.loc[prod])\n",
        "  preds = rf.predict(X_test.loc[prod])\n",
        "  \n",
        "  avc = round(average_costs(Y_test.loc[prod], preds, cu = cu, co = co_50),2)\n",
        "  result_rf_50_avc.append(avc)"
      ],
      "metadata": {
        "id": "X2dHcMTPsH44"
      },
      "execution_count": null,
      "outputs": []
    },
    {
      "cell_type": "code",
      "source": [
        "RF_separate_avc_50 = pd.DataFrame(result_rf_50_avc, columns=['RF_avc_50'])\n",
        "RF_separate_avc_50.index.name = 'item_id'"
      ],
      "metadata": {
        "id": "hnsDjZy7sZYi"
      },
      "execution_count": null,
      "outputs": []
    },
    {
      "cell_type": "code",
      "source": [
        "result_rf_50_pscr = []\n",
        "for prod in prods:\n",
        "  cu = X_train.loc[prod]['sell_price'].mean()\n",
        "  co_50 = ((cu-(0.50*cu))/0.50)\n",
        "  \n",
        "  rf = RandomForestWeightedNewsvendor(cu = cu, co = co_50, random_state = 42, criterion = 'mse',\n",
        "                                       max_depth = best_param_maxd_50[prod], n_estimators = best_param_nest_50[prod],\n",
        "                                       min_samples_leaf = best_param_minsl_50[prod])\n",
        "  rf.fit(X_train.loc[prod], Y_train.loc[prod])\n",
        "  preds_rf = rf.predict(X_test.loc[prod])\n",
        "\n",
        "\n",
        "  saa = SampleAverageApproximationNewsvendor(cu = cu, co = co_50)\n",
        "  saa.fit(Y_train.loc[prod])\n",
        "  preds_saa = saa.predict(n_steps = 508)\n",
        "  \n",
        "  pscr = prescriptiveness_score(Y_test.loc[prod], preds_rf, preds_saa, cu = cu, co = co_50)\n",
        "  result_rf_50_pscr.append(pscr)"
      ],
      "metadata": {
        "id": "wVPwvHZYsgtE"
      },
      "execution_count": null,
      "outputs": []
    },
    {
      "cell_type": "code",
      "source": [
        "RF_separate_pscr_50 = pd.DataFrame(result_rf_50_pscr, columns=['RF_pscr_50'])\n",
        "RF_separate_pscr_50.index.name = 'item_id'"
      ],
      "metadata": {
        "id": "up9bUfKmstPA"
      },
      "execution_count": null,
      "outputs": []
    },
    {
      "cell_type": "markdown",
      "source": [
        "# Merging"
      ],
      "metadata": {
        "id": "xLmP4OkEszsb"
      }
    },
    {
      "cell_type": "code",
      "source": [
        "RF_separated_avc = pd.concat([RF_separate_avc_95, RF_separate_avc_90, RF_separate_avc_75, RF_separate_avc_50], axis=1)\n",
        "RF_separated_avc"
      ],
      "metadata": {
        "colab": {
          "base_uri": "https://localhost:8080/",
          "height": 865
        },
        "id": "lAVb-pPGs_Os",
        "outputId": "a56c4e4e-1e1c-4267-f4ee-13458b4bf1c1"
      },
      "execution_count": null,
      "outputs": [
        {
          "output_type": "execute_result",
          "data": {
            "text/plain": [
              "         RF_avc_95  RF_avc_90  RF_avc_75  RF_avc_50\n",
              "item_id                                            \n",
              "0             0.58       1.04       2.33       4.01\n",
              "1             0.48       0.89       1.92       3.35\n",
              "2             1.21       2.12       4.44       7.44\n",
              "3             2.51       4.56      10.17      19.20\n",
              "4             1.05       1.93       4.27       8.17\n",
              "5             0.61       1.14       2.48       4.53\n",
              "6             0.68       1.28       2.78       5.09\n",
              "7             0.96       1.81       4.12       7.66\n",
              "8             0.48       0.86       1.89       3.53\n",
              "9             0.49       0.88       1.92       3.53\n",
              "10            1.99       3.27       6.55      11.75\n",
              "11            0.53       1.00       2.16       3.91\n",
              "12            0.79       1.35       2.97       5.84\n",
              "13            0.61       1.13       2.42       4.10\n",
              "14            1.04       1.98       4.30       8.31\n",
              "15            1.28       2.29       4.84       8.72\n",
              "16            0.33       0.61       1.39       2.60\n",
              "17            1.05       1.88       4.12       7.86\n",
              "18            1.83       3.23       6.89      12.97\n",
              "19            0.48       0.86       1.84       3.20\n",
              "20            0.77       1.46       3.26       6.02\n",
              "21            1.25       2.31       5.16       9.55\n",
              "22            1.87       3.46       7.73      13.54\n",
              "23            1.14       2.00       4.26       8.30\n",
              "24            1.43       2.51       5.47      10.05"
            ],
            "text/html": [
              "\n",
              "  <div id=\"df-8a8b8ca1-df66-4689-ae37-2b4600be8b18\">\n",
              "    <div class=\"colab-df-container\">\n",
              "      <div>\n",
              "<style scoped>\n",
              "    .dataframe tbody tr th:only-of-type {\n",
              "        vertical-align: middle;\n",
              "    }\n",
              "\n",
              "    .dataframe tbody tr th {\n",
              "        vertical-align: top;\n",
              "    }\n",
              "\n",
              "    .dataframe thead th {\n",
              "        text-align: right;\n",
              "    }\n",
              "</style>\n",
              "<table border=\"1\" class=\"dataframe\">\n",
              "  <thead>\n",
              "    <tr style=\"text-align: right;\">\n",
              "      <th></th>\n",
              "      <th>RF_avc_95</th>\n",
              "      <th>RF_avc_90</th>\n",
              "      <th>RF_avc_75</th>\n",
              "      <th>RF_avc_50</th>\n",
              "    </tr>\n",
              "    <tr>\n",
              "      <th>item_id</th>\n",
              "      <th></th>\n",
              "      <th></th>\n",
              "      <th></th>\n",
              "      <th></th>\n",
              "    </tr>\n",
              "  </thead>\n",
              "  <tbody>\n",
              "    <tr>\n",
              "      <th>0</th>\n",
              "      <td>0.58</td>\n",
              "      <td>1.04</td>\n",
              "      <td>2.33</td>\n",
              "      <td>4.01</td>\n",
              "    </tr>\n",
              "    <tr>\n",
              "      <th>1</th>\n",
              "      <td>0.48</td>\n",
              "      <td>0.89</td>\n",
              "      <td>1.92</td>\n",
              "      <td>3.35</td>\n",
              "    </tr>\n",
              "    <tr>\n",
              "      <th>2</th>\n",
              "      <td>1.21</td>\n",
              "      <td>2.12</td>\n",
              "      <td>4.44</td>\n",
              "      <td>7.44</td>\n",
              "    </tr>\n",
              "    <tr>\n",
              "      <th>3</th>\n",
              "      <td>2.51</td>\n",
              "      <td>4.56</td>\n",
              "      <td>10.17</td>\n",
              "      <td>19.20</td>\n",
              "    </tr>\n",
              "    <tr>\n",
              "      <th>4</th>\n",
              "      <td>1.05</td>\n",
              "      <td>1.93</td>\n",
              "      <td>4.27</td>\n",
              "      <td>8.17</td>\n",
              "    </tr>\n",
              "    <tr>\n",
              "      <th>5</th>\n",
              "      <td>0.61</td>\n",
              "      <td>1.14</td>\n",
              "      <td>2.48</td>\n",
              "      <td>4.53</td>\n",
              "    </tr>\n",
              "    <tr>\n",
              "      <th>6</th>\n",
              "      <td>0.68</td>\n",
              "      <td>1.28</td>\n",
              "      <td>2.78</td>\n",
              "      <td>5.09</td>\n",
              "    </tr>\n",
              "    <tr>\n",
              "      <th>7</th>\n",
              "      <td>0.96</td>\n",
              "      <td>1.81</td>\n",
              "      <td>4.12</td>\n",
              "      <td>7.66</td>\n",
              "    </tr>\n",
              "    <tr>\n",
              "      <th>8</th>\n",
              "      <td>0.48</td>\n",
              "      <td>0.86</td>\n",
              "      <td>1.89</td>\n",
              "      <td>3.53</td>\n",
              "    </tr>\n",
              "    <tr>\n",
              "      <th>9</th>\n",
              "      <td>0.49</td>\n",
              "      <td>0.88</td>\n",
              "      <td>1.92</td>\n",
              "      <td>3.53</td>\n",
              "    </tr>\n",
              "    <tr>\n",
              "      <th>10</th>\n",
              "      <td>1.99</td>\n",
              "      <td>3.27</td>\n",
              "      <td>6.55</td>\n",
              "      <td>11.75</td>\n",
              "    </tr>\n",
              "    <tr>\n",
              "      <th>11</th>\n",
              "      <td>0.53</td>\n",
              "      <td>1.00</td>\n",
              "      <td>2.16</td>\n",
              "      <td>3.91</td>\n",
              "    </tr>\n",
              "    <tr>\n",
              "      <th>12</th>\n",
              "      <td>0.79</td>\n",
              "      <td>1.35</td>\n",
              "      <td>2.97</td>\n",
              "      <td>5.84</td>\n",
              "    </tr>\n",
              "    <tr>\n",
              "      <th>13</th>\n",
              "      <td>0.61</td>\n",
              "      <td>1.13</td>\n",
              "      <td>2.42</td>\n",
              "      <td>4.10</td>\n",
              "    </tr>\n",
              "    <tr>\n",
              "      <th>14</th>\n",
              "      <td>1.04</td>\n",
              "      <td>1.98</td>\n",
              "      <td>4.30</td>\n",
              "      <td>8.31</td>\n",
              "    </tr>\n",
              "    <tr>\n",
              "      <th>15</th>\n",
              "      <td>1.28</td>\n",
              "      <td>2.29</td>\n",
              "      <td>4.84</td>\n",
              "      <td>8.72</td>\n",
              "    </tr>\n",
              "    <tr>\n",
              "      <th>16</th>\n",
              "      <td>0.33</td>\n",
              "      <td>0.61</td>\n",
              "      <td>1.39</td>\n",
              "      <td>2.60</td>\n",
              "    </tr>\n",
              "    <tr>\n",
              "      <th>17</th>\n",
              "      <td>1.05</td>\n",
              "      <td>1.88</td>\n",
              "      <td>4.12</td>\n",
              "      <td>7.86</td>\n",
              "    </tr>\n",
              "    <tr>\n",
              "      <th>18</th>\n",
              "      <td>1.83</td>\n",
              "      <td>3.23</td>\n",
              "      <td>6.89</td>\n",
              "      <td>12.97</td>\n",
              "    </tr>\n",
              "    <tr>\n",
              "      <th>19</th>\n",
              "      <td>0.48</td>\n",
              "      <td>0.86</td>\n",
              "      <td>1.84</td>\n",
              "      <td>3.20</td>\n",
              "    </tr>\n",
              "    <tr>\n",
              "      <th>20</th>\n",
              "      <td>0.77</td>\n",
              "      <td>1.46</td>\n",
              "      <td>3.26</td>\n",
              "      <td>6.02</td>\n",
              "    </tr>\n",
              "    <tr>\n",
              "      <th>21</th>\n",
              "      <td>1.25</td>\n",
              "      <td>2.31</td>\n",
              "      <td>5.16</td>\n",
              "      <td>9.55</td>\n",
              "    </tr>\n",
              "    <tr>\n",
              "      <th>22</th>\n",
              "      <td>1.87</td>\n",
              "      <td>3.46</td>\n",
              "      <td>7.73</td>\n",
              "      <td>13.54</td>\n",
              "    </tr>\n",
              "    <tr>\n",
              "      <th>23</th>\n",
              "      <td>1.14</td>\n",
              "      <td>2.00</td>\n",
              "      <td>4.26</td>\n",
              "      <td>8.30</td>\n",
              "    </tr>\n",
              "    <tr>\n",
              "      <th>24</th>\n",
              "      <td>1.43</td>\n",
              "      <td>2.51</td>\n",
              "      <td>5.47</td>\n",
              "      <td>10.05</td>\n",
              "    </tr>\n",
              "  </tbody>\n",
              "</table>\n",
              "</div>\n",
              "      <button class=\"colab-df-convert\" onclick=\"convertToInteractive('df-8a8b8ca1-df66-4689-ae37-2b4600be8b18')\"\n",
              "              title=\"Convert this dataframe to an interactive table.\"\n",
              "              style=\"display:none;\">\n",
              "        \n",
              "  <svg xmlns=\"http://www.w3.org/2000/svg\" height=\"24px\"viewBox=\"0 0 24 24\"\n",
              "       width=\"24px\">\n",
              "    <path d=\"M0 0h24v24H0V0z\" fill=\"none\"/>\n",
              "    <path d=\"M18.56 5.44l.94 2.06.94-2.06 2.06-.94-2.06-.94-.94-2.06-.94 2.06-2.06.94zm-11 1L8.5 8.5l.94-2.06 2.06-.94-2.06-.94L8.5 2.5l-.94 2.06-2.06.94zm10 10l.94 2.06.94-2.06 2.06-.94-2.06-.94-.94-2.06-.94 2.06-2.06.94z\"/><path d=\"M17.41 7.96l-1.37-1.37c-.4-.4-.92-.59-1.43-.59-.52 0-1.04.2-1.43.59L10.3 9.45l-7.72 7.72c-.78.78-.78 2.05 0 2.83L4 21.41c.39.39.9.59 1.41.59.51 0 1.02-.2 1.41-.59l7.78-7.78 2.81-2.81c.8-.78.8-2.07 0-2.86zM5.41 20L4 18.59l7.72-7.72 1.47 1.35L5.41 20z\"/>\n",
              "  </svg>\n",
              "      </button>\n",
              "      \n",
              "  <style>\n",
              "    .colab-df-container {\n",
              "      display:flex;\n",
              "      flex-wrap:wrap;\n",
              "      gap: 12px;\n",
              "    }\n",
              "\n",
              "    .colab-df-convert {\n",
              "      background-color: #E8F0FE;\n",
              "      border: none;\n",
              "      border-radius: 50%;\n",
              "      cursor: pointer;\n",
              "      display: none;\n",
              "      fill: #1967D2;\n",
              "      height: 32px;\n",
              "      padding: 0 0 0 0;\n",
              "      width: 32px;\n",
              "    }\n",
              "\n",
              "    .colab-df-convert:hover {\n",
              "      background-color: #E2EBFA;\n",
              "      box-shadow: 0px 1px 2px rgba(60, 64, 67, 0.3), 0px 1px 3px 1px rgba(60, 64, 67, 0.15);\n",
              "      fill: #174EA6;\n",
              "    }\n",
              "\n",
              "    [theme=dark] .colab-df-convert {\n",
              "      background-color: #3B4455;\n",
              "      fill: #D2E3FC;\n",
              "    }\n",
              "\n",
              "    [theme=dark] .colab-df-convert:hover {\n",
              "      background-color: #434B5C;\n",
              "      box-shadow: 0px 1px 3px 1px rgba(0, 0, 0, 0.15);\n",
              "      filter: drop-shadow(0px 1px 2px rgba(0, 0, 0, 0.3));\n",
              "      fill: #FFFFFF;\n",
              "    }\n",
              "  </style>\n",
              "\n",
              "      <script>\n",
              "        const buttonEl =\n",
              "          document.querySelector('#df-8a8b8ca1-df66-4689-ae37-2b4600be8b18 button.colab-df-convert');\n",
              "        buttonEl.style.display =\n",
              "          google.colab.kernel.accessAllowed ? 'block' : 'none';\n",
              "\n",
              "        async function convertToInteractive(key) {\n",
              "          const element = document.querySelector('#df-8a8b8ca1-df66-4689-ae37-2b4600be8b18');\n",
              "          const dataTable =\n",
              "            await google.colab.kernel.invokeFunction('convertToInteractive',\n",
              "                                                     [key], {});\n",
              "          if (!dataTable) return;\n",
              "\n",
              "          const docLinkHtml = 'Like what you see? Visit the ' +\n",
              "            '<a target=\"_blank\" href=https://colab.research.google.com/notebooks/data_table.ipynb>data table notebook</a>'\n",
              "            + ' to learn more about interactive tables.';\n",
              "          element.innerHTML = '';\n",
              "          dataTable['output_type'] = 'display_data';\n",
              "          await google.colab.output.renderOutput(dataTable, element);\n",
              "          const docLink = document.createElement('div');\n",
              "          docLink.innerHTML = docLinkHtml;\n",
              "          element.appendChild(docLink);\n",
              "        }\n",
              "      </script>\n",
              "    </div>\n",
              "  </div>\n",
              "  "
            ]
          },
          "metadata": {},
          "execution_count": 107
        }
      ]
    },
    {
      "cell_type": "code",
      "source": [
        "RF_separated_pscr = pd.concat([RF_separate_pscr_95, RF_separate_pscr_90, RF_separate_pscr_75, RF_separate_pscr_50], axis=1)\n",
        "RF_separated_pscr"
      ],
      "metadata": {
        "colab": {
          "base_uri": "https://localhost:8080/",
          "height": 865
        },
        "id": "0gdg8ahvtMoH",
        "outputId": "d7beb762-87dc-4113-d7bc-8f15698a79d2"
      },
      "execution_count": null,
      "outputs": [
        {
          "output_type": "execute_result",
          "data": {
            "text/plain": [
              "         RF_pscr_95  RF_pscr_90  RF_pscr_75  RF_pscr_50\n",
              "item_id                                                \n",
              "0          0.428485    0.391692    0.325187    0.309254\n",
              "1          0.515553    0.523653    0.481219    0.433511\n",
              "2          0.261248    0.215333    0.154172    0.142922\n",
              "3          0.694329    0.677797    0.630826    0.540158\n",
              "4          0.414564    0.355018    0.263669    0.217244\n",
              "5          0.444215    0.408348    0.373841    0.247712\n",
              "6          0.511927    0.469538    0.466339    0.417958\n",
              "7          0.493121    0.425091    0.267675    0.184004\n",
              "8          0.434749    0.395269    0.312476    0.256377\n",
              "9          0.378008    0.337024    0.341549    0.274684\n",
              "10         0.444179    0.447786    0.425394    0.389799\n",
              "11         0.388127    0.332257    0.293121    0.264757\n",
              "12         0.456870    0.478520    0.439729    0.371684\n",
              "13         0.586438    0.542265    0.461203    0.339015\n",
              "14         0.285407    0.266920    0.250592    0.271813\n",
              "15         0.282953    0.253517    0.219051    0.171165\n",
              "16         0.319795    0.286918    0.202254    0.122642\n",
              "17         0.421307    0.367427    0.313890    0.257567\n",
              "18         0.481247    0.479770    0.469518    0.427815\n",
              "19         0.330298    0.354204    0.281844    0.187056\n",
              "20         0.546432    0.502653    0.480779    0.422607\n",
              "21         0.359767    0.308509    0.206036    0.177444\n",
              "22         0.629984    0.577957    0.479470    0.384780\n",
              "23         0.531486    0.514980    0.470704    0.398025\n",
              "24         0.371626    0.348753    0.277431    0.295847"
            ],
            "text/html": [
              "\n",
              "  <div id=\"df-4d39a88d-b3c2-4411-9a75-b8707e9feaa7\">\n",
              "    <div class=\"colab-df-container\">\n",
              "      <div>\n",
              "<style scoped>\n",
              "    .dataframe tbody tr th:only-of-type {\n",
              "        vertical-align: middle;\n",
              "    }\n",
              "\n",
              "    .dataframe tbody tr th {\n",
              "        vertical-align: top;\n",
              "    }\n",
              "\n",
              "    .dataframe thead th {\n",
              "        text-align: right;\n",
              "    }\n",
              "</style>\n",
              "<table border=\"1\" class=\"dataframe\">\n",
              "  <thead>\n",
              "    <tr style=\"text-align: right;\">\n",
              "      <th></th>\n",
              "      <th>RF_pscr_95</th>\n",
              "      <th>RF_pscr_90</th>\n",
              "      <th>RF_pscr_75</th>\n",
              "      <th>RF_pscr_50</th>\n",
              "    </tr>\n",
              "    <tr>\n",
              "      <th>item_id</th>\n",
              "      <th></th>\n",
              "      <th></th>\n",
              "      <th></th>\n",
              "      <th></th>\n",
              "    </tr>\n",
              "  </thead>\n",
              "  <tbody>\n",
              "    <tr>\n",
              "      <th>0</th>\n",
              "      <td>0.428485</td>\n",
              "      <td>0.391692</td>\n",
              "      <td>0.325187</td>\n",
              "      <td>0.309254</td>\n",
              "    </tr>\n",
              "    <tr>\n",
              "      <th>1</th>\n",
              "      <td>0.515553</td>\n",
              "      <td>0.523653</td>\n",
              "      <td>0.481219</td>\n",
              "      <td>0.433511</td>\n",
              "    </tr>\n",
              "    <tr>\n",
              "      <th>2</th>\n",
              "      <td>0.261248</td>\n",
              "      <td>0.215333</td>\n",
              "      <td>0.154172</td>\n",
              "      <td>0.142922</td>\n",
              "    </tr>\n",
              "    <tr>\n",
              "      <th>3</th>\n",
              "      <td>0.694329</td>\n",
              "      <td>0.677797</td>\n",
              "      <td>0.630826</td>\n",
              "      <td>0.540158</td>\n",
              "    </tr>\n",
              "    <tr>\n",
              "      <th>4</th>\n",
              "      <td>0.414564</td>\n",
              "      <td>0.355018</td>\n",
              "      <td>0.263669</td>\n",
              "      <td>0.217244</td>\n",
              "    </tr>\n",
              "    <tr>\n",
              "      <th>5</th>\n",
              "      <td>0.444215</td>\n",
              "      <td>0.408348</td>\n",
              "      <td>0.373841</td>\n",
              "      <td>0.247712</td>\n",
              "    </tr>\n",
              "    <tr>\n",
              "      <th>6</th>\n",
              "      <td>0.511927</td>\n",
              "      <td>0.469538</td>\n",
              "      <td>0.466339</td>\n",
              "      <td>0.417958</td>\n",
              "    </tr>\n",
              "    <tr>\n",
              "      <th>7</th>\n",
              "      <td>0.493121</td>\n",
              "      <td>0.425091</td>\n",
              "      <td>0.267675</td>\n",
              "      <td>0.184004</td>\n",
              "    </tr>\n",
              "    <tr>\n",
              "      <th>8</th>\n",
              "      <td>0.434749</td>\n",
              "      <td>0.395269</td>\n",
              "      <td>0.312476</td>\n",
              "      <td>0.256377</td>\n",
              "    </tr>\n",
              "    <tr>\n",
              "      <th>9</th>\n",
              "      <td>0.378008</td>\n",
              "      <td>0.337024</td>\n",
              "      <td>0.341549</td>\n",
              "      <td>0.274684</td>\n",
              "    </tr>\n",
              "    <tr>\n",
              "      <th>10</th>\n",
              "      <td>0.444179</td>\n",
              "      <td>0.447786</td>\n",
              "      <td>0.425394</td>\n",
              "      <td>0.389799</td>\n",
              "    </tr>\n",
              "    <tr>\n",
              "      <th>11</th>\n",
              "      <td>0.388127</td>\n",
              "      <td>0.332257</td>\n",
              "      <td>0.293121</td>\n",
              "      <td>0.264757</td>\n",
              "    </tr>\n",
              "    <tr>\n",
              "      <th>12</th>\n",
              "      <td>0.456870</td>\n",
              "      <td>0.478520</td>\n",
              "      <td>0.439729</td>\n",
              "      <td>0.371684</td>\n",
              "    </tr>\n",
              "    <tr>\n",
              "      <th>13</th>\n",
              "      <td>0.586438</td>\n",
              "      <td>0.542265</td>\n",
              "      <td>0.461203</td>\n",
              "      <td>0.339015</td>\n",
              "    </tr>\n",
              "    <tr>\n",
              "      <th>14</th>\n",
              "      <td>0.285407</td>\n",
              "      <td>0.266920</td>\n",
              "      <td>0.250592</td>\n",
              "      <td>0.271813</td>\n",
              "    </tr>\n",
              "    <tr>\n",
              "      <th>15</th>\n",
              "      <td>0.282953</td>\n",
              "      <td>0.253517</td>\n",
              "      <td>0.219051</td>\n",
              "      <td>0.171165</td>\n",
              "    </tr>\n",
              "    <tr>\n",
              "      <th>16</th>\n",
              "      <td>0.319795</td>\n",
              "      <td>0.286918</td>\n",
              "      <td>0.202254</td>\n",
              "      <td>0.122642</td>\n",
              "    </tr>\n",
              "    <tr>\n",
              "      <th>17</th>\n",
              "      <td>0.421307</td>\n",
              "      <td>0.367427</td>\n",
              "      <td>0.313890</td>\n",
              "      <td>0.257567</td>\n",
              "    </tr>\n",
              "    <tr>\n",
              "      <th>18</th>\n",
              "      <td>0.481247</td>\n",
              "      <td>0.479770</td>\n",
              "      <td>0.469518</td>\n",
              "      <td>0.427815</td>\n",
              "    </tr>\n",
              "    <tr>\n",
              "      <th>19</th>\n",
              "      <td>0.330298</td>\n",
              "      <td>0.354204</td>\n",
              "      <td>0.281844</td>\n",
              "      <td>0.187056</td>\n",
              "    </tr>\n",
              "    <tr>\n",
              "      <th>20</th>\n",
              "      <td>0.546432</td>\n",
              "      <td>0.502653</td>\n",
              "      <td>0.480779</td>\n",
              "      <td>0.422607</td>\n",
              "    </tr>\n",
              "    <tr>\n",
              "      <th>21</th>\n",
              "      <td>0.359767</td>\n",
              "      <td>0.308509</td>\n",
              "      <td>0.206036</td>\n",
              "      <td>0.177444</td>\n",
              "    </tr>\n",
              "    <tr>\n",
              "      <th>22</th>\n",
              "      <td>0.629984</td>\n",
              "      <td>0.577957</td>\n",
              "      <td>0.479470</td>\n",
              "      <td>0.384780</td>\n",
              "    </tr>\n",
              "    <tr>\n",
              "      <th>23</th>\n",
              "      <td>0.531486</td>\n",
              "      <td>0.514980</td>\n",
              "      <td>0.470704</td>\n",
              "      <td>0.398025</td>\n",
              "    </tr>\n",
              "    <tr>\n",
              "      <th>24</th>\n",
              "      <td>0.371626</td>\n",
              "      <td>0.348753</td>\n",
              "      <td>0.277431</td>\n",
              "      <td>0.295847</td>\n",
              "    </tr>\n",
              "  </tbody>\n",
              "</table>\n",
              "</div>\n",
              "      <button class=\"colab-df-convert\" onclick=\"convertToInteractive('df-4d39a88d-b3c2-4411-9a75-b8707e9feaa7')\"\n",
              "              title=\"Convert this dataframe to an interactive table.\"\n",
              "              style=\"display:none;\">\n",
              "        \n",
              "  <svg xmlns=\"http://www.w3.org/2000/svg\" height=\"24px\"viewBox=\"0 0 24 24\"\n",
              "       width=\"24px\">\n",
              "    <path d=\"M0 0h24v24H0V0z\" fill=\"none\"/>\n",
              "    <path d=\"M18.56 5.44l.94 2.06.94-2.06 2.06-.94-2.06-.94-.94-2.06-.94 2.06-2.06.94zm-11 1L8.5 8.5l.94-2.06 2.06-.94-2.06-.94L8.5 2.5l-.94 2.06-2.06.94zm10 10l.94 2.06.94-2.06 2.06-.94-2.06-.94-.94-2.06-.94 2.06-2.06.94z\"/><path d=\"M17.41 7.96l-1.37-1.37c-.4-.4-.92-.59-1.43-.59-.52 0-1.04.2-1.43.59L10.3 9.45l-7.72 7.72c-.78.78-.78 2.05 0 2.83L4 21.41c.39.39.9.59 1.41.59.51 0 1.02-.2 1.41-.59l7.78-7.78 2.81-2.81c.8-.78.8-2.07 0-2.86zM5.41 20L4 18.59l7.72-7.72 1.47 1.35L5.41 20z\"/>\n",
              "  </svg>\n",
              "      </button>\n",
              "      \n",
              "  <style>\n",
              "    .colab-df-container {\n",
              "      display:flex;\n",
              "      flex-wrap:wrap;\n",
              "      gap: 12px;\n",
              "    }\n",
              "\n",
              "    .colab-df-convert {\n",
              "      background-color: #E8F0FE;\n",
              "      border: none;\n",
              "      border-radius: 50%;\n",
              "      cursor: pointer;\n",
              "      display: none;\n",
              "      fill: #1967D2;\n",
              "      height: 32px;\n",
              "      padding: 0 0 0 0;\n",
              "      width: 32px;\n",
              "    }\n",
              "\n",
              "    .colab-df-convert:hover {\n",
              "      background-color: #E2EBFA;\n",
              "      box-shadow: 0px 1px 2px rgba(60, 64, 67, 0.3), 0px 1px 3px 1px rgba(60, 64, 67, 0.15);\n",
              "      fill: #174EA6;\n",
              "    }\n",
              "\n",
              "    [theme=dark] .colab-df-convert {\n",
              "      background-color: #3B4455;\n",
              "      fill: #D2E3FC;\n",
              "    }\n",
              "\n",
              "    [theme=dark] .colab-df-convert:hover {\n",
              "      background-color: #434B5C;\n",
              "      box-shadow: 0px 1px 3px 1px rgba(0, 0, 0, 0.15);\n",
              "      filter: drop-shadow(0px 1px 2px rgba(0, 0, 0, 0.3));\n",
              "      fill: #FFFFFF;\n",
              "    }\n",
              "  </style>\n",
              "\n",
              "      <script>\n",
              "        const buttonEl =\n",
              "          document.querySelector('#df-4d39a88d-b3c2-4411-9a75-b8707e9feaa7 button.colab-df-convert');\n",
              "        buttonEl.style.display =\n",
              "          google.colab.kernel.accessAllowed ? 'block' : 'none';\n",
              "\n",
              "        async function convertToInteractive(key) {\n",
              "          const element = document.querySelector('#df-4d39a88d-b3c2-4411-9a75-b8707e9feaa7');\n",
              "          const dataTable =\n",
              "            await google.colab.kernel.invokeFunction('convertToInteractive',\n",
              "                                                     [key], {});\n",
              "          if (!dataTable) return;\n",
              "\n",
              "          const docLinkHtml = 'Like what you see? Visit the ' +\n",
              "            '<a target=\"_blank\" href=https://colab.research.google.com/notebooks/data_table.ipynb>data table notebook</a>'\n",
              "            + ' to learn more about interactive tables.';\n",
              "          element.innerHTML = '';\n",
              "          dataTable['output_type'] = 'display_data';\n",
              "          await google.colab.output.renderOutput(dataTable, element);\n",
              "          const docLink = document.createElement('div');\n",
              "          docLink.innerHTML = docLinkHtml;\n",
              "          element.appendChild(docLink);\n",
              "        }\n",
              "      </script>\n",
              "    </div>\n",
              "  </div>\n",
              "  "
            ]
          },
          "metadata": {},
          "execution_count": 108
        }
      ]
    },
    {
      "cell_type": "markdown",
      "source": [
        "# Saving Files"
      ],
      "metadata": {
        "id": "2v-eDvtKtWvz"
      }
    },
    {
      "cell_type": "code",
      "source": [
        "RF_separated_avc.to_csv('/content/drive/MyDrive/M5/RF_separated_avc.csv')\n",
        "\n",
        "RF_separated_pscr.to_csv('/content/drive/MyDrive/M5/RF_separated_pscr.csv')"
      ],
      "metadata": {
        "id": "Cyk-zDHHtV3b"
      },
      "execution_count": null,
      "outputs": []
    }
  ]
}
