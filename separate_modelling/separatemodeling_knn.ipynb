{
  "nbformat": 4,
  "nbformat_minor": 0,
  "metadata": {
    "colab": {
      "name": "separatemodeling_knn.ipynb",
      "provenance": [],
      "collapsed_sections": [],
      "authorship_tag": "ABX9TyOCKlENO018TLIX9wcpfbfF",
      "include_colab_link": true
    },
    "kernelspec": {
      "name": "python3",
      "display_name": "Python 3"
    },
    "language_info": {
      "name": "python"
    }
  },
  "cells": [
    {
      "cell_type": "markdown",
      "metadata": {
        "id": "view-in-github",
        "colab_type": "text"
      },
      "source": [
        "<a href=\"https://colab.research.google.com/github/lennart194/thesis-code/blob/main/separatemodeling_knn.ipynb\" target=\"_parent\"><img src=\"https://colab.research.google.com/assets/colab-badge.svg\" alt=\"Open In Colab\"/></a>"
      ]
    },
    {
      "cell_type": "code",
      "execution_count": null,
      "metadata": {
        "id": "n9ZLFuEOUN9v"
      },
      "outputs": [],
      "source": [
        "pip install ddop"
      ]
    },
    {
      "cell_type": "code",
      "source": [
        "import pandas as pd\n",
        "import numpy as np\n",
        "\n",
        "from ddop.newsvendor import KNeighborsWeightedNewsvendor\n",
        "from ddop.newsvendor import SampleAverageApproximationNewsvendor\n",
        "\n",
        "from sklearn.model_selection import RandomizedSearchCV\n",
        "\n",
        "from ddop.metrics import make_scorer\n",
        "from ddop.metrics import average_costs"
      ],
      "metadata": {
        "id": "OYmKv0juUkGH"
      },
      "execution_count": null,
      "outputs": []
    },
    {
      "cell_type": "code",
      "source": [
        "from google.colab import drive\n",
        "drive.mount('/content/drive')"
      ],
      "metadata": {
        "id": "vDdCaTHOUquf",
        "colab": {
          "base_uri": "https://localhost:8080/"
        },
        "outputId": "35ad4ecf-e330-4d3c-a2a8-b62584ddff7a"
      },
      "execution_count": null,
      "outputs": [
        {
          "output_type": "stream",
          "name": "stdout",
          "text": [
            "Mounted at /content/drive\n"
          ]
        }
      ]
    },
    {
      "cell_type": "markdown",
      "source": [
        "## Loading data-set\n",
        "\n",
        "*   load the whole ultimative set\n",
        "*   sort the rows first by item, then by date and set a multi index\n",
        "**now every items time series can be separated by the index**\n",
        "\n"
      ],
      "metadata": {
        "id": "ZU2CGOdq7Skw"
      }
    },
    {
      "cell_type": "code",
      "source": [
        "data = pd.read_csv('/content/drive/MyDrive/M5/ultimative_set.csv')\n",
        "data = data.drop(columns=['Unnamed: 0'])\n",
        "data = data.sort_values(by=['item_id', 'date'])\n",
        "data = data.set_index(['item_id', 'date'])"
      ],
      "metadata": {
        "id": "-Q8-sL7WWOBt"
      },
      "execution_count": null,
      "outputs": []
    },
    {
      "cell_type": "markdown",
      "source": [
        "## Split in feature and target matrix"
      ],
      "metadata": {
        "id": "AdU3tqls8U_Z"
      }
    },
    {
      "cell_type": "code",
      "source": [
        "X = data.drop(columns=['demand'])\n",
        "Y = data['demand']"
      ],
      "metadata": {
        "id": "MNFlcFzaM9l2"
      },
      "execution_count": null,
      "outputs": []
    },
    {
      "cell_type": "markdown",
      "source": [
        "## train_test_split"
      ],
      "metadata": {
        "id": "BAoE08UJ8nVr"
      }
    },
    {
      "cell_type": "code",
      "source": [
        "X_train = X.loc[(slice(None), slice(None, \"2015\")), :]\n",
        "X_test = X.loc[(slice(None), slice(\"2015\", '2017')), :]\n",
        "\n",
        "Y_train = Y.loc[(slice(None), slice(None, \"2015\"))]\n",
        "Y_test = Y.loc[(slice(None), slice(\"2015\", \"2017\"))]"
      ],
      "metadata": {
        "id": "vSj7lO81QKWX"
      },
      "execution_count": null,
      "outputs": []
    },
    {
      "cell_type": "markdown",
      "source": [
        "## Definition of the item_ids \n",
        "\n",
        "\n",
        "*   will be needed within the for loops later\n",
        "*   will contain all 25 products\n",
        "\n"
      ],
      "metadata": {
        "id": "yi51vfNA84_O"
      }
    },
    {
      "cell_type": "code",
      "source": [
        "prods = list(range(0,25))"
      ],
      "metadata": {
        "id": "8PcPp7EBii71"
      },
      "execution_count": null,
      "outputs": []
    },
    {
      "cell_type": "markdown",
      "source": [
        "## Determining some parameters\n",
        "*   the potential params and their values for randomized search are defined\n",
        "*   the estimator, the scorer and finally the whole grid is defined\n",
        "\n",
        "\n",
        "\n"
      ],
      "metadata": {
        "id": "X-8Jr66w_S67"
      }
    },
    {
      "cell_type": "code",
      "source": [
        "k = np.array([7, 20, 25, 30, 35, 40, 45, 50, 55, 60])\n",
        "param_random = dict(n_neighbors = k)\n",
        "\n",
        "scorer_avc = make_scorer(average_costs, greater_is_better=False)"
      ],
      "metadata": {
        "id": "zm1TSe9GohHw"
      },
      "execution_count": null,
      "outputs": []
    },
    {
      "cell_type": "markdown",
      "source": [
        "# knn for 95% service level\n",
        "\n",
        "## randomized search\n",
        "*   an empty list is created for every type of hyperparameter\n",
        "*   in a for-loop the randomized search is executed for every item with cu and co of alpha = 0,95\n",
        "*   the best hyperparams are calculated and added to the corresponding list\n",
        "\n",
        "\n"
      ],
      "metadata": {
        "id": "GdAVZI2lAjox"
      }
    },
    {
      "cell_type": "code",
      "source": [
        "best_param_k_95 = []\n",
        "for prod in prods:\n",
        "  \n",
        "  cu = X_train.loc[prod]['sell_price'].mean()\n",
        "  co_95 = ((cu-(0.95*cu))/0.95)\n",
        "  knn = KNeighborsWeightedNewsvendor(cu = cu, co = co_95)\n",
        "  \n",
        "  random = RandomizedSearchCV(knn, param_random, cv=5, scoring = scorer_avc)\n",
        "  random.fit(X_train.loc[prod], Y_train.loc[prod])\n",
        "  \n",
        "  k = next(iter(random.best_params_.items()))[1]\n",
        "  best_param_k_95.append(k)"
      ],
      "metadata": {
        "id": "A8Ab6L9TtgL6"
      },
      "execution_count": null,
      "outputs": []
    },
    {
      "cell_type": "markdown",
      "source": [
        "## Newsvendor-Model\n",
        "*   the data-driven newsvendor model is executed in a loop for every single item (with optimal hyperparameters)\n",
        "*   the average_costs for every item are calculated (later the prescritiveness score will be used for better comparability)\n",
        "\n"
      ],
      "metadata": {
        "id": "GkhDsPZGBRDr"
      }
    },
    {
      "cell_type": "code",
      "source": [
        "result_knn_95_avc = []\n",
        "for prod in prods:\n",
        "  cu = X_train.loc[prod]['sell_price'].mean()\n",
        "  co_95 = ((cu-(0.95*cu))/0.95)\n",
        "  \n",
        "  knn = KNeighborsWeightedNewsvendor(cu = cu, co = co_95, n_neighbors = best_param_k_95[prod])\n",
        "  knn.fit(X_train.loc[prod], Y_train.loc[prod])\n",
        "  preds = knn.predict(X_test.loc[prod])\n",
        "  avc = round(average_costs(Y_test.loc[prod], preds, cu = cu, co = co_95),2)\n",
        "  result_knn_95_avc.append(avc)"
      ],
      "metadata": {
        "id": "lcx5yX04nsJS"
      },
      "execution_count": null,
      "outputs": []
    },
    {
      "cell_type": "code",
      "source": [
        "KNN_separate_avc_95 = pd.DataFrame(result_knn_95_avc, columns=['KNN_avc_95'])\n",
        "KNN_separate_avc_95.index.name = 'item_id'"
      ],
      "metadata": {
        "id": "CiUlTTWzKDiI"
      },
      "execution_count": null,
      "outputs": []
    },
    {
      "cell_type": "code",
      "source": [
        "result_knn_95_pscr = []\n",
        "for prod in prods:\n",
        "  cu = X_train.loc[prod]['sell_price'].mean()\n",
        "  co_95 = ((cu-(0.95*cu))/0.95)\n",
        "  \n",
        "  knn = KNeighborsWeightedNewsvendor(cu = cu, co = co_95, n_neighbors = best_param_k_95[prod])\n",
        "  knn.fit(X_train.loc[prod], Y_train.loc[prod])\n",
        "  preds_knn = knn.predict(X_test.loc[prod])\n",
        "\n",
        "  saa = SampleAverageApproximationNewsvendor(cu = cu, co = co_95)\n",
        "  saa.fit(Y_train.loc[prod])\n",
        "  preds_saa = saa.predict(n_steps = 508)\n",
        "\n",
        "\n",
        "\n",
        "  pscr = prescriptiveness_score(Y_test.loc[prod], preds_knn, preds_saa ,cu = cu, co = co_95)\n",
        "  result_knn_95_pscr.append(pscr)"
      ],
      "metadata": {
        "id": "4eJgFGEoFOxR"
      },
      "execution_count": null,
      "outputs": []
    },
    {
      "cell_type": "code",
      "source": [
        "KNN_separate_pscr_95 = pd.DataFrame(result_knn_95_pscr, columns=['KNN_pscr_95'])\n",
        "KNN_separate_pscr_95.index.name = 'item_id'"
      ],
      "metadata": {
        "id": "VcsPHE5_HBqK"
      },
      "execution_count": null,
      "outputs": []
    },
    {
      "cell_type": "markdown",
      "source": [
        "# knn for 90% service level\n",
        "\n",
        "## randomized search\n",
        "*   an empty list is created for every type of hyperparameter\n",
        "*   in a for-loop the randomized search is executed for every item with cu and co of alpha = 0,90\n",
        "*   the best hyperparams are calculated and added to the corresponding list"
      ],
      "metadata": {
        "id": "OKL7cZBewqqG"
      }
    },
    {
      "cell_type": "code",
      "source": [
        "best_param_k_90 = []\n",
        "for prod in prods:\n",
        "  \n",
        "  cu = X_train.loc[prod]['sell_price'].mean()\n",
        "  co_90 = ((cu-(0.90*cu))/0.90)\n",
        "  knn = KNeighborsWeightedNewsvendor(cu = cu, co = co_90)\n",
        "  \n",
        "  random = RandomizedSearchCV(knn, param_random, cv=5, scoring = scorer_avc)\n",
        "  random.fit(X_train.loc[prod], Y_train.loc[prod])\n",
        "  \n",
        "  k = next(iter(random.best_params_.items()))[1]\n",
        "  best_param_k_90.append(k)"
      ],
      "metadata": {
        "id": "B0verj9Uw8Rt"
      },
      "execution_count": null,
      "outputs": []
    },
    {
      "cell_type": "markdown",
      "source": [
        "## Newsvendor-Model\n",
        "*   the data-driven newsvendor model is executed in a loop for every single item (with optimal hyperparameters)\n",
        "*   the average_costs for every item are calculated (later the prescritiveness score will be used for better comparability)"
      ],
      "metadata": {
        "id": "Zd3QzxvbxJD2"
      }
    },
    {
      "cell_type": "code",
      "source": [
        "result_knn_avc_90 = []\n",
        "for prod in prods:\n",
        "  cu = X_train.loc[prod]['sell_price'].mean()\n",
        "  co_90 = ((cu-(0.90*cu))/0.90)\n",
        "  \n",
        "  knn = KNeighborsWeightedNewsvendor(cu = cu, co = co_90, n_neighbors = best_param_k_90[prod])\n",
        "  knn.fit(X_train.loc[prod], Y_train.loc[prod])\n",
        "  preds = knn.predict(X_test.loc[prod])\n",
        "  avc = round(average_costs(Y_test.loc[prod], preds, cu = cu, co = co_90),2)\n",
        "  result_knn_avc_90.append(avc)"
      ],
      "metadata": {
        "id": "GSmgflC7xShV"
      },
      "execution_count": null,
      "outputs": []
    },
    {
      "cell_type": "code",
      "source": [
        "KNN_separate_avc_90 = pd.DataFrame(result_knn_avc_90, columns=['KNN_avc_90'])\n",
        "KNN_separate_avc_90.index.name = 'item_id'"
      ],
      "metadata": {
        "id": "PgC6iwVF5dgA"
      },
      "execution_count": null,
      "outputs": []
    },
    {
      "cell_type": "code",
      "source": [
        "result_knn_90_pscr = []\n",
        "for prod in prods:\n",
        "  cu = X_train.loc[prod]['sell_price'].mean()\n",
        "  co_95 = ((cu-(0.95*cu))/0.95)\n",
        "  \n",
        "  knn = KNeighborsWeightedNewsvendor(cu = cu, co = co_90, n_neighbors = best_param_k_90[prod])\n",
        "  knn.fit(X_train.loc[prod], Y_train.loc[prod])\n",
        "  preds_knn = knn.predict(X_test.loc[prod])\n",
        "\n",
        "  saa = SampleAverageApproximationNewsvendor(cu = cu, co = co_90)\n",
        "  saa.fit(Y_train.loc[prod])\n",
        "  preds_saa = saa.predict(n_steps = 508)\n",
        "\n",
        "\n",
        "\n",
        "  pscr = prescriptiveness_score(Y_test.loc[prod], preds_knn, preds_saa ,cu = cu, co = co_90)\n",
        "  result_knn_90_pscr.append(pscr)"
      ],
      "metadata": {
        "id": "DHNrU8VUQcR9"
      },
      "execution_count": null,
      "outputs": []
    },
    {
      "cell_type": "code",
      "source": [
        "KNN_separate_pscr_90 = pd.DataFrame(result_knn_90_pscr, columns=['KNN_pscr_90'])\n",
        "KNN_separate_pscr_90.index.name = 'item_id'"
      ],
      "metadata": {
        "id": "WRS3VR17Qo5Z"
      },
      "execution_count": null,
      "outputs": []
    },
    {
      "cell_type": "markdown",
      "source": [
        "# knn for 75% service level\n",
        "\n",
        "## randomized search\n",
        "*   an empty list is created for every type of hyperparameter\n",
        "*   in a for-loop the randomized search is executed for every item with cu and co of alpha = 0,75\n",
        "*   the best hyperparams are calculated and added to the corresponding list"
      ],
      "metadata": {
        "id": "DHPH9F7b6Y0i"
      }
    },
    {
      "cell_type": "code",
      "source": [
        "best_param_k_75 = []\n",
        "for prod in prods:\n",
        "  \n",
        "  cu = X_train.loc[prod]['sell_price'].mean()\n",
        "  co_75 = ((cu-(0.75*cu))/0.75)\n",
        "  knn = KNeighborsWeightedNewsvendor(cu = cu, co = co_75)\n",
        "  \n",
        "  random = RandomizedSearchCV(knn, param_random, cv=5, scoring = scorer_avc)\n",
        "  random.fit(X_train.loc[prod], Y_train.loc[prod])\n",
        "  \n",
        "  k = next(iter(random.best_params_.items()))[1]\n",
        "  best_param_k_75.append(k)"
      ],
      "metadata": {
        "id": "Zd1Em6Z96ccz"
      },
      "execution_count": null,
      "outputs": []
    },
    {
      "cell_type": "markdown",
      "source": [
        "## Newsvendor-Model\n",
        "*   the data-driven newsvendor model is executed in a loop for every single item (with optimal hyperparameters)\n",
        "*   the average_costs for every item are calculated (later the prescritiveness score will be used for better comparability)"
      ],
      "metadata": {
        "id": "mxRbaEpo6p0s"
      }
    },
    {
      "cell_type": "code",
      "source": [
        "result_knn_avc_75 = []\n",
        "for prod in prods:\n",
        "  cu = X_train.loc[prod]['sell_price'].mean()\n",
        "  co_75 = ((cu-(0.75*cu))/0.75)\n",
        "  \n",
        "  knn = KNeighborsWeightedNewsvendor(cu = cu, co = co_75, n_neighbors = best_param_k_75[prod])\n",
        "  knn.fit(X_train.loc[prod], Y_train.loc[prod])\n",
        "  preds = knn.predict(X_test.loc[prod])\n",
        "\n",
        "  avc = round(average_costs(Y_test.loc[prod], preds, cu = cu, co = co_75),2)\n",
        "  result_knn_avc_75.append(avc)"
      ],
      "metadata": {
        "id": "MlLoI9Nw6o5l"
      },
      "execution_count": null,
      "outputs": []
    },
    {
      "cell_type": "code",
      "source": [
        "KNN_separate_avc_75 = pd.DataFrame(result_knn_avc_75, columns=['KNN_avc_75'])\n",
        "KNN_separate_avc_75.index.name = 'item_id'"
      ],
      "metadata": {
        "id": "BK0RSdSTaq5A"
      },
      "execution_count": null,
      "outputs": []
    },
    {
      "cell_type": "code",
      "source": [
        "result_knn_75_pscr = []\n",
        "for prod in prods:\n",
        "  cu = X_train.loc[prod]['sell_price'].mean()\n",
        "  co_75 = ((cu-(0.75*cu))/0.75)\n",
        "  \n",
        "  knn = KNeighborsWeightedNewsvendor(cu = cu, co = co_75, n_neighbors = best_param_k_75[prod])\n",
        "  knn.fit(X_train.loc[prod], Y_train.loc[prod])\n",
        "  preds_knn = knn.predict(X_test.loc[prod])\n",
        "\n",
        "  saa = SampleAverageApproximationNewsvendor(cu = cu, co = co_75)\n",
        "  saa.fit(Y_train.loc[prod])\n",
        "  preds_saa = saa.predict(n_steps = 508)\n",
        "\n",
        "\n",
        "\n",
        "  pscr = prescriptiveness_score(Y_test.loc[prod], preds_knn, preds_saa ,cu = cu, co = co_75)\n",
        "  result_knn_75_pscr.append(pscr)"
      ],
      "metadata": {
        "id": "R7jegqSfa0pw"
      },
      "execution_count": null,
      "outputs": []
    },
    {
      "cell_type": "code",
      "source": [
        "KNN_separate_pscr_75 = pd.DataFrame(result_knn_75_pscr, columns=['KNN_pscr_75'])\n",
        "KNN_separate_pscr_75.index.name = 'item_id'"
      ],
      "metadata": {
        "id": "3CFPy7jcbXnx"
      },
      "execution_count": null,
      "outputs": []
    },
    {
      "cell_type": "markdown",
      "source": [
        "# knn for 50% service level\n",
        "\n",
        "## randomized search\n",
        "*   an empty list is created for every type of hyperparameter\n",
        "*   in a for-loop the randomized search is executed for every item with cu and co of alpha = 0,5\n",
        "*   the best hyperparams are calculated and added to the corresponding list"
      ],
      "metadata": {
        "id": "VXspbz1yb1nz"
      }
    },
    {
      "cell_type": "code",
      "source": [
        "best_param_k_50 = []\n",
        "for prod in prods:\n",
        "  \n",
        "  cu = X_train.loc[prod]['sell_price'].mean()\n",
        "  co_50 = ((cu-(0.50*cu))/0.50)\n",
        "  knn = KNeighborsWeightedNewsvendor(cu = cu, co = co_50)\n",
        "  \n",
        "  random = RandomizedSearchCV(knn, param_random, cv=5, scoring = scorer_avc)\n",
        "  random.fit(X_train.loc[prod], Y_train.loc[prod])\n",
        "  \n",
        "  k = next(iter(random.best_params_.items()))[1]\n",
        "  best_param_k_50.append(k)"
      ],
      "metadata": {
        "id": "zWBkyimCb0xE"
      },
      "execution_count": null,
      "outputs": []
    },
    {
      "cell_type": "markdown",
      "source": [
        "## Newsvendor-Model\n",
        "*   the data-driven newsvendor model is executed in a loop for every single item (with optimal hyperparameters)\n",
        "*   the average_costs for every item are calculated (later the prescritiveness score will be used for better comparability)"
      ],
      "metadata": {
        "id": "w73-j8bKcaxy"
      }
    },
    {
      "cell_type": "code",
      "source": [
        "result_knn_avc_50 = []\n",
        "for prod in prods:\n",
        "  cu = X_train.loc[prod]['sell_price'].mean()\n",
        "  co_50 = ((cu-(0.50*cu))/0.50)\n",
        "  \n",
        "  knn = KNeighborsWeightedNewsvendor(cu = cu, co = co_50, n_neighbors = best_param_k_50[prod])\n",
        "  knn.fit(X_train.loc[prod], Y_train.loc[prod])\n",
        "  preds = knn.predict(X_test.loc[prod])\n",
        "\n",
        "  avc = round(average_costs(Y_test.loc[prod], preds, cu = cu, co = co_50),2)\n",
        "  result_knn_avc_50.append(avc)"
      ],
      "metadata": {
        "id": "DGLsxN-XcaMa"
      },
      "execution_count": null,
      "outputs": []
    },
    {
      "cell_type": "code",
      "source": [
        "KNN_separate_avc_50 = pd.DataFrame(result_knn_avc_50, columns=['KNN_avc_50'])\n",
        "KNN_separate_avc_50.index.name = 'item_id'"
      ],
      "metadata": {
        "id": "wV9UOfIGc7az"
      },
      "execution_count": null,
      "outputs": []
    },
    {
      "cell_type": "code",
      "source": [
        "result_knn_50_pscr = []\n",
        "for prod in prods:\n",
        "  cu = X_train.loc[prod]['sell_price'].mean()\n",
        "  co_50 = ((cu-(0.50*cu))/0.50)\n",
        "  \n",
        "  knn = KNeighborsWeightedNewsvendor(cu = cu, co = co_50, n_neighbors = best_param_k_50[prod])\n",
        "  knn.fit(X_train.loc[prod], Y_train.loc[prod])\n",
        "  preds_knn = knn.predict(X_test.loc[prod])\n",
        "\n",
        "  saa = SampleAverageApproximationNewsvendor(cu = cu, co = co_50)\n",
        "  saa.fit(Y_train.loc[prod])\n",
        "  preds_saa = saa.predict(n_steps = 508)\n",
        "\n",
        "\n",
        "\n",
        "  pscr = prescriptiveness_score(Y_test.loc[prod], preds_knn, preds_saa ,cu = cu, co = co_50)\n",
        "  result_knn_50_pscr.append(pscr)"
      ],
      "metadata": {
        "id": "uDQXGaJqdG-G"
      },
      "execution_count": null,
      "outputs": []
    },
    {
      "cell_type": "code",
      "source": [
        "KNN_separate_pscr_50 = pd.DataFrame(result_knn_50_pscr, columns=['KNN_pscr_50'])\n",
        "KNN_separate_pscr_50.index.name = 'item_id'"
      ],
      "metadata": {
        "id": "guSoZG2ZdSoe"
      },
      "execution_count": null,
      "outputs": []
    },
    {
      "cell_type": "markdown",
      "source": [
        "# Merging"
      ],
      "metadata": {
        "id": "z6C88HVFdZHR"
      }
    },
    {
      "cell_type": "code",
      "source": [
        "KNN_separated_avc = pd.concat([KNN_separate_avc_95, KNN_separate_avc_90, KNN_separate_avc_75, KNN_separate_avc_50], axis=1)\n",
        "KNN_separated_avc"
      ],
      "metadata": {
        "colab": {
          "base_uri": "https://localhost:8080/",
          "height": 865
        },
        "id": "IfGe--uAdcUo",
        "outputId": "ff680852-fd67-4782-c870-3564abae09b6"
      },
      "execution_count": null,
      "outputs": [
        {
          "output_type": "execute_result",
          "data": {
            "text/plain": [
              "         KNN_avc_95  KNN_avc_90  KNN_avc_75  KNN_avc_50\n",
              "item_id                                                \n",
              "0              0.61        1.12        2.53        4.34\n",
              "1              0.51        0.92        2.01        3.37\n",
              "2              1.04        2.03        4.36        7.55\n",
              "3              2.74        5.22       11.54       20.82\n",
              "4              1.20        2.14        4.69        8.83\n",
              "5              0.64        1.23        2.86        5.04\n",
              "6              0.70        1.29        2.83        5.08\n",
              "7              0.98        1.85        4.28        7.92\n",
              "8              0.49        0.92        2.02        3.74\n",
              "9              0.51        0.97        2.04        3.79\n",
              "10             2.19        4.10        9.01       16.03\n",
              "11             0.56        1.01        2.21        3.96\n",
              "12             0.91        1.55        3.47        6.43\n",
              "13             0.62        1.12        2.50        4.24\n",
              "14             1.07        2.06        4.69        8.46\n",
              "15             1.34        2.53        5.54        9.60\n",
              "16             0.33        0.62        1.45        2.67\n",
              "17             1.19        2.25        5.05        9.49\n",
              "18             2.62        5.06       10.91       19.09\n",
              "19             0.46        0.81        1.84        3.21\n",
              "20             0.89        1.68        3.80        6.59\n",
              "21             1.37        2.56        5.60       10.21\n",
              "22             1.98        3.77        8.21       14.35\n",
              "23             1.42        2.62        6.26       11.03\n",
              "24             1.52        2.64        5.92       10.64"
            ],
            "text/html": [
              "\n",
              "  <div id=\"df-68294483-f66e-41be-b5d4-db5b19de50b7\">\n",
              "    <div class=\"colab-df-container\">\n",
              "      <div>\n",
              "<style scoped>\n",
              "    .dataframe tbody tr th:only-of-type {\n",
              "        vertical-align: middle;\n",
              "    }\n",
              "\n",
              "    .dataframe tbody tr th {\n",
              "        vertical-align: top;\n",
              "    }\n",
              "\n",
              "    .dataframe thead th {\n",
              "        text-align: right;\n",
              "    }\n",
              "</style>\n",
              "<table border=\"1\" class=\"dataframe\">\n",
              "  <thead>\n",
              "    <tr style=\"text-align: right;\">\n",
              "      <th></th>\n",
              "      <th>KNN_avc_95</th>\n",
              "      <th>KNN_avc_90</th>\n",
              "      <th>KNN_avc_75</th>\n",
              "      <th>KNN_avc_50</th>\n",
              "    </tr>\n",
              "    <tr>\n",
              "      <th>item_id</th>\n",
              "      <th></th>\n",
              "      <th></th>\n",
              "      <th></th>\n",
              "      <th></th>\n",
              "    </tr>\n",
              "  </thead>\n",
              "  <tbody>\n",
              "    <tr>\n",
              "      <th>0</th>\n",
              "      <td>0.61</td>\n",
              "      <td>1.12</td>\n",
              "      <td>2.53</td>\n",
              "      <td>4.34</td>\n",
              "    </tr>\n",
              "    <tr>\n",
              "      <th>1</th>\n",
              "      <td>0.51</td>\n",
              "      <td>0.92</td>\n",
              "      <td>2.01</td>\n",
              "      <td>3.37</td>\n",
              "    </tr>\n",
              "    <tr>\n",
              "      <th>2</th>\n",
              "      <td>1.04</td>\n",
              "      <td>2.03</td>\n",
              "      <td>4.36</td>\n",
              "      <td>7.55</td>\n",
              "    </tr>\n",
              "    <tr>\n",
              "      <th>3</th>\n",
              "      <td>2.74</td>\n",
              "      <td>5.22</td>\n",
              "      <td>11.54</td>\n",
              "      <td>20.82</td>\n",
              "    </tr>\n",
              "    <tr>\n",
              "      <th>4</th>\n",
              "      <td>1.20</td>\n",
              "      <td>2.14</td>\n",
              "      <td>4.69</td>\n",
              "      <td>8.83</td>\n",
              "    </tr>\n",
              "    <tr>\n",
              "      <th>5</th>\n",
              "      <td>0.64</td>\n",
              "      <td>1.23</td>\n",
              "      <td>2.86</td>\n",
              "      <td>5.04</td>\n",
              "    </tr>\n",
              "    <tr>\n",
              "      <th>6</th>\n",
              "      <td>0.70</td>\n",
              "      <td>1.29</td>\n",
              "      <td>2.83</td>\n",
              "      <td>5.08</td>\n",
              "    </tr>\n",
              "    <tr>\n",
              "      <th>7</th>\n",
              "      <td>0.98</td>\n",
              "      <td>1.85</td>\n",
              "      <td>4.28</td>\n",
              "      <td>7.92</td>\n",
              "    </tr>\n",
              "    <tr>\n",
              "      <th>8</th>\n",
              "      <td>0.49</td>\n",
              "      <td>0.92</td>\n",
              "      <td>2.02</td>\n",
              "      <td>3.74</td>\n",
              "    </tr>\n",
              "    <tr>\n",
              "      <th>9</th>\n",
              "      <td>0.51</td>\n",
              "      <td>0.97</td>\n",
              "      <td>2.04</td>\n",
              "      <td>3.79</td>\n",
              "    </tr>\n",
              "    <tr>\n",
              "      <th>10</th>\n",
              "      <td>2.19</td>\n",
              "      <td>4.10</td>\n",
              "      <td>9.01</td>\n",
              "      <td>16.03</td>\n",
              "    </tr>\n",
              "    <tr>\n",
              "      <th>11</th>\n",
              "      <td>0.56</td>\n",
              "      <td>1.01</td>\n",
              "      <td>2.21</td>\n",
              "      <td>3.96</td>\n",
              "    </tr>\n",
              "    <tr>\n",
              "      <th>12</th>\n",
              "      <td>0.91</td>\n",
              "      <td>1.55</td>\n",
              "      <td>3.47</td>\n",
              "      <td>6.43</td>\n",
              "    </tr>\n",
              "    <tr>\n",
              "      <th>13</th>\n",
              "      <td>0.62</td>\n",
              "      <td>1.12</td>\n",
              "      <td>2.50</td>\n",
              "      <td>4.24</td>\n",
              "    </tr>\n",
              "    <tr>\n",
              "      <th>14</th>\n",
              "      <td>1.07</td>\n",
              "      <td>2.06</td>\n",
              "      <td>4.69</td>\n",
              "      <td>8.46</td>\n",
              "    </tr>\n",
              "    <tr>\n",
              "      <th>15</th>\n",
              "      <td>1.34</td>\n",
              "      <td>2.53</td>\n",
              "      <td>5.54</td>\n",
              "      <td>9.60</td>\n",
              "    </tr>\n",
              "    <tr>\n",
              "      <th>16</th>\n",
              "      <td>0.33</td>\n",
              "      <td>0.62</td>\n",
              "      <td>1.45</td>\n",
              "      <td>2.67</td>\n",
              "    </tr>\n",
              "    <tr>\n",
              "      <th>17</th>\n",
              "      <td>1.19</td>\n",
              "      <td>2.25</td>\n",
              "      <td>5.05</td>\n",
              "      <td>9.49</td>\n",
              "    </tr>\n",
              "    <tr>\n",
              "      <th>18</th>\n",
              "      <td>2.62</td>\n",
              "      <td>5.06</td>\n",
              "      <td>10.91</td>\n",
              "      <td>19.09</td>\n",
              "    </tr>\n",
              "    <tr>\n",
              "      <th>19</th>\n",
              "      <td>0.46</td>\n",
              "      <td>0.81</td>\n",
              "      <td>1.84</td>\n",
              "      <td>3.21</td>\n",
              "    </tr>\n",
              "    <tr>\n",
              "      <th>20</th>\n",
              "      <td>0.89</td>\n",
              "      <td>1.68</td>\n",
              "      <td>3.80</td>\n",
              "      <td>6.59</td>\n",
              "    </tr>\n",
              "    <tr>\n",
              "      <th>21</th>\n",
              "      <td>1.37</td>\n",
              "      <td>2.56</td>\n",
              "      <td>5.60</td>\n",
              "      <td>10.21</td>\n",
              "    </tr>\n",
              "    <tr>\n",
              "      <th>22</th>\n",
              "      <td>1.98</td>\n",
              "      <td>3.77</td>\n",
              "      <td>8.21</td>\n",
              "      <td>14.35</td>\n",
              "    </tr>\n",
              "    <tr>\n",
              "      <th>23</th>\n",
              "      <td>1.42</td>\n",
              "      <td>2.62</td>\n",
              "      <td>6.26</td>\n",
              "      <td>11.03</td>\n",
              "    </tr>\n",
              "    <tr>\n",
              "      <th>24</th>\n",
              "      <td>1.52</td>\n",
              "      <td>2.64</td>\n",
              "      <td>5.92</td>\n",
              "      <td>10.64</td>\n",
              "    </tr>\n",
              "  </tbody>\n",
              "</table>\n",
              "</div>\n",
              "      <button class=\"colab-df-convert\" onclick=\"convertToInteractive('df-68294483-f66e-41be-b5d4-db5b19de50b7')\"\n",
              "              title=\"Convert this dataframe to an interactive table.\"\n",
              "              style=\"display:none;\">\n",
              "        \n",
              "  <svg xmlns=\"http://www.w3.org/2000/svg\" height=\"24px\"viewBox=\"0 0 24 24\"\n",
              "       width=\"24px\">\n",
              "    <path d=\"M0 0h24v24H0V0z\" fill=\"none\"/>\n",
              "    <path d=\"M18.56 5.44l.94 2.06.94-2.06 2.06-.94-2.06-.94-.94-2.06-.94 2.06-2.06.94zm-11 1L8.5 8.5l.94-2.06 2.06-.94-2.06-.94L8.5 2.5l-.94 2.06-2.06.94zm10 10l.94 2.06.94-2.06 2.06-.94-2.06-.94-.94-2.06-.94 2.06-2.06.94z\"/><path d=\"M17.41 7.96l-1.37-1.37c-.4-.4-.92-.59-1.43-.59-.52 0-1.04.2-1.43.59L10.3 9.45l-7.72 7.72c-.78.78-.78 2.05 0 2.83L4 21.41c.39.39.9.59 1.41.59.51 0 1.02-.2 1.41-.59l7.78-7.78 2.81-2.81c.8-.78.8-2.07 0-2.86zM5.41 20L4 18.59l7.72-7.72 1.47 1.35L5.41 20z\"/>\n",
              "  </svg>\n",
              "      </button>\n",
              "      \n",
              "  <style>\n",
              "    .colab-df-container {\n",
              "      display:flex;\n",
              "      flex-wrap:wrap;\n",
              "      gap: 12px;\n",
              "    }\n",
              "\n",
              "    .colab-df-convert {\n",
              "      background-color: #E8F0FE;\n",
              "      border: none;\n",
              "      border-radius: 50%;\n",
              "      cursor: pointer;\n",
              "      display: none;\n",
              "      fill: #1967D2;\n",
              "      height: 32px;\n",
              "      padding: 0 0 0 0;\n",
              "      width: 32px;\n",
              "    }\n",
              "\n",
              "    .colab-df-convert:hover {\n",
              "      background-color: #E2EBFA;\n",
              "      box-shadow: 0px 1px 2px rgba(60, 64, 67, 0.3), 0px 1px 3px 1px rgba(60, 64, 67, 0.15);\n",
              "      fill: #174EA6;\n",
              "    }\n",
              "\n",
              "    [theme=dark] .colab-df-convert {\n",
              "      background-color: #3B4455;\n",
              "      fill: #D2E3FC;\n",
              "    }\n",
              "\n",
              "    [theme=dark] .colab-df-convert:hover {\n",
              "      background-color: #434B5C;\n",
              "      box-shadow: 0px 1px 3px 1px rgba(0, 0, 0, 0.15);\n",
              "      filter: drop-shadow(0px 1px 2px rgba(0, 0, 0, 0.3));\n",
              "      fill: #FFFFFF;\n",
              "    }\n",
              "  </style>\n",
              "\n",
              "      <script>\n",
              "        const buttonEl =\n",
              "          document.querySelector('#df-68294483-f66e-41be-b5d4-db5b19de50b7 button.colab-df-convert');\n",
              "        buttonEl.style.display =\n",
              "          google.colab.kernel.accessAllowed ? 'block' : 'none';\n",
              "\n",
              "        async function convertToInteractive(key) {\n",
              "          const element = document.querySelector('#df-68294483-f66e-41be-b5d4-db5b19de50b7');\n",
              "          const dataTable =\n",
              "            await google.colab.kernel.invokeFunction('convertToInteractive',\n",
              "                                                     [key], {});\n",
              "          if (!dataTable) return;\n",
              "\n",
              "          const docLinkHtml = 'Like what you see? Visit the ' +\n",
              "            '<a target=\"_blank\" href=https://colab.research.google.com/notebooks/data_table.ipynb>data table notebook</a>'\n",
              "            + ' to learn more about interactive tables.';\n",
              "          element.innerHTML = '';\n",
              "          dataTable['output_type'] = 'display_data';\n",
              "          await google.colab.output.renderOutput(dataTable, element);\n",
              "          const docLink = document.createElement('div');\n",
              "          docLink.innerHTML = docLinkHtml;\n",
              "          element.appendChild(docLink);\n",
              "        }\n",
              "      </script>\n",
              "    </div>\n",
              "  </div>\n",
              "  "
            ]
          },
          "metadata": {},
          "execution_count": 55
        }
      ]
    },
    {
      "cell_type": "code",
      "source": [
        "KNN_separated_pscr = pd.concat([KNN_separate_pscr_95, KNN_separate_pscr_90, KNN_separate_pscr_75, KNN_separate_pscr_50], axis=1)\n",
        "KNN_separated_pscr"
      ],
      "metadata": {
        "colab": {
          "base_uri": "https://localhost:8080/",
          "height": 865
        },
        "id": "fzNOg6tHd5Jm",
        "outputId": "bc3bbe9e-4e3e-46bd-9db2-0e35f4d1ca29"
      },
      "execution_count": null,
      "outputs": [
        {
          "output_type": "execute_result",
          "data": {
            "text/plain": [
              "         KNN_pscr_95  KNN_pscr_90  KNN_pscr_75  KNN_pscr_50\n",
              "item_id                                                    \n",
              "0           0.389899     0.292668     0.268284     0.251664\n",
              "1           0.484868     0.473696     0.455351     0.430186\n",
              "2           0.366856     0.209809     0.170859     0.130258\n",
              "3           0.665134     0.660175     0.581053     0.501225\n",
              "4           0.330748     0.230594     0.191143     0.154367\n",
              "5           0.415665     0.322826     0.278808     0.164052\n",
              "6           0.495907     0.449070     0.457087     0.419718\n",
              "7           0.483040     0.419406     0.238871     0.156822\n",
              "8           0.418848     0.338057     0.264229     0.213211\n",
              "9           0.352075     0.270937     0.300352     0.220253\n",
              "10          0.387600     0.258031     0.210327     0.167407\n",
              "11          0.352057     0.335953     0.277872     0.255406\n",
              "12          0.376612     0.352220     0.344961     0.307361\n",
              "13          0.583926     0.587538     0.445074     0.317235\n",
              "14          0.264868     0.268543     0.182190     0.257866\n",
              "15          0.251757     0.233753     0.106109     0.087358\n",
              "16          0.312969     0.244543     0.169039     0.099581\n",
              "17          0.343509     0.210057     0.158570     0.103027\n",
              "18          0.258918     0.177152     0.159564     0.158088\n",
              "19          0.361257     0.255246     0.280226     0.183899\n",
              "20          0.480457     0.415690     0.394984     0.368029\n",
              "21          0.299239     0.236437     0.138281     0.121055\n",
              "22          0.608637     0.549522     0.447152     0.348071\n",
              "23          0.418955     0.277393     0.221991     0.199442\n",
              "24          0.335310     0.316402     0.218064     0.255053"
            ],
            "text/html": [
              "\n",
              "  <div id=\"df-397afbc2-d495-4a10-b1a0-59667263f828\">\n",
              "    <div class=\"colab-df-container\">\n",
              "      <div>\n",
              "<style scoped>\n",
              "    .dataframe tbody tr th:only-of-type {\n",
              "        vertical-align: middle;\n",
              "    }\n",
              "\n",
              "    .dataframe tbody tr th {\n",
              "        vertical-align: top;\n",
              "    }\n",
              "\n",
              "    .dataframe thead th {\n",
              "        text-align: right;\n",
              "    }\n",
              "</style>\n",
              "<table border=\"1\" class=\"dataframe\">\n",
              "  <thead>\n",
              "    <tr style=\"text-align: right;\">\n",
              "      <th></th>\n",
              "      <th>KNN_pscr_95</th>\n",
              "      <th>KNN_pscr_90</th>\n",
              "      <th>KNN_pscr_75</th>\n",
              "      <th>KNN_pscr_50</th>\n",
              "    </tr>\n",
              "    <tr>\n",
              "      <th>item_id</th>\n",
              "      <th></th>\n",
              "      <th></th>\n",
              "      <th></th>\n",
              "      <th></th>\n",
              "    </tr>\n",
              "  </thead>\n",
              "  <tbody>\n",
              "    <tr>\n",
              "      <th>0</th>\n",
              "      <td>0.389899</td>\n",
              "      <td>0.292668</td>\n",
              "      <td>0.268284</td>\n",
              "      <td>0.251664</td>\n",
              "    </tr>\n",
              "    <tr>\n",
              "      <th>1</th>\n",
              "      <td>0.484868</td>\n",
              "      <td>0.473696</td>\n",
              "      <td>0.455351</td>\n",
              "      <td>0.430186</td>\n",
              "    </tr>\n",
              "    <tr>\n",
              "      <th>2</th>\n",
              "      <td>0.366856</td>\n",
              "      <td>0.209809</td>\n",
              "      <td>0.170859</td>\n",
              "      <td>0.130258</td>\n",
              "    </tr>\n",
              "    <tr>\n",
              "      <th>3</th>\n",
              "      <td>0.665134</td>\n",
              "      <td>0.660175</td>\n",
              "      <td>0.581053</td>\n",
              "      <td>0.501225</td>\n",
              "    </tr>\n",
              "    <tr>\n",
              "      <th>4</th>\n",
              "      <td>0.330748</td>\n",
              "      <td>0.230594</td>\n",
              "      <td>0.191143</td>\n",
              "      <td>0.154367</td>\n",
              "    </tr>\n",
              "    <tr>\n",
              "      <th>5</th>\n",
              "      <td>0.415665</td>\n",
              "      <td>0.322826</td>\n",
              "      <td>0.278808</td>\n",
              "      <td>0.164052</td>\n",
              "    </tr>\n",
              "    <tr>\n",
              "      <th>6</th>\n",
              "      <td>0.495907</td>\n",
              "      <td>0.449070</td>\n",
              "      <td>0.457087</td>\n",
              "      <td>0.419718</td>\n",
              "    </tr>\n",
              "    <tr>\n",
              "      <th>7</th>\n",
              "      <td>0.483040</td>\n",
              "      <td>0.419406</td>\n",
              "      <td>0.238871</td>\n",
              "      <td>0.156822</td>\n",
              "    </tr>\n",
              "    <tr>\n",
              "      <th>8</th>\n",
              "      <td>0.418848</td>\n",
              "      <td>0.338057</td>\n",
              "      <td>0.264229</td>\n",
              "      <td>0.213211</td>\n",
              "    </tr>\n",
              "    <tr>\n",
              "      <th>9</th>\n",
              "      <td>0.352075</td>\n",
              "      <td>0.270937</td>\n",
              "      <td>0.300352</td>\n",
              "      <td>0.220253</td>\n",
              "    </tr>\n",
              "    <tr>\n",
              "      <th>10</th>\n",
              "      <td>0.387600</td>\n",
              "      <td>0.258031</td>\n",
              "      <td>0.210327</td>\n",
              "      <td>0.167407</td>\n",
              "    </tr>\n",
              "    <tr>\n",
              "      <th>11</th>\n",
              "      <td>0.352057</td>\n",
              "      <td>0.335953</td>\n",
              "      <td>0.277872</td>\n",
              "      <td>0.255406</td>\n",
              "    </tr>\n",
              "    <tr>\n",
              "      <th>12</th>\n",
              "      <td>0.376612</td>\n",
              "      <td>0.352220</td>\n",
              "      <td>0.344961</td>\n",
              "      <td>0.307361</td>\n",
              "    </tr>\n",
              "    <tr>\n",
              "      <th>13</th>\n",
              "      <td>0.583926</td>\n",
              "      <td>0.587538</td>\n",
              "      <td>0.445074</td>\n",
              "      <td>0.317235</td>\n",
              "    </tr>\n",
              "    <tr>\n",
              "      <th>14</th>\n",
              "      <td>0.264868</td>\n",
              "      <td>0.268543</td>\n",
              "      <td>0.182190</td>\n",
              "      <td>0.257866</td>\n",
              "    </tr>\n",
              "    <tr>\n",
              "      <th>15</th>\n",
              "      <td>0.251757</td>\n",
              "      <td>0.233753</td>\n",
              "      <td>0.106109</td>\n",
              "      <td>0.087358</td>\n",
              "    </tr>\n",
              "    <tr>\n",
              "      <th>16</th>\n",
              "      <td>0.312969</td>\n",
              "      <td>0.244543</td>\n",
              "      <td>0.169039</td>\n",
              "      <td>0.099581</td>\n",
              "    </tr>\n",
              "    <tr>\n",
              "      <th>17</th>\n",
              "      <td>0.343509</td>\n",
              "      <td>0.210057</td>\n",
              "      <td>0.158570</td>\n",
              "      <td>0.103027</td>\n",
              "    </tr>\n",
              "    <tr>\n",
              "      <th>18</th>\n",
              "      <td>0.258918</td>\n",
              "      <td>0.177152</td>\n",
              "      <td>0.159564</td>\n",
              "      <td>0.158088</td>\n",
              "    </tr>\n",
              "    <tr>\n",
              "      <th>19</th>\n",
              "      <td>0.361257</td>\n",
              "      <td>0.255246</td>\n",
              "      <td>0.280226</td>\n",
              "      <td>0.183899</td>\n",
              "    </tr>\n",
              "    <tr>\n",
              "      <th>20</th>\n",
              "      <td>0.480457</td>\n",
              "      <td>0.415690</td>\n",
              "      <td>0.394984</td>\n",
              "      <td>0.368029</td>\n",
              "    </tr>\n",
              "    <tr>\n",
              "      <th>21</th>\n",
              "      <td>0.299239</td>\n",
              "      <td>0.236437</td>\n",
              "      <td>0.138281</td>\n",
              "      <td>0.121055</td>\n",
              "    </tr>\n",
              "    <tr>\n",
              "      <th>22</th>\n",
              "      <td>0.608637</td>\n",
              "      <td>0.549522</td>\n",
              "      <td>0.447152</td>\n",
              "      <td>0.348071</td>\n",
              "    </tr>\n",
              "    <tr>\n",
              "      <th>23</th>\n",
              "      <td>0.418955</td>\n",
              "      <td>0.277393</td>\n",
              "      <td>0.221991</td>\n",
              "      <td>0.199442</td>\n",
              "    </tr>\n",
              "    <tr>\n",
              "      <th>24</th>\n",
              "      <td>0.335310</td>\n",
              "      <td>0.316402</td>\n",
              "      <td>0.218064</td>\n",
              "      <td>0.255053</td>\n",
              "    </tr>\n",
              "  </tbody>\n",
              "</table>\n",
              "</div>\n",
              "      <button class=\"colab-df-convert\" onclick=\"convertToInteractive('df-397afbc2-d495-4a10-b1a0-59667263f828')\"\n",
              "              title=\"Convert this dataframe to an interactive table.\"\n",
              "              style=\"display:none;\">\n",
              "        \n",
              "  <svg xmlns=\"http://www.w3.org/2000/svg\" height=\"24px\"viewBox=\"0 0 24 24\"\n",
              "       width=\"24px\">\n",
              "    <path d=\"M0 0h24v24H0V0z\" fill=\"none\"/>\n",
              "    <path d=\"M18.56 5.44l.94 2.06.94-2.06 2.06-.94-2.06-.94-.94-2.06-.94 2.06-2.06.94zm-11 1L8.5 8.5l.94-2.06 2.06-.94-2.06-.94L8.5 2.5l-.94 2.06-2.06.94zm10 10l.94 2.06.94-2.06 2.06-.94-2.06-.94-.94-2.06-.94 2.06-2.06.94z\"/><path d=\"M17.41 7.96l-1.37-1.37c-.4-.4-.92-.59-1.43-.59-.52 0-1.04.2-1.43.59L10.3 9.45l-7.72 7.72c-.78.78-.78 2.05 0 2.83L4 21.41c.39.39.9.59 1.41.59.51 0 1.02-.2 1.41-.59l7.78-7.78 2.81-2.81c.8-.78.8-2.07 0-2.86zM5.41 20L4 18.59l7.72-7.72 1.47 1.35L5.41 20z\"/>\n",
              "  </svg>\n",
              "      </button>\n",
              "      \n",
              "  <style>\n",
              "    .colab-df-container {\n",
              "      display:flex;\n",
              "      flex-wrap:wrap;\n",
              "      gap: 12px;\n",
              "    }\n",
              "\n",
              "    .colab-df-convert {\n",
              "      background-color: #E8F0FE;\n",
              "      border: none;\n",
              "      border-radius: 50%;\n",
              "      cursor: pointer;\n",
              "      display: none;\n",
              "      fill: #1967D2;\n",
              "      height: 32px;\n",
              "      padding: 0 0 0 0;\n",
              "      width: 32px;\n",
              "    }\n",
              "\n",
              "    .colab-df-convert:hover {\n",
              "      background-color: #E2EBFA;\n",
              "      box-shadow: 0px 1px 2px rgba(60, 64, 67, 0.3), 0px 1px 3px 1px rgba(60, 64, 67, 0.15);\n",
              "      fill: #174EA6;\n",
              "    }\n",
              "\n",
              "    [theme=dark] .colab-df-convert {\n",
              "      background-color: #3B4455;\n",
              "      fill: #D2E3FC;\n",
              "    }\n",
              "\n",
              "    [theme=dark] .colab-df-convert:hover {\n",
              "      background-color: #434B5C;\n",
              "      box-shadow: 0px 1px 3px 1px rgba(0, 0, 0, 0.15);\n",
              "      filter: drop-shadow(0px 1px 2px rgba(0, 0, 0, 0.3));\n",
              "      fill: #FFFFFF;\n",
              "    }\n",
              "  </style>\n",
              "\n",
              "      <script>\n",
              "        const buttonEl =\n",
              "          document.querySelector('#df-397afbc2-d495-4a10-b1a0-59667263f828 button.colab-df-convert');\n",
              "        buttonEl.style.display =\n",
              "          google.colab.kernel.accessAllowed ? 'block' : 'none';\n",
              "\n",
              "        async function convertToInteractive(key) {\n",
              "          const element = document.querySelector('#df-397afbc2-d495-4a10-b1a0-59667263f828');\n",
              "          const dataTable =\n",
              "            await google.colab.kernel.invokeFunction('convertToInteractive',\n",
              "                                                     [key], {});\n",
              "          if (!dataTable) return;\n",
              "\n",
              "          const docLinkHtml = 'Like what you see? Visit the ' +\n",
              "            '<a target=\"_blank\" href=https://colab.research.google.com/notebooks/data_table.ipynb>data table notebook</a>'\n",
              "            + ' to learn more about interactive tables.';\n",
              "          element.innerHTML = '';\n",
              "          dataTable['output_type'] = 'display_data';\n",
              "          await google.colab.output.renderOutput(dataTable, element);\n",
              "          const docLink = document.createElement('div');\n",
              "          docLink.innerHTML = docLinkHtml;\n",
              "          element.appendChild(docLink);\n",
              "        }\n",
              "      </script>\n",
              "    </div>\n",
              "  </div>\n",
              "  "
            ]
          },
          "metadata": {},
          "execution_count": 56
        }
      ]
    },
    {
      "cell_type": "markdown",
      "source": [
        "# Saving Files"
      ],
      "metadata": {
        "id": "oeik36GDeOmG"
      }
    },
    {
      "cell_type": "code",
      "source": [
        "KNN_separated_avc.to_csv('/content/drive/MyDrive/M5/KNN_separated_avc.csv')\n",
        "\n",
        "KNN_separated_pscr.to_csv('/content/drive/MyDrive/M5/KNN_separated_pscr.csv')"
      ],
      "metadata": {
        "id": "6rN3qYsFeRfV"
      },
      "execution_count": null,
      "outputs": []
    }
  ]
}
