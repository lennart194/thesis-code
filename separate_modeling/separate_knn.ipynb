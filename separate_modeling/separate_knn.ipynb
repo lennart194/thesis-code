{
  "nbformat": 4,
  "nbformat_minor": 0,
  "metadata": {
    "colab": {
      "name": "separatemodeling_knn.ipynb",
      "provenance": [],
      "collapsed_sections": [],
      "authorship_tag": "ABX9TyNRMVL8C5fR+JxEXiMbtCBu",
      "include_colab_link": true
    },
    "kernelspec": {
      "name": "python3",
      "display_name": "Python 3"
    },
    "language_info": {
      "name": "python"
    }
  },
  "cells": [
    {
      "cell_type": "markdown",
      "metadata": {
        "id": "view-in-github",
        "colab_type": "text"
      },
      "source": [
        "<a href=\"https://colab.research.google.com/github/lennart194/thesis-code/blob/main/separatemodeling_knn.ipynb\" target=\"_parent\"><img src=\"https://colab.research.google.com/assets/colab-badge.svg\" alt=\"Open In Colab\"/></a>"
      ]
    },
    {
      "cell_type": "code",
      "execution_count": null,
      "metadata": {
        "id": "n9ZLFuEOUN9v"
      },
      "outputs": [],
      "source": [
        "pip install ddop"
      ]
    },
    {
      "cell_type": "code",
      "source": [
        "import pandas as pd\n",
        "import numpy as np\n",
        "\n",
        "from ddop.newsvendor import KNeighborsWeightedNewsvendor\n",
        "from ddop.newsvendor import SampleAverageApproximationNewsvendor\n",
        "\n",
        "from sklearn.model_selection import RandomizedSearchCV\n",
        "\n",
        "from ddop.metrics import make_scorer\n",
        "from ddop.metrics import average_costs\n",
        "from ddop.metrics import prescriptiveness_score"
      ],
      "metadata": {
        "id": "OYmKv0juUkGH"
      },
      "execution_count": 24,
      "outputs": []
    },
    {
      "cell_type": "code",
      "source": [
        "from google.colab import drive\n",
        "drive.mount('/content/drive')"
      ],
      "metadata": {
        "id": "vDdCaTHOUquf",
        "colab": {
          "base_uri": "https://localhost:8080/"
        },
        "outputId": "df751e31-2154-40fa-ac32-81c9302da6e4"
      },
      "execution_count": 3,
      "outputs": [
        {
          "output_type": "stream",
          "name": "stdout",
          "text": [
            "Mounted at /content/drive\n"
          ]
        }
      ]
    },
    {
      "cell_type": "markdown",
      "source": [
        "## Loading data-set\n",
        "\n",
        "*   load the whole ultimative set\n",
        "*   sort the rows first by item, then by date and set a multi index\n",
        "**now every items time series can be separated by the index**\n",
        "\n"
      ],
      "metadata": {
        "id": "ZU2CGOdq7Skw"
      }
    },
    {
      "cell_type": "code",
      "source": [
        "data = pd.read_csv('/content/drive/MyDrive/M5/ultimative_set.csv')\n",
        "data = data.drop(columns=['Unnamed: 0'])\n",
        "data = data.sort_values(by=['item_id', 'date'])\n",
        "data = data.set_index(['item_id', 'date'])"
      ],
      "metadata": {
        "id": "-Q8-sL7WWOBt"
      },
      "execution_count": 4,
      "outputs": []
    },
    {
      "cell_type": "markdown",
      "source": [
        "## Split in feature and target matrix"
      ],
      "metadata": {
        "id": "AdU3tqls8U_Z"
      }
    },
    {
      "cell_type": "code",
      "source": [
        "X = data.drop(columns=['demand'])\n",
        "Y = data['demand']"
      ],
      "metadata": {
        "id": "MNFlcFzaM9l2"
      },
      "execution_count": 5,
      "outputs": []
    },
    {
      "cell_type": "markdown",
      "source": [
        "## train_test_split"
      ],
      "metadata": {
        "id": "BAoE08UJ8nVr"
      }
    },
    {
      "cell_type": "code",
      "source": [
        "X_train = X.loc[(slice(None), slice(None, \"2015\")), :]\n",
        "X_test = X.loc[(slice(None), slice(\"2015\", '2017')), :]\n",
        "\n",
        "Y_train = Y.loc[(slice(None), slice(None, \"2015\"))]\n",
        "Y_test = Y.loc[(slice(None), slice(\"2015\", \"2017\"))]"
      ],
      "metadata": {
        "id": "vSj7lO81QKWX"
      },
      "execution_count": 6,
      "outputs": []
    },
    {
      "cell_type": "markdown",
      "source": [
        "## Definition of the item_ids \n",
        "\n",
        "\n",
        "*   will be needed within the for loops later\n",
        "*   will contain all 25 products\n",
        "\n"
      ],
      "metadata": {
        "id": "yi51vfNA84_O"
      }
    },
    {
      "cell_type": "code",
      "source": [
        "prods = list(range(0,25))\n",
        "\n",
        "cu = round(X_train['sell_price'].mean(),2)\n",
        "\n",
        "co_90 = round(((cu-(0.90*cu))/0.90),2)\n",
        "\n",
        "co_75 = round(((cu-(0.75*cu))/0.75),2)\n",
        "\n",
        "co_50 = round(((cu-(0.50*cu))/0.50),2)"
      ],
      "metadata": {
        "id": "8PcPp7EBii71"
      },
      "execution_count": 7,
      "outputs": []
    },
    {
      "cell_type": "markdown",
      "source": [
        "## Determining some parameters\n",
        "*   the potential params and their values for randomized search are defined\n",
        "*   the estimator, the scorer and finally the whole grid is defined\n",
        "\n",
        "\n",
        "\n"
      ],
      "metadata": {
        "id": "X-8Jr66w_S67"
      }
    },
    {
      "cell_type": "code",
      "source": [
        "k = np.arange(25,66)\n",
        "param_random = dict(n_neighbors = k)\n",
        "\n",
        "scorer_avc = make_scorer(average_costs, greater_is_better=False)"
      ],
      "metadata": {
        "id": "zm1TSe9GohHw"
      },
      "execution_count": 10,
      "outputs": []
    },
    {
      "cell_type": "markdown",
      "source": [
        "# knn for 90% service level\n",
        "\n",
        "## randomized search\n",
        "*   an empty list is created for every type of hyperparameter\n",
        "*   in a for-loop the randomized search is executed for every item with cu and co of alpha = 0,90\n",
        "*   the best hyperparams are calculated and added to the corresponding list"
      ],
      "metadata": {
        "id": "OKL7cZBewqqG"
      }
    },
    {
      "cell_type": "code",
      "source": [
        "best_param_k_90 = []\n",
        "for prod in prods:\n",
        "  \n",
        "  knn = KNeighborsWeightedNewsvendor(cu = cu, co = co_90)\n",
        "  \n",
        "  random = RandomizedSearchCV(knn, param_random, cv=5, scoring = scorer_avc)\n",
        "  random.fit(X_train.loc[prod], Y_train.loc[prod])\n",
        "  \n",
        "  k = random.best_params_.get('n_neighbors')\n",
        "  best_param_k_90.append(k)"
      ],
      "metadata": {
        "id": "B0verj9Uw8Rt"
      },
      "execution_count": null,
      "outputs": []
    },
    {
      "cell_type": "markdown",
      "source": [
        "## Newsvendor-Model\n",
        "*   the data-driven newsvendor model is executed in a loop for every single item (with optimal hyperparameters)\n",
        "*   the average_costs for every item are calculated (later the prescritiveness score will be used for better comparability)"
      ],
      "metadata": {
        "id": "Zd3QzxvbxJD2"
      }
    },
    {
      "cell_type": "code",
      "source": [
        "result_knn_avc_90 = []\n",
        "for prod in prods:\n",
        "\n",
        "  knn = KNeighborsWeightedNewsvendor(cu = cu, co = co_90, n_neighbors = best_param_k_90[prod])\n",
        "  knn.fit(X_train.loc[prod], Y_train.loc[prod])\n",
        "  preds = knn.predict(X_test.loc[prod])\n",
        "  avc = round(average_costs(Y_test.loc[prod], preds, cu = cu, co = co_90),2)\n",
        "  result_knn_avc_90.append(avc)"
      ],
      "metadata": {
        "id": "GSmgflC7xShV"
      },
      "execution_count": 19,
      "outputs": []
    },
    {
      "cell_type": "code",
      "source": [
        "KNN_separate_avc_90 = pd.DataFrame(result_knn_avc_90, columns=['KNN_avc_90'])\n",
        "KNN_separate_avc_90.index.name = 'item_id'"
      ],
      "metadata": {
        "id": "PgC6iwVF5dgA"
      },
      "execution_count": 21,
      "outputs": []
    },
    {
      "cell_type": "code",
      "source": [
        "result_knn_90_pscr = []\n",
        "for prod in prods:\n",
        "\n",
        "  knn = KNeighborsWeightedNewsvendor(cu = cu, co = co_90, n_neighbors = best_param_k_90[prod])\n",
        "  knn.fit(X_train.loc[prod], Y_train.loc[prod])\n",
        "  preds_knn = knn.predict(X_test.loc[prod])\n",
        "\n",
        "  saa = SampleAverageApproximationNewsvendor(cu = cu, co = co_90)\n",
        "  saa.fit(Y_train.loc[prod])\n",
        "  preds_saa = saa.predict(n_steps = 508)\n",
        "\n",
        "\n",
        "\n",
        "  pscr = prescriptiveness_score(Y_test.loc[prod], preds_knn, preds_saa ,cu = cu, co = co_90)\n",
        "  result_knn_90_pscr.append(pscr)"
      ],
      "metadata": {
        "id": "DHNrU8VUQcR9"
      },
      "execution_count": 25,
      "outputs": []
    },
    {
      "cell_type": "code",
      "source": [
        "KNN_separate_pscr_90 = pd.DataFrame(result_knn_90_pscr, columns=['KNN_pscr_90'])\n",
        "KNN_separate_pscr_90.index.name = 'item_id'"
      ],
      "metadata": {
        "id": "WRS3VR17Qo5Z"
      },
      "execution_count": 27,
      "outputs": []
    },
    {
      "cell_type": "markdown",
      "source": [
        "# knn for 75% service level\n",
        "\n",
        "## randomized search\n",
        "*   an empty list is created for every type of hyperparameter\n",
        "*   in a for-loop the randomized search is executed for every item with cu and co of alpha = 0,75\n",
        "*   the best hyperparams are calculated and added to the corresponding list"
      ],
      "metadata": {
        "id": "DHPH9F7b6Y0i"
      }
    },
    {
      "cell_type": "code",
      "source": [
        "best_param_k_75 = []\n",
        "for prod in prods:\n",
        "  \n",
        "  knn = KNeighborsWeightedNewsvendor(cu = cu, co = co_75)\n",
        "  \n",
        "  random = RandomizedSearchCV(knn, param_random, cv=5, scoring = scorer_avc)\n",
        "  random.fit(X_train.loc[prod], Y_train.loc[prod])\n",
        "  \n",
        "  k =  k = random.best_params_.get('n_neighbors')\n",
        "  best_param_k_75.append(k)"
      ],
      "metadata": {
        "id": "Zd1Em6Z96ccz"
      },
      "execution_count": null,
      "outputs": []
    },
    {
      "cell_type": "markdown",
      "source": [
        "## Newsvendor-Model\n",
        "*   the data-driven newsvendor model is executed in a loop for every single item (with optimal hyperparameters)\n",
        "*   the average_costs for every item are calculated (later the prescritiveness score will be used for better comparability)"
      ],
      "metadata": {
        "id": "mxRbaEpo6p0s"
      }
    },
    {
      "cell_type": "code",
      "source": [
        "result_knn_avc_75 = []\n",
        "for prod in prods:\n",
        "  \n",
        "  knn = KNeighborsWeightedNewsvendor(cu = cu, co = co_75, n_neighbors = best_param_k_75[prod])\n",
        "  knn.fit(X_train.loc[prod], Y_train.loc[prod])\n",
        "  preds = knn.predict(X_test.loc[prod])\n",
        "\n",
        "  avc = round(average_costs(Y_test.loc[prod], preds, cu = cu, co = co_75),2)\n",
        "  result_knn_avc_75.append(avc)"
      ],
      "metadata": {
        "id": "MlLoI9Nw6o5l"
      },
      "execution_count": 33,
      "outputs": []
    },
    {
      "cell_type": "code",
      "source": [
        "KNN_separate_avc_75 = pd.DataFrame(result_knn_avc_75, columns=['KNN_avc_75'])\n",
        "KNN_separate_avc_75.index.name = 'item_id'"
      ],
      "metadata": {
        "id": "BK0RSdSTaq5A"
      },
      "execution_count": 34,
      "outputs": []
    },
    {
      "cell_type": "code",
      "source": [
        "result_knn_75_pscr = []\n",
        "for prod in prods:\n",
        "  \n",
        "  knn = KNeighborsWeightedNewsvendor(cu = cu, co = co_75, n_neighbors = best_param_k_75[prod])\n",
        "  knn.fit(X_train.loc[prod], Y_train.loc[prod])\n",
        "  preds_knn = knn.predict(X_test.loc[prod])\n",
        "\n",
        "  saa = SampleAverageApproximationNewsvendor(cu = cu, co = co_75)\n",
        "  saa.fit(Y_train.loc[prod])\n",
        "  preds_saa = saa.predict(n_steps = 508)\n",
        "\n",
        "\n",
        "\n",
        "  pscr = prescriptiveness_score(Y_test.loc[prod], preds_knn, preds_saa ,cu = cu, co = co_75)\n",
        "  result_knn_75_pscr.append(pscr)"
      ],
      "metadata": {
        "id": "R7jegqSfa0pw"
      },
      "execution_count": 36,
      "outputs": []
    },
    {
      "cell_type": "code",
      "source": [
        "KNN_separate_pscr_75 = pd.DataFrame(result_knn_75_pscr, columns=['KNN_pscr_75'])\n",
        "KNN_separate_pscr_75.index.name = 'item_id'"
      ],
      "metadata": {
        "id": "3CFPy7jcbXnx"
      },
      "execution_count": 37,
      "outputs": []
    },
    {
      "cell_type": "markdown",
      "source": [
        "# knn for 50% service level\n",
        "\n",
        "## randomized search\n",
        "*   an empty list is created for every type of hyperparameter\n",
        "*   in a for-loop the randomized search is executed for every item with cu and co of alpha = 0,5\n",
        "*   the best hyperparams are calculated and added to the corresponding list"
      ],
      "metadata": {
        "id": "VXspbz1yb1nz"
      }
    },
    {
      "cell_type": "code",
      "source": [
        "best_param_k_50 = []\n",
        "for prod in prods:\n",
        "  \n",
        "  \n",
        "  knn = KNeighborsWeightedNewsvendor(cu = cu, co = co_50)\n",
        "  \n",
        "  random = RandomizedSearchCV(knn, param_random, cv=5, scoring = scorer_avc)\n",
        "  random.fit(X_train.loc[prod], Y_train.loc[prod])\n",
        "  \n",
        "  k =  k = random.best_params_.get('n_neighbors')\n",
        "  best_param_k_50.append(k)"
      ],
      "metadata": {
        "id": "zWBkyimCb0xE"
      },
      "execution_count": null,
      "outputs": []
    },
    {
      "cell_type": "markdown",
      "source": [
        "## Newsvendor-Model\n",
        "*   the data-driven newsvendor model is executed in a loop for every single item (with optimal hyperparameters)\n",
        "*   the average_costs for every item are calculated (later the prescritiveness score will be used for better comparability)"
      ],
      "metadata": {
        "id": "w73-j8bKcaxy"
      }
    },
    {
      "cell_type": "code",
      "source": [
        "result_knn_avc_50 = []\n",
        "for prod in prods:\n",
        "  \n",
        "  knn = KNeighborsWeightedNewsvendor(cu = cu, co = co_50, n_neighbors = best_param_k_50[prod])\n",
        "  knn.fit(X_train.loc[prod], Y_train.loc[prod])\n",
        "  preds = knn.predict(X_test.loc[prod])\n",
        "\n",
        "  avc = round(average_costs(Y_test.loc[prod], preds, cu = cu, co = co_50),2)\n",
        "  result_knn_avc_50.append(avc)"
      ],
      "metadata": {
        "id": "DGLsxN-XcaMa"
      },
      "execution_count": 43,
      "outputs": []
    },
    {
      "cell_type": "code",
      "source": [
        "KNN_separate_avc_50 = pd.DataFrame(result_knn_avc_50, columns=['KNN_avc_50'])\n",
        "KNN_separate_avc_50.index.name = 'item_id'"
      ],
      "metadata": {
        "id": "wV9UOfIGc7az"
      },
      "execution_count": 44,
      "outputs": []
    },
    {
      "cell_type": "code",
      "source": [
        "result_knn_50_pscr = []\n",
        "for prod in prods:\n",
        "  \n",
        "  knn = KNeighborsWeightedNewsvendor(cu = cu, co = co_50, n_neighbors = best_param_k_50[prod])\n",
        "  knn.fit(X_train.loc[prod], Y_train.loc[prod])\n",
        "  preds_knn = knn.predict(X_test.loc[prod])\n",
        "\n",
        "  saa = SampleAverageApproximationNewsvendor(cu = cu, co = co_50)\n",
        "  saa.fit(Y_train.loc[prod])\n",
        "  preds_saa = saa.predict(n_steps = 508)\n",
        "\n",
        "\n",
        "\n",
        "  pscr = prescriptiveness_score(Y_test.loc[prod], preds_knn, preds_saa ,cu = cu, co = co_50)\n",
        "  result_knn_50_pscr.append(pscr)"
      ],
      "metadata": {
        "id": "uDQXGaJqdG-G"
      },
      "execution_count": 45,
      "outputs": []
    },
    {
      "cell_type": "code",
      "source": [
        "KNN_separate_pscr_50 = pd.DataFrame(result_knn_50_pscr, columns=['KNN_pscr_50'])\n",
        "KNN_separate_pscr_50.index.name = 'item_id'"
      ],
      "metadata": {
        "id": "guSoZG2ZdSoe"
      },
      "execution_count": 46,
      "outputs": []
    },
    {
      "cell_type": "markdown",
      "source": [
        "# Merging"
      ],
      "metadata": {
        "id": "z6C88HVFdZHR"
      }
    },
    {
      "cell_type": "code",
      "source": [
        "KNN_separated_avc = pd.concat([KNN_separate_avc_90, KNN_separate_avc_75, KNN_separate_avc_50], axis=1)\n",
        "KNN_separated_avc"
      ],
      "metadata": {
        "colab": {
          "base_uri": "https://localhost:8080/",
          "height": 864
        },
        "id": "IfGe--uAdcUo",
        "outputId": "610514f5-67b2-446b-b4e8-0c001701d445"
      },
      "execution_count": 47,
      "outputs": [
        {
          "output_type": "execute_result",
          "data": {
            "text/plain": [
              "         KNN_avc_90  KNN_avc_75  KNN_avc_50\n",
              "item_id                                    \n",
              "0              2.46        5.47        9.46\n",
              "1              1.00        2.12        3.59\n",
              "2              2.20        4.67        8.02\n",
              "3              1.96        4.24        7.56\n",
              "4              2.30        4.98        9.46\n",
              "5              1.34        3.04        5.31\n",
              "6              1.79        3.95        6.91\n",
              "7              1.62        3.56        6.76\n",
              "8              1.26        2.72        5.01\n",
              "9              1.33        2.84        5.18\n",
              "10             5.65       12.80       22.77\n",
              "11             1.37        2.97        5.34\n",
              "12             2.17        4.72        8.80\n",
              "13             0.82        1.80        2.99\n",
              "14             2.36        5.18        9.51\n",
              "15             1.44        3.11        5.43\n",
              "16             0.85        1.96        3.53\n",
              "17             3.08        6.94       12.93\n",
              "18             6.75       14.81       26.07\n",
              "19             1.11        2.51        4.34\n",
              "20             2.30        5.22        8.83\n",
              "21             1.80        3.92        7.11\n",
              "22             2.73        5.74       10.14\n",
              "23             3.80        8.87       15.75\n",
              "24             2.15        4.77        8.49"
            ],
            "text/html": [
              "\n",
              "  <div id=\"df-7fae3185-6b38-4c7c-9dcf-2e5b391f197c\">\n",
              "    <div class=\"colab-df-container\">\n",
              "      <div>\n",
              "<style scoped>\n",
              "    .dataframe tbody tr th:only-of-type {\n",
              "        vertical-align: middle;\n",
              "    }\n",
              "\n",
              "    .dataframe tbody tr th {\n",
              "        vertical-align: top;\n",
              "    }\n",
              "\n",
              "    .dataframe thead th {\n",
              "        text-align: right;\n",
              "    }\n",
              "</style>\n",
              "<table border=\"1\" class=\"dataframe\">\n",
              "  <thead>\n",
              "    <tr style=\"text-align: right;\">\n",
              "      <th></th>\n",
              "      <th>KNN_avc_90</th>\n",
              "      <th>KNN_avc_75</th>\n",
              "      <th>KNN_avc_50</th>\n",
              "    </tr>\n",
              "    <tr>\n",
              "      <th>item_id</th>\n",
              "      <th></th>\n",
              "      <th></th>\n",
              "      <th></th>\n",
              "    </tr>\n",
              "  </thead>\n",
              "  <tbody>\n",
              "    <tr>\n",
              "      <th>0</th>\n",
              "      <td>2.46</td>\n",
              "      <td>5.47</td>\n",
              "      <td>9.46</td>\n",
              "    </tr>\n",
              "    <tr>\n",
              "      <th>1</th>\n",
              "      <td>1.00</td>\n",
              "      <td>2.12</td>\n",
              "      <td>3.59</td>\n",
              "    </tr>\n",
              "    <tr>\n",
              "      <th>2</th>\n",
              "      <td>2.20</td>\n",
              "      <td>4.67</td>\n",
              "      <td>8.02</td>\n",
              "    </tr>\n",
              "    <tr>\n",
              "      <th>3</th>\n",
              "      <td>1.96</td>\n",
              "      <td>4.24</td>\n",
              "      <td>7.56</td>\n",
              "    </tr>\n",
              "    <tr>\n",
              "      <th>4</th>\n",
              "      <td>2.30</td>\n",
              "      <td>4.98</td>\n",
              "      <td>9.46</td>\n",
              "    </tr>\n",
              "    <tr>\n",
              "      <th>5</th>\n",
              "      <td>1.34</td>\n",
              "      <td>3.04</td>\n",
              "      <td>5.31</td>\n",
              "    </tr>\n",
              "    <tr>\n",
              "      <th>6</th>\n",
              "      <td>1.79</td>\n",
              "      <td>3.95</td>\n",
              "      <td>6.91</td>\n",
              "    </tr>\n",
              "    <tr>\n",
              "      <th>7</th>\n",
              "      <td>1.62</td>\n",
              "      <td>3.56</td>\n",
              "      <td>6.76</td>\n",
              "    </tr>\n",
              "    <tr>\n",
              "      <th>8</th>\n",
              "      <td>1.26</td>\n",
              "      <td>2.72</td>\n",
              "      <td>5.01</td>\n",
              "    </tr>\n",
              "    <tr>\n",
              "      <th>9</th>\n",
              "      <td>1.33</td>\n",
              "      <td>2.84</td>\n",
              "      <td>5.18</td>\n",
              "    </tr>\n",
              "    <tr>\n",
              "      <th>10</th>\n",
              "      <td>5.65</td>\n",
              "      <td>12.80</td>\n",
              "      <td>22.77</td>\n",
              "    </tr>\n",
              "    <tr>\n",
              "      <th>11</th>\n",
              "      <td>1.37</td>\n",
              "      <td>2.97</td>\n",
              "      <td>5.34</td>\n",
              "    </tr>\n",
              "    <tr>\n",
              "      <th>12</th>\n",
              "      <td>2.17</td>\n",
              "      <td>4.72</td>\n",
              "      <td>8.80</td>\n",
              "    </tr>\n",
              "    <tr>\n",
              "      <th>13</th>\n",
              "      <td>0.82</td>\n",
              "      <td>1.80</td>\n",
              "      <td>2.99</td>\n",
              "    </tr>\n",
              "    <tr>\n",
              "      <th>14</th>\n",
              "      <td>2.36</td>\n",
              "      <td>5.18</td>\n",
              "      <td>9.51</td>\n",
              "    </tr>\n",
              "    <tr>\n",
              "      <th>15</th>\n",
              "      <td>1.44</td>\n",
              "      <td>3.11</td>\n",
              "      <td>5.43</td>\n",
              "    </tr>\n",
              "    <tr>\n",
              "      <th>16</th>\n",
              "      <td>0.85</td>\n",
              "      <td>1.96</td>\n",
              "      <td>3.53</td>\n",
              "    </tr>\n",
              "    <tr>\n",
              "      <th>17</th>\n",
              "      <td>3.08</td>\n",
              "      <td>6.94</td>\n",
              "      <td>12.93</td>\n",
              "    </tr>\n",
              "    <tr>\n",
              "      <th>18</th>\n",
              "      <td>6.75</td>\n",
              "      <td>14.81</td>\n",
              "      <td>26.07</td>\n",
              "    </tr>\n",
              "    <tr>\n",
              "      <th>19</th>\n",
              "      <td>1.11</td>\n",
              "      <td>2.51</td>\n",
              "      <td>4.34</td>\n",
              "    </tr>\n",
              "    <tr>\n",
              "      <th>20</th>\n",
              "      <td>2.30</td>\n",
              "      <td>5.22</td>\n",
              "      <td>8.83</td>\n",
              "    </tr>\n",
              "    <tr>\n",
              "      <th>21</th>\n",
              "      <td>1.80</td>\n",
              "      <td>3.92</td>\n",
              "      <td>7.11</td>\n",
              "    </tr>\n",
              "    <tr>\n",
              "      <th>22</th>\n",
              "      <td>2.73</td>\n",
              "      <td>5.74</td>\n",
              "      <td>10.14</td>\n",
              "    </tr>\n",
              "    <tr>\n",
              "      <th>23</th>\n",
              "      <td>3.80</td>\n",
              "      <td>8.87</td>\n",
              "      <td>15.75</td>\n",
              "    </tr>\n",
              "    <tr>\n",
              "      <th>24</th>\n",
              "      <td>2.15</td>\n",
              "      <td>4.77</td>\n",
              "      <td>8.49</td>\n",
              "    </tr>\n",
              "  </tbody>\n",
              "</table>\n",
              "</div>\n",
              "      <button class=\"colab-df-convert\" onclick=\"convertToInteractive('df-7fae3185-6b38-4c7c-9dcf-2e5b391f197c')\"\n",
              "              title=\"Convert this dataframe to an interactive table.\"\n",
              "              style=\"display:none;\">\n",
              "        \n",
              "  <svg xmlns=\"http://www.w3.org/2000/svg\" height=\"24px\"viewBox=\"0 0 24 24\"\n",
              "       width=\"24px\">\n",
              "    <path d=\"M0 0h24v24H0V0z\" fill=\"none\"/>\n",
              "    <path d=\"M18.56 5.44l.94 2.06.94-2.06 2.06-.94-2.06-.94-.94-2.06-.94 2.06-2.06.94zm-11 1L8.5 8.5l.94-2.06 2.06-.94-2.06-.94L8.5 2.5l-.94 2.06-2.06.94zm10 10l.94 2.06.94-2.06 2.06-.94-2.06-.94-.94-2.06-.94 2.06-2.06.94z\"/><path d=\"M17.41 7.96l-1.37-1.37c-.4-.4-.92-.59-1.43-.59-.52 0-1.04.2-1.43.59L10.3 9.45l-7.72 7.72c-.78.78-.78 2.05 0 2.83L4 21.41c.39.39.9.59 1.41.59.51 0 1.02-.2 1.41-.59l7.78-7.78 2.81-2.81c.8-.78.8-2.07 0-2.86zM5.41 20L4 18.59l7.72-7.72 1.47 1.35L5.41 20z\"/>\n",
              "  </svg>\n",
              "      </button>\n",
              "      \n",
              "  <style>\n",
              "    .colab-df-container {\n",
              "      display:flex;\n",
              "      flex-wrap:wrap;\n",
              "      gap: 12px;\n",
              "    }\n",
              "\n",
              "    .colab-df-convert {\n",
              "      background-color: #E8F0FE;\n",
              "      border: none;\n",
              "      border-radius: 50%;\n",
              "      cursor: pointer;\n",
              "      display: none;\n",
              "      fill: #1967D2;\n",
              "      height: 32px;\n",
              "      padding: 0 0 0 0;\n",
              "      width: 32px;\n",
              "    }\n",
              "\n",
              "    .colab-df-convert:hover {\n",
              "      background-color: #E2EBFA;\n",
              "      box-shadow: 0px 1px 2px rgba(60, 64, 67, 0.3), 0px 1px 3px 1px rgba(60, 64, 67, 0.15);\n",
              "      fill: #174EA6;\n",
              "    }\n",
              "\n",
              "    [theme=dark] .colab-df-convert {\n",
              "      background-color: #3B4455;\n",
              "      fill: #D2E3FC;\n",
              "    }\n",
              "\n",
              "    [theme=dark] .colab-df-convert:hover {\n",
              "      background-color: #434B5C;\n",
              "      box-shadow: 0px 1px 3px 1px rgba(0, 0, 0, 0.15);\n",
              "      filter: drop-shadow(0px 1px 2px rgba(0, 0, 0, 0.3));\n",
              "      fill: #FFFFFF;\n",
              "    }\n",
              "  </style>\n",
              "\n",
              "      <script>\n",
              "        const buttonEl =\n",
              "          document.querySelector('#df-7fae3185-6b38-4c7c-9dcf-2e5b391f197c button.colab-df-convert');\n",
              "        buttonEl.style.display =\n",
              "          google.colab.kernel.accessAllowed ? 'block' : 'none';\n",
              "\n",
              "        async function convertToInteractive(key) {\n",
              "          const element = document.querySelector('#df-7fae3185-6b38-4c7c-9dcf-2e5b391f197c');\n",
              "          const dataTable =\n",
              "            await google.colab.kernel.invokeFunction('convertToInteractive',\n",
              "                                                     [key], {});\n",
              "          if (!dataTable) return;\n",
              "\n",
              "          const docLinkHtml = 'Like what you see? Visit the ' +\n",
              "            '<a target=\"_blank\" href=https://colab.research.google.com/notebooks/data_table.ipynb>data table notebook</a>'\n",
              "            + ' to learn more about interactive tables.';\n",
              "          element.innerHTML = '';\n",
              "          dataTable['output_type'] = 'display_data';\n",
              "          await google.colab.output.renderOutput(dataTable, element);\n",
              "          const docLink = document.createElement('div');\n",
              "          docLink.innerHTML = docLinkHtml;\n",
              "          element.appendChild(docLink);\n",
              "        }\n",
              "      </script>\n",
              "    </div>\n",
              "  </div>\n",
              "  "
            ]
          },
          "metadata": {},
          "execution_count": 47
        }
      ]
    },
    {
      "cell_type": "code",
      "source": [
        "KNN_separated_pscr = pd.concat([KNN_separate_pscr_90, KNN_separate_pscr_75, KNN_separate_pscr_50], axis=1)\n",
        "KNN_separated_pscr"
      ],
      "metadata": {
        "colab": {
          "base_uri": "https://localhost:8080/",
          "height": 864
        },
        "id": "fzNOg6tHd5Jm",
        "outputId": "3990d8e6-17c3-45cd-c7c1-2e61080de652"
      },
      "execution_count": 48,
      "outputs": [
        {
          "output_type": "execute_result",
          "data": {
            "text/plain": [
              "         KNN_pscr_90  KNN_pscr_75  KNN_pscr_50\n",
              "item_id                                       \n",
              "0           0.342101     0.269963     0.249334\n",
              "1           0.441795     0.461729     0.430851\n",
              "2           0.244910     0.167372     0.134781\n",
              "3           0.630184     0.583116     0.509393\n",
              "4           0.287912     0.194532     0.150602\n",
              "5           0.358213     0.278808     0.172549\n",
              "6           0.463736     0.443307     0.419718\n",
              "7           0.405723     0.258365     0.157344\n",
              "8           0.351101     0.266114     0.219097\n",
              "9           0.272607     0.284155     0.217722\n",
              "10          0.335479     0.210327     0.168173\n",
              "11          0.328622     0.279566     0.255406\n",
              "12          0.356909     0.344961     0.304045\n",
              "13          0.539474     0.438971     0.324811\n",
              "14          0.233791     0.202624     0.264677\n",
              "15          0.175537     0.104904     0.079545\n",
              "16          0.187250     0.166667     0.118449\n",
              "17          0.248399     0.150872     0.102736\n",
              "18          0.210016     0.161936     0.155507\n",
              "19          0.390428     0.273757     0.183899\n",
              "20          0.425726     0.384095     0.371608\n",
              "21          0.236077     0.136742     0.122607\n",
              "22          0.535134     0.455762     0.351822\n",
              "23          0.355685     0.221991     0.193431\n",
              "24          0.306953     0.211827     0.255421"
            ],
            "text/html": [
              "\n",
              "  <div id=\"df-a85596e8-a90b-4dc5-96de-064985e45bf6\">\n",
              "    <div class=\"colab-df-container\">\n",
              "      <div>\n",
              "<style scoped>\n",
              "    .dataframe tbody tr th:only-of-type {\n",
              "        vertical-align: middle;\n",
              "    }\n",
              "\n",
              "    .dataframe tbody tr th {\n",
              "        vertical-align: top;\n",
              "    }\n",
              "\n",
              "    .dataframe thead th {\n",
              "        text-align: right;\n",
              "    }\n",
              "</style>\n",
              "<table border=\"1\" class=\"dataframe\">\n",
              "  <thead>\n",
              "    <tr style=\"text-align: right;\">\n",
              "      <th></th>\n",
              "      <th>KNN_pscr_90</th>\n",
              "      <th>KNN_pscr_75</th>\n",
              "      <th>KNN_pscr_50</th>\n",
              "    </tr>\n",
              "    <tr>\n",
              "      <th>item_id</th>\n",
              "      <th></th>\n",
              "      <th></th>\n",
              "      <th></th>\n",
              "    </tr>\n",
              "  </thead>\n",
              "  <tbody>\n",
              "    <tr>\n",
              "      <th>0</th>\n",
              "      <td>0.342101</td>\n",
              "      <td>0.269963</td>\n",
              "      <td>0.249334</td>\n",
              "    </tr>\n",
              "    <tr>\n",
              "      <th>1</th>\n",
              "      <td>0.441795</td>\n",
              "      <td>0.461729</td>\n",
              "      <td>0.430851</td>\n",
              "    </tr>\n",
              "    <tr>\n",
              "      <th>2</th>\n",
              "      <td>0.244910</td>\n",
              "      <td>0.167372</td>\n",
              "      <td>0.134781</td>\n",
              "    </tr>\n",
              "    <tr>\n",
              "      <th>3</th>\n",
              "      <td>0.630184</td>\n",
              "      <td>0.583116</td>\n",
              "      <td>0.509393</td>\n",
              "    </tr>\n",
              "    <tr>\n",
              "      <th>4</th>\n",
              "      <td>0.287912</td>\n",
              "      <td>0.194532</td>\n",
              "      <td>0.150602</td>\n",
              "    </tr>\n",
              "    <tr>\n",
              "      <th>5</th>\n",
              "      <td>0.358213</td>\n",
              "      <td>0.278808</td>\n",
              "      <td>0.172549</td>\n",
              "    </tr>\n",
              "    <tr>\n",
              "      <th>6</th>\n",
              "      <td>0.463736</td>\n",
              "      <td>0.443307</td>\n",
              "      <td>0.419718</td>\n",
              "    </tr>\n",
              "    <tr>\n",
              "      <th>7</th>\n",
              "      <td>0.405723</td>\n",
              "      <td>0.258365</td>\n",
              "      <td>0.157344</td>\n",
              "    </tr>\n",
              "    <tr>\n",
              "      <th>8</th>\n",
              "      <td>0.351101</td>\n",
              "      <td>0.266114</td>\n",
              "      <td>0.219097</td>\n",
              "    </tr>\n",
              "    <tr>\n",
              "      <th>9</th>\n",
              "      <td>0.272607</td>\n",
              "      <td>0.284155</td>\n",
              "      <td>0.217722</td>\n",
              "    </tr>\n",
              "    <tr>\n",
              "      <th>10</th>\n",
              "      <td>0.335479</td>\n",
              "      <td>0.210327</td>\n",
              "      <td>0.168173</td>\n",
              "    </tr>\n",
              "    <tr>\n",
              "      <th>11</th>\n",
              "      <td>0.328622</td>\n",
              "      <td>0.279566</td>\n",
              "      <td>0.255406</td>\n",
              "    </tr>\n",
              "    <tr>\n",
              "      <th>12</th>\n",
              "      <td>0.356909</td>\n",
              "      <td>0.344961</td>\n",
              "      <td>0.304045</td>\n",
              "    </tr>\n",
              "    <tr>\n",
              "      <th>13</th>\n",
              "      <td>0.539474</td>\n",
              "      <td>0.438971</td>\n",
              "      <td>0.324811</td>\n",
              "    </tr>\n",
              "    <tr>\n",
              "      <th>14</th>\n",
              "      <td>0.233791</td>\n",
              "      <td>0.202624</td>\n",
              "      <td>0.264677</td>\n",
              "    </tr>\n",
              "    <tr>\n",
              "      <th>15</th>\n",
              "      <td>0.175537</td>\n",
              "      <td>0.104904</td>\n",
              "      <td>0.079545</td>\n",
              "    </tr>\n",
              "    <tr>\n",
              "      <th>16</th>\n",
              "      <td>0.187250</td>\n",
              "      <td>0.166667</td>\n",
              "      <td>0.118449</td>\n",
              "    </tr>\n",
              "    <tr>\n",
              "      <th>17</th>\n",
              "      <td>0.248399</td>\n",
              "      <td>0.150872</td>\n",
              "      <td>0.102736</td>\n",
              "    </tr>\n",
              "    <tr>\n",
              "      <th>18</th>\n",
              "      <td>0.210016</td>\n",
              "      <td>0.161936</td>\n",
              "      <td>0.155507</td>\n",
              "    </tr>\n",
              "    <tr>\n",
              "      <th>19</th>\n",
              "      <td>0.390428</td>\n",
              "      <td>0.273757</td>\n",
              "      <td>0.183899</td>\n",
              "    </tr>\n",
              "    <tr>\n",
              "      <th>20</th>\n",
              "      <td>0.425726</td>\n",
              "      <td>0.384095</td>\n",
              "      <td>0.371608</td>\n",
              "    </tr>\n",
              "    <tr>\n",
              "      <th>21</th>\n",
              "      <td>0.236077</td>\n",
              "      <td>0.136742</td>\n",
              "      <td>0.122607</td>\n",
              "    </tr>\n",
              "    <tr>\n",
              "      <th>22</th>\n",
              "      <td>0.535134</td>\n",
              "      <td>0.455762</td>\n",
              "      <td>0.351822</td>\n",
              "    </tr>\n",
              "    <tr>\n",
              "      <th>23</th>\n",
              "      <td>0.355685</td>\n",
              "      <td>0.221991</td>\n",
              "      <td>0.193431</td>\n",
              "    </tr>\n",
              "    <tr>\n",
              "      <th>24</th>\n",
              "      <td>0.306953</td>\n",
              "      <td>0.211827</td>\n",
              "      <td>0.255421</td>\n",
              "    </tr>\n",
              "  </tbody>\n",
              "</table>\n",
              "</div>\n",
              "      <button class=\"colab-df-convert\" onclick=\"convertToInteractive('df-a85596e8-a90b-4dc5-96de-064985e45bf6')\"\n",
              "              title=\"Convert this dataframe to an interactive table.\"\n",
              "              style=\"display:none;\">\n",
              "        \n",
              "  <svg xmlns=\"http://www.w3.org/2000/svg\" height=\"24px\"viewBox=\"0 0 24 24\"\n",
              "       width=\"24px\">\n",
              "    <path d=\"M0 0h24v24H0V0z\" fill=\"none\"/>\n",
              "    <path d=\"M18.56 5.44l.94 2.06.94-2.06 2.06-.94-2.06-.94-.94-2.06-.94 2.06-2.06.94zm-11 1L8.5 8.5l.94-2.06 2.06-.94-2.06-.94L8.5 2.5l-.94 2.06-2.06.94zm10 10l.94 2.06.94-2.06 2.06-.94-2.06-.94-.94-2.06-.94 2.06-2.06.94z\"/><path d=\"M17.41 7.96l-1.37-1.37c-.4-.4-.92-.59-1.43-.59-.52 0-1.04.2-1.43.59L10.3 9.45l-7.72 7.72c-.78.78-.78 2.05 0 2.83L4 21.41c.39.39.9.59 1.41.59.51 0 1.02-.2 1.41-.59l7.78-7.78 2.81-2.81c.8-.78.8-2.07 0-2.86zM5.41 20L4 18.59l7.72-7.72 1.47 1.35L5.41 20z\"/>\n",
              "  </svg>\n",
              "      </button>\n",
              "      \n",
              "  <style>\n",
              "    .colab-df-container {\n",
              "      display:flex;\n",
              "      flex-wrap:wrap;\n",
              "      gap: 12px;\n",
              "    }\n",
              "\n",
              "    .colab-df-convert {\n",
              "      background-color: #E8F0FE;\n",
              "      border: none;\n",
              "      border-radius: 50%;\n",
              "      cursor: pointer;\n",
              "      display: none;\n",
              "      fill: #1967D2;\n",
              "      height: 32px;\n",
              "      padding: 0 0 0 0;\n",
              "      width: 32px;\n",
              "    }\n",
              "\n",
              "    .colab-df-convert:hover {\n",
              "      background-color: #E2EBFA;\n",
              "      box-shadow: 0px 1px 2px rgba(60, 64, 67, 0.3), 0px 1px 3px 1px rgba(60, 64, 67, 0.15);\n",
              "      fill: #174EA6;\n",
              "    }\n",
              "\n",
              "    [theme=dark] .colab-df-convert {\n",
              "      background-color: #3B4455;\n",
              "      fill: #D2E3FC;\n",
              "    }\n",
              "\n",
              "    [theme=dark] .colab-df-convert:hover {\n",
              "      background-color: #434B5C;\n",
              "      box-shadow: 0px 1px 3px 1px rgba(0, 0, 0, 0.15);\n",
              "      filter: drop-shadow(0px 1px 2px rgba(0, 0, 0, 0.3));\n",
              "      fill: #FFFFFF;\n",
              "    }\n",
              "  </style>\n",
              "\n",
              "      <script>\n",
              "        const buttonEl =\n",
              "          document.querySelector('#df-a85596e8-a90b-4dc5-96de-064985e45bf6 button.colab-df-convert');\n",
              "        buttonEl.style.display =\n",
              "          google.colab.kernel.accessAllowed ? 'block' : 'none';\n",
              "\n",
              "        async function convertToInteractive(key) {\n",
              "          const element = document.querySelector('#df-a85596e8-a90b-4dc5-96de-064985e45bf6');\n",
              "          const dataTable =\n",
              "            await google.colab.kernel.invokeFunction('convertToInteractive',\n",
              "                                                     [key], {});\n",
              "          if (!dataTable) return;\n",
              "\n",
              "          const docLinkHtml = 'Like what you see? Visit the ' +\n",
              "            '<a target=\"_blank\" href=https://colab.research.google.com/notebooks/data_table.ipynb>data table notebook</a>'\n",
              "            + ' to learn more about interactive tables.';\n",
              "          element.innerHTML = '';\n",
              "          dataTable['output_type'] = 'display_data';\n",
              "          await google.colab.output.renderOutput(dataTable, element);\n",
              "          const docLink = document.createElement('div');\n",
              "          docLink.innerHTML = docLinkHtml;\n",
              "          element.appendChild(docLink);\n",
              "        }\n",
              "      </script>\n",
              "    </div>\n",
              "  </div>\n",
              "  "
            ]
          },
          "metadata": {},
          "execution_count": 48
        }
      ]
    },
    {
      "cell_type": "markdown",
      "source": [
        "# Saving Files"
      ],
      "metadata": {
        "id": "oeik36GDeOmG"
      }
    },
    {
      "cell_type": "code",
      "source": [
        "KNN_separated_avc.to_csv('/content/drive/MyDrive/M5/KNN_separated_avc.csv')\n",
        "\n",
        "KNN_separated_pscr.to_csv('/content/drive/MyDrive/M5/KNN_separated_pscr.csv')"
      ],
      "metadata": {
        "id": "6rN3qYsFeRfV"
      },
      "execution_count": 49,
      "outputs": []
    }
  ]
}
