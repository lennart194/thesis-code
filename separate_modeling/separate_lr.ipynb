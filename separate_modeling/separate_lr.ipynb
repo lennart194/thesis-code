{
  "nbformat": 4,
  "nbformat_minor": 0,
  "metadata": {
    "colab": {
      "name": "separatemodeling_lr.ipynb",
      "provenance": [],
      "collapsed_sections": [],
      "authorship_tag": "ABX9TyMDB5OyRBS55bie4m2FhkXK",
      "include_colab_link": true
    },
    "kernelspec": {
      "name": "python3",
      "display_name": "Python 3"
    },
    "language_info": {
      "name": "python"
    }
  },
  "cells": [
    {
      "cell_type": "markdown",
      "metadata": {
        "id": "view-in-github",
        "colab_type": "text"
      },
      "source": [
        "<a href=\"https://colab.research.google.com/github/lennart194/thesis-code/blob/main/separatemodeling_lr.ipynb\" target=\"_parent\"><img src=\"https://colab.research.google.com/assets/colab-badge.svg\" alt=\"Open In Colab\"/></a>"
      ]
    },
    {
      "cell_type": "code",
      "execution_count": null,
      "metadata": {
        "id": "8HgBM_oqNhqx"
      },
      "outputs": [],
      "source": [
        "pip install ddop"
      ]
    },
    {
      "cell_type": "code",
      "source": [
        "import pandas as pd\n",
        "import numpy as np\n",
        "\n",
        "from ddop.newsvendor import SampleAverageApproximationNewsvendor\n",
        "from ddop.newsvendor import LinearRegressionNewsvendor\n",
        "\n",
        "from ddop.metrics import average_costs\n",
        "from ddop.metrics import prescriptiveness_score"
      ],
      "metadata": {
        "id": "4BBQFSr4NvqV"
      },
      "execution_count": 37,
      "outputs": []
    },
    {
      "cell_type": "code",
      "source": [
        "from google.colab import drive\n",
        "drive.mount('/content/drive')"
      ],
      "metadata": {
        "id": "WmuJ1Oc8N4Cv",
        "colab": {
          "base_uri": "https://localhost:8080/"
        },
        "outputId": "c40adfef-81e9-4d76-fa58-76666bce11dc"
      },
      "execution_count": 3,
      "outputs": [
        {
          "output_type": "stream",
          "name": "stdout",
          "text": [
            "Mounted at /content/drive\n"
          ]
        }
      ]
    },
    {
      "cell_type": "markdown",
      "source": [
        "## Loading data-set\n",
        "\n",
        "*   load the whole ultimative set\n",
        "*   sort the rows first by item, then by date and set a multi index\n",
        "**now every items time series can be separated by the index**"
      ],
      "metadata": {
        "id": "zl6lTv-IOXJs"
      }
    },
    {
      "cell_type": "code",
      "source": [
        "data = pd.read_csv('/content/drive/MyDrive/M5/ultimative_set.csv')\n",
        "data = data.drop(columns=['Unnamed: 0'])\n",
        "data = data.sort_values(by=['item_id', 'date'])\n",
        "data = data.set_index(['item_id', 'date'])"
      ],
      "metadata": {
        "id": "Q7x4RthZOTd-"
      },
      "execution_count": 4,
      "outputs": []
    },
    {
      "cell_type": "markdown",
      "source": [
        "## Split in feature and target matrix"
      ],
      "metadata": {
        "id": "s25nbvfKOdL4"
      }
    },
    {
      "cell_type": "code",
      "source": [
        "X = data.drop(columns=['demand'])\n",
        "Y = data['demand']"
      ],
      "metadata": {
        "id": "K6J508hEOd2J"
      },
      "execution_count": 5,
      "outputs": []
    },
    {
      "cell_type": "markdown",
      "source": [
        "## train_test_split"
      ],
      "metadata": {
        "id": "ygbCqPSmOgTF"
      }
    },
    {
      "cell_type": "code",
      "source": [
        "X_train = X.loc[(slice(None), slice(None, \"2015\")), :]\n",
        "X_test = X.loc[(slice(None), slice(\"2015\", '2017')), :]\n",
        "\n",
        "Y_train = Y.loc[(slice(None), slice(None, \"2015\"))]\n",
        "Y_test = Y.loc[(slice(None), slice(\"2015\", \"2017\"))]"
      ],
      "metadata": {
        "id": "N_BGkDeUOqLA"
      },
      "execution_count": 6,
      "outputs": []
    },
    {
      "cell_type": "markdown",
      "source": [
        "## Definition of the item_ids \n",
        "\n",
        "\n",
        "*   will be needed within the for loops later\n",
        "*   will contain all 25 products"
      ],
      "metadata": {
        "id": "-oxRVpnfOtMg"
      }
    },
    {
      "cell_type": "code",
      "source": [
        "prods = list(range(0,25))\n",
        "\n",
        "cu = round(X_train['sell_price'].mean(),2)\n",
        "\n",
        "co_90 = round(((cu-(0.90*cu))/0.90),2)\n",
        "\n",
        "co_75 = round(((cu-(0.75*cu))/0.75),2)\n",
        "\n",
        "co_50 = round(((cu-(0.50*cu))/0.50),2)"
      ],
      "metadata": {
        "id": "TF1f4HGqOwWt"
      },
      "execution_count": 36,
      "outputs": []
    },
    {
      "cell_type": "markdown",
      "source": [
        "# Newsvendor-Model 90%\n",
        "*   the data-driven newsvendor model is executed in a loop for every single item (with optimal hyperparameters)\n",
        "*   the average_costs for every item are calculated (later the prescritiveness score will be used for better comparability)"
      ],
      "metadata": {
        "id": "o8MZkhneQKxX"
      }
    },
    {
      "cell_type": "code",
      "source": [
        "result_lr_90_avc = []\n",
        "for prod in prods:\n",
        "  lr = LinearRegressionNewsvendor(cu = cu, co = co_90)\n",
        "  lr.fit(X_train.loc[prod], Y_train.loc[prod])\n",
        "  preds = lr.predict(X_test.loc[prod])\n",
        "  avc = round(average_costs(Y_test.loc[prod], preds, cu = cu, co = co_90),2)\n",
        "  result_lr_90_avc.append(avc)"
      ],
      "metadata": {
        "id": "dciwrgJEQT4F"
      },
      "execution_count": 26,
      "outputs": []
    },
    {
      "cell_type": "code",
      "source": [
        "LR_separate_avc_90 = pd.DataFrame(result_lr_90_avc, columns=['LR_avc_90'])\n",
        "LR_separate_avc_90.index.name = 'item_id'"
      ],
      "metadata": {
        "id": "mQONpPJcQcpe"
      },
      "execution_count": 27,
      "outputs": []
    },
    {
      "cell_type": "code",
      "source": [
        "result_lr_90_pscr = []\n",
        "for prod in prods:\n",
        "  lr = LinearRegressionNewsvendor(cu = cu, co = co_90)\n",
        "  lr.fit(X_train.loc[prod], Y_train.loc[prod])\n",
        "  preds_lr = lr.predict(X_test.loc[prod])\n",
        "\n",
        "  saa = SampleAverageApproximationNewsvendor(cu = cu, co = co_90)\n",
        "  saa.fit(Y_train.loc[prod])\n",
        "  preds_saa = saa.predict(n_steps = 508)\n",
        "\n",
        "\n",
        "\n",
        "  pscr = prescriptiveness_score(Y_test.loc[prod], preds_lr, preds_saa ,cu = cu, co = co_90)\n",
        "  result_lr_90_pscr.append(pscr)"
      ],
      "metadata": {
        "id": "ZluOED-wQgXg"
      },
      "execution_count": 38,
      "outputs": []
    },
    {
      "cell_type": "code",
      "source": [
        "LR_separate_pscr_90 = pd.DataFrame(result_lr_90_pscr, columns=['LR_pscr_90'])\n",
        "LR_separate_pscr_90.index.name = 'item_id'"
      ],
      "metadata": {
        "id": "J0YSoLDbQpr2"
      },
      "execution_count": 39,
      "outputs": []
    },
    {
      "cell_type": "markdown",
      "source": [
        "# Newsvendor-Model 75%\n",
        "*   the data-driven newsvendor model is executed in a loop for every single item (with optimal hyperparameters)\n",
        "*   the average_costs for every item are calculated (later the prescritiveness score will be used for better comparability)"
      ],
      "metadata": {
        "id": "qFRnV2HMQuDx"
      }
    },
    {
      "cell_type": "code",
      "source": [
        "result_lr_75_avc = []\n",
        "for prod in prods:\n",
        "  lr = LinearRegressionNewsvendor(cu = cu, co = co_75)\n",
        "  lr.fit(X_train.loc[prod], Y_train.loc[prod])\n",
        "  preds = lr.predict(X_test.loc[prod])\n",
        "  avc = round(average_costs(Y_test.loc[prod], preds, cu = cu, co = co_75),2)\n",
        "  result_lr_75_avc.append(avc)"
      ],
      "metadata": {
        "id": "arZJV9dIQxJx"
      },
      "execution_count": 30,
      "outputs": []
    },
    {
      "cell_type": "code",
      "source": [
        "LR_separate_avc_75 = pd.DataFrame(result_lr_75_avc, columns=['LR_avc_75'])\n",
        "LR_separate_avc_75.index.name = 'item_id'"
      ],
      "metadata": {
        "id": "00beV-OGQ7KM"
      },
      "execution_count": 31,
      "outputs": []
    },
    {
      "cell_type": "code",
      "source": [
        "result_lr_75_pscr = []\n",
        "for prod in prods:\n",
        "  lr = LinearRegressionNewsvendor(cu = cu, co = co_75)\n",
        "  lr.fit(X_train.loc[prod], Y_train.loc[prod])\n",
        "  preds_lr = lr.predict(X_test.loc[prod])\n",
        "\n",
        "  saa = SampleAverageApproximationNewsvendor(cu = cu, co = co_75)\n",
        "  saa.fit(Y_train.loc[prod])\n",
        "  preds_saa = saa.predict(n_steps = 508)\n",
        "\n",
        "\n",
        "\n",
        "  pscr = prescriptiveness_score(Y_test.loc[prod], preds_lr, preds_saa ,cu = cu, co = co_75)\n",
        "  result_lr_75_pscr.append(pscr)"
      ],
      "metadata": {
        "id": "4UiI68wcRBVz"
      },
      "execution_count": 41,
      "outputs": []
    },
    {
      "cell_type": "code",
      "source": [
        "LR_separate_pscr_75 = pd.DataFrame(result_lr_75_pscr, columns=['LR_pscr_75'])\n",
        "LR_separate_pscr_75.index.name = 'item_id'"
      ],
      "metadata": {
        "id": "ecXqSxxCRKm0"
      },
      "execution_count": 42,
      "outputs": []
    },
    {
      "cell_type": "markdown",
      "source": [
        "# Newsvendor-Model 50%\n",
        "*   the data-driven newsvendor model is executed in a loop for every single item (with optimal hyperparameters)\n",
        "*   the average_costs for every item are calculated (later the prescritiveness score will be used for better comparability)"
      ],
      "metadata": {
        "id": "o8ozYZh5RVbo"
      }
    },
    {
      "cell_type": "code",
      "source": [
        "result_lr_50_avc = []\n",
        "for prod in prods:\n",
        "  lr = LinearRegressionNewsvendor(cu = cu, co = co_50)\n",
        "  lr.fit(X_train.loc[prod], Y_train.loc[prod])\n",
        "  preds = lr.predict(X_test.loc[prod])\n",
        "  avc = round(average_costs(Y_test.loc[prod], preds, cu = cu, co = co_50),2)\n",
        "  result_lr_50_avc.append(avc)"
      ],
      "metadata": {
        "id": "Bt1RWQz6RY0G"
      },
      "execution_count": 33,
      "outputs": []
    },
    {
      "cell_type": "code",
      "source": [
        "LR_separate_avc_50 = pd.DataFrame(result_lr_50_avc, columns=['LR_avc_50'])\n",
        "LR_separate_avc_50.index.name = 'item_id'"
      ],
      "metadata": {
        "id": "xnhgAT_5Rgxw"
      },
      "execution_count": 34,
      "outputs": []
    },
    {
      "cell_type": "code",
      "source": [
        "result_lr_50_pscr = []\n",
        "for prod in prods:\n",
        "  lr = LinearRegressionNewsvendor(cu = cu, co = co_50)\n",
        "  lr.fit(X_train.loc[prod], Y_train.loc[prod])\n",
        "  preds_lr = lr.predict(X_test.loc[prod])\n",
        "\n",
        "  saa = SampleAverageApproximationNewsvendor(cu = cu, co = co_50)\n",
        "  saa.fit(Y_train.loc[prod])\n",
        "  preds_saa = saa.predict(n_steps = 508)\n",
        "\n",
        "\n",
        "\n",
        "  pscr = prescriptiveness_score(Y_test.loc[prod], preds_lr, preds_saa ,cu = cu, co = co_50)\n",
        "  result_lr_50_pscr.append(pscr)"
      ],
      "metadata": {
        "id": "Eo_Tme_9RmzI"
      },
      "execution_count": 44,
      "outputs": []
    },
    {
      "cell_type": "code",
      "source": [
        "LR_separate_pscr_50 = pd.DataFrame(result_lr_50_pscr, columns=['LR_pscr_50'])\n",
        "LR_separate_pscr_50.index.name = 'item_id'"
      ],
      "metadata": {
        "id": "f0R-s31KRvBM"
      },
      "execution_count": 45,
      "outputs": []
    },
    {
      "cell_type": "markdown",
      "source": [
        "# Merging"
      ],
      "metadata": {
        "id": "bYO8X0RsSB50"
      }
    },
    {
      "cell_type": "code",
      "source": [
        "LR_separated_avc = pd.concat([LR_separate_avc_90, LR_separate_avc_75, LR_separate_avc_50], axis=1)\n",
        "LR_separated_avc"
      ],
      "metadata": {
        "colab": {
          "base_uri": "https://localhost:8080/",
          "height": 864
        },
        "id": "gbERe9A1R-z4",
        "outputId": "da7d7404-7af9-4ee2-ca67-f868542d405a"
      },
      "execution_count": 47,
      "outputs": [
        {
          "output_type": "execute_result",
          "data": {
            "text/plain": [
              "         LR_avc_90  LR_avc_75  LR_avc_50\n",
              "item_id                                 \n",
              "0             2.09       5.13       8.73\n",
              "1             0.88       1.95       3.48\n",
              "2             2.17       4.65       7.72\n",
              "3             1.62       3.91       7.16\n",
              "4             2.11       4.52       9.49\n",
              "5             1.19       2.64       4.75\n",
              "6             1.56       3.71       6.81\n",
              "7             1.34       3.40       6.63\n",
              "8             1.07       2.67       4.66\n",
              "9             1.07       2.64       4.78\n",
              "10            4.68       9.99      17.74\n",
              "11            1.24       2.92       5.35\n",
              "12            2.02       4.30       7.83\n",
              "13            0.76       1.69       2.88\n",
              "14            1.95       4.72       8.98\n",
              "15            1.23       2.75       4.91\n",
              "16            0.79       1.95       3.44\n",
              "17            2.61       5.93      10.94\n",
              "18            4.67      10.29      19.50\n",
              "19            0.99       2.49       4.26\n",
              "20            1.92       4.45       7.60\n",
              "21            1.61       3.61       6.60\n",
              "22            2.17       5.45       9.38\n",
              "23            3.17       6.38      11.92\n",
              "24            1.84       4.29       7.73"
            ],
            "text/html": [
              "\n",
              "  <div id=\"df-2b701ee8-c576-4b79-9331-18d2e12ce166\">\n",
              "    <div class=\"colab-df-container\">\n",
              "      <div>\n",
              "<style scoped>\n",
              "    .dataframe tbody tr th:only-of-type {\n",
              "        vertical-align: middle;\n",
              "    }\n",
              "\n",
              "    .dataframe tbody tr th {\n",
              "        vertical-align: top;\n",
              "    }\n",
              "\n",
              "    .dataframe thead th {\n",
              "        text-align: right;\n",
              "    }\n",
              "</style>\n",
              "<table border=\"1\" class=\"dataframe\">\n",
              "  <thead>\n",
              "    <tr style=\"text-align: right;\">\n",
              "      <th></th>\n",
              "      <th>LR_avc_90</th>\n",
              "      <th>LR_avc_75</th>\n",
              "      <th>LR_avc_50</th>\n",
              "    </tr>\n",
              "    <tr>\n",
              "      <th>item_id</th>\n",
              "      <th></th>\n",
              "      <th></th>\n",
              "      <th></th>\n",
              "    </tr>\n",
              "  </thead>\n",
              "  <tbody>\n",
              "    <tr>\n",
              "      <th>0</th>\n",
              "      <td>2.09</td>\n",
              "      <td>5.13</td>\n",
              "      <td>8.73</td>\n",
              "    </tr>\n",
              "    <tr>\n",
              "      <th>1</th>\n",
              "      <td>0.88</td>\n",
              "      <td>1.95</td>\n",
              "      <td>3.48</td>\n",
              "    </tr>\n",
              "    <tr>\n",
              "      <th>2</th>\n",
              "      <td>2.17</td>\n",
              "      <td>4.65</td>\n",
              "      <td>7.72</td>\n",
              "    </tr>\n",
              "    <tr>\n",
              "      <th>3</th>\n",
              "      <td>1.62</td>\n",
              "      <td>3.91</td>\n",
              "      <td>7.16</td>\n",
              "    </tr>\n",
              "    <tr>\n",
              "      <th>4</th>\n",
              "      <td>2.11</td>\n",
              "      <td>4.52</td>\n",
              "      <td>9.49</td>\n",
              "    </tr>\n",
              "    <tr>\n",
              "      <th>5</th>\n",
              "      <td>1.19</td>\n",
              "      <td>2.64</td>\n",
              "      <td>4.75</td>\n",
              "    </tr>\n",
              "    <tr>\n",
              "      <th>6</th>\n",
              "      <td>1.56</td>\n",
              "      <td>3.71</td>\n",
              "      <td>6.81</td>\n",
              "    </tr>\n",
              "    <tr>\n",
              "      <th>7</th>\n",
              "      <td>1.34</td>\n",
              "      <td>3.40</td>\n",
              "      <td>6.63</td>\n",
              "    </tr>\n",
              "    <tr>\n",
              "      <th>8</th>\n",
              "      <td>1.07</td>\n",
              "      <td>2.67</td>\n",
              "      <td>4.66</td>\n",
              "    </tr>\n",
              "    <tr>\n",
              "      <th>9</th>\n",
              "      <td>1.07</td>\n",
              "      <td>2.64</td>\n",
              "      <td>4.78</td>\n",
              "    </tr>\n",
              "    <tr>\n",
              "      <th>10</th>\n",
              "      <td>4.68</td>\n",
              "      <td>9.99</td>\n",
              "      <td>17.74</td>\n",
              "    </tr>\n",
              "    <tr>\n",
              "      <th>11</th>\n",
              "      <td>1.24</td>\n",
              "      <td>2.92</td>\n",
              "      <td>5.35</td>\n",
              "    </tr>\n",
              "    <tr>\n",
              "      <th>12</th>\n",
              "      <td>2.02</td>\n",
              "      <td>4.30</td>\n",
              "      <td>7.83</td>\n",
              "    </tr>\n",
              "    <tr>\n",
              "      <th>13</th>\n",
              "      <td>0.76</td>\n",
              "      <td>1.69</td>\n",
              "      <td>2.88</td>\n",
              "    </tr>\n",
              "    <tr>\n",
              "      <th>14</th>\n",
              "      <td>1.95</td>\n",
              "      <td>4.72</td>\n",
              "      <td>8.98</td>\n",
              "    </tr>\n",
              "    <tr>\n",
              "      <th>15</th>\n",
              "      <td>1.23</td>\n",
              "      <td>2.75</td>\n",
              "      <td>4.91</td>\n",
              "    </tr>\n",
              "    <tr>\n",
              "      <th>16</th>\n",
              "      <td>0.79</td>\n",
              "      <td>1.95</td>\n",
              "      <td>3.44</td>\n",
              "    </tr>\n",
              "    <tr>\n",
              "      <th>17</th>\n",
              "      <td>2.61</td>\n",
              "      <td>5.93</td>\n",
              "      <td>10.94</td>\n",
              "    </tr>\n",
              "    <tr>\n",
              "      <th>18</th>\n",
              "      <td>4.67</td>\n",
              "      <td>10.29</td>\n",
              "      <td>19.50</td>\n",
              "    </tr>\n",
              "    <tr>\n",
              "      <th>19</th>\n",
              "      <td>0.99</td>\n",
              "      <td>2.49</td>\n",
              "      <td>4.26</td>\n",
              "    </tr>\n",
              "    <tr>\n",
              "      <th>20</th>\n",
              "      <td>1.92</td>\n",
              "      <td>4.45</td>\n",
              "      <td>7.60</td>\n",
              "    </tr>\n",
              "    <tr>\n",
              "      <th>21</th>\n",
              "      <td>1.61</td>\n",
              "      <td>3.61</td>\n",
              "      <td>6.60</td>\n",
              "    </tr>\n",
              "    <tr>\n",
              "      <th>22</th>\n",
              "      <td>2.17</td>\n",
              "      <td>5.45</td>\n",
              "      <td>9.38</td>\n",
              "    </tr>\n",
              "    <tr>\n",
              "      <th>23</th>\n",
              "      <td>3.17</td>\n",
              "      <td>6.38</td>\n",
              "      <td>11.92</td>\n",
              "    </tr>\n",
              "    <tr>\n",
              "      <th>24</th>\n",
              "      <td>1.84</td>\n",
              "      <td>4.29</td>\n",
              "      <td>7.73</td>\n",
              "    </tr>\n",
              "  </tbody>\n",
              "</table>\n",
              "</div>\n",
              "      <button class=\"colab-df-convert\" onclick=\"convertToInteractive('df-2b701ee8-c576-4b79-9331-18d2e12ce166')\"\n",
              "              title=\"Convert this dataframe to an interactive table.\"\n",
              "              style=\"display:none;\">\n",
              "        \n",
              "  <svg xmlns=\"http://www.w3.org/2000/svg\" height=\"24px\"viewBox=\"0 0 24 24\"\n",
              "       width=\"24px\">\n",
              "    <path d=\"M0 0h24v24H0V0z\" fill=\"none\"/>\n",
              "    <path d=\"M18.56 5.44l.94 2.06.94-2.06 2.06-.94-2.06-.94-.94-2.06-.94 2.06-2.06.94zm-11 1L8.5 8.5l.94-2.06 2.06-.94-2.06-.94L8.5 2.5l-.94 2.06-2.06.94zm10 10l.94 2.06.94-2.06 2.06-.94-2.06-.94-.94-2.06-.94 2.06-2.06.94z\"/><path d=\"M17.41 7.96l-1.37-1.37c-.4-.4-.92-.59-1.43-.59-.52 0-1.04.2-1.43.59L10.3 9.45l-7.72 7.72c-.78.78-.78 2.05 0 2.83L4 21.41c.39.39.9.59 1.41.59.51 0 1.02-.2 1.41-.59l7.78-7.78 2.81-2.81c.8-.78.8-2.07 0-2.86zM5.41 20L4 18.59l7.72-7.72 1.47 1.35L5.41 20z\"/>\n",
              "  </svg>\n",
              "      </button>\n",
              "      \n",
              "  <style>\n",
              "    .colab-df-container {\n",
              "      display:flex;\n",
              "      flex-wrap:wrap;\n",
              "      gap: 12px;\n",
              "    }\n",
              "\n",
              "    .colab-df-convert {\n",
              "      background-color: #E8F0FE;\n",
              "      border: none;\n",
              "      border-radius: 50%;\n",
              "      cursor: pointer;\n",
              "      display: none;\n",
              "      fill: #1967D2;\n",
              "      height: 32px;\n",
              "      padding: 0 0 0 0;\n",
              "      width: 32px;\n",
              "    }\n",
              "\n",
              "    .colab-df-convert:hover {\n",
              "      background-color: #E2EBFA;\n",
              "      box-shadow: 0px 1px 2px rgba(60, 64, 67, 0.3), 0px 1px 3px 1px rgba(60, 64, 67, 0.15);\n",
              "      fill: #174EA6;\n",
              "    }\n",
              "\n",
              "    [theme=dark] .colab-df-convert {\n",
              "      background-color: #3B4455;\n",
              "      fill: #D2E3FC;\n",
              "    }\n",
              "\n",
              "    [theme=dark] .colab-df-convert:hover {\n",
              "      background-color: #434B5C;\n",
              "      box-shadow: 0px 1px 3px 1px rgba(0, 0, 0, 0.15);\n",
              "      filter: drop-shadow(0px 1px 2px rgba(0, 0, 0, 0.3));\n",
              "      fill: #FFFFFF;\n",
              "    }\n",
              "  </style>\n",
              "\n",
              "      <script>\n",
              "        const buttonEl =\n",
              "          document.querySelector('#df-2b701ee8-c576-4b79-9331-18d2e12ce166 button.colab-df-convert');\n",
              "        buttonEl.style.display =\n",
              "          google.colab.kernel.accessAllowed ? 'block' : 'none';\n",
              "\n",
              "        async function convertToInteractive(key) {\n",
              "          const element = document.querySelector('#df-2b701ee8-c576-4b79-9331-18d2e12ce166');\n",
              "          const dataTable =\n",
              "            await google.colab.kernel.invokeFunction('convertToInteractive',\n",
              "                                                     [key], {});\n",
              "          if (!dataTable) return;\n",
              "\n",
              "          const docLinkHtml = 'Like what you see? Visit the ' +\n",
              "            '<a target=\"_blank\" href=https://colab.research.google.com/notebooks/data_table.ipynb>data table notebook</a>'\n",
              "            + ' to learn more about interactive tables.';\n",
              "          element.innerHTML = '';\n",
              "          dataTable['output_type'] = 'display_data';\n",
              "          await google.colab.output.renderOutput(dataTable, element);\n",
              "          const docLink = document.createElement('div');\n",
              "          docLink.innerHTML = docLinkHtml;\n",
              "          element.appendChild(docLink);\n",
              "        }\n",
              "      </script>\n",
              "    </div>\n",
              "  </div>\n",
              "  "
            ]
          },
          "metadata": {},
          "execution_count": 47
        }
      ]
    },
    {
      "cell_type": "code",
      "source": [
        "LR_separated_pscr = pd.concat([LR_separate_pscr_90, LR_separate_pscr_75, LR_separate_pscr_50], axis=1)\n",
        "LR_separated_pscr"
      ],
      "metadata": {
        "colab": {
          "base_uri": "https://localhost:8080/",
          "height": 864
        },
        "id": "oOwDp9LpSQIs",
        "outputId": "31e3c056-1be3-4ea8-e7e4-1bf051eeea63"
      },
      "execution_count": 48,
      "outputs": [
        {
          "output_type": "execute_result",
          "data": {
            "text/plain": [
              "         LR_pscr_90  LR_pscr_75  LR_pscr_50\n",
              "item_id                                    \n",
              "0          0.439253    0.315741    0.306944\n",
              "1          0.508651    0.504451    0.448251\n",
              "2          0.256835    0.171012    0.167468\n",
              "3          0.694735    0.614967    0.535392\n",
              "4          0.348247    0.269692    0.148169\n",
              "5          0.426465    0.374732    0.259606\n",
              "6          0.531411    0.477876    0.428370\n",
              "7          0.508417    0.291368    0.173297\n",
              "8          0.446512    0.278741    0.273576\n",
              "9          0.415920    0.334271    0.278727\n",
              "10         0.448791    0.383643    0.351977\n",
              "11         0.394877    0.292580    0.254702\n",
              "12         0.402047    0.403809    0.380934\n",
              "13         0.572181    0.471837    0.348883\n",
              "14         0.367198    0.273306    0.305256\n",
              "15         0.292223    0.208976    0.167881\n",
              "16         0.244523    0.170750    0.139331\n",
              "17         0.363607    0.274766    0.240635\n",
              "18         0.453949    0.417638    0.368509\n",
              "19         0.459517    0.280351    0.197257\n",
              "20         0.521438    0.474790    0.459318\n",
              "21         0.315048    0.204618    0.186265\n",
              "22         0.630404    0.483069    0.400286\n",
              "23         0.461519    0.440340    0.389889\n",
              "24         0.407020    0.291120    0.322577"
            ],
            "text/html": [
              "\n",
              "  <div id=\"df-9dbfa3b2-00c3-4a53-ba7a-a9a11b91ffc2\">\n",
              "    <div class=\"colab-df-container\">\n",
              "      <div>\n",
              "<style scoped>\n",
              "    .dataframe tbody tr th:only-of-type {\n",
              "        vertical-align: middle;\n",
              "    }\n",
              "\n",
              "    .dataframe tbody tr th {\n",
              "        vertical-align: top;\n",
              "    }\n",
              "\n",
              "    .dataframe thead th {\n",
              "        text-align: right;\n",
              "    }\n",
              "</style>\n",
              "<table border=\"1\" class=\"dataframe\">\n",
              "  <thead>\n",
              "    <tr style=\"text-align: right;\">\n",
              "      <th></th>\n",
              "      <th>LR_pscr_90</th>\n",
              "      <th>LR_pscr_75</th>\n",
              "      <th>LR_pscr_50</th>\n",
              "    </tr>\n",
              "    <tr>\n",
              "      <th>item_id</th>\n",
              "      <th></th>\n",
              "      <th></th>\n",
              "      <th></th>\n",
              "    </tr>\n",
              "  </thead>\n",
              "  <tbody>\n",
              "    <tr>\n",
              "      <th>0</th>\n",
              "      <td>0.439253</td>\n",
              "      <td>0.315741</td>\n",
              "      <td>0.306944</td>\n",
              "    </tr>\n",
              "    <tr>\n",
              "      <th>1</th>\n",
              "      <td>0.508651</td>\n",
              "      <td>0.504451</td>\n",
              "      <td>0.448251</td>\n",
              "    </tr>\n",
              "    <tr>\n",
              "      <th>2</th>\n",
              "      <td>0.256835</td>\n",
              "      <td>0.171012</td>\n",
              "      <td>0.167468</td>\n",
              "    </tr>\n",
              "    <tr>\n",
              "      <th>3</th>\n",
              "      <td>0.694735</td>\n",
              "      <td>0.614967</td>\n",
              "      <td>0.535392</td>\n",
              "    </tr>\n",
              "    <tr>\n",
              "      <th>4</th>\n",
              "      <td>0.348247</td>\n",
              "      <td>0.269692</td>\n",
              "      <td>0.148169</td>\n",
              "    </tr>\n",
              "    <tr>\n",
              "      <th>5</th>\n",
              "      <td>0.426465</td>\n",
              "      <td>0.374732</td>\n",
              "      <td>0.259606</td>\n",
              "    </tr>\n",
              "    <tr>\n",
              "      <th>6</th>\n",
              "      <td>0.531411</td>\n",
              "      <td>0.477876</td>\n",
              "      <td>0.428370</td>\n",
              "    </tr>\n",
              "    <tr>\n",
              "      <th>7</th>\n",
              "      <td>0.508417</td>\n",
              "      <td>0.291368</td>\n",
              "      <td>0.173297</td>\n",
              "    </tr>\n",
              "    <tr>\n",
              "      <th>8</th>\n",
              "      <td>0.446512</td>\n",
              "      <td>0.278741</td>\n",
              "      <td>0.273576</td>\n",
              "    </tr>\n",
              "    <tr>\n",
              "      <th>9</th>\n",
              "      <td>0.415920</td>\n",
              "      <td>0.334271</td>\n",
              "      <td>0.278727</td>\n",
              "    </tr>\n",
              "    <tr>\n",
              "      <th>10</th>\n",
              "      <td>0.448791</td>\n",
              "      <td>0.383643</td>\n",
              "      <td>0.351977</td>\n",
              "    </tr>\n",
              "    <tr>\n",
              "      <th>11</th>\n",
              "      <td>0.394877</td>\n",
              "      <td>0.292580</td>\n",
              "      <td>0.254702</td>\n",
              "    </tr>\n",
              "    <tr>\n",
              "      <th>12</th>\n",
              "      <td>0.402047</td>\n",
              "      <td>0.403809</td>\n",
              "      <td>0.380934</td>\n",
              "    </tr>\n",
              "    <tr>\n",
              "      <th>13</th>\n",
              "      <td>0.572181</td>\n",
              "      <td>0.471837</td>\n",
              "      <td>0.348883</td>\n",
              "    </tr>\n",
              "    <tr>\n",
              "      <th>14</th>\n",
              "      <td>0.367198</td>\n",
              "      <td>0.273306</td>\n",
              "      <td>0.305256</td>\n",
              "    </tr>\n",
              "    <tr>\n",
              "      <th>15</th>\n",
              "      <td>0.292223</td>\n",
              "      <td>0.208976</td>\n",
              "      <td>0.167881</td>\n",
              "    </tr>\n",
              "    <tr>\n",
              "      <th>16</th>\n",
              "      <td>0.244523</td>\n",
              "      <td>0.170750</td>\n",
              "      <td>0.139331</td>\n",
              "    </tr>\n",
              "    <tr>\n",
              "      <th>17</th>\n",
              "      <td>0.363607</td>\n",
              "      <td>0.274766</td>\n",
              "      <td>0.240635</td>\n",
              "    </tr>\n",
              "    <tr>\n",
              "      <th>18</th>\n",
              "      <td>0.453949</td>\n",
              "      <td>0.417638</td>\n",
              "      <td>0.368509</td>\n",
              "    </tr>\n",
              "    <tr>\n",
              "      <th>19</th>\n",
              "      <td>0.459517</td>\n",
              "      <td>0.280351</td>\n",
              "      <td>0.197257</td>\n",
              "    </tr>\n",
              "    <tr>\n",
              "      <th>20</th>\n",
              "      <td>0.521438</td>\n",
              "      <td>0.474790</td>\n",
              "      <td>0.459318</td>\n",
              "    </tr>\n",
              "    <tr>\n",
              "      <th>21</th>\n",
              "      <td>0.315048</td>\n",
              "      <td>0.204618</td>\n",
              "      <td>0.186265</td>\n",
              "    </tr>\n",
              "    <tr>\n",
              "      <th>22</th>\n",
              "      <td>0.630404</td>\n",
              "      <td>0.483069</td>\n",
              "      <td>0.400286</td>\n",
              "    </tr>\n",
              "    <tr>\n",
              "      <th>23</th>\n",
              "      <td>0.461519</td>\n",
              "      <td>0.440340</td>\n",
              "      <td>0.389889</td>\n",
              "    </tr>\n",
              "    <tr>\n",
              "      <th>24</th>\n",
              "      <td>0.407020</td>\n",
              "      <td>0.291120</td>\n",
              "      <td>0.322577</td>\n",
              "    </tr>\n",
              "  </tbody>\n",
              "</table>\n",
              "</div>\n",
              "      <button class=\"colab-df-convert\" onclick=\"convertToInteractive('df-9dbfa3b2-00c3-4a53-ba7a-a9a11b91ffc2')\"\n",
              "              title=\"Convert this dataframe to an interactive table.\"\n",
              "              style=\"display:none;\">\n",
              "        \n",
              "  <svg xmlns=\"http://www.w3.org/2000/svg\" height=\"24px\"viewBox=\"0 0 24 24\"\n",
              "       width=\"24px\">\n",
              "    <path d=\"M0 0h24v24H0V0z\" fill=\"none\"/>\n",
              "    <path d=\"M18.56 5.44l.94 2.06.94-2.06 2.06-.94-2.06-.94-.94-2.06-.94 2.06-2.06.94zm-11 1L8.5 8.5l.94-2.06 2.06-.94-2.06-.94L8.5 2.5l-.94 2.06-2.06.94zm10 10l.94 2.06.94-2.06 2.06-.94-2.06-.94-.94-2.06-.94 2.06-2.06.94z\"/><path d=\"M17.41 7.96l-1.37-1.37c-.4-.4-.92-.59-1.43-.59-.52 0-1.04.2-1.43.59L10.3 9.45l-7.72 7.72c-.78.78-.78 2.05 0 2.83L4 21.41c.39.39.9.59 1.41.59.51 0 1.02-.2 1.41-.59l7.78-7.78 2.81-2.81c.8-.78.8-2.07 0-2.86zM5.41 20L4 18.59l7.72-7.72 1.47 1.35L5.41 20z\"/>\n",
              "  </svg>\n",
              "      </button>\n",
              "      \n",
              "  <style>\n",
              "    .colab-df-container {\n",
              "      display:flex;\n",
              "      flex-wrap:wrap;\n",
              "      gap: 12px;\n",
              "    }\n",
              "\n",
              "    .colab-df-convert {\n",
              "      background-color: #E8F0FE;\n",
              "      border: none;\n",
              "      border-radius: 50%;\n",
              "      cursor: pointer;\n",
              "      display: none;\n",
              "      fill: #1967D2;\n",
              "      height: 32px;\n",
              "      padding: 0 0 0 0;\n",
              "      width: 32px;\n",
              "    }\n",
              "\n",
              "    .colab-df-convert:hover {\n",
              "      background-color: #E2EBFA;\n",
              "      box-shadow: 0px 1px 2px rgba(60, 64, 67, 0.3), 0px 1px 3px 1px rgba(60, 64, 67, 0.15);\n",
              "      fill: #174EA6;\n",
              "    }\n",
              "\n",
              "    [theme=dark] .colab-df-convert {\n",
              "      background-color: #3B4455;\n",
              "      fill: #D2E3FC;\n",
              "    }\n",
              "\n",
              "    [theme=dark] .colab-df-convert:hover {\n",
              "      background-color: #434B5C;\n",
              "      box-shadow: 0px 1px 3px 1px rgba(0, 0, 0, 0.15);\n",
              "      filter: drop-shadow(0px 1px 2px rgba(0, 0, 0, 0.3));\n",
              "      fill: #FFFFFF;\n",
              "    }\n",
              "  </style>\n",
              "\n",
              "      <script>\n",
              "        const buttonEl =\n",
              "          document.querySelector('#df-9dbfa3b2-00c3-4a53-ba7a-a9a11b91ffc2 button.colab-df-convert');\n",
              "        buttonEl.style.display =\n",
              "          google.colab.kernel.accessAllowed ? 'block' : 'none';\n",
              "\n",
              "        async function convertToInteractive(key) {\n",
              "          const element = document.querySelector('#df-9dbfa3b2-00c3-4a53-ba7a-a9a11b91ffc2');\n",
              "          const dataTable =\n",
              "            await google.colab.kernel.invokeFunction('convertToInteractive',\n",
              "                                                     [key], {});\n",
              "          if (!dataTable) return;\n",
              "\n",
              "          const docLinkHtml = 'Like what you see? Visit the ' +\n",
              "            '<a target=\"_blank\" href=https://colab.research.google.com/notebooks/data_table.ipynb>data table notebook</a>'\n",
              "            + ' to learn more about interactive tables.';\n",
              "          element.innerHTML = '';\n",
              "          dataTable['output_type'] = 'display_data';\n",
              "          await google.colab.output.renderOutput(dataTable, element);\n",
              "          const docLink = document.createElement('div');\n",
              "          docLink.innerHTML = docLinkHtml;\n",
              "          element.appendChild(docLink);\n",
              "        }\n",
              "      </script>\n",
              "    </div>\n",
              "  </div>\n",
              "  "
            ]
          },
          "metadata": {},
          "execution_count": 48
        }
      ]
    },
    {
      "cell_type": "markdown",
      "source": [
        "Saving Files"
      ],
      "metadata": {
        "id": "gepYDW1jSYtW"
      }
    },
    {
      "cell_type": "code",
      "source": [
        "LR_separated_avc.to_csv('/content/drive/MyDrive/M5/LR_separated_avc.csv')\n",
        "\n",
        "LR_separated_pscr.to_csv('/content/drive/MyDrive/M5/LR_separated_pscr.csv')"
      ],
      "metadata": {
        "id": "H8Jn7XpfSatr"
      },
      "execution_count": 49,
      "outputs": []
    }
  ]
}
