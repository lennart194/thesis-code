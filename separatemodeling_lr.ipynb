{
  "nbformat": 4,
  "nbformat_minor": 0,
  "metadata": {
    "colab": {
      "name": "separatemodeling_lr.ipynb",
      "provenance": [],
      "collapsed_sections": [],
      "authorship_tag": "ABX9TyMRbHU2Nlb1v6vJN7iq0OMC",
      "include_colab_link": true
    },
    "kernelspec": {
      "name": "python3",
      "display_name": "Python 3"
    },
    "language_info": {
      "name": "python"
    }
  },
  "cells": [
    {
      "cell_type": "markdown",
      "metadata": {
        "id": "view-in-github",
        "colab_type": "text"
      },
      "source": [
        "<a href=\"https://colab.research.google.com/github/lennart194/thesis-code/blob/main/separatemodeling_lr.ipynb\" target=\"_parent\"><img src=\"https://colab.research.google.com/assets/colab-badge.svg\" alt=\"Open In Colab\"/></a>"
      ]
    },
    {
      "cell_type": "code",
      "execution_count": null,
      "metadata": {
        "id": "8HgBM_oqNhqx"
      },
      "outputs": [],
      "source": [
        "pip install ddop"
      ]
    },
    {
      "cell_type": "code",
      "source": [
        "import pandas as pd\n",
        "import numpy as np\n",
        "\n",
        "from ddop.newsvendor import SampleAverageApproximationNewsvendor\n",
        "from ddop.newsvendor import LinearRegressionNewsvendor\n",
        "\n",
        "from ddop.metrics import average_costs"
      ],
      "metadata": {
        "id": "4BBQFSr4NvqV"
      },
      "execution_count": null,
      "outputs": []
    },
    {
      "cell_type": "code",
      "source": [
        "from google.colab import drive\n",
        "drive.mount('/content/drive')"
      ],
      "metadata": {
        "id": "WmuJ1Oc8N4Cv"
      },
      "execution_count": null,
      "outputs": []
    },
    {
      "cell_type": "markdown",
      "source": [
        "## Loading data-set\n",
        "\n",
        "*   load the whole ultimative set\n",
        "*   sort the rows first by item, then by date and set a multi index\n",
        "**now every items time series can be separated by the index**"
      ],
      "metadata": {
        "id": "zl6lTv-IOXJs"
      }
    },
    {
      "cell_type": "code",
      "source": [
        "data = pd.read_csv('/content/drive/MyDrive/M5/ultimative_set.csv')\n",
        "data = data.drop(columns=['Unnamed: 0'])\n",
        "data = data.sort_values(by=['item_id', 'date'])\n",
        "data = data.set_index(['item_id', 'date'])"
      ],
      "metadata": {
        "id": "Q7x4RthZOTd-"
      },
      "execution_count": null,
      "outputs": []
    },
    {
      "cell_type": "markdown",
      "source": [
        "## Split in feature and target matrix"
      ],
      "metadata": {
        "id": "s25nbvfKOdL4"
      }
    },
    {
      "cell_type": "code",
      "source": [
        "X = data.drop(columns=['demand'])\n",
        "Y = data['demand']"
      ],
      "metadata": {
        "id": "K6J508hEOd2J"
      },
      "execution_count": null,
      "outputs": []
    },
    {
      "cell_type": "markdown",
      "source": [
        "## train_test_split"
      ],
      "metadata": {
        "id": "ygbCqPSmOgTF"
      }
    },
    {
      "cell_type": "code",
      "source": [
        "X_train = X.loc[(slice(None), slice(None, \"2015\")), :]\n",
        "X_test = X.loc[(slice(None), slice(\"2015\", '2017')), :]\n",
        "\n",
        "Y_train = Y.loc[(slice(None), slice(None, \"2015\"))]\n",
        "Y_test = Y.loc[(slice(None), slice(\"2015\", \"2017\"))]"
      ],
      "metadata": {
        "id": "N_BGkDeUOqLA"
      },
      "execution_count": null,
      "outputs": []
    },
    {
      "cell_type": "markdown",
      "source": [
        "## Definition of the item_ids \n",
        "\n",
        "\n",
        "*   will be needed within the for loops later\n",
        "*   will contain all 25 products"
      ],
      "metadata": {
        "id": "-oxRVpnfOtMg"
      }
    },
    {
      "cell_type": "code",
      "source": [
        "prods = list(range(0,25))"
      ],
      "metadata": {
        "id": "TF1f4HGqOwWt"
      },
      "execution_count": null,
      "outputs": []
    },
    {
      "cell_type": "markdown",
      "source": [
        "# Newsvendor-Model 95%\n",
        "*   the data-driven newsvendor model is executed in a loop for every single item (with optimal hyperparameters)\n",
        "*   the average_costs for every item are calculated (later the prescritiveness score will be used for better comparability)"
      ],
      "metadata": {
        "id": "Rk6fanlSOzl4"
      }
    },
    {
      "cell_type": "code",
      "source": [
        "result_lr_95_avc = []\n",
        "for prod in prods:\n",
        "  cu = X_train.loc[prod]['sell_price'].mean()\n",
        "  co_95 = ((cu-(0.95*cu))/0.95)\n",
        "  \n",
        "  lr = LinearRegressionNewsvendor(cu = cu, co = co_95)\n",
        "  lr.fit(X_train.loc[prod], Y_train.loc[prod])\n",
        "  preds = lr.predict(X_test.loc[prod])\n",
        "  avc = round(average_costs(Y_test.loc[prod], preds, cu = cu, co = co_95),2)\n",
        "  result_lr_95_avc.append(avc)"
      ],
      "metadata": {
        "id": "bkYykEtfPCXw"
      },
      "execution_count": null,
      "outputs": []
    },
    {
      "cell_type": "code",
      "source": [
        "LR_separate_avc_95 = pd.DataFrame(result_lr_95_avc, columns=['LR_avc_95'])\n",
        "LR_separate_avc_95.index.name = 'item_id'"
      ],
      "metadata": {
        "id": "OhbhviMdPkeW"
      },
      "execution_count": null,
      "outputs": []
    },
    {
      "cell_type": "code",
      "source": [
        "result_lr_95_pscr = []\n",
        "for prod in prods:\n",
        "  cu = X_train.loc[prod]['sell_price'].mean()\n",
        "  co_95 = ((cu-(0.95*cu))/0.95)\n",
        "  \n",
        "  lr = LinearRegressionNewsvendor(cu = cu, co = co_95)\n",
        "  lr.fit(X_train.loc[prod], Y_train.loc[prod])\n",
        "  preds_lr = lr.predict(X_test.loc[prod])\n",
        "\n",
        "  saa = SampleAverageApproximationNewsvendor(cu = cu, co = co_95)\n",
        "  saa.fit(Y_train.loc[prod])\n",
        "  preds_saa = saa.predict(n_steps = 508)\n",
        "\n",
        "\n",
        "\n",
        "  pscr = prescriptiveness_score(Y_test.loc[prod], preds_lr, preds_saa ,cu = cu, co = co_95)\n",
        "  result_lr_95_pscr.append(pscr)"
      ],
      "metadata": {
        "id": "THqjbot4PtXK"
      },
      "execution_count": null,
      "outputs": []
    },
    {
      "cell_type": "code",
      "source": [
        "LR_separate_pscr_95 = pd.DataFrame(result_lr_95_pscr, columns=['LR_pscr_95'])\n",
        "LR_separate_pscr_95.index.name = 'item_id'"
      ],
      "metadata": {
        "id": "rBAq_POGQAz2"
      },
      "execution_count": null,
      "outputs": []
    },
    {
      "cell_type": "markdown",
      "source": [
        "# Newsvendor-Model 90%\n",
        "*   the data-driven newsvendor model is executed in a loop for every single item (with optimal hyperparameters)\n",
        "*   the average_costs for every item are calculated (later the prescritiveness score will be used for better comparability)"
      ],
      "metadata": {
        "id": "o8MZkhneQKxX"
      }
    },
    {
      "cell_type": "code",
      "source": [
        "result_lr_90_avc = []\n",
        "for prod in prods:\n",
        "  cu = X_train.loc[prod]['sell_price'].mean()\n",
        "  co_90 = ((cu-(0.90*cu))/0.90)\n",
        "  \n",
        "  lr = LinearRegressionNewsvendor(cu = cu, co = co_90)\n",
        "  lr.fit(X_train.loc[prod], Y_train.loc[prod])\n",
        "  preds = lr.predict(X_test.loc[prod])\n",
        "  avc = round(average_costs(Y_test.loc[prod], preds, cu = cu, co = co_90),2)\n",
        "  result_lr_90_avc.append(avc)"
      ],
      "metadata": {
        "id": "dciwrgJEQT4F"
      },
      "execution_count": null,
      "outputs": []
    },
    {
      "cell_type": "code",
      "source": [
        "LR_separate_avc_90 = pd.DataFrame(result_lr_90_avc, columns=['LR_avc_90'])\n",
        "LR_separate_avc_90.index.name = 'item_id'"
      ],
      "metadata": {
        "id": "mQONpPJcQcpe"
      },
      "execution_count": null,
      "outputs": []
    },
    {
      "cell_type": "code",
      "source": [
        "result_lr_90_pscr = []\n",
        "for prod in prods:\n",
        "  cu = X_train.loc[prod]['sell_price'].mean()\n",
        "  co_90 = ((cu-(0.90*cu))/0.90)\n",
        "  \n",
        "  lr = LinearRegressionNewsvendor(cu = cu, co = co_90)\n",
        "  lr.fit(X_train.loc[prod], Y_train.loc[prod])\n",
        "  preds_lr = lr.predict(X_test.loc[prod])\n",
        "\n",
        "  saa = SampleAverageApproximationNewsvendor(cu = cu, co = co_90)\n",
        "  saa.fit(Y_train.loc[prod])\n",
        "  preds_saa = saa.predict(n_steps = 508)\n",
        "\n",
        "\n",
        "\n",
        "  pscr = prescriptiveness_score(Y_test.loc[prod], preds_lr, preds_saa ,cu = cu, co = co_90)\n",
        "  result_lr_90_pscr.append(pscr)"
      ],
      "metadata": {
        "id": "ZluOED-wQgXg"
      },
      "execution_count": null,
      "outputs": []
    },
    {
      "cell_type": "code",
      "source": [
        "LR_separate_pscr_90 = pd.DataFrame(result_lr_90_pscr, columns=['LR_pscr_90'])\n",
        "LR_separate_pscr_90.index.name = 'item_id'"
      ],
      "metadata": {
        "id": "J0YSoLDbQpr2"
      },
      "execution_count": null,
      "outputs": []
    },
    {
      "cell_type": "markdown",
      "source": [
        "# Newsvendor-Model 75%\n",
        "*   the data-driven newsvendor model is executed in a loop for every single item (with optimal hyperparameters)\n",
        "*   the average_costs for every item are calculated (later the prescritiveness score will be used for better comparability)"
      ],
      "metadata": {
        "id": "qFRnV2HMQuDx"
      }
    },
    {
      "cell_type": "code",
      "source": [
        "result_lr_75_avc = []\n",
        "for prod in prods:\n",
        "  cu = X_train.loc[prod]['sell_price'].mean()\n",
        "  co_75 = ((cu-(0.75*cu))/0.75)\n",
        "  \n",
        "  lr = LinearRegressionNewsvendor(cu = cu, co = co_75)\n",
        "  lr.fit(X_train.loc[prod], Y_train.loc[prod])\n",
        "  preds = lr.predict(X_test.loc[prod])\n",
        "  avc = round(average_costs(Y_test.loc[prod], preds, cu = cu, co = co_75),2)\n",
        "  result_lr_75_avc.append(avc)"
      ],
      "metadata": {
        "id": "arZJV9dIQxJx"
      },
      "execution_count": null,
      "outputs": []
    },
    {
      "cell_type": "code",
      "source": [
        "LR_separate_avc_75 = pd.DataFrame(result_lr_75_avc, columns=['LR_avc_75'])\n",
        "LR_separate_avc_75.index.name = 'item_id'"
      ],
      "metadata": {
        "id": "00beV-OGQ7KM"
      },
      "execution_count": null,
      "outputs": []
    },
    {
      "cell_type": "code",
      "source": [
        "result_lr_75_pscr = []\n",
        "for prod in prods:\n",
        "  cu = X_train.loc[prod]['sell_price'].mean()\n",
        "  co_75 = ((cu-(0.75*cu))/0.75)\n",
        "  \n",
        "  lr = LinearRegressionNewsvendor(cu = cu, co = co_75)\n",
        "  lr.fit(X_train.loc[prod], Y_train.loc[prod])\n",
        "  preds_lr = lr.predict(X_test.loc[prod])\n",
        "\n",
        "  saa = SampleAverageApproximationNewsvendor(cu = cu, co = co_75)\n",
        "  saa.fit(Y_train.loc[prod])\n",
        "  preds_saa = saa.predict(n_steps = 508)\n",
        "\n",
        "\n",
        "\n",
        "  pscr = prescriptiveness_score(Y_test.loc[prod], preds_lr, preds_saa ,cu = cu, co = co_75)\n",
        "  result_lr_75_pscr.append(pscr)"
      ],
      "metadata": {
        "id": "4UiI68wcRBVz"
      },
      "execution_count": null,
      "outputs": []
    },
    {
      "cell_type": "code",
      "source": [
        "LR_separate_pscr_75 = pd.DataFrame(result_lr_75_pscr, columns=['LR_pscr_75'])\n",
        "LR_separate_pscr_75.index.name = 'item_id'"
      ],
      "metadata": {
        "id": "ecXqSxxCRKm0"
      },
      "execution_count": null,
      "outputs": []
    },
    {
      "cell_type": "markdown",
      "source": [
        "# Newsvendor-Model 50%\n",
        "*   the data-driven newsvendor model is executed in a loop for every single item (with optimal hyperparameters)\n",
        "*   the average_costs for every item are calculated (later the prescritiveness score will be used for better comparability)"
      ],
      "metadata": {
        "id": "o8ozYZh5RVbo"
      }
    },
    {
      "cell_type": "code",
      "source": [
        "result_lr_50_avc = []\n",
        "for prod in prods:\n",
        "  cu = X_train.loc[prod]['sell_price'].mean()\n",
        "  co_50 = ((cu-(0.50*cu))/0.50)\n",
        "  \n",
        "  lr = LinearRegressionNewsvendor(cu = cu, co = co_50)\n",
        "  lr.fit(X_train.loc[prod], Y_train.loc[prod])\n",
        "  preds = lr.predict(X_test.loc[prod])\n",
        "  avc = round(average_costs(Y_test.loc[prod], preds, cu = cu, co = co_50),2)\n",
        "  result_lr_50_avc.append(avc)"
      ],
      "metadata": {
        "id": "Bt1RWQz6RY0G"
      },
      "execution_count": null,
      "outputs": []
    },
    {
      "cell_type": "code",
      "source": [
        "LR_separate_avc_50 = pd.DataFrame(result_lr_50_avc, columns=['LR_avc_50'])\n",
        "LR_separate_avc_50.index.name = 'item_id'"
      ],
      "metadata": {
        "id": "xnhgAT_5Rgxw"
      },
      "execution_count": null,
      "outputs": []
    },
    {
      "cell_type": "code",
      "source": [
        "result_lr_50_pscr = []\n",
        "for prod in prods:\n",
        "  cu = X_train.loc[prod]['sell_price'].mean()\n",
        "  co_50 = ((cu-(0.50*cu))/0.50)\n",
        "  \n",
        "  lr = LinearRegressionNewsvendor(cu = cu, co = co_50)\n",
        "  lr.fit(X_train.loc[prod], Y_train.loc[prod])\n",
        "  preds_lr = lr.predict(X_test.loc[prod])\n",
        "\n",
        "  saa = SampleAverageApproximationNewsvendor(cu = cu, co = co_50)\n",
        "  saa.fit(Y_train.loc[prod])\n",
        "  preds_saa = saa.predict(n_steps = 508)\n",
        "\n",
        "\n",
        "\n",
        "  pscr = prescriptiveness_score(Y_test.loc[prod], preds_lr, preds_saa ,cu = cu, co = co_50)\n",
        "  result_lr_50_pscr.append(pscr)"
      ],
      "metadata": {
        "id": "Eo_Tme_9RmzI"
      },
      "execution_count": null,
      "outputs": []
    },
    {
      "cell_type": "code",
      "source": [
        "LR_separate_pscr_50 = pd.DataFrame(result_lr_50_pscr, columns=['LR_pscr_50'])\n",
        "LR_separate_pscr_50.index.name = 'item_id'"
      ],
      "metadata": {
        "id": "f0R-s31KRvBM"
      },
      "execution_count": null,
      "outputs": []
    },
    {
      "cell_type": "markdown",
      "source": [
        "# Merging"
      ],
      "metadata": {
        "id": "bYO8X0RsSB50"
      }
    },
    {
      "cell_type": "code",
      "source": [
        "LR_separated_avc = pd.concat([LR_separate_avc_95, LR_separate_avc_90, LR_separate_avc_75, LR_separate_avc_50], axis=1)\n",
        "LR_separated_avc"
      ],
      "metadata": {
        "colab": {
          "base_uri": "https://localhost:8080/",
          "height": 864
        },
        "id": "gbERe9A1R-z4",
        "outputId": "2fcf332b-ce43-45f0-c474-9d094f71c285"
      },
      "execution_count": null,
      "outputs": [
        {
          "output_type": "execute_result",
          "data": {
            "text/plain": [
              "         LR_avc_95  LR_avc_90  LR_avc_75  LR_avc_50\n",
              "item_id                                            \n",
              "0             0.45       0.95       2.36       4.02\n",
              "1             0.37       0.81       1.83       3.26\n",
              "2             0.87       2.00       4.35       7.23\n",
              "3             2.12       4.32      10.61      19.39\n",
              "4             0.88       1.92       4.24       8.89\n",
              "5             0.51       1.11       2.48       4.46\n",
              "6             0.51       1.13       2.72       5.00\n",
              "7             0.73       1.55       3.99       7.76\n",
              "8             0.38       0.78       1.98       3.45\n",
              "9             0.38       0.78       1.94       3.51\n",
              "10            1.63       3.26       7.03      12.48\n",
              "11            0.41       0.91       2.16       3.96\n",
              "12            0.63       1.47       3.16       5.75\n",
              "13            0.47       1.05       2.37       4.04\n",
              "14            0.81       1.70       4.17       7.92\n",
              "15            1.02       2.17       4.90       8.75\n",
              "16            0.27       0.58       1.45       2.55\n",
              "17            0.92       1.90       4.35       8.04\n",
              "18            1.84       3.39       7.56      14.32\n",
              "19            0.34       0.72       1.84       3.16\n",
              "20            0.71       1.41       3.30       5.64\n",
              "21            1.06       2.28       5.17       9.45\n",
              "22            1.43       3.01       7.67      13.20\n",
              "23            1.12       2.21       4.50       8.41\n",
              "24            1.08       2.27       5.37       9.67"
            ],
            "text/html": [
              "\n",
              "  <div id=\"df-04719972-174d-42f7-8c9c-62da7cd146fe\">\n",
              "    <div class=\"colab-df-container\">\n",
              "      <div>\n",
              "<style scoped>\n",
              "    .dataframe tbody tr th:only-of-type {\n",
              "        vertical-align: middle;\n",
              "    }\n",
              "\n",
              "    .dataframe tbody tr th {\n",
              "        vertical-align: top;\n",
              "    }\n",
              "\n",
              "    .dataframe thead th {\n",
              "        text-align: right;\n",
              "    }\n",
              "</style>\n",
              "<table border=\"1\" class=\"dataframe\">\n",
              "  <thead>\n",
              "    <tr style=\"text-align: right;\">\n",
              "      <th></th>\n",
              "      <th>LR_avc_95</th>\n",
              "      <th>LR_avc_90</th>\n",
              "      <th>LR_avc_75</th>\n",
              "      <th>LR_avc_50</th>\n",
              "    </tr>\n",
              "    <tr>\n",
              "      <th>item_id</th>\n",
              "      <th></th>\n",
              "      <th></th>\n",
              "      <th></th>\n",
              "      <th></th>\n",
              "    </tr>\n",
              "  </thead>\n",
              "  <tbody>\n",
              "    <tr>\n",
              "      <th>0</th>\n",
              "      <td>0.45</td>\n",
              "      <td>0.95</td>\n",
              "      <td>2.36</td>\n",
              "      <td>4.02</td>\n",
              "    </tr>\n",
              "    <tr>\n",
              "      <th>1</th>\n",
              "      <td>0.37</td>\n",
              "      <td>0.81</td>\n",
              "      <td>1.83</td>\n",
              "      <td>3.26</td>\n",
              "    </tr>\n",
              "    <tr>\n",
              "      <th>2</th>\n",
              "      <td>0.87</td>\n",
              "      <td>2.00</td>\n",
              "      <td>4.35</td>\n",
              "      <td>7.23</td>\n",
              "    </tr>\n",
              "    <tr>\n",
              "      <th>3</th>\n",
              "      <td>2.12</td>\n",
              "      <td>4.32</td>\n",
              "      <td>10.61</td>\n",
              "      <td>19.39</td>\n",
              "    </tr>\n",
              "    <tr>\n",
              "      <th>4</th>\n",
              "      <td>0.88</td>\n",
              "      <td>1.92</td>\n",
              "      <td>4.24</td>\n",
              "      <td>8.89</td>\n",
              "    </tr>\n",
              "    <tr>\n",
              "      <th>5</th>\n",
              "      <td>0.51</td>\n",
              "      <td>1.11</td>\n",
              "      <td>2.48</td>\n",
              "      <td>4.46</td>\n",
              "    </tr>\n",
              "    <tr>\n",
              "      <th>6</th>\n",
              "      <td>0.51</td>\n",
              "      <td>1.13</td>\n",
              "      <td>2.72</td>\n",
              "      <td>5.00</td>\n",
              "    </tr>\n",
              "    <tr>\n",
              "      <th>7</th>\n",
              "      <td>0.73</td>\n",
              "      <td>1.55</td>\n",
              "      <td>3.99</td>\n",
              "      <td>7.76</td>\n",
              "    </tr>\n",
              "    <tr>\n",
              "      <th>8</th>\n",
              "      <td>0.38</td>\n",
              "      <td>0.78</td>\n",
              "      <td>1.98</td>\n",
              "      <td>3.45</td>\n",
              "    </tr>\n",
              "    <tr>\n",
              "      <th>9</th>\n",
              "      <td>0.38</td>\n",
              "      <td>0.78</td>\n",
              "      <td>1.94</td>\n",
              "      <td>3.51</td>\n",
              "    </tr>\n",
              "    <tr>\n",
              "      <th>10</th>\n",
              "      <td>1.63</td>\n",
              "      <td>3.26</td>\n",
              "      <td>7.03</td>\n",
              "      <td>12.48</td>\n",
              "    </tr>\n",
              "    <tr>\n",
              "      <th>11</th>\n",
              "      <td>0.41</td>\n",
              "      <td>0.91</td>\n",
              "      <td>2.16</td>\n",
              "      <td>3.96</td>\n",
              "    </tr>\n",
              "    <tr>\n",
              "      <th>12</th>\n",
              "      <td>0.63</td>\n",
              "      <td>1.47</td>\n",
              "      <td>3.16</td>\n",
              "      <td>5.75</td>\n",
              "    </tr>\n",
              "    <tr>\n",
              "      <th>13</th>\n",
              "      <td>0.47</td>\n",
              "      <td>1.05</td>\n",
              "      <td>2.37</td>\n",
              "      <td>4.04</td>\n",
              "    </tr>\n",
              "    <tr>\n",
              "      <th>14</th>\n",
              "      <td>0.81</td>\n",
              "      <td>1.70</td>\n",
              "      <td>4.17</td>\n",
              "      <td>7.92</td>\n",
              "    </tr>\n",
              "    <tr>\n",
              "      <th>15</th>\n",
              "      <td>1.02</td>\n",
              "      <td>2.17</td>\n",
              "      <td>4.90</td>\n",
              "      <td>8.75</td>\n",
              "    </tr>\n",
              "    <tr>\n",
              "      <th>16</th>\n",
              "      <td>0.27</td>\n",
              "      <td>0.58</td>\n",
              "      <td>1.45</td>\n",
              "      <td>2.55</td>\n",
              "    </tr>\n",
              "    <tr>\n",
              "      <th>17</th>\n",
              "      <td>0.92</td>\n",
              "      <td>1.90</td>\n",
              "      <td>4.35</td>\n",
              "      <td>8.04</td>\n",
              "    </tr>\n",
              "    <tr>\n",
              "      <th>18</th>\n",
              "      <td>1.84</td>\n",
              "      <td>3.39</td>\n",
              "      <td>7.56</td>\n",
              "      <td>14.32</td>\n",
              "    </tr>\n",
              "    <tr>\n",
              "      <th>19</th>\n",
              "      <td>0.34</td>\n",
              "      <td>0.72</td>\n",
              "      <td>1.84</td>\n",
              "      <td>3.16</td>\n",
              "    </tr>\n",
              "    <tr>\n",
              "      <th>20</th>\n",
              "      <td>0.71</td>\n",
              "      <td>1.41</td>\n",
              "      <td>3.30</td>\n",
              "      <td>5.64</td>\n",
              "    </tr>\n",
              "    <tr>\n",
              "      <th>21</th>\n",
              "      <td>1.06</td>\n",
              "      <td>2.28</td>\n",
              "      <td>5.17</td>\n",
              "      <td>9.45</td>\n",
              "    </tr>\n",
              "    <tr>\n",
              "      <th>22</th>\n",
              "      <td>1.43</td>\n",
              "      <td>3.01</td>\n",
              "      <td>7.67</td>\n",
              "      <td>13.20</td>\n",
              "    </tr>\n",
              "    <tr>\n",
              "      <th>23</th>\n",
              "      <td>1.12</td>\n",
              "      <td>2.21</td>\n",
              "      <td>4.50</td>\n",
              "      <td>8.41</td>\n",
              "    </tr>\n",
              "    <tr>\n",
              "      <th>24</th>\n",
              "      <td>1.08</td>\n",
              "      <td>2.27</td>\n",
              "      <td>5.37</td>\n",
              "      <td>9.67</td>\n",
              "    </tr>\n",
              "  </tbody>\n",
              "</table>\n",
              "</div>\n",
              "      <button class=\"colab-df-convert\" onclick=\"convertToInteractive('df-04719972-174d-42f7-8c9c-62da7cd146fe')\"\n",
              "              title=\"Convert this dataframe to an interactive table.\"\n",
              "              style=\"display:none;\">\n",
              "        \n",
              "  <svg xmlns=\"http://www.w3.org/2000/svg\" height=\"24px\"viewBox=\"0 0 24 24\"\n",
              "       width=\"24px\">\n",
              "    <path d=\"M0 0h24v24H0V0z\" fill=\"none\"/>\n",
              "    <path d=\"M18.56 5.44l.94 2.06.94-2.06 2.06-.94-2.06-.94-.94-2.06-.94 2.06-2.06.94zm-11 1L8.5 8.5l.94-2.06 2.06-.94-2.06-.94L8.5 2.5l-.94 2.06-2.06.94zm10 10l.94 2.06.94-2.06 2.06-.94-2.06-.94-.94-2.06-.94 2.06-2.06.94z\"/><path d=\"M17.41 7.96l-1.37-1.37c-.4-.4-.92-.59-1.43-.59-.52 0-1.04.2-1.43.59L10.3 9.45l-7.72 7.72c-.78.78-.78 2.05 0 2.83L4 21.41c.39.39.9.59 1.41.59.51 0 1.02-.2 1.41-.59l7.78-7.78 2.81-2.81c.8-.78.8-2.07 0-2.86zM5.41 20L4 18.59l7.72-7.72 1.47 1.35L5.41 20z\"/>\n",
              "  </svg>\n",
              "      </button>\n",
              "      \n",
              "  <style>\n",
              "    .colab-df-container {\n",
              "      display:flex;\n",
              "      flex-wrap:wrap;\n",
              "      gap: 12px;\n",
              "    }\n",
              "\n",
              "    .colab-df-convert {\n",
              "      background-color: #E8F0FE;\n",
              "      border: none;\n",
              "      border-radius: 50%;\n",
              "      cursor: pointer;\n",
              "      display: none;\n",
              "      fill: #1967D2;\n",
              "      height: 32px;\n",
              "      padding: 0 0 0 0;\n",
              "      width: 32px;\n",
              "    }\n",
              "\n",
              "    .colab-df-convert:hover {\n",
              "      background-color: #E2EBFA;\n",
              "      box-shadow: 0px 1px 2px rgba(60, 64, 67, 0.3), 0px 1px 3px 1px rgba(60, 64, 67, 0.15);\n",
              "      fill: #174EA6;\n",
              "    }\n",
              "\n",
              "    [theme=dark] .colab-df-convert {\n",
              "      background-color: #3B4455;\n",
              "      fill: #D2E3FC;\n",
              "    }\n",
              "\n",
              "    [theme=dark] .colab-df-convert:hover {\n",
              "      background-color: #434B5C;\n",
              "      box-shadow: 0px 1px 3px 1px rgba(0, 0, 0, 0.15);\n",
              "      filter: drop-shadow(0px 1px 2px rgba(0, 0, 0, 0.3));\n",
              "      fill: #FFFFFF;\n",
              "    }\n",
              "  </style>\n",
              "\n",
              "      <script>\n",
              "        const buttonEl =\n",
              "          document.querySelector('#df-04719972-174d-42f7-8c9c-62da7cd146fe button.colab-df-convert');\n",
              "        buttonEl.style.display =\n",
              "          google.colab.kernel.accessAllowed ? 'block' : 'none';\n",
              "\n",
              "        async function convertToInteractive(key) {\n",
              "          const element = document.querySelector('#df-04719972-174d-42f7-8c9c-62da7cd146fe');\n",
              "          const dataTable =\n",
              "            await google.colab.kernel.invokeFunction('convertToInteractive',\n",
              "                                                     [key], {});\n",
              "          if (!dataTable) return;\n",
              "\n",
              "          const docLinkHtml = 'Like what you see? Visit the ' +\n",
              "            '<a target=\"_blank\" href=https://colab.research.google.com/notebooks/data_table.ipynb>data table notebook</a>'\n",
              "            + ' to learn more about interactive tables.';\n",
              "          element.innerHTML = '';\n",
              "          dataTable['output_type'] = 'display_data';\n",
              "          await google.colab.output.renderOutput(dataTable, element);\n",
              "          const docLink = document.createElement('div');\n",
              "          docLink.innerHTML = docLinkHtml;\n",
              "          element.appendChild(docLink);\n",
              "        }\n",
              "      </script>\n",
              "    </div>\n",
              "  </div>\n",
              "  "
            ]
          },
          "metadata": {},
          "execution_count": 33
        }
      ]
    },
    {
      "cell_type": "code",
      "source": [
        "LR_separated_pscr = pd.concat([LR_separate_pscr_95, LR_separate_pscr_90, LR_separate_pscr_75, LR_separate_pscr_50], axis=1)\n",
        "LR_separated_pscr"
      ],
      "metadata": {
        "colab": {
          "base_uri": "https://localhost:8080/",
          "height": 864
        },
        "id": "oOwDp9LpSQIs",
        "outputId": "ee1dac3d-8518-4187-f40e-586a67317f22"
      },
      "execution_count": null,
      "outputs": [
        {
          "output_type": "execute_result",
          "data": {
            "text/plain": [
              "         LR_pscr_95  LR_pscr_90  LR_pscr_75  LR_pscr_50\n",
              "item_id                                                \n",
              "0          0.554848    0.443399    0.315741    0.306944\n",
              "1          0.623161    0.564712    0.504451    0.448251\n",
              "2          0.469943    0.259715    0.171012    0.167468\n",
              "3          0.741027    0.694325    0.614967    0.535613\n",
              "4          0.505441    0.358591    0.269692    0.148169\n",
              "5          0.540195    0.422634    0.374732    0.259606\n",
              "6          0.631080    0.531465    0.477876    0.428370\n",
              "7          0.613404    0.508554    0.291368    0.174098\n",
              "8          0.554586    0.446720    0.278741    0.273576\n",
              "9          0.517012    0.416323    0.334271    0.278727\n",
              "10         0.545860    0.449497    0.383643    0.351977\n",
              "11         0.526583    0.394512    0.292580    0.254702\n",
              "12         0.566696    0.430468    0.403809    0.380420\n",
              "13         0.680410    0.572028    0.471837    0.348883\n",
              "14         0.442878    0.372167    0.273306    0.305346\n",
              "15         0.429701    0.293561    0.208976    0.167881\n",
              "16         0.429693    0.327047    0.170750    0.139331\n",
              "17         0.494539    0.362131    0.274766    0.240635\n",
              "18         0.478093    0.452446    0.417638    0.368509\n",
              "19         0.530617    0.459508    0.280351    0.197257\n",
              "20         0.581869    0.518006    0.474790    0.459318\n",
              "21         0.457841    0.316779    0.204377    0.186265\n",
              "22         0.717274    0.631983    0.483155    0.400229\n",
              "23         0.541203    0.463699    0.440340    0.389889\n",
              "24         0.528507    0.412396    0.291120    0.322786"
            ],
            "text/html": [
              "\n",
              "  <div id=\"df-34d3ad76-25a9-4acc-9508-8bf217dd196e\">\n",
              "    <div class=\"colab-df-container\">\n",
              "      <div>\n",
              "<style scoped>\n",
              "    .dataframe tbody tr th:only-of-type {\n",
              "        vertical-align: middle;\n",
              "    }\n",
              "\n",
              "    .dataframe tbody tr th {\n",
              "        vertical-align: top;\n",
              "    }\n",
              "\n",
              "    .dataframe thead th {\n",
              "        text-align: right;\n",
              "    }\n",
              "</style>\n",
              "<table border=\"1\" class=\"dataframe\">\n",
              "  <thead>\n",
              "    <tr style=\"text-align: right;\">\n",
              "      <th></th>\n",
              "      <th>LR_pscr_95</th>\n",
              "      <th>LR_pscr_90</th>\n",
              "      <th>LR_pscr_75</th>\n",
              "      <th>LR_pscr_50</th>\n",
              "    </tr>\n",
              "    <tr>\n",
              "      <th>item_id</th>\n",
              "      <th></th>\n",
              "      <th></th>\n",
              "      <th></th>\n",
              "      <th></th>\n",
              "    </tr>\n",
              "  </thead>\n",
              "  <tbody>\n",
              "    <tr>\n",
              "      <th>0</th>\n",
              "      <td>0.554848</td>\n",
              "      <td>0.443399</td>\n",
              "      <td>0.315741</td>\n",
              "      <td>0.306944</td>\n",
              "    </tr>\n",
              "    <tr>\n",
              "      <th>1</th>\n",
              "      <td>0.623161</td>\n",
              "      <td>0.564712</td>\n",
              "      <td>0.504451</td>\n",
              "      <td>0.448251</td>\n",
              "    </tr>\n",
              "    <tr>\n",
              "      <th>2</th>\n",
              "      <td>0.469943</td>\n",
              "      <td>0.259715</td>\n",
              "      <td>0.171012</td>\n",
              "      <td>0.167468</td>\n",
              "    </tr>\n",
              "    <tr>\n",
              "      <th>3</th>\n",
              "      <td>0.741027</td>\n",
              "      <td>0.694325</td>\n",
              "      <td>0.614967</td>\n",
              "      <td>0.535613</td>\n",
              "    </tr>\n",
              "    <tr>\n",
              "      <th>4</th>\n",
              "      <td>0.505441</td>\n",
              "      <td>0.358591</td>\n",
              "      <td>0.269692</td>\n",
              "      <td>0.148169</td>\n",
              "    </tr>\n",
              "    <tr>\n",
              "      <th>5</th>\n",
              "      <td>0.540195</td>\n",
              "      <td>0.422634</td>\n",
              "      <td>0.374732</td>\n",
              "      <td>0.259606</td>\n",
              "    </tr>\n",
              "    <tr>\n",
              "      <th>6</th>\n",
              "      <td>0.631080</td>\n",
              "      <td>0.531465</td>\n",
              "      <td>0.477876</td>\n",
              "      <td>0.428370</td>\n",
              "    </tr>\n",
              "    <tr>\n",
              "      <th>7</th>\n",
              "      <td>0.613404</td>\n",
              "      <td>0.508554</td>\n",
              "      <td>0.291368</td>\n",
              "      <td>0.174098</td>\n",
              "    </tr>\n",
              "    <tr>\n",
              "      <th>8</th>\n",
              "      <td>0.554586</td>\n",
              "      <td>0.446720</td>\n",
              "      <td>0.278741</td>\n",
              "      <td>0.273576</td>\n",
              "    </tr>\n",
              "    <tr>\n",
              "      <th>9</th>\n",
              "      <td>0.517012</td>\n",
              "      <td>0.416323</td>\n",
              "      <td>0.334271</td>\n",
              "      <td>0.278727</td>\n",
              "    </tr>\n",
              "    <tr>\n",
              "      <th>10</th>\n",
              "      <td>0.545860</td>\n",
              "      <td>0.449497</td>\n",
              "      <td>0.383643</td>\n",
              "      <td>0.351977</td>\n",
              "    </tr>\n",
              "    <tr>\n",
              "      <th>11</th>\n",
              "      <td>0.526583</td>\n",
              "      <td>0.394512</td>\n",
              "      <td>0.292580</td>\n",
              "      <td>0.254702</td>\n",
              "    </tr>\n",
              "    <tr>\n",
              "      <th>12</th>\n",
              "      <td>0.566696</td>\n",
              "      <td>0.430468</td>\n",
              "      <td>0.403809</td>\n",
              "      <td>0.380420</td>\n",
              "    </tr>\n",
              "    <tr>\n",
              "      <th>13</th>\n",
              "      <td>0.680410</td>\n",
              "      <td>0.572028</td>\n",
              "      <td>0.471837</td>\n",
              "      <td>0.348883</td>\n",
              "    </tr>\n",
              "    <tr>\n",
              "      <th>14</th>\n",
              "      <td>0.442878</td>\n",
              "      <td>0.372167</td>\n",
              "      <td>0.273306</td>\n",
              "      <td>0.305346</td>\n",
              "    </tr>\n",
              "    <tr>\n",
              "      <th>15</th>\n",
              "      <td>0.429701</td>\n",
              "      <td>0.293561</td>\n",
              "      <td>0.208976</td>\n",
              "      <td>0.167881</td>\n",
              "    </tr>\n",
              "    <tr>\n",
              "      <th>16</th>\n",
              "      <td>0.429693</td>\n",
              "      <td>0.327047</td>\n",
              "      <td>0.170750</td>\n",
              "      <td>0.139331</td>\n",
              "    </tr>\n",
              "    <tr>\n",
              "      <th>17</th>\n",
              "      <td>0.494539</td>\n",
              "      <td>0.362131</td>\n",
              "      <td>0.274766</td>\n",
              "      <td>0.240635</td>\n",
              "    </tr>\n",
              "    <tr>\n",
              "      <th>18</th>\n",
              "      <td>0.478093</td>\n",
              "      <td>0.452446</td>\n",
              "      <td>0.417638</td>\n",
              "      <td>0.368509</td>\n",
              "    </tr>\n",
              "    <tr>\n",
              "      <th>19</th>\n",
              "      <td>0.530617</td>\n",
              "      <td>0.459508</td>\n",
              "      <td>0.280351</td>\n",
              "      <td>0.197257</td>\n",
              "    </tr>\n",
              "    <tr>\n",
              "      <th>20</th>\n",
              "      <td>0.581869</td>\n",
              "      <td>0.518006</td>\n",
              "      <td>0.474790</td>\n",
              "      <td>0.459318</td>\n",
              "    </tr>\n",
              "    <tr>\n",
              "      <th>21</th>\n",
              "      <td>0.457841</td>\n",
              "      <td>0.316779</td>\n",
              "      <td>0.204377</td>\n",
              "      <td>0.186265</td>\n",
              "    </tr>\n",
              "    <tr>\n",
              "      <th>22</th>\n",
              "      <td>0.717274</td>\n",
              "      <td>0.631983</td>\n",
              "      <td>0.483155</td>\n",
              "      <td>0.400229</td>\n",
              "    </tr>\n",
              "    <tr>\n",
              "      <th>23</th>\n",
              "      <td>0.541203</td>\n",
              "      <td>0.463699</td>\n",
              "      <td>0.440340</td>\n",
              "      <td>0.389889</td>\n",
              "    </tr>\n",
              "    <tr>\n",
              "      <th>24</th>\n",
              "      <td>0.528507</td>\n",
              "      <td>0.412396</td>\n",
              "      <td>0.291120</td>\n",
              "      <td>0.322786</td>\n",
              "    </tr>\n",
              "  </tbody>\n",
              "</table>\n",
              "</div>\n",
              "      <button class=\"colab-df-convert\" onclick=\"convertToInteractive('df-34d3ad76-25a9-4acc-9508-8bf217dd196e')\"\n",
              "              title=\"Convert this dataframe to an interactive table.\"\n",
              "              style=\"display:none;\">\n",
              "        \n",
              "  <svg xmlns=\"http://www.w3.org/2000/svg\" height=\"24px\"viewBox=\"0 0 24 24\"\n",
              "       width=\"24px\">\n",
              "    <path d=\"M0 0h24v24H0V0z\" fill=\"none\"/>\n",
              "    <path d=\"M18.56 5.44l.94 2.06.94-2.06 2.06-.94-2.06-.94-.94-2.06-.94 2.06-2.06.94zm-11 1L8.5 8.5l.94-2.06 2.06-.94-2.06-.94L8.5 2.5l-.94 2.06-2.06.94zm10 10l.94 2.06.94-2.06 2.06-.94-2.06-.94-.94-2.06-.94 2.06-2.06.94z\"/><path d=\"M17.41 7.96l-1.37-1.37c-.4-.4-.92-.59-1.43-.59-.52 0-1.04.2-1.43.59L10.3 9.45l-7.72 7.72c-.78.78-.78 2.05 0 2.83L4 21.41c.39.39.9.59 1.41.59.51 0 1.02-.2 1.41-.59l7.78-7.78 2.81-2.81c.8-.78.8-2.07 0-2.86zM5.41 20L4 18.59l7.72-7.72 1.47 1.35L5.41 20z\"/>\n",
              "  </svg>\n",
              "      </button>\n",
              "      \n",
              "  <style>\n",
              "    .colab-df-container {\n",
              "      display:flex;\n",
              "      flex-wrap:wrap;\n",
              "      gap: 12px;\n",
              "    }\n",
              "\n",
              "    .colab-df-convert {\n",
              "      background-color: #E8F0FE;\n",
              "      border: none;\n",
              "      border-radius: 50%;\n",
              "      cursor: pointer;\n",
              "      display: none;\n",
              "      fill: #1967D2;\n",
              "      height: 32px;\n",
              "      padding: 0 0 0 0;\n",
              "      width: 32px;\n",
              "    }\n",
              "\n",
              "    .colab-df-convert:hover {\n",
              "      background-color: #E2EBFA;\n",
              "      box-shadow: 0px 1px 2px rgba(60, 64, 67, 0.3), 0px 1px 3px 1px rgba(60, 64, 67, 0.15);\n",
              "      fill: #174EA6;\n",
              "    }\n",
              "\n",
              "    [theme=dark] .colab-df-convert {\n",
              "      background-color: #3B4455;\n",
              "      fill: #D2E3FC;\n",
              "    }\n",
              "\n",
              "    [theme=dark] .colab-df-convert:hover {\n",
              "      background-color: #434B5C;\n",
              "      box-shadow: 0px 1px 3px 1px rgba(0, 0, 0, 0.15);\n",
              "      filter: drop-shadow(0px 1px 2px rgba(0, 0, 0, 0.3));\n",
              "      fill: #FFFFFF;\n",
              "    }\n",
              "  </style>\n",
              "\n",
              "      <script>\n",
              "        const buttonEl =\n",
              "          document.querySelector('#df-34d3ad76-25a9-4acc-9508-8bf217dd196e button.colab-df-convert');\n",
              "        buttonEl.style.display =\n",
              "          google.colab.kernel.accessAllowed ? 'block' : 'none';\n",
              "\n",
              "        async function convertToInteractive(key) {\n",
              "          const element = document.querySelector('#df-34d3ad76-25a9-4acc-9508-8bf217dd196e');\n",
              "          const dataTable =\n",
              "            await google.colab.kernel.invokeFunction('convertToInteractive',\n",
              "                                                     [key], {});\n",
              "          if (!dataTable) return;\n",
              "\n",
              "          const docLinkHtml = 'Like what you see? Visit the ' +\n",
              "            '<a target=\"_blank\" href=https://colab.research.google.com/notebooks/data_table.ipynb>data table notebook</a>'\n",
              "            + ' to learn more about interactive tables.';\n",
              "          element.innerHTML = '';\n",
              "          dataTable['output_type'] = 'display_data';\n",
              "          await google.colab.output.renderOutput(dataTable, element);\n",
              "          const docLink = document.createElement('div');\n",
              "          docLink.innerHTML = docLinkHtml;\n",
              "          element.appendChild(docLink);\n",
              "        }\n",
              "      </script>\n",
              "    </div>\n",
              "  </div>\n",
              "  "
            ]
          },
          "metadata": {},
          "execution_count": 34
        }
      ]
    },
    {
      "cell_type": "markdown",
      "source": [
        "Saving Files"
      ],
      "metadata": {
        "id": "gepYDW1jSYtW"
      }
    },
    {
      "cell_type": "code",
      "source": [
        "LR_separated_avc.to_csv('/content/drive/MyDrive/M5/LR_separated_avc.csv')\n",
        "\n",
        "LR_separated_pscr.to_csv('/content/drive/MyDrive/M5/LR_separated_pscr.csv')"
      ],
      "metadata": {
        "id": "H8Jn7XpfSatr"
      },
      "execution_count": null,
      "outputs": []
    }
  ]
}