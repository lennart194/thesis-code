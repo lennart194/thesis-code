{
  "nbformat": 4,
  "nbformat_minor": 0,
  "metadata": {
    "colab": {
      "name": "RF_different_costs.ipynb",
      "provenance": [],
      "authorship_tag": "ABX9TyPse5UU4rBwNyYVRtWhbQK8",
      "include_colab_link": true
    },
    "kernelspec": {
      "name": "python3",
      "display_name": "Python 3"
    },
    "language_info": {
      "name": "python"
    }
  },
  "cells": [
    {
      "cell_type": "markdown",
      "metadata": {
        "id": "view-in-github",
        "colab_type": "text"
      },
      "source": [
        "<a href=\"https://colab.research.google.com/github/lennart194/thesis-code/blob/main/RF_different_costs.ipynb\" target=\"_parent\"><img src=\"https://colab.research.google.com/assets/colab-badge.svg\" alt=\"Open In Colab\"/></a>"
      ]
    },
    {
      "cell_type": "code",
      "execution_count": null,
      "metadata": {
        "id": "Thu_XkMWX3ib"
      },
      "outputs": [],
      "source": [
        "pip install ddop"
      ]
    },
    {
      "cell_type": "code",
      "source": [
        "import pandas as pd\n",
        "import numpy as np\n",
        "\n",
        "from ddop.newsvendor import SampleAverageApproximationNewsvendor\n",
        "from ddop.newsvendor import RandomForestWeightedNewsvendor\n",
        "\n",
        "from sklearn.model_selection import RandomizedSearchCV\n",
        "\n",
        "from ddop.metrics import average_costs\n",
        "from ddop.metrics import prescriptiveness_score\n",
        "\n",
        "from ddop.metrics import make_scorer"
      ],
      "metadata": {
        "id": "HzWYvsx6YRBB"
      },
      "execution_count": null,
      "outputs": []
    },
    {
      "cell_type": "code",
      "source": [
        "from google.colab import drive\n",
        "drive.mount('/content/drive')"
      ],
      "metadata": {
        "colab": {
          "base_uri": "https://localhost:8080/"
        },
        "id": "W0mNC0dvYRsJ",
        "outputId": "3e4a8ae8-34ab-425a-e8b8-f23f5852e87f"
      },
      "execution_count": null,
      "outputs": [
        {
          "output_type": "stream",
          "name": "stdout",
          "text": [
            "Mounted at /content/drive\n"
          ]
        }
      ]
    },
    {
      "cell_type": "code",
      "source": [
        "data = pd.read_csv('/content/drive/MyDrive/M5/ultimative_set.csv')\n",
        "data = data.drop(columns=['Unnamed: 0'])\n",
        "data = data.sort_values(by=['item_id', 'date'])\n",
        "data = data.set_index(['item_id', 'date'])"
      ],
      "metadata": {
        "id": "w9mPlyBxYdUJ"
      },
      "execution_count": null,
      "outputs": []
    },
    {
      "cell_type": "code",
      "source": [
        "X = data.drop(columns=['demand'])\n",
        "Y = data['demand']"
      ],
      "metadata": {
        "id": "2S6g-O8BYiMh"
      },
      "execution_count": null,
      "outputs": []
    },
    {
      "cell_type": "code",
      "source": [
        "X_train = X.loc[(slice(None), slice(None, \"2015\")), :]\n",
        "X_test = X.loc[(slice(None), slice(\"2015\", '2017')), :]\n",
        "\n",
        "Y_train = Y.loc[(slice(None), slice(None, \"2015\"))]\n",
        "Y_test = Y.loc[(slice(None), slice(\"2015\", \"2017\"))]"
      ],
      "metadata": {
        "id": "J0V3XipVYkh9"
      },
      "execution_count": null,
      "outputs": []
    },
    {
      "cell_type": "code",
      "source": [
        "max_depth = np.arange(7, 24)\n",
        "n_estimators = np.arange(65, 101)\n",
        "min_samples_leaf = np.arange(2, 6)\n",
        "param_random = dict(max_depth = max_depth, n_estimators = n_estimators, min_samples_leaf = min_samples_leaf)\n",
        "\n",
        "scorer_avc = make_scorer(average_costs, greater_is_better=False)"
      ],
      "metadata": {
        "id": "wjIxr0jfh68X"
      },
      "execution_count": null,
      "outputs": []
    },
    {
      "cell_type": "code",
      "source": [
        "prods = list(range(0,25))"
      ],
      "metadata": {
        "id": "rLsWd-_f-x2h"
      },
      "execution_count": null,
      "outputs": []
    },
    {
      "cell_type": "code",
      "source": [
        "best_param_maxd_90 = []\n",
        "best_param_nest_90 = []\n",
        "best_param_minsl_90 = []\n",
        "\n",
        "for prod in prods:\n",
        "\n",
        "  cu = round(X_train['sell_price'].loc[prod].mean(),2)\n",
        "  co_90 = round((cu-(0.90*cu))/0.90,2)\n",
        "  \n",
        "  \n",
        "  rf = RandomForestWeightedNewsvendor(cu = cu, co = co_90, random_state = 42, criterion = 'mse')\n",
        "\n",
        "  random = RandomizedSearchCV(rf, param_random, cv=5, scoring = scorer_avc)\n",
        "  random.fit(X_train.loc[prod], Y_train.loc[prod])\n",
        "    \n",
        "  maxd = random.best_params_.get('max_depth')\n",
        "  nest = random.best_params_.get('n_estimators')\n",
        "  minsl = random.best_params_.get('min_samples_leaf')\n",
        "\n",
        "  best_param_maxd_90.append(maxd)\n",
        "  best_param_nest_90.append(nest)\n",
        "  best_param_minsl_90.append(minsl)"
      ],
      "metadata": {
        "id": "hK_3KsQj-tlX"
      },
      "execution_count": null,
      "outputs": []
    },
    {
      "cell_type": "code",
      "source": [
        "result_rf_90_pscr = []\n",
        "for prod in prods:\n",
        "  \n",
        "  cu = round(X_train['sell_price'].loc[prod].mean(),2)\n",
        "  co_90 = round((cu-(0.90*cu))/0.90,2)\n",
        "  \n",
        "  rf = RandomForestWeightedNewsvendor(cu = cu, co = co_90, random_state = 42, criterion = 'mse',\n",
        "                                       max_depth = best_param_maxd_90[prod], n_estimators = best_param_nest_90[prod],\n",
        "                                       min_samples_leaf = best_param_minsl_90[prod])\n",
        "  rf.fit(X_train.loc[prod], Y_train.loc[prod])\n",
        "  preds_rf = rf.predict(X_test.loc[prod])\n",
        "\n",
        "\n",
        "  saa = SampleAverageApproximationNewsvendor(cu = cu, co = co_90)\n",
        "  saa.fit(Y_train.loc[prod])\n",
        "  preds_saa = saa.predict(n_steps = 508)\n",
        "  \n",
        "  pscr = prescriptiveness_score(Y_test.loc[prod], preds_rf, preds_saa, cu = cu, co = co_90)\n",
        "  result_rf_90_pscr.append(pscr)"
      ],
      "metadata": {
        "id": "A9nzcsl0AQkk"
      },
      "execution_count": null,
      "outputs": []
    },
    {
      "cell_type": "code",
      "source": [
        "RF_separate_pscr_90 = pd.DataFrame(result_rf_90_pscr, columns=['RF_pscr_90'])\n",
        "RF_separate_pscr_90.index.name = 'item_id'"
      ],
      "metadata": {
        "id": "34QpSWKiA9BJ"
      },
      "execution_count": null,
      "outputs": []
    },
    {
      "cell_type": "code",
      "source": [
        "best_param_maxd_75 = []\n",
        "best_param_nest_75 = []\n",
        "best_param_minsl_75 = []\n",
        "\n",
        "for prod in prods:\n",
        "\n",
        "  cu = round(X_train['sell_price'].loc[prod].mean(),2)\n",
        "  co_75 = round((cu-(0.75*cu))/0.75,2)\n",
        "  \n",
        "  \n",
        "  rf = RandomForestWeightedNewsvendor(cu = cu, co = co_75, random_state = 42, criterion = 'mse')\n",
        "\n",
        "  random = RandomizedSearchCV(rf, param_random, cv=5, scoring = scorer_avc)\n",
        "  random.fit(X_train.loc[prod], Y_train.loc[prod])\n",
        "    \n",
        "  maxd = random.best_params_.get('max_depth')\n",
        "  nest = random.best_params_.get('n_estimators')\n",
        "  minsl = random.best_params_.get('min_samples_leaf')\n",
        "\n",
        "  best_param_maxd_75.append(maxd)\n",
        "  best_param_nest_75.append(nest)\n",
        "  best_param_minsl_75.append(minsl)"
      ],
      "metadata": {
        "id": "k3oBhmL2i17i"
      },
      "execution_count": null,
      "outputs": []
    },
    {
      "cell_type": "code",
      "source": [
        "result_rf_75_pscr = []\n",
        "for prod in prods:\n",
        "\n",
        "  cu = round(X_train['sell_price'].loc[prod].mean(),2)\n",
        "  co_75 = round((cu-(0.75*cu))/0.75,2)\n",
        "  \n",
        "  rf = RandomForestWeightedNewsvendor(cu = cu, co = co_75, random_state = 42, criterion = 'mse',\n",
        "                                       max_depth = best_param_maxd_75[prod], n_estimators = best_param_nest_75[prod],\n",
        "                                       min_samples_leaf = best_param_minsl_75[prod])\n",
        "  rf.fit(X_train.loc[prod], Y_train.loc[prod])\n",
        "  preds_rf = rf.predict(X_test.loc[prod])\n",
        "\n",
        "\n",
        "  saa = SampleAverageApproximationNewsvendor(cu = cu, co = co_75)\n",
        "  saa.fit(Y_train.loc[prod])\n",
        "  preds_saa = saa.predict(n_steps = 508)\n",
        "  \n",
        "  pscr = prescriptiveness_score(Y_test.loc[prod], preds_rf, preds_saa, cu = cu, co = co_75)\n",
        "  result_rf_75_pscr.append(pscr)"
      ],
      "metadata": {
        "id": "Pf_z4NaEPz6D"
      },
      "execution_count": null,
      "outputs": []
    },
    {
      "cell_type": "code",
      "source": [
        "RF_separate_pscr_75 = pd.DataFrame(result_rf_75_pscr, columns=['RF_pscr_75'])\n",
        "RF_separate_pscr_75.index.name = 'item_id'"
      ],
      "metadata": {
        "id": "tL9wNqwPi_R0"
      },
      "execution_count": null,
      "outputs": []
    },
    {
      "cell_type": "code",
      "source": [
        "best_param_maxd_50 = []\n",
        "best_param_nest_50 = []\n",
        "best_param_minsl_50 = []\n",
        "\n",
        "for prod in prods:\n",
        "\n",
        "  cu = round(X_train['sell_price'].loc[prod].mean(),2)\n",
        "  co_50 = round((cu-(0.50*cu))/0.50,2)\n",
        "  \n",
        "  \n",
        "  rf = RandomForestWeightedNewsvendor(cu = cu, co = co_50, random_state = 42, criterion = 'mse')\n",
        "\n",
        "  random = RandomizedSearchCV(rf, param_random, cv=5, scoring = scorer_avc)\n",
        "  random.fit(X_train.loc[prod], Y_train.loc[prod])\n",
        "    \n",
        "  maxd = random.best_params_.get('max_depth')\n",
        "  nest = random.best_params_.get('n_estimators')\n",
        "  minsl = random.best_params_.get('min_samples_leaf')\n",
        "\n",
        "  best_param_maxd_50.append(maxd)\n",
        "  best_param_nest_50.append(nest)\n",
        "  best_param_minsl_50.append(minsl)"
      ],
      "metadata": {
        "id": "JXmTM5LKjl5o"
      },
      "execution_count": null,
      "outputs": []
    },
    {
      "cell_type": "code",
      "source": [
        "result_rf_50_pscr = []\n",
        "for prod in prods:\n",
        "\n",
        "  cu = round(X_train['sell_price'].loc[prod].mean(),2)\n",
        "  co_50 = round((cu-(0.50*cu))/0.50,2)\n",
        "  \n",
        "  rf = RandomForestWeightedNewsvendor(cu = cu, co = co_50, random_state = 42, criterion = 'mse',\n",
        "                                       max_depth = best_param_maxd_50[prod], n_estimators = best_param_nest_50[prod],\n",
        "                                       min_samples_leaf = best_param_minsl_50[prod])\n",
        "  rf.fit(X_train.loc[prod], Y_train.loc[prod])\n",
        "  preds_rf = rf.predict(X_test.loc[prod])\n",
        "\n",
        "\n",
        "  saa = SampleAverageApproximationNewsvendor(cu = cu, co = co_50)\n",
        "  saa.fit(Y_train.loc[prod])\n",
        "  preds_saa = saa.predict(n_steps = 508)\n",
        "  \n",
        "  pscr = prescriptiveness_score(Y_test.loc[prod], preds_rf, preds_saa, cu = cu, co = co_50)\n",
        "  result_rf_50_pscr.append(pscr)"
      ],
      "metadata": {
        "id": "DpWU6MCSeyi5"
      },
      "execution_count": null,
      "outputs": []
    },
    {
      "cell_type": "code",
      "source": [
        "RF_separate_pscr_50 = pd.DataFrame(result_rf_50_pscr, columns=['RF_pscr_50'])\n",
        "RF_separate_pscr_50.index.name = 'item_id'"
      ],
      "metadata": {
        "id": "q1r-z3e8jxJy"
      },
      "execution_count": null,
      "outputs": []
    },
    {
      "cell_type": "code",
      "source": [
        "RF_separated_pscr = pd.concat([RF_separate_pscr_90, RF_separate_pscr_75, RF_separate_pscr_50], axis=1)\n",
        "RF_separated_pscr"
      ],
      "metadata": {
        "colab": {
          "base_uri": "https://localhost:8080/",
          "height": 864
        },
        "id": "QxJ6_0_0fe9i",
        "outputId": "cb47b55f-3e57-4cdd-d69a-8a0335bf0017"
      },
      "execution_count": null,
      "outputs": [
        {
          "output_type": "execute_result",
          "data": {
            "text/plain": [
              "         RF_pscr_90  RF_pscr_75  RF_pscr_50\n",
              "item_id                                    \n",
              "0          0.399319    0.317825    0.307923\n",
              "1          0.519607    0.480878    0.440160\n",
              "2          0.212054    0.138039    0.135685\n",
              "3          0.674064    0.638255    0.543425\n",
              "4          0.357625    0.266043    0.221009\n",
              "5          0.408004    0.381765    0.244444\n",
              "6          0.459077    0.455709    0.418310\n",
              "7          0.413813    0.258656    0.191323\n",
              "8          0.388507    0.311825    0.254415\n",
              "9          0.330759    0.345070    0.276582\n",
              "10         0.450542    0.420481    0.386123\n",
              "11         0.340286    0.293447    0.265342\n",
              "12         0.477674    0.443217    0.376326\n",
              "13         0.540678    0.460978    0.335227\n",
              "14         0.277471    0.252742    0.273759\n",
              "15         0.252336    0.222319    0.178267\n",
              "16         0.208012    0.202110    0.126834\n",
              "17         0.366441    0.320219    0.262224\n",
              "18         0.486416    0.471416    0.431074\n",
              "19         0.357190    0.283103    0.188635\n",
              "20         0.507622    0.483793    0.416940\n",
              "21         0.304998    0.213387    0.183652\n",
              "22         0.579562    0.478411    0.389603\n",
              "23         0.515158    0.466904    0.397596\n",
              "24         0.349326    0.276969    0.300992"
            ],
            "text/html": [
              "\n",
              "  <div id=\"df-7152d574-7791-494a-8efb-bea735eb5a69\">\n",
              "    <div class=\"colab-df-container\">\n",
              "      <div>\n",
              "<style scoped>\n",
              "    .dataframe tbody tr th:only-of-type {\n",
              "        vertical-align: middle;\n",
              "    }\n",
              "\n",
              "    .dataframe tbody tr th {\n",
              "        vertical-align: top;\n",
              "    }\n",
              "\n",
              "    .dataframe thead th {\n",
              "        text-align: right;\n",
              "    }\n",
              "</style>\n",
              "<table border=\"1\" class=\"dataframe\">\n",
              "  <thead>\n",
              "    <tr style=\"text-align: right;\">\n",
              "      <th></th>\n",
              "      <th>RF_pscr_90</th>\n",
              "      <th>RF_pscr_75</th>\n",
              "      <th>RF_pscr_50</th>\n",
              "    </tr>\n",
              "    <tr>\n",
              "      <th>item_id</th>\n",
              "      <th></th>\n",
              "      <th></th>\n",
              "      <th></th>\n",
              "    </tr>\n",
              "  </thead>\n",
              "  <tbody>\n",
              "    <tr>\n",
              "      <th>0</th>\n",
              "      <td>0.399319</td>\n",
              "      <td>0.317825</td>\n",
              "      <td>0.307923</td>\n",
              "    </tr>\n",
              "    <tr>\n",
              "      <th>1</th>\n",
              "      <td>0.519607</td>\n",
              "      <td>0.480878</td>\n",
              "      <td>0.440160</td>\n",
              "    </tr>\n",
              "    <tr>\n",
              "      <th>2</th>\n",
              "      <td>0.212054</td>\n",
              "      <td>0.138039</td>\n",
              "      <td>0.135685</td>\n",
              "    </tr>\n",
              "    <tr>\n",
              "      <th>3</th>\n",
              "      <td>0.674064</td>\n",
              "      <td>0.638255</td>\n",
              "      <td>0.543425</td>\n",
              "    </tr>\n",
              "    <tr>\n",
              "      <th>4</th>\n",
              "      <td>0.357625</td>\n",
              "      <td>0.266043</td>\n",
              "      <td>0.221009</td>\n",
              "    </tr>\n",
              "    <tr>\n",
              "      <th>5</th>\n",
              "      <td>0.408004</td>\n",
              "      <td>0.381765</td>\n",
              "      <td>0.244444</td>\n",
              "    </tr>\n",
              "    <tr>\n",
              "      <th>6</th>\n",
              "      <td>0.459077</td>\n",
              "      <td>0.455709</td>\n",
              "      <td>0.418310</td>\n",
              "    </tr>\n",
              "    <tr>\n",
              "      <th>7</th>\n",
              "      <td>0.413813</td>\n",
              "      <td>0.258656</td>\n",
              "      <td>0.191323</td>\n",
              "    </tr>\n",
              "    <tr>\n",
              "      <th>8</th>\n",
              "      <td>0.388507</td>\n",
              "      <td>0.311825</td>\n",
              "      <td>0.254415</td>\n",
              "    </tr>\n",
              "    <tr>\n",
              "      <th>9</th>\n",
              "      <td>0.330759</td>\n",
              "      <td>0.345070</td>\n",
              "      <td>0.276582</td>\n",
              "    </tr>\n",
              "    <tr>\n",
              "      <th>10</th>\n",
              "      <td>0.450542</td>\n",
              "      <td>0.420481</td>\n",
              "      <td>0.386123</td>\n",
              "    </tr>\n",
              "    <tr>\n",
              "      <th>11</th>\n",
              "      <td>0.340286</td>\n",
              "      <td>0.293447</td>\n",
              "      <td>0.265342</td>\n",
              "    </tr>\n",
              "    <tr>\n",
              "      <th>12</th>\n",
              "      <td>0.477674</td>\n",
              "      <td>0.443217</td>\n",
              "      <td>0.376326</td>\n",
              "    </tr>\n",
              "    <tr>\n",
              "      <th>13</th>\n",
              "      <td>0.540678</td>\n",
              "      <td>0.460978</td>\n",
              "      <td>0.335227</td>\n",
              "    </tr>\n",
              "    <tr>\n",
              "      <th>14</th>\n",
              "      <td>0.277471</td>\n",
              "      <td>0.252742</td>\n",
              "      <td>0.273759</td>\n",
              "    </tr>\n",
              "    <tr>\n",
              "      <th>15</th>\n",
              "      <td>0.252336</td>\n",
              "      <td>0.222319</td>\n",
              "      <td>0.178267</td>\n",
              "    </tr>\n",
              "    <tr>\n",
              "      <th>16</th>\n",
              "      <td>0.208012</td>\n",
              "      <td>0.202110</td>\n",
              "      <td>0.126834</td>\n",
              "    </tr>\n",
              "    <tr>\n",
              "      <th>17</th>\n",
              "      <td>0.366441</td>\n",
              "      <td>0.320219</td>\n",
              "      <td>0.262224</td>\n",
              "    </tr>\n",
              "    <tr>\n",
              "      <th>18</th>\n",
              "      <td>0.486416</td>\n",
              "      <td>0.471416</td>\n",
              "      <td>0.431074</td>\n",
              "    </tr>\n",
              "    <tr>\n",
              "      <th>19</th>\n",
              "      <td>0.357190</td>\n",
              "      <td>0.283103</td>\n",
              "      <td>0.188635</td>\n",
              "    </tr>\n",
              "    <tr>\n",
              "      <th>20</th>\n",
              "      <td>0.507622</td>\n",
              "      <td>0.483793</td>\n",
              "      <td>0.416940</td>\n",
              "    </tr>\n",
              "    <tr>\n",
              "      <th>21</th>\n",
              "      <td>0.304998</td>\n",
              "      <td>0.213387</td>\n",
              "      <td>0.183652</td>\n",
              "    </tr>\n",
              "    <tr>\n",
              "      <th>22</th>\n",
              "      <td>0.579562</td>\n",
              "      <td>0.478411</td>\n",
              "      <td>0.389603</td>\n",
              "    </tr>\n",
              "    <tr>\n",
              "      <th>23</th>\n",
              "      <td>0.515158</td>\n",
              "      <td>0.466904</td>\n",
              "      <td>0.397596</td>\n",
              "    </tr>\n",
              "    <tr>\n",
              "      <th>24</th>\n",
              "      <td>0.349326</td>\n",
              "      <td>0.276969</td>\n",
              "      <td>0.300992</td>\n",
              "    </tr>\n",
              "  </tbody>\n",
              "</table>\n",
              "</div>\n",
              "      <button class=\"colab-df-convert\" onclick=\"convertToInteractive('df-7152d574-7791-494a-8efb-bea735eb5a69')\"\n",
              "              title=\"Convert this dataframe to an interactive table.\"\n",
              "              style=\"display:none;\">\n",
              "        \n",
              "  <svg xmlns=\"http://www.w3.org/2000/svg\" height=\"24px\"viewBox=\"0 0 24 24\"\n",
              "       width=\"24px\">\n",
              "    <path d=\"M0 0h24v24H0V0z\" fill=\"none\"/>\n",
              "    <path d=\"M18.56 5.44l.94 2.06.94-2.06 2.06-.94-2.06-.94-.94-2.06-.94 2.06-2.06.94zm-11 1L8.5 8.5l.94-2.06 2.06-.94-2.06-.94L8.5 2.5l-.94 2.06-2.06.94zm10 10l.94 2.06.94-2.06 2.06-.94-2.06-.94-.94-2.06-.94 2.06-2.06.94z\"/><path d=\"M17.41 7.96l-1.37-1.37c-.4-.4-.92-.59-1.43-.59-.52 0-1.04.2-1.43.59L10.3 9.45l-7.72 7.72c-.78.78-.78 2.05 0 2.83L4 21.41c.39.39.9.59 1.41.59.51 0 1.02-.2 1.41-.59l7.78-7.78 2.81-2.81c.8-.78.8-2.07 0-2.86zM5.41 20L4 18.59l7.72-7.72 1.47 1.35L5.41 20z\"/>\n",
              "  </svg>\n",
              "      </button>\n",
              "      \n",
              "  <style>\n",
              "    .colab-df-container {\n",
              "      display:flex;\n",
              "      flex-wrap:wrap;\n",
              "      gap: 12px;\n",
              "    }\n",
              "\n",
              "    .colab-df-convert {\n",
              "      background-color: #E8F0FE;\n",
              "      border: none;\n",
              "      border-radius: 50%;\n",
              "      cursor: pointer;\n",
              "      display: none;\n",
              "      fill: #1967D2;\n",
              "      height: 32px;\n",
              "      padding: 0 0 0 0;\n",
              "      width: 32px;\n",
              "    }\n",
              "\n",
              "    .colab-df-convert:hover {\n",
              "      background-color: #E2EBFA;\n",
              "      box-shadow: 0px 1px 2px rgba(60, 64, 67, 0.3), 0px 1px 3px 1px rgba(60, 64, 67, 0.15);\n",
              "      fill: #174EA6;\n",
              "    }\n",
              "\n",
              "    [theme=dark] .colab-df-convert {\n",
              "      background-color: #3B4455;\n",
              "      fill: #D2E3FC;\n",
              "    }\n",
              "\n",
              "    [theme=dark] .colab-df-convert:hover {\n",
              "      background-color: #434B5C;\n",
              "      box-shadow: 0px 1px 3px 1px rgba(0, 0, 0, 0.15);\n",
              "      filter: drop-shadow(0px 1px 2px rgba(0, 0, 0, 0.3));\n",
              "      fill: #FFFFFF;\n",
              "    }\n",
              "  </style>\n",
              "\n",
              "      <script>\n",
              "        const buttonEl =\n",
              "          document.querySelector('#df-7152d574-7791-494a-8efb-bea735eb5a69 button.colab-df-convert');\n",
              "        buttonEl.style.display =\n",
              "          google.colab.kernel.accessAllowed ? 'block' : 'none';\n",
              "\n",
              "        async function convertToInteractive(key) {\n",
              "          const element = document.querySelector('#df-7152d574-7791-494a-8efb-bea735eb5a69');\n",
              "          const dataTable =\n",
              "            await google.colab.kernel.invokeFunction('convertToInteractive',\n",
              "                                                     [key], {});\n",
              "          if (!dataTable) return;\n",
              "\n",
              "          const docLinkHtml = 'Like what you see? Visit the ' +\n",
              "            '<a target=\"_blank\" href=https://colab.research.google.com/notebooks/data_table.ipynb>data table notebook</a>'\n",
              "            + ' to learn more about interactive tables.';\n",
              "          element.innerHTML = '';\n",
              "          dataTable['output_type'] = 'display_data';\n",
              "          await google.colab.output.renderOutput(dataTable, element);\n",
              "          const docLink = document.createElement('div');\n",
              "          docLink.innerHTML = docLinkHtml;\n",
              "          element.appendChild(docLink);\n",
              "        }\n",
              "      </script>\n",
              "    </div>\n",
              "  </div>\n",
              "  "
            ]
          },
          "metadata": {},
          "execution_count": 36
        }
      ]
    },
    {
      "cell_type": "code",
      "source": [
        "RF_separated_pscr.to_csv('/content/drive/MyDrive/M5/RF_separated_costs_pscr.csv')"
      ],
      "metadata": {
        "id": "nXiNgGvbfsY9"
      },
      "execution_count": null,
      "outputs": []
    }
  ]
}