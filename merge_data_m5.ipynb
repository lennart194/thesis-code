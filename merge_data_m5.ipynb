{
  "nbformat": 4,
  "nbformat_minor": 0,
  "metadata": {
    "colab": {
      "name": "merge_data_m5.ipynb",
      "provenance": [],
      "collapsed_sections": [
        "-FKvSiDPNBLd",
        "A1YoYEtODVSh",
        "3T-HAuXCMJOa",
        "JM_-rQ8CJ2U2"
      ],
      "authorship_tag": "ABX9TyNsPYYZSYlWgjAQgrgJMSft",
      "include_colab_link": true
    },
    "kernelspec": {
      "name": "python3",
      "display_name": "Python 3"
    },
    "language_info": {
      "name": "python"
    }
  },
  "cells": [
    {
      "cell_type": "markdown",
      "metadata": {
        "id": "view-in-github",
        "colab_type": "text"
      },
      "source": [
        "<a href=\"https://colab.research.google.com/github/lennart194/thesis-code/blob/main/merge_data_m5.ipynb\" target=\"_parent\"><img src=\"https://colab.research.google.com/assets/colab-badge.svg\" alt=\"Open In Colab\"/></a>"
      ]
    },
    {
      "cell_type": "code",
      "execution_count": null,
      "metadata": {
        "id": "fTXwr_IyefYD"
      },
      "outputs": [],
      "source": [
        "from google.colab import drive\n",
        "drive.mount('/content/drive')"
      ]
    },
    {
      "cell_type": "code",
      "source": [
        "import pandas as pd\n",
        "import numpy as np\n",
        "from os import rename\n",
        "from sklearn.preprocessing import OneHotEncoder\n",
        "from sklearn.preprocessing import LabelEncoder"
      ],
      "metadata": {
        "id": "1Dja3h3He31D"
      },
      "execution_count": null,
      "outputs": []
    },
    {
      "cell_type": "markdown",
      "source": [
        "## Import Data"
      ],
      "metadata": {
        "id": "Ox1fznuyLYKy"
      }
    },
    {
      "cell_type": "code",
      "source": [
        "calendar = pd.read_csv('/content/drive/MyDrive/M5/calendar.csv')\n",
        "sales_data = pd.read_csv('/content/drive/MyDrive/M5/sales_train_evaluation.csv')\n",
        "sell_prices = pd.read_csv('/content/drive/MyDrive/M5/sell_prices.csv')"
      ],
      "metadata": {
        "id": "wRNnzlOGfCQI"
      },
      "execution_count": null,
      "outputs": []
    },
    {
      "cell_type": "markdown",
      "source": [
        "## Edit sales_data\n",
        "\n",
        "*   drop all rows where cat_id isnot FOODS\n",
        "*   drop all rows where store_id isnot CA_3\n",
        "*   set the index to item_id\n",
        "*   create a variable day_cols containing all the d_columns\n",
        "\n"
      ],
      "metadata": {
        "id": "-FKvSiDPNBLd"
      }
    },
    {
      "cell_type": "code",
      "source": [
        "sales_data = sales_data[sales_data['cat_id'].str.contains('FOODS') == True]\n",
        "sales_data = sales_data[sales_data['store_id'].str.contains('CA_3') == True]\n",
        "sales_data = sales_data.set_index('item_id')\n",
        "day_cols = [col for col in sales_data.columns if 'd_' in col]"
      ],
      "metadata": {
        "id": "eJt7Sr6DPMZf"
      },
      "execution_count": null,
      "outputs": []
    },
    {
      "cell_type": "markdown",
      "source": [
        "### Find the 50 Products with the lowest intermittend demand\n",
        "\n",
        "*   create a new data-set sales_data_dcols with index item_id containing only the day_cols\n",
        "*   create a new data-set sales_data_intermittend with index item_id and the sorted count of intermittend demand\n",
        "*   reset the index and change the column name to intermittend_demand\n",
        "*   choose the first 50 entries\n",
        "\n",
        "\n",
        "\n"
      ],
      "metadata": {
        "id": "A1YoYEtODVSh"
      }
    },
    {
      "cell_type": "code",
      "source": [
        "sales_data_dcols = sales_data[day_cols]\n",
        "sales_data_intermittend = sales_data_dcols[sales_data_dcols == 0].count(axis=1).sort_values()\n",
        "sales_data_intermittend = sales_data_intermittend.reset_index()\n",
        "sales_data_intermittend = sales_data_intermittend.rename(columns={0:\"intermittend_demand\"})\n",
        "sales_data_intermittend = sales_data_intermittend.head(50)"
      ],
      "metadata": {
        "id": "Gnf0BL6Jq47C"
      },
      "execution_count": null,
      "outputs": []
    },
    {
      "cell_type": "markdown",
      "source": [
        "### Inner merge sales_data and sales_data_intermittend on item_id and drop some columns"
      ],
      "metadata": {
        "id": "EklGLkxLGVE_"
      }
    },
    {
      "cell_type": "code",
      "source": [
        "sales_data = sales_data.merge(sales_data_intermittend, how='inner', on='item_id')\n",
        "sales_data = sales_data.drop(columns=['id', 'dept_id', 'cat_id', 'store_id', 'state_id', 'intermittend_demand'])"
      ],
      "metadata": {
        "id": "NSchVP1HGmDU"
      },
      "execution_count": null,
      "outputs": []
    },
    {
      "cell_type": "markdown",
      "source": [
        "## Edit calendar\n",
        "\n",
        "*   create one single column for event_type\n",
        "*   create dummys for every event type\n",
        "*   delete old columns\n",
        "*   drop columns snap_TX & snap_WI and rename snap_CA"
      ],
      "metadata": {
        "id": "3T-HAuXCMJOa"
      }
    },
    {
      "cell_type": "code",
      "source": [
        "calendar['event_type'] = calendar['event_type_1'].astype(str) + '&' + calendar['event_type_2'].astype(str)\n",
        "\n",
        "calendar['is_sporting_event'] = calendar['event_type'].apply (lambda row: 1 if 'Sporting' in row else 0)\n",
        "calendar['is_national_event'] = calendar['event_type'].apply (lambda row: 1 if 'National' in row else 0)\n",
        "calendar['is_cultural_event'] = calendar['event_type'].apply (lambda row: 1 if 'Cultural' in row else 0)\n",
        "calendar['is_religious_event'] = calendar['event_type'].apply (lambda row: 1 if 'Religious' in row else 0)\n",
        "calendar = calendar.drop(columns=['event_name_1', 'event_name_2', 'event_type_1', 'event_type_2', 'event_type'])\n",
        "calendar = calendar.drop(columns=['snap_TX', 'snap_WI'])\n",
        "calendar = calendar.rename(columns={'snap_CA':'is_snap_event'})"
      ],
      "metadata": {
        "id": "HPKHw3CVMsZ6"
      },
      "execution_count": null,
      "outputs": []
    },
    {
      "cell_type": "markdown",
      "source": [
        "*   convert year into object type\n",
        "*   LabelEncoding of year\n",
        "\n",
        "\n",
        "\n",
        "\n",
        "\n"
      ],
      "metadata": {
        "id": "gSbELMASL3MW"
      }
    },
    {
      "cell_type": "code",
      "source": [
        "calendar['year'] = calendar['year'].astype(object)\n",
        "\n",
        "labenc = LabelEncoder()\n",
        "calendar['year'] = labenc.fit_transform(calendar['year'])"
      ],
      "metadata": {
        "id": "73fOKWsxOM4y"
      },
      "execution_count": null,
      "outputs": []
    },
    {
      "cell_type": "markdown",
      "source": [
        "*   OneHotEncoding of weekdays, months (change type to int)\n",
        "*   delete weekday, wday and month\n"
      ],
      "metadata": {
        "id": "YEq9L4gPhnNY"
      }
    },
    {
      "cell_type": "code",
      "source": [
        "ohe = OneHotEncoder()\n",
        "date_array = ohe.fit_transform(calendar[['weekday', 'month']]).toarray()\n",
        "date_labels = ohe.categories_\n",
        "date_labels = np.hstack(date_labels)\n",
        "date = pd.DataFrame(date_array, columns = date_labels)\n",
        "date = date.astype(int)\n",
        "date = date.rename(columns={1:'January', 2:'February', 3:'March', 4:'April', 5:'May', 6:'June', 7:'July', 8:'August', 9:'September', 10:'October', 11:'November', 12:'December'})\n",
        "calendar = calendar.join(date)\n",
        "calendar = calendar.drop(columns=['weekday', 'wday', 'month'])"
      ],
      "metadata": {
        "id": "MQ4MepbP38Gq"
      },
      "execution_count": null,
      "outputs": []
    },
    {
      "cell_type": "markdown",
      "source": [
        "## Merge sell_prices and calendar\n",
        "\n",
        "\n",
        "\n",
        "*   Merge sell prices with sales_data_intermittend['item_id'] (df with 50 chosen products)\n",
        "*   Keep only rows with store_id CA_3\n",
        "*   Merge sell_prices & calendar --> create new df sell_prices_calendar\n",
        "*   Edit sell_prices_calendar (drop some columns and sort values)\n",
        "*   Delete all rows in sell_prices_calendar containing day, that are not contained in sell_data\n",
        "\n",
        "\n",
        "\n",
        "\n",
        "\n"
      ],
      "metadata": {
        "id": "JM_-rQ8CJ2U2"
      }
    },
    {
      "cell_type": "code",
      "source": [
        "sell_prices = sell_prices.merge(sales_data_intermittend['item_id'], how='inner', on='item_id')\n",
        "sell_prices = sell_prices[sell_prices['store_id'].str.contains('CA_3') == True]\n",
        "sell_prices_calendar = sell_prices.merge(calendar, how='inner', on='wm_yr_wk')\n",
        "sell_prices_calendar = sell_prices_calendar.sort_values(by=['date', 'item_id'])\n",
        "sell_prices_calendar = sell_prices_calendar[sell_prices_calendar['d'].isin(day_cols)]"
      ],
      "metadata": {
        "id": "hog_O96gOQEy"
      },
      "execution_count": null,
      "outputs": []
    },
    {
      "cell_type": "markdown",
      "source": [
        "## Merge sales_price_calendar and sell_data to the final frame\n",
        "\n",
        "*   Set the index of both dfs to item_id\n",
        "*   Use the lookup function to create the demand column for each product on each day\n",
        "\n"
      ],
      "metadata": {
        "id": "Qy3Xha-0n0rq"
      }
    },
    {
      "cell_type": "code",
      "source": [
        "sell_prices_calendar= sell_prices_calendar.set_index('item_id')\n",
        "sales_data = sales_data.set_index('item_id')\n",
        "sell_prices_calendar['demand'] = sales_data.lookup(sell_prices_calendar.index, sell_prices_calendar.d)"
      ],
      "metadata": {
        "colab": {
          "base_uri": "https://localhost:8080/"
        },
        "id": "mYmYrPBZT4Ae",
        "outputId": "b6506494-681c-4d3a-b33c-efd36a9773cc"
      },
      "execution_count": null,
      "outputs": [
        {
          "output_type": "stream",
          "name": "stderr",
          "text": [
            "/usr/local/lib/python3.7/dist-packages/ipykernel_launcher.py:3: FutureWarning: The 'lookup' method is deprecated and will beremoved in a future version.You can use DataFrame.melt and DataFrame.locas a substitute.\n",
            "  This is separate from the ipykernel package so we can avoid doing imports until\n"
          ]
        }
      ]
    },
    {
      "cell_type": "markdown",
      "source": [
        "## Create final_set"
      ],
      "metadata": {
        "id": "V5jDySWXjITT"
      }
    },
    {
      "cell_type": "code",
      "source": [
        "final_set = sell_prices_calendar.reset_index()\n",
        "final_set = final_set.drop(columns=['d', 'wm_yr_wk', 'store_id'])\n",
        "final_set = final_set.set_index('date')"
      ],
      "metadata": {
        "id": "lPgXJsLElpfI"
      },
      "execution_count": null,
      "outputs": []
    },
    {
      "cell_type": "markdown",
      "source": [
        "*   create final_set_feature\n",
        "*   create final_set_demand\n",
        "\n"
      ],
      "metadata": {
        "id": "dJm_uROVjyh9"
      }
    },
    {
      "cell_type": "code",
      "source": [
        "final_set_Y = final_set[['demand']]\n",
        "final_set_X = final_set.drop('demand', axis=1)"
      ],
      "metadata": {
        "id": "HWjFcVjriQl2"
      },
      "execution_count": null,
      "outputs": []
    },
    {
      "cell_type": "code",
      "source": [
        "final_set.to_csv('/content/drive/MyDrive/M5/final_set.csv')\n",
        "final_set_Y.to_csv('/content/drive/MyDrive/M5/final_set_Y.csv')\n",
        "final_set_X.to_csv('/content/drive/MyDrive/M5/final_set_X.csv')"
      ],
      "metadata": {
        "id": "PmkOkyGTA2HE"
      },
      "execution_count": null,
      "outputs": []
    }
  ]
}