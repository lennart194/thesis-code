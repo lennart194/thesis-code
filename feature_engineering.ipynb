{
  "nbformat": 4,
  "nbformat_minor": 0,
  "metadata": {
    "colab": {
      "name": "feature_engineering.ipynb",
      "provenance": [],
      "authorship_tag": "ABX9TyPjVRzS1MhzUDn+xHE4YPNl",
      "include_colab_link": true
    },
    "kernelspec": {
      "name": "python3",
      "display_name": "Python 3"
    },
    "language_info": {
      "name": "python"
    }
  },
  "cells": [
    {
      "cell_type": "markdown",
      "metadata": {
        "id": "view-in-github",
        "colab_type": "text"
      },
      "source": [
        "<a href=\"https://colab.research.google.com/github/lennart194/thesis-code/blob/main/feature_engineering.ipynb\" target=\"_parent\"><img src=\"https://colab.research.google.com/assets/colab-badge.svg\" alt=\"Open In Colab\"/></a>"
      ]
    },
    {
      "cell_type": "code",
      "source": [
        "pip install tsfresh"
      ],
      "metadata": {
        "colab": {
          "base_uri": "https://localhost:8080/"
        },
        "id": "ltSUXE3rCevG",
        "outputId": "767c27c7-715e-4e71-d268-bde63d69df8c"
      },
      "execution_count": 1,
      "outputs": [
        {
          "output_type": "stream",
          "name": "stdout",
          "text": [
            "Requirement already satisfied: tsfresh in /usr/local/lib/python3.7/dist-packages (0.19.0)\n",
            "Requirement already satisfied: statsmodels>=0.13 in /usr/local/lib/python3.7/dist-packages (from tsfresh) (0.13.2)\n",
            "Requirement already satisfied: patsy>=0.4.1 in /usr/local/lib/python3.7/dist-packages (from tsfresh) (0.5.2)\n",
            "Requirement already satisfied: pandas>=0.25.0 in /usr/local/lib/python3.7/dist-packages (from tsfresh) (1.3.5)\n",
            "Requirement already satisfied: scipy>=1.2.0 in /usr/local/lib/python3.7/dist-packages (from tsfresh) (1.7.3)\n",
            "Requirement already satisfied: scikit-learn>=0.22.0 in /usr/local/lib/python3.7/dist-packages (from tsfresh) (1.0.2)\n",
            "Requirement already satisfied: numpy>=1.15.1 in /usr/local/lib/python3.7/dist-packages (from tsfresh) (1.21.5)\n",
            "Requirement already satisfied: tqdm>=4.10.0 in /usr/local/lib/python3.7/dist-packages (from tsfresh) (4.63.0)\n",
            "Requirement already satisfied: distributed>=2.11.0 in /usr/local/lib/python3.7/dist-packages (from tsfresh) (2.30.1)\n",
            "Requirement already satisfied: cloudpickle in /usr/local/lib/python3.7/dist-packages (from tsfresh) (2.0.0)\n",
            "Requirement already satisfied: requests>=2.9.1 in /usr/local/lib/python3.7/dist-packages (from tsfresh) (2.23.0)\n",
            "Requirement already satisfied: stumpy>=1.7.2 in /usr/local/lib/python3.7/dist-packages (from tsfresh) (1.11.0)\n",
            "Requirement already satisfied: dask[dataframe]>=2.9.0 in /usr/local/lib/python3.7/dist-packages (from tsfresh) (2.12.0)\n",
            "Requirement already satisfied: matrixprofile<2.0.0,>=1.1.10 in /usr/local/lib/python3.7/dist-packages (from tsfresh) (1.1.10)\n",
            "Requirement already satisfied: fsspec>=0.6.0 in /usr/local/lib/python3.7/dist-packages (from dask[dataframe]>=2.9.0->tsfresh) (2022.2.0)\n",
            "Requirement already satisfied: partd>=0.3.10 in /usr/local/lib/python3.7/dist-packages (from dask[dataframe]>=2.9.0->tsfresh) (1.2.0)\n",
            "Requirement already satisfied: toolz>=0.7.3 in /usr/local/lib/python3.7/dist-packages (from dask[dataframe]>=2.9.0->tsfresh) (0.11.2)\n",
            "Requirement already satisfied: zict>=0.1.3 in /usr/local/lib/python3.7/dist-packages (from distributed>=2.11.0->tsfresh) (2.1.0)\n",
            "Requirement already satisfied: tblib>=1.6.0 in /usr/local/lib/python3.7/dist-packages (from distributed>=2.11.0->tsfresh) (1.7.0)\n",
            "Requirement already satisfied: pyyaml in /usr/local/lib/python3.7/dist-packages (from distributed>=2.11.0->tsfresh) (3.13)\n",
            "Requirement already satisfied: sortedcontainers!=2.0.0,!=2.0.1 in /usr/local/lib/python3.7/dist-packages (from distributed>=2.11.0->tsfresh) (2.4.0)\n",
            "Requirement already satisfied: setuptools in /usr/local/lib/python3.7/dist-packages (from distributed>=2.11.0->tsfresh) (57.4.0)\n",
            "Requirement already satisfied: msgpack>=0.6.0 in /usr/local/lib/python3.7/dist-packages (from distributed>=2.11.0->tsfresh) (1.0.3)\n",
            "Requirement already satisfied: psutil>=5.0 in /usr/local/lib/python3.7/dist-packages (from distributed>=2.11.0->tsfresh) (5.4.8)\n",
            "Requirement already satisfied: tornado>=5 in /usr/local/lib/python3.7/dist-packages (from distributed>=2.11.0->tsfresh) (5.1.1)\n",
            "Requirement already satisfied: click>=6.6 in /usr/local/lib/python3.7/dist-packages (from distributed>=2.11.0->tsfresh) (7.1.2)\n",
            "Requirement already satisfied: matplotlib>=3.0.3 in /usr/local/lib/python3.7/dist-packages (from matrixprofile<2.0.0,>=1.1.10->tsfresh) (3.2.2)\n",
            "Requirement already satisfied: protobuf==3.11.2 in /usr/local/lib/python3.7/dist-packages (from matrixprofile<2.0.0,>=1.1.10->tsfresh) (3.11.2)\n",
            "Requirement already satisfied: six>=1.9 in /usr/local/lib/python3.7/dist-packages (from protobuf==3.11.2->matrixprofile<2.0.0,>=1.1.10->tsfresh) (1.15.0)\n",
            "Requirement already satisfied: pyparsing!=2.0.4,!=2.1.2,!=2.1.6,>=2.0.1 in /usr/local/lib/python3.7/dist-packages (from matplotlib>=3.0.3->matrixprofile<2.0.0,>=1.1.10->tsfresh) (3.0.7)\n",
            "Requirement already satisfied: kiwisolver>=1.0.1 in /usr/local/lib/python3.7/dist-packages (from matplotlib>=3.0.3->matrixprofile<2.0.0,>=1.1.10->tsfresh) (1.4.0)\n",
            "Requirement already satisfied: cycler>=0.10 in /usr/local/lib/python3.7/dist-packages (from matplotlib>=3.0.3->matrixprofile<2.0.0,>=1.1.10->tsfresh) (0.11.0)\n",
            "Requirement already satisfied: python-dateutil>=2.1 in /usr/local/lib/python3.7/dist-packages (from matplotlib>=3.0.3->matrixprofile<2.0.0,>=1.1.10->tsfresh) (2.8.2)\n",
            "Requirement already satisfied: typing-extensions in /usr/local/lib/python3.7/dist-packages (from kiwisolver>=1.0.1->matplotlib>=3.0.3->matrixprofile<2.0.0,>=1.1.10->tsfresh) (3.10.0.2)\n",
            "Requirement already satisfied: pytz>=2017.3 in /usr/local/lib/python3.7/dist-packages (from pandas>=0.25.0->tsfresh) (2018.9)\n",
            "Requirement already satisfied: locket in /usr/local/lib/python3.7/dist-packages (from partd>=0.3.10->dask[dataframe]>=2.9.0->tsfresh) (0.2.1)\n",
            "Requirement already satisfied: idna<3,>=2.5 in /usr/local/lib/python3.7/dist-packages (from requests>=2.9.1->tsfresh) (2.10)\n",
            "Requirement already satisfied: chardet<4,>=3.0.2 in /usr/local/lib/python3.7/dist-packages (from requests>=2.9.1->tsfresh) (3.0.4)\n",
            "Requirement already satisfied: urllib3!=1.25.0,!=1.25.1,<1.26,>=1.21.1 in /usr/local/lib/python3.7/dist-packages (from requests>=2.9.1->tsfresh) (1.24.3)\n",
            "Requirement already satisfied: certifi>=2017.4.17 in /usr/local/lib/python3.7/dist-packages (from requests>=2.9.1->tsfresh) (2021.10.8)\n",
            "Requirement already satisfied: joblib>=0.11 in /usr/local/lib/python3.7/dist-packages (from scikit-learn>=0.22.0->tsfresh) (1.1.0)\n",
            "Requirement already satisfied: threadpoolctl>=2.0.0 in /usr/local/lib/python3.7/dist-packages (from scikit-learn>=0.22.0->tsfresh) (3.1.0)\n",
            "Requirement already satisfied: packaging>=21.3 in /usr/local/lib/python3.7/dist-packages (from statsmodels>=0.13->tsfresh) (21.3)\n",
            "Requirement already satisfied: numba>=0.54 in /usr/local/lib/python3.7/dist-packages (from stumpy>=1.7.2->tsfresh) (0.55.1)\n",
            "Requirement already satisfied: llvmlite<0.39,>=0.38.0rc1 in /usr/local/lib/python3.7/dist-packages (from numba>=0.54->stumpy>=1.7.2->tsfresh) (0.38.0)\n",
            "Requirement already satisfied: heapdict in /usr/local/lib/python3.7/dist-packages (from zict>=0.1.3->distributed>=2.11.0->tsfresh) (1.0.1)\n"
          ]
        }
      ]
    },
    {
      "cell_type": "code",
      "execution_count": 2,
      "metadata": {
        "colab": {
          "base_uri": "https://localhost:8080/"
        },
        "id": "uCfirNXrBkmf",
        "outputId": "6d8c43a1-3fc6-4319-cadc-4de50ff7c3b6"
      },
      "outputs": [
        {
          "output_type": "stream",
          "name": "stdout",
          "text": [
            "Mounted at /content/drive\n"
          ]
        }
      ],
      "source": [
        "from google.colab import drive\n",
        "drive.mount('/content/drive')"
      ]
    },
    {
      "cell_type": "code",
      "source": [
        "import pandas as pd\n",
        "from sklearn.preprocessing import LabelEncoder\n",
        "import numpy as np\n",
        "\n",
        "from tsfresh.feature_extraction import extract_features, MinimalFCParameters\n",
        "from tsfresh.utilities.dataframe_functions import roll_time_series"
      ],
      "metadata": {
        "id": "dsqLUrCmCZgl"
      },
      "execution_count": 3,
      "outputs": []
    },
    {
      "cell_type": "code",
      "source": [
        "final_set = pd.read_csv('/content/drive/MyDrive/M5/final_set.csv')\n",
        "final_set_X = pd.read_csv('/content/drive/MyDrive/M5/final_set_X.csv')\n",
        "final_set_Y = pd.read_csv('/content/drive/MyDrive/M5/final_set_Y.csv')"
      ],
      "metadata": {
        "id": "kThyN67xBxei"
      },
      "execution_count": 4,
      "outputs": []
    },
    {
      "cell_type": "markdown",
      "source": [
        "## Encoding of the 'item'-column\n",
        "\n"
      ],
      "metadata": {
        "id": "KJUk4EQ0cG5P"
      }
    },
    {
      "cell_type": "code",
      "source": [
        "final_set_X['item_id'] = final_set_X['item_id'].astype(object)\n",
        "\n",
        "labenc = LabelEncoder()\n",
        "final_set_X['item_id'] = labenc.fit_transform(final_set_X['item_id'])\n",
        "final_set['item_id'] = labenc.fit_transform(final_set['item_id'])"
      ],
      "metadata": {
        "id": "J31ikzCBDKk9"
      },
      "execution_count": 5,
      "outputs": []
    },
    {
      "cell_type": "markdown",
      "source": [
        "# week window"
      ],
      "metadata": {
        "id": "JBhv2aWzsvpx"
      }
    },
    {
      "cell_type": "markdown",
      "source": [
        "## Create a new dataset 'lag_demand_set_week' for week features\n",
        "\n"
      ],
      "metadata": {
        "id": "bAP8ZCTZciZj"
      }
    },
    {
      "cell_type": "code",
      "source": [
        "lag_demand_set_week = final_set[['date', 'item_id', 'demand']]"
      ],
      "metadata": {
        "id": "WWruL3d9upKF"
      },
      "execution_count": 7,
      "outputs": []
    },
    {
      "cell_type": "markdown",
      "source": [
        "## Create demand features for seven_day window\n",
        "\n",
        "\n",
        "*   Create a rolling demand data set for seven days as shift (df_rolled_week)\n",
        "*   Extract MinimalParameters for df_rolled_week (extracted_week)\n",
        "\n",
        "\n",
        "\n"
      ],
      "metadata": {
        "id": "XCEDQV8MdP-2"
      }
    },
    {
      "cell_type": "code",
      "source": [
        "df_rolled_week = roll_time_series(lag_demand_set_week, column_id=\"item_id\", column_sort=\"date\", max_timeshift= 6, min_timeshift=6)\n",
        "extracted_week = extract_features(df_rolled_week, column_id = 'id', column_sort='date', column_value='demand', default_fc_parameters=MinimalFCParameters())"
      ],
      "metadata": {
        "colab": {
          "base_uri": "https://localhost:8080/"
        },
        "id": "vJ9qNMsUkpo-",
        "outputId": "554702c2-4783-46cb-9af4-7b4dc568a4b3"
      },
      "execution_count": 67,
      "outputs": [
        {
          "output_type": "stream",
          "name": "stderr",
          "text": [
            "Rolling: 100%|██████████| 1941/1941 [02:34<00:00, 12.58it/s]\n",
            "Feature Extraction: 100%|██████████| 96729/96729 [01:29<00:00, 1075.63it/s]\n"
          ]
        }
      ]
    },
    {
      "cell_type": "markdown",
      "source": [
        "\n",
        "\n",
        "*   reset the index and chance the names back to 'date' and 'item_id'\n",
        "*   sort by those two columns\n",
        "\n"
      ],
      "metadata": {
        "id": "tzOBPCsNLQVw"
      }
    },
    {
      "cell_type": "code",
      "source": [
        "extracted_week = extracted_week.reset_index()\n",
        "extracted_week = extracted_week.rename(columns={'level_0':'item_id', 'level_1':'date'})\n",
        "extracted_week = extracted_week.sort_values(by=['date', 'item_id'])"
      ],
      "metadata": {
        "id": "4loNlcGI6UBt"
      },
      "execution_count": 68,
      "outputs": []
    },
    {
      "cell_type": "markdown",
      "source": [
        "\n",
        "\n",
        "*   add '_week' to all columns except for 'item_id' and 'date'\n",
        "*   drop 'demand_lenght'\n",
        "\n"
      ],
      "metadata": {
        "id": "-COUi5-ILjUG"
      }
    },
    {
      "cell_type": "code",
      "source": [
        "extracted_week.columns = [str(col) + '_week' for col in extracted_week.columns]\n",
        "extracted_week = extracted_week.rename(columns={'item_id_week':'item_id', 'date_week':'date'})\n",
        "extracted_week = extracted_week.drop(columns=['demand__length_week'])"
      ],
      "metadata": {
        "id": "PxJ2o1Fr-v4_"
      },
      "execution_count": 74,
      "outputs": []
    },
    {
      "cell_type": "markdown",
      "source": [
        "# twoweek window (analogue)"
      ],
      "metadata": {
        "id": "1_jJH6O1s6Fe"
      }
    },
    {
      "cell_type": "code",
      "source": [
        "lag_demand_set_twoweek = final_set[['date', 'item_id', 'demand']]"
      ],
      "metadata": {
        "id": "x89O4vzms8vm"
      },
      "execution_count": 25,
      "outputs": []
    },
    {
      "cell_type": "code",
      "source": [
        "df_rolled_twoweek = roll_time_series(lag_demand_set_twoweek, column_id=\"item_id\", column_sort=\"date\", max_timeshift= 13, min_timeshift=13)\n",
        "extracted_twoweek = extract_features(df_rolled_twoweek, column_id = 'id', column_sort='date', column_value='demand', default_fc_parameters=MinimalFCParameters())"
      ],
      "metadata": {
        "colab": {
          "base_uri": "https://localhost:8080/"
        },
        "id": "VSJh22Z29r2o",
        "outputId": "6c110de8-569b-476b-d7f3-9b386a36b637"
      },
      "execution_count": 33,
      "outputs": [
        {
          "output_type": "stream",
          "name": "stderr",
          "text": [
            "Rolling: 100%|██████████| 1941/1941 [02:41<00:00, 12.02it/s]\n",
            "Feature Extraction: 100%|██████████| 96379/96379 [01:28<00:00, 1084.81it/s]\n"
          ]
        }
      ]
    },
    {
      "cell_type": "code",
      "source": [
        "extracted_twoweek = extracted_twoweek.reset_index()\n",
        "extracted_twoweek = extracted_twoweek.rename(columns={'level_0':'item_id', 'level_1':'date'})\n",
        "extracted_twoweek = extracted_twoweek.sort_values(by=['date', 'item_id'])"
      ],
      "metadata": {
        "id": "f2HfjYh1AMPS"
      },
      "execution_count": 34,
      "outputs": []
    },
    {
      "cell_type": "code",
      "source": [
        "extracted_twoweek.columns = [str(col) + '_twoweek' for col in extracted_twoweek.columns]"
      ],
      "metadata": {
        "id": "35ckvJVLAS54"
      },
      "execution_count": 57,
      "outputs": []
    },
    {
      "cell_type": "code",
      "source": [
        "extracted_twoweek = extracted_twoweek.rename(columns={'item_id_twoweek':'item_id', 'date_twoweek':'date'})\n",
        "extracted_twoweek = extracted_twoweek.drop(columns=['demand__length_twoweek'])"
      ],
      "metadata": {
        "id": "fD5pHuDWFCNk"
      },
      "execution_count": 64,
      "outputs": []
    },
    {
      "cell_type": "markdown",
      "source": [
        "## Merging\n",
        "\n",
        "\n",
        "\n",
        "\n",
        "\n",
        "*   Merge the 18 window features\n",
        "*   Merge with the wohle final_set (so the corresponding demand values are dropped, too)\n",
        "\n",
        "\n",
        "\n"
      ],
      "metadata": {
        "id": "nbtorQGvHssK"
      }
    },
    {
      "cell_type": "code",
      "source": [
        "extracted_final = extracted_twoweek.merge(extracted_week, on=['date', 'item_id'], how='inner')\n",
        "ultimative_set = final_set.merge(extracted_final, on=['date', 'item_id'], how='inner')"
      ],
      "metadata": {
        "id": "IcSGzfYzFXoZ"
      },
      "execution_count": 76,
      "outputs": []
    },
    {
      "cell_type": "markdown",
      "source": [
        "\n",
        "\n",
        "*   create new ultimative sets\n",
        "\n"
      ],
      "metadata": {
        "id": "2FvKOFCWMbJO"
      }
    },
    {
      "cell_type": "code",
      "source": [
        "ultimative_set_Y = ultimative_set[['demand']]\n",
        "ultimative_set_X = ultimative_set.drop('demand', axis=1).set_index('date')"
      ],
      "metadata": {
        "id": "N8K9xCXxJ44_"
      },
      "execution_count": 85,
      "outputs": []
    },
    {
      "cell_type": "markdown",
      "source": [
        "\n",
        "\n",
        "*   save the sets as csv\n",
        "\n"
      ],
      "metadata": {
        "id": "J3h9HzVEMT4V"
      }
    },
    {
      "cell_type": "code",
      "source": [
        "ultimative_set.to_csv('/content/drive/MyDrive/M5/ultimative_set.csv')\n",
        "ultimative_set_Y.to_csv('/content/drive/MyDrive/M5/ultimative_set_Y.csv')\n",
        "ultimative_set_X.to_csv('/content/drive/MyDrive/M5/ultimative_set_X.csv')"
      ],
      "metadata": {
        "id": "UTT6qcTmKV4J"
      },
      "execution_count": 87,
      "outputs": []
    }
  ]
}