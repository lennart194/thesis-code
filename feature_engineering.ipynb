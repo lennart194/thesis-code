{
  "nbformat": 4,
  "nbformat_minor": 0,
  "metadata": {
    "colab": {
      "name": "feature_engineering.ipynb",
      "provenance": [],
      "collapsed_sections": [],
      "authorship_tag": "ABX9TyOOnKlIw+iDM8Bif6EaWFOy",
      "include_colab_link": true
    },
    "kernelspec": {
      "name": "python3",
      "display_name": "Python 3"
    },
    "language_info": {
      "name": "python"
    }
  },
  "cells": [
    {
      "cell_type": "markdown",
      "metadata": {
        "id": "view-in-github",
        "colab_type": "text"
      },
      "source": [
        "<a href=\"https://colab.research.google.com/github/lennart194/thesis-code/blob/main/feature_engineering.ipynb\" target=\"_parent\"><img src=\"https://colab.research.google.com/assets/colab-badge.svg\" alt=\"Open In Colab\"/></a>"
      ]
    },
    {
      "cell_type": "code",
      "source": [
        "pip install tsfresh"
      ],
      "metadata": {
        "id": "ltSUXE3rCevG"
      },
      "execution_count": null,
      "outputs": []
    },
    {
      "cell_type": "code",
      "execution_count": 2,
      "metadata": {
        "colab": {
          "base_uri": "https://localhost:8080/"
        },
        "id": "uCfirNXrBkmf",
        "outputId": "e931f296-2b1c-46b0-e90d-1a74ff3aac0e"
      },
      "outputs": [
        {
          "output_type": "stream",
          "name": "stdout",
          "text": [
            "Mounted at /content/drive\n"
          ]
        }
      ],
      "source": [
        "from google.colab import drive\n",
        "drive.mount('/content/drive')"
      ]
    },
    {
      "cell_type": "code",
      "source": [
        "import pandas as pd\n",
        "from sklearn.preprocessing import LabelEncoder\n",
        "import numpy as np\n",
        "\n",
        "from tsfresh.feature_extraction import extract_features, MinimalFCParameters\n",
        "from tsfresh.utilities.dataframe_functions import roll_time_series"
      ],
      "metadata": {
        "id": "dsqLUrCmCZgl"
      },
      "execution_count": 3,
      "outputs": []
    },
    {
      "cell_type": "code",
      "source": [
        "final_set = pd.read_csv('/content/drive/MyDrive/M5/final_set.csv')\n",
        "final_set_X = pd.read_csv('/content/drive/MyDrive/M5/final_set_X.csv')\n",
        "final_set_Y = pd.read_csv('/content/drive/MyDrive/M5/final_set_Y.csv')"
      ],
      "metadata": {
        "id": "kThyN67xBxei"
      },
      "execution_count": 5,
      "outputs": []
    },
    {
      "cell_type": "markdown",
      "source": [
        "## Encoding of the 'item'-column\n",
        "\n"
      ],
      "metadata": {
        "id": "KJUk4EQ0cG5P"
      }
    },
    {
      "cell_type": "code",
      "source": [
        "final_set_X['item_id'] = final_set_X['item_id'].astype(object)\n",
        "\n",
        "labenc = LabelEncoder()\n",
        "final_set_X['item_id'] = labenc.fit_transform(final_set_X['item_id'])\n",
        "final_set['item_id'] = labenc.fit_transform(final_set['item_id'])"
      ],
      "metadata": {
        "id": "J31ikzCBDKk9"
      },
      "execution_count": 6,
      "outputs": []
    },
    {
      "cell_type": "markdown",
      "source": [
        "# week window"
      ],
      "metadata": {
        "id": "JBhv2aWzsvpx"
      }
    },
    {
      "cell_type": "markdown",
      "source": [
        "## Create a new dataset 'lag_demand_set_week' for week features\n",
        "\n"
      ],
      "metadata": {
        "id": "bAP8ZCTZciZj"
      }
    },
    {
      "cell_type": "code",
      "source": [
        "lag_demand_set_week = final_set[['date', 'item_id', 'demand']]"
      ],
      "metadata": {
        "id": "WWruL3d9upKF"
      },
      "execution_count": 7,
      "outputs": []
    },
    {
      "cell_type": "markdown",
      "source": [
        "## Create demand features for seven_day window\n",
        "\n",
        "\n",
        "*   Create a rolling demand data set for seven days as shift (df_rolled_week)\n",
        "*   Extract MinimalParameters for df_rolled_week (extracted_week)\n",
        "\n",
        "\n",
        "\n"
      ],
      "metadata": {
        "id": "XCEDQV8MdP-2"
      }
    },
    {
      "cell_type": "code",
      "source": [
        "df_rolled_week = roll_time_series(lag_demand_set_week, column_id=\"item_id\", column_sort=\"date\", max_timeshift= 6, min_timeshift=6)\n",
        "extracted_week = extract_features(df_rolled_week, column_id = 'id', column_sort='date', column_value='demand', \n",
        "                                  default_fc_parameters=MinimalFCParameters())"
      ],
      "metadata": {
        "colab": {
          "base_uri": "https://localhost:8080/"
        },
        "id": "vJ9qNMsUkpo-",
        "outputId": "e7fb85a0-5464-4dd9-b7d7-e464cf34e589"
      },
      "execution_count": 8,
      "outputs": [
        {
          "output_type": "stream",
          "name": "stderr",
          "text": [
            "Rolling: 100%|██████████| 1941/1941 [01:15<00:00, 25.84it/s]\n",
            "Feature Extraction: 100%|██████████| 48368/48368 [00:42<00:00, 1132.16it/s]\n"
          ]
        }
      ]
    },
    {
      "cell_type": "markdown",
      "source": [
        "\n",
        "\n",
        "*   reset the index and chance the names back to 'date' and 'item_id'\n",
        "*   sort by those two columns\n",
        "\n"
      ],
      "metadata": {
        "id": "tzOBPCsNLQVw"
      }
    },
    {
      "cell_type": "code",
      "source": [
        "extracted_week = extracted_week.reset_index()\n",
        "extracted_week = extracted_week.rename(columns={'level_0':'item_id', 'level_1':'date'})\n",
        "extracted_week = extracted_week.sort_values(by=['date', 'item_id'])"
      ],
      "metadata": {
        "id": "4loNlcGI6UBt"
      },
      "execution_count": 9,
      "outputs": []
    },
    {
      "cell_type": "markdown",
      "source": [
        "\n",
        "\n",
        "*   add '_week' to all columns except for 'item_id' and 'date'\n",
        "*   drop 'demand_lenght'\n",
        "\n"
      ],
      "metadata": {
        "id": "-COUi5-ILjUG"
      }
    },
    {
      "cell_type": "code",
      "source": [
        "extracted_week.columns = [str(col) + '_week' for col in extracted_week.columns]\n",
        "extracted_week = extracted_week.rename(columns={'item_id_week':'item_id', 'date_week':'date'})\n",
        "extracted_week = extracted_week.drop(columns=['demand__length_week'])"
      ],
      "metadata": {
        "id": "PxJ2o1Fr-v4_"
      },
      "execution_count": 10,
      "outputs": []
    },
    {
      "cell_type": "markdown",
      "source": [
        "# twoweek window (analogue)"
      ],
      "metadata": {
        "id": "1_jJH6O1s6Fe"
      }
    },
    {
      "cell_type": "code",
      "source": [
        "lag_demand_set_twoweek = final_set[['date', 'item_id', 'demand']]"
      ],
      "metadata": {
        "id": "x89O4vzms8vm"
      },
      "execution_count": 12,
      "outputs": []
    },
    {
      "cell_type": "code",
      "source": [
        "df_rolled_twoweek = roll_time_series(lag_demand_set_twoweek, column_id=\"item_id\", column_sort=\"date\", max_timeshift= 13, min_timeshift=13)\n",
        "extracted_twoweek = extract_features(df_rolled_twoweek, column_id = 'id', column_sort='date', column_value='demand', \n",
        "                                     default_fc_parameters=MinimalFCParameters())"
      ],
      "metadata": {
        "colab": {
          "base_uri": "https://localhost:8080/"
        },
        "id": "VSJh22Z29r2o",
        "outputId": "981da924-88cc-4c05-815a-dd9e979f0e8c"
      },
      "execution_count": 13,
      "outputs": [
        {
          "output_type": "stream",
          "name": "stderr",
          "text": [
            "Rolling: 100%|██████████| 1941/1941 [01:16<00:00, 25.47it/s]\n",
            "Feature Extraction: 100%|██████████| 48193/48193 [00:42<00:00, 1142.81it/s]\n"
          ]
        }
      ]
    },
    {
      "cell_type": "code",
      "source": [
        "extracted_twoweek = extracted_twoweek.reset_index()\n",
        "extracted_twoweek = extracted_twoweek.rename(columns={'level_0':'item_id', 'level_1':'date'})\n",
        "extracted_twoweek = extracted_twoweek.sort_values(by=['date', 'item_id'])"
      ],
      "metadata": {
        "id": "f2HfjYh1AMPS"
      },
      "execution_count": 14,
      "outputs": []
    },
    {
      "cell_type": "code",
      "source": [
        "extracted_twoweek.columns = [str(col) + '_twoweek' for col in extracted_twoweek.columns]\n",
        "extracted_twoweek = extracted_twoweek.rename(columns={'item_id_twoweek':'item_id', 'date_twoweek':'date'})\n",
        "extracted_twoweek = extracted_twoweek.drop(columns=['demand__length_twoweek'])"
      ],
      "metadata": {
        "id": "35ckvJVLAS54"
      },
      "execution_count": 15,
      "outputs": []
    },
    {
      "cell_type": "markdown",
      "source": [
        "## Merging\n",
        "\n",
        "\n",
        "\n",
        "\n",
        "\n",
        "*   Merge the 18 window features\n",
        "*   Merge with the whole final_set (so the corresponding demand values are dropped, too)\n",
        "\n",
        "\n",
        "\n"
      ],
      "metadata": {
        "id": "nbtorQGvHssK"
      }
    },
    {
      "cell_type": "code",
      "source": [
        "extracted_final = extracted_twoweek.merge(extracted_week, on=['date', 'item_id'], how='inner')\n",
        "ultimative_set = final_set.merge(extracted_final, on=['date', 'item_id'], how='inner')"
      ],
      "metadata": {
        "id": "IcSGzfYzFXoZ"
      },
      "execution_count": 16,
      "outputs": []
    },
    {
      "cell_type": "markdown",
      "source": [
        "\n",
        "\n",
        "*   create new ultimative sets\n",
        "\n"
      ],
      "metadata": {
        "id": "2FvKOFCWMbJO"
      }
    },
    {
      "cell_type": "code",
      "source": [
        "ultimative_set_Y = ultimative_set[['demand']]\n",
        "ultimative_set_X = ultimative_set.drop('demand', axis=1)"
      ],
      "metadata": {
        "id": "N8K9xCXxJ44_"
      },
      "execution_count": 18,
      "outputs": []
    },
    {
      "cell_type": "markdown",
      "source": [
        "\n",
        "\n",
        "*   save the sets as csv\n",
        "\n"
      ],
      "metadata": {
        "id": "J3h9HzVEMT4V"
      }
    },
    {
      "cell_type": "code",
      "source": [
        "ultimative_set.to_csv('/content/drive/MyDrive/M5/ultimative_set.csv')\n",
        "ultimative_set_Y.to_csv('/content/drive/MyDrive/M5/ultimative_set_Y.csv')\n",
        "ultimative_set_X.to_csv('/content/drive/MyDrive/M5/ultimative_set_X.csv')"
      ],
      "metadata": {
        "id": "UTT6qcTmKV4J"
      },
      "execution_count": 19,
      "outputs": []
    }
  ]
}