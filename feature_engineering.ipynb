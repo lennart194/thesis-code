{
  "nbformat": 4,
  "nbformat_minor": 0,
  "metadata": {
    "colab": {
      "name": "feature_engineering.ipynb",
      "provenance": [],
      "authorship_tag": "ABX9TyNB3M++fhpOJtMBLqqIiyNP",
      "include_colab_link": true
    },
    "kernelspec": {
      "name": "python3",
      "display_name": "Python 3"
    },
    "language_info": {
      "name": "python"
    }
  },
  "cells": [
    {
      "cell_type": "markdown",
      "metadata": {
        "id": "view-in-github",
        "colab_type": "text"
      },
      "source": [
        "<a href=\"https://colab.research.google.com/github/lennart194/thesis-code/blob/main/feature_engineering.ipynb\" target=\"_parent\"><img src=\"https://colab.research.google.com/assets/colab-badge.svg\" alt=\"Open In Colab\"/></a>"
      ]
    },
    {
      "cell_type": "code",
      "source": [
        "pip install tsfresh"
      ],
      "metadata": {
        "colab": {
          "base_uri": "https://localhost:8080/"
        },
        "id": "ltSUXE3rCevG",
        "outputId": "9067ae09-b843-41e1-f0fb-2d20db39488b"
      },
      "execution_count": null,
      "outputs": [
        {
          "output_type": "stream",
          "name": "stdout",
          "text": [
            "Requirement already satisfied: tsfresh in /usr/local/lib/python3.7/dist-packages (0.19.0)\n",
            "Requirement already satisfied: matrixprofile<2.0.0,>=1.1.10 in /usr/local/lib/python3.7/dist-packages (from tsfresh) (1.1.10)\n",
            "Requirement already satisfied: cloudpickle in /usr/local/lib/python3.7/dist-packages (from tsfresh) (2.0.0)\n",
            "Requirement already satisfied: scikit-learn>=0.22.0 in /usr/local/lib/python3.7/dist-packages (from tsfresh) (1.0.2)\n",
            "Requirement already satisfied: stumpy>=1.7.2 in /usr/local/lib/python3.7/dist-packages (from tsfresh) (1.10.2)\n",
            "Requirement already satisfied: scipy>=1.2.0 in /usr/local/lib/python3.7/dist-packages (from tsfresh) (1.7.3)\n",
            "Requirement already satisfied: statsmodels>=0.13 in /usr/local/lib/python3.7/dist-packages (from tsfresh) (0.13.2)\n",
            "Requirement already satisfied: tqdm>=4.10.0 in /usr/local/lib/python3.7/dist-packages (from tsfresh) (4.63.0)\n",
            "Requirement already satisfied: patsy>=0.4.1 in /usr/local/lib/python3.7/dist-packages (from tsfresh) (0.5.2)\n",
            "Requirement already satisfied: numpy>=1.15.1 in /usr/local/lib/python3.7/dist-packages (from tsfresh) (1.21.5)\n",
            "Requirement already satisfied: distributed>=2.11.0 in /usr/local/lib/python3.7/dist-packages (from tsfresh) (2.30.1)\n",
            "Requirement already satisfied: pandas>=0.25.0 in /usr/local/lib/python3.7/dist-packages (from tsfresh) (1.3.5)\n",
            "Requirement already satisfied: requests>=2.9.1 in /usr/local/lib/python3.7/dist-packages (from tsfresh) (2.23.0)\n",
            "Requirement already satisfied: dask[dataframe]>=2.9.0 in /usr/local/lib/python3.7/dist-packages (from tsfresh) (2.12.0)\n",
            "Requirement already satisfied: fsspec>=0.6.0 in /usr/local/lib/python3.7/dist-packages (from dask[dataframe]>=2.9.0->tsfresh) (2022.2.0)\n",
            "Requirement already satisfied: toolz>=0.7.3 in /usr/local/lib/python3.7/dist-packages (from dask[dataframe]>=2.9.0->tsfresh) (0.11.2)\n",
            "Requirement already satisfied: partd>=0.3.10 in /usr/local/lib/python3.7/dist-packages (from dask[dataframe]>=2.9.0->tsfresh) (1.2.0)\n",
            "Requirement already satisfied: sortedcontainers!=2.0.0,!=2.0.1 in /usr/local/lib/python3.7/dist-packages (from distributed>=2.11.0->tsfresh) (2.4.0)\n",
            "Requirement already satisfied: msgpack>=0.6.0 in /usr/local/lib/python3.7/dist-packages (from distributed>=2.11.0->tsfresh) (1.0.3)\n",
            "Requirement already satisfied: zict>=0.1.3 in /usr/local/lib/python3.7/dist-packages (from distributed>=2.11.0->tsfresh) (2.1.0)\n",
            "Requirement already satisfied: pyyaml in /usr/local/lib/python3.7/dist-packages (from distributed>=2.11.0->tsfresh) (3.13)\n",
            "Requirement already satisfied: tornado>=5 in /usr/local/lib/python3.7/dist-packages (from distributed>=2.11.0->tsfresh) (5.1.1)\n",
            "Requirement already satisfied: psutil>=5.0 in /usr/local/lib/python3.7/dist-packages (from distributed>=2.11.0->tsfresh) (5.4.8)\n",
            "Requirement already satisfied: click>=6.6 in /usr/local/lib/python3.7/dist-packages (from distributed>=2.11.0->tsfresh) (7.1.2)\n",
            "Requirement already satisfied: tblib>=1.6.0 in /usr/local/lib/python3.7/dist-packages (from distributed>=2.11.0->tsfresh) (1.7.0)\n",
            "Requirement already satisfied: setuptools in /usr/local/lib/python3.7/dist-packages (from distributed>=2.11.0->tsfresh) (57.4.0)\n",
            "Requirement already satisfied: protobuf==3.11.2 in /usr/local/lib/python3.7/dist-packages (from matrixprofile<2.0.0,>=1.1.10->tsfresh) (3.11.2)\n",
            "Requirement already satisfied: matplotlib>=3.0.3 in /usr/local/lib/python3.7/dist-packages (from matrixprofile<2.0.0,>=1.1.10->tsfresh) (3.2.2)\n",
            "Requirement already satisfied: six>=1.9 in /usr/local/lib/python3.7/dist-packages (from protobuf==3.11.2->matrixprofile<2.0.0,>=1.1.10->tsfresh) (1.15.0)\n",
            "Requirement already satisfied: cycler>=0.10 in /usr/local/lib/python3.7/dist-packages (from matplotlib>=3.0.3->matrixprofile<2.0.0,>=1.1.10->tsfresh) (0.11.0)\n",
            "Requirement already satisfied: python-dateutil>=2.1 in /usr/local/lib/python3.7/dist-packages (from matplotlib>=3.0.3->matrixprofile<2.0.0,>=1.1.10->tsfresh) (2.8.2)\n",
            "Requirement already satisfied: pyparsing!=2.0.4,!=2.1.2,!=2.1.6,>=2.0.1 in /usr/local/lib/python3.7/dist-packages (from matplotlib>=3.0.3->matrixprofile<2.0.0,>=1.1.10->tsfresh) (3.0.7)\n",
            "Requirement already satisfied: kiwisolver>=1.0.1 in /usr/local/lib/python3.7/dist-packages (from matplotlib>=3.0.3->matrixprofile<2.0.0,>=1.1.10->tsfresh) (1.3.2)\n",
            "Requirement already satisfied: pytz>=2017.3 in /usr/local/lib/python3.7/dist-packages (from pandas>=0.25.0->tsfresh) (2018.9)\n",
            "Requirement already satisfied: locket in /usr/local/lib/python3.7/dist-packages (from partd>=0.3.10->dask[dataframe]>=2.9.0->tsfresh) (0.2.1)\n",
            "Requirement already satisfied: chardet<4,>=3.0.2 in /usr/local/lib/python3.7/dist-packages (from requests>=2.9.1->tsfresh) (3.0.4)\n",
            "Requirement already satisfied: certifi>=2017.4.17 in /usr/local/lib/python3.7/dist-packages (from requests>=2.9.1->tsfresh) (2021.10.8)\n",
            "Requirement already satisfied: urllib3!=1.25.0,!=1.25.1,<1.26,>=1.21.1 in /usr/local/lib/python3.7/dist-packages (from requests>=2.9.1->tsfresh) (1.24.3)\n",
            "Requirement already satisfied: idna<3,>=2.5 in /usr/local/lib/python3.7/dist-packages (from requests>=2.9.1->tsfresh) (2.10)\n",
            "Requirement already satisfied: threadpoolctl>=2.0.0 in /usr/local/lib/python3.7/dist-packages (from scikit-learn>=0.22.0->tsfresh) (3.1.0)\n",
            "Requirement already satisfied: joblib>=0.11 in /usr/local/lib/python3.7/dist-packages (from scikit-learn>=0.22.0->tsfresh) (1.1.0)\n",
            "Requirement already satisfied: packaging>=21.3 in /usr/local/lib/python3.7/dist-packages (from statsmodels>=0.13->tsfresh) (21.3)\n",
            "Requirement already satisfied: numba>=0.48 in /usr/local/lib/python3.7/dist-packages (from stumpy>=1.7.2->tsfresh) (0.51.2)\n",
            "Requirement already satisfied: llvmlite<0.35,>=0.34.0.dev0 in /usr/local/lib/python3.7/dist-packages (from numba>=0.48->stumpy>=1.7.2->tsfresh) (0.34.0)\n",
            "Requirement already satisfied: heapdict in /usr/local/lib/python3.7/dist-packages (from zict>=0.1.3->distributed>=2.11.0->tsfresh) (1.0.1)\n"
          ]
        }
      ]
    },
    {
      "cell_type": "code",
      "execution_count": null,
      "metadata": {
        "colab": {
          "base_uri": "https://localhost:8080/"
        },
        "id": "uCfirNXrBkmf",
        "outputId": "37227920-ed38-402c-9b66-a8aaeccda25f"
      },
      "outputs": [
        {
          "output_type": "stream",
          "name": "stdout",
          "text": [
            "Drive already mounted at /content/drive; to attempt to forcibly remount, call drive.mount(\"/content/drive\", force_remount=True).\n"
          ]
        }
      ],
      "source": [
        "from google.colab import drive\n",
        "drive.mount('/content/drive')"
      ]
    },
    {
      "cell_type": "code",
      "source": [
        "import pandas as pd\n",
        "from sklearn.preprocessing import LabelEncoder\n",
        "import numpy as np\n",
        "\n",
        "from tsfresh.feature_extraction import extract_features, MinimalFCParameters\n",
        "from tsfresh.utilities.dataframe_functions import roll_time_series\n",
        "from tsfresh import select_features"
      ],
      "metadata": {
        "id": "dsqLUrCmCZgl"
      },
      "execution_count": null,
      "outputs": []
    },
    {
      "cell_type": "code",
      "source": [
        "final_set = pd.read_csv('/content/drive/MyDrive/M5/final_set.csv')\n",
        "final_set_X = pd.read_csv('/content/drive/MyDrive/M5/final_set_X.csv')\n",
        "final_set_Y = pd.read_csv('/content/drive/MyDrive/M5/final_set_Y.csv')"
      ],
      "metadata": {
        "id": "kThyN67xBxei"
      },
      "execution_count": null,
      "outputs": []
    },
    {
      "cell_type": "markdown",
      "source": [
        "## Encoding of the 'item'-column\n",
        "\n"
      ],
      "metadata": {
        "id": "KJUk4EQ0cG5P"
      }
    },
    {
      "cell_type": "code",
      "source": [
        "final_set_X['item_id'] = final_set_X['item_id'].astype(object)\n",
        "\n",
        "labenc = LabelEncoder()\n",
        "final_set_X['item_id'] = labenc.fit_transform(final_set_X['item_id'])\n",
        "final_set['item_id'] = labenc.fit_transform(final_set['item_id'])"
      ],
      "metadata": {
        "id": "J31ikzCBDKk9"
      },
      "execution_count": null,
      "outputs": []
    },
    {
      "cell_type": "markdown",
      "source": [
        "# week window"
      ],
      "metadata": {
        "id": "JBhv2aWzsvpx"
      }
    },
    {
      "cell_type": "markdown",
      "source": [
        "## Create a new dataset 'lag_demand_set_week' for week features\n",
        "\n"
      ],
      "metadata": {
        "id": "bAP8ZCTZciZj"
      }
    },
    {
      "cell_type": "code",
      "source": [
        "lag_demand_set_week = final_set[['date', 'item_id', 'demand']]"
      ],
      "metadata": {
        "id": "WWruL3d9upKF"
      },
      "execution_count": null,
      "outputs": []
    },
    {
      "cell_type": "markdown",
      "source": [
        "## Create demand features for seven_day window\n",
        "\n",
        "\n",
        "*   Create a rolling demand data set for seven days as shift (df_rolled_week)\n",
        "*   Extract MinimalParameters for df_rolled_week (extracted_week)\n",
        "\n",
        "\n",
        "\n"
      ],
      "metadata": {
        "id": "XCEDQV8MdP-2"
      }
    },
    {
      "cell_type": "code",
      "source": [
        "df_rolled_week = roll_time_series(lag_demand_set_week, column_id=\"item_id\", column_sort=\"date\", max_timeshift= 7)\n",
        "extracted_week = extract_features(df_rolled_week, column_id = 'id', column_sort='date', column_value='demand', default_fc_parameters=MinimalFCParameters())"
      ],
      "metadata": {
        "colab": {
          "base_uri": "https://localhost:8080/"
        },
        "id": "vJ9qNMsUkpo-",
        "outputId": "754fffb5-6fab-498d-ae5d-d9cf54899371"
      },
      "execution_count": null,
      "outputs": [
        {
          "output_type": "stream",
          "name": "stderr",
          "text": [
            "Rolling: 100%|██████████| 1941/1941 [03:03<00:00, 10.59it/s]\n",
            "Feature Extraction: 100%|██████████| 97029/97029 [01:31<00:00, 1056.54it/s]\n"
          ]
        }
      ]
    },
    {
      "cell_type": "markdown",
      "source": [
        "## Edit the extracted values and  lag_demand_set_week (as both need the same index for filtering)\n",
        "\n",
        "\n",
        "\n",
        "*   set the index  of extracted_week to a mix of date and item \n",
        "\n",
        "\n"
      ],
      "metadata": {
        "id": "W5rInPanrTnC"
      }
    },
    {
      "cell_type": "code",
      "source": [
        "extracted_week = extracted_week.reset_index()\n",
        "extracted_week= extracted_week.rename(columns={'level_0':'item_id', 'level_1':'date'})\n",
        "extracted_week['date_item'] = extracted_week['date'].astype(str) + '_' + extracted_week['item_id'].astype(str)\n",
        "extracted_week = extracted_week.drop(columns=['item_id', 'date'])\n",
        "extracted_week = extracted_week.set_index('date_item')"
      ],
      "metadata": {
        "id": "g0Th-eHdCNfQ"
      },
      "execution_count": null,
      "outputs": []
    },
    {
      "cell_type": "markdown",
      "source": [
        "\n",
        "\n",
        "*   set the index of lag_demand_set_week to a mix of data and item\n",
        "*   convert it into a pandas series\n",
        "\n"
      ],
      "metadata": {
        "id": "ZsV5C5JyrtOc"
      }
    },
    {
      "cell_type": "code",
      "source": [
        "lag_demand_set_week['data_item'] = lag_demand_set_week['date'].astype(str) + '_' + lag_demand_set_week['item_id'].astype(str)\n",
        "lag_demand_set_week = lag_demand_set_week.drop(columns=['item_id', 'date'])\n",
        "lag_demand_set_week = lag_demand_set_week.set_index('data_item')\n",
        "lag_demand_set_week = lag_demand_set_week.squeeze()"
      ],
      "metadata": {
        "colab": {
          "base_uri": "https://localhost:8080/"
        },
        "id": "RGhZS7hRJ4Yp",
        "outputId": "b6175548-a7e7-4204-e503-431618f7e3cc"
      },
      "execution_count": null,
      "outputs": [
        {
          "output_type": "stream",
          "name": "stderr",
          "text": [
            "/usr/local/lib/python3.7/dist-packages/ipykernel_launcher.py:1: SettingWithCopyWarning: \n",
            "A value is trying to be set on a copy of a slice from a DataFrame.\n",
            "Try using .loc[row_indexer,col_indexer] = value instead\n",
            "\n",
            "See the caveats in the documentation: https://pandas.pydata.org/pandas-docs/stable/user_guide/indexing.html#returning-a-view-versus-a-copy\n",
            "  \"\"\"Entry point for launching an IPython kernel.\n"
          ]
        }
      ]
    },
    {
      "cell_type": "markdown",
      "source": [
        "## filter relevant features for week\n",
        "\n",
        "*   use the select_features function\n",
        "\n"
      ],
      "metadata": {
        "id": "tMsznCaHsGNl"
      }
    },
    {
      "cell_type": "code",
      "source": [
        "features_filtered_week = select_features(extracted_week, lag_demand_set_week)"
      ],
      "metadata": {
        "id": "snnEs47jpNrv"
      },
      "execution_count": null,
      "outputs": []
    },
    {
      "cell_type": "markdown",
      "source": [
        "\n",
        "\n",
        "*   show the corelation of the filtered features to demand and choose \n",
        "\n",
        "\n"
      ],
      "metadata": {
        "id": "EZ0qdmLlsa-d"
      }
    },
    {
      "cell_type": "code",
      "source": [
        "lag_demand_set_week = lag_demand_set_week.to_frame()\n",
        "features_filtered_week['demand'] = lag_demand_set_week['demand']\n",
        "features_filtered_week.corr()"
      ],
      "metadata": {
        "colab": {
          "base_uri": "https://localhost:8080/",
          "height": 394
        },
        "id": "iqyqiaRkT-jX",
        "outputId": "498b1a5e-3e55-44ea-b00f-cc98f46e2895"
      },
      "execution_count": null,
      "outputs": [
        {
          "output_type": "execute_result",
          "data": {
            "text/plain": [
              "                            demand__sum_values  demand__median  demand__mean  \\\n",
              "demand__sum_values                    1.000000        0.991820      0.999047   \n",
              "demand__median                        0.991820        1.000000      0.992860   \n",
              "demand__mean                          0.999047        0.992860      1.000000   \n",
              "demand__standard_deviation            0.774949        0.742468      0.774133   \n",
              "demand__variance                      0.572738        0.542326      0.572361   \n",
              "demand__root_mean_square              0.996405        0.986624      0.997264   \n",
              "demand__maximum                       0.962473        0.938297      0.962695   \n",
              "demand__absolute_maximum              0.962473        0.938297      0.962695   \n",
              "demand__minimum                       0.928868        0.919202      0.930740   \n",
              "demand__length                        0.036975        0.003559      0.005234   \n",
              "demand                                0.898358        0.889607      0.899181   \n",
              "\n",
              "                            demand__standard_deviation  demand__variance  \\\n",
              "demand__sum_values                            0.774949          0.572738   \n",
              "demand__median                                0.742468          0.542326   \n",
              "demand__mean                                  0.774133          0.572361   \n",
              "demand__standard_deviation                    1.000000          0.849141   \n",
              "demand__variance                              0.849141          1.000000   \n",
              "demand__root_mean_square                      0.816115          0.617148   \n",
              "demand__maximum                               0.898944          0.702553   \n",
              "demand__absolute_maximum                      0.898944          0.702553   \n",
              "demand__minimum                               0.538308          0.350379   \n",
              "demand__length                                0.034505          0.013201   \n",
              "demand                                        0.698104          0.508908   \n",
              "\n",
              "                            demand__root_mean_square  demand__maximum  \\\n",
              "demand__sum_values                          0.996405         0.962473   \n",
              "demand__median                              0.986624         0.938297   \n",
              "demand__mean                                0.997264         0.962695   \n",
              "demand__standard_deviation                  0.816115         0.898944   \n",
              "demand__variance                            0.617148         0.702553   \n",
              "demand__root_mean_square                    1.000000         0.977567   \n",
              "demand__maximum                             0.977567         1.000000   \n",
              "demand__absolute_maximum                    0.977567         1.000000   \n",
              "demand__minimum                             0.910196         0.843194   \n",
              "demand__length                              0.007276         0.018906   \n",
              "demand                                      0.897756         0.868940   \n",
              "\n",
              "                            demand__absolute_maximum  demand__minimum  \\\n",
              "demand__sum_values                          0.962473         0.928868   \n",
              "demand__median                              0.938297         0.919202   \n",
              "demand__mean                                0.962695         0.930740   \n",
              "demand__standard_deviation                  0.898944         0.538308   \n",
              "demand__variance                            0.702553         0.350379   \n",
              "demand__root_mean_square                    0.977567         0.910196   \n",
              "demand__maximum                             1.000000         0.843194   \n",
              "demand__absolute_maximum                    1.000000         0.843194   \n",
              "demand__minimum                             0.843194         1.000000   \n",
              "demand__length                              0.018906        -0.014540   \n",
              "demand                                      0.868940         0.844417   \n",
              "\n",
              "                            demand__length    demand  \n",
              "demand__sum_values                0.036975  0.898358  \n",
              "demand__median                    0.003559  0.889607  \n",
              "demand__mean                      0.005234  0.899181  \n",
              "demand__standard_deviation        0.034505  0.698104  \n",
              "demand__variance                  0.013201  0.508908  \n",
              "demand__root_mean_square          0.007276  0.897756  \n",
              "demand__maximum                   0.018906  0.868940  \n",
              "demand__absolute_maximum          0.018906  0.868940  \n",
              "demand__minimum                  -0.014540  0.844417  \n",
              "demand__length                    1.000000  0.006552  \n",
              "demand                            0.006552  1.000000  "
            ],
            "text/html": [
              "\n",
              "  <div id=\"df-1426e9bb-abd1-49b6-b491-c04445f09bf1\">\n",
              "    <div class=\"colab-df-container\">\n",
              "      <div>\n",
              "<style scoped>\n",
              "    .dataframe tbody tr th:only-of-type {\n",
              "        vertical-align: middle;\n",
              "    }\n",
              "\n",
              "    .dataframe tbody tr th {\n",
              "        vertical-align: top;\n",
              "    }\n",
              "\n",
              "    .dataframe thead th {\n",
              "        text-align: right;\n",
              "    }\n",
              "</style>\n",
              "<table border=\"1\" class=\"dataframe\">\n",
              "  <thead>\n",
              "    <tr style=\"text-align: right;\">\n",
              "      <th></th>\n",
              "      <th>demand__sum_values</th>\n",
              "      <th>demand__median</th>\n",
              "      <th>demand__mean</th>\n",
              "      <th>demand__standard_deviation</th>\n",
              "      <th>demand__variance</th>\n",
              "      <th>demand__root_mean_square</th>\n",
              "      <th>demand__maximum</th>\n",
              "      <th>demand__absolute_maximum</th>\n",
              "      <th>demand__minimum</th>\n",
              "      <th>demand__length</th>\n",
              "      <th>demand</th>\n",
              "    </tr>\n",
              "  </thead>\n",
              "  <tbody>\n",
              "    <tr>\n",
              "      <th>demand__sum_values</th>\n",
              "      <td>1.000000</td>\n",
              "      <td>0.991820</td>\n",
              "      <td>0.999047</td>\n",
              "      <td>0.774949</td>\n",
              "      <td>0.572738</td>\n",
              "      <td>0.996405</td>\n",
              "      <td>0.962473</td>\n",
              "      <td>0.962473</td>\n",
              "      <td>0.928868</td>\n",
              "      <td>0.036975</td>\n",
              "      <td>0.898358</td>\n",
              "    </tr>\n",
              "    <tr>\n",
              "      <th>demand__median</th>\n",
              "      <td>0.991820</td>\n",
              "      <td>1.000000</td>\n",
              "      <td>0.992860</td>\n",
              "      <td>0.742468</td>\n",
              "      <td>0.542326</td>\n",
              "      <td>0.986624</td>\n",
              "      <td>0.938297</td>\n",
              "      <td>0.938297</td>\n",
              "      <td>0.919202</td>\n",
              "      <td>0.003559</td>\n",
              "      <td>0.889607</td>\n",
              "    </tr>\n",
              "    <tr>\n",
              "      <th>demand__mean</th>\n",
              "      <td>0.999047</td>\n",
              "      <td>0.992860</td>\n",
              "      <td>1.000000</td>\n",
              "      <td>0.774133</td>\n",
              "      <td>0.572361</td>\n",
              "      <td>0.997264</td>\n",
              "      <td>0.962695</td>\n",
              "      <td>0.962695</td>\n",
              "      <td>0.930740</td>\n",
              "      <td>0.005234</td>\n",
              "      <td>0.899181</td>\n",
              "    </tr>\n",
              "    <tr>\n",
              "      <th>demand__standard_deviation</th>\n",
              "      <td>0.774949</td>\n",
              "      <td>0.742468</td>\n",
              "      <td>0.774133</td>\n",
              "      <td>1.000000</td>\n",
              "      <td>0.849141</td>\n",
              "      <td>0.816115</td>\n",
              "      <td>0.898944</td>\n",
              "      <td>0.898944</td>\n",
              "      <td>0.538308</td>\n",
              "      <td>0.034505</td>\n",
              "      <td>0.698104</td>\n",
              "    </tr>\n",
              "    <tr>\n",
              "      <th>demand__variance</th>\n",
              "      <td>0.572738</td>\n",
              "      <td>0.542326</td>\n",
              "      <td>0.572361</td>\n",
              "      <td>0.849141</td>\n",
              "      <td>1.000000</td>\n",
              "      <td>0.617148</td>\n",
              "      <td>0.702553</td>\n",
              "      <td>0.702553</td>\n",
              "      <td>0.350379</td>\n",
              "      <td>0.013201</td>\n",
              "      <td>0.508908</td>\n",
              "    </tr>\n",
              "    <tr>\n",
              "      <th>demand__root_mean_square</th>\n",
              "      <td>0.996405</td>\n",
              "      <td>0.986624</td>\n",
              "      <td>0.997264</td>\n",
              "      <td>0.816115</td>\n",
              "      <td>0.617148</td>\n",
              "      <td>1.000000</td>\n",
              "      <td>0.977567</td>\n",
              "      <td>0.977567</td>\n",
              "      <td>0.910196</td>\n",
              "      <td>0.007276</td>\n",
              "      <td>0.897756</td>\n",
              "    </tr>\n",
              "    <tr>\n",
              "      <th>demand__maximum</th>\n",
              "      <td>0.962473</td>\n",
              "      <td>0.938297</td>\n",
              "      <td>0.962695</td>\n",
              "      <td>0.898944</td>\n",
              "      <td>0.702553</td>\n",
              "      <td>0.977567</td>\n",
              "      <td>1.000000</td>\n",
              "      <td>1.000000</td>\n",
              "      <td>0.843194</td>\n",
              "      <td>0.018906</td>\n",
              "      <td>0.868940</td>\n",
              "    </tr>\n",
              "    <tr>\n",
              "      <th>demand__absolute_maximum</th>\n",
              "      <td>0.962473</td>\n",
              "      <td>0.938297</td>\n",
              "      <td>0.962695</td>\n",
              "      <td>0.898944</td>\n",
              "      <td>0.702553</td>\n",
              "      <td>0.977567</td>\n",
              "      <td>1.000000</td>\n",
              "      <td>1.000000</td>\n",
              "      <td>0.843194</td>\n",
              "      <td>0.018906</td>\n",
              "      <td>0.868940</td>\n",
              "    </tr>\n",
              "    <tr>\n",
              "      <th>demand__minimum</th>\n",
              "      <td>0.928868</td>\n",
              "      <td>0.919202</td>\n",
              "      <td>0.930740</td>\n",
              "      <td>0.538308</td>\n",
              "      <td>0.350379</td>\n",
              "      <td>0.910196</td>\n",
              "      <td>0.843194</td>\n",
              "      <td>0.843194</td>\n",
              "      <td>1.000000</td>\n",
              "      <td>-0.014540</td>\n",
              "      <td>0.844417</td>\n",
              "    </tr>\n",
              "    <tr>\n",
              "      <th>demand__length</th>\n",
              "      <td>0.036975</td>\n",
              "      <td>0.003559</td>\n",
              "      <td>0.005234</td>\n",
              "      <td>0.034505</td>\n",
              "      <td>0.013201</td>\n",
              "      <td>0.007276</td>\n",
              "      <td>0.018906</td>\n",
              "      <td>0.018906</td>\n",
              "      <td>-0.014540</td>\n",
              "      <td>1.000000</td>\n",
              "      <td>0.006552</td>\n",
              "    </tr>\n",
              "    <tr>\n",
              "      <th>demand</th>\n",
              "      <td>0.898358</td>\n",
              "      <td>0.889607</td>\n",
              "      <td>0.899181</td>\n",
              "      <td>0.698104</td>\n",
              "      <td>0.508908</td>\n",
              "      <td>0.897756</td>\n",
              "      <td>0.868940</td>\n",
              "      <td>0.868940</td>\n",
              "      <td>0.844417</td>\n",
              "      <td>0.006552</td>\n",
              "      <td>1.000000</td>\n",
              "    </tr>\n",
              "  </tbody>\n",
              "</table>\n",
              "</div>\n",
              "      <button class=\"colab-df-convert\" onclick=\"convertToInteractive('df-1426e9bb-abd1-49b6-b491-c04445f09bf1')\"\n",
              "              title=\"Convert this dataframe to an interactive table.\"\n",
              "              style=\"display:none;\">\n",
              "        \n",
              "  <svg xmlns=\"http://www.w3.org/2000/svg\" height=\"24px\"viewBox=\"0 0 24 24\"\n",
              "       width=\"24px\">\n",
              "    <path d=\"M0 0h24v24H0V0z\" fill=\"none\"/>\n",
              "    <path d=\"M18.56 5.44l.94 2.06.94-2.06 2.06-.94-2.06-.94-.94-2.06-.94 2.06-2.06.94zm-11 1L8.5 8.5l.94-2.06 2.06-.94-2.06-.94L8.5 2.5l-.94 2.06-2.06.94zm10 10l.94 2.06.94-2.06 2.06-.94-2.06-.94-.94-2.06-.94 2.06-2.06.94z\"/><path d=\"M17.41 7.96l-1.37-1.37c-.4-.4-.92-.59-1.43-.59-.52 0-1.04.2-1.43.59L10.3 9.45l-7.72 7.72c-.78.78-.78 2.05 0 2.83L4 21.41c.39.39.9.59 1.41.59.51 0 1.02-.2 1.41-.59l7.78-7.78 2.81-2.81c.8-.78.8-2.07 0-2.86zM5.41 20L4 18.59l7.72-7.72 1.47 1.35L5.41 20z\"/>\n",
              "  </svg>\n",
              "      </button>\n",
              "      \n",
              "  <style>\n",
              "    .colab-df-container {\n",
              "      display:flex;\n",
              "      flex-wrap:wrap;\n",
              "      gap: 12px;\n",
              "    }\n",
              "\n",
              "    .colab-df-convert {\n",
              "      background-color: #E8F0FE;\n",
              "      border: none;\n",
              "      border-radius: 50%;\n",
              "      cursor: pointer;\n",
              "      display: none;\n",
              "      fill: #1967D2;\n",
              "      height: 32px;\n",
              "      padding: 0 0 0 0;\n",
              "      width: 32px;\n",
              "    }\n",
              "\n",
              "    .colab-df-convert:hover {\n",
              "      background-color: #E2EBFA;\n",
              "      box-shadow: 0px 1px 2px rgba(60, 64, 67, 0.3), 0px 1px 3px 1px rgba(60, 64, 67, 0.15);\n",
              "      fill: #174EA6;\n",
              "    }\n",
              "\n",
              "    [theme=dark] .colab-df-convert {\n",
              "      background-color: #3B4455;\n",
              "      fill: #D2E3FC;\n",
              "    }\n",
              "\n",
              "    [theme=dark] .colab-df-convert:hover {\n",
              "      background-color: #434B5C;\n",
              "      box-shadow: 0px 1px 3px 1px rgba(0, 0, 0, 0.15);\n",
              "      filter: drop-shadow(0px 1px 2px rgba(0, 0, 0, 0.3));\n",
              "      fill: #FFFFFF;\n",
              "    }\n",
              "  </style>\n",
              "\n",
              "      <script>\n",
              "        const buttonEl =\n",
              "          document.querySelector('#df-1426e9bb-abd1-49b6-b491-c04445f09bf1 button.colab-df-convert');\n",
              "        buttonEl.style.display =\n",
              "          google.colab.kernel.accessAllowed ? 'block' : 'none';\n",
              "\n",
              "        async function convertToInteractive(key) {\n",
              "          const element = document.querySelector('#df-1426e9bb-abd1-49b6-b491-c04445f09bf1');\n",
              "          const dataTable =\n",
              "            await google.colab.kernel.invokeFunction('convertToInteractive',\n",
              "                                                     [key], {});\n",
              "          if (!dataTable) return;\n",
              "\n",
              "          const docLinkHtml = 'Like what you see? Visit the ' +\n",
              "            '<a target=\"_blank\" href=https://colab.research.google.com/notebooks/data_table.ipynb>data table notebook</a>'\n",
              "            + ' to learn more about interactive tables.';\n",
              "          element.innerHTML = '';\n",
              "          dataTable['output_type'] = 'display_data';\n",
              "          await google.colab.output.renderOutput(dataTable, element);\n",
              "          const docLink = document.createElement('div');\n",
              "          docLink.innerHTML = docLinkHtml;\n",
              "          element.appendChild(docLink);\n",
              "        }\n",
              "      </script>\n",
              "    </div>\n",
              "  </div>\n",
              "  "
            ]
          },
          "metadata": {},
          "execution_count": 11
        }
      ]
    },
    {
      "cell_type": "markdown",
      "source": [
        "# month window"
      ],
      "metadata": {
        "id": "1_jJH6O1s6Fe"
      }
    },
    {
      "cell_type": "code",
      "source": [
        ""
      ],
      "metadata": {
        "id": "x89O4vzms8vm"
      },
      "execution_count": null,
      "outputs": []
    }
  ]
}