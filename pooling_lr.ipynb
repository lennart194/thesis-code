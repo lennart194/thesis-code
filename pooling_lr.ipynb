{
  "nbformat": 4,
  "nbformat_minor": 0,
  "metadata": {
    "colab": {
      "name": "pooling_lr.ipynb",
      "provenance": [],
      "collapsed_sections": [],
      "authorship_tag": "ABX9TyMVvN9uiSMZ2DOYqlqj7aFY",
      "include_colab_link": true
    },
    "kernelspec": {
      "name": "python3",
      "display_name": "Python 3"
    },
    "language_info": {
      "name": "python"
    }
  },
  "cells": [
    {
      "cell_type": "markdown",
      "metadata": {
        "id": "view-in-github",
        "colab_type": "text"
      },
      "source": [
        "<a href=\"https://colab.research.google.com/github/lennart194/thesis-code/blob/main/pooling_lr.ipynb\" target=\"_parent\"><img src=\"https://colab.research.google.com/assets/colab-badge.svg\" alt=\"Open In Colab\"/></a>"
      ]
    },
    {
      "cell_type": "code",
      "execution_count": null,
      "metadata": {
        "id": "GNl2wIsL7iLB"
      },
      "outputs": [],
      "source": [
        "pip install ddop"
      ]
    },
    {
      "cell_type": "code",
      "source": [
        "import numpy as np\n",
        "import pandas as pd\n",
        "\n",
        "from ddop.newsvendor import LinearRegressionNewsvendor\n",
        "from ddop.newsvendor import SampleAverageApproximationNewsvendor\n",
        "\n",
        "from ddop.metrics import average_costs\n",
        "from ddop.metrics import prescriptiveness_score"
      ],
      "metadata": {
        "id": "spOb7MTW8MpM"
      },
      "execution_count": 2,
      "outputs": []
    },
    {
      "cell_type": "code",
      "source": [
        "from google.colab import drive\n",
        "drive.mount('/content/drive')"
      ],
      "metadata": {
        "colab": {
          "base_uri": "https://localhost:8080/"
        },
        "id": "CAL9Rp558b6A",
        "outputId": "16bb969a-cd0f-42da-c770-d45edf50e7c2"
      },
      "execution_count": 3,
      "outputs": [
        {
          "output_type": "stream",
          "name": "stdout",
          "text": [
            "Mounted at /content/drive\n"
          ]
        }
      ]
    },
    {
      "cell_type": "markdown",
      "source": [
        "## loading data-set\n",
        "\n",
        "\n",
        "---\n",
        "\n",
        "\n",
        "\n",
        "*   load the whole ultimative set\n",
        "*   sort the rows first by item, then by date and set a multi index\n",
        "**now every items time series can be separated by the index**"
      ],
      "metadata": {
        "id": "8O61N0g7nQw7"
      }
    },
    {
      "cell_type": "code",
      "source": [
        "data = pd.read_csv('/content/drive/MyDrive/M5/ultimative_set.csv')\n",
        "data = data.drop(columns=['Unnamed: 0'])\n",
        "data = data.sort_values(by=['item_id', 'date'])\n",
        "data = data.set_index(['item_id', 'date'])"
      ],
      "metadata": {
        "id": "TM5pd-l58gIx"
      },
      "execution_count": 4,
      "outputs": []
    },
    {
      "cell_type": "markdown",
      "source": [
        "## split in feature and target matrix\n",
        "\n",
        "\n",
        "---\n",
        "\n"
      ],
      "metadata": {
        "id": "bk5xUnuCnViR"
      }
    },
    {
      "cell_type": "code",
      "source": [
        "X = data.drop(columns=['demand'])\n",
        "Y = data['demand']"
      ],
      "metadata": {
        "id": "9ZKO8Lv98iL7"
      },
      "execution_count": 5,
      "outputs": []
    },
    {
      "cell_type": "markdown",
      "source": [
        "## train_test_split\n",
        "\n",
        "\n",
        "---\n",
        "\n"
      ],
      "metadata": {
        "id": "wKItTRVgnb0Z"
      }
    },
    {
      "cell_type": "code",
      "source": [
        "X_train = X.loc[(slice(None), slice(None, \"2015\")), :]\n",
        "X_test = X.loc[(slice(None), slice(\"2015\", '2017')), :]\n",
        "\n",
        "Y_train = Y.loc[(slice(None), slice(None, \"2015\"))]\n",
        "Y_test = Y.loc[(slice(None), slice(\"2015\", \"2017\"))]"
      ],
      "metadata": {
        "id": "LRaJhQui8lcA"
      },
      "execution_count": 6,
      "outputs": []
    },
    {
      "cell_type": "markdown",
      "source": [
        "## new order after the split\n",
        "\n",
        "\n",
        "---\n",
        "\n",
        "\n",
        "\n",
        "*   for the product pooling the whole data must be be sorted by date independent from the 'item_id'\n",
        "*   therefore sort values by 'date' in the first instance and by 'item_id' in the second \n",
        "*   these two instances create the mutli-index of the target matrix (Y)\n",
        "*   as all items are in one set now the 'item_id' becomes a feature in the feature matrix (X). The only index is the date here.\n",
        "\n",
        "\n",
        "\n",
        "\n",
        "\n"
      ],
      "metadata": {
        "id": "ryH7S9BRntg6"
      }
    },
    {
      "cell_type": "code",
      "source": [
        "X_train = X_train.reset_index().sort_values(by=['date', 'item_id']).set_index(['date'])\n",
        "X_test = X_test.reset_index().sort_values(by=['date', 'item_id']).set_index(['date'])\n",
        "\n",
        "Y_train = Y_train.reset_index().sort_values(by=['date', 'item_id']).set_index(['date', 'item_id'])\n",
        "Y_test = Y_test.reset_index().sort_values(by=['date', 'item_id']).set_index(['date', 'item_id'])"
      ],
      "metadata": {
        "id": "q6UsUFp28oPw"
      },
      "execution_count": 7,
      "outputs": []
    },
    {
      "cell_type": "markdown",
      "source": [
        "## defining the different cost paramerters for special service level and product range\n",
        "\n",
        "\n",
        "\n",
        "---\n",
        "\n",
        "\n",
        "\n",
        "*   cu is the mean of the cumulated 'sell_price' column of the training data\n",
        "*   appending to the corresponding service level co is calculated with (cu - α * cu) / α\n",
        "*   all the costs are rounded to 2 digits\n",
        "\n",
        "\n",
        "\n",
        "\n",
        "\n"
      ],
      "metadata": {
        "id": "X441XoOpqmNB"
      }
    },
    {
      "cell_type": "code",
      "source": [
        "prods = list(range(0,25))\n",
        "\n",
        "cu = round(X_train['sell_price'].mean(),2)\n",
        "\n",
        "co_90 = round(((cu-(0.90*cu))/0.90),2)\n",
        "\n",
        "co_75 = round(((cu-(0.75*cu))/0.75),2)\n",
        "\n",
        "co_50 = round(((cu-(0.50*cu))/0.50),2)"
      ],
      "metadata": {
        "id": "MO-AIvUY89BA"
      },
      "execution_count": 8,
      "outputs": []
    },
    {
      "cell_type": "markdown",
      "source": [
        "# newsvendor-model 90%\n",
        "\n",
        "\n",
        "\n",
        "---\n",
        "\n",
        "\n",
        "\n",
        "*   the model is trained and tested once for entire data-set\n",
        "*   the prediction is the output\n",
        "\n"
      ],
      "metadata": {
        "id": "oIX6mhXLr-om"
      }
    },
    {
      "cell_type": "code",
      "source": [
        "lr = LinearRegressionNewsvendor(cu = cu, co = co_90)\n",
        "\n",
        "lr.fit(X_train, Y_train)\n",
        "\n",
        "preds_90 = lr.predict(X_test)"
      ],
      "metadata": {
        "id": "z7sfTJaU9OOs"
      },
      "execution_count": 9,
      "outputs": []
    },
    {
      "cell_type": "code",
      "source": [
        "preds_90"
      ],
      "metadata": {
        "colab": {
          "base_uri": "https://localhost:8080/"
        },
        "id": "_BvzOuMeBGw3",
        "outputId": "e5009839-2a3e-48ce-b219-680864bd324a"
      },
      "execution_count": 21,
      "outputs": [
        {
          "output_type": "execute_result",
          "data": {
            "text/plain": [
              "array([[22.99999998],\n",
              "       [ 4.        ],\n",
              "       [18.99999998],\n",
              "       ...,\n",
              "       [31.99999997],\n",
              "       [34.99999997],\n",
              "       [22.99999998]])"
            ]
          },
          "metadata": {},
          "execution_count": 21
        }
      ]
    },
    {
      "cell_type": "markdown",
      "source": [
        "## reorder the data\n",
        "\n",
        "\n",
        "\n",
        "\n",
        "---\n",
        "\n",
        "\n",
        "\n",
        "*   create a pandas frame 'comp_90' where the real values, the predictions and the predictions from the saa model are in columns next to each other\n",
        "\n",
        "\n",
        "\n",
        "\n"
      ],
      "metadata": {
        "id": "ZvYEOgHms3dX"
      }
    },
    {
      "cell_type": "code",
      "source": [
        "pred_90 = pd.DataFrame(preds_90, columns=['pred_lr_90'])\n",
        "comp_90 = Y.loc[(slice(None), slice(\"2015\", \"2017\"))].reset_index().sort_values(by=['date', 'item_id']).set_index('date')\n",
        "comp_90 = comp_90.reset_index()\n",
        "comp_90['pred_lr_90'] = pred_90[['pred_lr_90']]\n",
        "comp_90 = comp_90.sort_values(by=['item_id', 'date']).set_index(['item_id', 'date'])\n",
        "\n",
        "saa_90 = pd.read_csv('/content/drive/MyDrive/M5/SAA_pred_90.csv').set_index(['item_id', 'date'])\n",
        "\n",
        "comp_90 = pd.concat([comp_90, saa_90], axis = 1)"
      ],
      "metadata": {
        "id": "esxGgeIOOBh0"
      },
      "execution_count": 10,
      "outputs": []
    },
    {
      "cell_type": "markdown",
      "source": [
        "## average costs and prescriptivess score\n",
        "\n",
        "\n",
        "---\n",
        "\n",
        "\n",
        "\n",
        "*   create a loop where the average_costs (the prescriptivess score) of each item are calculated\n",
        "\n",
        "*   save the results into a pandas frame\n",
        "\n",
        "\n",
        "\n",
        "\n"
      ],
      "metadata": {
        "id": "mwjmwl4uteln"
      }
    },
    {
      "cell_type": "code",
      "source": [
        "result_lr_90_avc = []\n",
        "\n",
        "for prod in prods:\n",
        "  avc = round(average_costs(comp_90['demand'].loc[prod], comp_90['pred_lr_90'].loc[prod], cu = cu, co = co_90),2)\n",
        "  result_lr_90_avc.append(avc)"
      ],
      "metadata": {
        "id": "ZqxX-L39S7ny"
      },
      "execution_count": 12,
      "outputs": []
    },
    {
      "cell_type": "code",
      "source": [
        "LR_pooled_avc_90 = pd.DataFrame(result_lr_90_avc, columns=['LR_avc_90'])\n",
        "LR_pooled_avc_90.index.name = 'item_id'"
      ],
      "metadata": {
        "id": "w5uhKLSgTW6U"
      },
      "execution_count": 13,
      "outputs": []
    },
    {
      "cell_type": "code",
      "source": [
        "result_lr_90_pscr = []\n",
        "\n",
        "for prod in prods:\n",
        "  pscr = round(prescriptiveness_score(comp_90['demand'].loc[prod], comp_90['pred_lr_90'].loc[prod],\n",
        "                                      comp_90['SAA_pred_90'].loc[prod], cu = cu, co = co_90),2)\n",
        "  result_lr_90_pscr.append(pscr)"
      ],
      "metadata": {
        "id": "VBegMSMd6xrk"
      },
      "execution_count": 15,
      "outputs": []
    },
    {
      "cell_type": "code",
      "source": [
        "LR_pooled_pscr_90 = pd.DataFrame(result_lr_90_pscr, columns=['LR_pscr_90'])\n",
        "LR_pooled_pscr_90.index.name = 'item_id'"
      ],
      "metadata": {
        "id": "v08YdcqP65HZ"
      },
      "execution_count": 16,
      "outputs": []
    },
    {
      "cell_type": "markdown",
      "source": [
        "# newsvendor-model 75%\n",
        "\n",
        "\n",
        "\n",
        "---\n",
        "\n",
        "\n",
        "\n",
        "*   the model is trained and tested once for entire data-set\n",
        "*   the prediction is the output"
      ],
      "metadata": {
        "id": "qoeXzcwlubfZ"
      }
    },
    {
      "cell_type": "code",
      "source": [
        "lr = LinearRegressionNewsvendor(cu = cu, co = co_75)\n",
        "\n",
        "lr.fit(X_train, Y_train)\n",
        "\n",
        "preds_75 = lr.predict(X_test)"
      ],
      "metadata": {
        "id": "NT_pVnHuT9mz"
      },
      "execution_count": 18,
      "outputs": []
    },
    {
      "cell_type": "markdown",
      "source": [
        "## reorder the data\n",
        "\n",
        "\n",
        "\n",
        "\n",
        "---\n",
        "\n",
        "\n",
        "\n",
        "*   create a pandas frame 'comp_75' where the real values, the predictions and the predictions from the saa model are in columns next to each other"
      ],
      "metadata": {
        "id": "GWzR2Fv5uk_I"
      }
    },
    {
      "cell_type": "code",
      "source": [
        "pred_75 = pd.DataFrame(preds_75, columns=['pred_lr_75'])\n",
        "comp_75 = Y.loc[(slice(None), slice(\"2015\", \"2017\"))].reset_index().sort_values(by=['date', 'item_id']).set_index('date')\n",
        "comp_75 = comp_75.reset_index()\n",
        "comp_75['pred_lr_75'] = pred_75[['pred_lr_75']]\n",
        "comp_75 = comp_75.set_index(['item_id', 'date'])\n",
        "\n",
        "saa_75 = pd.read_csv('/content/drive/MyDrive/M5/SAA_pred_75.csv').set_index(['item_id', 'date'])\n",
        "\n",
        "comp_75 = pd.concat([comp_75, saa_75], axis = 1)"
      ],
      "metadata": {
        "id": "vjS0itZyUDUJ"
      },
      "execution_count": 19,
      "outputs": []
    },
    {
      "cell_type": "markdown",
      "source": [
        "## average costs and prescriptivess score\n",
        "\n",
        "\n",
        "---\n",
        "\n",
        "\n",
        "\n",
        "*   create a loop where the average_costs (the prescriptivess score) of each item are calculated\n",
        "\n",
        "*   save the results into a pandas frame"
      ],
      "metadata": {
        "id": "OZU9LRVzuudq"
      }
    },
    {
      "cell_type": "code",
      "source": [
        "result_lr_75_avc = []\n",
        "\n",
        "for prod in prods:\n",
        "  avc = round(average_costs(comp_75['demand'].loc[prod], comp_75['pred_lr_75'].loc[prod], cu = cu, co = co_75),2)\n",
        "  result_lr_75_avc.append(avc)"
      ],
      "metadata": {
        "id": "V8txjqVOUdOn"
      },
      "execution_count": 22,
      "outputs": []
    },
    {
      "cell_type": "code",
      "source": [
        "LR_pooled_avc_75 = pd.DataFrame(result_lr_75_avc, columns=['LR_avc_75'])\n",
        "LR_pooled_avc_75.index.name = 'item_id'"
      ],
      "metadata": {
        "id": "rfDv3uq-Ukfp"
      },
      "execution_count": 23,
      "outputs": []
    },
    {
      "cell_type": "code",
      "source": [
        "result_lr_75_pscr = []\n",
        "\n",
        "for prod in prods:\n",
        "  pscr = round(prescriptiveness_score(comp_75['demand'].loc[prod], comp_75['pred_lr_75'].loc[prod],\n",
        "                                      comp_75['SAA_pred_75'].loc[prod], cu = cu, co = co_75),2)\n",
        "  result_lr_75_pscr.append(pscr)"
      ],
      "metadata": {
        "id": "tRlzhTE46IKq"
      },
      "execution_count": 25,
      "outputs": []
    },
    {
      "cell_type": "code",
      "source": [
        "LR_pooled_pscr_75 = pd.DataFrame(result_lr_75_pscr, columns=['LR_pscr_75'])\n",
        "LR_pooled_pscr_75.index.name = 'item_id'"
      ],
      "metadata": {
        "id": "B4aBPYJM6Q0B"
      },
      "execution_count": 26,
      "outputs": []
    },
    {
      "cell_type": "markdown",
      "source": [
        "# newsvendor-model 50%\n",
        "\n",
        "\n",
        "\n",
        "---\n",
        "\n",
        "\n",
        "\n",
        "*   the model is trained and tested once for entire data-set\n",
        "*   the prediction is the output"
      ],
      "metadata": {
        "id": "m7kxAOb_u5Yh"
      }
    },
    {
      "cell_type": "code",
      "source": [
        "lr = LinearRegressionNewsvendor(cu = cu, co = co_50)\n",
        "\n",
        "lr.fit(X_train, Y_train)\n",
        "\n",
        "preds_50 = lr.predict(X_test)"
      ],
      "metadata": {
        "id": "xP35RIzwVgOR"
      },
      "execution_count": 27,
      "outputs": []
    },
    {
      "cell_type": "markdown",
      "source": [
        "## reorder the data\n",
        "\n",
        "\n",
        "\n",
        "\n",
        "---\n",
        "\n",
        "\n",
        "\n",
        "*   create a pandas frame 'comp_50' where the real values, the predictions and the predictions from the saa model are in columns next to each other"
      ],
      "metadata": {
        "id": "y4C2dvPFvPpn"
      }
    },
    {
      "cell_type": "code",
      "source": [
        "pred_50 = pd.DataFrame(preds_50, columns=['pred_lr_50'])\n",
        "comp_50 = Y.loc[(slice(None), slice(\"2015\", \"2017\"))].reset_index().sort_values(by=['date', 'item_id']).set_index('date')\n",
        "comp_50 = comp_50.reset_index()\n",
        "comp_50['pred_lr_50'] = pred_50[['pred_lr_50']]\n",
        "comp_50 = comp_50.set_index(['item_id', 'date'])\n",
        "\n",
        "saa_50 = pd.read_csv('/content/drive/MyDrive/M5/SAA_pred_50.csv').set_index(['item_id', 'date'])\n",
        "\n",
        "comp_50 = pd.concat([comp_50, saa_50], axis = 1)"
      ],
      "metadata": {
        "id": "KGox_z_KVlur"
      },
      "execution_count": 28,
      "outputs": []
    },
    {
      "cell_type": "markdown",
      "source": [
        "## average costs and prescriptivess score\n",
        "\n",
        "\n",
        "---\n",
        "\n",
        "\n",
        "\n",
        "*   create a loop where the average_costs (the prescriptivess score) of each item are calculated\n",
        "\n",
        "*   save the results into a pandas frame"
      ],
      "metadata": {
        "id": "veSQnOkfvUWS"
      }
    },
    {
      "cell_type": "code",
      "source": [
        "result_lr_50_avc = []\n",
        "\n",
        "for prod in prods:\n",
        "  avc = round(average_costs(comp_50['demand'].loc[prod], comp_50['pred_lr_50'].loc[prod], cu = cu, co = co_50),2)\n",
        "  result_lr_50_avc.append(avc)"
      ],
      "metadata": {
        "id": "3J0Xxx9eV13O"
      },
      "execution_count": 29,
      "outputs": []
    },
    {
      "cell_type": "code",
      "source": [
        "LR_pooled_avc_50 = pd.DataFrame(result_lr_50_avc, columns=['LR_avc_50'])\n",
        "LR_pooled_avc_50.index.name = 'item_id'"
      ],
      "metadata": {
        "id": "rtO8wuMQV8LS"
      },
      "execution_count": 30,
      "outputs": []
    },
    {
      "cell_type": "code",
      "source": [
        "result_lr_50_pscr = []\n",
        "\n",
        "for prod in prods:\n",
        "  pscr = round(prescriptiveness_score(comp_50['demand'].loc[prod], comp_50['pred_lr_50'].loc[prod],\n",
        "                                      comp_50['SAA_pred_50'].loc[prod], cu = cu, co = co_50),2)\n",
        "  result_lr_50_pscr.append(pscr)"
      ],
      "metadata": {
        "id": "Im1QZOTf5QmU"
      },
      "execution_count": 31,
      "outputs": []
    },
    {
      "cell_type": "code",
      "source": [
        "LR_pooled_pscr_50 = pd.DataFrame(result_lr_50_pscr, columns=['LR_pscr_50'])\n",
        "LR_pooled_pscr_50.index.name = 'item_id'"
      ],
      "metadata": {
        "id": "76eTvvpb5ZX9"
      },
      "execution_count": 32,
      "outputs": []
    },
    {
      "cell_type": "markdown",
      "source": [
        "# merge the pandas frames\n",
        "\n",
        "\n",
        "---\n",
        "\n"
      ],
      "metadata": {
        "id": "UQSMPXjUvjUw"
      }
    },
    {
      "cell_type": "code",
      "source": [
        "LR_pooled_avc = pd.concat([LR_pooled_avc_90, LR_pooled_avc_75, LR_pooled_avc_50], axis=1)\n",
        "LR_pooled_avc"
      ],
      "metadata": {
        "colab": {
          "base_uri": "https://localhost:8080/",
          "height": 864
        },
        "id": "ggfJx7IhW6zK",
        "outputId": "ed18dadd-c837-48c4-bae9-5979d340aa54"
      },
      "execution_count": 33,
      "outputs": [
        {
          "output_type": "execute_result",
          "data": {
            "text/plain": [
              "         LR_avc_90  LR_avc_75  LR_avc_50\n",
              "item_id                                 \n",
              "0             2.11       4.96       8.45\n",
              "1             0.88       2.06       3.60\n",
              "2             2.01       4.57       7.54\n",
              "3             1.57       3.81       7.06\n",
              "4             2.00       4.39       8.53\n",
              "5             1.15       2.52       4.74\n",
              "6             1.48       3.61       6.70\n",
              "7             1.37       3.47       6.40\n",
              "8             1.08       2.63       4.58\n",
              "9             1.04       2.61       4.90\n",
              "10            4.86      11.42      20.69\n",
              "11            1.20       2.83       5.26\n",
              "12            1.83       4.11       7.61\n",
              "13            0.74       1.80       3.09\n",
              "14            1.94       4.65       8.88\n",
              "15            1.18       2.67       4.84\n",
              "16            0.83       2.29       4.08\n",
              "17            2.59       6.17      11.24\n",
              "18            5.43      12.85      23.30\n",
              "19            1.05       2.69       4.63\n",
              "20            1.87       4.28       7.72\n",
              "21            1.56       3.56       6.60\n",
              "22            2.20       5.64       9.50\n",
              "23            3.22       7.30      13.30\n",
              "24            1.86       4.27       7.72"
            ],
            "text/html": [
              "\n",
              "  <div id=\"df-7468139f-06a7-4d80-97d7-6a363d0796a9\">\n",
              "    <div class=\"colab-df-container\">\n",
              "      <div>\n",
              "<style scoped>\n",
              "    .dataframe tbody tr th:only-of-type {\n",
              "        vertical-align: middle;\n",
              "    }\n",
              "\n",
              "    .dataframe tbody tr th {\n",
              "        vertical-align: top;\n",
              "    }\n",
              "\n",
              "    .dataframe thead th {\n",
              "        text-align: right;\n",
              "    }\n",
              "</style>\n",
              "<table border=\"1\" class=\"dataframe\">\n",
              "  <thead>\n",
              "    <tr style=\"text-align: right;\">\n",
              "      <th></th>\n",
              "      <th>LR_avc_90</th>\n",
              "      <th>LR_avc_75</th>\n",
              "      <th>LR_avc_50</th>\n",
              "    </tr>\n",
              "    <tr>\n",
              "      <th>item_id</th>\n",
              "      <th></th>\n",
              "      <th></th>\n",
              "      <th></th>\n",
              "    </tr>\n",
              "  </thead>\n",
              "  <tbody>\n",
              "    <tr>\n",
              "      <th>0</th>\n",
              "      <td>2.11</td>\n",
              "      <td>4.96</td>\n",
              "      <td>8.45</td>\n",
              "    </tr>\n",
              "    <tr>\n",
              "      <th>1</th>\n",
              "      <td>0.88</td>\n",
              "      <td>2.06</td>\n",
              "      <td>3.60</td>\n",
              "    </tr>\n",
              "    <tr>\n",
              "      <th>2</th>\n",
              "      <td>2.01</td>\n",
              "      <td>4.57</td>\n",
              "      <td>7.54</td>\n",
              "    </tr>\n",
              "    <tr>\n",
              "      <th>3</th>\n",
              "      <td>1.57</td>\n",
              "      <td>3.81</td>\n",
              "      <td>7.06</td>\n",
              "    </tr>\n",
              "    <tr>\n",
              "      <th>4</th>\n",
              "      <td>2.00</td>\n",
              "      <td>4.39</td>\n",
              "      <td>8.53</td>\n",
              "    </tr>\n",
              "    <tr>\n",
              "      <th>5</th>\n",
              "      <td>1.15</td>\n",
              "      <td>2.52</td>\n",
              "      <td>4.74</td>\n",
              "    </tr>\n",
              "    <tr>\n",
              "      <th>6</th>\n",
              "      <td>1.48</td>\n",
              "      <td>3.61</td>\n",
              "      <td>6.70</td>\n",
              "    </tr>\n",
              "    <tr>\n",
              "      <th>7</th>\n",
              "      <td>1.37</td>\n",
              "      <td>3.47</td>\n",
              "      <td>6.40</td>\n",
              "    </tr>\n",
              "    <tr>\n",
              "      <th>8</th>\n",
              "      <td>1.08</td>\n",
              "      <td>2.63</td>\n",
              "      <td>4.58</td>\n",
              "    </tr>\n",
              "    <tr>\n",
              "      <th>9</th>\n",
              "      <td>1.04</td>\n",
              "      <td>2.61</td>\n",
              "      <td>4.90</td>\n",
              "    </tr>\n",
              "    <tr>\n",
              "      <th>10</th>\n",
              "      <td>4.86</td>\n",
              "      <td>11.42</td>\n",
              "      <td>20.69</td>\n",
              "    </tr>\n",
              "    <tr>\n",
              "      <th>11</th>\n",
              "      <td>1.20</td>\n",
              "      <td>2.83</td>\n",
              "      <td>5.26</td>\n",
              "    </tr>\n",
              "    <tr>\n",
              "      <th>12</th>\n",
              "      <td>1.83</td>\n",
              "      <td>4.11</td>\n",
              "      <td>7.61</td>\n",
              "    </tr>\n",
              "    <tr>\n",
              "      <th>13</th>\n",
              "      <td>0.74</td>\n",
              "      <td>1.80</td>\n",
              "      <td>3.09</td>\n",
              "    </tr>\n",
              "    <tr>\n",
              "      <th>14</th>\n",
              "      <td>1.94</td>\n",
              "      <td>4.65</td>\n",
              "      <td>8.88</td>\n",
              "    </tr>\n",
              "    <tr>\n",
              "      <th>15</th>\n",
              "      <td>1.18</td>\n",
              "      <td>2.67</td>\n",
              "      <td>4.84</td>\n",
              "    </tr>\n",
              "    <tr>\n",
              "      <th>16</th>\n",
              "      <td>0.83</td>\n",
              "      <td>2.29</td>\n",
              "      <td>4.08</td>\n",
              "    </tr>\n",
              "    <tr>\n",
              "      <th>17</th>\n",
              "      <td>2.59</td>\n",
              "      <td>6.17</td>\n",
              "      <td>11.24</td>\n",
              "    </tr>\n",
              "    <tr>\n",
              "      <th>18</th>\n",
              "      <td>5.43</td>\n",
              "      <td>12.85</td>\n",
              "      <td>23.30</td>\n",
              "    </tr>\n",
              "    <tr>\n",
              "      <th>19</th>\n",
              "      <td>1.05</td>\n",
              "      <td>2.69</td>\n",
              "      <td>4.63</td>\n",
              "    </tr>\n",
              "    <tr>\n",
              "      <th>20</th>\n",
              "      <td>1.87</td>\n",
              "      <td>4.28</td>\n",
              "      <td>7.72</td>\n",
              "    </tr>\n",
              "    <tr>\n",
              "      <th>21</th>\n",
              "      <td>1.56</td>\n",
              "      <td>3.56</td>\n",
              "      <td>6.60</td>\n",
              "    </tr>\n",
              "    <tr>\n",
              "      <th>22</th>\n",
              "      <td>2.20</td>\n",
              "      <td>5.64</td>\n",
              "      <td>9.50</td>\n",
              "    </tr>\n",
              "    <tr>\n",
              "      <th>23</th>\n",
              "      <td>3.22</td>\n",
              "      <td>7.30</td>\n",
              "      <td>13.30</td>\n",
              "    </tr>\n",
              "    <tr>\n",
              "      <th>24</th>\n",
              "      <td>1.86</td>\n",
              "      <td>4.27</td>\n",
              "      <td>7.72</td>\n",
              "    </tr>\n",
              "  </tbody>\n",
              "</table>\n",
              "</div>\n",
              "      <button class=\"colab-df-convert\" onclick=\"convertToInteractive('df-7468139f-06a7-4d80-97d7-6a363d0796a9')\"\n",
              "              title=\"Convert this dataframe to an interactive table.\"\n",
              "              style=\"display:none;\">\n",
              "        \n",
              "  <svg xmlns=\"http://www.w3.org/2000/svg\" height=\"24px\"viewBox=\"0 0 24 24\"\n",
              "       width=\"24px\">\n",
              "    <path d=\"M0 0h24v24H0V0z\" fill=\"none\"/>\n",
              "    <path d=\"M18.56 5.44l.94 2.06.94-2.06 2.06-.94-2.06-.94-.94-2.06-.94 2.06-2.06.94zm-11 1L8.5 8.5l.94-2.06 2.06-.94-2.06-.94L8.5 2.5l-.94 2.06-2.06.94zm10 10l.94 2.06.94-2.06 2.06-.94-2.06-.94-.94-2.06-.94 2.06-2.06.94z\"/><path d=\"M17.41 7.96l-1.37-1.37c-.4-.4-.92-.59-1.43-.59-.52 0-1.04.2-1.43.59L10.3 9.45l-7.72 7.72c-.78.78-.78 2.05 0 2.83L4 21.41c.39.39.9.59 1.41.59.51 0 1.02-.2 1.41-.59l7.78-7.78 2.81-2.81c.8-.78.8-2.07 0-2.86zM5.41 20L4 18.59l7.72-7.72 1.47 1.35L5.41 20z\"/>\n",
              "  </svg>\n",
              "      </button>\n",
              "      \n",
              "  <style>\n",
              "    .colab-df-container {\n",
              "      display:flex;\n",
              "      flex-wrap:wrap;\n",
              "      gap: 12px;\n",
              "    }\n",
              "\n",
              "    .colab-df-convert {\n",
              "      background-color: #E8F0FE;\n",
              "      border: none;\n",
              "      border-radius: 50%;\n",
              "      cursor: pointer;\n",
              "      display: none;\n",
              "      fill: #1967D2;\n",
              "      height: 32px;\n",
              "      padding: 0 0 0 0;\n",
              "      width: 32px;\n",
              "    }\n",
              "\n",
              "    .colab-df-convert:hover {\n",
              "      background-color: #E2EBFA;\n",
              "      box-shadow: 0px 1px 2px rgba(60, 64, 67, 0.3), 0px 1px 3px 1px rgba(60, 64, 67, 0.15);\n",
              "      fill: #174EA6;\n",
              "    }\n",
              "\n",
              "    [theme=dark] .colab-df-convert {\n",
              "      background-color: #3B4455;\n",
              "      fill: #D2E3FC;\n",
              "    }\n",
              "\n",
              "    [theme=dark] .colab-df-convert:hover {\n",
              "      background-color: #434B5C;\n",
              "      box-shadow: 0px 1px 3px 1px rgba(0, 0, 0, 0.15);\n",
              "      filter: drop-shadow(0px 1px 2px rgba(0, 0, 0, 0.3));\n",
              "      fill: #FFFFFF;\n",
              "    }\n",
              "  </style>\n",
              "\n",
              "      <script>\n",
              "        const buttonEl =\n",
              "          document.querySelector('#df-7468139f-06a7-4d80-97d7-6a363d0796a9 button.colab-df-convert');\n",
              "        buttonEl.style.display =\n",
              "          google.colab.kernel.accessAllowed ? 'block' : 'none';\n",
              "\n",
              "        async function convertToInteractive(key) {\n",
              "          const element = document.querySelector('#df-7468139f-06a7-4d80-97d7-6a363d0796a9');\n",
              "          const dataTable =\n",
              "            await google.colab.kernel.invokeFunction('convertToInteractive',\n",
              "                                                     [key], {});\n",
              "          if (!dataTable) return;\n",
              "\n",
              "          const docLinkHtml = 'Like what you see? Visit the ' +\n",
              "            '<a target=\"_blank\" href=https://colab.research.google.com/notebooks/data_table.ipynb>data table notebook</a>'\n",
              "            + ' to learn more about interactive tables.';\n",
              "          element.innerHTML = '';\n",
              "          dataTable['output_type'] = 'display_data';\n",
              "          await google.colab.output.renderOutput(dataTable, element);\n",
              "          const docLink = document.createElement('div');\n",
              "          docLink.innerHTML = docLinkHtml;\n",
              "          element.appendChild(docLink);\n",
              "        }\n",
              "      </script>\n",
              "    </div>\n",
              "  </div>\n",
              "  "
            ]
          },
          "metadata": {},
          "execution_count": 33
        }
      ]
    },
    {
      "cell_type": "code",
      "source": [
        "LR_pooled_pscr = pd.concat([LR_pooled_pscr_90, LR_pooled_pscr_75, LR_pooled_pscr_50], axis=1)\n",
        "LR_pooled_pscr"
      ],
      "metadata": {
        "colab": {
          "base_uri": "https://localhost:8080/",
          "height": 864
        },
        "id": "w7dz6P_87Cx3",
        "outputId": "6a64125c-68cd-4484-da8e-f5099aa0dca4"
      },
      "execution_count": 34,
      "outputs": [
        {
          "output_type": "execute_result",
          "data": {
            "text/plain": [
              "         LR_pscr_90  LR_pscr_75  LR_pscr_50\n",
              "item_id                                    \n",
              "0              0.43        0.34        0.33\n",
              "1              0.51        0.48        0.43\n",
              "2              0.31        0.19        0.19\n",
              "3              0.70        0.63        0.54\n",
              "4              0.38        0.29        0.23\n",
              "5              0.45        0.40        0.26\n",
              "6              0.56        0.49        0.44\n",
              "7              0.50        0.28        0.20\n",
              "8              0.44        0.29        0.29\n",
              "9              0.43        0.34        0.26\n",
              "10             0.43        0.30        0.24\n",
              "11             0.41        0.31        0.27\n",
              "12             0.46        0.43        0.40\n",
              "13             0.58        0.44        0.30\n",
              "14             0.37        0.28        0.31\n",
              "15             0.32        0.23        0.18\n",
              "16             0.21        0.03       -0.02\n",
              "17             0.37        0.24        0.22\n",
              "18             0.36        0.27        0.25\n",
              "19             0.42        0.22        0.13\n",
              "20             0.53        0.49        0.45\n",
              "21             0.34        0.22        0.19\n",
              "22             0.63        0.47        0.39\n",
              "23             0.45        0.36        0.32\n",
              "24             0.40        0.29        0.32"
            ],
            "text/html": [
              "\n",
              "  <div id=\"df-1f3b8a7b-77d3-4af3-ba37-a4a3e002d959\">\n",
              "    <div class=\"colab-df-container\">\n",
              "      <div>\n",
              "<style scoped>\n",
              "    .dataframe tbody tr th:only-of-type {\n",
              "        vertical-align: middle;\n",
              "    }\n",
              "\n",
              "    .dataframe tbody tr th {\n",
              "        vertical-align: top;\n",
              "    }\n",
              "\n",
              "    .dataframe thead th {\n",
              "        text-align: right;\n",
              "    }\n",
              "</style>\n",
              "<table border=\"1\" class=\"dataframe\">\n",
              "  <thead>\n",
              "    <tr style=\"text-align: right;\">\n",
              "      <th></th>\n",
              "      <th>LR_pscr_90</th>\n",
              "      <th>LR_pscr_75</th>\n",
              "      <th>LR_pscr_50</th>\n",
              "    </tr>\n",
              "    <tr>\n",
              "      <th>item_id</th>\n",
              "      <th></th>\n",
              "      <th></th>\n",
              "      <th></th>\n",
              "    </tr>\n",
              "  </thead>\n",
              "  <tbody>\n",
              "    <tr>\n",
              "      <th>0</th>\n",
              "      <td>0.43</td>\n",
              "      <td>0.34</td>\n",
              "      <td>0.33</td>\n",
              "    </tr>\n",
              "    <tr>\n",
              "      <th>1</th>\n",
              "      <td>0.51</td>\n",
              "      <td>0.48</td>\n",
              "      <td>0.43</td>\n",
              "    </tr>\n",
              "    <tr>\n",
              "      <th>2</th>\n",
              "      <td>0.31</td>\n",
              "      <td>0.19</td>\n",
              "      <td>0.19</td>\n",
              "    </tr>\n",
              "    <tr>\n",
              "      <th>3</th>\n",
              "      <td>0.70</td>\n",
              "      <td>0.63</td>\n",
              "      <td>0.54</td>\n",
              "    </tr>\n",
              "    <tr>\n",
              "      <th>4</th>\n",
              "      <td>0.38</td>\n",
              "      <td>0.29</td>\n",
              "      <td>0.23</td>\n",
              "    </tr>\n",
              "    <tr>\n",
              "      <th>5</th>\n",
              "      <td>0.45</td>\n",
              "      <td>0.40</td>\n",
              "      <td>0.26</td>\n",
              "    </tr>\n",
              "    <tr>\n",
              "      <th>6</th>\n",
              "      <td>0.56</td>\n",
              "      <td>0.49</td>\n",
              "      <td>0.44</td>\n",
              "    </tr>\n",
              "    <tr>\n",
              "      <th>7</th>\n",
              "      <td>0.50</td>\n",
              "      <td>0.28</td>\n",
              "      <td>0.20</td>\n",
              "    </tr>\n",
              "    <tr>\n",
              "      <th>8</th>\n",
              "      <td>0.44</td>\n",
              "      <td>0.29</td>\n",
              "      <td>0.29</td>\n",
              "    </tr>\n",
              "    <tr>\n",
              "      <th>9</th>\n",
              "      <td>0.43</td>\n",
              "      <td>0.34</td>\n",
              "      <td>0.26</td>\n",
              "    </tr>\n",
              "    <tr>\n",
              "      <th>10</th>\n",
              "      <td>0.43</td>\n",
              "      <td>0.30</td>\n",
              "      <td>0.24</td>\n",
              "    </tr>\n",
              "    <tr>\n",
              "      <th>11</th>\n",
              "      <td>0.41</td>\n",
              "      <td>0.31</td>\n",
              "      <td>0.27</td>\n",
              "    </tr>\n",
              "    <tr>\n",
              "      <th>12</th>\n",
              "      <td>0.46</td>\n",
              "      <td>0.43</td>\n",
              "      <td>0.40</td>\n",
              "    </tr>\n",
              "    <tr>\n",
              "      <th>13</th>\n",
              "      <td>0.58</td>\n",
              "      <td>0.44</td>\n",
              "      <td>0.30</td>\n",
              "    </tr>\n",
              "    <tr>\n",
              "      <th>14</th>\n",
              "      <td>0.37</td>\n",
              "      <td>0.28</td>\n",
              "      <td>0.31</td>\n",
              "    </tr>\n",
              "    <tr>\n",
              "      <th>15</th>\n",
              "      <td>0.32</td>\n",
              "      <td>0.23</td>\n",
              "      <td>0.18</td>\n",
              "    </tr>\n",
              "    <tr>\n",
              "      <th>16</th>\n",
              "      <td>0.21</td>\n",
              "      <td>0.03</td>\n",
              "      <td>-0.02</td>\n",
              "    </tr>\n",
              "    <tr>\n",
              "      <th>17</th>\n",
              "      <td>0.37</td>\n",
              "      <td>0.24</td>\n",
              "      <td>0.22</td>\n",
              "    </tr>\n",
              "    <tr>\n",
              "      <th>18</th>\n",
              "      <td>0.36</td>\n",
              "      <td>0.27</td>\n",
              "      <td>0.25</td>\n",
              "    </tr>\n",
              "    <tr>\n",
              "      <th>19</th>\n",
              "      <td>0.42</td>\n",
              "      <td>0.22</td>\n",
              "      <td>0.13</td>\n",
              "    </tr>\n",
              "    <tr>\n",
              "      <th>20</th>\n",
              "      <td>0.53</td>\n",
              "      <td>0.49</td>\n",
              "      <td>0.45</td>\n",
              "    </tr>\n",
              "    <tr>\n",
              "      <th>21</th>\n",
              "      <td>0.34</td>\n",
              "      <td>0.22</td>\n",
              "      <td>0.19</td>\n",
              "    </tr>\n",
              "    <tr>\n",
              "      <th>22</th>\n",
              "      <td>0.63</td>\n",
              "      <td>0.47</td>\n",
              "      <td>0.39</td>\n",
              "    </tr>\n",
              "    <tr>\n",
              "      <th>23</th>\n",
              "      <td>0.45</td>\n",
              "      <td>0.36</td>\n",
              "      <td>0.32</td>\n",
              "    </tr>\n",
              "    <tr>\n",
              "      <th>24</th>\n",
              "      <td>0.40</td>\n",
              "      <td>0.29</td>\n",
              "      <td>0.32</td>\n",
              "    </tr>\n",
              "  </tbody>\n",
              "</table>\n",
              "</div>\n",
              "      <button class=\"colab-df-convert\" onclick=\"convertToInteractive('df-1f3b8a7b-77d3-4af3-ba37-a4a3e002d959')\"\n",
              "              title=\"Convert this dataframe to an interactive table.\"\n",
              "              style=\"display:none;\">\n",
              "        \n",
              "  <svg xmlns=\"http://www.w3.org/2000/svg\" height=\"24px\"viewBox=\"0 0 24 24\"\n",
              "       width=\"24px\">\n",
              "    <path d=\"M0 0h24v24H0V0z\" fill=\"none\"/>\n",
              "    <path d=\"M18.56 5.44l.94 2.06.94-2.06 2.06-.94-2.06-.94-.94-2.06-.94 2.06-2.06.94zm-11 1L8.5 8.5l.94-2.06 2.06-.94-2.06-.94L8.5 2.5l-.94 2.06-2.06.94zm10 10l.94 2.06.94-2.06 2.06-.94-2.06-.94-.94-2.06-.94 2.06-2.06.94z\"/><path d=\"M17.41 7.96l-1.37-1.37c-.4-.4-.92-.59-1.43-.59-.52 0-1.04.2-1.43.59L10.3 9.45l-7.72 7.72c-.78.78-.78 2.05 0 2.83L4 21.41c.39.39.9.59 1.41.59.51 0 1.02-.2 1.41-.59l7.78-7.78 2.81-2.81c.8-.78.8-2.07 0-2.86zM5.41 20L4 18.59l7.72-7.72 1.47 1.35L5.41 20z\"/>\n",
              "  </svg>\n",
              "      </button>\n",
              "      \n",
              "  <style>\n",
              "    .colab-df-container {\n",
              "      display:flex;\n",
              "      flex-wrap:wrap;\n",
              "      gap: 12px;\n",
              "    }\n",
              "\n",
              "    .colab-df-convert {\n",
              "      background-color: #E8F0FE;\n",
              "      border: none;\n",
              "      border-radius: 50%;\n",
              "      cursor: pointer;\n",
              "      display: none;\n",
              "      fill: #1967D2;\n",
              "      height: 32px;\n",
              "      padding: 0 0 0 0;\n",
              "      width: 32px;\n",
              "    }\n",
              "\n",
              "    .colab-df-convert:hover {\n",
              "      background-color: #E2EBFA;\n",
              "      box-shadow: 0px 1px 2px rgba(60, 64, 67, 0.3), 0px 1px 3px 1px rgba(60, 64, 67, 0.15);\n",
              "      fill: #174EA6;\n",
              "    }\n",
              "\n",
              "    [theme=dark] .colab-df-convert {\n",
              "      background-color: #3B4455;\n",
              "      fill: #D2E3FC;\n",
              "    }\n",
              "\n",
              "    [theme=dark] .colab-df-convert:hover {\n",
              "      background-color: #434B5C;\n",
              "      box-shadow: 0px 1px 3px 1px rgba(0, 0, 0, 0.15);\n",
              "      filter: drop-shadow(0px 1px 2px rgba(0, 0, 0, 0.3));\n",
              "      fill: #FFFFFF;\n",
              "    }\n",
              "  </style>\n",
              "\n",
              "      <script>\n",
              "        const buttonEl =\n",
              "          document.querySelector('#df-1f3b8a7b-77d3-4af3-ba37-a4a3e002d959 button.colab-df-convert');\n",
              "        buttonEl.style.display =\n",
              "          google.colab.kernel.accessAllowed ? 'block' : 'none';\n",
              "\n",
              "        async function convertToInteractive(key) {\n",
              "          const element = document.querySelector('#df-1f3b8a7b-77d3-4af3-ba37-a4a3e002d959');\n",
              "          const dataTable =\n",
              "            await google.colab.kernel.invokeFunction('convertToInteractive',\n",
              "                                                     [key], {});\n",
              "          if (!dataTable) return;\n",
              "\n",
              "          const docLinkHtml = 'Like what you see? Visit the ' +\n",
              "            '<a target=\"_blank\" href=https://colab.research.google.com/notebooks/data_table.ipynb>data table notebook</a>'\n",
              "            + ' to learn more about interactive tables.';\n",
              "          element.innerHTML = '';\n",
              "          dataTable['output_type'] = 'display_data';\n",
              "          await google.colab.output.renderOutput(dataTable, element);\n",
              "          const docLink = document.createElement('div');\n",
              "          docLink.innerHTML = docLinkHtml;\n",
              "          element.appendChild(docLink);\n",
              "        }\n",
              "      </script>\n",
              "    </div>\n",
              "  </div>\n",
              "  "
            ]
          },
          "metadata": {},
          "execution_count": 34
        }
      ]
    },
    {
      "cell_type": "markdown",
      "source": [
        "# save the results\n",
        "\n",
        "\n",
        "---\n",
        "\n"
      ],
      "metadata": {
        "id": "JPWuJzKBvqTN"
      }
    },
    {
      "cell_type": "code",
      "source": [
        "LR_pooled_avc.to_csv('/content/drive/MyDrive/M5/LR_pooled_avc.csv')\n",
        "\n",
        "LR_pooled_pscr.to_csv('/content/drive/MyDrive/M5/LR_pooled_pscr.csv')"
      ],
      "metadata": {
        "id": "XTzB5-11ZQKR"
      },
      "execution_count": 35,
      "outputs": []
    }
  ]
}