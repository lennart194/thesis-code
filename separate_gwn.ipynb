{
  "nbformat": 4,
  "nbformat_minor": 0,
  "metadata": {
    "colab": {
      "name": "separate_gwn.ipynb",
      "provenance": [],
      "collapsed_sections": [],
      "authorship_tag": "ABX9TyOh0rifodNefdCee/GxU+dn",
      "include_colab_link": true
    },
    "kernelspec": {
      "name": "python3",
      "display_name": "Python 3"
    },
    "language_info": {
      "name": "python"
    }
  },
  "cells": [
    {
      "cell_type": "markdown",
      "metadata": {
        "id": "view-in-github",
        "colab_type": "text"
      },
      "source": [
        "<a href=\"https://colab.research.google.com/github/lennart194/thesis-code/blob/main/separate_gwn.ipynb\" target=\"_parent\"><img src=\"https://colab.research.google.com/assets/colab-badge.svg\" alt=\"Open In Colab\"/></a>"
      ]
    },
    {
      "cell_type": "code",
      "execution_count": null,
      "metadata": {
        "id": "oVGgl3ubfvD8"
      },
      "outputs": [],
      "source": [
        "pip install ddop"
      ]
    },
    {
      "cell_type": "code",
      "source": [
        "import pandas as pd\n",
        "import numpy as np\n",
        "\n",
        "from ddop.newsvendor import GaussianWeightedNewsvendor\n",
        "from ddop.newsvendor import SampleAverageApproximationNewsvendor\n",
        "\n",
        "from sklearn.model_selection import RandomizedSearchCV\n",
        "\n",
        "from ddop.metrics import make_scorer\n",
        "from ddop.metrics import average_costs\n",
        "from ddop.metrics import prescriptiveness_score"
      ],
      "metadata": {
        "id": "FjO6FWifgO8X"
      },
      "execution_count": 2,
      "outputs": []
    },
    {
      "cell_type": "code",
      "source": [
        "from google.colab import drive\n",
        "drive.mount('/content/drive')"
      ],
      "metadata": {
        "colab": {
          "base_uri": "https://localhost:8080/"
        },
        "id": "ApbAdnlng1Ii",
        "outputId": "0d69b72b-e0ac-4662-da25-352875e8dacf"
      },
      "execution_count": 3,
      "outputs": [
        {
          "output_type": "stream",
          "name": "stdout",
          "text": [
            "Mounted at /content/drive\n"
          ]
        }
      ]
    },
    {
      "cell_type": "markdown",
      "source": [
        "## loading data-set\n",
        "\n",
        "\n",
        "---\n",
        "\n",
        "\n",
        "\n",
        "*   load the whole ultimative set\n",
        "*   sort the rows first by item, then by date and set a multi index\n",
        "**now every items time series can be separated by the index**"
      ],
      "metadata": {
        "id": "cSp_ZCOuhBbo"
      }
    },
    {
      "cell_type": "code",
      "source": [
        "data = pd.read_csv('/content/drive/MyDrive/M5/ultimative_set.csv')\n",
        "data = data.drop(columns=['Unnamed: 0'])\n",
        "data = data.sort_values(by=['item_id', 'date'])\n",
        "data = data.set_index(['item_id', 'date'])"
      ],
      "metadata": {
        "id": "jKBruDZ2g9C0"
      },
      "execution_count": 4,
      "outputs": []
    },
    {
      "cell_type": "markdown",
      "source": [
        "## split in feature and target matrix\n",
        "\n",
        "\n",
        "---\n",
        "\n"
      ],
      "metadata": {
        "id": "5jCrvBdLhMo5"
      }
    },
    {
      "cell_type": "code",
      "source": [
        "X = data.drop(columns=['demand'])\n",
        "Y = data['demand']"
      ],
      "metadata": {
        "id": "dPqpH1BShNjh"
      },
      "execution_count": 5,
      "outputs": []
    },
    {
      "cell_type": "markdown",
      "source": [
        "## train_test_split\n",
        "\n",
        "\n",
        "---\n",
        "\n"
      ],
      "metadata": {
        "id": "aHareKJphRRI"
      }
    },
    {
      "cell_type": "code",
      "source": [
        "X_train = X.loc[(slice(None), slice(None, \"2015\")), :]\n",
        "X_test = X.loc[(slice(None), slice(\"2015\", '2017')), :]\n",
        "\n",
        "Y_train = Y.loc[(slice(None), slice(None, \"2015\"))]\n",
        "Y_test = Y.loc[(slice(None), slice(\"2015\", \"2017\"))]"
      ],
      "metadata": {
        "id": "UmvbeyQGhUD-"
      },
      "execution_count": 6,
      "outputs": []
    },
    {
      "cell_type": "markdown",
      "source": [
        "## defining the different cost paramerters for special service level and product range\n",
        "\n",
        "\n",
        "\n",
        "---\n",
        "\n",
        "\n",
        "\n",
        "*   cu is the mean of the cumulated 'sell_price' column of the training data\n",
        "*   appending to the corresponding service level co is calculated with (cu - α * cu) / α\n",
        "*   all the costs are rounded to 2 digits"
      ],
      "metadata": {
        "id": "wu3tFJClhYr-"
      }
    },
    {
      "cell_type": "code",
      "source": [
        "prods = list(range(0,25))\n",
        "\n",
        "cu = round(X_train['sell_price'].mean(),2)\n",
        "\n",
        "co_90 = round(((cu-(0.90*cu))/0.90),2)\n",
        "\n",
        "co_75 = round(((cu-(0.75*cu))/0.75),2)\n",
        "\n",
        "co_50 = round(((cu-(0.50*cu))/0.50),2)"
      ],
      "metadata": {
        "id": "XJgaH6owhXGb"
      },
      "execution_count": 7,
      "outputs": []
    },
    {
      "cell_type": "markdown",
      "source": [
        "## determining some parameters\n",
        "\n",
        "\n",
        "---\n",
        "\n",
        "\n",
        "*   the potential range of the params for randomized search are defined\n",
        "*   the estimator, the scorer and finally the whole param_random is defined"
      ],
      "metadata": {
        "id": "peiSbIK1heiZ"
      }
    },
    {
      "cell_type": "code",
      "source": [
        "kernel_bandwidth = np.arange(25, 81)\n",
        "param_random = dict(kernel_bandwidth = kernel_bandwidth)\n",
        "\n",
        "scorer_avc = make_scorer(average_costs, greater_is_better=False)"
      ],
      "metadata": {
        "id": "OG6m7i8shhi8"
      },
      "execution_count": 8,
      "outputs": []
    },
    {
      "cell_type": "markdown",
      "source": [
        "# gwn for 90% service level\n",
        "\n",
        "\n",
        "---\n",
        "\n",
        "\n",
        "\n",
        "## randomized search\n",
        "*   an empty list is created for every type of hyperparameter\n",
        "*   in a for-loop the randomized search is executed for every item with cu and co of alpha = 0,9\n",
        "*   the best hyperparams are calculated and added to the corresponding list"
      ],
      "metadata": {
        "id": "Cn4KOXdioCm8"
      }
    },
    {
      "cell_type": "code",
      "source": [
        "best_param_kbwth_90 = []\n",
        "\n",
        "for prod in prods:\n",
        "  \n",
        "  gwn = GaussianWeightedNewsvendor(cu = cu, co = co_90)\n",
        "\n",
        "  random = RandomizedSearchCV(gwn, param_random, cv=5, scoring = scorer_avc)\n",
        "  random.fit(X_train.loc[prod], Y_train.loc[prod])\n",
        "    \n",
        "  kbwth = random.best_params_.get('kernel_bandwidth')\n",
        "\n",
        "  best_param_kbwth_90.append(kbwth)"
      ],
      "metadata": {
        "id": "q7VocnFuoDgP"
      },
      "execution_count": null,
      "outputs": []
    },
    {
      "cell_type": "markdown",
      "source": [
        "## newsvendor-model\n",
        "\n",
        "\n",
        "---\n",
        "\n",
        "\n",
        "*   the data-driven newsvendor model is executed in a loop for every single item (with optimal hyperparameters)\n",
        "*   the average_costs for every item are calculated (later the prescritiveness score will be calculated)\n",
        "*   save the results as pandas frame\n",
        "\n"
      ],
      "metadata": {
        "id": "i_SOQ1eGomHs"
      }
    },
    {
      "cell_type": "code",
      "source": [
        "result_gwn_90_avc = []\n",
        "for prod in prods:\n",
        "  \n",
        "  gwn = GaussianWeightedNewsvendor(cu = cu, co = co_90, kernel_bandwidth = best_param_kbwth_90[prod])\n",
        "  gwn.fit(X_train.loc[prod], Y_train.loc[prod])\n",
        "  preds = gwn.predict(X_test.loc[prod])\n",
        "\n",
        "  avc = round(average_costs(Y_test.loc[prod], preds, cu = cu, co = co_90),2)\n",
        "  result_gwn_90_avc.append(avc)"
      ],
      "metadata": {
        "id": "ZAwYy3Kgoo2K"
      },
      "execution_count": 26,
      "outputs": []
    },
    {
      "cell_type": "code",
      "source": [
        "GWN_separate_avc_90 = pd.DataFrame(result_gwn_90_avc, columns=['GWN_avc_90'])\n",
        "GWN_separate_avc_90.index.name = 'item_id'"
      ],
      "metadata": {
        "id": "teE5l5ANo7Lm"
      },
      "execution_count": 28,
      "outputs": []
    },
    {
      "cell_type": "code",
      "source": [
        "result_gwn_90_pscr = []\n",
        "for prod in prods:\n",
        "  \n",
        "  gwn = GaussianWeightedNewsvendor(cu = cu, co = co_90, kernel_bandwidth = best_param_kbwth_90[prod])\n",
        "  gwn.fit(X_train.loc[prod], Y_train.loc[prod])\n",
        "  preds_gwn = gwn.predict(X_test.loc[prod])\n",
        "\n",
        "\n",
        "  saa = SampleAverageApproximationNewsvendor(cu = cu, co = co_90)\n",
        "  saa.fit(Y_train.loc[prod])\n",
        "  preds_saa = saa.predict(n_steps = 508)\n",
        "  \n",
        "  pscr = prescriptiveness_score(Y_test.loc[prod], preds_gwn, preds_saa, cu = cu, co = co_90)\n",
        "  result_gwn_90_pscr.append(pscr)"
      ],
      "metadata": {
        "id": "-j_eeicfpHYP"
      },
      "execution_count": 30,
      "outputs": []
    },
    {
      "cell_type": "code",
      "source": [
        "GWN_separate_pscr_90 = pd.DataFrame(result_gwn_90_pscr, columns=['GWN_pscr_90'])\n",
        "GWN_separate_pscr_90.index.name = 'item_id'"
      ],
      "metadata": {
        "id": "1liqRogxpXhh"
      },
      "execution_count": 33,
      "outputs": []
    },
    {
      "cell_type": "markdown",
      "source": [
        "# gwn for 75% service level\n",
        "\n",
        "\n",
        "---\n",
        "\n",
        "\n",
        "\n",
        "## randomized search\n",
        "*   an empty list is created for every type of hyperparameter\n",
        "*   in a for-loop the randomized search is executed for every item with cu and co of alpha = 0,75\n",
        "*   the best hyperparams are calculated and added to the corresponding list"
      ],
      "metadata": {
        "id": "vFA7NlFCpeT5"
      }
    },
    {
      "cell_type": "code",
      "source": [
        "best_param_kbwth_75 = []\n",
        "\n",
        "for prod in prods:\n",
        "  \n",
        "  \n",
        "  gwn = GaussianWeightedNewsvendor(cu = cu, co = co_75)\n",
        "\n",
        "  random = RandomizedSearchCV(gwn, param_random, cv=5, scoring = scorer_avc)\n",
        "  random.fit(X_train.loc[prod], Y_train.loc[prod])\n",
        "    \n",
        "  kbwth = random.best_params_.get('kernel_bandwidth')\n",
        "\n",
        "  best_param_kbwth_75.append(kbwth)"
      ],
      "metadata": {
        "id": "BQZ8cI8HpgoR"
      },
      "execution_count": null,
      "outputs": []
    },
    {
      "cell_type": "markdown",
      "source": [
        "## newsvendor-model\n",
        "\n",
        "\n",
        "---\n",
        "\n",
        "\n",
        "*   the data-driven newsvendor model is executed in a loop for every single item (with optimal hyperparameters)\n",
        "*   the average_costs for every item are calculated (later the prescritiveness score will be calculated)\n",
        "*   save the results as pandas frame"
      ],
      "metadata": {
        "id": "iQJpLFQgp83K"
      }
    },
    {
      "cell_type": "code",
      "source": [
        "result_gwn_75_avc = []\n",
        "for prod in prods:\n",
        "  \n",
        "  gwn = GaussianWeightedNewsvendor(cu = cu, co = co_75, kernel_bandwidth = best_param_kbwth_75[prod])\n",
        "  gwn.fit(X_train.loc[prod], Y_train.loc[prod])\n",
        "  preds = gwn.predict(X_test.loc[prod])\n",
        "\n",
        "  avc = round(average_costs(Y_test.loc[prod], preds, cu = cu, co = co_75),2)\n",
        "  result_gwn_75_avc.append(avc)"
      ],
      "metadata": {
        "id": "5GKWB2_sqANs"
      },
      "execution_count": 36,
      "outputs": []
    },
    {
      "cell_type": "code",
      "source": [
        "GWN_separate_avc_75 = pd.DataFrame(result_gwn_75_avc, columns=['GWN_avc_75'])\n",
        "GWN_separate_avc_75.index.name = 'item_id'"
      ],
      "metadata": {
        "id": "4UvPRs40qRr2"
      },
      "execution_count": 37,
      "outputs": []
    },
    {
      "cell_type": "code",
      "source": [
        "result_gwn_75_pscr = []\n",
        "for prod in prods:\n",
        "  \n",
        "  gwn = GaussianWeightedNewsvendor(cu = cu, co = co_75, kernel_bandwidth = best_param_kbwth_75[prod])\n",
        "  gwn.fit(X_train.loc[prod], Y_train.loc[prod])\n",
        "  preds_gwn = gwn.predict(X_test.loc[prod])\n",
        "\n",
        "\n",
        "  saa = SampleAverageApproximationNewsvendor(cu = cu, co = co_75)\n",
        "  saa.fit(Y_train.loc[prod])\n",
        "  preds_saa = saa.predict(n_steps = 508)\n",
        "  \n",
        "  pscr = prescriptiveness_score(Y_test.loc[prod], preds_gwn, preds_saa, cu = cu, co = co_75)\n",
        "  result_gwn_75_pscr.append(pscr)"
      ],
      "metadata": {
        "id": "yZWLDyjqqZx6"
      },
      "execution_count": 38,
      "outputs": []
    },
    {
      "cell_type": "code",
      "source": [
        "GWN_separate_pscr_75 = pd.DataFrame(result_gwn_75_pscr, columns=['GWN_pscr_75'])\n",
        "GWN_separate_pscr_75.index.name = 'item_id'"
      ],
      "metadata": {
        "id": "-MKQzg1WqnPx"
      },
      "execution_count": 39,
      "outputs": []
    },
    {
      "cell_type": "markdown",
      "source": [
        "# gwn for 50% service level\n",
        "\n",
        "\n",
        "---\n",
        "\n",
        "\n",
        "\n",
        "## randomized search\n",
        "*   an empty list is created for every type of hyperparameter\n",
        "*   in a for-loop the randomized search is executed for every item with cu and co of alpha = 0,5\n",
        "*   the best hyperparams are calculated and added to the corresponding list"
      ],
      "metadata": {
        "id": "T82410tJqxt6"
      }
    },
    {
      "cell_type": "code",
      "source": [
        "best_param_kbwth_50 = []\n",
        "\n",
        "for prod in prods:\n",
        "  \n",
        "  \n",
        "  gwn = GaussianWeightedNewsvendor(cu = cu, co = co_50)\n",
        "\n",
        "  random = RandomizedSearchCV(gwn, param_random, cv=5, scoring = scorer_avc)\n",
        "  random.fit(X_train.loc[prod], Y_train.loc[prod])\n",
        "    \n",
        "  kbwth = random.best_params_.get('kernel_bandwidth')\n",
        "\n",
        "  best_param_kbwth_50.append(kbwth)"
      ],
      "metadata": {
        "id": "DVNq8pmLq6Be"
      },
      "execution_count": null,
      "outputs": []
    },
    {
      "cell_type": "markdown",
      "source": [
        "## newsvendor-model\n",
        "\n",
        "\n",
        "---\n",
        "\n",
        "\n",
        "*   the data-driven newsvendor model is executed in a loop for every single item (with optimal hyperparameters)\n",
        "*   the average_costs for every item are calculated (later the prescritiveness score will be calculated)\n",
        "*   save the results as pandas frame"
      ],
      "metadata": {
        "id": "LU9oyUjcrHue"
      }
    },
    {
      "cell_type": "code",
      "source": [
        "result_gwn_50_avc = []\n",
        "for prod in prods:\n",
        "  \n",
        "  gwn = GaussianWeightedNewsvendor(cu = cu, co = co_50, kernel_bandwidth = best_param_kbwth_50[prod])\n",
        "  gwn.fit(X_train.loc[prod], Y_train.loc[prod])\n",
        "  preds = gwn.predict(X_test.loc[prod])\n",
        "\n",
        "  avc = round(average_costs(Y_test.loc[prod], preds, cu = cu, co = co_50),2)\n",
        "  result_gwn_50_avc.append(avc)"
      ],
      "metadata": {
        "id": "UA2dgCWMrEuE"
      },
      "execution_count": 48,
      "outputs": []
    },
    {
      "cell_type": "code",
      "source": [
        "GWN_separate_avc_50 = pd.DataFrame(result_gwn_50_avc, columns=['GWN_avc_50'])\n",
        "GWN_separate_avc_50.index.name = 'item_id'"
      ],
      "metadata": {
        "id": "AHwuD0H7Pnk3"
      },
      "execution_count": 49,
      "outputs": []
    },
    {
      "cell_type": "code",
      "source": [
        "result_gwn_50_pscr = []\n",
        "for prod in prods:\n",
        "  \n",
        "  gwn = GaussianWeightedNewsvendor(cu = cu, co = co_50, kernel_bandwidth = best_param_kbwth_50[prod])\n",
        "  gwn.fit(X_train.loc[prod], Y_train.loc[prod])\n",
        "  preds_gwn = gwn.predict(X_test.loc[prod])\n",
        "\n",
        "\n",
        "  saa = SampleAverageApproximationNewsvendor(cu = cu, co = co_50)\n",
        "  saa.fit(Y_train.loc[prod])\n",
        "  preds_saa = saa.predict(n_steps = 508)\n",
        "  \n",
        "  pscr = prescriptiveness_score(Y_test.loc[prod], preds_gwn, preds_saa, cu = cu, co = co_50)\n",
        "  result_gwn_50_pscr.append(pscr)"
      ],
      "metadata": {
        "id": "7ZKFaW4SrdAX"
      },
      "execution_count": 50,
      "outputs": []
    },
    {
      "cell_type": "code",
      "source": [
        "GWN_separate_pscr_50 = pd.DataFrame(result_gwn_50_pscr, columns=['GWN_pscr_50'])\n",
        "GWN_separate_pscr_50.index.name = 'item_id'"
      ],
      "metadata": {
        "id": "AO7W2QDBrrgN"
      },
      "execution_count": 51,
      "outputs": []
    },
    {
      "cell_type": "markdown",
      "source": [
        "# merge the pandas frames\n",
        "\n",
        "\n",
        "---"
      ],
      "metadata": {
        "id": "0WMJ7ATNr6cu"
      }
    },
    {
      "cell_type": "code",
      "source": [
        "GWN_separated_avc = pd.concat([GWN_separate_avc_90, GWN_separate_avc_75, GWN_separate_avc_50], axis=1)\n",
        "GWN_separated_avc"
      ],
      "metadata": {
        "colab": {
          "base_uri": "https://localhost:8080/",
          "height": 864
        },
        "id": "MrsXMSoIr7Y3",
        "outputId": "1f2a3690-c14f-407e-d90b-840881d6a570"
      },
      "execution_count": 53,
      "outputs": [
        {
          "output_type": "execute_result",
          "data": {
            "text/plain": [
              "         GWN_avc_90  GWN_avc_75  GWN_avc_50\n",
              "item_id                                    \n",
              "0              2.56        5.48        9.46\n",
              "1              1.40        2.69        4.36\n",
              "2              2.50        4.94        8.36\n",
              "3              2.48        4.68        8.15\n",
              "4              2.34        5.08        9.52\n",
              "5              1.66        3.16        5.61\n",
              "6              1.89        4.18        7.28\n",
              "7              1.88        3.85        7.13\n",
              "8              1.46        2.92        5.30\n",
              "9              1.60        3.20        5.66\n",
              "10             5.89       13.05       23.64\n",
              "11             1.63        3.38        5.77\n",
              "12             2.37        4.87        8.85\n",
              "13             1.10        2.19        3.51\n",
              "14             2.47        5.24        9.68\n",
              "15             1.56        3.26        5.52\n",
              "16             1.04        2.09        3.64\n",
              "17             3.02        6.87       12.73\n",
              "18             6.57       14.79       26.09\n",
              "19             1.36        2.92        4.75\n",
              "20             2.43        5.18        8.98\n",
              "21             2.02        4.03        7.23\n",
              "22             3.02        6.20       10.53\n",
              "23             4.48        9.28       15.82\n",
              "24             2.34        4.81        9.10"
            ],
            "text/html": [
              "\n",
              "  <div id=\"df-9b6a0696-1d5f-4952-87d4-51d4b83623d3\">\n",
              "    <div class=\"colab-df-container\">\n",
              "      <div>\n",
              "<style scoped>\n",
              "    .dataframe tbody tr th:only-of-type {\n",
              "        vertical-align: middle;\n",
              "    }\n",
              "\n",
              "    .dataframe tbody tr th {\n",
              "        vertical-align: top;\n",
              "    }\n",
              "\n",
              "    .dataframe thead th {\n",
              "        text-align: right;\n",
              "    }\n",
              "</style>\n",
              "<table border=\"1\" class=\"dataframe\">\n",
              "  <thead>\n",
              "    <tr style=\"text-align: right;\">\n",
              "      <th></th>\n",
              "      <th>GWN_avc_90</th>\n",
              "      <th>GWN_avc_75</th>\n",
              "      <th>GWN_avc_50</th>\n",
              "    </tr>\n",
              "    <tr>\n",
              "      <th>item_id</th>\n",
              "      <th></th>\n",
              "      <th></th>\n",
              "      <th></th>\n",
              "    </tr>\n",
              "  </thead>\n",
              "  <tbody>\n",
              "    <tr>\n",
              "      <th>0</th>\n",
              "      <td>2.56</td>\n",
              "      <td>5.48</td>\n",
              "      <td>9.46</td>\n",
              "    </tr>\n",
              "    <tr>\n",
              "      <th>1</th>\n",
              "      <td>1.40</td>\n",
              "      <td>2.69</td>\n",
              "      <td>4.36</td>\n",
              "    </tr>\n",
              "    <tr>\n",
              "      <th>2</th>\n",
              "      <td>2.50</td>\n",
              "      <td>4.94</td>\n",
              "      <td>8.36</td>\n",
              "    </tr>\n",
              "    <tr>\n",
              "      <th>3</th>\n",
              "      <td>2.48</td>\n",
              "      <td>4.68</td>\n",
              "      <td>8.15</td>\n",
              "    </tr>\n",
              "    <tr>\n",
              "      <th>4</th>\n",
              "      <td>2.34</td>\n",
              "      <td>5.08</td>\n",
              "      <td>9.52</td>\n",
              "    </tr>\n",
              "    <tr>\n",
              "      <th>5</th>\n",
              "      <td>1.66</td>\n",
              "      <td>3.16</td>\n",
              "      <td>5.61</td>\n",
              "    </tr>\n",
              "    <tr>\n",
              "      <th>6</th>\n",
              "      <td>1.89</td>\n",
              "      <td>4.18</td>\n",
              "      <td>7.28</td>\n",
              "    </tr>\n",
              "    <tr>\n",
              "      <th>7</th>\n",
              "      <td>1.88</td>\n",
              "      <td>3.85</td>\n",
              "      <td>7.13</td>\n",
              "    </tr>\n",
              "    <tr>\n",
              "      <th>8</th>\n",
              "      <td>1.46</td>\n",
              "      <td>2.92</td>\n",
              "      <td>5.30</td>\n",
              "    </tr>\n",
              "    <tr>\n",
              "      <th>9</th>\n",
              "      <td>1.60</td>\n",
              "      <td>3.20</td>\n",
              "      <td>5.66</td>\n",
              "    </tr>\n",
              "    <tr>\n",
              "      <th>10</th>\n",
              "      <td>5.89</td>\n",
              "      <td>13.05</td>\n",
              "      <td>23.64</td>\n",
              "    </tr>\n",
              "    <tr>\n",
              "      <th>11</th>\n",
              "      <td>1.63</td>\n",
              "      <td>3.38</td>\n",
              "      <td>5.77</td>\n",
              "    </tr>\n",
              "    <tr>\n",
              "      <th>12</th>\n",
              "      <td>2.37</td>\n",
              "      <td>4.87</td>\n",
              "      <td>8.85</td>\n",
              "    </tr>\n",
              "    <tr>\n",
              "      <th>13</th>\n",
              "      <td>1.10</td>\n",
              "      <td>2.19</td>\n",
              "      <td>3.51</td>\n",
              "    </tr>\n",
              "    <tr>\n",
              "      <th>14</th>\n",
              "      <td>2.47</td>\n",
              "      <td>5.24</td>\n",
              "      <td>9.68</td>\n",
              "    </tr>\n",
              "    <tr>\n",
              "      <th>15</th>\n",
              "      <td>1.56</td>\n",
              "      <td>3.26</td>\n",
              "      <td>5.52</td>\n",
              "    </tr>\n",
              "    <tr>\n",
              "      <th>16</th>\n",
              "      <td>1.04</td>\n",
              "      <td>2.09</td>\n",
              "      <td>3.64</td>\n",
              "    </tr>\n",
              "    <tr>\n",
              "      <th>17</th>\n",
              "      <td>3.02</td>\n",
              "      <td>6.87</td>\n",
              "      <td>12.73</td>\n",
              "    </tr>\n",
              "    <tr>\n",
              "      <th>18</th>\n",
              "      <td>6.57</td>\n",
              "      <td>14.79</td>\n",
              "      <td>26.09</td>\n",
              "    </tr>\n",
              "    <tr>\n",
              "      <th>19</th>\n",
              "      <td>1.36</td>\n",
              "      <td>2.92</td>\n",
              "      <td>4.75</td>\n",
              "    </tr>\n",
              "    <tr>\n",
              "      <th>20</th>\n",
              "      <td>2.43</td>\n",
              "      <td>5.18</td>\n",
              "      <td>8.98</td>\n",
              "    </tr>\n",
              "    <tr>\n",
              "      <th>21</th>\n",
              "      <td>2.02</td>\n",
              "      <td>4.03</td>\n",
              "      <td>7.23</td>\n",
              "    </tr>\n",
              "    <tr>\n",
              "      <th>22</th>\n",
              "      <td>3.02</td>\n",
              "      <td>6.20</td>\n",
              "      <td>10.53</td>\n",
              "    </tr>\n",
              "    <tr>\n",
              "      <th>23</th>\n",
              "      <td>4.48</td>\n",
              "      <td>9.28</td>\n",
              "      <td>15.82</td>\n",
              "    </tr>\n",
              "    <tr>\n",
              "      <th>24</th>\n",
              "      <td>2.34</td>\n",
              "      <td>4.81</td>\n",
              "      <td>9.10</td>\n",
              "    </tr>\n",
              "  </tbody>\n",
              "</table>\n",
              "</div>\n",
              "      <button class=\"colab-df-convert\" onclick=\"convertToInteractive('df-9b6a0696-1d5f-4952-87d4-51d4b83623d3')\"\n",
              "              title=\"Convert this dataframe to an interactive table.\"\n",
              "              style=\"display:none;\">\n",
              "        \n",
              "  <svg xmlns=\"http://www.w3.org/2000/svg\" height=\"24px\"viewBox=\"0 0 24 24\"\n",
              "       width=\"24px\">\n",
              "    <path d=\"M0 0h24v24H0V0z\" fill=\"none\"/>\n",
              "    <path d=\"M18.56 5.44l.94 2.06.94-2.06 2.06-.94-2.06-.94-.94-2.06-.94 2.06-2.06.94zm-11 1L8.5 8.5l.94-2.06 2.06-.94-2.06-.94L8.5 2.5l-.94 2.06-2.06.94zm10 10l.94 2.06.94-2.06 2.06-.94-2.06-.94-.94-2.06-.94 2.06-2.06.94z\"/><path d=\"M17.41 7.96l-1.37-1.37c-.4-.4-.92-.59-1.43-.59-.52 0-1.04.2-1.43.59L10.3 9.45l-7.72 7.72c-.78.78-.78 2.05 0 2.83L4 21.41c.39.39.9.59 1.41.59.51 0 1.02-.2 1.41-.59l7.78-7.78 2.81-2.81c.8-.78.8-2.07 0-2.86zM5.41 20L4 18.59l7.72-7.72 1.47 1.35L5.41 20z\"/>\n",
              "  </svg>\n",
              "      </button>\n",
              "      \n",
              "  <style>\n",
              "    .colab-df-container {\n",
              "      display:flex;\n",
              "      flex-wrap:wrap;\n",
              "      gap: 12px;\n",
              "    }\n",
              "\n",
              "    .colab-df-convert {\n",
              "      background-color: #E8F0FE;\n",
              "      border: none;\n",
              "      border-radius: 50%;\n",
              "      cursor: pointer;\n",
              "      display: none;\n",
              "      fill: #1967D2;\n",
              "      height: 32px;\n",
              "      padding: 0 0 0 0;\n",
              "      width: 32px;\n",
              "    }\n",
              "\n",
              "    .colab-df-convert:hover {\n",
              "      background-color: #E2EBFA;\n",
              "      box-shadow: 0px 1px 2px rgba(60, 64, 67, 0.3), 0px 1px 3px 1px rgba(60, 64, 67, 0.15);\n",
              "      fill: #174EA6;\n",
              "    }\n",
              "\n",
              "    [theme=dark] .colab-df-convert {\n",
              "      background-color: #3B4455;\n",
              "      fill: #D2E3FC;\n",
              "    }\n",
              "\n",
              "    [theme=dark] .colab-df-convert:hover {\n",
              "      background-color: #434B5C;\n",
              "      box-shadow: 0px 1px 3px 1px rgba(0, 0, 0, 0.15);\n",
              "      filter: drop-shadow(0px 1px 2px rgba(0, 0, 0, 0.3));\n",
              "      fill: #FFFFFF;\n",
              "    }\n",
              "  </style>\n",
              "\n",
              "      <script>\n",
              "        const buttonEl =\n",
              "          document.querySelector('#df-9b6a0696-1d5f-4952-87d4-51d4b83623d3 button.colab-df-convert');\n",
              "        buttonEl.style.display =\n",
              "          google.colab.kernel.accessAllowed ? 'block' : 'none';\n",
              "\n",
              "        async function convertToInteractive(key) {\n",
              "          const element = document.querySelector('#df-9b6a0696-1d5f-4952-87d4-51d4b83623d3');\n",
              "          const dataTable =\n",
              "            await google.colab.kernel.invokeFunction('convertToInteractive',\n",
              "                                                     [key], {});\n",
              "          if (!dataTable) return;\n",
              "\n",
              "          const docLinkHtml = 'Like what you see? Visit the ' +\n",
              "            '<a target=\"_blank\" href=https://colab.research.google.com/notebooks/data_table.ipynb>data table notebook</a>'\n",
              "            + ' to learn more about interactive tables.';\n",
              "          element.innerHTML = '';\n",
              "          dataTable['output_type'] = 'display_data';\n",
              "          await google.colab.output.renderOutput(dataTable, element);\n",
              "          const docLink = document.createElement('div');\n",
              "          docLink.innerHTML = docLinkHtml;\n",
              "          element.appendChild(docLink);\n",
              "        }\n",
              "      </script>\n",
              "    </div>\n",
              "  </div>\n",
              "  "
            ]
          },
          "metadata": {},
          "execution_count": 53
        }
      ]
    },
    {
      "cell_type": "code",
      "source": [
        "GWN_separated_pscr = pd.concat([GWN_separate_pscr_90, GWN_separate_pscr_75, GWN_separate_pscr_50], axis=1)\n",
        "GWN_separated_pscr"
      ],
      "metadata": {
        "colab": {
          "base_uri": "https://localhost:8080/",
          "height": 864
        },
        "id": "khQByF2rsFzN",
        "outputId": "59cadf02-a7f9-45b6-f3f8-798c905993ad"
      },
      "execution_count": 56,
      "outputs": [
        {
          "output_type": "execute_result",
          "data": {
            "text/plain": [
              "         GWN_pscr_90  GWN_pscr_75  GWN_pscr_50\n",
              "item_id                                       \n",
              "0           0.315403     0.268284     0.248668\n",
              "1           0.221506     0.316797     0.308511\n",
              "2           0.143769     0.120050     0.097693\n",
              "3           0.531595     0.539255     0.470732\n",
              "4           0.276378     0.179394     0.145331\n",
              "5           0.203007     0.250993     0.124837\n",
              "6           0.433397     0.411024     0.388732\n",
              "7           0.312904     0.198429     0.111343\n",
              "8           0.247239     0.212590     0.172662\n",
              "9           0.127328     0.194014     0.145570\n",
              "10          0.306167     0.195156     0.136621\n",
              "11          0.206005     0.180956     0.195792\n",
              "12          0.297617     0.324419     0.300398\n",
              "13          0.383573     0.315606     0.206439\n",
              "14          0.197436     0.193160     0.251054\n",
              "15          0.102549     0.063103     0.064631\n",
              "16          0.007997     0.115065     0.089099\n",
              "17          0.263326     0.158570     0.116414\n",
              "18          0.230572     0.163438     0.154964\n",
              "19          0.254935     0.154468     0.104972\n",
              "20          0.392584     0.388055     0.361467\n",
              "21          0.141591     0.112719     0.108122\n",
              "22          0.485358     0.412053     0.327170\n",
              "23          0.239453     0.186198     0.190210\n",
              "24          0.244216     0.205359     0.202499"
            ],
            "text/html": [
              "\n",
              "  <div id=\"df-680bc032-4374-479a-84e8-2cd38eff9f79\">\n",
              "    <div class=\"colab-df-container\">\n",
              "      <div>\n",
              "<style scoped>\n",
              "    .dataframe tbody tr th:only-of-type {\n",
              "        vertical-align: middle;\n",
              "    }\n",
              "\n",
              "    .dataframe tbody tr th {\n",
              "        vertical-align: top;\n",
              "    }\n",
              "\n",
              "    .dataframe thead th {\n",
              "        text-align: right;\n",
              "    }\n",
              "</style>\n",
              "<table border=\"1\" class=\"dataframe\">\n",
              "  <thead>\n",
              "    <tr style=\"text-align: right;\">\n",
              "      <th></th>\n",
              "      <th>GWN_pscr_90</th>\n",
              "      <th>GWN_pscr_75</th>\n",
              "      <th>GWN_pscr_50</th>\n",
              "    </tr>\n",
              "    <tr>\n",
              "      <th>item_id</th>\n",
              "      <th></th>\n",
              "      <th></th>\n",
              "      <th></th>\n",
              "    </tr>\n",
              "  </thead>\n",
              "  <tbody>\n",
              "    <tr>\n",
              "      <th>0</th>\n",
              "      <td>0.315403</td>\n",
              "      <td>0.268284</td>\n",
              "      <td>0.248668</td>\n",
              "    </tr>\n",
              "    <tr>\n",
              "      <th>1</th>\n",
              "      <td>0.221506</td>\n",
              "      <td>0.316797</td>\n",
              "      <td>0.308511</td>\n",
              "    </tr>\n",
              "    <tr>\n",
              "      <th>2</th>\n",
              "      <td>0.143769</td>\n",
              "      <td>0.120050</td>\n",
              "      <td>0.097693</td>\n",
              "    </tr>\n",
              "    <tr>\n",
              "      <th>3</th>\n",
              "      <td>0.531595</td>\n",
              "      <td>0.539255</td>\n",
              "      <td>0.470732</td>\n",
              "    </tr>\n",
              "    <tr>\n",
              "      <th>4</th>\n",
              "      <td>0.276378</td>\n",
              "      <td>0.179394</td>\n",
              "      <td>0.145331</td>\n",
              "    </tr>\n",
              "    <tr>\n",
              "      <th>5</th>\n",
              "      <td>0.203007</td>\n",
              "      <td>0.250993</td>\n",
              "      <td>0.124837</td>\n",
              "    </tr>\n",
              "    <tr>\n",
              "      <th>6</th>\n",
              "      <td>0.433397</td>\n",
              "      <td>0.411024</td>\n",
              "      <td>0.388732</td>\n",
              "    </tr>\n",
              "    <tr>\n",
              "      <th>7</th>\n",
              "      <td>0.312904</td>\n",
              "      <td>0.198429</td>\n",
              "      <td>0.111343</td>\n",
              "    </tr>\n",
              "    <tr>\n",
              "      <th>8</th>\n",
              "      <td>0.247239</td>\n",
              "      <td>0.212590</td>\n",
              "      <td>0.172662</td>\n",
              "    </tr>\n",
              "    <tr>\n",
              "      <th>9</th>\n",
              "      <td>0.127328</td>\n",
              "      <td>0.194014</td>\n",
              "      <td>0.145570</td>\n",
              "    </tr>\n",
              "    <tr>\n",
              "      <th>10</th>\n",
              "      <td>0.306167</td>\n",
              "      <td>0.195156</td>\n",
              "      <td>0.136621</td>\n",
              "    </tr>\n",
              "    <tr>\n",
              "      <th>11</th>\n",
              "      <td>0.206005</td>\n",
              "      <td>0.180956</td>\n",
              "      <td>0.195792</td>\n",
              "    </tr>\n",
              "    <tr>\n",
              "      <th>12</th>\n",
              "      <td>0.297617</td>\n",
              "      <td>0.324419</td>\n",
              "      <td>0.300398</td>\n",
              "    </tr>\n",
              "    <tr>\n",
              "      <th>13</th>\n",
              "      <td>0.383573</td>\n",
              "      <td>0.315606</td>\n",
              "      <td>0.206439</td>\n",
              "    </tr>\n",
              "    <tr>\n",
              "      <th>14</th>\n",
              "      <td>0.197436</td>\n",
              "      <td>0.193160</td>\n",
              "      <td>0.251054</td>\n",
              "    </tr>\n",
              "    <tr>\n",
              "      <th>15</th>\n",
              "      <td>0.102549</td>\n",
              "      <td>0.063103</td>\n",
              "      <td>0.064631</td>\n",
              "    </tr>\n",
              "    <tr>\n",
              "      <th>16</th>\n",
              "      <td>0.007997</td>\n",
              "      <td>0.115065</td>\n",
              "      <td>0.089099</td>\n",
              "    </tr>\n",
              "    <tr>\n",
              "      <th>17</th>\n",
              "      <td>0.263326</td>\n",
              "      <td>0.158570</td>\n",
              "      <td>0.116414</td>\n",
              "    </tr>\n",
              "    <tr>\n",
              "      <th>18</th>\n",
              "      <td>0.230572</td>\n",
              "      <td>0.163438</td>\n",
              "      <td>0.154964</td>\n",
              "    </tr>\n",
              "    <tr>\n",
              "      <th>19</th>\n",
              "      <td>0.254935</td>\n",
              "      <td>0.154468</td>\n",
              "      <td>0.104972</td>\n",
              "    </tr>\n",
              "    <tr>\n",
              "      <th>20</th>\n",
              "      <td>0.392584</td>\n",
              "      <td>0.388055</td>\n",
              "      <td>0.361467</td>\n",
              "    </tr>\n",
              "    <tr>\n",
              "      <th>21</th>\n",
              "      <td>0.141591</td>\n",
              "      <td>0.112719</td>\n",
              "      <td>0.108122</td>\n",
              "    </tr>\n",
              "    <tr>\n",
              "      <th>22</th>\n",
              "      <td>0.485358</td>\n",
              "      <td>0.412053</td>\n",
              "      <td>0.327170</td>\n",
              "    </tr>\n",
              "    <tr>\n",
              "      <th>23</th>\n",
              "      <td>0.239453</td>\n",
              "      <td>0.186198</td>\n",
              "      <td>0.190210</td>\n",
              "    </tr>\n",
              "    <tr>\n",
              "      <th>24</th>\n",
              "      <td>0.244216</td>\n",
              "      <td>0.205359</td>\n",
              "      <td>0.202499</td>\n",
              "    </tr>\n",
              "  </tbody>\n",
              "</table>\n",
              "</div>\n",
              "      <button class=\"colab-df-convert\" onclick=\"convertToInteractive('df-680bc032-4374-479a-84e8-2cd38eff9f79')\"\n",
              "              title=\"Convert this dataframe to an interactive table.\"\n",
              "              style=\"display:none;\">\n",
              "        \n",
              "  <svg xmlns=\"http://www.w3.org/2000/svg\" height=\"24px\"viewBox=\"0 0 24 24\"\n",
              "       width=\"24px\">\n",
              "    <path d=\"M0 0h24v24H0V0z\" fill=\"none\"/>\n",
              "    <path d=\"M18.56 5.44l.94 2.06.94-2.06 2.06-.94-2.06-.94-.94-2.06-.94 2.06-2.06.94zm-11 1L8.5 8.5l.94-2.06 2.06-.94-2.06-.94L8.5 2.5l-.94 2.06-2.06.94zm10 10l.94 2.06.94-2.06 2.06-.94-2.06-.94-.94-2.06-.94 2.06-2.06.94z\"/><path d=\"M17.41 7.96l-1.37-1.37c-.4-.4-.92-.59-1.43-.59-.52 0-1.04.2-1.43.59L10.3 9.45l-7.72 7.72c-.78.78-.78 2.05 0 2.83L4 21.41c.39.39.9.59 1.41.59.51 0 1.02-.2 1.41-.59l7.78-7.78 2.81-2.81c.8-.78.8-2.07 0-2.86zM5.41 20L4 18.59l7.72-7.72 1.47 1.35L5.41 20z\"/>\n",
              "  </svg>\n",
              "      </button>\n",
              "      \n",
              "  <style>\n",
              "    .colab-df-container {\n",
              "      display:flex;\n",
              "      flex-wrap:wrap;\n",
              "      gap: 12px;\n",
              "    }\n",
              "\n",
              "    .colab-df-convert {\n",
              "      background-color: #E8F0FE;\n",
              "      border: none;\n",
              "      border-radius: 50%;\n",
              "      cursor: pointer;\n",
              "      display: none;\n",
              "      fill: #1967D2;\n",
              "      height: 32px;\n",
              "      padding: 0 0 0 0;\n",
              "      width: 32px;\n",
              "    }\n",
              "\n",
              "    .colab-df-convert:hover {\n",
              "      background-color: #E2EBFA;\n",
              "      box-shadow: 0px 1px 2px rgba(60, 64, 67, 0.3), 0px 1px 3px 1px rgba(60, 64, 67, 0.15);\n",
              "      fill: #174EA6;\n",
              "    }\n",
              "\n",
              "    [theme=dark] .colab-df-convert {\n",
              "      background-color: #3B4455;\n",
              "      fill: #D2E3FC;\n",
              "    }\n",
              "\n",
              "    [theme=dark] .colab-df-convert:hover {\n",
              "      background-color: #434B5C;\n",
              "      box-shadow: 0px 1px 3px 1px rgba(0, 0, 0, 0.15);\n",
              "      filter: drop-shadow(0px 1px 2px rgba(0, 0, 0, 0.3));\n",
              "      fill: #FFFFFF;\n",
              "    }\n",
              "  </style>\n",
              "\n",
              "      <script>\n",
              "        const buttonEl =\n",
              "          document.querySelector('#df-680bc032-4374-479a-84e8-2cd38eff9f79 button.colab-df-convert');\n",
              "        buttonEl.style.display =\n",
              "          google.colab.kernel.accessAllowed ? 'block' : 'none';\n",
              "\n",
              "        async function convertToInteractive(key) {\n",
              "          const element = document.querySelector('#df-680bc032-4374-479a-84e8-2cd38eff9f79');\n",
              "          const dataTable =\n",
              "            await google.colab.kernel.invokeFunction('convertToInteractive',\n",
              "                                                     [key], {});\n",
              "          if (!dataTable) return;\n",
              "\n",
              "          const docLinkHtml = 'Like what you see? Visit the ' +\n",
              "            '<a target=\"_blank\" href=https://colab.research.google.com/notebooks/data_table.ipynb>data table notebook</a>'\n",
              "            + ' to learn more about interactive tables.';\n",
              "          element.innerHTML = '';\n",
              "          dataTable['output_type'] = 'display_data';\n",
              "          await google.colab.output.renderOutput(dataTable, element);\n",
              "          const docLink = document.createElement('div');\n",
              "          docLink.innerHTML = docLinkHtml;\n",
              "          element.appendChild(docLink);\n",
              "        }\n",
              "      </script>\n",
              "    </div>\n",
              "  </div>\n",
              "  "
            ]
          },
          "metadata": {},
          "execution_count": 56
        }
      ]
    },
    {
      "cell_type": "markdown",
      "source": [
        "# save the results\n",
        "\n",
        "\n",
        "---"
      ],
      "metadata": {
        "id": "t1PKhBZRsNtS"
      }
    },
    {
      "cell_type": "code",
      "source": [
        "GWN_separated_avc.to_csv('/content/drive/MyDrive/M5/GWN_separated_avc.csv')\n",
        "\n",
        "GWN_separated_pscr.to_csv('/content/drive/MyDrive/M5/GWN_separated_pscr.csv')"
      ],
      "metadata": {
        "id": "vR0iUd1TsPWo"
      },
      "execution_count": 55,
      "outputs": []
    }
  ]
}